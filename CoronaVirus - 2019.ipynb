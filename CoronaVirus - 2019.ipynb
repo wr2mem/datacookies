{
 "cells": [
  {
   "cell_type": "markdown",
   "execution_count": null,
   "metadata": {},
   "outputs": [],
   "source": [
    "### Import Libraries and Read Data"
   ]
  },
  {
   "cell_type": "code",
   "execution_count": 55,
   "metadata": {},
   "outputs": [],
   "source": [
    "## Import Libraries\n",
    "import numpy as np\n",
    "import pandas as pd\n",
    "import matplotlib.pyplot as plt\n",
    "from pandas.plotting import register_matplotlib_converters\n",
    "register_matplotlib_converters()\n",
    "#%matplotlib inline\n",
    "import plotly.express as px\n",
    "import plotly.graph_objects as go\n",
    "from plotly.subplots import make_subplots\n",
    "plt.rcParams['figure.figsize'] = [20, 5]\n",
    "from IPython import display\n",
    "from ipywidgets import interact, widgets\n",
    "from scipy import optimize\n",
    "\n",
    "\n",
    "## Read Data for Cases, Deaths and Recoveries\n",
    "ConfirmedCases_raw=pd.read_csv('https://raw.githubusercontent.com/CSSEGISandData/COVID-19/master/csse_covid_19_data/csse_covid_19_time_series/time_series_19-covid-Confirmed.csv')\n",
    "Deaths_raw=pd.read_csv('https://raw.githubusercontent.com/CSSEGISandData/COVID-19/master/csse_covid_19_data/csse_covid_19_time_series/time_series_19-covid-Deaths.csv')\n",
    "Recoveries_raw=pd.read_csv('https://raw.githubusercontent.com/CSSEGISandData/COVID-19/master/csse_covid_19_data/csse_covid_19_time_series/time_series_19-covid-Recovered.csv')"
   ]
  },
  {
   "cell_type": "code",
   "execution_count": 56,
   "metadata": {},
   "outputs": [
    {
     "data": {
      "text/html": "<div>\n<style scoped>\n    .dataframe tbody tr th:only-of-type {\n        vertical-align: middle;\n    }\n\n    .dataframe tbody tr th {\n        vertical-align: top;\n    }\n\n    .dataframe thead th {\n        text-align: right;\n    }\n</style>\n<table border=\"1\" class=\"dataframe\">\n  <thead>\n    <tr style=\"text-align: right;\">\n      <th></th>\n      <th>Province/State</th>\n      <th>Country/Region</th>\n      <th>Lat</th>\n      <th>Long</th>\n      <th>1/22/20</th>\n      <th>1/23/20</th>\n      <th>1/24/20</th>\n      <th>1/25/20</th>\n      <th>1/26/20</th>\n      <th>1/27/20</th>\n      <th>...</th>\n      <th>3/5/20</th>\n      <th>3/6/20</th>\n      <th>3/7/20</th>\n      <th>3/8/20</th>\n      <th>3/9/20</th>\n      <th>3/10/20</th>\n      <th>3/11/20</th>\n      <th>3/12/20</th>\n      <th>3/13/20</th>\n      <th>3/14/20</th>\n    </tr>\n  </thead>\n  <tbody>\n    <tr>\n      <th>0</th>\n      <td>NaN</td>\n      <td>Thailand</td>\n      <td>15.0000</td>\n      <td>101.0000</td>\n      <td>2</td>\n      <td>3</td>\n      <td>5</td>\n      <td>7</td>\n      <td>8</td>\n      <td>8</td>\n      <td>...</td>\n      <td>47</td>\n      <td>48</td>\n      <td>50</td>\n      <td>50</td>\n      <td>50</td>\n      <td>53</td>\n      <td>59</td>\n      <td>70</td>\n      <td>75</td>\n      <td>82</td>\n    </tr>\n    <tr>\n      <th>1</th>\n      <td>NaN</td>\n      <td>Japan</td>\n      <td>36.0000</td>\n      <td>138.0000</td>\n      <td>2</td>\n      <td>1</td>\n      <td>2</td>\n      <td>2</td>\n      <td>4</td>\n      <td>4</td>\n      <td>...</td>\n      <td>360</td>\n      <td>420</td>\n      <td>461</td>\n      <td>502</td>\n      <td>511</td>\n      <td>581</td>\n      <td>639</td>\n      <td>639</td>\n      <td>701</td>\n      <td>773</td>\n    </tr>\n    <tr>\n      <th>2</th>\n      <td>NaN</td>\n      <td>Singapore</td>\n      <td>1.2833</td>\n      <td>103.8333</td>\n      <td>0</td>\n      <td>1</td>\n      <td>3</td>\n      <td>3</td>\n      <td>4</td>\n      <td>5</td>\n      <td>...</td>\n      <td>117</td>\n      <td>130</td>\n      <td>138</td>\n      <td>150</td>\n      <td>150</td>\n      <td>160</td>\n      <td>178</td>\n      <td>178</td>\n      <td>200</td>\n      <td>212</td>\n    </tr>\n    <tr>\n      <th>3</th>\n      <td>NaN</td>\n      <td>Nepal</td>\n      <td>28.1667</td>\n      <td>84.2500</td>\n      <td>0</td>\n      <td>0</td>\n      <td>0</td>\n      <td>1</td>\n      <td>1</td>\n      <td>1</td>\n      <td>...</td>\n      <td>1</td>\n      <td>1</td>\n      <td>1</td>\n      <td>1</td>\n      <td>1</td>\n      <td>1</td>\n      <td>1</td>\n      <td>1</td>\n      <td>1</td>\n      <td>1</td>\n    </tr>\n    <tr>\n      <th>4</th>\n      <td>NaN</td>\n      <td>Malaysia</td>\n      <td>2.5000</td>\n      <td>112.5000</td>\n      <td>0</td>\n      <td>0</td>\n      <td>0</td>\n      <td>3</td>\n      <td>4</td>\n      <td>4</td>\n      <td>...</td>\n      <td>50</td>\n      <td>83</td>\n      <td>93</td>\n      <td>99</td>\n      <td>117</td>\n      <td>129</td>\n      <td>149</td>\n      <td>149</td>\n      <td>197</td>\n      <td>238</td>\n    </tr>\n  </tbody>\n</table>\n<p>5 rows × 57 columns</p>\n</div>",
      "text/plain": "  Province/State Country/Region      Lat      Long  1/22/20  1/23/20  1/24/20  \\\n0            NaN       Thailand  15.0000  101.0000        2        3        5   \n1            NaN          Japan  36.0000  138.0000        2        1        2   \n2            NaN      Singapore   1.2833  103.8333        0        1        3   \n3            NaN          Nepal  28.1667   84.2500        0        0        0   \n4            NaN       Malaysia   2.5000  112.5000        0        0        0   \n\n   1/25/20  1/26/20  1/27/20  ...  3/5/20  3/6/20  3/7/20  3/8/20  3/9/20  \\\n0        7        8        8  ...      47      48      50      50      50   \n1        2        4        4  ...     360     420     461     502     511   \n2        3        4        5  ...     117     130     138     150     150   \n3        1        1        1  ...       1       1       1       1       1   \n4        3        4        4  ...      50      83      93      99     117   \n\n   3/10/20  3/11/20  3/12/20  3/13/20  3/14/20  \n0       53       59       70       75       82  \n1      581      639      639      701      773  \n2      160      178      178      200      212  \n3        1        1        1        1        1  \n4      129      149      149      197      238  \n\n[5 rows x 57 columns]"
     },
     "execution_count": 56,
     "metadata": {},
     "output_type": "execute_result"
    }
   ],
   "source": [
    "ConfirmedCases_raw.head()"
   ]
  },
  {
   "cell_type": "code",
   "execution_count": 57,
   "metadata": {},
   "outputs": [],
   "source": [
    "### Melt the dateframe into the right shape and set index\n",
    "def cleandata(df_raw):\n",
    "    df_cleaned=df_raw.melt(id_vars=['Province/State','Country/Region','Lat','Long'],value_name='Cases',var_name='Date')\n",
    "    df_cleaned=df_cleaned.set_index(['Country/Region','Province/State','Date'])\n",
    "    return df_cleaned \n",
    "\n",
    "### Get Countrywise Data\n",
    "def countrydata(df_cleaned,oldname,newname):\n",
    "    df_country=df_cleaned.groupby(['Country/Region','Date'])['Cases'].sum().reset_index()\n",
    "    df_country=df_country.set_index(['Country/Region','Date'])\n",
    "    df_country.index=df_country.index.set_levels([df_country.index.levels[0], pd.to_datetime(df_country.index.levels[1])])\n",
    "    df_country=df_country.sort_values(['Country/Region','Date'],ascending=True)\n",
    "    df_country=df_country.rename(columns={oldname:newname})\n",
    "    return df_country\n",
    "\n",
    "### Get DailyData from Cumulative sum\n",
    "def dailydata(dfcountry,oldname,newname):\n",
    "    dfcountrydaily=dfcountry.groupby(level=0).diff().fillna(0)\n",
    "    dfcountrydaily=dfcountrydaily.rename(columns={oldname:newname})\n",
    "    return dfcountrydaily"
   ]
  },
  {
   "cell_type": "code",
   "execution_count": 58,
   "metadata": {},
   "outputs": [],
   "source": [
    "# Clean all datasets\n",
    "ConfirmedCases=cleandata(ConfirmedCases_raw)\n",
    "Deaths=cleandata(Deaths_raw)\n",
    "Recoveries=cleandata(Recoveries_raw)"
   ]
  },
  {
   "cell_type": "code",
   "execution_count": 59,
   "metadata": {},
   "outputs": [
    {
     "data": {
      "text/html": "<div>\n<style scoped>\n    .dataframe tbody tr th:only-of-type {\n        vertical-align: middle;\n    }\n\n    .dataframe tbody tr th {\n        vertical-align: top;\n    }\n\n    .dataframe thead th {\n        text-align: right;\n    }\n</style>\n<table border=\"1\" class=\"dataframe\">\n  <thead>\n    <tr style=\"text-align: right;\">\n      <th></th>\n      <th></th>\n      <th></th>\n      <th>Lat</th>\n      <th>Long</th>\n      <th>Cases</th>\n    </tr>\n    <tr>\n      <th>Country/Region</th>\n      <th>Province/State</th>\n      <th>Date</th>\n      <th></th>\n      <th></th>\n      <th></th>\n    </tr>\n  </thead>\n  <tbody>\n    <tr>\n      <th>Thailand</th>\n      <th>NaN</th>\n      <th>1/22/20</th>\n      <td>15.0000</td>\n      <td>101.0000</td>\n      <td>2</td>\n    </tr>\n    <tr>\n      <th>Japan</th>\n      <th>NaN</th>\n      <th>1/22/20</th>\n      <td>36.0000</td>\n      <td>138.0000</td>\n      <td>2</td>\n    </tr>\n    <tr>\n      <th>Singapore</th>\n      <th>NaN</th>\n      <th>1/22/20</th>\n      <td>1.2833</td>\n      <td>103.8333</td>\n      <td>0</td>\n    </tr>\n    <tr>\n      <th>Nepal</th>\n      <th>NaN</th>\n      <th>1/22/20</th>\n      <td>28.1667</td>\n      <td>84.2500</td>\n      <td>0</td>\n    </tr>\n    <tr>\n      <th>Malaysia</th>\n      <th>NaN</th>\n      <th>1/22/20</th>\n      <td>2.5000</td>\n      <td>112.5000</td>\n      <td>0</td>\n    </tr>\n  </tbody>\n</table>\n</div>",
      "text/plain": "                                           Lat      Long  Cases\nCountry/Region Province/State Date                             \nThailand       NaN            1/22/20  15.0000  101.0000      2\nJapan          NaN            1/22/20  36.0000  138.0000      2\nSingapore      NaN            1/22/20   1.2833  103.8333      0\nNepal          NaN            1/22/20  28.1667   84.2500      0\nMalaysia       NaN            1/22/20   2.5000  112.5000      0"
     },
     "execution_count": 59,
     "metadata": {},
     "output_type": "execute_result"
    }
   ],
   "source": [
    "ConfirmedCases.head()"
   ]
  },
  {
   "cell_type": "code",
   "execution_count": 60,
   "metadata": {},
   "outputs": [],
   "source": [
    "# Get countrywise data\n",
    "ConfirmedCasesCountry=countrydata(ConfirmedCases,'Cases','Total Confirmed Cases')\n",
    "DeathsCountry=countrydata(Deaths,'Cases','Total Deaths')\n",
    "RecoveriesCountry=countrydata(Recoveries,'Cases','Total Recoveries')"
   ]
  },
  {
   "cell_type": "code",
   "execution_count": 61,
   "metadata": {},
   "outputs": [],
   "source": [
    "# Get Daily Data\n",
    "NewCasesCountry=dailydata(ConfirmedCasesCountry,'Total Confirmed Cases','Daily New Cases')\n",
    "NewDeathsCountry=dailydata(DeathsCountry,'Total Deaths','Daily New Deaths')\n",
    "NewRecoveriesCountry=dailydata(RecoveriesCountry,'Total Recoveries','Daily New Recoveries')"
   ]
  },
  {
   "cell_type": "code",
   "execution_count": 62,
   "metadata": {},
   "outputs": [],
   "source": [
    "CountryConsolidated=pd.merge(ConfirmedCasesCountry,NewCasesCountry,how='left',left_index=True,right_index=True)\n",
    "CountryConsolidated=pd.merge(CountryConsolidated,NewDeathsCountry,how='left',left_index=True,right_index=True)\n",
    "CountryConsolidated=pd.merge(CountryConsolidated,DeathsCountry,how='left',left_index=True,right_index=True)\n",
    "CountryConsolidated=pd.merge(CountryConsolidated,RecoveriesCountry,how='left',left_index=True,right_index=True)\n",
    "CountryConsolidated=pd.merge(CountryConsolidated,NewRecoveriesCountry,how='left',left_index=True,right_index=True)\n",
    "CountryConsolidated['Active Cases']=CountryConsolidated['Total Confirmed Cases']-CountryConsolidated['Total Deaths']-CountryConsolidated['Total Recoveries']\n",
    "CountryConsolidated['Share of Recoveries - Closed Cases']=np.round(CountryConsolidated['Total Recoveries']/(CountryConsolidated['Total Recoveries']+CountryConsolidated['Total Deaths']),2)\n",
    "CountryConsolidated['Death to Cases Ratio']=np.round(CountryConsolidated['Total Deaths']/CountryConsolidated['Total Confirmed Cases'],3)\n"
   ]
  },
  {
   "cell_type": "code",
   "execution_count": 82,
   "metadata": {},
   "outputs": [
    {
     "data": {
      "text/html": "<div>\n<style scoped>\n    .dataframe tbody tr th:only-of-type {\n        vertical-align: middle;\n    }\n\n    .dataframe tbody tr th {\n        vertical-align: top;\n    }\n\n    .dataframe thead th {\n        text-align: right;\n    }\n</style>\n<table border=\"1\" class=\"dataframe\">\n  <thead>\n    <tr style=\"text-align: right;\">\n      <th></th>\n      <th>Total Confirmed Cases</th>\n      <th>Daily New Cases</th>\n      <th>Daily New Deaths</th>\n      <th>Total Deaths</th>\n      <th>Total Recoveries</th>\n      <th>Daily New Recoveries</th>\n      <th>Active Cases</th>\n      <th>Share of Recoveries - Closed Cases</th>\n      <th>Death to Cases Ratio</th>\n    </tr>\n    <tr>\n      <th>Date</th>\n      <th></th>\n      <th></th>\n      <th></th>\n      <th></th>\n      <th></th>\n      <th></th>\n      <th></th>\n      <th></th>\n      <th></th>\n    </tr>\n  </thead>\n  <tbody>\n    <tr>\n      <th>2020-01-22</th>\n      <td>555</td>\n      <td>0.0</td>\n      <td>0.0</td>\n      <td>17</td>\n      <td>28</td>\n      <td>0.0</td>\n      <td>510</td>\n      <td>0.62</td>\n      <td>0.031</td>\n    </tr>\n    <tr>\n      <th>2020-01-23</th>\n      <td>653</td>\n      <td>98.0</td>\n      <td>1.0</td>\n      <td>18</td>\n      <td>30</td>\n      <td>2.0</td>\n      <td>605</td>\n      <td>0.62</td>\n      <td>0.028</td>\n    </tr>\n    <tr>\n      <th>2020-01-24</th>\n      <td>941</td>\n      <td>288.0</td>\n      <td>8.0</td>\n      <td>26</td>\n      <td>36</td>\n      <td>6.0</td>\n      <td>879</td>\n      <td>0.58</td>\n      <td>0.028</td>\n    </tr>\n    <tr>\n      <th>2020-01-25</th>\n      <td>1434</td>\n      <td>493.0</td>\n      <td>16.0</td>\n      <td>42</td>\n      <td>39</td>\n      <td>3.0</td>\n      <td>1353</td>\n      <td>0.48</td>\n      <td>0.030</td>\n    </tr>\n    <tr>\n      <th>2020-01-26</th>\n      <td>2118</td>\n      <td>684.0</td>\n      <td>14.0</td>\n      <td>56</td>\n      <td>52</td>\n      <td>13.0</td>\n      <td>2010</td>\n      <td>2.47</td>\n      <td>0.027</td>\n    </tr>\n    <tr>\n      <th>2020-01-27</th>\n      <td>2927</td>\n      <td>809.0</td>\n      <td>26.0</td>\n      <td>82</td>\n      <td>61</td>\n      <td>9.0</td>\n      <td>2784</td>\n      <td>2.41</td>\n      <td>0.029</td>\n    </tr>\n    <tr>\n      <th>2020-01-28</th>\n      <td>5578</td>\n      <td>2651.0</td>\n      <td>49.0</td>\n      <td>131</td>\n      <td>107</td>\n      <td>46.0</td>\n      <td>5340</td>\n      <td>2.44</td>\n      <td>0.024</td>\n    </tr>\n    <tr>\n      <th>2020-01-29</th>\n      <td>6166</td>\n      <td>588.0</td>\n      <td>2.0</td>\n      <td>133</td>\n      <td>126</td>\n      <td>19.0</td>\n      <td>5907</td>\n      <td>2.47</td>\n      <td>0.022</td>\n    </tr>\n    <tr>\n      <th>2020-01-30</th>\n      <td>8234</td>\n      <td>2068.0</td>\n      <td>38.0</td>\n      <td>171</td>\n      <td>143</td>\n      <td>17.0</td>\n      <td>7920</td>\n      <td>3.44</td>\n      <td>0.021</td>\n    </tr>\n    <tr>\n      <th>2020-01-31</th>\n      <td>9927</td>\n      <td>1693.0</td>\n      <td>42.0</td>\n      <td>213</td>\n      <td>222</td>\n      <td>79.0</td>\n      <td>9492</td>\n      <td>3.50</td>\n      <td>0.022</td>\n    </tr>\n    <tr>\n      <th>2020-02-01</th>\n      <td>12038</td>\n      <td>2111.0</td>\n      <td>46.0</td>\n      <td>259</td>\n      <td>284</td>\n      <td>62.0</td>\n      <td>11495</td>\n      <td>4.51</td>\n      <td>0.022</td>\n    </tr>\n    <tr>\n      <th>2020-02-02</th>\n      <td>16787</td>\n      <td>4749.0</td>\n      <td>103.0</td>\n      <td>362</td>\n      <td>472</td>\n      <td>188.0</td>\n      <td>15953</td>\n      <td>4.56</td>\n      <td>0.522</td>\n    </tr>\n    <tr>\n      <th>2020-02-03</th>\n      <td>19881</td>\n      <td>3094.0</td>\n      <td>64.0</td>\n      <td>426</td>\n      <td>623</td>\n      <td>151.0</td>\n      <td>18832</td>\n      <td>4.59</td>\n      <td>0.522</td>\n    </tr>\n    <tr>\n      <th>2020-02-04</th>\n      <td>23892</td>\n      <td>4011.0</td>\n      <td>66.0</td>\n      <td>492</td>\n      <td>852</td>\n      <td>229.0</td>\n      <td>22548</td>\n      <td>4.63</td>\n      <td>0.521</td>\n    </tr>\n    <tr>\n      <th>2020-02-05</th>\n      <td>27635</td>\n      <td>3743.0</td>\n      <td>72.0</td>\n      <td>564</td>\n      <td>1124</td>\n      <td>272.0</td>\n      <td>25947</td>\n      <td>4.66</td>\n      <td>0.521</td>\n    </tr>\n    <tr>\n      <th>2020-02-06</th>\n      <td>30817</td>\n      <td>3182.0</td>\n      <td>70.0</td>\n      <td>634</td>\n      <td>1487</td>\n      <td>363.0</td>\n      <td>28696</td>\n      <td>5.70</td>\n      <td>0.521</td>\n    </tr>\n    <tr>\n      <th>2020-02-07</th>\n      <td>34391</td>\n      <td>3574.0</td>\n      <td>85.0</td>\n      <td>719</td>\n      <td>2011</td>\n      <td>524.0</td>\n      <td>31661</td>\n      <td>7.74</td>\n      <td>0.354</td>\n    </tr>\n    <tr>\n      <th>2020-02-08</th>\n      <td>37120</td>\n      <td>2729.0</td>\n      <td>87.0</td>\n      <td>806</td>\n      <td>2616</td>\n      <td>605.0</td>\n      <td>33698</td>\n      <td>9.76</td>\n      <td>0.355</td>\n    </tr>\n    <tr>\n      <th>2020-02-09</th>\n      <td>40150</td>\n      <td>3030.0</td>\n      <td>100.0</td>\n      <td>906</td>\n      <td>3244</td>\n      <td>628.0</td>\n      <td>36000</td>\n      <td>10.78</td>\n      <td>0.356</td>\n    </tr>\n    <tr>\n      <th>2020-02-10</th>\n      <td>42762</td>\n      <td>2612.0</td>\n      <td>107.0</td>\n      <td>1013</td>\n      <td>3946</td>\n      <td>702.0</td>\n      <td>37803</td>\n      <td>10.79</td>\n      <td>0.357</td>\n    </tr>\n    <tr>\n      <th>2020-02-11</th>\n      <td>44802</td>\n      <td>2040.0</td>\n      <td>100.0</td>\n      <td>1113</td>\n      <td>4683</td>\n      <td>737.0</td>\n      <td>39006</td>\n      <td>10.81</td>\n      <td>0.358</td>\n    </tr>\n    <tr>\n      <th>2020-02-12</th>\n      <td>45221</td>\n      <td>419.0</td>\n      <td>5.0</td>\n      <td>1118</td>\n      <td>5150</td>\n      <td>467.0</td>\n      <td>38953</td>\n      <td>19.32</td>\n      <td>0.358</td>\n    </tr>\n    <tr>\n      <th>2020-02-13</th>\n      <td>60368</td>\n      <td>15147.0</td>\n      <td>253.0</td>\n      <td>1371</td>\n      <td>6295</td>\n      <td>1145.0</td>\n      <td>52702</td>\n      <td>20.22</td>\n      <td>0.392</td>\n    </tr>\n    <tr>\n      <th>2020-02-14</th>\n      <td>66885</td>\n      <td>6517.0</td>\n      <td>152.0</td>\n      <td>1523</td>\n      <td>8058</td>\n      <td>1763.0</td>\n      <td>57304</td>\n      <td>20.24</td>\n      <td>0.390</td>\n    </tr>\n    <tr>\n      <th>2020-02-15</th>\n      <td>69030</td>\n      <td>2145.0</td>\n      <td>143.0</td>\n      <td>1666</td>\n      <td>9395</td>\n      <td>1337.0</td>\n      <td>57969</td>\n      <td>21.07</td>\n      <td>0.463</td>\n    </tr>\n    <tr>\n      <th>2020-02-16</th>\n      <td>71224</td>\n      <td>2194.0</td>\n      <td>104.0</td>\n      <td>1770</td>\n      <td>10865</td>\n      <td>1470.0</td>\n      <td>58589</td>\n      <td>21.75</td>\n      <td>0.508</td>\n    </tr>\n    <tr>\n      <th>2020-02-17</th>\n      <td>73258</td>\n      <td>2034.0</td>\n      <td>98.0</td>\n      <td>1868</td>\n      <td>12583</td>\n      <td>1718.0</td>\n      <td>58807</td>\n      <td>22.76</td>\n      <td>0.502</td>\n    </tr>\n    <tr>\n      <th>2020-02-18</th>\n      <td>75136</td>\n      <td>1878.0</td>\n      <td>139.0</td>\n      <td>2007</td>\n      <td>14352</td>\n      <td>1769.0</td>\n      <td>58777</td>\n      <td>22.78</td>\n      <td>0.502</td>\n    </tr>\n    <tr>\n      <th>2020-02-19</th>\n      <td>75639</td>\n      <td>503.0</td>\n      <td>115.0</td>\n      <td>2122</td>\n      <td>16121</td>\n      <td>1769.0</td>\n      <td>57396</td>\n      <td>23.80</td>\n      <td>1.499</td>\n    </tr>\n    <tr>\n      <th>2020-02-20</th>\n      <td>76197</td>\n      <td>558.0</td>\n      <td>125.0</td>\n      <td>2247</td>\n      <td>18177</td>\n      <td>2056.0</td>\n      <td>55773</td>\n      <td>23.08</td>\n      <td>0.912</td>\n    </tr>\n    <tr>\n      <th>2020-02-21</th>\n      <td>76823</td>\n      <td>626.0</td>\n      <td>4.0</td>\n      <td>2251</td>\n      <td>18890</td>\n      <td>713.0</td>\n      <td>55682</td>\n      <td>23.04</td>\n      <td>0.779</td>\n    </tr>\n    <tr>\n      <th>2020-02-22</th>\n      <td>78579</td>\n      <td>1756.0</td>\n      <td>207.0</td>\n      <td>2458</td>\n      <td>22886</td>\n      <td>3996.0</td>\n      <td>53235</td>\n      <td>23.38</td>\n      <td>0.713</td>\n    </tr>\n    <tr>\n      <th>2020-02-23</th>\n      <td>78965</td>\n      <td>386.0</td>\n      <td>11.0</td>\n      <td>2469</td>\n      <td>23394</td>\n      <td>508.0</td>\n      <td>53102</td>\n      <td>22.98</td>\n      <td>0.710</td>\n    </tr>\n    <tr>\n      <th>2020-02-24</th>\n      <td>79568</td>\n      <td>603.0</td>\n      <td>160.0</td>\n      <td>2629</td>\n      <td>25227</td>\n      <td>1833.0</td>\n      <td>51712</td>\n      <td>22.81</td>\n      <td>0.731</td>\n    </tr>\n    <tr>\n      <th>2020-02-25</th>\n      <td>80413</td>\n      <td>845.0</td>\n      <td>79.0</td>\n      <td>2708</td>\n      <td>27905</td>\n      <td>2678.0</td>\n      <td>49800</td>\n      <td>22.90</td>\n      <td>0.689</td>\n    </tr>\n    <tr>\n      <th>2020-02-26</th>\n      <td>81395</td>\n      <td>982.0</td>\n      <td>62.0</td>\n      <td>2770</td>\n      <td>30384</td>\n      <td>2479.0</td>\n      <td>48241</td>\n      <td>24.30</td>\n      <td>0.700</td>\n    </tr>\n    <tr>\n      <th>2020-02-27</th>\n      <td>82754</td>\n      <td>1359.0</td>\n      <td>44.0</td>\n      <td>2814</td>\n      <td>33277</td>\n      <td>2893.0</td>\n      <td>46663</td>\n      <td>25.67</td>\n      <td>0.616</td>\n    </tr>\n    <tr>\n      <th>2020-02-28</th>\n      <td>84120</td>\n      <td>1366.0</td>\n      <td>58.0</td>\n      <td>2872</td>\n      <td>36711</td>\n      <td>3434.0</td>\n      <td>44537</td>\n      <td>26.61</td>\n      <td>0.577</td>\n    </tr>\n    <tr>\n      <th>2020-02-29</th>\n      <td>86011</td>\n      <td>1891.0</td>\n      <td>69.0</td>\n      <td>2941</td>\n      <td>39782</td>\n      <td>3071.0</td>\n      <td>43288</td>\n      <td>27.53</td>\n      <td>0.564</td>\n    </tr>\n    <tr>\n      <th>2020-03-01</th>\n      <td>88369</td>\n      <td>2358.0</td>\n      <td>55.0</td>\n      <td>2996</td>\n      <td>42716</td>\n      <td>2934.0</td>\n      <td>42657</td>\n      <td>27.54</td>\n      <td>0.596</td>\n    </tr>\n    <tr>\n      <th>2020-03-02</th>\n      <td>90306</td>\n      <td>1937.0</td>\n      <td>89.0</td>\n      <td>3085</td>\n      <td>45602</td>\n      <td>2886.0</td>\n      <td>41619</td>\n      <td>27.13</td>\n      <td>0.633</td>\n    </tr>\n    <tr>\n      <th>2020-03-03</th>\n      <td>92840</td>\n      <td>2534.0</td>\n      <td>75.0</td>\n      <td>3160</td>\n      <td>48228</td>\n      <td>2626.0</td>\n      <td>41452</td>\n      <td>28.65</td>\n      <td>0.726</td>\n    </tr>\n    <tr>\n      <th>2020-03-04</th>\n      <td>95120</td>\n      <td>2280.0</td>\n      <td>94.0</td>\n      <td>3254</td>\n      <td>51170</td>\n      <td>2942.0</td>\n      <td>40696</td>\n      <td>30.44</td>\n      <td>0.769</td>\n    </tr>\n    <tr>\n      <th>2020-03-05</th>\n      <td>97882</td>\n      <td>2762.0</td>\n      <td>94.0</td>\n      <td>3348</td>\n      <td>53796</td>\n      <td>2626.0</td>\n      <td>40738</td>\n      <td>29.98</td>\n      <td>0.755</td>\n    </tr>\n    <tr>\n      <th>2020-03-06</th>\n      <td>101784</td>\n      <td>3902.0</td>\n      <td>112.0</td>\n      <td>3460</td>\n      <td>55865</td>\n      <td>2069.0</td>\n      <td>42459</td>\n      <td>32.11</td>\n      <td>0.638</td>\n    </tr>\n    <tr>\n      <th>2020-03-07</th>\n      <td>105821</td>\n      <td>4037.0</td>\n      <td>98.0</td>\n      <td>3558</td>\n      <td>58358</td>\n      <td>2493.0</td>\n      <td>43905</td>\n      <td>32.65</td>\n      <td>0.582</td>\n    </tr>\n    <tr>\n      <th>2020-03-08</th>\n      <td>109795</td>\n      <td>3974.0</td>\n      <td>244.0</td>\n      <td>3802</td>\n      <td>60694</td>\n      <td>2336.0</td>\n      <td>45299</td>\n      <td>34.52</td>\n      <td>0.669</td>\n    </tr>\n    <tr>\n      <th>2020-03-09</th>\n      <td>113561</td>\n      <td>3766.0</td>\n      <td>186.0</td>\n      <td>3988</td>\n      <td>62494</td>\n      <td>1800.0</td>\n      <td>47079</td>\n      <td>38.40</td>\n      <td>0.633</td>\n    </tr>\n    <tr>\n      <th>2020-03-10</th>\n      <td>118592</td>\n      <td>5031.0</td>\n      <td>274.0</td>\n      <td>4262</td>\n      <td>64404</td>\n      <td>1910.0</td>\n      <td>49926</td>\n      <td>41.76</td>\n      <td>0.953</td>\n    </tr>\n    <tr>\n      <th>2020-03-11</th>\n      <td>125865</td>\n      <td>7273.0</td>\n      <td>353.0</td>\n      <td>4615</td>\n      <td>67003</td>\n      <td>2599.0</td>\n      <td>54247</td>\n      <td>41.80</td>\n      <td>1.274</td>\n    </tr>\n    <tr>\n      <th>2020-03-12</th>\n      <td>128343</td>\n      <td>2478.0</td>\n      <td>105.0</td>\n      <td>4720</td>\n      <td>68324</td>\n      <td>1321.0</td>\n      <td>55299</td>\n      <td>43.32</td>\n      <td>2.268</td>\n    </tr>\n    <tr>\n      <th>2020-03-13</th>\n      <td>145193</td>\n      <td>16850.0</td>\n      <td>684.0</td>\n      <td>5404</td>\n      <td>70251</td>\n      <td>1927.0</td>\n      <td>69538</td>\n      <td>46.37</td>\n      <td>3.580</td>\n    </tr>\n    <tr>\n      <th>2020-03-14</th>\n      <td>156102</td>\n      <td>10909.0</td>\n      <td>415.0</td>\n      <td>5819</td>\n      <td>72624</td>\n      <td>2373.0</td>\n      <td>77659</td>\n      <td>49.56</td>\n      <td>3.582</td>\n    </tr>\n  </tbody>\n</table>\n</div>",
      "text/plain": "            Total Confirmed Cases  Daily New Cases  Daily New Deaths  \\\nDate                                                                   \n2020-01-22                    555              0.0               0.0   \n2020-01-23                    653             98.0               1.0   \n2020-01-24                    941            288.0               8.0   \n2020-01-25                   1434            493.0              16.0   \n2020-01-26                   2118            684.0              14.0   \n2020-01-27                   2927            809.0              26.0   \n2020-01-28                   5578           2651.0              49.0   \n2020-01-29                   6166            588.0               2.0   \n2020-01-30                   8234           2068.0              38.0   \n2020-01-31                   9927           1693.0              42.0   \n2020-02-01                  12038           2111.0              46.0   \n2020-02-02                  16787           4749.0             103.0   \n2020-02-03                  19881           3094.0              64.0   \n2020-02-04                  23892           4011.0              66.0   \n2020-02-05                  27635           3743.0              72.0   \n2020-02-06                  30817           3182.0              70.0   \n2020-02-07                  34391           3574.0              85.0   \n2020-02-08                  37120           2729.0              87.0   \n2020-02-09                  40150           3030.0             100.0   \n2020-02-10                  42762           2612.0             107.0   \n2020-02-11                  44802           2040.0             100.0   \n2020-02-12                  45221            419.0               5.0   \n2020-02-13                  60368          15147.0             253.0   \n2020-02-14                  66885           6517.0             152.0   \n2020-02-15                  69030           2145.0             143.0   \n2020-02-16                  71224           2194.0             104.0   \n2020-02-17                  73258           2034.0              98.0   \n2020-02-18                  75136           1878.0             139.0   \n2020-02-19                  75639            503.0             115.0   \n2020-02-20                  76197            558.0             125.0   \n2020-02-21                  76823            626.0               4.0   \n2020-02-22                  78579           1756.0             207.0   \n2020-02-23                  78965            386.0              11.0   \n2020-02-24                  79568            603.0             160.0   \n2020-02-25                  80413            845.0              79.0   \n2020-02-26                  81395            982.0              62.0   \n2020-02-27                  82754           1359.0              44.0   \n2020-02-28                  84120           1366.0              58.0   \n2020-02-29                  86011           1891.0              69.0   \n2020-03-01                  88369           2358.0              55.0   \n2020-03-02                  90306           1937.0              89.0   \n2020-03-03                  92840           2534.0              75.0   \n2020-03-04                  95120           2280.0              94.0   \n2020-03-05                  97882           2762.0              94.0   \n2020-03-06                 101784           3902.0             112.0   \n2020-03-07                 105821           4037.0              98.0   \n2020-03-08                 109795           3974.0             244.0   \n2020-03-09                 113561           3766.0             186.0   \n2020-03-10                 118592           5031.0             274.0   \n2020-03-11                 125865           7273.0             353.0   \n2020-03-12                 128343           2478.0             105.0   \n2020-03-13                 145193          16850.0             684.0   \n2020-03-14                 156102          10909.0             415.0   \n\n            Total Deaths  Total Recoveries  Daily New Recoveries  \\\nDate                                                               \n2020-01-22            17                28                   0.0   \n2020-01-23            18                30                   2.0   \n2020-01-24            26                36                   6.0   \n2020-01-25            42                39                   3.0   \n2020-01-26            56                52                  13.0   \n2020-01-27            82                61                   9.0   \n2020-01-28           131               107                  46.0   \n2020-01-29           133               126                  19.0   \n2020-01-30           171               143                  17.0   \n2020-01-31           213               222                  79.0   \n2020-02-01           259               284                  62.0   \n2020-02-02           362               472                 188.0   \n2020-02-03           426               623                 151.0   \n2020-02-04           492               852                 229.0   \n2020-02-05           564              1124                 272.0   \n2020-02-06           634              1487                 363.0   \n2020-02-07           719              2011                 524.0   \n2020-02-08           806              2616                 605.0   \n2020-02-09           906              3244                 628.0   \n2020-02-10          1013              3946                 702.0   \n2020-02-11          1113              4683                 737.0   \n2020-02-12          1118              5150                 467.0   \n2020-02-13          1371              6295                1145.0   \n2020-02-14          1523              8058                1763.0   \n2020-02-15          1666              9395                1337.0   \n2020-02-16          1770             10865                1470.0   \n2020-02-17          1868             12583                1718.0   \n2020-02-18          2007             14352                1769.0   \n2020-02-19          2122             16121                1769.0   \n2020-02-20          2247             18177                2056.0   \n2020-02-21          2251             18890                 713.0   \n2020-02-22          2458             22886                3996.0   \n2020-02-23          2469             23394                 508.0   \n2020-02-24          2629             25227                1833.0   \n2020-02-25          2708             27905                2678.0   \n2020-02-26          2770             30384                2479.0   \n2020-02-27          2814             33277                2893.0   \n2020-02-28          2872             36711                3434.0   \n2020-02-29          2941             39782                3071.0   \n2020-03-01          2996             42716                2934.0   \n2020-03-02          3085             45602                2886.0   \n2020-03-03          3160             48228                2626.0   \n2020-03-04          3254             51170                2942.0   \n2020-03-05          3348             53796                2626.0   \n2020-03-06          3460             55865                2069.0   \n2020-03-07          3558             58358                2493.0   \n2020-03-08          3802             60694                2336.0   \n2020-03-09          3988             62494                1800.0   \n2020-03-10          4262             64404                1910.0   \n2020-03-11          4615             67003                2599.0   \n2020-03-12          4720             68324                1321.0   \n2020-03-13          5404             70251                1927.0   \n2020-03-14          5819             72624                2373.0   \n\n            Active Cases  Share of Recoveries - Closed Cases  \\\nDate                                                           \n2020-01-22           510                                0.62   \n2020-01-23           605                                0.62   \n2020-01-24           879                                0.58   \n2020-01-25          1353                                0.48   \n2020-01-26          2010                                2.47   \n2020-01-27          2784                                2.41   \n2020-01-28          5340                                2.44   \n2020-01-29          5907                                2.47   \n2020-01-30          7920                                3.44   \n2020-01-31          9492                                3.50   \n2020-02-01         11495                                4.51   \n2020-02-02         15953                                4.56   \n2020-02-03         18832                                4.59   \n2020-02-04         22548                                4.63   \n2020-02-05         25947                                4.66   \n2020-02-06         28696                                5.70   \n2020-02-07         31661                                7.74   \n2020-02-08         33698                                9.76   \n2020-02-09         36000                               10.78   \n2020-02-10         37803                               10.79   \n2020-02-11         39006                               10.81   \n2020-02-12         38953                               19.32   \n2020-02-13         52702                               20.22   \n2020-02-14         57304                               20.24   \n2020-02-15         57969                               21.07   \n2020-02-16         58589                               21.75   \n2020-02-17         58807                               22.76   \n2020-02-18         58777                               22.78   \n2020-02-19         57396                               23.80   \n2020-02-20         55773                               23.08   \n2020-02-21         55682                               23.04   \n2020-02-22         53235                               23.38   \n2020-02-23         53102                               22.98   \n2020-02-24         51712                               22.81   \n2020-02-25         49800                               22.90   \n2020-02-26         48241                               24.30   \n2020-02-27         46663                               25.67   \n2020-02-28         44537                               26.61   \n2020-02-29         43288                               27.53   \n2020-03-01         42657                               27.54   \n2020-03-02         41619                               27.13   \n2020-03-03         41452                               28.65   \n2020-03-04         40696                               30.44   \n2020-03-05         40738                               29.98   \n2020-03-06         42459                               32.11   \n2020-03-07         43905                               32.65   \n2020-03-08         45299                               34.52   \n2020-03-09         47079                               38.40   \n2020-03-10         49926                               41.76   \n2020-03-11         54247                               41.80   \n2020-03-12         55299                               43.32   \n2020-03-13         69538                               46.37   \n2020-03-14         77659                               49.56   \n\n            Death to Cases Ratio  \nDate                              \n2020-01-22                 0.031  \n2020-01-23                 0.028  \n2020-01-24                 0.028  \n2020-01-25                 0.030  \n2020-01-26                 0.027  \n2020-01-27                 0.029  \n2020-01-28                 0.024  \n2020-01-29                 0.022  \n2020-01-30                 0.021  \n2020-01-31                 0.022  \n2020-02-01                 0.022  \n2020-02-02                 0.522  \n2020-02-03                 0.522  \n2020-02-04                 0.521  \n2020-02-05                 0.521  \n2020-02-06                 0.521  \n2020-02-07                 0.354  \n2020-02-08                 0.355  \n2020-02-09                 0.356  \n2020-02-10                 0.357  \n2020-02-11                 0.358  \n2020-02-12                 0.358  \n2020-02-13                 0.392  \n2020-02-14                 0.390  \n2020-02-15                 0.463  \n2020-02-16                 0.508  \n2020-02-17                 0.502  \n2020-02-18                 0.502  \n2020-02-19                 1.499  \n2020-02-20                 0.912  \n2020-02-21                 0.779  \n2020-02-22                 0.713  \n2020-02-23                 0.710  \n2020-02-24                 0.731  \n2020-02-25                 0.689  \n2020-02-26                 0.700  \n2020-02-27                 0.616  \n2020-02-28                 0.577  \n2020-02-29                 0.564  \n2020-03-01                 0.596  \n2020-03-02                 0.633  \n2020-03-03                 0.726  \n2020-03-04                 0.769  \n2020-03-05                 0.755  \n2020-03-06                 0.638  \n2020-03-07                 0.582  \n2020-03-08                 0.669  \n2020-03-09                 0.633  \n2020-03-10                 0.953  \n2020-03-11                 1.274  \n2020-03-12                 2.268  \n2020-03-13                 3.580  \n2020-03-14                 3.582  "
     },
     "execution_count": 82,
     "metadata": {},
     "output_type": "execute_result"
    }
   ],
   "source": [
    "CountryConsolidated.reset_index().groupby('Date').sum()"
   ]
  },
  {
   "cell_type": "code",
   "execution_count": 83,
   "metadata": {},
   "outputs": [
    {
     "data": {
      "text/html": "<div>\n<style scoped>\n    .dataframe tbody tr th:only-of-type {\n        vertical-align: middle;\n    }\n\n    .dataframe tbody tr th {\n        vertical-align: top;\n    }\n\n    .dataframe thead th {\n        text-align: right;\n    }\n</style>\n<table border=\"1\" class=\"dataframe\">\n  <thead>\n    <tr style=\"text-align: right;\">\n      <th></th>\n      <th>Total Confirmed Cases</th>\n      <th>Daily New Cases</th>\n      <th>Daily New Deaths</th>\n      <th>Total Deaths</th>\n      <th>Total Recoveries</th>\n      <th>Daily New Recoveries</th>\n      <th>Active Cases</th>\n      <th>Share of Recoveries - Closed Cases</th>\n      <th>Death to Cases Ratio</th>\n    </tr>\n    <tr>\n      <th>Date</th>\n      <th></th>\n      <th></th>\n      <th></th>\n      <th></th>\n      <th></th>\n      <th></th>\n      <th></th>\n      <th></th>\n      <th></th>\n    </tr>\n  </thead>\n  <tbody>\n    <tr>\n      <th>2020-03-13</th>\n      <td>145193</td>\n      <td>16850.0</td>\n      <td>684.0</td>\n      <td>5404</td>\n      <td>70251</td>\n      <td>1927.0</td>\n      <td>69538</td>\n      <td>0.93</td>\n      <td>0.037</td>\n    </tr>\n    <tr>\n      <th>2020-03-14</th>\n      <td>156102</td>\n      <td>10909.0</td>\n      <td>415.0</td>\n      <td>5819</td>\n      <td>72624</td>\n      <td>2373.0</td>\n      <td>77659</td>\n      <td>0.93</td>\n      <td>0.037</td>\n    </tr>\n  </tbody>\n</table>\n</div>",
      "text/plain": "            Total Confirmed Cases  Daily New Cases  Daily New Deaths  \\\nDate                                                                   \n2020-03-13                 145193          16850.0             684.0   \n2020-03-14                 156102          10909.0             415.0   \n\n            Total Deaths  Total Recoveries  Daily New Recoveries  \\\nDate                                                               \n2020-03-13          5404             70251                1927.0   \n2020-03-14          5819             72624                2373.0   \n\n            Active Cases  Share of Recoveries - Closed Cases  \\\nDate                                                           \n2020-03-13         69538                                0.93   \n2020-03-14         77659                                0.93   \n\n            Death to Cases Ratio  \nDate                              \n2020-03-13                 0.037  \n2020-03-14                 0.037  "
     },
     "execution_count": 83,
     "metadata": {},
     "output_type": "execute_result"
    }
   ],
   "source": [
    "GlobalTotals=CountryConsolidated.reset_index().groupby('Date').sum()\n",
    "GlobalTotals['Share of Recoveries - Closed Cases']=np.round(GlobalTotals['Total Recoveries']/(GlobalTotals['Total Recoveries']+GlobalTotals['Total Deaths']),2)\n",
    "GlobalTotals['Death to Cases Ratio']=np.round(GlobalTotals['Total Deaths']/GlobalTotals['Total Confirmed Cases'],3)\n",
    "GlobalTotals.tail(2)"
   ]
  },
  {
   "cell_type": "markdown",
   "execution_count": null,
   "metadata": {},
   "outputs": [],
   "source": [
    "###  Cases Worldwide by Status: Total Confirmed, Active, Deaths, Recoveries"
   ]
  },
  {
   "cell_type": "code",
   "execution_count": 84,
   "metadata": {},
   "outputs": [
    {
     "data": {
      "text/plain": "Total Confirmed Cases                 156102.000\nDaily New Cases                        10909.000\nDaily New Deaths                         415.000\nTotal Deaths                            5819.000\nTotal Recoveries                       72624.000\nDaily New Recoveries                    2373.000\nActive Cases                           77659.000\nShare of Recoveries - Closed Cases         0.930\nDeath to Cases Ratio                       0.037\nName: 2020-03-14 00:00:00, dtype: float64"
     },
     "execution_count": 84,
     "metadata": {},
     "output_type": "execute_result"
    }
   ],
   "source": [
    "GlobalTotals.iloc[-1]"
   ]
  },
  {
   "cell_type": "code",
   "execution_count": 65,
   "metadata": {},
   "outputs": [],
   "source": [
    "total_death = GlobalTotals.iloc[-1]['Total Deaths']\n",
    "total_recoveries = GlobalTotals.iloc[-1]['Total Recoveries']\n",
    "total_closed = total_death + total_recoveries"
   ]
  },
  {
   "cell_type": "code",
   "execution_count": 66,
   "metadata": {},
   "outputs": [
    {
     "data": {
      "text/plain": "0.0741812526292977"
     },
     "execution_count": 66,
     "metadata": {},
     "output_type": "execute_result"
    }
   ],
   "source": [
    "total_death / total_closed"
   ]
  },
  {
   "cell_type": "code",
   "execution_count": 97,
   "metadata": {},
   "outputs": [],
   "source": [
    "plt.style.use('seaborn-dark')"
   ]
  },
  {
   "cell_type": "code",
   "execution_count": 70,
   "metadata": {},
   "outputs": [
    {
     "data": {
      "application/vnd.plotly.v1+json": {
       "config": {
        "plotlyServerURL": "https://plot.ly"
       },
       "data": [
        {
         "line": {
          "color": "red",
          "width": 2
         },
         "mode": "lines+markers",
         "name": "Confirmed Cases",
         "type": "scatter",
         "x": [
          "2020-01-22T00:00:00",
          "2020-01-23T00:00:00",
          "2020-01-24T00:00:00",
          "2020-01-25T00:00:00",
          "2020-01-26T00:00:00",
          "2020-01-27T00:00:00",
          "2020-01-28T00:00:00",
          "2020-01-29T00:00:00",
          "2020-01-30T00:00:00",
          "2020-01-31T00:00:00",
          "2020-02-01T00:00:00",
          "2020-02-02T00:00:00",
          "2020-02-03T00:00:00",
          "2020-02-04T00:00:00",
          "2020-02-05T00:00:00",
          "2020-02-06T00:00:00",
          "2020-02-07T00:00:00",
          "2020-02-08T00:00:00",
          "2020-02-09T00:00:00",
          "2020-02-10T00:00:00",
          "2020-02-11T00:00:00",
          "2020-02-12T00:00:00",
          "2020-02-13T00:00:00",
          "2020-02-14T00:00:00",
          "2020-02-15T00:00:00",
          "2020-02-16T00:00:00",
          "2020-02-17T00:00:00",
          "2020-02-18T00:00:00",
          "2020-02-19T00:00:00",
          "2020-02-20T00:00:00",
          "2020-02-21T00:00:00",
          "2020-02-22T00:00:00",
          "2020-02-23T00:00:00",
          "2020-02-24T00:00:00",
          "2020-02-25T00:00:00",
          "2020-02-26T00:00:00",
          "2020-02-27T00:00:00",
          "2020-02-28T00:00:00",
          "2020-02-29T00:00:00",
          "2020-03-01T00:00:00",
          "2020-03-02T00:00:00",
          "2020-03-03T00:00:00",
          "2020-03-04T00:00:00",
          "2020-03-05T00:00:00",
          "2020-03-06T00:00:00",
          "2020-03-07T00:00:00",
          "2020-03-08T00:00:00",
          "2020-03-09T00:00:00",
          "2020-03-10T00:00:00",
          "2020-03-11T00:00:00",
          "2020-03-12T00:00:00",
          "2020-03-13T00:00:00",
          "2020-03-14T00:00:00"
         ],
         "xaxis": "x",
         "y": [
          555,
          653,
          941,
          1434,
          2118,
          2927,
          5578,
          6166,
          8234,
          9927,
          12038,
          16787,
          19881,
          23892,
          27635,
          30817,
          34391,
          37120,
          40150,
          42762,
          44802,
          45221,
          60368,
          66885,
          69030,
          71224,
          73258,
          75136,
          75639,
          76197,
          76823,
          78579,
          78965,
          79568,
          80413,
          81395,
          82754,
          84120,
          86011,
          88369,
          90306,
          92840,
          95120,
          97882,
          101784,
          105821,
          109795,
          113561,
          118592,
          125865,
          128343,
          145193,
          156102
         ],
         "yaxis": "y"
        },
        {
         "line": {
          "color": "red",
          "width": 2
         },
         "mode": "lines+markers",
         "name": "Active Cases",
         "type": "scatter",
         "x": [
          "2020-01-22T00:00:00",
          "2020-01-23T00:00:00",
          "2020-01-24T00:00:00",
          "2020-01-25T00:00:00",
          "2020-01-26T00:00:00",
          "2020-01-27T00:00:00",
          "2020-01-28T00:00:00",
          "2020-01-29T00:00:00",
          "2020-01-30T00:00:00",
          "2020-01-31T00:00:00",
          "2020-02-01T00:00:00",
          "2020-02-02T00:00:00",
          "2020-02-03T00:00:00",
          "2020-02-04T00:00:00",
          "2020-02-05T00:00:00",
          "2020-02-06T00:00:00",
          "2020-02-07T00:00:00",
          "2020-02-08T00:00:00",
          "2020-02-09T00:00:00",
          "2020-02-10T00:00:00",
          "2020-02-11T00:00:00",
          "2020-02-12T00:00:00",
          "2020-02-13T00:00:00",
          "2020-02-14T00:00:00",
          "2020-02-15T00:00:00",
          "2020-02-16T00:00:00",
          "2020-02-17T00:00:00",
          "2020-02-18T00:00:00",
          "2020-02-19T00:00:00",
          "2020-02-20T00:00:00",
          "2020-02-21T00:00:00",
          "2020-02-22T00:00:00",
          "2020-02-23T00:00:00",
          "2020-02-24T00:00:00",
          "2020-02-25T00:00:00",
          "2020-02-26T00:00:00",
          "2020-02-27T00:00:00",
          "2020-02-28T00:00:00",
          "2020-02-29T00:00:00",
          "2020-03-01T00:00:00",
          "2020-03-02T00:00:00",
          "2020-03-03T00:00:00",
          "2020-03-04T00:00:00",
          "2020-03-05T00:00:00",
          "2020-03-06T00:00:00",
          "2020-03-07T00:00:00",
          "2020-03-08T00:00:00",
          "2020-03-09T00:00:00",
          "2020-03-10T00:00:00",
          "2020-03-11T00:00:00",
          "2020-03-12T00:00:00",
          "2020-03-13T00:00:00",
          "2020-03-14T00:00:00"
         ],
         "xaxis": "x2",
         "y": [
          510,
          605,
          879,
          1353,
          2010,
          2784,
          5340,
          5907,
          7920,
          9492,
          11495,
          15953,
          18832,
          22548,
          25947,
          28696,
          31661,
          33698,
          36000,
          37803,
          39006,
          38953,
          52702,
          57304,
          57969,
          58589,
          58807,
          58777,
          57396,
          55773,
          55682,
          53235,
          53102,
          51712,
          49800,
          48241,
          46663,
          44537,
          43288,
          42657,
          41619,
          41452,
          40696,
          40738,
          42459,
          43905,
          45299,
          47079,
          49926,
          54247,
          55299,
          69538,
          77659
         ],
         "yaxis": "y2"
        },
        {
         "line": {
          "color": "red",
          "width": 2
         },
         "mode": "lines+markers",
         "name": "Deaths",
         "type": "scatter",
         "x": [
          "2020-01-22T00:00:00",
          "2020-01-23T00:00:00",
          "2020-01-24T00:00:00",
          "2020-01-25T00:00:00",
          "2020-01-26T00:00:00",
          "2020-01-27T00:00:00",
          "2020-01-28T00:00:00",
          "2020-01-29T00:00:00",
          "2020-01-30T00:00:00",
          "2020-01-31T00:00:00",
          "2020-02-01T00:00:00",
          "2020-02-02T00:00:00",
          "2020-02-03T00:00:00",
          "2020-02-04T00:00:00",
          "2020-02-05T00:00:00",
          "2020-02-06T00:00:00",
          "2020-02-07T00:00:00",
          "2020-02-08T00:00:00",
          "2020-02-09T00:00:00",
          "2020-02-10T00:00:00",
          "2020-02-11T00:00:00",
          "2020-02-12T00:00:00",
          "2020-02-13T00:00:00",
          "2020-02-14T00:00:00",
          "2020-02-15T00:00:00",
          "2020-02-16T00:00:00",
          "2020-02-17T00:00:00",
          "2020-02-18T00:00:00",
          "2020-02-19T00:00:00",
          "2020-02-20T00:00:00",
          "2020-02-21T00:00:00",
          "2020-02-22T00:00:00",
          "2020-02-23T00:00:00",
          "2020-02-24T00:00:00",
          "2020-02-25T00:00:00",
          "2020-02-26T00:00:00",
          "2020-02-27T00:00:00",
          "2020-02-28T00:00:00",
          "2020-02-29T00:00:00",
          "2020-03-01T00:00:00",
          "2020-03-02T00:00:00",
          "2020-03-03T00:00:00",
          "2020-03-04T00:00:00",
          "2020-03-05T00:00:00",
          "2020-03-06T00:00:00",
          "2020-03-07T00:00:00",
          "2020-03-08T00:00:00",
          "2020-03-09T00:00:00",
          "2020-03-10T00:00:00",
          "2020-03-11T00:00:00",
          "2020-03-12T00:00:00",
          "2020-03-13T00:00:00",
          "2020-03-14T00:00:00"
         ],
         "xaxis": "x3",
         "y": [
          17,
          18,
          26,
          42,
          56,
          82,
          131,
          133,
          171,
          213,
          259,
          362,
          426,
          492,
          564,
          634,
          719,
          806,
          906,
          1013,
          1113,
          1118,
          1371,
          1523,
          1666,
          1770,
          1868,
          2007,
          2122,
          2247,
          2251,
          2458,
          2469,
          2629,
          2708,
          2770,
          2814,
          2872,
          2941,
          2996,
          3085,
          3160,
          3254,
          3348,
          3460,
          3558,
          3802,
          3988,
          4262,
          4615,
          4720,
          5404,
          5819
         ],
         "yaxis": "y3"
        },
        {
         "line": {
          "color": "red",
          "width": 2
         },
         "mode": "lines+markers",
         "name": "Recoveries",
         "type": "scatter",
         "x": [
          "2020-01-22T00:00:00",
          "2020-01-23T00:00:00",
          "2020-01-24T00:00:00",
          "2020-01-25T00:00:00",
          "2020-01-26T00:00:00",
          "2020-01-27T00:00:00",
          "2020-01-28T00:00:00",
          "2020-01-29T00:00:00",
          "2020-01-30T00:00:00",
          "2020-01-31T00:00:00",
          "2020-02-01T00:00:00",
          "2020-02-02T00:00:00",
          "2020-02-03T00:00:00",
          "2020-02-04T00:00:00",
          "2020-02-05T00:00:00",
          "2020-02-06T00:00:00",
          "2020-02-07T00:00:00",
          "2020-02-08T00:00:00",
          "2020-02-09T00:00:00",
          "2020-02-10T00:00:00",
          "2020-02-11T00:00:00",
          "2020-02-12T00:00:00",
          "2020-02-13T00:00:00",
          "2020-02-14T00:00:00",
          "2020-02-15T00:00:00",
          "2020-02-16T00:00:00",
          "2020-02-17T00:00:00",
          "2020-02-18T00:00:00",
          "2020-02-19T00:00:00",
          "2020-02-20T00:00:00",
          "2020-02-21T00:00:00",
          "2020-02-22T00:00:00",
          "2020-02-23T00:00:00",
          "2020-02-24T00:00:00",
          "2020-02-25T00:00:00",
          "2020-02-26T00:00:00",
          "2020-02-27T00:00:00",
          "2020-02-28T00:00:00",
          "2020-02-29T00:00:00",
          "2020-03-01T00:00:00",
          "2020-03-02T00:00:00",
          "2020-03-03T00:00:00",
          "2020-03-04T00:00:00",
          "2020-03-05T00:00:00",
          "2020-03-06T00:00:00",
          "2020-03-07T00:00:00",
          "2020-03-08T00:00:00",
          "2020-03-09T00:00:00",
          "2020-03-10T00:00:00",
          "2020-03-11T00:00:00",
          "2020-03-12T00:00:00",
          "2020-03-13T00:00:00",
          "2020-03-14T00:00:00"
         ],
         "xaxis": "x4",
         "y": [
          28,
          30,
          36,
          39,
          52,
          61,
          107,
          126,
          143,
          222,
          284,
          472,
          623,
          852,
          1124,
          1487,
          2011,
          2616,
          3244,
          3946,
          4683,
          5150,
          6295,
          8058,
          9395,
          10865,
          12583,
          14352,
          16121,
          18177,
          18890,
          22886,
          23394,
          25227,
          27905,
          30384,
          33277,
          36711,
          39782,
          42716,
          45602,
          48228,
          51170,
          53796,
          55865,
          58358,
          60694,
          62494,
          64404,
          67003,
          68324,
          70251,
          72624
         ],
         "yaxis": "y4"
        },
        {
         "line": {
          "color": "red",
          "width": 2
         },
         "mode": "lines+markers",
         "type": "scatter",
         "x": [
          "2020-01-22T00:00:00",
          "2020-01-23T00:00:00",
          "2020-01-24T00:00:00",
          "2020-01-25T00:00:00",
          "2020-01-26T00:00:00",
          "2020-01-27T00:00:00",
          "2020-01-28T00:00:00",
          "2020-01-29T00:00:00",
          "2020-01-30T00:00:00",
          "2020-01-31T00:00:00",
          "2020-02-01T00:00:00",
          "2020-02-02T00:00:00",
          "2020-02-03T00:00:00",
          "2020-02-04T00:00:00",
          "2020-02-05T00:00:00",
          "2020-02-06T00:00:00",
          "2020-02-07T00:00:00",
          "2020-02-08T00:00:00",
          "2020-02-09T00:00:00",
          "2020-02-10T00:00:00",
          "2020-02-11T00:00:00",
          "2020-02-12T00:00:00",
          "2020-02-13T00:00:00",
          "2020-02-14T00:00:00",
          "2020-02-15T00:00:00",
          "2020-02-16T00:00:00",
          "2020-02-17T00:00:00",
          "2020-02-18T00:00:00",
          "2020-02-19T00:00:00",
          "2020-02-20T00:00:00",
          "2020-02-21T00:00:00",
          "2020-02-22T00:00:00",
          "2020-02-23T00:00:00",
          "2020-02-24T00:00:00",
          "2020-02-25T00:00:00",
          "2020-02-26T00:00:00",
          "2020-02-27T00:00:00",
          "2020-02-28T00:00:00",
          "2020-02-29T00:00:00",
          "2020-03-01T00:00:00",
          "2020-03-02T00:00:00",
          "2020-03-03T00:00:00",
          "2020-03-04T00:00:00",
          "2020-03-05T00:00:00",
          "2020-03-06T00:00:00",
          "2020-03-07T00:00:00",
          "2020-03-08T00:00:00",
          "2020-03-09T00:00:00",
          "2020-03-10T00:00:00",
          "2020-03-11T00:00:00",
          "2020-03-12T00:00:00",
          "2020-03-13T00:00:00",
          "2020-03-14T00:00:00"
         ],
         "xaxis": "x5",
         "y": [
          0.031,
          0.028,
          0.028,
          0.029,
          0.026,
          0.028,
          0.023,
          0.022,
          0.021,
          0.021,
          0.022,
          0.022,
          0.021,
          0.021,
          0.02,
          0.021,
          0.021,
          0.022,
          0.023,
          0.024,
          0.025,
          0.025,
          0.023,
          0.023,
          0.024,
          0.025,
          0.025,
          0.027,
          0.028,
          0.029,
          0.029,
          0.031,
          0.031,
          0.033,
          0.034,
          0.034,
          0.034,
          0.034,
          0.034,
          0.034,
          0.034,
          0.034,
          0.034,
          0.034,
          0.034,
          0.034,
          0.035,
          0.035,
          0.036,
          0.037,
          0.037,
          0.037,
          0.037
         ],
         "yaxis": "y5"
        }
       ],
       "layout": {
        "annotations": [
         {
          "font": {
           "size": 16
          },
          "showarrow": false,
          "text": "Total Confirmed Cases",
          "x": 0.225,
          "xanchor": "center",
          "xref": "paper",
          "y": 1,
          "yanchor": "bottom",
          "yref": "paper"
         },
         {
          "font": {
           "size": 16
          },
          "showarrow": false,
          "text": "Active Cases",
          "x": 0.775,
          "xanchor": "center",
          "xref": "paper",
          "y": 1,
          "yanchor": "bottom",
          "yref": "paper"
         },
         {
          "font": {
           "size": 16
          },
          "showarrow": false,
          "text": "Deaths",
          "x": 0.225,
          "xanchor": "center",
          "xref": "paper",
          "y": 0.6111111111111112,
          "yanchor": "bottom",
          "yref": "paper"
         },
         {
          "font": {
           "size": 16
          },
          "showarrow": false,
          "text": "Recoveries",
          "x": 0.775,
          "xanchor": "center",
          "xref": "paper",
          "y": 0.6111111111111112,
          "yanchor": "bottom",
          "yref": "paper"
         },
         {
          "font": {
           "size": 16
          },
          "showarrow": false,
          "text": "Death to Cases Ratio",
          "x": 0.5,
          "xanchor": "center",
          "xref": "paper",
          "y": 0.22222222222222224,
          "yanchor": "bottom",
          "yref": "paper"
         }
        ],
        "showlegend": false,
        "template": {
         "data": {
          "bar": [
           {
            "error_x": {
             "color": "#2a3f5f"
            },
            "error_y": {
             "color": "#2a3f5f"
            },
            "marker": {
             "line": {
              "color": "#E5ECF6",
              "width": 0.5
             }
            },
            "type": "bar"
           }
          ],
          "barpolar": [
           {
            "marker": {
             "line": {
              "color": "#E5ECF6",
              "width": 0.5
             }
            },
            "type": "barpolar"
           }
          ],
          "carpet": [
           {
            "aaxis": {
             "endlinecolor": "#2a3f5f",
             "gridcolor": "white",
             "linecolor": "white",
             "minorgridcolor": "white",
             "startlinecolor": "#2a3f5f"
            },
            "baxis": {
             "endlinecolor": "#2a3f5f",
             "gridcolor": "white",
             "linecolor": "white",
             "minorgridcolor": "white",
             "startlinecolor": "#2a3f5f"
            },
            "type": "carpet"
           }
          ],
          "choropleth": [
           {
            "colorbar": {
             "outlinewidth": 0,
             "ticks": ""
            },
            "type": "choropleth"
           }
          ],
          "contour": [
           {
            "colorbar": {
             "outlinewidth": 0,
             "ticks": ""
            },
            "colorscale": [
             [
              0,
              "#0d0887"
             ],
             [
              0.1111111111111111,
              "#46039f"
             ],
             [
              0.2222222222222222,
              "#7201a8"
             ],
             [
              0.3333333333333333,
              "#9c179e"
             ],
             [
              0.4444444444444444,
              "#bd3786"
             ],
             [
              0.5555555555555556,
              "#d8576b"
             ],
             [
              0.6666666666666666,
              "#ed7953"
             ],
             [
              0.7777777777777778,
              "#fb9f3a"
             ],
             [
              0.8888888888888888,
              "#fdca26"
             ],
             [
              1,
              "#f0f921"
             ]
            ],
            "type": "contour"
           }
          ],
          "contourcarpet": [
           {
            "colorbar": {
             "outlinewidth": 0,
             "ticks": ""
            },
            "type": "contourcarpet"
           }
          ],
          "heatmap": [
           {
            "colorbar": {
             "outlinewidth": 0,
             "ticks": ""
            },
            "colorscale": [
             [
              0,
              "#0d0887"
             ],
             [
              0.1111111111111111,
              "#46039f"
             ],
             [
              0.2222222222222222,
              "#7201a8"
             ],
             [
              0.3333333333333333,
              "#9c179e"
             ],
             [
              0.4444444444444444,
              "#bd3786"
             ],
             [
              0.5555555555555556,
              "#d8576b"
             ],
             [
              0.6666666666666666,
              "#ed7953"
             ],
             [
              0.7777777777777778,
              "#fb9f3a"
             ],
             [
              0.8888888888888888,
              "#fdca26"
             ],
             [
              1,
              "#f0f921"
             ]
            ],
            "type": "heatmap"
           }
          ],
          "heatmapgl": [
           {
            "colorbar": {
             "outlinewidth": 0,
             "ticks": ""
            },
            "colorscale": [
             [
              0,
              "#0d0887"
             ],
             [
              0.1111111111111111,
              "#46039f"
             ],
             [
              0.2222222222222222,
              "#7201a8"
             ],
             [
              0.3333333333333333,
              "#9c179e"
             ],
             [
              0.4444444444444444,
              "#bd3786"
             ],
             [
              0.5555555555555556,
              "#d8576b"
             ],
             [
              0.6666666666666666,
              "#ed7953"
             ],
             [
              0.7777777777777778,
              "#fb9f3a"
             ],
             [
              0.8888888888888888,
              "#fdca26"
             ],
             [
              1,
              "#f0f921"
             ]
            ],
            "type": "heatmapgl"
           }
          ],
          "histogram": [
           {
            "marker": {
             "colorbar": {
              "outlinewidth": 0,
              "ticks": ""
             }
            },
            "type": "histogram"
           }
          ],
          "histogram2d": [
           {
            "colorbar": {
             "outlinewidth": 0,
             "ticks": ""
            },
            "colorscale": [
             [
              0,
              "#0d0887"
             ],
             [
              0.1111111111111111,
              "#46039f"
             ],
             [
              0.2222222222222222,
              "#7201a8"
             ],
             [
              0.3333333333333333,
              "#9c179e"
             ],
             [
              0.4444444444444444,
              "#bd3786"
             ],
             [
              0.5555555555555556,
              "#d8576b"
             ],
             [
              0.6666666666666666,
              "#ed7953"
             ],
             [
              0.7777777777777778,
              "#fb9f3a"
             ],
             [
              0.8888888888888888,
              "#fdca26"
             ],
             [
              1,
              "#f0f921"
             ]
            ],
            "type": "histogram2d"
           }
          ],
          "histogram2dcontour": [
           {
            "colorbar": {
             "outlinewidth": 0,
             "ticks": ""
            },
            "colorscale": [
             [
              0,
              "#0d0887"
             ],
             [
              0.1111111111111111,
              "#46039f"
             ],
             [
              0.2222222222222222,
              "#7201a8"
             ],
             [
              0.3333333333333333,
              "#9c179e"
             ],
             [
              0.4444444444444444,
              "#bd3786"
             ],
             [
              0.5555555555555556,
              "#d8576b"
             ],
             [
              0.6666666666666666,
              "#ed7953"
             ],
             [
              0.7777777777777778,
              "#fb9f3a"
             ],
             [
              0.8888888888888888,
              "#fdca26"
             ],
             [
              1,
              "#f0f921"
             ]
            ],
            "type": "histogram2dcontour"
           }
          ],
          "mesh3d": [
           {
            "colorbar": {
             "outlinewidth": 0,
             "ticks": ""
            },
            "type": "mesh3d"
           }
          ],
          "parcoords": [
           {
            "line": {
             "colorbar": {
              "outlinewidth": 0,
              "ticks": ""
             }
            },
            "type": "parcoords"
           }
          ],
          "pie": [
           {
            "automargin": true,
            "type": "pie"
           }
          ],
          "scatter": [
           {
            "marker": {
             "colorbar": {
              "outlinewidth": 0,
              "ticks": ""
             }
            },
            "type": "scatter"
           }
          ],
          "scatter3d": [
           {
            "line": {
             "colorbar": {
              "outlinewidth": 0,
              "ticks": ""
             }
            },
            "marker": {
             "colorbar": {
              "outlinewidth": 0,
              "ticks": ""
             }
            },
            "type": "scatter3d"
           }
          ],
          "scattercarpet": [
           {
            "marker": {
             "colorbar": {
              "outlinewidth": 0,
              "ticks": ""
             }
            },
            "type": "scattercarpet"
           }
          ],
          "scattergeo": [
           {
            "marker": {
             "colorbar": {
              "outlinewidth": 0,
              "ticks": ""
             }
            },
            "type": "scattergeo"
           }
          ],
          "scattergl": [
           {
            "marker": {
             "colorbar": {
              "outlinewidth": 0,
              "ticks": ""
             }
            },
            "type": "scattergl"
           }
          ],
          "scattermapbox": [
           {
            "marker": {
             "colorbar": {
              "outlinewidth": 0,
              "ticks": ""
             }
            },
            "type": "scattermapbox"
           }
          ],
          "scatterpolar": [
           {
            "marker": {
             "colorbar": {
              "outlinewidth": 0,
              "ticks": ""
             }
            },
            "type": "scatterpolar"
           }
          ],
          "scatterpolargl": [
           {
            "marker": {
             "colorbar": {
              "outlinewidth": 0,
              "ticks": ""
             }
            },
            "type": "scatterpolargl"
           }
          ],
          "scatterternary": [
           {
            "marker": {
             "colorbar": {
              "outlinewidth": 0,
              "ticks": ""
             }
            },
            "type": "scatterternary"
           }
          ],
          "surface": [
           {
            "colorbar": {
             "outlinewidth": 0,
             "ticks": ""
            },
            "colorscale": [
             [
              0,
              "#0d0887"
             ],
             [
              0.1111111111111111,
              "#46039f"
             ],
             [
              0.2222222222222222,
              "#7201a8"
             ],
             [
              0.3333333333333333,
              "#9c179e"
             ],
             [
              0.4444444444444444,
              "#bd3786"
             ],
             [
              0.5555555555555556,
              "#d8576b"
             ],
             [
              0.6666666666666666,
              "#ed7953"
             ],
             [
              0.7777777777777778,
              "#fb9f3a"
             ],
             [
              0.8888888888888888,
              "#fdca26"
             ],
             [
              1,
              "#f0f921"
             ]
            ],
            "type": "surface"
           }
          ],
          "table": [
           {
            "cells": {
             "fill": {
              "color": "#EBF0F8"
             },
             "line": {
              "color": "white"
             }
            },
            "header": {
             "fill": {
              "color": "#C8D4E3"
             },
             "line": {
              "color": "white"
             }
            },
            "type": "table"
           }
          ]
         },
         "layout": {
          "annotationdefaults": {
           "arrowcolor": "#2a3f5f",
           "arrowhead": 0,
           "arrowwidth": 1
          },
          "coloraxis": {
           "colorbar": {
            "outlinewidth": 0,
            "ticks": ""
           }
          },
          "colorscale": {
           "diverging": [
            [
             0,
             "#8e0152"
            ],
            [
             0.1,
             "#c51b7d"
            ],
            [
             0.2,
             "#de77ae"
            ],
            [
             0.3,
             "#f1b6da"
            ],
            [
             0.4,
             "#fde0ef"
            ],
            [
             0.5,
             "#f7f7f7"
            ],
            [
             0.6,
             "#e6f5d0"
            ],
            [
             0.7,
             "#b8e186"
            ],
            [
             0.8,
             "#7fbc41"
            ],
            [
             0.9,
             "#4d9221"
            ],
            [
             1,
             "#276419"
            ]
           ],
           "sequential": [
            [
             0,
             "#0d0887"
            ],
            [
             0.1111111111111111,
             "#46039f"
            ],
            [
             0.2222222222222222,
             "#7201a8"
            ],
            [
             0.3333333333333333,
             "#9c179e"
            ],
            [
             0.4444444444444444,
             "#bd3786"
            ],
            [
             0.5555555555555556,
             "#d8576b"
            ],
            [
             0.6666666666666666,
             "#ed7953"
            ],
            [
             0.7777777777777778,
             "#fb9f3a"
            ],
            [
             0.8888888888888888,
             "#fdca26"
            ],
            [
             1,
             "#f0f921"
            ]
           ],
           "sequentialminus": [
            [
             0,
             "#0d0887"
            ],
            [
             0.1111111111111111,
             "#46039f"
            ],
            [
             0.2222222222222222,
             "#7201a8"
            ],
            [
             0.3333333333333333,
             "#9c179e"
            ],
            [
             0.4444444444444444,
             "#bd3786"
            ],
            [
             0.5555555555555556,
             "#d8576b"
            ],
            [
             0.6666666666666666,
             "#ed7953"
            ],
            [
             0.7777777777777778,
             "#fb9f3a"
            ],
            [
             0.8888888888888888,
             "#fdca26"
            ],
            [
             1,
             "#f0f921"
            ]
           ]
          },
          "colorway": [
           "#636efa",
           "#EF553B",
           "#00cc96",
           "#ab63fa",
           "#FFA15A",
           "#19d3f3",
           "#FF6692",
           "#B6E880",
           "#FF97FF",
           "#FECB52"
          ],
          "font": {
           "color": "#2a3f5f"
          },
          "geo": {
           "bgcolor": "white",
           "lakecolor": "white",
           "landcolor": "#E5ECF6",
           "showlakes": true,
           "showland": true,
           "subunitcolor": "white"
          },
          "hoverlabel": {
           "align": "left"
          },
          "hovermode": "closest",
          "mapbox": {
           "style": "light"
          },
          "paper_bgcolor": "white",
          "plot_bgcolor": "#E5ECF6",
          "polar": {
           "angularaxis": {
            "gridcolor": "white",
            "linecolor": "white",
            "ticks": ""
           },
           "bgcolor": "#E5ECF6",
           "radialaxis": {
            "gridcolor": "white",
            "linecolor": "white",
            "ticks": ""
           }
          },
          "scene": {
           "xaxis": {
            "backgroundcolor": "#E5ECF6",
            "gridcolor": "white",
            "gridwidth": 2,
            "linecolor": "white",
            "showbackground": true,
            "ticks": "",
            "zerolinecolor": "white"
           },
           "yaxis": {
            "backgroundcolor": "#E5ECF6",
            "gridcolor": "white",
            "gridwidth": 2,
            "linecolor": "white",
            "showbackground": true,
            "ticks": "",
            "zerolinecolor": "white"
           },
           "zaxis": {
            "backgroundcolor": "#E5ECF6",
            "gridcolor": "white",
            "gridwidth": 2,
            "linecolor": "white",
            "showbackground": true,
            "ticks": "",
            "zerolinecolor": "white"
           }
          },
          "shapedefaults": {
           "line": {
            "color": "#2a3f5f"
           }
          },
          "ternary": {
           "aaxis": {
            "gridcolor": "white",
            "linecolor": "white",
            "ticks": ""
           },
           "baxis": {
            "gridcolor": "white",
            "linecolor": "white",
            "ticks": ""
           },
           "bgcolor": "#E5ECF6",
           "caxis": {
            "gridcolor": "white",
            "linecolor": "white",
            "ticks": ""
           }
          },
          "title": {
           "x": 0.05
          },
          "xaxis": {
           "automargin": true,
           "gridcolor": "white",
           "linecolor": "white",
           "ticks": "",
           "title": {
            "standoff": 15
           },
           "zerolinecolor": "white",
           "zerolinewidth": 2
          },
          "yaxis": {
           "automargin": true,
           "gridcolor": "white",
           "linecolor": "white",
           "ticks": "",
           "title": {
            "standoff": 15
           },
           "zerolinecolor": "white",
           "zerolinewidth": 2
          }
         }
        },
        "xaxis": {
         "anchor": "y",
         "domain": [
          0,
          0.45
         ],
         "matches": "x3",
         "showticklabels": false
        },
        "xaxis2": {
         "anchor": "y2",
         "domain": [
          0.55,
          1
         ],
         "matches": "x4",
         "showticklabels": false
        },
        "xaxis3": {
         "anchor": "y3",
         "domain": [
          0,
          0.45
         ]
        },
        "xaxis4": {
         "anchor": "y4",
         "domain": [
          0.55,
          1
         ]
        },
        "xaxis5": {
         "anchor": "y5",
         "domain": [
          0,
          1
         ]
        },
        "yaxis": {
         "anchor": "x",
         "domain": [
          0.7777777777777778,
          1
         ]
        },
        "yaxis2": {
         "anchor": "x2",
         "domain": [
          0.7777777777777778,
          1
         ]
        },
        "yaxis3": {
         "anchor": "x3",
         "domain": [
          0.3888888888888889,
          0.6111111111111112
         ]
        },
        "yaxis4": {
         "anchor": "x4",
         "domain": [
          0.3888888888888889,
          0.6111111111111112
         ]
        },
        "yaxis5": {
         "anchor": "x5",
         "domain": [
          0,
          0.22222222222222224
         ]
        }
       }
      }
     },
     "metadata": {},
     "output_type": "display_data"
    }
   ],
   "source": [
    "chartcol='red'\n",
    "fig = make_subplots(rows=3, cols=2,shared_xaxes=True,\n",
    "                    specs=[[{}, {}],[{},{}],\n",
    "                       [{\"colspan\": 2}, None]],\n",
    "                    subplot_titles=('Total Confirmed Cases','Active Cases','Deaths','Recoveries','Death to Cases Ratio'))\n",
    "fig.add_trace(go.Scatter(x=GlobalTotals.index,y=GlobalTotals['Total Confirmed Cases'],\n",
    "                         mode='lines+markers',\n",
    "                         name='Confirmed Cases',\n",
    "                         line=dict(color=chartcol,width=2)),\n",
    "                         row=1,col=1)\n",
    "fig.add_trace(go.Scatter(x=GlobalTotals.index,y=GlobalTotals['Active Cases'],\n",
    "                         mode='lines+markers',\n",
    "                         name='Active Cases',\n",
    "                         line=dict(color=chartcol,width=2)),\n",
    "                         row=1,col=2)\n",
    "fig.add_trace(go.Scatter(x=GlobalTotals.index,y=GlobalTotals['Total Deaths'],\n",
    "                         mode='lines+markers',\n",
    "                         name='Deaths',\n",
    "                         line=dict(color=chartcol,width=2)),\n",
    "                         row=2,col=1)\n",
    "fig.add_trace(go.Scatter(x=GlobalTotals.index,y=GlobalTotals['Total Recoveries'],\n",
    "                         mode='lines+markers',\n",
    "                         name='Recoveries',\n",
    "                         line=dict(color=chartcol,width=2)),\n",
    "                         row=2,col=2)\n",
    "fig.add_trace(go.Scatter(x=GlobalTotals.index,y=GlobalTotals['Death to Cases Ratio'],\n",
    "                         mode='lines+markers',\n",
    "                         line=dict(color=chartcol,width=2)),\n",
    "                         row=3,col=1)\n",
    "fig.update_layout(showlegend=False)"
   ]
  },
  {
   "cell_type": "markdown",
   "execution_count": null,
   "metadata": {},
   "outputs": [],
   "source": [
    "### Cases by Region (Inside or Outside China)"
   ]
  },
  {
   "cell_type": "code",
   "execution_count": 85,
   "metadata": {},
   "outputs": [
    {
     "data": {
      "text/html": "<div>\n<style scoped>\n    .dataframe tbody tr th:only-of-type {\n        vertical-align: middle;\n    }\n\n    .dataframe tbody tr th {\n        vertical-align: top;\n    }\n\n    .dataframe thead th {\n        text-align: right;\n    }\n</style>\n<table border=\"1\" class=\"dataframe\">\n  <thead>\n    <tr style=\"text-align: right;\">\n      <th></th>\n      <th>Country/Region</th>\n      <th>Date</th>\n      <th>Total Confirmed Cases</th>\n      <th>Daily New Cases</th>\n      <th>Daily New Deaths</th>\n      <th>Total Deaths</th>\n      <th>Total Recoveries</th>\n      <th>Daily New Recoveries</th>\n      <th>Active Cases</th>\n      <th>Share of Recoveries - Closed Cases</th>\n      <th>Death to Cases Ratio</th>\n      <th>location</th>\n    </tr>\n  </thead>\n  <tbody>\n    <tr>\n      <th>0</th>\n      <td>Afghanistan</td>\n      <td>2020-01-22</td>\n      <td>0</td>\n      <td>0.0</td>\n      <td>0.0</td>\n      <td>0</td>\n      <td>0</td>\n      <td>0.0</td>\n      <td>0</td>\n      <td>NaN</td>\n      <td>NaN</td>\n      <td>Outside China</td>\n    </tr>\n    <tr>\n      <th>1</th>\n      <td>Afghanistan</td>\n      <td>2020-01-23</td>\n      <td>0</td>\n      <td>0.0</td>\n      <td>0.0</td>\n      <td>0</td>\n      <td>0</td>\n      <td>0.0</td>\n      <td>0</td>\n      <td>NaN</td>\n      <td>NaN</td>\n      <td>Outside China</td>\n    </tr>\n    <tr>\n      <th>2</th>\n      <td>Afghanistan</td>\n      <td>2020-01-24</td>\n      <td>0</td>\n      <td>0.0</td>\n      <td>0.0</td>\n      <td>0</td>\n      <td>0</td>\n      <td>0.0</td>\n      <td>0</td>\n      <td>NaN</td>\n      <td>NaN</td>\n      <td>Outside China</td>\n    </tr>\n    <tr>\n      <th>3</th>\n      <td>Afghanistan</td>\n      <td>2020-01-25</td>\n      <td>0</td>\n      <td>0.0</td>\n      <td>0.0</td>\n      <td>0</td>\n      <td>0</td>\n      <td>0.0</td>\n      <td>0</td>\n      <td>NaN</td>\n      <td>NaN</td>\n      <td>Outside China</td>\n    </tr>\n    <tr>\n      <th>4</th>\n      <td>Afghanistan</td>\n      <td>2020-01-26</td>\n      <td>0</td>\n      <td>0.0</td>\n      <td>0.0</td>\n      <td>0</td>\n      <td>0</td>\n      <td>0.0</td>\n      <td>0</td>\n      <td>NaN</td>\n      <td>NaN</td>\n      <td>Outside China</td>\n    </tr>\n  </tbody>\n</table>\n</div>",
      "text/plain": "  Country/Region       Date  Total Confirmed Cases  Daily New Cases  \\\n0    Afghanistan 2020-01-22                      0              0.0   \n1    Afghanistan 2020-01-23                      0              0.0   \n2    Afghanistan 2020-01-24                      0              0.0   \n3    Afghanistan 2020-01-25                      0              0.0   \n4    Afghanistan 2020-01-26                      0              0.0   \n\n   Daily New Deaths  Total Deaths  Total Recoveries  Daily New Recoveries  \\\n0               0.0             0                 0                   0.0   \n1               0.0             0                 0                   0.0   \n2               0.0             0                 0                   0.0   \n3               0.0             0                 0                   0.0   \n4               0.0             0                 0                   0.0   \n\n   Active Cases  Share of Recoveries - Closed Cases  Death to Cases Ratio  \\\n0             0                                 NaN                   NaN   \n1             0                                 NaN                   NaN   \n2             0                                 NaN                   NaN   \n3             0                                 NaN                   NaN   \n4             0                                 NaN                   NaN   \n\n        location  \n0  Outside China  \n1  Outside China  \n2  Outside China  \n3  Outside China  \n4  Outside China  "
     },
     "execution_count": 85,
     "metadata": {},
     "output_type": "execute_result"
    }
   ],
   "source": [
    "#CountryConsolidated['location']=np.where(CountryConsolidated['Country/Region']=='Mainland China','Mainland China','Outside China')\n",
    "locdata=CountryConsolidated.reset_index()\n",
    "locdata['location']=np.where(locdata['Country/Region']=='China','China','Outside China')\n",
    "locdata.head()"
   ]
  },
  {
   "cell_type": "code",
   "execution_count": 86,
   "metadata": {},
   "outputs": [
    {
     "data": {
      "text/html": "<div>\n<style scoped>\n    .dataframe tbody tr th:only-of-type {\n        vertical-align: middle;\n    }\n\n    .dataframe tbody tr th {\n        vertical-align: top;\n    }\n\n    .dataframe thead th {\n        text-align: right;\n    }\n</style>\n<table border=\"1\" class=\"dataframe\">\n  <thead>\n    <tr style=\"text-align: right;\">\n      <th></th>\n      <th>Location</th>\n      <th>Date</th>\n      <th>Active Cases</th>\n    </tr>\n  </thead>\n  <tbody>\n    <tr>\n      <th>91</th>\n      <td>Outside China</td>\n      <td>2020-02-29</td>\n      <td>6089</td>\n    </tr>\n    <tr>\n      <th>92</th>\n      <td>Outside China</td>\n      <td>2020-03-01</td>\n      <td>7759</td>\n    </tr>\n    <tr>\n      <th>93</th>\n      <td>Outside China</td>\n      <td>2020-03-02</td>\n      <td>9251</td>\n    </tr>\n    <tr>\n      <th>94</th>\n      <td>Outside China</td>\n      <td>2020-03-03</td>\n      <td>11588</td>\n    </tr>\n    <tr>\n      <th>95</th>\n      <td>Outside China</td>\n      <td>2020-03-04</td>\n      <td>13294</td>\n    </tr>\n    <tr>\n      <th>96</th>\n      <td>Outside China</td>\n      <td>2020-03-05</td>\n      <td>15508</td>\n    </tr>\n    <tr>\n      <th>97</th>\n      <td>Outside China</td>\n      <td>2020-03-06</td>\n      <td>18757</td>\n    </tr>\n    <tr>\n      <th>98</th>\n      <td>Outside China</td>\n      <td>2020-03-07</td>\n      <td>21746</td>\n    </tr>\n    <tr>\n      <th>99</th>\n      <td>Outside China</td>\n      <td>2020-03-08</td>\n      <td>24964</td>\n    </tr>\n    <tr>\n      <th>100</th>\n      <td>Outside China</td>\n      <td>2020-03-09</td>\n      <td>28146</td>\n    </tr>\n    <tr>\n      <th>101</th>\n      <td>Outside China</td>\n      <td>2020-03-10</td>\n      <td>32359</td>\n    </tr>\n    <tr>\n      <th>102</th>\n      <td>Outside China</td>\n      <td>2020-03-11</td>\n      <td>38131</td>\n    </tr>\n    <tr>\n      <th>103</th>\n      <td>Outside China</td>\n      <td>2020-03-12</td>\n      <td>40440</td>\n    </tr>\n    <tr>\n      <th>104</th>\n      <td>Outside China</td>\n      <td>2020-03-13</td>\n      <td>55969</td>\n    </tr>\n    <tr>\n      <th>105</th>\n      <td>Outside China</td>\n      <td>2020-03-14</td>\n      <td>65535</td>\n    </tr>\n  </tbody>\n</table>\n</div>",
      "text/plain": "          Location       Date  Active Cases\n91   Outside China 2020-02-29          6089\n92   Outside China 2020-03-01          7759\n93   Outside China 2020-03-02          9251\n94   Outside China 2020-03-03         11588\n95   Outside China 2020-03-04         13294\n96   Outside China 2020-03-05         15508\n97   Outside China 2020-03-06         18757\n98   Outside China 2020-03-07         21746\n99   Outside China 2020-03-08         24964\n100  Outside China 2020-03-09         28146\n101  Outside China 2020-03-10         32359\n102  Outside China 2020-03-11         38131\n103  Outside China 2020-03-12         40440\n104  Outside China 2020-03-13         55969\n105  Outside China 2020-03-14         65535"
     },
     "execution_count": 86,
     "metadata": {},
     "output_type": "execute_result"
    }
   ],
   "source": [
    "# Cases by Region (inside or Outside China)\n",
    "TotalCasesLoc=CountryConsolidated.reset_index()\n",
    "TotalCasesLoc.head()\n",
    "TotalCasesLoc['Location']=np.where(TotalCasesLoc['Country/Region']=='China','China','Outside China')\n",
    "TotalCasesLocaggregated=TotalCasesLoc.groupby(['Location','Date'])['Active Cases'].sum().reset_index()\n",
    "ActiveCasesChina=TotalCasesLocaggregated[TotalCasesLocaggregated.loc[:,'Location']=='China']\n",
    "ActiveCasesExcludingChina=TotalCasesLocaggregated[TotalCasesLocaggregated.loc[:,'Location']!='China']\n",
    "ActiveCasesUS=TotalCasesLocaggregated[TotalCasesLocaggregated.loc[:,'Location']=='US']\n",
    "ActiveCasesColombia=TotalCasesLocaggregated[TotalCasesLocaggregated.loc[:,'Location']=='Colombia']\n",
    "ActiveCasesExcludingChina.tail(15)"
   ]
  },
  {
   "cell_type": "code",
   "execution_count": 87,
   "metadata": {},
   "outputs": [
    {
     "data": {
      "application/vnd.plotly.v1+json": {
       "config": {
        "plotlyServerURL": "https://plot.ly"
       },
       "data": [
        {
         "line": {
          "color": "red",
          "width": 2
         },
         "mode": "lines+markers",
         "name": "New Cases",
         "type": "scatter",
         "x": [
          "2020-01-22T00:00:00",
          "2020-01-23T00:00:00",
          "2020-01-24T00:00:00",
          "2020-01-25T00:00:00",
          "2020-01-26T00:00:00",
          "2020-01-27T00:00:00",
          "2020-01-28T00:00:00",
          "2020-01-29T00:00:00",
          "2020-01-30T00:00:00",
          "2020-01-31T00:00:00",
          "2020-02-01T00:00:00",
          "2020-02-02T00:00:00",
          "2020-02-03T00:00:00",
          "2020-02-04T00:00:00",
          "2020-02-05T00:00:00",
          "2020-02-06T00:00:00",
          "2020-02-07T00:00:00",
          "2020-02-08T00:00:00",
          "2020-02-09T00:00:00",
          "2020-02-10T00:00:00",
          "2020-02-11T00:00:00",
          "2020-02-12T00:00:00",
          "2020-02-13T00:00:00",
          "2020-02-14T00:00:00",
          "2020-02-15T00:00:00",
          "2020-02-16T00:00:00",
          "2020-02-17T00:00:00",
          "2020-02-18T00:00:00",
          "2020-02-19T00:00:00",
          "2020-02-20T00:00:00",
          "2020-02-21T00:00:00",
          "2020-02-22T00:00:00",
          "2020-02-23T00:00:00",
          "2020-02-24T00:00:00",
          "2020-02-25T00:00:00",
          "2020-02-26T00:00:00",
          "2020-02-27T00:00:00",
          "2020-02-28T00:00:00",
          "2020-02-29T00:00:00",
          "2020-03-01T00:00:00",
          "2020-03-02T00:00:00",
          "2020-03-03T00:00:00",
          "2020-03-04T00:00:00",
          "2020-03-05T00:00:00",
          "2020-03-06T00:00:00",
          "2020-03-07T00:00:00",
          "2020-03-08T00:00:00",
          "2020-03-09T00:00:00",
          "2020-03-10T00:00:00",
          "2020-03-11T00:00:00",
          "2020-03-12T00:00:00",
          "2020-03-13T00:00:00",
          "2020-03-14T00:00:00"
         ],
         "xaxis": "x",
         "y": [
          503,
          595,
          858,
          1325,
          1970,
          2737,
          5277,
          5834,
          7835,
          9375,
          11357,
          15806,
          18677,
          22373,
          25762,
          28477,
          31393,
          33413,
          35705,
          37424,
          38638,
          38560,
          52309,
          56860,
          57452,
          57992,
          58108,
          58002,
          56541,
          54825,
          54608,
          51859,
          51390,
          49631,
          47413,
          45365,
          42924,
          39809,
          37199,
          34898,
          32368,
          29864,
          27402,
          25230,
          23702,
          22159,
          20335,
          18933,
          17567,
          16116,
          14859,
          13569,
          12124
         ],
         "yaxis": "y"
        },
        {
         "line": {
          "color": "red",
          "width": 2
         },
         "mode": "lines+markers",
         "name": "Active Cases",
         "type": "scatter",
         "x": [
          "2020-01-22T00:00:00",
          "2020-01-23T00:00:00",
          "2020-01-24T00:00:00",
          "2020-01-25T00:00:00",
          "2020-01-26T00:00:00",
          "2020-01-27T00:00:00",
          "2020-01-28T00:00:00",
          "2020-01-29T00:00:00",
          "2020-01-30T00:00:00",
          "2020-01-31T00:00:00",
          "2020-02-01T00:00:00",
          "2020-02-02T00:00:00",
          "2020-02-03T00:00:00",
          "2020-02-04T00:00:00",
          "2020-02-05T00:00:00",
          "2020-02-06T00:00:00",
          "2020-02-07T00:00:00",
          "2020-02-08T00:00:00",
          "2020-02-09T00:00:00",
          "2020-02-10T00:00:00",
          "2020-02-11T00:00:00",
          "2020-02-12T00:00:00",
          "2020-02-13T00:00:00",
          "2020-02-14T00:00:00",
          "2020-02-15T00:00:00",
          "2020-02-16T00:00:00",
          "2020-02-17T00:00:00",
          "2020-02-18T00:00:00",
          "2020-02-19T00:00:00",
          "2020-02-20T00:00:00",
          "2020-02-21T00:00:00",
          "2020-02-22T00:00:00",
          "2020-02-23T00:00:00",
          "2020-02-24T00:00:00",
          "2020-02-25T00:00:00",
          "2020-02-26T00:00:00",
          "2020-02-27T00:00:00",
          "2020-02-28T00:00:00",
          "2020-02-29T00:00:00",
          "2020-03-01T00:00:00",
          "2020-03-02T00:00:00",
          "2020-03-03T00:00:00",
          "2020-03-04T00:00:00",
          "2020-03-05T00:00:00",
          "2020-03-06T00:00:00",
          "2020-03-07T00:00:00",
          "2020-03-08T00:00:00",
          "2020-03-09T00:00:00",
          "2020-03-10T00:00:00",
          "2020-03-11T00:00:00",
          "2020-03-12T00:00:00",
          "2020-03-13T00:00:00",
          "2020-03-14T00:00:00"
         ],
         "xaxis": "x2",
         "y": [
          7,
          10,
          21,
          28,
          40,
          47,
          63,
          73,
          85,
          117,
          138,
          147,
          155,
          175,
          185,
          219,
          268,
          285,
          295,
          379,
          368,
          393,
          393,
          444,
          517,
          597,
          699,
          775,
          855,
          948,
          1074,
          1376,
          1712,
          2081,
          2387,
          2876,
          3739,
          4728,
          6089,
          7759,
          9251,
          11588,
          13294,
          15508,
          18757,
          21746,
          24964,
          28146,
          32359,
          38131,
          40440,
          55969,
          65535
         ],
         "yaxis": "y2"
        }
       ],
       "layout": {
        "annotations": [
         {
          "font": {
           "size": 16
          },
          "showarrow": false,
          "text": "Active Cases in China",
          "x": 0.225,
          "xanchor": "center",
          "xref": "paper",
          "y": 1,
          "yanchor": "bottom",
          "yref": "paper"
         },
         {
          "font": {
           "size": 16
          },
          "showarrow": false,
          "text": "Active Cases Excluding China",
          "x": 0.775,
          "xanchor": "center",
          "xref": "paper",
          "y": 1,
          "yanchor": "bottom",
          "yref": "paper"
         }
        ],
        "showlegend": false,
        "template": {
         "data": {
          "bar": [
           {
            "error_x": {
             "color": "#2a3f5f"
            },
            "error_y": {
             "color": "#2a3f5f"
            },
            "marker": {
             "line": {
              "color": "#E5ECF6",
              "width": 0.5
             }
            },
            "type": "bar"
           }
          ],
          "barpolar": [
           {
            "marker": {
             "line": {
              "color": "#E5ECF6",
              "width": 0.5
             }
            },
            "type": "barpolar"
           }
          ],
          "carpet": [
           {
            "aaxis": {
             "endlinecolor": "#2a3f5f",
             "gridcolor": "white",
             "linecolor": "white",
             "minorgridcolor": "white",
             "startlinecolor": "#2a3f5f"
            },
            "baxis": {
             "endlinecolor": "#2a3f5f",
             "gridcolor": "white",
             "linecolor": "white",
             "minorgridcolor": "white",
             "startlinecolor": "#2a3f5f"
            },
            "type": "carpet"
           }
          ],
          "choropleth": [
           {
            "colorbar": {
             "outlinewidth": 0,
             "ticks": ""
            },
            "type": "choropleth"
           }
          ],
          "contour": [
           {
            "colorbar": {
             "outlinewidth": 0,
             "ticks": ""
            },
            "colorscale": [
             [
              0,
              "#0d0887"
             ],
             [
              0.1111111111111111,
              "#46039f"
             ],
             [
              0.2222222222222222,
              "#7201a8"
             ],
             [
              0.3333333333333333,
              "#9c179e"
             ],
             [
              0.4444444444444444,
              "#bd3786"
             ],
             [
              0.5555555555555556,
              "#d8576b"
             ],
             [
              0.6666666666666666,
              "#ed7953"
             ],
             [
              0.7777777777777778,
              "#fb9f3a"
             ],
             [
              0.8888888888888888,
              "#fdca26"
             ],
             [
              1,
              "#f0f921"
             ]
            ],
            "type": "contour"
           }
          ],
          "contourcarpet": [
           {
            "colorbar": {
             "outlinewidth": 0,
             "ticks": ""
            },
            "type": "contourcarpet"
           }
          ],
          "heatmap": [
           {
            "colorbar": {
             "outlinewidth": 0,
             "ticks": ""
            },
            "colorscale": [
             [
              0,
              "#0d0887"
             ],
             [
              0.1111111111111111,
              "#46039f"
             ],
             [
              0.2222222222222222,
              "#7201a8"
             ],
             [
              0.3333333333333333,
              "#9c179e"
             ],
             [
              0.4444444444444444,
              "#bd3786"
             ],
             [
              0.5555555555555556,
              "#d8576b"
             ],
             [
              0.6666666666666666,
              "#ed7953"
             ],
             [
              0.7777777777777778,
              "#fb9f3a"
             ],
             [
              0.8888888888888888,
              "#fdca26"
             ],
             [
              1,
              "#f0f921"
             ]
            ],
            "type": "heatmap"
           }
          ],
          "heatmapgl": [
           {
            "colorbar": {
             "outlinewidth": 0,
             "ticks": ""
            },
            "colorscale": [
             [
              0,
              "#0d0887"
             ],
             [
              0.1111111111111111,
              "#46039f"
             ],
             [
              0.2222222222222222,
              "#7201a8"
             ],
             [
              0.3333333333333333,
              "#9c179e"
             ],
             [
              0.4444444444444444,
              "#bd3786"
             ],
             [
              0.5555555555555556,
              "#d8576b"
             ],
             [
              0.6666666666666666,
              "#ed7953"
             ],
             [
              0.7777777777777778,
              "#fb9f3a"
             ],
             [
              0.8888888888888888,
              "#fdca26"
             ],
             [
              1,
              "#f0f921"
             ]
            ],
            "type": "heatmapgl"
           }
          ],
          "histogram": [
           {
            "marker": {
             "colorbar": {
              "outlinewidth": 0,
              "ticks": ""
             }
            },
            "type": "histogram"
           }
          ],
          "histogram2d": [
           {
            "colorbar": {
             "outlinewidth": 0,
             "ticks": ""
            },
            "colorscale": [
             [
              0,
              "#0d0887"
             ],
             [
              0.1111111111111111,
              "#46039f"
             ],
             [
              0.2222222222222222,
              "#7201a8"
             ],
             [
              0.3333333333333333,
              "#9c179e"
             ],
             [
              0.4444444444444444,
              "#bd3786"
             ],
             [
              0.5555555555555556,
              "#d8576b"
             ],
             [
              0.6666666666666666,
              "#ed7953"
             ],
             [
              0.7777777777777778,
              "#fb9f3a"
             ],
             [
              0.8888888888888888,
              "#fdca26"
             ],
             [
              1,
              "#f0f921"
             ]
            ],
            "type": "histogram2d"
           }
          ],
          "histogram2dcontour": [
           {
            "colorbar": {
             "outlinewidth": 0,
             "ticks": ""
            },
            "colorscale": [
             [
              0,
              "#0d0887"
             ],
             [
              0.1111111111111111,
              "#46039f"
             ],
             [
              0.2222222222222222,
              "#7201a8"
             ],
             [
              0.3333333333333333,
              "#9c179e"
             ],
             [
              0.4444444444444444,
              "#bd3786"
             ],
             [
              0.5555555555555556,
              "#d8576b"
             ],
             [
              0.6666666666666666,
              "#ed7953"
             ],
             [
              0.7777777777777778,
              "#fb9f3a"
             ],
             [
              0.8888888888888888,
              "#fdca26"
             ],
             [
              1,
              "#f0f921"
             ]
            ],
            "type": "histogram2dcontour"
           }
          ],
          "mesh3d": [
           {
            "colorbar": {
             "outlinewidth": 0,
             "ticks": ""
            },
            "type": "mesh3d"
           }
          ],
          "parcoords": [
           {
            "line": {
             "colorbar": {
              "outlinewidth": 0,
              "ticks": ""
             }
            },
            "type": "parcoords"
           }
          ],
          "pie": [
           {
            "automargin": true,
            "type": "pie"
           }
          ],
          "scatter": [
           {
            "marker": {
             "colorbar": {
              "outlinewidth": 0,
              "ticks": ""
             }
            },
            "type": "scatter"
           }
          ],
          "scatter3d": [
           {
            "line": {
             "colorbar": {
              "outlinewidth": 0,
              "ticks": ""
             }
            },
            "marker": {
             "colorbar": {
              "outlinewidth": 0,
              "ticks": ""
             }
            },
            "type": "scatter3d"
           }
          ],
          "scattercarpet": [
           {
            "marker": {
             "colorbar": {
              "outlinewidth": 0,
              "ticks": ""
             }
            },
            "type": "scattercarpet"
           }
          ],
          "scattergeo": [
           {
            "marker": {
             "colorbar": {
              "outlinewidth": 0,
              "ticks": ""
             }
            },
            "type": "scattergeo"
           }
          ],
          "scattergl": [
           {
            "marker": {
             "colorbar": {
              "outlinewidth": 0,
              "ticks": ""
             }
            },
            "type": "scattergl"
           }
          ],
          "scattermapbox": [
           {
            "marker": {
             "colorbar": {
              "outlinewidth": 0,
              "ticks": ""
             }
            },
            "type": "scattermapbox"
           }
          ],
          "scatterpolar": [
           {
            "marker": {
             "colorbar": {
              "outlinewidth": 0,
              "ticks": ""
             }
            },
            "type": "scatterpolar"
           }
          ],
          "scatterpolargl": [
           {
            "marker": {
             "colorbar": {
              "outlinewidth": 0,
              "ticks": ""
             }
            },
            "type": "scatterpolargl"
           }
          ],
          "scatterternary": [
           {
            "marker": {
             "colorbar": {
              "outlinewidth": 0,
              "ticks": ""
             }
            },
            "type": "scatterternary"
           }
          ],
          "surface": [
           {
            "colorbar": {
             "outlinewidth": 0,
             "ticks": ""
            },
            "colorscale": [
             [
              0,
              "#0d0887"
             ],
             [
              0.1111111111111111,
              "#46039f"
             ],
             [
              0.2222222222222222,
              "#7201a8"
             ],
             [
              0.3333333333333333,
              "#9c179e"
             ],
             [
              0.4444444444444444,
              "#bd3786"
             ],
             [
              0.5555555555555556,
              "#d8576b"
             ],
             [
              0.6666666666666666,
              "#ed7953"
             ],
             [
              0.7777777777777778,
              "#fb9f3a"
             ],
             [
              0.8888888888888888,
              "#fdca26"
             ],
             [
              1,
              "#f0f921"
             ]
            ],
            "type": "surface"
           }
          ],
          "table": [
           {
            "cells": {
             "fill": {
              "color": "#EBF0F8"
             },
             "line": {
              "color": "white"
             }
            },
            "header": {
             "fill": {
              "color": "#C8D4E3"
             },
             "line": {
              "color": "white"
             }
            },
            "type": "table"
           }
          ]
         },
         "layout": {
          "annotationdefaults": {
           "arrowcolor": "#2a3f5f",
           "arrowhead": 0,
           "arrowwidth": 1
          },
          "coloraxis": {
           "colorbar": {
            "outlinewidth": 0,
            "ticks": ""
           }
          },
          "colorscale": {
           "diverging": [
            [
             0,
             "#8e0152"
            ],
            [
             0.1,
             "#c51b7d"
            ],
            [
             0.2,
             "#de77ae"
            ],
            [
             0.3,
             "#f1b6da"
            ],
            [
             0.4,
             "#fde0ef"
            ],
            [
             0.5,
             "#f7f7f7"
            ],
            [
             0.6,
             "#e6f5d0"
            ],
            [
             0.7,
             "#b8e186"
            ],
            [
             0.8,
             "#7fbc41"
            ],
            [
             0.9,
             "#4d9221"
            ],
            [
             1,
             "#276419"
            ]
           ],
           "sequential": [
            [
             0,
             "#0d0887"
            ],
            [
             0.1111111111111111,
             "#46039f"
            ],
            [
             0.2222222222222222,
             "#7201a8"
            ],
            [
             0.3333333333333333,
             "#9c179e"
            ],
            [
             0.4444444444444444,
             "#bd3786"
            ],
            [
             0.5555555555555556,
             "#d8576b"
            ],
            [
             0.6666666666666666,
             "#ed7953"
            ],
            [
             0.7777777777777778,
             "#fb9f3a"
            ],
            [
             0.8888888888888888,
             "#fdca26"
            ],
            [
             1,
             "#f0f921"
            ]
           ],
           "sequentialminus": [
            [
             0,
             "#0d0887"
            ],
            [
             0.1111111111111111,
             "#46039f"
            ],
            [
             0.2222222222222222,
             "#7201a8"
            ],
            [
             0.3333333333333333,
             "#9c179e"
            ],
            [
             0.4444444444444444,
             "#bd3786"
            ],
            [
             0.5555555555555556,
             "#d8576b"
            ],
            [
             0.6666666666666666,
             "#ed7953"
            ],
            [
             0.7777777777777778,
             "#fb9f3a"
            ],
            [
             0.8888888888888888,
             "#fdca26"
            ],
            [
             1,
             "#f0f921"
            ]
           ]
          },
          "colorway": [
           "#636efa",
           "#EF553B",
           "#00cc96",
           "#ab63fa",
           "#FFA15A",
           "#19d3f3",
           "#FF6692",
           "#B6E880",
           "#FF97FF",
           "#FECB52"
          ],
          "font": {
           "color": "#2a3f5f"
          },
          "geo": {
           "bgcolor": "white",
           "lakecolor": "white",
           "landcolor": "#E5ECF6",
           "showlakes": true,
           "showland": true,
           "subunitcolor": "white"
          },
          "hoverlabel": {
           "align": "left"
          },
          "hovermode": "closest",
          "mapbox": {
           "style": "light"
          },
          "paper_bgcolor": "white",
          "plot_bgcolor": "#E5ECF6",
          "polar": {
           "angularaxis": {
            "gridcolor": "white",
            "linecolor": "white",
            "ticks": ""
           },
           "bgcolor": "#E5ECF6",
           "radialaxis": {
            "gridcolor": "white",
            "linecolor": "white",
            "ticks": ""
           }
          },
          "scene": {
           "xaxis": {
            "backgroundcolor": "#E5ECF6",
            "gridcolor": "white",
            "gridwidth": 2,
            "linecolor": "white",
            "showbackground": true,
            "ticks": "",
            "zerolinecolor": "white"
           },
           "yaxis": {
            "backgroundcolor": "#E5ECF6",
            "gridcolor": "white",
            "gridwidth": 2,
            "linecolor": "white",
            "showbackground": true,
            "ticks": "",
            "zerolinecolor": "white"
           },
           "zaxis": {
            "backgroundcolor": "#E5ECF6",
            "gridcolor": "white",
            "gridwidth": 2,
            "linecolor": "white",
            "showbackground": true,
            "ticks": "",
            "zerolinecolor": "white"
           }
          },
          "shapedefaults": {
           "line": {
            "color": "#2a3f5f"
           }
          },
          "ternary": {
           "aaxis": {
            "gridcolor": "white",
            "linecolor": "white",
            "ticks": ""
           },
           "baxis": {
            "gridcolor": "white",
            "linecolor": "white",
            "ticks": ""
           },
           "bgcolor": "#E5ECF6",
           "caxis": {
            "gridcolor": "white",
            "linecolor": "white",
            "ticks": ""
           }
          },
          "title": {
           "x": 0.05
          },
          "xaxis": {
           "automargin": true,
           "gridcolor": "white",
           "linecolor": "white",
           "ticks": "",
           "title": {
            "standoff": 15
           },
           "zerolinecolor": "white",
           "zerolinewidth": 2
          },
          "yaxis": {
           "automargin": true,
           "gridcolor": "white",
           "linecolor": "white",
           "ticks": "",
           "title": {
            "standoff": 15
           },
           "zerolinecolor": "white",
           "zerolinewidth": 2
          }
         }
        },
        "xaxis": {
         "anchor": "y",
         "domain": [
          0,
          0.45
         ]
        },
        "xaxis2": {
         "anchor": "y2",
         "domain": [
          0.55,
          1
         ]
        },
        "yaxis": {
         "anchor": "x",
         "domain": [
          0,
          1
         ]
        },
        "yaxis2": {
         "anchor": "x2",
         "domain": [
          0,
          1
         ]
        }
       }
      }
     },
     "metadata": {},
     "output_type": "display_data"
    }
   ],
   "source": [
    "fig = make_subplots(rows=1, cols=2,shared_xaxes=True,\n",
    "                   subplot_titles=('Active Cases in China','Active Cases Excluding China'))\n",
    "fig.add_trace(go.Scatter(x=ActiveCasesChina['Date'],y=ActiveCasesChina['Active Cases'],\n",
    "                         mode='lines+markers',\n",
    "                         name='New Cases',\n",
    "                         line=dict(color=chartcol,width=2)),\n",
    "                         row=1,col=1)\n",
    "fig.add_trace(go.Scatter(x=ActiveCasesExcludingChina['Date'],y=ActiveCasesExcludingChina['Active Cases'],\n",
    "                         mode='lines+markers',\n",
    "                         name='Active Cases',\n",
    "                         line=dict(color=chartcol,width=2)),\n",
    "                         row=1,col=2)\n",
    "fig.update_layout(showlegend=False)"
   ]
  },
  {
   "cell_type": "markdown",
   "execution_count": null,
   "metadata": {},
   "outputs": [],
   "source": [
    "### Cases by Country"
   ]
  },
  {
   "cell_type": "code",
   "execution_count": 88,
   "metadata": {},
   "outputs": [
    {
     "data": {
      "application/vnd.plotly.v1+json": {
       "config": {
        "plotlyServerURL": "https://plot.ly"
       },
       "data": [
        {
         "line": {
          "color": "red",
          "width": 2
         },
         "mode": "lines+markers",
         "name": "Confirmed Cases",
         "type": "scatter",
         "x": [
          "2020-01-22T00:00:00",
          "2020-01-23T00:00:00",
          "2020-01-24T00:00:00",
          "2020-01-25T00:00:00",
          "2020-01-26T00:00:00",
          "2020-01-27T00:00:00",
          "2020-01-28T00:00:00",
          "2020-01-29T00:00:00",
          "2020-01-30T00:00:00",
          "2020-01-31T00:00:00",
          "2020-02-01T00:00:00",
          "2020-02-02T00:00:00",
          "2020-02-03T00:00:00",
          "2020-02-04T00:00:00",
          "2020-02-05T00:00:00",
          "2020-02-06T00:00:00",
          "2020-02-07T00:00:00",
          "2020-02-08T00:00:00",
          "2020-02-09T00:00:00",
          "2020-02-10T00:00:00",
          "2020-02-11T00:00:00",
          "2020-02-12T00:00:00",
          "2020-02-13T00:00:00",
          "2020-02-14T00:00:00",
          "2020-02-15T00:00:00",
          "2020-02-16T00:00:00",
          "2020-02-17T00:00:00",
          "2020-02-18T00:00:00",
          "2020-02-19T00:00:00",
          "2020-02-20T00:00:00",
          "2020-02-21T00:00:00",
          "2020-02-22T00:00:00",
          "2020-02-23T00:00:00",
          "2020-02-24T00:00:00",
          "2020-02-25T00:00:00",
          "2020-02-26T00:00:00",
          "2020-02-27T00:00:00",
          "2020-02-28T00:00:00",
          "2020-02-29T00:00:00",
          "2020-03-01T00:00:00",
          "2020-03-02T00:00:00",
          "2020-03-03T00:00:00",
          "2020-03-04T00:00:00",
          "2020-03-05T00:00:00",
          "2020-03-06T00:00:00",
          "2020-03-07T00:00:00",
          "2020-03-08T00:00:00",
          "2020-03-09T00:00:00",
          "2020-03-10T00:00:00",
          "2020-03-11T00:00:00",
          "2020-03-12T00:00:00",
          "2020-03-13T00:00:00",
          "2020-03-14T00:00:00"
         ],
         "xaxis": "x",
         "y": [
          0,
          0,
          0,
          0,
          0,
          1,
          4,
          4,
          4,
          5,
          8,
          10,
          12,
          12,
          12,
          12,
          13,
          13,
          14,
          14,
          16,
          16,
          16,
          16,
          16,
          16,
          16,
          16,
          16,
          16,
          16,
          16,
          16,
          16,
          17,
          27,
          46,
          48,
          79,
          130,
          159,
          196,
          262,
          482,
          670,
          799,
          1040,
          1176,
          1457,
          1908,
          2078,
          3675,
          4585
         ],
         "yaxis": "y"
        },
        {
         "line": {
          "color": "red",
          "width": 2
         },
         "mode": "lines+markers",
         "name": "Active Cases",
         "type": "scatter",
         "x": [
          "2020-01-22T00:00:00",
          "2020-01-23T00:00:00",
          "2020-01-24T00:00:00",
          "2020-01-25T00:00:00",
          "2020-01-26T00:00:00",
          "2020-01-27T00:00:00",
          "2020-01-28T00:00:00",
          "2020-01-29T00:00:00",
          "2020-01-30T00:00:00",
          "2020-01-31T00:00:00",
          "2020-02-01T00:00:00",
          "2020-02-02T00:00:00",
          "2020-02-03T00:00:00",
          "2020-02-04T00:00:00",
          "2020-02-05T00:00:00",
          "2020-02-06T00:00:00",
          "2020-02-07T00:00:00",
          "2020-02-08T00:00:00",
          "2020-02-09T00:00:00",
          "2020-02-10T00:00:00",
          "2020-02-11T00:00:00",
          "2020-02-12T00:00:00",
          "2020-02-13T00:00:00",
          "2020-02-14T00:00:00",
          "2020-02-15T00:00:00",
          "2020-02-16T00:00:00",
          "2020-02-17T00:00:00",
          "2020-02-18T00:00:00",
          "2020-02-19T00:00:00",
          "2020-02-20T00:00:00",
          "2020-02-21T00:00:00",
          "2020-02-22T00:00:00",
          "2020-02-23T00:00:00",
          "2020-02-24T00:00:00",
          "2020-02-25T00:00:00",
          "2020-02-26T00:00:00",
          "2020-02-27T00:00:00",
          "2020-02-28T00:00:00",
          "2020-02-29T00:00:00",
          "2020-03-01T00:00:00",
          "2020-03-02T00:00:00",
          "2020-03-03T00:00:00",
          "2020-03-04T00:00:00",
          "2020-03-05T00:00:00",
          "2020-03-06T00:00:00",
          "2020-03-07T00:00:00",
          "2020-03-08T00:00:00",
          "2020-03-09T00:00:00",
          "2020-03-10T00:00:00",
          "2020-03-11T00:00:00",
          "2020-03-12T00:00:00",
          "2020-03-13T00:00:00",
          "2020-03-14T00:00:00"
         ],
         "xaxis": "x2",
         "y": [
          0,
          0,
          0,
          0,
          0,
          1,
          4,
          4,
          4,
          5,
          8,
          10,
          12,
          12,
          12,
          12,
          13,
          13,
          14,
          14,
          16,
          16,
          15,
          15,
          15,
          15,
          15,
          4,
          4,
          4,
          2,
          2,
          2,
          2,
          3,
          12,
          30,
          32,
          63,
          114,
          143,
          180,
          246,
          466,
          653,
          781,
          1022,
          1156,
          1437,
          1880,
          2050,
          3622,
          4530
         ],
         "yaxis": "y2"
        },
        {
         "line": {
          "color": "red",
          "width": 2
         },
         "mode": "lines+markers",
         "name": "Total Deaths",
         "type": "scatter",
         "x": [
          "2020-01-22T00:00:00",
          "2020-01-23T00:00:00",
          "2020-01-24T00:00:00",
          "2020-01-25T00:00:00",
          "2020-01-26T00:00:00",
          "2020-01-27T00:00:00",
          "2020-01-28T00:00:00",
          "2020-01-29T00:00:00",
          "2020-01-30T00:00:00",
          "2020-01-31T00:00:00",
          "2020-02-01T00:00:00",
          "2020-02-02T00:00:00",
          "2020-02-03T00:00:00",
          "2020-02-04T00:00:00",
          "2020-02-05T00:00:00",
          "2020-02-06T00:00:00",
          "2020-02-07T00:00:00",
          "2020-02-08T00:00:00",
          "2020-02-09T00:00:00",
          "2020-02-10T00:00:00",
          "2020-02-11T00:00:00",
          "2020-02-12T00:00:00",
          "2020-02-13T00:00:00",
          "2020-02-14T00:00:00",
          "2020-02-15T00:00:00",
          "2020-02-16T00:00:00",
          "2020-02-17T00:00:00",
          "2020-02-18T00:00:00",
          "2020-02-19T00:00:00",
          "2020-02-20T00:00:00",
          "2020-02-21T00:00:00",
          "2020-02-22T00:00:00",
          "2020-02-23T00:00:00",
          "2020-02-24T00:00:00",
          "2020-02-25T00:00:00",
          "2020-02-26T00:00:00",
          "2020-02-27T00:00:00",
          "2020-02-28T00:00:00",
          "2020-02-29T00:00:00",
          "2020-03-01T00:00:00",
          "2020-03-02T00:00:00",
          "2020-03-03T00:00:00",
          "2020-03-04T00:00:00",
          "2020-03-05T00:00:00",
          "2020-03-06T00:00:00",
          "2020-03-07T00:00:00",
          "2020-03-08T00:00:00",
          "2020-03-09T00:00:00",
          "2020-03-10T00:00:00",
          "2020-03-11T00:00:00",
          "2020-03-12T00:00:00",
          "2020-03-13T00:00:00",
          "2020-03-14T00:00:00"
         ],
         "xaxis": "x3",
         "y": [
          0,
          0,
          0,
          0,
          0,
          0,
          0,
          0,
          0,
          0,
          0,
          0,
          0,
          0,
          0,
          0,
          0,
          0,
          0,
          0,
          0,
          0,
          0,
          0,
          0,
          0,
          0,
          0,
          0,
          0,
          0,
          0,
          0,
          0,
          0,
          0,
          0,
          0,
          0,
          0,
          0,
          0,
          0,
          0,
          0,
          0,
          0,
          2,
          2,
          3,
          3,
          7,
          9
         ],
         "yaxis": "y3"
        },
        {
         "line": {
          "color": "red",
          "width": 2
         },
         "mode": "lines+markers",
         "name": "Total Recoveries",
         "type": "scatter",
         "x": [
          "2020-01-22T00:00:00",
          "2020-01-23T00:00:00",
          "2020-01-24T00:00:00",
          "2020-01-25T00:00:00",
          "2020-01-26T00:00:00",
          "2020-01-27T00:00:00",
          "2020-01-28T00:00:00",
          "2020-01-29T00:00:00",
          "2020-01-30T00:00:00",
          "2020-01-31T00:00:00",
          "2020-02-01T00:00:00",
          "2020-02-02T00:00:00",
          "2020-02-03T00:00:00",
          "2020-02-04T00:00:00",
          "2020-02-05T00:00:00",
          "2020-02-06T00:00:00",
          "2020-02-07T00:00:00",
          "2020-02-08T00:00:00",
          "2020-02-09T00:00:00",
          "2020-02-10T00:00:00",
          "2020-02-11T00:00:00",
          "2020-02-12T00:00:00",
          "2020-02-13T00:00:00",
          "2020-02-14T00:00:00",
          "2020-02-15T00:00:00",
          "2020-02-16T00:00:00",
          "2020-02-17T00:00:00",
          "2020-02-18T00:00:00",
          "2020-02-19T00:00:00",
          "2020-02-20T00:00:00",
          "2020-02-21T00:00:00",
          "2020-02-22T00:00:00",
          "2020-02-23T00:00:00",
          "2020-02-24T00:00:00",
          "2020-02-25T00:00:00",
          "2020-02-26T00:00:00",
          "2020-02-27T00:00:00",
          "2020-02-28T00:00:00",
          "2020-02-29T00:00:00",
          "2020-03-01T00:00:00",
          "2020-03-02T00:00:00",
          "2020-03-03T00:00:00",
          "2020-03-04T00:00:00",
          "2020-03-05T00:00:00",
          "2020-03-06T00:00:00",
          "2020-03-07T00:00:00",
          "2020-03-08T00:00:00",
          "2020-03-09T00:00:00",
          "2020-03-10T00:00:00",
          "2020-03-11T00:00:00",
          "2020-03-12T00:00:00",
          "2020-03-13T00:00:00",
          "2020-03-14T00:00:00"
         ],
         "xaxis": "x4",
         "y": [
          0,
          0,
          0,
          0,
          0,
          0,
          0,
          0,
          0,
          0,
          0,
          0,
          0,
          0,
          0,
          0,
          0,
          0,
          0,
          0,
          0,
          0,
          1,
          1,
          1,
          1,
          1,
          12,
          12,
          12,
          14,
          14,
          14,
          14,
          14,
          15,
          16,
          16,
          16,
          16,
          16,
          16,
          16,
          16,
          17,
          18,
          18,
          18,
          18,
          25,
          25,
          46,
          46
         ],
         "yaxis": "y4"
        },
        {
         "line": {
          "color": "red",
          "width": 2
         },
         "mode": "lines+markers",
         "name": "Death to Cases Ratio",
         "type": "scatter",
         "x": [
          "2020-01-22T00:00:00",
          "2020-01-23T00:00:00",
          "2020-01-24T00:00:00",
          "2020-01-25T00:00:00",
          "2020-01-26T00:00:00",
          "2020-01-27T00:00:00",
          "2020-01-28T00:00:00",
          "2020-01-29T00:00:00",
          "2020-01-30T00:00:00",
          "2020-01-31T00:00:00",
          "2020-02-01T00:00:00",
          "2020-02-02T00:00:00",
          "2020-02-03T00:00:00",
          "2020-02-04T00:00:00",
          "2020-02-05T00:00:00",
          "2020-02-06T00:00:00",
          "2020-02-07T00:00:00",
          "2020-02-08T00:00:00",
          "2020-02-09T00:00:00",
          "2020-02-10T00:00:00",
          "2020-02-11T00:00:00",
          "2020-02-12T00:00:00",
          "2020-02-13T00:00:00",
          "2020-02-14T00:00:00",
          "2020-02-15T00:00:00",
          "2020-02-16T00:00:00",
          "2020-02-17T00:00:00",
          "2020-02-18T00:00:00",
          "2020-02-19T00:00:00",
          "2020-02-20T00:00:00",
          "2020-02-21T00:00:00",
          "2020-02-22T00:00:00",
          "2020-02-23T00:00:00",
          "2020-02-24T00:00:00",
          "2020-02-25T00:00:00",
          "2020-02-26T00:00:00",
          "2020-02-27T00:00:00",
          "2020-02-28T00:00:00",
          "2020-02-29T00:00:00",
          "2020-03-01T00:00:00",
          "2020-03-02T00:00:00",
          "2020-03-03T00:00:00",
          "2020-03-04T00:00:00",
          "2020-03-05T00:00:00",
          "2020-03-06T00:00:00",
          "2020-03-07T00:00:00",
          "2020-03-08T00:00:00",
          "2020-03-09T00:00:00",
          "2020-03-10T00:00:00",
          "2020-03-11T00:00:00",
          "2020-03-12T00:00:00",
          "2020-03-13T00:00:00",
          "2020-03-14T00:00:00"
         ],
         "xaxis": "x5",
         "y": [
          null,
          null,
          null,
          null,
          null,
          0,
          0,
          0,
          0,
          0,
          0,
          0,
          0,
          0,
          0,
          0,
          0,
          0,
          0,
          0,
          0,
          0,
          0,
          0,
          0,
          0,
          0,
          0,
          0,
          0,
          0,
          0,
          0,
          0,
          0,
          0,
          0,
          0,
          0,
          0,
          0,
          0,
          0,
          0,
          0,
          0,
          0,
          0.002,
          0.001,
          0.002,
          0.001,
          0.002,
          0.002
         ],
         "yaxis": "y5"
        }
       ],
       "layout": {
        "annotations": [
         {
          "font": {
           "size": 16
          },
          "showarrow": false,
          "text": "Total Confirmed Cases",
          "x": 0.225,
          "xanchor": "center",
          "xref": "paper",
          "y": 1,
          "yanchor": "bottom",
          "yref": "paper"
         },
         {
          "font": {
           "size": 16
          },
          "showarrow": false,
          "text": "Active Cases",
          "x": 0.775,
          "xanchor": "center",
          "xref": "paper",
          "y": 1,
          "yanchor": "bottom",
          "yref": "paper"
         },
         {
          "font": {
           "size": 16
          },
          "showarrow": false,
          "text": "Deaths",
          "x": 0.225,
          "xanchor": "center",
          "xref": "paper",
          "y": 0.6111111111111112,
          "yanchor": "bottom",
          "yref": "paper"
         },
         {
          "font": {
           "size": 16
          },
          "showarrow": false,
          "text": "Recoveries",
          "x": 0.775,
          "xanchor": "center",
          "xref": "paper",
          "y": 0.6111111111111112,
          "yanchor": "bottom",
          "yref": "paper"
         },
         {
          "font": {
           "size": 16
          },
          "showarrow": false,
          "text": "Death to Cases Ratio",
          "x": 0.5,
          "xanchor": "center",
          "xref": "paper",
          "y": 0.22222222222222224,
          "yanchor": "bottom",
          "yref": "paper"
         }
        ],
        "showlegend": false,
        "template": {
         "data": {
          "bar": [
           {
            "error_x": {
             "color": "#2a3f5f"
            },
            "error_y": {
             "color": "#2a3f5f"
            },
            "marker": {
             "line": {
              "color": "#E5ECF6",
              "width": 0.5
             }
            },
            "type": "bar"
           }
          ],
          "barpolar": [
           {
            "marker": {
             "line": {
              "color": "#E5ECF6",
              "width": 0.5
             }
            },
            "type": "barpolar"
           }
          ],
          "carpet": [
           {
            "aaxis": {
             "endlinecolor": "#2a3f5f",
             "gridcolor": "white",
             "linecolor": "white",
             "minorgridcolor": "white",
             "startlinecolor": "#2a3f5f"
            },
            "baxis": {
             "endlinecolor": "#2a3f5f",
             "gridcolor": "white",
             "linecolor": "white",
             "minorgridcolor": "white",
             "startlinecolor": "#2a3f5f"
            },
            "type": "carpet"
           }
          ],
          "choropleth": [
           {
            "colorbar": {
             "outlinewidth": 0,
             "ticks": ""
            },
            "type": "choropleth"
           }
          ],
          "contour": [
           {
            "colorbar": {
             "outlinewidth": 0,
             "ticks": ""
            },
            "colorscale": [
             [
              0,
              "#0d0887"
             ],
             [
              0.1111111111111111,
              "#46039f"
             ],
             [
              0.2222222222222222,
              "#7201a8"
             ],
             [
              0.3333333333333333,
              "#9c179e"
             ],
             [
              0.4444444444444444,
              "#bd3786"
             ],
             [
              0.5555555555555556,
              "#d8576b"
             ],
             [
              0.6666666666666666,
              "#ed7953"
             ],
             [
              0.7777777777777778,
              "#fb9f3a"
             ],
             [
              0.8888888888888888,
              "#fdca26"
             ],
             [
              1,
              "#f0f921"
             ]
            ],
            "type": "contour"
           }
          ],
          "contourcarpet": [
           {
            "colorbar": {
             "outlinewidth": 0,
             "ticks": ""
            },
            "type": "contourcarpet"
           }
          ],
          "heatmap": [
           {
            "colorbar": {
             "outlinewidth": 0,
             "ticks": ""
            },
            "colorscale": [
             [
              0,
              "#0d0887"
             ],
             [
              0.1111111111111111,
              "#46039f"
             ],
             [
              0.2222222222222222,
              "#7201a8"
             ],
             [
              0.3333333333333333,
              "#9c179e"
             ],
             [
              0.4444444444444444,
              "#bd3786"
             ],
             [
              0.5555555555555556,
              "#d8576b"
             ],
             [
              0.6666666666666666,
              "#ed7953"
             ],
             [
              0.7777777777777778,
              "#fb9f3a"
             ],
             [
              0.8888888888888888,
              "#fdca26"
             ],
             [
              1,
              "#f0f921"
             ]
            ],
            "type": "heatmap"
           }
          ],
          "heatmapgl": [
           {
            "colorbar": {
             "outlinewidth": 0,
             "ticks": ""
            },
            "colorscale": [
             [
              0,
              "#0d0887"
             ],
             [
              0.1111111111111111,
              "#46039f"
             ],
             [
              0.2222222222222222,
              "#7201a8"
             ],
             [
              0.3333333333333333,
              "#9c179e"
             ],
             [
              0.4444444444444444,
              "#bd3786"
             ],
             [
              0.5555555555555556,
              "#d8576b"
             ],
             [
              0.6666666666666666,
              "#ed7953"
             ],
             [
              0.7777777777777778,
              "#fb9f3a"
             ],
             [
              0.8888888888888888,
              "#fdca26"
             ],
             [
              1,
              "#f0f921"
             ]
            ],
            "type": "heatmapgl"
           }
          ],
          "histogram": [
           {
            "marker": {
             "colorbar": {
              "outlinewidth": 0,
              "ticks": ""
             }
            },
            "type": "histogram"
           }
          ],
          "histogram2d": [
           {
            "colorbar": {
             "outlinewidth": 0,
             "ticks": ""
            },
            "colorscale": [
             [
              0,
              "#0d0887"
             ],
             [
              0.1111111111111111,
              "#46039f"
             ],
             [
              0.2222222222222222,
              "#7201a8"
             ],
             [
              0.3333333333333333,
              "#9c179e"
             ],
             [
              0.4444444444444444,
              "#bd3786"
             ],
             [
              0.5555555555555556,
              "#d8576b"
             ],
             [
              0.6666666666666666,
              "#ed7953"
             ],
             [
              0.7777777777777778,
              "#fb9f3a"
             ],
             [
              0.8888888888888888,
              "#fdca26"
             ],
             [
              1,
              "#f0f921"
             ]
            ],
            "type": "histogram2d"
           }
          ],
          "histogram2dcontour": [
           {
            "colorbar": {
             "outlinewidth": 0,
             "ticks": ""
            },
            "colorscale": [
             [
              0,
              "#0d0887"
             ],
             [
              0.1111111111111111,
              "#46039f"
             ],
             [
              0.2222222222222222,
              "#7201a8"
             ],
             [
              0.3333333333333333,
              "#9c179e"
             ],
             [
              0.4444444444444444,
              "#bd3786"
             ],
             [
              0.5555555555555556,
              "#d8576b"
             ],
             [
              0.6666666666666666,
              "#ed7953"
             ],
             [
              0.7777777777777778,
              "#fb9f3a"
             ],
             [
              0.8888888888888888,
              "#fdca26"
             ],
             [
              1,
              "#f0f921"
             ]
            ],
            "type": "histogram2dcontour"
           }
          ],
          "mesh3d": [
           {
            "colorbar": {
             "outlinewidth": 0,
             "ticks": ""
            },
            "type": "mesh3d"
           }
          ],
          "parcoords": [
           {
            "line": {
             "colorbar": {
              "outlinewidth": 0,
              "ticks": ""
             }
            },
            "type": "parcoords"
           }
          ],
          "pie": [
           {
            "automargin": true,
            "type": "pie"
           }
          ],
          "scatter": [
           {
            "marker": {
             "colorbar": {
              "outlinewidth": 0,
              "ticks": ""
             }
            },
            "type": "scatter"
           }
          ],
          "scatter3d": [
           {
            "line": {
             "colorbar": {
              "outlinewidth": 0,
              "ticks": ""
             }
            },
            "marker": {
             "colorbar": {
              "outlinewidth": 0,
              "ticks": ""
             }
            },
            "type": "scatter3d"
           }
          ],
          "scattercarpet": [
           {
            "marker": {
             "colorbar": {
              "outlinewidth": 0,
              "ticks": ""
             }
            },
            "type": "scattercarpet"
           }
          ],
          "scattergeo": [
           {
            "marker": {
             "colorbar": {
              "outlinewidth": 0,
              "ticks": ""
             }
            },
            "type": "scattergeo"
           }
          ],
          "scattergl": [
           {
            "marker": {
             "colorbar": {
              "outlinewidth": 0,
              "ticks": ""
             }
            },
            "type": "scattergl"
           }
          ],
          "scattermapbox": [
           {
            "marker": {
             "colorbar": {
              "outlinewidth": 0,
              "ticks": ""
             }
            },
            "type": "scattermapbox"
           }
          ],
          "scatterpolar": [
           {
            "marker": {
             "colorbar": {
              "outlinewidth": 0,
              "ticks": ""
             }
            },
            "type": "scatterpolar"
           }
          ],
          "scatterpolargl": [
           {
            "marker": {
             "colorbar": {
              "outlinewidth": 0,
              "ticks": ""
             }
            },
            "type": "scatterpolargl"
           }
          ],
          "scatterternary": [
           {
            "marker": {
             "colorbar": {
              "outlinewidth": 0,
              "ticks": ""
             }
            },
            "type": "scatterternary"
           }
          ],
          "surface": [
           {
            "colorbar": {
             "outlinewidth": 0,
             "ticks": ""
            },
            "colorscale": [
             [
              0,
              "#0d0887"
             ],
             [
              0.1111111111111111,
              "#46039f"
             ],
             [
              0.2222222222222222,
              "#7201a8"
             ],
             [
              0.3333333333333333,
              "#9c179e"
             ],
             [
              0.4444444444444444,
              "#bd3786"
             ],
             [
              0.5555555555555556,
              "#d8576b"
             ],
             [
              0.6666666666666666,
              "#ed7953"
             ],
             [
              0.7777777777777778,
              "#fb9f3a"
             ],
             [
              0.8888888888888888,
              "#fdca26"
             ],
             [
              1,
              "#f0f921"
             ]
            ],
            "type": "surface"
           }
          ],
          "table": [
           {
            "cells": {
             "fill": {
              "color": "#EBF0F8"
             },
             "line": {
              "color": "white"
             }
            },
            "header": {
             "fill": {
              "color": "#C8D4E3"
             },
             "line": {
              "color": "white"
             }
            },
            "type": "table"
           }
          ]
         },
         "layout": {
          "annotationdefaults": {
           "arrowcolor": "#2a3f5f",
           "arrowhead": 0,
           "arrowwidth": 1
          },
          "coloraxis": {
           "colorbar": {
            "outlinewidth": 0,
            "ticks": ""
           }
          },
          "colorscale": {
           "diverging": [
            [
             0,
             "#8e0152"
            ],
            [
             0.1,
             "#c51b7d"
            ],
            [
             0.2,
             "#de77ae"
            ],
            [
             0.3,
             "#f1b6da"
            ],
            [
             0.4,
             "#fde0ef"
            ],
            [
             0.5,
             "#f7f7f7"
            ],
            [
             0.6,
             "#e6f5d0"
            ],
            [
             0.7,
             "#b8e186"
            ],
            [
             0.8,
             "#7fbc41"
            ],
            [
             0.9,
             "#4d9221"
            ],
            [
             1,
             "#276419"
            ]
           ],
           "sequential": [
            [
             0,
             "#0d0887"
            ],
            [
             0.1111111111111111,
             "#46039f"
            ],
            [
             0.2222222222222222,
             "#7201a8"
            ],
            [
             0.3333333333333333,
             "#9c179e"
            ],
            [
             0.4444444444444444,
             "#bd3786"
            ],
            [
             0.5555555555555556,
             "#d8576b"
            ],
            [
             0.6666666666666666,
             "#ed7953"
            ],
            [
             0.7777777777777778,
             "#fb9f3a"
            ],
            [
             0.8888888888888888,
             "#fdca26"
            ],
            [
             1,
             "#f0f921"
            ]
           ],
           "sequentialminus": [
            [
             0,
             "#0d0887"
            ],
            [
             0.1111111111111111,
             "#46039f"
            ],
            [
             0.2222222222222222,
             "#7201a8"
            ],
            [
             0.3333333333333333,
             "#9c179e"
            ],
            [
             0.4444444444444444,
             "#bd3786"
            ],
            [
             0.5555555555555556,
             "#d8576b"
            ],
            [
             0.6666666666666666,
             "#ed7953"
            ],
            [
             0.7777777777777778,
             "#fb9f3a"
            ],
            [
             0.8888888888888888,
             "#fdca26"
            ],
            [
             1,
             "#f0f921"
            ]
           ]
          },
          "colorway": [
           "#636efa",
           "#EF553B",
           "#00cc96",
           "#ab63fa",
           "#FFA15A",
           "#19d3f3",
           "#FF6692",
           "#B6E880",
           "#FF97FF",
           "#FECB52"
          ],
          "font": {
           "color": "#2a3f5f"
          },
          "geo": {
           "bgcolor": "white",
           "lakecolor": "white",
           "landcolor": "#E5ECF6",
           "showlakes": true,
           "showland": true,
           "subunitcolor": "white"
          },
          "hoverlabel": {
           "align": "left"
          },
          "hovermode": "closest",
          "mapbox": {
           "style": "light"
          },
          "paper_bgcolor": "white",
          "plot_bgcolor": "#E5ECF6",
          "polar": {
           "angularaxis": {
            "gridcolor": "white",
            "linecolor": "white",
            "ticks": ""
           },
           "bgcolor": "#E5ECF6",
           "radialaxis": {
            "gridcolor": "white",
            "linecolor": "white",
            "ticks": ""
           }
          },
          "scene": {
           "xaxis": {
            "backgroundcolor": "#E5ECF6",
            "gridcolor": "white",
            "gridwidth": 2,
            "linecolor": "white",
            "showbackground": true,
            "ticks": "",
            "zerolinecolor": "white"
           },
           "yaxis": {
            "backgroundcolor": "#E5ECF6",
            "gridcolor": "white",
            "gridwidth": 2,
            "linecolor": "white",
            "showbackground": true,
            "ticks": "",
            "zerolinecolor": "white"
           },
           "zaxis": {
            "backgroundcolor": "#E5ECF6",
            "gridcolor": "white",
            "gridwidth": 2,
            "linecolor": "white",
            "showbackground": true,
            "ticks": "",
            "zerolinecolor": "white"
           }
          },
          "shapedefaults": {
           "line": {
            "color": "#2a3f5f"
           }
          },
          "ternary": {
           "aaxis": {
            "gridcolor": "white",
            "linecolor": "white",
            "ticks": ""
           },
           "baxis": {
            "gridcolor": "white",
            "linecolor": "white",
            "ticks": ""
           },
           "bgcolor": "#E5ECF6",
           "caxis": {
            "gridcolor": "white",
            "linecolor": "white",
            "ticks": ""
           }
          },
          "title": {
           "x": 0.05
          },
          "xaxis": {
           "automargin": true,
           "gridcolor": "white",
           "linecolor": "white",
           "ticks": "",
           "title": {
            "standoff": 15
           },
           "zerolinecolor": "white",
           "zerolinewidth": 2
          },
          "yaxis": {
           "automargin": true,
           "gridcolor": "white",
           "linecolor": "white",
           "ticks": "",
           "title": {
            "standoff": 15
           },
           "zerolinecolor": "white",
           "zerolinewidth": 2
          }
         }
        },
        "xaxis": {
         "anchor": "y",
         "domain": [
          0,
          0.45
         ],
         "matches": "x3",
         "showticklabels": false
        },
        "xaxis2": {
         "anchor": "y2",
         "domain": [
          0.55,
          1
         ],
         "matches": "x4",
         "showticklabels": false
        },
        "xaxis3": {
         "anchor": "y3",
         "domain": [
          0,
          0.45
         ]
        },
        "xaxis4": {
         "anchor": "y4",
         "domain": [
          0.55,
          1
         ]
        },
        "xaxis5": {
         "anchor": "y5",
         "domain": [
          0,
          1
         ]
        },
        "yaxis": {
         "anchor": "x",
         "domain": [
          0.7777777777777778,
          1
         ]
        },
        "yaxis2": {
         "anchor": "x2",
         "domain": [
          0.7777777777777778,
          1
         ]
        },
        "yaxis3": {
         "anchor": "x3",
         "domain": [
          0.3888888888888889,
          0.6111111111111112
         ]
        },
        "yaxis4": {
         "anchor": "x4",
         "domain": [
          0.3888888888888889,
          0.6111111111111112
         ]
        },
        "yaxis5": {
         "anchor": "x5",
         "domain": [
          0,
          0.22222222222222224
         ]
        }
       }
      }
     },
     "metadata": {},
     "output_type": "display_data"
    },
    {
     "data": {
      "text/plain": "<function __main__.plotcountry(Country)>"
     },
     "execution_count": 88,
     "metadata": {},
     "output_type": "execute_result"
    }
   ],
   "source": [
    "def plotcountry(Country):\n",
    "    fig = make_subplots(rows=3, cols=2,shared_xaxes=True,\n",
    "                    specs=[[{}, {}],[{},{}],\n",
    "                       [{\"colspan\": 2}, None]],\n",
    "                    subplot_titles=('Total Confirmed Cases','Active Cases','Deaths','Recoveries','Death to Cases Ratio'))\n",
    "    fig.add_trace(go.Scatter(x=CountryConsolidated.loc[Country].index,y=CountryConsolidated.loc[Country,'Total Confirmed Cases'],\n",
    "                         mode='lines+markers',\n",
    "                         name='Confirmed Cases',\n",
    "                         line=dict(color=chartcol,width=2)),\n",
    "                         row=1,col=1)\n",
    "    fig.add_trace(go.Scatter(x=CountryConsolidated.loc[Country].index,y=CountryConsolidated.loc[Country,'Active Cases'],\n",
    "                         mode='lines+markers',\n",
    "                         name='Active Cases',\n",
    "                         line=dict(color=chartcol,width=2)),\n",
    "                         row=1,col=2)\n",
    "    fig.add_trace(go.Scatter(x=CountryConsolidated.loc[Country].index,y=CountryConsolidated.loc[Country,'Total Deaths'],\n",
    "                         mode='lines+markers',\n",
    "                         name='Total Deaths',\n",
    "                         line=dict(color=chartcol,width=2)),\n",
    "                         row=2,col=1)\n",
    "    fig.add_trace(go.Scatter(x=CountryConsolidated.loc[Country].index,y=CountryConsolidated.loc[Country,'Total Recoveries'],\n",
    "                         mode='lines+markers',\n",
    "                         name='Total Recoveries',\n",
    "                         line=dict(color=chartcol,width=2)),\n",
    "                         row=2,col=2)\n",
    "    fig.add_trace(go.Scatter(x=CountryConsolidated.loc[Country].index,y=CountryConsolidated.loc[Country,'Death to Cases Ratio'],\n",
    "                         mode='lines+markers',\n",
    "                         name='Death to Cases Ratio',\n",
    "                         line=dict(color=chartcol,width=2)),\n",
    "                         row=3,col=1)\n",
    "    fig.update_layout(showlegend=False)\n",
    "    \n",
    "    return fig\n",
    "CountriesList=['Germany','Italy','US','Australia','Pakistan','Iran','South Korea','Japan','Netherlands','US', 'Colombia']\n",
    "interact(plotcountry, Country=widgets.Dropdown(options=CountriesList))"
   ]
  },
  {
   "cell_type": "markdown",
   "execution_count": null,
   "metadata": {},
   "outputs": [],
   "source": [
    "### Cumulative Data by Country"
   ]
  },
  {
   "cell_type": "code",
   "execution_count": 89,
   "metadata": {},
   "outputs": [],
   "source": [
    "max_index=CountryConsolidated.reset_index()['Date'].max()\n",
    "CumulativeCountryData=CountryConsolidated.reset_index().set_index('Date').loc[max_index].set_index('Country/Region')\n",
    "top10countriesbycases=CumulativeCountryData['Total Confirmed Cases'].sort_values(ascending=False).head(10).index.tolist()\n",
    "top10countriesbycasesexclChina=CumulativeCountryData[~CumulativeCountryData.index.isin(['China','Others'])]['Total Confirmed Cases'].sort_values(ascending=False).head(10).index.tolist()\n",
    "top10countriescumulative=CumulativeCountryData.loc[top10countriesbycases]\n",
    "top10countriescumulativexclChina=CumulativeCountryData.loc[top10countriesbycasesexclChina]"
   ]
  },
  {
   "cell_type": "code",
   "execution_count": 90,
   "metadata": {},
   "outputs": [
    {
     "data": {
      "text/html": "<div>\n<style scoped>\n    .dataframe tbody tr th:only-of-type {\n        vertical-align: middle;\n    }\n\n    .dataframe tbody tr th {\n        vertical-align: top;\n    }\n\n    .dataframe thead th {\n        text-align: right;\n    }\n</style>\n<table border=\"1\" class=\"dataframe\">\n  <thead>\n    <tr style=\"text-align: right;\">\n      <th></th>\n      <th>Total Confirmed Cases</th>\n      <th>Daily New Cases</th>\n      <th>Daily New Deaths</th>\n      <th>Total Deaths</th>\n      <th>Total Recoveries</th>\n      <th>Daily New Recoveries</th>\n      <th>Active Cases</th>\n      <th>Share of Recoveries - Closed Cases</th>\n      <th>Death to Cases Ratio</th>\n    </tr>\n    <tr>\n      <th>Country/Region</th>\n      <th></th>\n      <th></th>\n      <th></th>\n      <th></th>\n      <th></th>\n      <th></th>\n      <th></th>\n      <th></th>\n      <th></th>\n    </tr>\n  </thead>\n  <tbody>\n    <tr>\n      <th>Afghanistan</th>\n      <td>11</td>\n      <td>4.0</td>\n      <td>0.0</td>\n      <td>0</td>\n      <td>0</td>\n      <td>0.0</td>\n      <td>11</td>\n      <td>NaN</td>\n      <td>0.000</td>\n    </tr>\n    <tr>\n      <th>Albania</th>\n      <td>38</td>\n      <td>5.0</td>\n      <td>0.0</td>\n      <td>1</td>\n      <td>0</td>\n      <td>0.0</td>\n      <td>37</td>\n      <td>0.00</td>\n      <td>0.026</td>\n    </tr>\n    <tr>\n      <th>Algeria</th>\n      <td>37</td>\n      <td>11.0</td>\n      <td>1.0</td>\n      <td>3</td>\n      <td>12</td>\n      <td>4.0</td>\n      <td>22</td>\n      <td>0.80</td>\n      <td>0.081</td>\n    </tr>\n    <tr>\n      <th>Andorra</th>\n      <td>1</td>\n      <td>0.0</td>\n      <td>0.0</td>\n      <td>0</td>\n      <td>1</td>\n      <td>1.0</td>\n      <td>0</td>\n      <td>1.00</td>\n      <td>0.000</td>\n    </tr>\n    <tr>\n      <th>Antigua and Barbuda</th>\n      <td>1</td>\n      <td>0.0</td>\n      <td>0.0</td>\n      <td>0</td>\n      <td>0</td>\n      <td>0.0</td>\n      <td>1</td>\n      <td>NaN</td>\n      <td>0.000</td>\n    </tr>\n    <tr>\n      <th>...</th>\n      <td>...</td>\n      <td>...</td>\n      <td>...</td>\n      <td>...</td>\n      <td>...</td>\n      <td>...</td>\n      <td>...</td>\n      <td>...</td>\n      <td>...</td>\n    </tr>\n    <tr>\n      <th>United Kingdom</th>\n      <td>1143</td>\n      <td>342.0</td>\n      <td>13.0</td>\n      <td>21</td>\n      <td>19</td>\n      <td>0.0</td>\n      <td>1103</td>\n      <td>0.48</td>\n      <td>0.018</td>\n    </tr>\n    <tr>\n      <th>Uruguay</th>\n      <td>4</td>\n      <td>4.0</td>\n      <td>0.0</td>\n      <td>0</td>\n      <td>0</td>\n      <td>0.0</td>\n      <td>4</td>\n      <td>NaN</td>\n      <td>0.000</td>\n    </tr>\n    <tr>\n      <th>Venezuela</th>\n      <td>2</td>\n      <td>2.0</td>\n      <td>0.0</td>\n      <td>0</td>\n      <td>0</td>\n      <td>0.0</td>\n      <td>2</td>\n      <td>NaN</td>\n      <td>0.000</td>\n    </tr>\n    <tr>\n      <th>Vietnam</th>\n      <td>53</td>\n      <td>6.0</td>\n      <td>0.0</td>\n      <td>0</td>\n      <td>16</td>\n      <td>0.0</td>\n      <td>37</td>\n      <td>1.00</td>\n      <td>0.000</td>\n    </tr>\n    <tr>\n      <th>occupied Palestinian territory</th>\n      <td>0</td>\n      <td>0.0</td>\n      <td>0.0</td>\n      <td>0</td>\n      <td>0</td>\n      <td>0.0</td>\n      <td>0</td>\n      <td>NaN</td>\n      <td>NaN</td>\n    </tr>\n  </tbody>\n</table>\n<p>143 rows × 9 columns</p>\n</div>",
      "text/plain": "                                Total Confirmed Cases  Daily New Cases  \\\nCountry/Region                                                           \nAfghanistan                                        11              4.0   \nAlbania                                            38              5.0   \nAlgeria                                            37             11.0   \nAndorra                                             1              0.0   \nAntigua and Barbuda                                 1              0.0   \n...                                               ...              ...   \nUnited Kingdom                                   1143            342.0   \nUruguay                                             4              4.0   \nVenezuela                                           2              2.0   \nVietnam                                            53              6.0   \noccupied Palestinian territory                      0              0.0   \n\n                                Daily New Deaths  Total Deaths  \\\nCountry/Region                                                   \nAfghanistan                                  0.0             0   \nAlbania                                      0.0             1   \nAlgeria                                      1.0             3   \nAndorra                                      0.0             0   \nAntigua and Barbuda                          0.0             0   \n...                                          ...           ...   \nUnited Kingdom                              13.0            21   \nUruguay                                      0.0             0   \nVenezuela                                    0.0             0   \nVietnam                                      0.0             0   \noccupied Palestinian territory               0.0             0   \n\n                                Total Recoveries  Daily New Recoveries  \\\nCountry/Region                                                           \nAfghanistan                                    0                   0.0   \nAlbania                                        0                   0.0   \nAlgeria                                       12                   4.0   \nAndorra                                        1                   1.0   \nAntigua and Barbuda                            0                   0.0   \n...                                          ...                   ...   \nUnited Kingdom                                19                   0.0   \nUruguay                                        0                   0.0   \nVenezuela                                      0                   0.0   \nVietnam                                       16                   0.0   \noccupied Palestinian territory                 0                   0.0   \n\n                                Active Cases  \\\nCountry/Region                                 \nAfghanistan                               11   \nAlbania                                   37   \nAlgeria                                   22   \nAndorra                                    0   \nAntigua and Barbuda                        1   \n...                                      ...   \nUnited Kingdom                          1103   \nUruguay                                    4   \nVenezuela                                  2   \nVietnam                                   37   \noccupied Palestinian territory             0   \n\n                                Share of Recoveries - Closed Cases  \\\nCountry/Region                                                       \nAfghanistan                                                    NaN   \nAlbania                                                       0.00   \nAlgeria                                                       0.80   \nAndorra                                                       1.00   \nAntigua and Barbuda                                            NaN   \n...                                                            ...   \nUnited Kingdom                                                0.48   \nUruguay                                                        NaN   \nVenezuela                                                      NaN   \nVietnam                                                       1.00   \noccupied Palestinian territory                                 NaN   \n\n                                Death to Cases Ratio  \nCountry/Region                                        \nAfghanistan                                    0.000  \nAlbania                                        0.026  \nAlgeria                                        0.081  \nAndorra                                        0.000  \nAntigua and Barbuda                            0.000  \n...                                              ...  \nUnited Kingdom                                 0.018  \nUruguay                                        0.000  \nVenezuela                                      0.000  \nVietnam                                        0.000  \noccupied Palestinian territory                   NaN  \n\n[143 rows x 9 columns]"
     },
     "execution_count": 90,
     "metadata": {},
     "output_type": "execute_result"
    }
   ],
   "source": [
    "CumulativeCountryData"
   ]
  },
  {
   "cell_type": "code",
   "execution_count": 91,
   "metadata": {},
   "outputs": [
    {
     "data": {
      "application/vnd.plotly.v1+json": {
       "config": {
        "plotlyServerURL": "https://plot.ly"
       },
       "data": [
        {
         "text": [
          0.068,
          0.048,
          0.009,
          0.031,
          0.002,
          0.02,
          0.02,
          0.01,
          0.018,
          0.003
         ],
         "textposition": "outside",
         "type": "bar",
         "x": [
          "Italy",
          "Iran",
          "Korea, South",
          "Spain",
          "Germany",
          "France",
          "US",
          "Switzerland",
          "United Kingdom",
          "Norway"
         ],
         "y": [
          21157,
          12729,
          8086,
          6391,
          4585,
          4480,
          2727,
          1359,
          1143,
          1090
         ]
        }
       ],
       "layout": {
        "template": {
         "data": {
          "bar": [
           {
            "error_x": {
             "color": "#2a3f5f"
            },
            "error_y": {
             "color": "#2a3f5f"
            },
            "marker": {
             "line": {
              "color": "#E5ECF6",
              "width": 0.5
             }
            },
            "type": "bar"
           }
          ],
          "barpolar": [
           {
            "marker": {
             "line": {
              "color": "#E5ECF6",
              "width": 0.5
             }
            },
            "type": "barpolar"
           }
          ],
          "carpet": [
           {
            "aaxis": {
             "endlinecolor": "#2a3f5f",
             "gridcolor": "white",
             "linecolor": "white",
             "minorgridcolor": "white",
             "startlinecolor": "#2a3f5f"
            },
            "baxis": {
             "endlinecolor": "#2a3f5f",
             "gridcolor": "white",
             "linecolor": "white",
             "minorgridcolor": "white",
             "startlinecolor": "#2a3f5f"
            },
            "type": "carpet"
           }
          ],
          "choropleth": [
           {
            "colorbar": {
             "outlinewidth": 0,
             "ticks": ""
            },
            "type": "choropleth"
           }
          ],
          "contour": [
           {
            "colorbar": {
             "outlinewidth": 0,
             "ticks": ""
            },
            "colorscale": [
             [
              0,
              "#0d0887"
             ],
             [
              0.1111111111111111,
              "#46039f"
             ],
             [
              0.2222222222222222,
              "#7201a8"
             ],
             [
              0.3333333333333333,
              "#9c179e"
             ],
             [
              0.4444444444444444,
              "#bd3786"
             ],
             [
              0.5555555555555556,
              "#d8576b"
             ],
             [
              0.6666666666666666,
              "#ed7953"
             ],
             [
              0.7777777777777778,
              "#fb9f3a"
             ],
             [
              0.8888888888888888,
              "#fdca26"
             ],
             [
              1,
              "#f0f921"
             ]
            ],
            "type": "contour"
           }
          ],
          "contourcarpet": [
           {
            "colorbar": {
             "outlinewidth": 0,
             "ticks": ""
            },
            "type": "contourcarpet"
           }
          ],
          "heatmap": [
           {
            "colorbar": {
             "outlinewidth": 0,
             "ticks": ""
            },
            "colorscale": [
             [
              0,
              "#0d0887"
             ],
             [
              0.1111111111111111,
              "#46039f"
             ],
             [
              0.2222222222222222,
              "#7201a8"
             ],
             [
              0.3333333333333333,
              "#9c179e"
             ],
             [
              0.4444444444444444,
              "#bd3786"
             ],
             [
              0.5555555555555556,
              "#d8576b"
             ],
             [
              0.6666666666666666,
              "#ed7953"
             ],
             [
              0.7777777777777778,
              "#fb9f3a"
             ],
             [
              0.8888888888888888,
              "#fdca26"
             ],
             [
              1,
              "#f0f921"
             ]
            ],
            "type": "heatmap"
           }
          ],
          "heatmapgl": [
           {
            "colorbar": {
             "outlinewidth": 0,
             "ticks": ""
            },
            "colorscale": [
             [
              0,
              "#0d0887"
             ],
             [
              0.1111111111111111,
              "#46039f"
             ],
             [
              0.2222222222222222,
              "#7201a8"
             ],
             [
              0.3333333333333333,
              "#9c179e"
             ],
             [
              0.4444444444444444,
              "#bd3786"
             ],
             [
              0.5555555555555556,
              "#d8576b"
             ],
             [
              0.6666666666666666,
              "#ed7953"
             ],
             [
              0.7777777777777778,
              "#fb9f3a"
             ],
             [
              0.8888888888888888,
              "#fdca26"
             ],
             [
              1,
              "#f0f921"
             ]
            ],
            "type": "heatmapgl"
           }
          ],
          "histogram": [
           {
            "marker": {
             "colorbar": {
              "outlinewidth": 0,
              "ticks": ""
             }
            },
            "type": "histogram"
           }
          ],
          "histogram2d": [
           {
            "colorbar": {
             "outlinewidth": 0,
             "ticks": ""
            },
            "colorscale": [
             [
              0,
              "#0d0887"
             ],
             [
              0.1111111111111111,
              "#46039f"
             ],
             [
              0.2222222222222222,
              "#7201a8"
             ],
             [
              0.3333333333333333,
              "#9c179e"
             ],
             [
              0.4444444444444444,
              "#bd3786"
             ],
             [
              0.5555555555555556,
              "#d8576b"
             ],
             [
              0.6666666666666666,
              "#ed7953"
             ],
             [
              0.7777777777777778,
              "#fb9f3a"
             ],
             [
              0.8888888888888888,
              "#fdca26"
             ],
             [
              1,
              "#f0f921"
             ]
            ],
            "type": "histogram2d"
           }
          ],
          "histogram2dcontour": [
           {
            "colorbar": {
             "outlinewidth": 0,
             "ticks": ""
            },
            "colorscale": [
             [
              0,
              "#0d0887"
             ],
             [
              0.1111111111111111,
              "#46039f"
             ],
             [
              0.2222222222222222,
              "#7201a8"
             ],
             [
              0.3333333333333333,
              "#9c179e"
             ],
             [
              0.4444444444444444,
              "#bd3786"
             ],
             [
              0.5555555555555556,
              "#d8576b"
             ],
             [
              0.6666666666666666,
              "#ed7953"
             ],
             [
              0.7777777777777778,
              "#fb9f3a"
             ],
             [
              0.8888888888888888,
              "#fdca26"
             ],
             [
              1,
              "#f0f921"
             ]
            ],
            "type": "histogram2dcontour"
           }
          ],
          "mesh3d": [
           {
            "colorbar": {
             "outlinewidth": 0,
             "ticks": ""
            },
            "type": "mesh3d"
           }
          ],
          "parcoords": [
           {
            "line": {
             "colorbar": {
              "outlinewidth": 0,
              "ticks": ""
             }
            },
            "type": "parcoords"
           }
          ],
          "pie": [
           {
            "automargin": true,
            "type": "pie"
           }
          ],
          "scatter": [
           {
            "marker": {
             "colorbar": {
              "outlinewidth": 0,
              "ticks": ""
             }
            },
            "type": "scatter"
           }
          ],
          "scatter3d": [
           {
            "line": {
             "colorbar": {
              "outlinewidth": 0,
              "ticks": ""
             }
            },
            "marker": {
             "colorbar": {
              "outlinewidth": 0,
              "ticks": ""
             }
            },
            "type": "scatter3d"
           }
          ],
          "scattercarpet": [
           {
            "marker": {
             "colorbar": {
              "outlinewidth": 0,
              "ticks": ""
             }
            },
            "type": "scattercarpet"
           }
          ],
          "scattergeo": [
           {
            "marker": {
             "colorbar": {
              "outlinewidth": 0,
              "ticks": ""
             }
            },
            "type": "scattergeo"
           }
          ],
          "scattergl": [
           {
            "marker": {
             "colorbar": {
              "outlinewidth": 0,
              "ticks": ""
             }
            },
            "type": "scattergl"
           }
          ],
          "scattermapbox": [
           {
            "marker": {
             "colorbar": {
              "outlinewidth": 0,
              "ticks": ""
             }
            },
            "type": "scattermapbox"
           }
          ],
          "scatterpolar": [
           {
            "marker": {
             "colorbar": {
              "outlinewidth": 0,
              "ticks": ""
             }
            },
            "type": "scatterpolar"
           }
          ],
          "scatterpolargl": [
           {
            "marker": {
             "colorbar": {
              "outlinewidth": 0,
              "ticks": ""
             }
            },
            "type": "scatterpolargl"
           }
          ],
          "scatterternary": [
           {
            "marker": {
             "colorbar": {
              "outlinewidth": 0,
              "ticks": ""
             }
            },
            "type": "scatterternary"
           }
          ],
          "surface": [
           {
            "colorbar": {
             "outlinewidth": 0,
             "ticks": ""
            },
            "colorscale": [
             [
              0,
              "#0d0887"
             ],
             [
              0.1111111111111111,
              "#46039f"
             ],
             [
              0.2222222222222222,
              "#7201a8"
             ],
             [
              0.3333333333333333,
              "#9c179e"
             ],
             [
              0.4444444444444444,
              "#bd3786"
             ],
             [
              0.5555555555555556,
              "#d8576b"
             ],
             [
              0.6666666666666666,
              "#ed7953"
             ],
             [
              0.7777777777777778,
              "#fb9f3a"
             ],
             [
              0.8888888888888888,
              "#fdca26"
             ],
             [
              1,
              "#f0f921"
             ]
            ],
            "type": "surface"
           }
          ],
          "table": [
           {
            "cells": {
             "fill": {
              "color": "#EBF0F8"
             },
             "line": {
              "color": "white"
             }
            },
            "header": {
             "fill": {
              "color": "#C8D4E3"
             },
             "line": {
              "color": "white"
             }
            },
            "type": "table"
           }
          ]
         },
         "layout": {
          "annotationdefaults": {
           "arrowcolor": "#2a3f5f",
           "arrowhead": 0,
           "arrowwidth": 1
          },
          "coloraxis": {
           "colorbar": {
            "outlinewidth": 0,
            "ticks": ""
           }
          },
          "colorscale": {
           "diverging": [
            [
             0,
             "#8e0152"
            ],
            [
             0.1,
             "#c51b7d"
            ],
            [
             0.2,
             "#de77ae"
            ],
            [
             0.3,
             "#f1b6da"
            ],
            [
             0.4,
             "#fde0ef"
            ],
            [
             0.5,
             "#f7f7f7"
            ],
            [
             0.6,
             "#e6f5d0"
            ],
            [
             0.7,
             "#b8e186"
            ],
            [
             0.8,
             "#7fbc41"
            ],
            [
             0.9,
             "#4d9221"
            ],
            [
             1,
             "#276419"
            ]
           ],
           "sequential": [
            [
             0,
             "#0d0887"
            ],
            [
             0.1111111111111111,
             "#46039f"
            ],
            [
             0.2222222222222222,
             "#7201a8"
            ],
            [
             0.3333333333333333,
             "#9c179e"
            ],
            [
             0.4444444444444444,
             "#bd3786"
            ],
            [
             0.5555555555555556,
             "#d8576b"
            ],
            [
             0.6666666666666666,
             "#ed7953"
            ],
            [
             0.7777777777777778,
             "#fb9f3a"
            ],
            [
             0.8888888888888888,
             "#fdca26"
            ],
            [
             1,
             "#f0f921"
            ]
           ],
           "sequentialminus": [
            [
             0,
             "#0d0887"
            ],
            [
             0.1111111111111111,
             "#46039f"
            ],
            [
             0.2222222222222222,
             "#7201a8"
            ],
            [
             0.3333333333333333,
             "#9c179e"
            ],
            [
             0.4444444444444444,
             "#bd3786"
            ],
            [
             0.5555555555555556,
             "#d8576b"
            ],
            [
             0.6666666666666666,
             "#ed7953"
            ],
            [
             0.7777777777777778,
             "#fb9f3a"
            ],
            [
             0.8888888888888888,
             "#fdca26"
            ],
            [
             1,
             "#f0f921"
            ]
           ]
          },
          "colorway": [
           "#636efa",
           "#EF553B",
           "#00cc96",
           "#ab63fa",
           "#FFA15A",
           "#19d3f3",
           "#FF6692",
           "#B6E880",
           "#FF97FF",
           "#FECB52"
          ],
          "font": {
           "color": "#2a3f5f"
          },
          "geo": {
           "bgcolor": "white",
           "lakecolor": "white",
           "landcolor": "#E5ECF6",
           "showlakes": true,
           "showland": true,
           "subunitcolor": "white"
          },
          "hoverlabel": {
           "align": "left"
          },
          "hovermode": "closest",
          "mapbox": {
           "style": "light"
          },
          "paper_bgcolor": "white",
          "plot_bgcolor": "#E5ECF6",
          "polar": {
           "angularaxis": {
            "gridcolor": "white",
            "linecolor": "white",
            "ticks": ""
           },
           "bgcolor": "#E5ECF6",
           "radialaxis": {
            "gridcolor": "white",
            "linecolor": "white",
            "ticks": ""
           }
          },
          "scene": {
           "xaxis": {
            "backgroundcolor": "#E5ECF6",
            "gridcolor": "white",
            "gridwidth": 2,
            "linecolor": "white",
            "showbackground": true,
            "ticks": "",
            "zerolinecolor": "white"
           },
           "yaxis": {
            "backgroundcolor": "#E5ECF6",
            "gridcolor": "white",
            "gridwidth": 2,
            "linecolor": "white",
            "showbackground": true,
            "ticks": "",
            "zerolinecolor": "white"
           },
           "zaxis": {
            "backgroundcolor": "#E5ECF6",
            "gridcolor": "white",
            "gridwidth": 2,
            "linecolor": "white",
            "showbackground": true,
            "ticks": "",
            "zerolinecolor": "white"
           }
          },
          "shapedefaults": {
           "line": {
            "color": "#2a3f5f"
           }
          },
          "ternary": {
           "aaxis": {
            "gridcolor": "white",
            "linecolor": "white",
            "ticks": ""
           },
           "baxis": {
            "gridcolor": "white",
            "linecolor": "white",
            "ticks": ""
           },
           "bgcolor": "#E5ECF6",
           "caxis": {
            "gridcolor": "white",
            "linecolor": "white",
            "ticks": ""
           }
          },
          "title": {
           "x": 0.05
          },
          "xaxis": {
           "automargin": true,
           "gridcolor": "white",
           "linecolor": "white",
           "ticks": "",
           "title": {
            "standoff": 15
           },
           "zerolinecolor": "white",
           "zerolinewidth": 2
          },
          "yaxis": {
           "automargin": true,
           "gridcolor": "white",
           "linecolor": "white",
           "ticks": "",
           "title": {
            "standoff": 15
           },
           "zerolinecolor": "white",
           "zerolinewidth": 2
          }
         }
        },
        "title": {
         "text": "Top countries by Cases and their Death Rates - Excluding China"
        },
        "yaxis": {
         "title": {
          "text": "Total Cases"
         }
        }
       }
      }
     },
     "metadata": {},
     "output_type": "display_data"
    }
   ],
   "source": [
    "fig = go.Figure(go.Bar(x=top10countriescumulativexclChina.index, y=top10countriescumulativexclChina['Total Confirmed Cases'],\n",
    "                      text=top10countriescumulativexclChina['Death to Cases Ratio'],\n",
    "            textposition='outside'))\n",
    "fig.update_layout(title_text='Top countries by Cases and their Death Rates - Excluding China',yaxis_title='Total Cases')"
   ]
  },
  {
   "cell_type": "markdown",
   "execution_count": null,
   "metadata": {},
   "outputs": [],
   "source": [
    "### Total Cases by number of days since 'Outbreak'"
   ]
  },
  {
   "cell_type": "code",
   "execution_count": 92,
   "metadata": {},
   "outputs": [],
   "source": [
    "### First Cases\n",
    "ItalyFirstCase=CountryConsolidated.loc['Italy']['Total Confirmed Cases'].reset_index().set_index('Date')\n",
    "SKFirstCase=CountryConsolidated.loc['Korea, South']['Total Confirmed Cases'].reset_index().set_index('Date')\n",
    "IranFirstCase=CountryConsolidated.loc['Iran']['Total Confirmed Cases'].reset_index().set_index('Date')\n",
    "GermanyFirstCase=CountryConsolidated.loc['Germany']['Total Confirmed Cases'].reset_index().set_index('Date')\n",
    "SingaporeFirstCase=CountryConsolidated.loc['Singapore']['Total Confirmed Cases'].reset_index().set_index('Date')\n",
    "USFirstCase=CountryConsolidated.loc['US']['Total Confirmed Cases'].reset_index().set_index('Date')\n",
    "ColombiaFirstCase=CountryConsolidated.loc['Colombia']['Total Confirmed Cases'].reset_index().set_index('Date')\n",
    "\n",
    "### Growth\n",
    "ItalyGrowth=ItalyFirstCase[ItalyFirstCase.ne(0)].dropna().reset_index()\n",
    "SKGrowth=SKFirstCase[SKFirstCase.ne(0)].dropna().reset_index()\n",
    "IranGrowth=IranFirstCase[IranFirstCase.ne(0)].dropna().reset_index()\n",
    "GermanyGrowth=GermanyFirstCase[GermanyFirstCase.ne(0)].dropna().reset_index()\n",
    "SingaporeGrowth=SingaporeFirstCase[SingaporeFirstCase.ne(0)].dropna().reset_index()\n",
    "USGrowth=USFirstCase[USFirstCase.ne(0)].dropna().reset_index()\n",
    "ColombiaGrowth=ColombiaFirstCase[ColombiaFirstCase.ne(0)].dropna().reset_index()"
   ]
  },
  {
   "cell_type": "markdown",
   "execution_count": null,
   "metadata": {},
   "outputs": [],
   "source": [
    "### Italy Growth Last 30 days\n"
   ]
  },
  {
   "cell_type": "code",
   "execution_count": 93,
   "metadata": {},
   "outputs": [
    {
     "data": {
      "text/html": "<div>\n<style scoped>\n    .dataframe tbody tr th:only-of-type {\n        vertical-align: middle;\n    }\n\n    .dataframe tbody tr th {\n        vertical-align: top;\n    }\n\n    .dataframe thead th {\n        text-align: right;\n    }\n</style>\n<table border=\"1\" class=\"dataframe\">\n  <thead>\n    <tr style=\"text-align: right;\">\n      <th></th>\n      <th>Date</th>\n      <th>Total Confirmed Cases</th>\n    </tr>\n  </thead>\n  <tbody>\n    <tr>\n      <th>14</th>\n      <td>2020-02-14</td>\n      <td>3.0</td>\n    </tr>\n    <tr>\n      <th>15</th>\n      <td>2020-02-15</td>\n      <td>3.0</td>\n    </tr>\n    <tr>\n      <th>16</th>\n      <td>2020-02-16</td>\n      <td>3.0</td>\n    </tr>\n    <tr>\n      <th>17</th>\n      <td>2020-02-17</td>\n      <td>3.0</td>\n    </tr>\n    <tr>\n      <th>18</th>\n      <td>2020-02-18</td>\n      <td>3.0</td>\n    </tr>\n    <tr>\n      <th>19</th>\n      <td>2020-02-19</td>\n      <td>3.0</td>\n    </tr>\n    <tr>\n      <th>20</th>\n      <td>2020-02-20</td>\n      <td>3.0</td>\n    </tr>\n    <tr>\n      <th>21</th>\n      <td>2020-02-21</td>\n      <td>20.0</td>\n    </tr>\n    <tr>\n      <th>22</th>\n      <td>2020-02-22</td>\n      <td>62.0</td>\n    </tr>\n    <tr>\n      <th>23</th>\n      <td>2020-02-23</td>\n      <td>155.0</td>\n    </tr>\n    <tr>\n      <th>24</th>\n      <td>2020-02-24</td>\n      <td>229.0</td>\n    </tr>\n    <tr>\n      <th>25</th>\n      <td>2020-02-25</td>\n      <td>322.0</td>\n    </tr>\n    <tr>\n      <th>26</th>\n      <td>2020-02-26</td>\n      <td>453.0</td>\n    </tr>\n    <tr>\n      <th>27</th>\n      <td>2020-02-27</td>\n      <td>655.0</td>\n    </tr>\n    <tr>\n      <th>28</th>\n      <td>2020-02-28</td>\n      <td>888.0</td>\n    </tr>\n    <tr>\n      <th>29</th>\n      <td>2020-02-29</td>\n      <td>1128.0</td>\n    </tr>\n    <tr>\n      <th>30</th>\n      <td>2020-03-01</td>\n      <td>1694.0</td>\n    </tr>\n    <tr>\n      <th>31</th>\n      <td>2020-03-02</td>\n      <td>2036.0</td>\n    </tr>\n    <tr>\n      <th>32</th>\n      <td>2020-03-03</td>\n      <td>2502.0</td>\n    </tr>\n    <tr>\n      <th>33</th>\n      <td>2020-03-04</td>\n      <td>3089.0</td>\n    </tr>\n    <tr>\n      <th>34</th>\n      <td>2020-03-05</td>\n      <td>3858.0</td>\n    </tr>\n    <tr>\n      <th>35</th>\n      <td>2020-03-06</td>\n      <td>4636.0</td>\n    </tr>\n    <tr>\n      <th>36</th>\n      <td>2020-03-07</td>\n      <td>5883.0</td>\n    </tr>\n    <tr>\n      <th>37</th>\n      <td>2020-03-08</td>\n      <td>7375.0</td>\n    </tr>\n    <tr>\n      <th>38</th>\n      <td>2020-03-09</td>\n      <td>9172.0</td>\n    </tr>\n    <tr>\n      <th>39</th>\n      <td>2020-03-10</td>\n      <td>10149.0</td>\n    </tr>\n    <tr>\n      <th>40</th>\n      <td>2020-03-11</td>\n      <td>12462.0</td>\n    </tr>\n    <tr>\n      <th>41</th>\n      <td>2020-03-12</td>\n      <td>12462.0</td>\n    </tr>\n    <tr>\n      <th>42</th>\n      <td>2020-03-13</td>\n      <td>17660.0</td>\n    </tr>\n    <tr>\n      <th>43</th>\n      <td>2020-03-14</td>\n      <td>21157.0</td>\n    </tr>\n  </tbody>\n</table>\n</div>",
      "text/plain": "         Date  Total Confirmed Cases\n14 2020-02-14                    3.0\n15 2020-02-15                    3.0\n16 2020-02-16                    3.0\n17 2020-02-17                    3.0\n18 2020-02-18                    3.0\n19 2020-02-19                    3.0\n20 2020-02-20                    3.0\n21 2020-02-21                   20.0\n22 2020-02-22                   62.0\n23 2020-02-23                  155.0\n24 2020-02-24                  229.0\n25 2020-02-25                  322.0\n26 2020-02-26                  453.0\n27 2020-02-27                  655.0\n28 2020-02-28                  888.0\n29 2020-02-29                 1128.0\n30 2020-03-01                 1694.0\n31 2020-03-02                 2036.0\n32 2020-03-03                 2502.0\n33 2020-03-04                 3089.0\n34 2020-03-05                 3858.0\n35 2020-03-06                 4636.0\n36 2020-03-07                 5883.0\n37 2020-03-08                 7375.0\n38 2020-03-09                 9172.0\n39 2020-03-10                10149.0\n40 2020-03-11                12462.0\n41 2020-03-12                12462.0\n42 2020-03-13                17660.0\n43 2020-03-14                21157.0"
     },
     "execution_count": 93,
     "metadata": {},
     "output_type": "execute_result"
    }
   ],
   "source": [
    "ItalyGrowth.tail(30)"
   ]
  },
  {
   "cell_type": "markdown",
   "execution_count": null,
   "metadata": {},
   "outputs": [],
   "source": [
    "### US Growth Last 30 days\n"
   ]
  },
  {
   "cell_type": "code",
   "execution_count": 94,
   "metadata": {},
   "outputs": [
    {
     "data": {
      "text/html": "<div>\n<style scoped>\n    .dataframe tbody tr th:only-of-type {\n        vertical-align: middle;\n    }\n\n    .dataframe tbody tr th {\n        vertical-align: top;\n    }\n\n    .dataframe thead th {\n        text-align: right;\n    }\n</style>\n<table border=\"1\" class=\"dataframe\">\n  <thead>\n    <tr style=\"text-align: right;\">\n      <th></th>\n      <th>Date</th>\n      <th>Total Confirmed Cases</th>\n    </tr>\n  </thead>\n  <tbody>\n    <tr>\n      <th>23</th>\n      <td>2020-02-14</td>\n      <td>13</td>\n    </tr>\n    <tr>\n      <th>24</th>\n      <td>2020-02-15</td>\n      <td>13</td>\n    </tr>\n    <tr>\n      <th>25</th>\n      <td>2020-02-16</td>\n      <td>13</td>\n    </tr>\n    <tr>\n      <th>26</th>\n      <td>2020-02-17</td>\n      <td>13</td>\n    </tr>\n    <tr>\n      <th>27</th>\n      <td>2020-02-18</td>\n      <td>13</td>\n    </tr>\n    <tr>\n      <th>28</th>\n      <td>2020-02-19</td>\n      <td>13</td>\n    </tr>\n    <tr>\n      <th>29</th>\n      <td>2020-02-20</td>\n      <td>13</td>\n    </tr>\n    <tr>\n      <th>30</th>\n      <td>2020-02-21</td>\n      <td>15</td>\n    </tr>\n    <tr>\n      <th>31</th>\n      <td>2020-02-22</td>\n      <td>15</td>\n    </tr>\n    <tr>\n      <th>32</th>\n      <td>2020-02-23</td>\n      <td>15</td>\n    </tr>\n    <tr>\n      <th>33</th>\n      <td>2020-02-24</td>\n      <td>51</td>\n    </tr>\n    <tr>\n      <th>34</th>\n      <td>2020-02-25</td>\n      <td>51</td>\n    </tr>\n    <tr>\n      <th>35</th>\n      <td>2020-02-26</td>\n      <td>57</td>\n    </tr>\n    <tr>\n      <th>36</th>\n      <td>2020-02-27</td>\n      <td>58</td>\n    </tr>\n    <tr>\n      <th>37</th>\n      <td>2020-02-28</td>\n      <td>60</td>\n    </tr>\n    <tr>\n      <th>38</th>\n      <td>2020-02-29</td>\n      <td>68</td>\n    </tr>\n    <tr>\n      <th>39</th>\n      <td>2020-03-01</td>\n      <td>74</td>\n    </tr>\n    <tr>\n      <th>40</th>\n      <td>2020-03-02</td>\n      <td>98</td>\n    </tr>\n    <tr>\n      <th>41</th>\n      <td>2020-03-03</td>\n      <td>118</td>\n    </tr>\n    <tr>\n      <th>42</th>\n      <td>2020-03-04</td>\n      <td>149</td>\n    </tr>\n    <tr>\n      <th>43</th>\n      <td>2020-03-05</td>\n      <td>217</td>\n    </tr>\n    <tr>\n      <th>44</th>\n      <td>2020-03-06</td>\n      <td>262</td>\n    </tr>\n    <tr>\n      <th>45</th>\n      <td>2020-03-07</td>\n      <td>402</td>\n    </tr>\n    <tr>\n      <th>46</th>\n      <td>2020-03-08</td>\n      <td>518</td>\n    </tr>\n    <tr>\n      <th>47</th>\n      <td>2020-03-09</td>\n      <td>583</td>\n    </tr>\n    <tr>\n      <th>48</th>\n      <td>2020-03-10</td>\n      <td>959</td>\n    </tr>\n    <tr>\n      <th>49</th>\n      <td>2020-03-11</td>\n      <td>1281</td>\n    </tr>\n    <tr>\n      <th>50</th>\n      <td>2020-03-12</td>\n      <td>1663</td>\n    </tr>\n    <tr>\n      <th>51</th>\n      <td>2020-03-13</td>\n      <td>2179</td>\n    </tr>\n    <tr>\n      <th>52</th>\n      <td>2020-03-14</td>\n      <td>2727</td>\n    </tr>\n  </tbody>\n</table>\n</div>",
      "text/plain": "         Date  Total Confirmed Cases\n23 2020-02-14                     13\n24 2020-02-15                     13\n25 2020-02-16                     13\n26 2020-02-17                     13\n27 2020-02-18                     13\n28 2020-02-19                     13\n29 2020-02-20                     13\n30 2020-02-21                     15\n31 2020-02-22                     15\n32 2020-02-23                     15\n33 2020-02-24                     51\n34 2020-02-25                     51\n35 2020-02-26                     57\n36 2020-02-27                     58\n37 2020-02-28                     60\n38 2020-02-29                     68\n39 2020-03-01                     74\n40 2020-03-02                     98\n41 2020-03-03                    118\n42 2020-03-04                    149\n43 2020-03-05                    217\n44 2020-03-06                    262\n45 2020-03-07                    402\n46 2020-03-08                    518\n47 2020-03-09                    583\n48 2020-03-10                    959\n49 2020-03-11                   1281\n50 2020-03-12                   1663\n51 2020-03-13                   2179\n52 2020-03-14                   2727"
     },
     "execution_count": 94,
     "metadata": {},
     "output_type": "execute_result"
    }
   ],
   "source": [
    "USGrowth.tail(30)"
   ]
  },
  {
   "cell_type": "code",
   "execution_count": 95,
   "metadata": {},
   "outputs": [
    {
     "data": {
      "application/vnd.plotly.v1+json": {
       "config": {
        "plotlyServerURL": "https://plot.ly"
       },
       "data": [
        {
         "line": {
          "color": "red",
          "width": 2
         },
         "mode": "lines+markers",
         "name": "Active Cases",
         "type": "scatter",
         "x": [
          0,
          1,
          2,
          3,
          4,
          5,
          6,
          7,
          8,
          9,
          10,
          11,
          12,
          13,
          14,
          15,
          16,
          17,
          18,
          19,
          20,
          21,
          22,
          23,
          24,
          25,
          26,
          27,
          28,
          29,
          30,
          31,
          32,
          33,
          34,
          35,
          36,
          37,
          38,
          39,
          40,
          41,
          42,
          43
         ],
         "xaxis": "x",
         "y": [
          2,
          2,
          2,
          2,
          2,
          2,
          2,
          3,
          3,
          3,
          3,
          3,
          3,
          3,
          3,
          3,
          3,
          3,
          3,
          3,
          3,
          20,
          62,
          155,
          229,
          322,
          453,
          655,
          888,
          1128,
          1694,
          2036,
          2502,
          3089,
          3858,
          4636,
          5883,
          7375,
          9172,
          10149,
          12462,
          12462,
          17660,
          21157
         ],
         "yaxis": "y"
        },
        {
         "line": {
          "color": "red",
          "width": 2
         },
         "mode": "lines+markers",
         "name": "Active Cases",
         "type": "scatter",
         "x": [
          0,
          1,
          2,
          3,
          4,
          5,
          6,
          7,
          8,
          9,
          10,
          11,
          12,
          13,
          14,
          15,
          16,
          17,
          18,
          19,
          20,
          21,
          22,
          23,
          24
         ],
         "xaxis": "x2",
         "y": [
          2,
          5,
          18,
          28,
          43,
          61,
          95,
          139,
          245,
          388,
          593,
          978,
          1501,
          2336,
          2922,
          3513,
          4747,
          5823,
          6566,
          7161,
          8042,
          9000,
          10075,
          11364,
          12729
         ],
         "yaxis": "y2"
        },
        {
         "line": {
          "color": "red",
          "width": 2
         },
         "mode": "lines+markers",
         "name": "Active Cases",
         "type": "scatter",
         "x": [
          0,
          1,
          2,
          3,
          4,
          5,
          6,
          7,
          8,
          9,
          10,
          11,
          12,
          13,
          14,
          15,
          16,
          17,
          18,
          19,
          20,
          21,
          22,
          23,
          24,
          25,
          26,
          27,
          28,
          29,
          30,
          31,
          32,
          33,
          34,
          35,
          36,
          37,
          38,
          39,
          40,
          41,
          42,
          43,
          44,
          45,
          46,
          47,
          48,
          49,
          50,
          51,
          52
         ],
         "xaxis": "x3",
         "y": [
          1,
          1,
          2,
          2,
          3,
          4,
          4,
          4,
          4,
          11,
          12,
          15,
          15,
          16,
          19,
          23,
          24,
          24,
          25,
          27,
          28,
          28,
          28,
          28,
          28,
          29,
          30,
          31,
          31,
          104,
          204,
          433,
          602,
          833,
          977,
          1261,
          1766,
          2337,
          3150,
          3736,
          4335,
          5186,
          5621,
          6088,
          6593,
          7041,
          7314,
          7478,
          7513,
          7755,
          7869,
          7979,
          8086
         ],
         "yaxis": "y3"
        },
        {
         "line": {
          "color": "red",
          "width": 2
         },
         "mode": "lines+markers",
         "name": "Active Cases",
         "type": "scatter",
         "x": [
          0,
          1,
          2,
          3,
          4,
          5,
          6,
          7,
          8,
          9,
          10,
          11,
          12,
          13,
          14,
          15,
          16,
          17,
          18,
          19,
          20,
          21,
          22,
          23,
          24,
          25,
          26,
          27,
          28,
          29,
          30,
          31,
          32,
          33,
          34,
          35,
          36,
          37,
          38,
          39,
          40,
          41,
          42,
          43,
          44,
          45,
          46,
          47
         ],
         "xaxis": "x4",
         "y": [
          1,
          4,
          4,
          4,
          5,
          8,
          10,
          12,
          12,
          12,
          12,
          13,
          13,
          14,
          14,
          16,
          16,
          16,
          16,
          16,
          16,
          16,
          16,
          16,
          16,
          16,
          16,
          16,
          16,
          17,
          27,
          46,
          48,
          79,
          130,
          159,
          196,
          262,
          482,
          670,
          799,
          1040,
          1176,
          1457,
          1908,
          2078,
          3675,
          4585
         ],
         "yaxis": "y4"
        },
        {
         "line": {
          "color": "red",
          "width": 2
         },
         "mode": "lines+markers",
         "name": "Active Cases",
         "type": "scatter",
         "x": [
          0,
          1,
          2,
          3,
          4,
          5,
          6,
          7,
          8,
          9,
          10,
          11,
          12,
          13,
          14,
          15,
          16,
          17,
          18,
          19,
          20,
          21,
          22,
          23,
          24,
          25,
          26,
          27,
          28,
          29,
          30,
          31,
          32,
          33,
          34,
          35,
          36,
          37,
          38,
          39,
          40,
          41,
          42,
          43,
          44,
          45,
          46,
          47,
          48,
          49,
          50,
          51,
          52
         ],
         "xaxis": "x5",
         "y": [
          1,
          1,
          2,
          2,
          5,
          5,
          5,
          5,
          5,
          7,
          8,
          8,
          11,
          11,
          11,
          11,
          11,
          11,
          11,
          11,
          12,
          12,
          13,
          13,
          13,
          13,
          13,
          13,
          13,
          13,
          15,
          15,
          15,
          51,
          51,
          57,
          58,
          60,
          68,
          74,
          98,
          118,
          149,
          217,
          262,
          402,
          518,
          583,
          959,
          1281,
          1663,
          2179,
          2727
         ],
         "yaxis": "y5"
        },
        {
         "line": {
          "color": "red",
          "width": 2
         },
         "mode": "lines+markers",
         "name": "Active Cases",
         "type": "scatter",
         "x": [
          0,
          1,
          2,
          3,
          4,
          5,
          6,
          7,
          8
         ],
         "xaxis": "x6",
         "y": [
          1,
          1,
          1,
          1,
          3,
          9,
          9,
          13,
          22
         ],
         "yaxis": "y6"
        }
       ],
       "layout": {
        "annotations": [
         {
          "font": {
           "size": 16
          },
          "showarrow": false,
          "text": "Italy",
          "x": 0.225,
          "xanchor": "center",
          "xref": "paper",
          "y": 1,
          "yanchor": "bottom",
          "yref": "paper"
         },
         {
          "font": {
           "size": 16
          },
          "showarrow": false,
          "text": "Iran",
          "x": 0.775,
          "xanchor": "center",
          "xref": "paper",
          "y": 1,
          "yanchor": "bottom",
          "yref": "paper"
         },
         {
          "font": {
           "size": 16
          },
          "showarrow": false,
          "text": "Korea, South",
          "x": 0.225,
          "xanchor": "center",
          "xref": "paper",
          "y": 0.6111111111111112,
          "yanchor": "bottom",
          "yref": "paper"
         },
         {
          "font": {
           "size": 16
          },
          "showarrow": false,
          "text": "Germany",
          "x": 0.775,
          "xanchor": "center",
          "xref": "paper",
          "y": 0.6111111111111112,
          "yanchor": "bottom",
          "yref": "paper"
         },
         {
          "font": {
           "size": 16
          },
          "showarrow": false,
          "text": "US",
          "x": 0.225,
          "xanchor": "center",
          "xref": "paper",
          "y": 0.22222222222222224,
          "yanchor": "bottom",
          "yref": "paper"
         },
         {
          "font": {
           "size": 16
          },
          "showarrow": false,
          "text": "Colombia",
          "x": 0.775,
          "xanchor": "center",
          "xref": "paper",
          "y": 0.22222222222222224,
          "yanchor": "bottom",
          "yref": "paper"
         }
        ],
        "showlegend": false,
        "template": {
         "data": {
          "bar": [
           {
            "error_x": {
             "color": "#2a3f5f"
            },
            "error_y": {
             "color": "#2a3f5f"
            },
            "marker": {
             "line": {
              "color": "#E5ECF6",
              "width": 0.5
             }
            },
            "type": "bar"
           }
          ],
          "barpolar": [
           {
            "marker": {
             "line": {
              "color": "#E5ECF6",
              "width": 0.5
             }
            },
            "type": "barpolar"
           }
          ],
          "carpet": [
           {
            "aaxis": {
             "endlinecolor": "#2a3f5f",
             "gridcolor": "white",
             "linecolor": "white",
             "minorgridcolor": "white",
             "startlinecolor": "#2a3f5f"
            },
            "baxis": {
             "endlinecolor": "#2a3f5f",
             "gridcolor": "white",
             "linecolor": "white",
             "minorgridcolor": "white",
             "startlinecolor": "#2a3f5f"
            },
            "type": "carpet"
           }
          ],
          "choropleth": [
           {
            "colorbar": {
             "outlinewidth": 0,
             "ticks": ""
            },
            "type": "choropleth"
           }
          ],
          "contour": [
           {
            "colorbar": {
             "outlinewidth": 0,
             "ticks": ""
            },
            "colorscale": [
             [
              0,
              "#0d0887"
             ],
             [
              0.1111111111111111,
              "#46039f"
             ],
             [
              0.2222222222222222,
              "#7201a8"
             ],
             [
              0.3333333333333333,
              "#9c179e"
             ],
             [
              0.4444444444444444,
              "#bd3786"
             ],
             [
              0.5555555555555556,
              "#d8576b"
             ],
             [
              0.6666666666666666,
              "#ed7953"
             ],
             [
              0.7777777777777778,
              "#fb9f3a"
             ],
             [
              0.8888888888888888,
              "#fdca26"
             ],
             [
              1,
              "#f0f921"
             ]
            ],
            "type": "contour"
           }
          ],
          "contourcarpet": [
           {
            "colorbar": {
             "outlinewidth": 0,
             "ticks": ""
            },
            "type": "contourcarpet"
           }
          ],
          "heatmap": [
           {
            "colorbar": {
             "outlinewidth": 0,
             "ticks": ""
            },
            "colorscale": [
             [
              0,
              "#0d0887"
             ],
             [
              0.1111111111111111,
              "#46039f"
             ],
             [
              0.2222222222222222,
              "#7201a8"
             ],
             [
              0.3333333333333333,
              "#9c179e"
             ],
             [
              0.4444444444444444,
              "#bd3786"
             ],
             [
              0.5555555555555556,
              "#d8576b"
             ],
             [
              0.6666666666666666,
              "#ed7953"
             ],
             [
              0.7777777777777778,
              "#fb9f3a"
             ],
             [
              0.8888888888888888,
              "#fdca26"
             ],
             [
              1,
              "#f0f921"
             ]
            ],
            "type": "heatmap"
           }
          ],
          "heatmapgl": [
           {
            "colorbar": {
             "outlinewidth": 0,
             "ticks": ""
            },
            "colorscale": [
             [
              0,
              "#0d0887"
             ],
             [
              0.1111111111111111,
              "#46039f"
             ],
             [
              0.2222222222222222,
              "#7201a8"
             ],
             [
              0.3333333333333333,
              "#9c179e"
             ],
             [
              0.4444444444444444,
              "#bd3786"
             ],
             [
              0.5555555555555556,
              "#d8576b"
             ],
             [
              0.6666666666666666,
              "#ed7953"
             ],
             [
              0.7777777777777778,
              "#fb9f3a"
             ],
             [
              0.8888888888888888,
              "#fdca26"
             ],
             [
              1,
              "#f0f921"
             ]
            ],
            "type": "heatmapgl"
           }
          ],
          "histogram": [
           {
            "marker": {
             "colorbar": {
              "outlinewidth": 0,
              "ticks": ""
             }
            },
            "type": "histogram"
           }
          ],
          "histogram2d": [
           {
            "colorbar": {
             "outlinewidth": 0,
             "ticks": ""
            },
            "colorscale": [
             [
              0,
              "#0d0887"
             ],
             [
              0.1111111111111111,
              "#46039f"
             ],
             [
              0.2222222222222222,
              "#7201a8"
             ],
             [
              0.3333333333333333,
              "#9c179e"
             ],
             [
              0.4444444444444444,
              "#bd3786"
             ],
             [
              0.5555555555555556,
              "#d8576b"
             ],
             [
              0.6666666666666666,
              "#ed7953"
             ],
             [
              0.7777777777777778,
              "#fb9f3a"
             ],
             [
              0.8888888888888888,
              "#fdca26"
             ],
             [
              1,
              "#f0f921"
             ]
            ],
            "type": "histogram2d"
           }
          ],
          "histogram2dcontour": [
           {
            "colorbar": {
             "outlinewidth": 0,
             "ticks": ""
            },
            "colorscale": [
             [
              0,
              "#0d0887"
             ],
             [
              0.1111111111111111,
              "#46039f"
             ],
             [
              0.2222222222222222,
              "#7201a8"
             ],
             [
              0.3333333333333333,
              "#9c179e"
             ],
             [
              0.4444444444444444,
              "#bd3786"
             ],
             [
              0.5555555555555556,
              "#d8576b"
             ],
             [
              0.6666666666666666,
              "#ed7953"
             ],
             [
              0.7777777777777778,
              "#fb9f3a"
             ],
             [
              0.8888888888888888,
              "#fdca26"
             ],
             [
              1,
              "#f0f921"
             ]
            ],
            "type": "histogram2dcontour"
           }
          ],
          "mesh3d": [
           {
            "colorbar": {
             "outlinewidth": 0,
             "ticks": ""
            },
            "type": "mesh3d"
           }
          ],
          "parcoords": [
           {
            "line": {
             "colorbar": {
              "outlinewidth": 0,
              "ticks": ""
             }
            },
            "type": "parcoords"
           }
          ],
          "pie": [
           {
            "automargin": true,
            "type": "pie"
           }
          ],
          "scatter": [
           {
            "marker": {
             "colorbar": {
              "outlinewidth": 0,
              "ticks": ""
             }
            },
            "type": "scatter"
           }
          ],
          "scatter3d": [
           {
            "line": {
             "colorbar": {
              "outlinewidth": 0,
              "ticks": ""
             }
            },
            "marker": {
             "colorbar": {
              "outlinewidth": 0,
              "ticks": ""
             }
            },
            "type": "scatter3d"
           }
          ],
          "scattercarpet": [
           {
            "marker": {
             "colorbar": {
              "outlinewidth": 0,
              "ticks": ""
             }
            },
            "type": "scattercarpet"
           }
          ],
          "scattergeo": [
           {
            "marker": {
             "colorbar": {
              "outlinewidth": 0,
              "ticks": ""
             }
            },
            "type": "scattergeo"
           }
          ],
          "scattergl": [
           {
            "marker": {
             "colorbar": {
              "outlinewidth": 0,
              "ticks": ""
             }
            },
            "type": "scattergl"
           }
          ],
          "scattermapbox": [
           {
            "marker": {
             "colorbar": {
              "outlinewidth": 0,
              "ticks": ""
             }
            },
            "type": "scattermapbox"
           }
          ],
          "scatterpolar": [
           {
            "marker": {
             "colorbar": {
              "outlinewidth": 0,
              "ticks": ""
             }
            },
            "type": "scatterpolar"
           }
          ],
          "scatterpolargl": [
           {
            "marker": {
             "colorbar": {
              "outlinewidth": 0,
              "ticks": ""
             }
            },
            "type": "scatterpolargl"
           }
          ],
          "scatterternary": [
           {
            "marker": {
             "colorbar": {
              "outlinewidth": 0,
              "ticks": ""
             }
            },
            "type": "scatterternary"
           }
          ],
          "surface": [
           {
            "colorbar": {
             "outlinewidth": 0,
             "ticks": ""
            },
            "colorscale": [
             [
              0,
              "#0d0887"
             ],
             [
              0.1111111111111111,
              "#46039f"
             ],
             [
              0.2222222222222222,
              "#7201a8"
             ],
             [
              0.3333333333333333,
              "#9c179e"
             ],
             [
              0.4444444444444444,
              "#bd3786"
             ],
             [
              0.5555555555555556,
              "#d8576b"
             ],
             [
              0.6666666666666666,
              "#ed7953"
             ],
             [
              0.7777777777777778,
              "#fb9f3a"
             ],
             [
              0.8888888888888888,
              "#fdca26"
             ],
             [
              1,
              "#f0f921"
             ]
            ],
            "type": "surface"
           }
          ],
          "table": [
           {
            "cells": {
             "fill": {
              "color": "#EBF0F8"
             },
             "line": {
              "color": "white"
             }
            },
            "header": {
             "fill": {
              "color": "#C8D4E3"
             },
             "line": {
              "color": "white"
             }
            },
            "type": "table"
           }
          ]
         },
         "layout": {
          "annotationdefaults": {
           "arrowcolor": "#2a3f5f",
           "arrowhead": 0,
           "arrowwidth": 1
          },
          "coloraxis": {
           "colorbar": {
            "outlinewidth": 0,
            "ticks": ""
           }
          },
          "colorscale": {
           "diverging": [
            [
             0,
             "#8e0152"
            ],
            [
             0.1,
             "#c51b7d"
            ],
            [
             0.2,
             "#de77ae"
            ],
            [
             0.3,
             "#f1b6da"
            ],
            [
             0.4,
             "#fde0ef"
            ],
            [
             0.5,
             "#f7f7f7"
            ],
            [
             0.6,
             "#e6f5d0"
            ],
            [
             0.7,
             "#b8e186"
            ],
            [
             0.8,
             "#7fbc41"
            ],
            [
             0.9,
             "#4d9221"
            ],
            [
             1,
             "#276419"
            ]
           ],
           "sequential": [
            [
             0,
             "#0d0887"
            ],
            [
             0.1111111111111111,
             "#46039f"
            ],
            [
             0.2222222222222222,
             "#7201a8"
            ],
            [
             0.3333333333333333,
             "#9c179e"
            ],
            [
             0.4444444444444444,
             "#bd3786"
            ],
            [
             0.5555555555555556,
             "#d8576b"
            ],
            [
             0.6666666666666666,
             "#ed7953"
            ],
            [
             0.7777777777777778,
             "#fb9f3a"
            ],
            [
             0.8888888888888888,
             "#fdca26"
            ],
            [
             1,
             "#f0f921"
            ]
           ],
           "sequentialminus": [
            [
             0,
             "#0d0887"
            ],
            [
             0.1111111111111111,
             "#46039f"
            ],
            [
             0.2222222222222222,
             "#7201a8"
            ],
            [
             0.3333333333333333,
             "#9c179e"
            ],
            [
             0.4444444444444444,
             "#bd3786"
            ],
            [
             0.5555555555555556,
             "#d8576b"
            ],
            [
             0.6666666666666666,
             "#ed7953"
            ],
            [
             0.7777777777777778,
             "#fb9f3a"
            ],
            [
             0.8888888888888888,
             "#fdca26"
            ],
            [
             1,
             "#f0f921"
            ]
           ]
          },
          "colorway": [
           "#636efa",
           "#EF553B",
           "#00cc96",
           "#ab63fa",
           "#FFA15A",
           "#19d3f3",
           "#FF6692",
           "#B6E880",
           "#FF97FF",
           "#FECB52"
          ],
          "font": {
           "color": "#2a3f5f"
          },
          "geo": {
           "bgcolor": "white",
           "lakecolor": "white",
           "landcolor": "#E5ECF6",
           "showlakes": true,
           "showland": true,
           "subunitcolor": "white"
          },
          "hoverlabel": {
           "align": "left"
          },
          "hovermode": "closest",
          "mapbox": {
           "style": "light"
          },
          "paper_bgcolor": "white",
          "plot_bgcolor": "#E5ECF6",
          "polar": {
           "angularaxis": {
            "gridcolor": "white",
            "linecolor": "white",
            "ticks": ""
           },
           "bgcolor": "#E5ECF6",
           "radialaxis": {
            "gridcolor": "white",
            "linecolor": "white",
            "ticks": ""
           }
          },
          "scene": {
           "xaxis": {
            "backgroundcolor": "#E5ECF6",
            "gridcolor": "white",
            "gridwidth": 2,
            "linecolor": "white",
            "showbackground": true,
            "ticks": "",
            "zerolinecolor": "white"
           },
           "yaxis": {
            "backgroundcolor": "#E5ECF6",
            "gridcolor": "white",
            "gridwidth": 2,
            "linecolor": "white",
            "showbackground": true,
            "ticks": "",
            "zerolinecolor": "white"
           },
           "zaxis": {
            "backgroundcolor": "#E5ECF6",
            "gridcolor": "white",
            "gridwidth": 2,
            "linecolor": "white",
            "showbackground": true,
            "ticks": "",
            "zerolinecolor": "white"
           }
          },
          "shapedefaults": {
           "line": {
            "color": "#2a3f5f"
           }
          },
          "ternary": {
           "aaxis": {
            "gridcolor": "white",
            "linecolor": "white",
            "ticks": ""
           },
           "baxis": {
            "gridcolor": "white",
            "linecolor": "white",
            "ticks": ""
           },
           "bgcolor": "#E5ECF6",
           "caxis": {
            "gridcolor": "white",
            "linecolor": "white",
            "ticks": ""
           }
          },
          "title": {
           "x": 0.05
          },
          "xaxis": {
           "automargin": true,
           "gridcolor": "white",
           "linecolor": "white",
           "ticks": "",
           "title": {
            "standoff": 15
           },
           "zerolinecolor": "white",
           "zerolinewidth": 2
          },
          "yaxis": {
           "automargin": true,
           "gridcolor": "white",
           "linecolor": "white",
           "ticks": "",
           "title": {
            "standoff": 15
           },
           "zerolinecolor": "white",
           "zerolinewidth": 2
          }
         }
        },
        "title": {
         "text": "Active Cases"
        },
        "xaxis": {
         "anchor": "y",
         "domain": [
          0,
          0.45
         ],
         "matches": "x5",
         "showticklabels": false
        },
        "xaxis2": {
         "anchor": "y2",
         "domain": [
          0.55,
          1
         ],
         "matches": "x6",
         "showticklabels": false
        },
        "xaxis3": {
         "anchor": "y3",
         "domain": [
          0,
          0.45
         ],
         "matches": "x5",
         "showticklabels": false,
         "title": {
          "text": "Number of Days since Outbreak"
         }
        },
        "xaxis4": {
         "anchor": "y4",
         "domain": [
          0.55,
          1
         ],
         "matches": "x6",
         "showticklabels": false,
         "title": {
          "text": "Number of Days since Outbreak"
         }
        },
        "xaxis5": {
         "anchor": "y5",
         "domain": [
          0,
          0.45
         ]
        },
        "xaxis6": {
         "anchor": "y6",
         "domain": [
          0.55,
          1
         ]
        },
        "yaxis": {
         "anchor": "x",
         "domain": [
          0.7777777777777778,
          1
         ]
        },
        "yaxis2": {
         "anchor": "x2",
         "domain": [
          0.7777777777777778,
          1
         ]
        },
        "yaxis3": {
         "anchor": "x3",
         "domain": [
          0.3888888888888889,
          0.6111111111111112
         ]
        },
        "yaxis4": {
         "anchor": "x4",
         "domain": [
          0.3888888888888889,
          0.6111111111111112
         ]
        },
        "yaxis5": {
         "anchor": "x5",
         "domain": [
          0,
          0.22222222222222224
         ]
        },
        "yaxis6": {
         "anchor": "x6",
         "domain": [
          0,
          0.22222222222222224
         ]
        }
       }
      }
     },
     "metadata": {},
     "output_type": "display_data"
    }
   ],
   "source": [
    "fig = make_subplots(rows=3, cols=2,shared_xaxes=True,\n",
    "                   subplot_titles=('Italy','Iran','Korea, South','Germany', 'US', 'Colombia'))\n",
    "\n",
    "fig.update_xaxes(title_text=\"Number of Days since Outbreak\", row=2, col=1)\n",
    "\n",
    "fig.update_xaxes(title_text=\"Number of Days since Outbreak\", row=2, col=2)\n",
    "\n",
    "fig.add_trace(go.Scatter(x=ItalyGrowth.index,y=ItalyGrowth['Total Confirmed Cases'],\n",
    "                         mode='lines+markers',\n",
    "                         name='Active Cases',\n",
    "                         line=dict(color=chartcol,width=2)),\n",
    "                          row=1,col=1)\n",
    "fig.add_trace(go.Scatter(x=IranGrowth.index,y=IranGrowth['Total Confirmed Cases'],\n",
    "                         mode='lines+markers',\n",
    "                         name='Active Cases',\n",
    "                         line=dict(color=chartcol,width=2)),\n",
    "                          row=1,col=2)\n",
    "                           \n",
    "fig.add_trace(go.Scatter(x=SKGrowth.index,y=SKGrowth['Total Confirmed Cases'],\n",
    "                         mode='lines+markers',\n",
    "                         name='Active Cases',\n",
    "                         line=dict(color=chartcol,width=2)),\n",
    "                          row=2,col=1)    \n",
    "                           \n",
    "fig.add_trace(go.Scatter(x=GermanyGrowth.index,y=GermanyGrowth['Total Confirmed Cases'],\n",
    "                         mode='lines+markers',\n",
    "                         name='Active Cases',\n",
    "                         line=dict(color=chartcol,width=2)),\n",
    "                          row=2,col=2)  \n",
    "fig.add_trace(go.Scatter(x=USGrowth.index,y=USGrowth['Total Confirmed Cases'],\n",
    "                         mode='lines+markers',\n",
    "                         name='Active Cases',\n",
    "                         line=dict(color=chartcol,width=2)),\n",
    "                          row=3,col=1)  \n",
    "fig.add_trace(go.Scatter(x=ColombiaGrowth.index,y=ColombiaGrowth['Total Confirmed Cases'],\n",
    "                         mode='lines+markers',\n",
    "                         name='Active Cases',\n",
    "                         line=dict(color=chartcol,width=2)),\n",
    "                          row=3,col=2)  \n",
    "fig.update_layout(showlegend=False,title = 'Active Cases')"
   ]
  },
  {
   "cell_type": "code",
   "execution_count": 103,
   "metadata": {},
   "outputs": [
    {
     "data": {
      "text/html": "<div>\n<style scoped>\n    .dataframe tbody tr th:only-of-type {\n        vertical-align: middle;\n    }\n\n    .dataframe tbody tr th {\n        vertical-align: top;\n    }\n\n    .dataframe thead th {\n        text-align: right;\n    }\n</style>\n<table border=\"1\" class=\"dataframe\">\n  <thead>\n    <tr style=\"text-align: right;\">\n      <th></th>\n      <th>Location</th>\n      <th>Date</th>\n      <th>Total Confirmed Cases</th>\n      <th>Projected Infections</th>\n    </tr>\n  </thead>\n  <tbody>\n    <tr>\n      <th>48</th>\n      <td>Outside China</td>\n      <td>2020-03-10</td>\n      <td>118592</td>\n      <td>1185920</td>\n    </tr>\n    <tr>\n      <th>49</th>\n      <td>Outside China</td>\n      <td>2020-03-11</td>\n      <td>125865</td>\n      <td>1258650</td>\n    </tr>\n    <tr>\n      <th>50</th>\n      <td>Outside China</td>\n      <td>2020-03-12</td>\n      <td>128343</td>\n      <td>1283430</td>\n    </tr>\n    <tr>\n      <th>51</th>\n      <td>Outside China</td>\n      <td>2020-03-13</td>\n      <td>145193</td>\n      <td>1451930</td>\n    </tr>\n    <tr>\n      <th>52</th>\n      <td>Outside China</td>\n      <td>2020-03-14</td>\n      <td>156102</td>\n      <td>1561020</td>\n    </tr>\n  </tbody>\n</table>\n</div>",
      "text/plain": "         Location       Date  Total Confirmed Cases  Projected Infections\n48  Outside China 2020-03-10                 118592               1185920\n49  Outside China 2020-03-11                 125865               1258650\n50  Outside China 2020-03-12                 128343               1283430\n51  Outside China 2020-03-13                 145193               1451930\n52  Outside China 2020-03-14                 156102               1561020"
     },
     "execution_count": 103,
     "metadata": {},
     "output_type": "execute_result"
    }
   ],
   "source": [
    "# Cases by Region (inside or Outside China)\n",
    "TotalCasesLoc=CountryConsolidated.reset_index()\n",
    "TotalCasesLoc.head()\n",
    "TotalCasesLoc['Location']=np.where(TotalCasesLoc['Country/Region']=='Mainland China','Mainland China','Outside China')\n",
    "TotalCasesLocaggregated=TotalCasesLoc.groupby(['Location','Date'])['Total Confirmed Cases'].sum().reset_index()\n",
    "TotalCasesLocaggregated['Projected Infections'] = TotalCasesLocaggregated['Total Confirmed Cases'] * 10\n",
    "TotalCasesLocaggregated.tail(5)"
   ]
  },
  {
   "cell_type": "markdown",
   "metadata": {},
   "source": [
    "## Some Experimenting"
   ]
  },
  {
   "cell_type": "code",
   "execution_count": 116,
   "metadata": {},
   "outputs": [
    {
     "data": {
      "text/html": "<div>\n<style scoped>\n    .dataframe tbody tr th:only-of-type {\n        vertical-align: middle;\n    }\n\n    .dataframe tbody tr th {\n        vertical-align: top;\n    }\n\n    .dataframe thead th {\n        text-align: right;\n    }\n</style>\n<table border=\"1\" class=\"dataframe\">\n  <thead>\n    <tr style=\"text-align: right;\">\n      <th></th>\n      <th>Location</th>\n      <th>Date</th>\n      <th>Total Confirmed Cases</th>\n      <th>Projected Infections</th>\n    </tr>\n  </thead>\n  <tbody>\n    <tr>\n      <th>38</th>\n      <td>Outside China</td>\n      <td>2020-02-29</td>\n      <td>86011</td>\n      <td>860110</td>\n    </tr>\n    <tr>\n      <th>39</th>\n      <td>Outside China</td>\n      <td>2020-03-01</td>\n      <td>88369</td>\n      <td>883690</td>\n    </tr>\n    <tr>\n      <th>40</th>\n      <td>Outside China</td>\n      <td>2020-03-02</td>\n      <td>90306</td>\n      <td>903060</td>\n    </tr>\n    <tr>\n      <th>41</th>\n      <td>Outside China</td>\n      <td>2020-03-03</td>\n      <td>92840</td>\n      <td>928400</td>\n    </tr>\n    <tr>\n      <th>42</th>\n      <td>Outside China</td>\n      <td>2020-03-04</td>\n      <td>95120</td>\n      <td>951200</td>\n    </tr>\n    <tr>\n      <th>43</th>\n      <td>Outside China</td>\n      <td>2020-03-05</td>\n      <td>97882</td>\n      <td>978820</td>\n    </tr>\n    <tr>\n      <th>44</th>\n      <td>Outside China</td>\n      <td>2020-03-06</td>\n      <td>101784</td>\n      <td>1017840</td>\n    </tr>\n    <tr>\n      <th>45</th>\n      <td>Outside China</td>\n      <td>2020-03-07</td>\n      <td>105821</td>\n      <td>1058210</td>\n    </tr>\n    <tr>\n      <th>46</th>\n      <td>Outside China</td>\n      <td>2020-03-08</td>\n      <td>109795</td>\n      <td>1097950</td>\n    </tr>\n    <tr>\n      <th>47</th>\n      <td>Outside China</td>\n      <td>2020-03-09</td>\n      <td>113561</td>\n      <td>1135610</td>\n    </tr>\n    <tr>\n      <th>48</th>\n      <td>Outside China</td>\n      <td>2020-03-10</td>\n      <td>118592</td>\n      <td>1185920</td>\n    </tr>\n    <tr>\n      <th>49</th>\n      <td>Outside China</td>\n      <td>2020-03-11</td>\n      <td>125865</td>\n      <td>1258650</td>\n    </tr>\n    <tr>\n      <th>50</th>\n      <td>Outside China</td>\n      <td>2020-03-12</td>\n      <td>128343</td>\n      <td>1283430</td>\n    </tr>\n    <tr>\n      <th>51</th>\n      <td>Outside China</td>\n      <td>2020-03-13</td>\n      <td>145193</td>\n      <td>1451930</td>\n    </tr>\n    <tr>\n      <th>52</th>\n      <td>Outside China</td>\n      <td>2020-03-14</td>\n      <td>156102</td>\n      <td>1561020</td>\n    </tr>\n  </tbody>\n</table>\n</div>",
      "text/plain": "         Location       Date  Total Confirmed Cases  Projected Infections\n38  Outside China 2020-02-29                  86011                860110\n39  Outside China 2020-03-01                  88369                883690\n40  Outside China 2020-03-02                  90306                903060\n41  Outside China 2020-03-03                  92840                928400\n42  Outside China 2020-03-04                  95120                951200\n43  Outside China 2020-03-05                  97882                978820\n44  Outside China 2020-03-06                 101784               1017840\n45  Outside China 2020-03-07                 105821               1058210\n46  Outside China 2020-03-08                 109795               1097950\n47  Outside China 2020-03-09                 113561               1135610\n48  Outside China 2020-03-10                 118592               1185920\n49  Outside China 2020-03-11                 125865               1258650\n50  Outside China 2020-03-12                 128343               1283430\n51  Outside China 2020-03-13                 145193               1451930\n52  Outside China 2020-03-14                 156102               1561020"
     },
     "execution_count": 116,
     "metadata": {},
     "output_type": "execute_result"
    }
   ],
   "source": [
    "# Cases by Region (inside or Outside China)\n",
    "TotalCasesLoc=CountryConsolidated.reset_index()\n",
    "TotalCasesLoc.head()\n",
    "TotalCasesLoc['Location']=np.where(TotalCasesLoc['Country/Region']=='Mainland China','Mainland China','Outside China')\n",
    "TotalCasesLocaggregated=TotalCasesLoc.groupby(['Location','Date'])['Total Confirmed Cases'].sum().reset_index()\n",
    "TotalCasesLocaggregated['Projected Infections'] = TotalCasesLocaggregated['Total Confirmed Cases'] * 10\n",
    "TotalCasesLocaggregated.tail(15)"
   ]
  },
  {
   "cell_type": "code",
   "execution_count": 117,
   "metadata": {},
   "outputs": [
    {
     "data": {
      "text/plain": "Total Confirmed Cases                 156102.000\nDaily New Cases                        10909.000\nDaily New Deaths                         415.000\nTotal Deaths                            5819.000\nTotal Recoveries                       72624.000\nDaily New Recoveries                    2373.000\nActive Cases                           77659.000\nShare of Recoveries - Closed Cases         0.930\nDeath to Cases Ratio                       0.037\nName: 2020-03-14 00:00:00, dtype: float64"
     },
     "execution_count": 117,
     "metadata": {},
     "output_type": "execute_result"
    }
   ],
   "source": [
    "GlobalTotals.iloc[-1]"
   ]
  },
  {
   "cell_type": "code",
   "execution_count": 106,
   "metadata": {},
   "outputs": [
    {
     "data": {
      "text/plain": "[<matplotlib.lines.Line2D at 0x7f8a3924a210>]"
     },
     "execution_count": 106,
     "metadata": {},
     "output_type": "execute_result"
    },
    {
     "data": {
      "image/png": "[encoded data removed]",
      "image/svg+xml": "<?xml version=\"1.0\" encoding=\"utf-8\" standalone=\"no\"?>\n<!DOCTYPE svg PUBLIC \"-//W3C//DTD SVG 1.1//EN\"\n  \"http://www.w3.org/Graphics/SVG/1.1/DTD/svg11.dtd\">\n<!-- Created with matplotlib (http://matplotlib.org/) -->\n<svg height=\"299pt\" version=\"1.1\" viewBox=\"0 0 1161 299\" width=\"1161pt\" xmlns=\"http://www.w3.org/2000/svg\" xmlns:xlink=\"http://www.w3.org/1999/xlink\">\n <defs>\n  <style type=\"text/css\">\n*{stroke-linecap:butt;stroke-linejoin:round;}\n  </style>\n </defs>\n <g id=\"figure_1\">\n  <g id=\"patch_1\">\n   <path d=\"M 0 299.021875 \nL 1161.704688 299.021875 \nL 1161.704688 0 \nL 0 0 \nz\n\" style=\"fill:#ffffff;\"/>\n  </g>\n  <g id=\"axes_1\">\n   <g id=\"patch_2\">\n    <path d=\"M 38.504687 279 \nL 1154.504688 279 \nL 1154.504688 7.2 \nL 38.504687 7.2 \nz\n\" style=\"fill:#eaeaf2;\"/>\n   </g>\n   <g id=\"matplotlib.axis_1\">\n    <g id=\"xtick_1\">\n     <g id=\"line2d_1\"/>\n     <g id=\"text_1\">\n      <!-- 2020-02-24 -->\n      <defs>\n       <path d=\"M 5.03125 0 \nL 5.03125 6.203125 \nQ 7.515625 11.921875 11.109375 16.28125 \nQ 14.703125 20.65625 18.65625 24.1875 \nQ 22.609375 27.734375 26.484375 30.765625 \nQ 30.375 33.796875 33.5 36.8125 \nQ 36.625 39.84375 38.546875 43.15625 \nQ 40.484375 46.484375 40.484375 50.6875 \nQ 40.484375 56.34375 37.15625 59.46875 \nQ 33.84375 62.59375 27.9375 62.59375 \nQ 22.3125 62.59375 18.671875 59.546875 \nQ 15.046875 56.5 14.40625 50.984375 \nL 5.421875 51.8125 \nQ 6.390625 60.0625 12.421875 64.9375 \nQ 18.453125 69.828125 27.9375 69.828125 \nQ 38.328125 69.828125 43.921875 64.921875 \nQ 49.515625 60.015625 49.515625 50.984375 \nQ 49.515625 46.96875 47.671875 43.015625 \nQ 45.84375 39.0625 42.234375 35.109375 \nQ 38.625 31.15625 28.421875 22.859375 \nQ 22.796875 18.265625 19.46875 14.578125 \nQ 16.15625 10.890625 14.703125 7.46875 \nL 50.59375 7.46875 \nL 50.59375 0 \nz\n\" id=\"LiberationSans-32\"/>\n       <path d=\"M 51.703125 34.421875 \nQ 51.703125 17.1875 45.625 8.09375 \nQ 39.546875 -0.984375 27.6875 -0.984375 \nQ 15.828125 -0.984375 9.859375 8.046875 \nQ 3.90625 17.09375 3.90625 34.421875 \nQ 3.90625 52.15625 9.6875 60.984375 \nQ 15.484375 69.828125 27.984375 69.828125 \nQ 40.140625 69.828125 45.921875 60.890625 \nQ 51.703125 51.953125 51.703125 34.421875 \nz\nM 42.78125 34.421875 \nQ 42.78125 49.3125 39.328125 56 \nQ 35.890625 62.703125 27.984375 62.703125 \nQ 19.875 62.703125 16.328125 56.109375 \nQ 12.796875 49.515625 12.796875 34.421875 \nQ 12.796875 19.78125 16.375 12.984375 \nQ 19.96875 6.203125 27.78125 6.203125 \nQ 35.546875 6.203125 39.15625 13.125 \nQ 42.78125 20.0625 42.78125 34.421875 \nz\n\" id=\"LiberationSans-30\"/>\n       <path d=\"M 4.4375 22.65625 \nL 4.4375 30.46875 \nL 28.859375 30.46875 \nL 28.859375 22.65625 \nz\n\" id=\"LiberationSans-2d\"/>\n       <path d=\"M 43.015625 15.578125 \nL 43.015625 0 \nL 34.71875 0 \nL 34.71875 15.578125 \nL 2.296875 15.578125 \nL 2.296875 22.40625 \nL 33.796875 68.796875 \nL 43.015625 68.796875 \nL 43.015625 22.515625 \nL 52.6875 22.515625 \nL 52.6875 15.578125 \nz\nM 34.71875 58.890625 \nQ 34.625 58.59375 33.34375 56.296875 \nQ 32.078125 54 31.453125 53.078125 \nL 13.8125 27.09375 \nL 11.1875 23.484375 \nL 10.40625 22.515625 \nL 34.71875 22.515625 \nz\n\" id=\"LiberationSans-34\"/>\n      </defs>\n      <g style=\"fill:#262626;\" transform=\"translate(63.658523 289.746875)scale(0.1 -0.1)\">\n       <use xlink:href=\"#LiberationSans-32\"/>\n       <use x=\"55.615234\" xlink:href=\"#LiberationSans-30\"/>\n       <use x=\"111.230469\" xlink:href=\"#LiberationSans-32\"/>\n       <use x=\"166.845703\" xlink:href=\"#LiberationSans-30\"/>\n       <use x=\"222.460938\" xlink:href=\"#LiberationSans-2d\"/>\n       <use x=\"255.761719\" xlink:href=\"#LiberationSans-30\"/>\n       <use x=\"311.376953\" xlink:href=\"#LiberationSans-32\"/>\n       <use x=\"366.992188\" xlink:href=\"#LiberationSans-2d\"/>\n       <use x=\"400.292969\" xlink:href=\"#LiberationSans-32\"/>\n       <use x=\"455.908203\" xlink:href=\"#LiberationSans-34\"/>\n      </g>\n     </g>\n    </g>\n    <g id=\"xtick_2\">\n     <g id=\"line2d_2\"/>\n     <g id=\"text_2\">\n      <!-- 2020-02-26 -->\n      <defs>\n       <path d=\"M 51.21875 22.515625 \nQ 51.21875 11.625 45.3125 5.3125 \nQ 39.40625 -0.984375 29 -0.984375 \nQ 17.390625 -0.984375 11.234375 7.65625 \nQ 5.078125 16.3125 5.078125 32.8125 \nQ 5.078125 50.6875 11.46875 60.25 \nQ 17.875 69.828125 29.6875 69.828125 \nQ 45.265625 69.828125 49.3125 55.8125 \nL 40.921875 54.296875 \nQ 38.328125 62.703125 29.59375 62.703125 \nQ 22.078125 62.703125 17.9375 55.6875 \nQ 13.8125 48.6875 13.8125 35.40625 \nQ 16.21875 39.84375 20.5625 42.15625 \nQ 24.90625 44.484375 30.515625 44.484375 \nQ 40.046875 44.484375 45.625 38.515625 \nQ 51.21875 32.5625 51.21875 22.515625 \nz\nM 42.28125 22.125 \nQ 42.28125 29.59375 38.625 33.640625 \nQ 34.96875 37.703125 28.421875 37.703125 \nQ 22.265625 37.703125 18.484375 34.109375 \nQ 14.703125 30.515625 14.703125 24.21875 \nQ 14.703125 16.265625 18.625 11.1875 \nQ 22.5625 6.109375 28.71875 6.109375 \nQ 35.0625 6.109375 38.671875 10.375 \nQ 42.28125 14.65625 42.28125 22.125 \nz\n\" id=\"LiberationSans-36\"/>\n      </defs>\n      <g style=\"fill:#262626;\" transform=\"translate(170.452781 289.746875)scale(0.1 -0.1)\">\n       <use xlink:href=\"#LiberationSans-32\"/>\n       <use x=\"55.615234\" xlink:href=\"#LiberationSans-30\"/>\n       <use x=\"111.230469\" xlink:href=\"#LiberationSans-32\"/>\n       <use x=\"166.845703\" xlink:href=\"#LiberationSans-30\"/>\n       <use x=\"222.460938\" xlink:href=\"#LiberationSans-2d\"/>\n       <use x=\"255.761719\" xlink:href=\"#LiberationSans-30\"/>\n       <use x=\"311.376953\" xlink:href=\"#LiberationSans-32\"/>\n       <use x=\"366.992188\" xlink:href=\"#LiberationSans-2d\"/>\n       <use x=\"400.292969\" xlink:href=\"#LiberationSans-32\"/>\n       <use x=\"455.908203\" xlink:href=\"#LiberationSans-36\"/>\n      </g>\n     </g>\n    </g>\n    <g id=\"xtick_3\">\n     <g id=\"line2d_3\"/>\n     <g id=\"text_3\">\n      <!-- 2020-02-28 -->\n      <defs>\n       <path d=\"M 51.265625 19.1875 \nQ 51.265625 9.671875 45.203125 4.34375 \nQ 39.15625 -0.984375 27.828125 -0.984375 \nQ 16.796875 -0.984375 10.5625 4.234375 \nQ 4.34375 9.46875 4.34375 19.09375 \nQ 4.34375 25.828125 8.203125 30.421875 \nQ 12.0625 35.015625 18.0625 35.984375 \nL 18.0625 36.1875 \nQ 12.453125 37.5 9.203125 41.890625 \nQ 5.953125 46.296875 5.953125 52.203125 \nQ 5.953125 60.0625 11.828125 64.9375 \nQ 17.71875 69.828125 27.640625 69.828125 \nQ 37.796875 69.828125 43.671875 65.03125 \nQ 49.5625 60.25 49.5625 52.09375 \nQ 49.5625 46.1875 46.28125 41.796875 \nQ 43.015625 37.40625 37.359375 36.28125 \nL 37.359375 36.078125 \nQ 43.953125 35.015625 47.609375 30.5 \nQ 51.265625 25.984375 51.265625 19.1875 \nz\nM 40.4375 51.609375 \nQ 40.4375 63.28125 27.640625 63.28125 \nQ 21.4375 63.28125 18.1875 60.34375 \nQ 14.9375 57.421875 14.9375 51.609375 \nQ 14.9375 45.703125 18.28125 42.59375 \nQ 21.625 39.5 27.734375 39.5 \nQ 33.9375 39.5 37.1875 42.359375 \nQ 40.4375 45.21875 40.4375 51.609375 \nz\nM 42.140625 20.015625 \nQ 42.140625 26.421875 38.328125 29.65625 \nQ 34.515625 32.90625 27.640625 32.90625 \nQ 20.953125 32.90625 17.1875 29.40625 \nQ 13.421875 25.921875 13.421875 19.828125 \nQ 13.421875 5.609375 27.9375 5.609375 \nQ 35.109375 5.609375 38.625 9.046875 \nQ 42.140625 12.5 42.140625 20.015625 \nz\n\" id=\"LiberationSans-38\"/>\n      </defs>\n      <g style=\"fill:#262626;\" transform=\"translate(277.247039 289.746875)scale(0.1 -0.1)\">\n       <use xlink:href=\"#LiberationSans-32\"/>\n       <use x=\"55.615234\" xlink:href=\"#LiberationSans-30\"/>\n       <use x=\"111.230469\" xlink:href=\"#LiberationSans-32\"/>\n       <use x=\"166.845703\" xlink:href=\"#LiberationSans-30\"/>\n       <use x=\"222.460938\" xlink:href=\"#LiberationSans-2d\"/>\n       <use x=\"255.761719\" xlink:href=\"#LiberationSans-30\"/>\n       <use x=\"311.376953\" xlink:href=\"#LiberationSans-32\"/>\n       <use x=\"366.992188\" xlink:href=\"#LiberationSans-2d\"/>\n       <use x=\"400.292969\" xlink:href=\"#LiberationSans-32\"/>\n       <use x=\"455.908203\" xlink:href=\"#LiberationSans-38\"/>\n      </g>\n     </g>\n    </g>\n    <g id=\"xtick_4\">\n     <g id=\"line2d_4\"/>\n     <g id=\"text_4\">\n      <!-- 2020-03-01 -->\n      <defs>\n       <path d=\"M 51.21875 19 \nQ 51.21875 9.46875 45.15625 4.234375 \nQ 39.109375 -0.984375 27.875 -0.984375 \nQ 17.4375 -0.984375 11.203125 3.734375 \nQ 4.984375 8.453125 3.8125 17.671875 \nL 12.890625 18.5 \nQ 14.65625 6.296875 27.875 6.296875 \nQ 34.515625 6.296875 38.296875 9.5625 \nQ 42.09375 12.84375 42.09375 19.28125 \nQ 42.09375 24.90625 37.765625 28.046875 \nQ 33.453125 31.203125 25.296875 31.203125 \nL 20.3125 31.203125 \nL 20.3125 38.8125 \nL 25.09375 38.8125 \nQ 32.328125 38.8125 36.296875 41.96875 \nQ 40.28125 45.125 40.28125 50.6875 \nQ 40.28125 56.203125 37.03125 59.390625 \nQ 33.796875 62.59375 27.390625 62.59375 \nQ 21.578125 62.59375 17.984375 59.609375 \nQ 14.40625 56.640625 13.8125 51.21875 \nL 4.984375 51.90625 \nQ 5.953125 60.359375 11.984375 65.09375 \nQ 18.015625 69.828125 27.484375 69.828125 \nQ 37.84375 69.828125 43.578125 65.015625 \nQ 49.3125 60.203125 49.3125 51.609375 \nQ 49.3125 45.015625 45.625 40.890625 \nQ 41.9375 36.765625 34.90625 35.296875 \nL 34.90625 35.109375 \nQ 42.625 34.28125 46.921875 29.9375 \nQ 51.21875 25.59375 51.21875 19 \nz\n\" id=\"LiberationSans-33\"/>\n       <path d=\"M 7.625 0 \nL 7.625 7.46875 \nL 25.140625 7.46875 \nL 25.140625 60.40625 \nL 9.625 49.3125 \nL 9.625 57.625 \nL 25.875 68.796875 \nL 33.984375 68.796875 \nL 33.984375 7.46875 \nL 50.734375 7.46875 \nL 50.734375 0 \nz\n\" id=\"LiberationSans-31\"/>\n      </defs>\n      <g style=\"fill:#262626;\" transform=\"translate(384.041298 289.746875)scale(0.1 -0.1)\">\n       <use xlink:href=\"#LiberationSans-32\"/>\n       <use x=\"55.615234\" xlink:href=\"#LiberationSans-30\"/>\n       <use x=\"111.230469\" xlink:href=\"#LiberationSans-32\"/>\n       <use x=\"166.845703\" xlink:href=\"#LiberationSans-30\"/>\n       <use x=\"222.460938\" xlink:href=\"#LiberationSans-2d\"/>\n       <use x=\"255.761719\" xlink:href=\"#LiberationSans-30\"/>\n       <use x=\"311.376953\" xlink:href=\"#LiberationSans-33\"/>\n       <use x=\"366.992188\" xlink:href=\"#LiberationSans-2d\"/>\n       <use x=\"400.292969\" xlink:href=\"#LiberationSans-30\"/>\n       <use x=\"455.908203\" xlink:href=\"#LiberationSans-31\"/>\n      </g>\n     </g>\n    </g>\n    <g id=\"xtick_5\">\n     <g id=\"line2d_5\"/>\n     <g id=\"text_5\">\n      <!-- 2020-03-03 -->\n      <g style=\"fill:#262626;\" transform=\"translate(490.835556 289.746875)scale(0.1 -0.1)\">\n       <use xlink:href=\"#LiberationSans-32\"/>\n       <use x=\"55.615234\" xlink:href=\"#LiberationSans-30\"/>\n       <use x=\"111.230469\" xlink:href=\"#LiberationSans-32\"/>\n       <use x=\"166.845703\" xlink:href=\"#LiberationSans-30\"/>\n       <use x=\"222.460938\" xlink:href=\"#LiberationSans-2d\"/>\n       <use x=\"255.761719\" xlink:href=\"#LiberationSans-30\"/>\n       <use x=\"311.376953\" xlink:href=\"#LiberationSans-33\"/>\n       <use x=\"366.992188\" xlink:href=\"#LiberationSans-2d\"/>\n       <use x=\"400.292969\" xlink:href=\"#LiberationSans-30\"/>\n       <use x=\"455.908203\" xlink:href=\"#LiberationSans-33\"/>\n      </g>\n     </g>\n    </g>\n    <g id=\"xtick_6\">\n     <g id=\"line2d_6\"/>\n     <g id=\"text_6\">\n      <!-- 2020-03-05 -->\n      <defs>\n       <path d=\"M 51.421875 22.40625 \nQ 51.421875 11.53125 44.953125 5.265625 \nQ 38.484375 -0.984375 27 -0.984375 \nQ 17.390625 -0.984375 11.46875 3.21875 \nQ 5.5625 7.421875 4 15.375 \nL 12.890625 16.40625 \nQ 15.671875 6.203125 27.203125 6.203125 \nQ 34.28125 6.203125 38.28125 10.46875 \nQ 42.28125 14.75 42.28125 22.21875 \nQ 42.28125 28.71875 38.25 32.71875 \nQ 34.234375 36.71875 27.390625 36.71875 \nQ 23.828125 36.71875 20.75 35.59375 \nQ 17.671875 34.46875 14.59375 31.78125 \nL 6 31.78125 \nL 8.296875 68.796875 \nL 47.40625 68.796875 \nL 47.40625 61.328125 \nL 16.3125 61.328125 \nL 14.984375 39.5 \nQ 20.703125 43.890625 29.203125 43.890625 \nQ 39.359375 43.890625 45.390625 37.9375 \nQ 51.421875 31.984375 51.421875 22.40625 \nz\n\" id=\"LiberationSans-35\"/>\n      </defs>\n      <g style=\"fill:#262626;\" transform=\"translate(597.629815 289.746875)scale(0.1 -0.1)\">\n       <use xlink:href=\"#LiberationSans-32\"/>\n       <use x=\"55.615234\" xlink:href=\"#LiberationSans-30\"/>\n       <use x=\"111.230469\" xlink:href=\"#LiberationSans-32\"/>\n       <use x=\"166.845703\" xlink:href=\"#LiberationSans-30\"/>\n       <use x=\"222.460938\" xlink:href=\"#LiberationSans-2d\"/>\n       <use x=\"255.761719\" xlink:href=\"#LiberationSans-30\"/>\n       <use x=\"311.376953\" xlink:href=\"#LiberationSans-33\"/>\n       <use x=\"366.992188\" xlink:href=\"#LiberationSans-2d\"/>\n       <use x=\"400.292969\" xlink:href=\"#LiberationSans-30\"/>\n       <use x=\"455.908203\" xlink:href=\"#LiberationSans-35\"/>\n      </g>\n     </g>\n    </g>\n    <g id=\"xtick_7\">\n     <g id=\"line2d_7\"/>\n     <g id=\"text_7\">\n      <!-- 2020-03-07 -->\n      <defs>\n       <path d=\"M 50.59375 61.671875 \nQ 40.046875 45.5625 35.6875 36.421875 \nQ 31.34375 27.296875 29.171875 18.40625 \nQ 27 9.515625 27 0 \nL 17.828125 0 \nQ 17.828125 13.1875 23.40625 27.75 \nQ 29 42.328125 42.09375 61.328125 \nL 5.125 61.328125 \nL 5.125 68.796875 \nL 50.59375 68.796875 \nz\n\" id=\"LiberationSans-37\"/>\n      </defs>\n      <g style=\"fill:#262626;\" transform=\"translate(704.424073 289.746875)scale(0.1 -0.1)\">\n       <use xlink:href=\"#LiberationSans-32\"/>\n       <use x=\"55.615234\" xlink:href=\"#LiberationSans-30\"/>\n       <use x=\"111.230469\" xlink:href=\"#LiberationSans-32\"/>\n       <use x=\"166.845703\" xlink:href=\"#LiberationSans-30\"/>\n       <use x=\"222.460938\" xlink:href=\"#LiberationSans-2d\"/>\n       <use x=\"255.761719\" xlink:href=\"#LiberationSans-30\"/>\n       <use x=\"311.376953\" xlink:href=\"#LiberationSans-33\"/>\n       <use x=\"366.992188\" xlink:href=\"#LiberationSans-2d\"/>\n       <use x=\"400.292969\" xlink:href=\"#LiberationSans-30\"/>\n       <use x=\"455.908203\" xlink:href=\"#LiberationSans-37\"/>\n      </g>\n     </g>\n    </g>\n    <g id=\"xtick_8\">\n     <g id=\"line2d_8\"/>\n     <g id=\"text_8\">\n      <!-- 2020-03-09 -->\n      <defs>\n       <path d=\"M 50.875 35.796875 \nQ 50.875 18.0625 44.40625 8.53125 \nQ 37.9375 -0.984375 25.984375 -0.984375 \nQ 17.921875 -0.984375 13.0625 2.40625 \nQ 8.203125 5.8125 6.109375 13.375 \nL 14.5 14.703125 \nQ 17.140625 6.109375 26.125 6.109375 \nQ 33.6875 6.109375 37.84375 13.140625 \nQ 42 20.171875 42.1875 33.203125 \nQ 40.234375 28.8125 35.5 26.140625 \nQ 30.765625 23.484375 25.09375 23.484375 \nQ 15.828125 23.484375 10.25 29.828125 \nQ 4.6875 36.1875 4.6875 46.6875 \nQ 4.6875 57.46875 10.734375 63.640625 \nQ 16.796875 69.828125 27.59375 69.828125 \nQ 39.0625 69.828125 44.96875 61.328125 \nQ 50.875 52.828125 50.875 35.796875 \nz\nM 41.3125 44.28125 \nQ 41.3125 52.59375 37.5 57.640625 \nQ 33.6875 62.703125 27.296875 62.703125 \nQ 20.953125 62.703125 17.28125 58.375 \nQ 13.625 54.046875 13.625 46.6875 \nQ 13.625 39.15625 17.28125 34.78125 \nQ 20.953125 30.421875 27.203125 30.421875 \nQ 31 30.421875 34.265625 32.15625 \nQ 37.546875 33.890625 39.421875 37.0625 \nQ 41.3125 40.234375 41.3125 44.28125 \nz\n\" id=\"LiberationSans-39\"/>\n      </defs>\n      <g style=\"fill:#262626;\" transform=\"translate(811.218331 289.746875)scale(0.1 -0.1)\">\n       <use xlink:href=\"#LiberationSans-32\"/>\n       <use x=\"55.615234\" xlink:href=\"#LiberationSans-30\"/>\n       <use x=\"111.230469\" xlink:href=\"#LiberationSans-32\"/>\n       <use x=\"166.845703\" xlink:href=\"#LiberationSans-30\"/>\n       <use x=\"222.460938\" xlink:href=\"#LiberationSans-2d\"/>\n       <use x=\"255.761719\" xlink:href=\"#LiberationSans-30\"/>\n       <use x=\"311.376953\" xlink:href=\"#LiberationSans-33\"/>\n       <use x=\"366.992188\" xlink:href=\"#LiberationSans-2d\"/>\n       <use x=\"400.292969\" xlink:href=\"#LiberationSans-30\"/>\n       <use x=\"455.908203\" xlink:href=\"#LiberationSans-39\"/>\n      </g>\n     </g>\n    </g>\n    <g id=\"xtick_9\">\n     <g id=\"line2d_9\"/>\n     <g id=\"text_9\">\n      <!-- 2020-03-11 -->\n      <g style=\"fill:#262626;\" transform=\"translate(918.018058 289.746875)scale(0.1 -0.1)\">\n       <use xlink:href=\"#LiberationSans-32\"/>\n       <use x=\"55.615234\" xlink:href=\"#LiberationSans-30\"/>\n       <use x=\"111.230469\" xlink:href=\"#LiberationSans-32\"/>\n       <use x=\"166.845703\" xlink:href=\"#LiberationSans-30\"/>\n       <use x=\"222.460938\" xlink:href=\"#LiberationSans-2d\"/>\n       <use x=\"255.761719\" xlink:href=\"#LiberationSans-30\"/>\n       <use x=\"311.376953\" xlink:href=\"#LiberationSans-33\"/>\n       <use x=\"366.992188\" xlink:href=\"#LiberationSans-2d\"/>\n       <use x=\"400.292969\" xlink:href=\"#LiberationSans-31\"/>\n       <use x=\"455.798828\" xlink:href=\"#LiberationSans-31\"/>\n      </g>\n     </g>\n    </g>\n    <g id=\"xtick_10\">\n     <g id=\"line2d_10\"/>\n     <g id=\"text_10\">\n      <!-- 2020-03-13 -->\n      <g style=\"fill:#262626;\" transform=\"translate(1024.806848 289.746875)scale(0.1 -0.1)\">\n       <use xlink:href=\"#LiberationSans-32\"/>\n       <use x=\"55.615234\" xlink:href=\"#LiberationSans-30\"/>\n       <use x=\"111.230469\" xlink:href=\"#LiberationSans-32\"/>\n       <use x=\"166.845703\" xlink:href=\"#LiberationSans-30\"/>\n       <use x=\"222.460938\" xlink:href=\"#LiberationSans-2d\"/>\n       <use x=\"255.761719\" xlink:href=\"#LiberationSans-30\"/>\n       <use x=\"311.376953\" xlink:href=\"#LiberationSans-33\"/>\n       <use x=\"366.992188\" xlink:href=\"#LiberationSans-2d\"/>\n       <use x=\"400.292969\" xlink:href=\"#LiberationSans-31\"/>\n       <use x=\"455.908203\" xlink:href=\"#LiberationSans-33\"/>\n      </g>\n     </g>\n    </g>\n   </g>\n   <g id=\"matplotlib.axis_2\">\n    <g id=\"ytick_1\">\n     <g id=\"line2d_11\"/>\n     <g id=\"text_11\">\n      <!-- 0 -->\n      <g style=\"fill:#262626;\" transform=\"translate(29.44375 279.439559)scale(0.1 -0.1)\">\n       <use xlink:href=\"#LiberationSans-30\"/>\n      </g>\n     </g>\n    </g>\n    <g id=\"ytick_2\">\n     <g id=\"line2d_12\"/>\n     <g id=\"text_12\">\n      <!-- 2000 -->\n      <g style=\"fill:#262626;\" transform=\"translate(12.760937 249.022754)scale(0.1 -0.1)\">\n       <use xlink:href=\"#LiberationSans-32\"/>\n       <use x=\"55.615234\" xlink:href=\"#LiberationSans-30\"/>\n       <use x=\"111.230469\" xlink:href=\"#LiberationSans-30\"/>\n       <use x=\"166.845703\" xlink:href=\"#LiberationSans-30\"/>\n      </g>\n     </g>\n    </g>\n    <g id=\"ytick_3\">\n     <g id=\"line2d_13\"/>\n     <g id=\"text_13\">\n      <!-- 4000 -->\n      <g style=\"fill:#262626;\" transform=\"translate(12.760937 218.60595)scale(0.1 -0.1)\">\n       <use xlink:href=\"#LiberationSans-34\"/>\n       <use x=\"55.615234\" xlink:href=\"#LiberationSans-30\"/>\n       <use x=\"111.230469\" xlink:href=\"#LiberationSans-30\"/>\n       <use x=\"166.845703\" xlink:href=\"#LiberationSans-30\"/>\n      </g>\n     </g>\n    </g>\n    <g id=\"ytick_4\">\n     <g id=\"line2d_14\"/>\n     <g id=\"text_14\">\n      <!-- 6000 -->\n      <g style=\"fill:#262626;\" transform=\"translate(12.760937 188.189146)scale(0.1 -0.1)\">\n       <use xlink:href=\"#LiberationSans-36\"/>\n       <use x=\"55.615234\" xlink:href=\"#LiberationSans-30\"/>\n       <use x=\"111.230469\" xlink:href=\"#LiberationSans-30\"/>\n       <use x=\"166.845703\" xlink:href=\"#LiberationSans-30\"/>\n      </g>\n     </g>\n    </g>\n    <g id=\"ytick_5\">\n     <g id=\"line2d_15\"/>\n     <g id=\"text_15\">\n      <!-- 8000 -->\n      <g style=\"fill:#262626;\" transform=\"translate(12.760937 157.772342)scale(0.1 -0.1)\">\n       <use xlink:href=\"#LiberationSans-38\"/>\n       <use x=\"55.615234\" xlink:href=\"#LiberationSans-30\"/>\n       <use x=\"111.230469\" xlink:href=\"#LiberationSans-30\"/>\n       <use x=\"166.845703\" xlink:href=\"#LiberationSans-30\"/>\n      </g>\n     </g>\n    </g>\n    <g id=\"ytick_6\">\n     <g id=\"line2d_16\"/>\n     <g id=\"text_16\">\n      <!-- 10000 -->\n      <g style=\"fill:#262626;\" transform=\"translate(7.2 127.355537)scale(0.1 -0.1)\">\n       <use xlink:href=\"#LiberationSans-31\"/>\n       <use x=\"55.615234\" xlink:href=\"#LiberationSans-30\"/>\n       <use x=\"111.230469\" xlink:href=\"#LiberationSans-30\"/>\n       <use x=\"166.845703\" xlink:href=\"#LiberationSans-30\"/>\n       <use x=\"222.460938\" xlink:href=\"#LiberationSans-30\"/>\n      </g>\n     </g>\n    </g>\n    <g id=\"ytick_7\">\n     <g id=\"line2d_17\"/>\n     <g id=\"text_17\">\n      <!-- 12000 -->\n      <g style=\"fill:#262626;\" transform=\"translate(7.2 96.938733)scale(0.1 -0.1)\">\n       <use xlink:href=\"#LiberationSans-31\"/>\n       <use x=\"55.615234\" xlink:href=\"#LiberationSans-32\"/>\n       <use x=\"111.230469\" xlink:href=\"#LiberationSans-30\"/>\n       <use x=\"166.845703\" xlink:href=\"#LiberationSans-30\"/>\n       <use x=\"222.460938\" xlink:href=\"#LiberationSans-30\"/>\n      </g>\n     </g>\n    </g>\n    <g id=\"ytick_8\">\n     <g id=\"line2d_18\"/>\n     <g id=\"text_18\">\n      <!-- 14000 -->\n      <g style=\"fill:#262626;\" transform=\"translate(7.2 66.521929)scale(0.1 -0.1)\">\n       <use xlink:href=\"#LiberationSans-31\"/>\n       <use x=\"55.615234\" xlink:href=\"#LiberationSans-34\"/>\n       <use x=\"111.230469\" xlink:href=\"#LiberationSans-30\"/>\n       <use x=\"166.845703\" xlink:href=\"#LiberationSans-30\"/>\n       <use x=\"222.460938\" xlink:href=\"#LiberationSans-30\"/>\n      </g>\n     </g>\n    </g>\n    <g id=\"ytick_9\">\n     <g id=\"line2d_19\"/>\n     <g id=\"text_19\">\n      <!-- 16000 -->\n      <g style=\"fill:#262626;\" transform=\"translate(7.2 36.105125)scale(0.1 -0.1)\">\n       <use xlink:href=\"#LiberationSans-31\"/>\n       <use x=\"55.615234\" xlink:href=\"#LiberationSans-36\"/>\n       <use x=\"111.230469\" xlink:href=\"#LiberationSans-30\"/>\n       <use x=\"166.845703\" xlink:href=\"#LiberationSans-30\"/>\n       <use x=\"222.460938\" xlink:href=\"#LiberationSans-30\"/>\n      </g>\n     </g>\n    </g>\n   </g>\n   <g id=\"line2d_20\">\n    <path clip-path=\"url(#pa927a224ef)\" d=\"M 89.23196 266.645455 \nL 142.629089 262.965021 \nL 196.026219 260.88147 \nL 249.423348 255.147903 \nL 302.820477 255.041444 \nL 356.217606 247.057033 \nL 409.614735 239.954709 \nL 463.011865 246.357446 \nL 516.408994 237.27803 \nL 569.806123 241.140964 \nL 623.203252 233.810514 \nL 676.600381 216.472936 \nL 729.99751 214.419802 \nL 783.39464 215.377931 \nL 836.791769 218.541279 \nL 890.188898 199.30265 \nL 943.586027 165.205412 \nL 996.983156 238.129701 \nL 1050.380286 19.554545 \nL 1103.777415 109.907662 \n\" style=\"fill:none;stroke:#1f77b4;stroke-linecap:round;stroke-width:1.5;\"/>\n   </g>\n   <g id=\"patch_3\">\n    <path d=\"M 38.504687 279 \nL 38.504687 7.2 \n\" style=\"fill:none;\"/>\n   </g>\n   <g id=\"patch_4\">\n    <path d=\"M 1154.504688 279 \nL 1154.504688 7.2 \n\" style=\"fill:none;\"/>\n   </g>\n   <g id=\"patch_5\">\n    <path d=\"M 38.504688 279 \nL 1154.504688 279 \n\" style=\"fill:none;\"/>\n   </g>\n   <g id=\"patch_6\">\n    <path d=\"M 38.504688 7.2 \nL 1154.504688 7.2 \n\" style=\"fill:none;\"/>\n   </g>\n  </g>\n </g>\n <defs>\n  <clipPath id=\"pa927a224ef\">\n   <rect height=\"271.8\" width=\"1116\" x=\"38.504687\" y=\"7.2\"/>\n  </clipPath>\n </defs>\n</svg>\n",
      "text/plain": "<matplotlib.figure.Figure at 0x7f8a3a82d690>"
     },
     "metadata": {},
     "output_type": "display_data"
    }
   ],
   "source": [
    "plt.plot(GlobalTotals.iloc[-20:]['Daily New Cases'])"
   ]
  },
  {
   "cell_type": "code",
   "execution_count": 107,
   "metadata": {},
   "outputs": [
    {
     "data": {
      "text/plain": "array([0. , 0.1, 0.2, 0.3, 0.4, 0.5])"
     },
     "execution_count": 107,
     "metadata": {},
     "output_type": "execute_result"
    }
   ],
   "source": [
    "var_range = np.arange(0.0,0.6,0.1)\n",
    "var_range"
   ]
  },
  {
   "cell_type": "code",
   "execution_count": 108,
   "metadata": {},
   "outputs": [
    {
     "name": "stdout",
     "output_type": "stream",
     "text": "[3.49814448e+01 7.67388948e-02 1.70922416e+05]\n[3.51943197e+01 7.63305859e-02 1.72149399e+05]\n[3.54115997e+01 7.59218859e-02 1.73409113e+05]\n[3.56334231e+01 7.55127902e-02 1.74702909e+05]\n[3.5859933e+01 7.5103295e-02 1.7603221e+05]\n[3.60912793e+01 7.46933952e-02 1.77398521e+05]\n"
    }
   ],
   "source": [
    "df = TotalCasesLocaggregated.set_index('Date')\n",
    "y_data = df['Total Confirmed Cases'].values\n",
    "daily_new_cases = GlobalTotals.iloc[-1]['Daily New Cases']\n",
    "\n",
    "def logistic(x, a, b, c):\n",
    "     y = c / (1 + np.exp(-b*(x-a)))\n",
    "     return y\n",
    "\n",
    "var_params = []\n",
    "var_dict = {}\n",
    "for variance in var_range:\n",
    "    y = y_data.copy()\n",
    "    #y[-1] = y[-1] * (1 + variance)\n",
    "    y = np.append(y, y[-1] + daily_new_cases * (1 + variance))\n",
    "    x = np.array(range(len(y)))\n",
    "    params, params_covariance = optimize.curve_fit(logistic, x, y, p0=[50, 0.1, 1000000])\n",
    "    var_dict[variance] = params\n",
    "    var_params.append(params)\n",
    "    print(params)"
   ]
  },
  {
   "cell_type": "code",
   "execution_count": 109,
   "metadata": {},
   "outputs": [
    {
     "data": {
      "text/plain": "(737476.0, 737507.9587231183)"
     },
     "execution_count": 109,
     "metadata": {},
     "output_type": "execute_result"
    },
    {
     "data": {
      "image/png": "[encoded data removed]",
      "image/svg+xml": "<?xml version=\"1.0\" encoding=\"utf-8\" standalone=\"no\"?>\n<!DOCTYPE svg PUBLIC \"-//W3C//DTD SVG 1.1//EN\"\n  \"http://www.w3.org/Graphics/SVG/1.1/DTD/svg11.dtd\">\n<!-- Created with matplotlib (http://matplotlib.org/) -->\n<svg height=\"313pt\" version=\"1.1\" viewBox=\"0 0 1167 313\" width=\"1167pt\" xmlns=\"http://www.w3.org/2000/svg\" xmlns:xlink=\"http://www.w3.org/1999/xlink\">\n <defs>\n  <style type=\"text/css\">\n*{stroke-linecap:butt;stroke-linejoin:round;}\n  </style>\n </defs>\n <g id=\"figure_1\">\n  <g id=\"patch_1\">\n   <path d=\"M 0 313.718125 \nL 1167.265625 313.718125 \nL 1167.265625 0 \nL 0 0 \nz\n\" style=\"fill:#ffffff;\"/>\n  </g>\n  <g id=\"axes_1\">\n   <g id=\"patch_2\">\n    <path d=\"M 44.065625 293.69625 \nL 1160.065625 293.69625 \nL 1160.065625 21.89625 \nL 44.065625 21.89625 \nz\n\" style=\"fill:#eaeaf2;\"/>\n   </g>\n   <g id=\"matplotlib.axis_1\">\n    <g id=\"xtick_1\">\n     <g id=\"line2d_1\"/>\n     <g id=\"text_1\">\n      <!-- 2020-02-22 -->\n      <defs>\n       <path d=\"M 5.03125 0 \nL 5.03125 6.203125 \nQ 7.515625 11.921875 11.109375 16.28125 \nQ 14.703125 20.65625 18.65625 24.1875 \nQ 22.609375 27.734375 26.484375 30.765625 \nQ 30.375 33.796875 33.5 36.8125 \nQ 36.625 39.84375 38.546875 43.15625 \nQ 40.484375 46.484375 40.484375 50.6875 \nQ 40.484375 56.34375 37.15625 59.46875 \nQ 33.84375 62.59375 27.9375 62.59375 \nQ 22.3125 62.59375 18.671875 59.546875 \nQ 15.046875 56.5 14.40625 50.984375 \nL 5.421875 51.8125 \nQ 6.390625 60.0625 12.421875 64.9375 \nQ 18.453125 69.828125 27.9375 69.828125 \nQ 38.328125 69.828125 43.921875 64.921875 \nQ 49.515625 60.015625 49.515625 50.984375 \nQ 49.515625 46.96875 47.671875 43.015625 \nQ 45.84375 39.0625 42.234375 35.109375 \nQ 38.625 31.15625 28.421875 22.859375 \nQ 22.796875 18.265625 19.46875 14.578125 \nQ 16.15625 10.890625 14.703125 7.46875 \nL 50.59375 7.46875 \nL 50.59375 0 \nz\n\" id=\"LiberationSans-32\"/>\n       <path d=\"M 51.703125 34.421875 \nQ 51.703125 17.1875 45.625 8.09375 \nQ 39.546875 -0.984375 27.6875 -0.984375 \nQ 15.828125 -0.984375 9.859375 8.046875 \nQ 3.90625 17.09375 3.90625 34.421875 \nQ 3.90625 52.15625 9.6875 60.984375 \nQ 15.484375 69.828125 27.984375 69.828125 \nQ 40.140625 69.828125 45.921875 60.890625 \nQ 51.703125 51.953125 51.703125 34.421875 \nz\nM 42.78125 34.421875 \nQ 42.78125 49.3125 39.328125 56 \nQ 35.890625 62.703125 27.984375 62.703125 \nQ 19.875 62.703125 16.328125 56.109375 \nQ 12.796875 49.515625 12.796875 34.421875 \nQ 12.796875 19.78125 16.375 12.984375 \nQ 19.96875 6.203125 27.78125 6.203125 \nQ 35.546875 6.203125 39.15625 13.125 \nQ 42.78125 20.0625 42.78125 34.421875 \nz\n\" id=\"LiberationSans-30\"/>\n       <path d=\"M 4.4375 22.65625 \nL 4.4375 30.46875 \nL 28.859375 30.46875 \nL 28.859375 22.65625 \nz\n\" id=\"LiberationSans-2d\"/>\n      </defs>\n      <g style=\"fill:#262626;\" transform=\"translate(53.412231 304.443125)scale(0.1 -0.1)\">\n       <use xlink:href=\"#LiberationSans-32\"/>\n       <use x=\"55.615234\" xlink:href=\"#LiberationSans-30\"/>\n       <use x=\"111.230469\" xlink:href=\"#LiberationSans-32\"/>\n       <use x=\"166.845703\" xlink:href=\"#LiberationSans-30\"/>\n       <use x=\"222.460938\" xlink:href=\"#LiberationSans-2d\"/>\n       <use x=\"255.761719\" xlink:href=\"#LiberationSans-30\"/>\n       <use x=\"311.376953\" xlink:href=\"#LiberationSans-32\"/>\n       <use x=\"366.992188\" xlink:href=\"#LiberationSans-2d\"/>\n       <use x=\"400.292969\" xlink:href=\"#LiberationSans-32\"/>\n       <use x=\"455.908203\" xlink:href=\"#LiberationSans-32\"/>\n      </g>\n     </g>\n    </g>\n    <g id=\"xtick_2\">\n     <g id=\"line2d_2\"/>\n     <g id=\"text_2\">\n      <!-- 2020-02-29 -->\n      <defs>\n       <path d=\"M 50.875 35.796875 \nQ 50.875 18.0625 44.40625 8.53125 \nQ 37.9375 -0.984375 25.984375 -0.984375 \nQ 17.921875 -0.984375 13.0625 2.40625 \nQ 8.203125 5.8125 6.109375 13.375 \nL 14.5 14.703125 \nQ 17.140625 6.109375 26.125 6.109375 \nQ 33.6875 6.109375 37.84375 13.140625 \nQ 42 20.171875 42.1875 33.203125 \nQ 40.234375 28.8125 35.5 26.140625 \nQ 30.765625 23.484375 25.09375 23.484375 \nQ 15.828125 23.484375 10.25 29.828125 \nQ 4.6875 36.1875 4.6875 46.6875 \nQ 4.6875 57.46875 10.734375 63.640625 \nQ 16.796875 69.828125 27.59375 69.828125 \nQ 39.0625 69.828125 44.96875 61.328125 \nQ 50.875 52.828125 50.875 35.796875 \nz\nM 41.3125 44.28125 \nQ 41.3125 52.59375 37.5 57.640625 \nQ 33.6875 62.703125 27.296875 62.703125 \nQ 20.953125 62.703125 17.28125 58.375 \nQ 13.625 54.046875 13.625 46.6875 \nQ 13.625 39.15625 17.28125 34.78125 \nQ 20.953125 30.421875 27.203125 30.421875 \nQ 31 30.421875 34.265625 32.15625 \nQ 37.546875 33.890625 39.421875 37.0625 \nQ 41.3125 40.234375 41.3125 44.28125 \nz\n\" id=\"LiberationSans-39\"/>\n      </defs>\n      <g style=\"fill:#262626;\" transform=\"translate(297.852535 304.443125)scale(0.1 -0.1)\">\n       <use xlink:href=\"#LiberationSans-32\"/>\n       <use x=\"55.615234\" xlink:href=\"#LiberationSans-30\"/>\n       <use x=\"111.230469\" xlink:href=\"#LiberationSans-32\"/>\n       <use x=\"166.845703\" xlink:href=\"#LiberationSans-30\"/>\n       <use x=\"222.460938\" xlink:href=\"#LiberationSans-2d\"/>\n       <use x=\"255.761719\" xlink:href=\"#LiberationSans-30\"/>\n       <use x=\"311.376953\" xlink:href=\"#LiberationSans-32\"/>\n       <use x=\"366.992188\" xlink:href=\"#LiberationSans-2d\"/>\n       <use x=\"400.292969\" xlink:href=\"#LiberationSans-32\"/>\n       <use x=\"455.908203\" xlink:href=\"#LiberationSans-39\"/>\n      </g>\n     </g>\n    </g>\n    <g id=\"xtick_3\">\n     <g id=\"line2d_3\"/>\n     <g id=\"text_3\">\n      <!-- 2020-03-07 -->\n      <defs>\n       <path d=\"M 51.21875 19 \nQ 51.21875 9.46875 45.15625 4.234375 \nQ 39.109375 -0.984375 27.875 -0.984375 \nQ 17.4375 -0.984375 11.203125 3.734375 \nQ 4.984375 8.453125 3.8125 17.671875 \nL 12.890625 18.5 \nQ 14.65625 6.296875 27.875 6.296875 \nQ 34.515625 6.296875 38.296875 9.5625 \nQ 42.09375 12.84375 42.09375 19.28125 \nQ 42.09375 24.90625 37.765625 28.046875 \nQ 33.453125 31.203125 25.296875 31.203125 \nL 20.3125 31.203125 \nL 20.3125 38.8125 \nL 25.09375 38.8125 \nQ 32.328125 38.8125 36.296875 41.96875 \nQ 40.28125 45.125 40.28125 50.6875 \nQ 40.28125 56.203125 37.03125 59.390625 \nQ 33.796875 62.59375 27.390625 62.59375 \nQ 21.578125 62.59375 17.984375 59.609375 \nQ 14.40625 56.640625 13.8125 51.21875 \nL 4.984375 51.90625 \nQ 5.953125 60.359375 11.984375 65.09375 \nQ 18.015625 69.828125 27.484375 69.828125 \nQ 37.84375 69.828125 43.578125 65.015625 \nQ 49.3125 60.203125 49.3125 51.609375 \nQ 49.3125 45.015625 45.625 40.890625 \nQ 41.9375 36.765625 34.90625 35.296875 \nL 34.90625 35.109375 \nQ 42.625 34.28125 46.921875 29.9375 \nQ 51.21875 25.59375 51.21875 19 \nz\n\" id=\"LiberationSans-33\"/>\n       <path d=\"M 50.59375 61.671875 \nQ 40.046875 45.5625 35.6875 36.421875 \nQ 31.34375 27.296875 29.171875 18.40625 \nQ 27 9.515625 27 0 \nL 17.828125 0 \nQ 17.828125 13.1875 23.40625 27.75 \nQ 29 42.328125 42.09375 61.328125 \nL 5.125 61.328125 \nL 5.125 68.796875 \nL 50.59375 68.796875 \nz\n\" id=\"LiberationSans-37\"/>\n      </defs>\n      <g style=\"fill:#262626;\" transform=\"translate(542.292839 304.443125)scale(0.1 -0.1)\">\n       <use xlink:href=\"#LiberationSans-32\"/>\n       <use x=\"55.615234\" xlink:href=\"#LiberationSans-30\"/>\n       <use x=\"111.230469\" xlink:href=\"#LiberationSans-32\"/>\n       <use x=\"166.845703\" xlink:href=\"#LiberationSans-30\"/>\n       <use x=\"222.460938\" xlink:href=\"#LiberationSans-2d\"/>\n       <use x=\"255.761719\" xlink:href=\"#LiberationSans-30\"/>\n       <use x=\"311.376953\" xlink:href=\"#LiberationSans-33\"/>\n       <use x=\"366.992188\" xlink:href=\"#LiberationSans-2d\"/>\n       <use x=\"400.292969\" xlink:href=\"#LiberationSans-30\"/>\n       <use x=\"455.908203\" xlink:href=\"#LiberationSans-37\"/>\n      </g>\n     </g>\n    </g>\n    <g id=\"xtick_4\">\n     <g id=\"line2d_4\"/>\n     <g id=\"text_4\">\n      <!-- 2020-03-14 -->\n      <defs>\n       <path d=\"M 7.625 0 \nL 7.625 7.46875 \nL 25.140625 7.46875 \nL 25.140625 60.40625 \nL 9.625 49.3125 \nL 9.625 57.625 \nL 25.875 68.796875 \nL 33.984375 68.796875 \nL 33.984375 7.46875 \nL 50.734375 7.46875 \nL 50.734375 0 \nz\n\" id=\"LiberationSans-31\"/>\n       <path d=\"M 43.015625 15.578125 \nL 43.015625 0 \nL 34.71875 0 \nL 34.71875 15.578125 \nL 2.296875 15.578125 \nL 2.296875 22.40625 \nL 33.796875 68.796875 \nL 43.015625 68.796875 \nL 43.015625 22.515625 \nL 52.6875 22.515625 \nL 52.6875 15.578125 \nz\nM 34.71875 58.890625 \nQ 34.625 58.59375 33.34375 56.296875 \nQ 32.078125 54 31.453125 53.078125 \nL 13.8125 27.09375 \nL 11.1875 23.484375 \nL 10.40625 22.515625 \nL 34.71875 22.515625 \nz\n\" id=\"LiberationSans-34\"/>\n      </defs>\n      <g style=\"fill:#262626;\" transform=\"translate(786.733143 304.443125)scale(0.1 -0.1)\">\n       <use xlink:href=\"#LiberationSans-32\"/>\n       <use x=\"55.615234\" xlink:href=\"#LiberationSans-30\"/>\n       <use x=\"111.230469\" xlink:href=\"#LiberationSans-32\"/>\n       <use x=\"166.845703\" xlink:href=\"#LiberationSans-30\"/>\n       <use x=\"222.460938\" xlink:href=\"#LiberationSans-2d\"/>\n       <use x=\"255.761719\" xlink:href=\"#LiberationSans-30\"/>\n       <use x=\"311.376953\" xlink:href=\"#LiberationSans-33\"/>\n       <use x=\"366.992188\" xlink:href=\"#LiberationSans-2d\"/>\n       <use x=\"400.292969\" xlink:href=\"#LiberationSans-31\"/>\n       <use x=\"455.908203\" xlink:href=\"#LiberationSans-34\"/>\n      </g>\n     </g>\n    </g>\n    <g id=\"xtick_5\">\n     <g id=\"line2d_5\"/>\n     <g id=\"text_5\">\n      <!-- 2020-03-21 -->\n      <g style=\"fill:#262626;\" transform=\"translate(1031.173448 304.443125)scale(0.1 -0.1)\">\n       <use xlink:href=\"#LiberationSans-32\"/>\n       <use x=\"55.615234\" xlink:href=\"#LiberationSans-30\"/>\n       <use x=\"111.230469\" xlink:href=\"#LiberationSans-32\"/>\n       <use x=\"166.845703\" xlink:href=\"#LiberationSans-30\"/>\n       <use x=\"222.460938\" xlink:href=\"#LiberationSans-2d\"/>\n       <use x=\"255.761719\" xlink:href=\"#LiberationSans-30\"/>\n       <use x=\"311.376953\" xlink:href=\"#LiberationSans-33\"/>\n       <use x=\"366.992188\" xlink:href=\"#LiberationSans-2d\"/>\n       <use x=\"400.292969\" xlink:href=\"#LiberationSans-32\"/>\n       <use x=\"455.908203\" xlink:href=\"#LiberationSans-31\"/>\n      </g>\n     </g>\n    </g>\n   </g>\n   <g id=\"matplotlib.axis_2\">\n    <g id=\"ytick_1\">\n     <g id=\"line2d_6\"/>\n     <g id=\"text_6\">\n      <!-- 0 -->\n      <g style=\"fill:#262626;\" transform=\"translate(35.004688 283.197951)scale(0.1 -0.1)\">\n       <use xlink:href=\"#LiberationSans-30\"/>\n      </g>\n     </g>\n    </g>\n    <g id=\"ytick_2\">\n     <g id=\"line2d_7\"/>\n     <g id=\"text_7\">\n      <!-- 20000 -->\n      <g style=\"fill:#262626;\" transform=\"translate(12.760938 252.10371)scale(0.1 -0.1)\">\n       <use xlink:href=\"#LiberationSans-32\"/>\n       <use x=\"55.615234\" xlink:href=\"#LiberationSans-30\"/>\n       <use x=\"111.230469\" xlink:href=\"#LiberationSans-30\"/>\n       <use x=\"166.845703\" xlink:href=\"#LiberationSans-30\"/>\n       <use x=\"222.460938\" xlink:href=\"#LiberationSans-30\"/>\n      </g>\n     </g>\n    </g>\n    <g id=\"ytick_3\">\n     <g id=\"line2d_8\"/>\n     <g id=\"text_8\">\n      <!-- 40000 -->\n      <g style=\"fill:#262626;\" transform=\"translate(12.760938 221.009469)scale(0.1 -0.1)\">\n       <use xlink:href=\"#LiberationSans-34\"/>\n       <use x=\"55.615234\" xlink:href=\"#LiberationSans-30\"/>\n       <use x=\"111.230469\" xlink:href=\"#LiberationSans-30\"/>\n       <use x=\"166.845703\" xlink:href=\"#LiberationSans-30\"/>\n       <use x=\"222.460938\" xlink:href=\"#LiberationSans-30\"/>\n      </g>\n     </g>\n    </g>\n    <g id=\"ytick_4\">\n     <g id=\"line2d_9\"/>\n     <g id=\"text_9\">\n      <!-- 60000 -->\n      <defs>\n       <path d=\"M 51.21875 22.515625 \nQ 51.21875 11.625 45.3125 5.3125 \nQ 39.40625 -0.984375 29 -0.984375 \nQ 17.390625 -0.984375 11.234375 7.65625 \nQ 5.078125 16.3125 5.078125 32.8125 \nQ 5.078125 50.6875 11.46875 60.25 \nQ 17.875 69.828125 29.6875 69.828125 \nQ 45.265625 69.828125 49.3125 55.8125 \nL 40.921875 54.296875 \nQ 38.328125 62.703125 29.59375 62.703125 \nQ 22.078125 62.703125 17.9375 55.6875 \nQ 13.8125 48.6875 13.8125 35.40625 \nQ 16.21875 39.84375 20.5625 42.15625 \nQ 24.90625 44.484375 30.515625 44.484375 \nQ 40.046875 44.484375 45.625 38.515625 \nQ 51.21875 32.5625 51.21875 22.515625 \nz\nM 42.28125 22.125 \nQ 42.28125 29.59375 38.625 33.640625 \nQ 34.96875 37.703125 28.421875 37.703125 \nQ 22.265625 37.703125 18.484375 34.109375 \nQ 14.703125 30.515625 14.703125 24.21875 \nQ 14.703125 16.265625 18.625 11.1875 \nQ 22.5625 6.109375 28.71875 6.109375 \nQ 35.0625 6.109375 38.671875 10.375 \nQ 42.28125 14.65625 42.28125 22.125 \nz\n\" id=\"LiberationSans-36\"/>\n      </defs>\n      <g style=\"fill:#262626;\" transform=\"translate(12.760938 189.915227)scale(0.1 -0.1)\">\n       <use xlink:href=\"#LiberationSans-36\"/>\n       <use x=\"55.615234\" xlink:href=\"#LiberationSans-30\"/>\n       <use x=\"111.230469\" xlink:href=\"#LiberationSans-30\"/>\n       <use x=\"166.845703\" xlink:href=\"#LiberationSans-30\"/>\n       <use x=\"222.460938\" xlink:href=\"#LiberationSans-30\"/>\n      </g>\n     </g>\n    </g>\n    <g id=\"ytick_5\">\n     <g id=\"line2d_10\"/>\n     <g id=\"text_10\">\n      <!-- 80000 -->\n      <defs>\n       <path d=\"M 51.265625 19.1875 \nQ 51.265625 9.671875 45.203125 4.34375 \nQ 39.15625 -0.984375 27.828125 -0.984375 \nQ 16.796875 -0.984375 10.5625 4.234375 \nQ 4.34375 9.46875 4.34375 19.09375 \nQ 4.34375 25.828125 8.203125 30.421875 \nQ 12.0625 35.015625 18.0625 35.984375 \nL 18.0625 36.1875 \nQ 12.453125 37.5 9.203125 41.890625 \nQ 5.953125 46.296875 5.953125 52.203125 \nQ 5.953125 60.0625 11.828125 64.9375 \nQ 17.71875 69.828125 27.640625 69.828125 \nQ 37.796875 69.828125 43.671875 65.03125 \nQ 49.5625 60.25 49.5625 52.09375 \nQ 49.5625 46.1875 46.28125 41.796875 \nQ 43.015625 37.40625 37.359375 36.28125 \nL 37.359375 36.078125 \nQ 43.953125 35.015625 47.609375 30.5 \nQ 51.265625 25.984375 51.265625 19.1875 \nz\nM 40.4375 51.609375 \nQ 40.4375 63.28125 27.640625 63.28125 \nQ 21.4375 63.28125 18.1875 60.34375 \nQ 14.9375 57.421875 14.9375 51.609375 \nQ 14.9375 45.703125 18.28125 42.59375 \nQ 21.625 39.5 27.734375 39.5 \nQ 33.9375 39.5 37.1875 42.359375 \nQ 40.4375 45.21875 40.4375 51.609375 \nz\nM 42.140625 20.015625 \nQ 42.140625 26.421875 38.328125 29.65625 \nQ 34.515625 32.90625 27.640625 32.90625 \nQ 20.953125 32.90625 17.1875 29.40625 \nQ 13.421875 25.921875 13.421875 19.828125 \nQ 13.421875 5.609375 27.9375 5.609375 \nQ 35.109375 5.609375 38.625 9.046875 \nQ 42.140625 12.5 42.140625 20.015625 \nz\n\" id=\"LiberationSans-38\"/>\n      </defs>\n      <g style=\"fill:#262626;\" transform=\"translate(12.760938 158.820986)scale(0.1 -0.1)\">\n       <use xlink:href=\"#LiberationSans-38\"/>\n       <use x=\"55.615234\" xlink:href=\"#LiberationSans-30\"/>\n       <use x=\"111.230469\" xlink:href=\"#LiberationSans-30\"/>\n       <use x=\"166.845703\" xlink:href=\"#LiberationSans-30\"/>\n       <use x=\"222.460938\" xlink:href=\"#LiberationSans-30\"/>\n      </g>\n     </g>\n    </g>\n    <g id=\"ytick_6\">\n     <g id=\"line2d_11\"/>\n     <g id=\"text_11\">\n      <!-- 100000 -->\n      <g style=\"fill:#262626;\" transform=\"translate(7.2 127.726745)scale(0.1 -0.1)\">\n       <use xlink:href=\"#LiberationSans-31\"/>\n       <use x=\"55.615234\" xlink:href=\"#LiberationSans-30\"/>\n       <use x=\"111.230469\" xlink:href=\"#LiberationSans-30\"/>\n       <use x=\"166.845703\" xlink:href=\"#LiberationSans-30\"/>\n       <use x=\"222.460938\" xlink:href=\"#LiberationSans-30\"/>\n       <use x=\"278.076172\" xlink:href=\"#LiberationSans-30\"/>\n      </g>\n     </g>\n    </g>\n    <g id=\"ytick_7\">\n     <g id=\"line2d_12\"/>\n     <g id=\"text_12\">\n      <!-- 120000 -->\n      <g style=\"fill:#262626;\" transform=\"translate(7.2 96.632504)scale(0.1 -0.1)\">\n       <use xlink:href=\"#LiberationSans-31\"/>\n       <use x=\"55.615234\" xlink:href=\"#LiberationSans-32\"/>\n       <use x=\"111.230469\" xlink:href=\"#LiberationSans-30\"/>\n       <use x=\"166.845703\" xlink:href=\"#LiberationSans-30\"/>\n       <use x=\"222.460938\" xlink:href=\"#LiberationSans-30\"/>\n       <use x=\"278.076172\" xlink:href=\"#LiberationSans-30\"/>\n      </g>\n     </g>\n    </g>\n    <g id=\"ytick_8\">\n     <g id=\"line2d_13\"/>\n     <g id=\"text_13\">\n      <!-- 140000 -->\n      <g style=\"fill:#262626;\" transform=\"translate(7.2 65.538263)scale(0.1 -0.1)\">\n       <use xlink:href=\"#LiberationSans-31\"/>\n       <use x=\"55.615234\" xlink:href=\"#LiberationSans-34\"/>\n       <use x=\"111.230469\" xlink:href=\"#LiberationSans-30\"/>\n       <use x=\"166.845703\" xlink:href=\"#LiberationSans-30\"/>\n       <use x=\"222.460938\" xlink:href=\"#LiberationSans-30\"/>\n       <use x=\"278.076172\" xlink:href=\"#LiberationSans-30\"/>\n      </g>\n     </g>\n    </g>\n    <g id=\"ytick_9\">\n     <g id=\"line2d_14\"/>\n     <g id=\"text_14\">\n      <!-- 160000 -->\n      <g style=\"fill:#262626;\" transform=\"translate(7.2 34.444022)scale(0.1 -0.1)\">\n       <use xlink:href=\"#LiberationSans-31\"/>\n       <use x=\"55.615234\" xlink:href=\"#LiberationSans-36\"/>\n       <use x=\"111.230469\" xlink:href=\"#LiberationSans-30\"/>\n       <use x=\"166.845703\" xlink:href=\"#LiberationSans-30\"/>\n       <use x=\"222.460938\" xlink:href=\"#LiberationSans-30\"/>\n       <use x=\"278.076172\" xlink:href=\"#LiberationSans-30\"/>\n      </g>\n     </g>\n    </g>\n   </g>\n   <g id=\"PathCollection_1\">\n    <defs>\n     <path d=\"M 0 3 \nC 0.795609 3 1.55874 2.683901 2.12132 2.12132 \nC 2.683901 1.55874 3 0.795609 3 0 \nC 3 -0.795609 2.683901 -1.55874 2.12132 -2.12132 \nC 1.55874 -2.683901 0.795609 -3 0 -3 \nC -0.795609 -3 -1.55874 -2.683901 -2.12132 -2.12132 \nC -2.683901 -1.55874 -3 -0.795609 -3 0 \nC -3 0.795609 -2.683901 1.55874 -2.12132 2.12132 \nC -1.55874 2.683901 -0.795609 3 0 3 \nz\n\" id=\"mb3da70e574\" style=\"stroke:#1f77b4;\"/>\n    </defs>\n    <g clip-path=\"url(#p110d3305f5)\">\n     <use style=\"fill:#1f77b4;stroke:#1f77b4;\" x=\"-1\" xlink:href=\"#mb3da70e574\" y=\"161.362169\"/>\n     <use style=\"fill:#1f77b4;stroke:#1f77b4;\" x=\"9.145582\" xlink:href=\"#mb3da70e574\" y=\"161.110119\"/>\n     <use style=\"fill:#1f77b4;stroke:#1f77b4;\" x=\"44.065625\" xlink:href=\"#mb3da70e574\" y=\"160.136869\"/>\n     <use style=\"fill:#1f77b4;stroke:#1f77b4;\" x=\"78.985668\" xlink:href=\"#mb3da70e574\" y=\"157.406795\"/>\n     <use style=\"fill:#1f77b4;stroke:#1f77b4;\" x=\"113.905712\" xlink:href=\"#mb3da70e574\" y=\"156.806676\"/>\n     <use style=\"fill:#1f77b4;stroke:#1f77b4;\" x=\"148.825755\" xlink:href=\"#mb3da70e574\" y=\"155.869184\"/>\n     <use style=\"fill:#1f77b4;stroke:#1f77b4;\" x=\"183.745799\" xlink:href=\"#mb3da70e574\" y=\"154.555453\"/>\n     <use style=\"fill:#1f77b4;stroke:#1f77b4;\" x=\"218.665842\" xlink:href=\"#mb3da70e574\" y=\"153.028725\"/>\n     <use style=\"fill:#1f77b4;stroke:#1f77b4;\" x=\"253.585886\" xlink:href=\"#mb3da70e574\" y=\"150.915872\"/>\n     <use style=\"fill:#1f77b4;stroke:#1f77b4;\" x=\"288.505929\" xlink:href=\"#mb3da70e574\" y=\"148.792135\"/>\n     <use style=\"fill:#1f77b4;stroke:#1f77b4;\" x=\"323.425973\" xlink:href=\"#mb3da70e574\" y=\"145.852175\"/>\n     <use style=\"fill:#1f77b4;stroke:#1f77b4;\" x=\"358.346016\" xlink:href=\"#mb3da70e574\" y=\"142.186164\"/>\n     <use style=\"fill:#1f77b4;stroke:#1f77b4;\" x=\"393.26606\" xlink:href=\"#mb3da70e574\" y=\"139.174686\"/>\n     <use style=\"fill:#1f77b4;stroke:#1f77b4;\" x=\"428.186103\" xlink:href=\"#mb3da70e574\" y=\"135.235046\"/>\n     <use style=\"fill:#1f77b4;stroke:#1f77b4;\" x=\"463.106146\" xlink:href=\"#mb3da70e574\" y=\"131.690302\"/>\n     <use style=\"fill:#1f77b4;stroke:#1f77b4;\" x=\"498.02619\" xlink:href=\"#mb3da70e574\" y=\"127.396188\"/>\n     <use style=\"fill:#1f77b4;stroke:#1f77b4;\" x=\"532.946233\" xlink:href=\"#mb3da70e574\" y=\"121.329701\"/>\n     <use style=\"fill:#1f77b4;stroke:#1f77b4;\" x=\"567.866277\" xlink:href=\"#mb3da70e574\" y=\"115.053329\"/>\n     <use style=\"fill:#1f77b4;stroke:#1f77b4;\" x=\"602.78632\" xlink:href=\"#mb3da70e574\" y=\"108.874903\"/>\n     <use style=\"fill:#1f77b4;stroke:#1f77b4;\" x=\"637.706364\" xlink:href=\"#mb3da70e574\" y=\"103.019857\"/>\n     <use style=\"fill:#1f77b4;stroke:#1f77b4;\" x=\"672.626407\" xlink:href=\"#mb3da70e574\" y=\"95.198101\"/>\n     <use style=\"fill:#1f77b4;stroke:#1f77b4;\" x=\"707.546451\" xlink:href=\"#mb3da70e574\" y=\"83.89068\"/>\n     <use style=\"fill:#1f77b4;stroke:#1f77b4;\" x=\"742.466494\" xlink:href=\"#mb3da70e574\" y=\"80.038104\"/>\n     <use style=\"fill:#1f77b4;stroke:#1f77b4;\" x=\"777.386538\" xlink:href=\"#mb3da70e574\" y=\"53.841206\"/>\n     <use style=\"fill:#1f77b4;stroke:#1f77b4;\" x=\"812.306581\" xlink:href=\"#mb3da70e574\" y=\"36.880852\"/>\n    </g>\n   </g>\n   <g id=\"line2d_15\">\n    <path clip-path=\"url(#p110d3305f5)\" d=\"M -1 178.06941 \nL 9.145582 176.676331 \nL 44.065625 171.79782 \nL 78.985668 166.848131 \nL 113.905712 161.840556 \nL 148.825755 156.789041 \nL 183.745799 151.708039 \nL 218.665842 146.612348 \nL 253.585886 141.516935 \nL 288.505929 136.436765 \nL 323.425973 131.386625 \nL 358.346016 126.380952 \nL 393.26606 121.433672 \nL 428.186103 116.558048 \nL 463.106146 111.766548 \nL 498.02619 107.070729 \nL 532.946233 102.481141 \nL 567.866277 98.007249 \nL 602.78632 93.65739 \nL 637.706364 89.438732 \nL 672.626407 85.357274 \nL 707.546451 81.417848 \nL 742.466494 77.624153 \nL 777.386538 73.978791 \nL 812.306581 70.48333 \nL 847.226624 67.138366 \nL 882.146668 63.943597 \nL 917.066711 60.897904 \nL 951.986755 57.999434 \nL 986.906798 55.245686 \nL 1021.826842 52.633592 \nL 1056.746885 50.159601 \n\" style=\"fill:none;stroke:#1f77b4;stroke-linecap:round;stroke-width:1.5;\"/>\n   </g>\n   <g id=\"line2d_16\">\n    <path clip-path=\"url(#p110d3305f5)\" d=\"M -1 178.204035 \nL 9.145582 176.813097 \nL 44.065625 171.9401 \nL 78.985668 166.993803 \nL 113.905712 161.987244 \nL 148.825755 156.934132 \nL 183.745799 151.848706 \nL 218.665842 146.745577 \nL 253.585886 141.63956 \nL 288.505929 136.545503 \nL 323.425973 131.478117 \nL 358.346016 126.451805 \nL 393.26606 121.480499 \nL 428.186103 116.577514 \nL 463.106146 111.75541 \nL 498.02619 107.025874 \nL 532.946233 102.399622 \nL 567.866277 97.886318 \nL 602.78632 93.494522 \nL 637.706364 89.231653 \nL 672.626407 85.10397 \nL 707.546451 81.116586 \nL 742.466494 77.273479 \nL 777.386538 73.577539 \nL 812.306581 70.030614 \nL 847.226624 66.633578 \nL 882.146668 63.386392 \nL 917.066711 60.288192 \nL 951.986755 57.33736 \nL 986.906798 54.531615 \nL 1021.826842 51.868089 \nL 1056.746885 49.343413 \n\" style=\"fill:none;stroke:#ff7f0e;stroke-linecap:round;stroke-width:1.5;\"/>\n   </g>\n   <g id=\"line2d_17\">\n    <path clip-path=\"url(#p110d3305f5)\" d=\"M -1 178.338968 \nL 9.145582 176.950199 \nL 44.065625 172.082828 \nL 78.985668 167.140048 \nL 113.905712 162.13464 \nL 148.825755 157.080073 \nL 183.745799 151.990368 \nL 218.665842 146.879944 \nL 253.585886 141.763457 \nL 288.505929 136.655634 \nL 323.425973 131.571101 \nL 358.346016 126.524219 \nL 393.26606 121.528922 \nL 428.186103 116.598566 \nL 463.106146 111.745796 \nL 498.02619 106.982423 \nL 532.946233 102.319322 \nL 567.866277 97.766351 \nL 602.78632 93.332291 \nL 637.706364 89.024803 \nL 672.626407 84.850412 \nL 707.546451 80.814502 \nL 742.466494 76.921339 \nL 777.386538 73.174096 \nL 812.306581 69.57491 \nL 847.226624 66.124929 \nL 882.146668 62.824388 \nL 917.066711 59.672679 \nL 951.986755 56.668427 \nL 986.906798 53.809577 \nL 1021.826842 51.093467 \nL 1056.746885 48.516917 \n\" style=\"fill:none;stroke:#2ca02c;stroke-linecap:round;stroke-width:1.5;\"/>\n   </g>\n   <g id=\"line2d_18\">\n    <path clip-path=\"url(#p110d3305f5)\" d=\"M -1 178.474206 \nL 9.145582 177.087635 \nL 44.065625 172.226002 \nL 78.985668 167.286864 \nL 113.905712 162.282743 \nL 148.825755 157.226863 \nL 183.745799 152.133024 \nL 218.665842 147.015449 \nL 253.585886 141.888629 \nL 288.505929 136.767162 \nL 323.425973 131.665584 \nL 358.346016 126.598205 \nL 393.26606 121.578952 \nL 428.186103 116.621217 \nL 463.106146 111.737722 \nL 498.02619 106.940394 \nL 532.946233 102.240261 \nL 567.866277 97.647369 \nL 602.78632 93.170715 \nL 637.706364 88.818201 \nL 672.626407 84.596611 \nL 707.546451 80.511605 \nL 742.466494 76.567731 \nL 777.386538 72.768452 \nL 812.306581 69.11619 \nL 847.226624 65.612378 \nL 882.146668 62.257524 \nL 917.066711 59.051283 \nL 951.986755 55.992529 \nL 986.906798 53.079437 \nL 1021.826842 50.309561 \nL 1056.746885 47.679915 \n\" style=\"fill:none;stroke:#d62728;stroke-linecap:round;stroke-width:1.5;\"/>\n   </g>\n   <g id=\"line2d_19\">\n    <path clip-path=\"url(#p110d3305f5)\" d=\"M -1 178.609745 \nL 9.145582 177.225402 \nL 44.065625 172.369619 \nL 78.985668 167.434249 \nL 113.905712 162.431549 \nL 148.825755 157.3745 \nL 183.745799 152.276673 \nL 218.665842 147.152092 \nL 253.585886 142.015078 \nL 288.505929 136.880092 \nL 323.425973 131.761571 \nL 358.346016 126.673771 \nL 393.26606 121.630601 \nL 428.186103 116.645483 \nL 463.106146 111.731205 \nL 498.02619 106.899805 \nL 532.946233 102.162459 \nL 567.866277 97.529393 \nL 602.78632 93.009814 \nL 637.706364 88.611864 \nL 672.626407 84.342582 \nL 707.546451 80.207903 \nL 742.466494 76.212657 \nL 777.386538 72.360596 \nL 812.306581 68.654433 \nL 847.226624 65.095886 \nL 882.146668 61.685742 \nL 917.066711 58.423923 \nL 951.986755 55.309559 \nL 986.906798 52.341062 \nL 1021.826842 49.516206 \nL 1056.746885 46.832207 \n\" style=\"fill:none;stroke:#9467bd;stroke-linecap:round;stroke-width:1.5;\"/>\n   </g>\n   <g id=\"line2d_20\">\n    <path clip-path=\"url(#p110d3305f5)\" d=\"M -1 178.745585 \nL 9.145582 177.363497 \nL 44.065625 172.513677 \nL 78.985668 167.582199 \nL 113.905712 162.581057 \nL 148.825755 157.522982 \nL 183.745799 152.421316 \nL 218.665842 147.289875 \nL 253.585886 142.142806 \nL 288.505929 136.994427 \nL 323.425973 131.85907 \nL 358.346016 126.750926 \nL 393.26606 121.683882 \nL 428.186103 116.671377 \nL 463.106146 111.726262 \nL 498.02619 106.860677 \nL 532.946233 102.085937 \nL 567.866277 97.412443 \nL 602.78632 92.84961 \nL 637.706364 88.40581 \nL 672.626407 84.08834 \nL 707.546451 79.903404 \nL 742.466494 75.856116 \nL 777.386538 71.950518 \nL 812.306581 68.189614 \nL 847.226624 64.575411 \nL 882.146668 61.108981 \nL 917.066711 57.790516 \nL 951.986755 54.619408 \nL 986.906798 51.594312 \nL 1021.826842 48.713231 \nL 1056.746885 45.973588 \n\" style=\"fill:none;stroke:#8c564b;stroke-linecap:round;stroke-width:1.5;\"/>\n   </g>\n   <g id=\"patch_3\">\n    <path d=\"M 44.065625 293.69625 \nL 44.065625 21.89625 \n\" style=\"fill:none;\"/>\n   </g>\n   <g id=\"patch_4\">\n    <path d=\"M 1160.065625 293.69625 \nL 1160.065625 21.89625 \n\" style=\"fill:none;\"/>\n   </g>\n   <g id=\"patch_5\">\n    <path d=\"M 44.065625 293.69625 \nL 1160.065625 293.69625 \n\" style=\"fill:none;\"/>\n   </g>\n   <g id=\"patch_6\">\n    <path d=\"M 44.065625 21.89625 \nL 1160.065625 21.89625 \n\" style=\"fill:none;\"/>\n   </g>\n   <g id=\"text_15\">\n    <!-- Covid-19 Confirmed Cases (without PRC) -->\n    <defs>\n     <path d=\"M 38.671875 62.203125 \nQ 27.25 62.203125 20.890625 54.859375 \nQ 14.546875 47.515625 14.546875 34.71875 \nQ 14.546875 22.078125 21.15625 14.375 \nQ 27.78125 6.6875 39.0625 6.6875 \nQ 53.515625 6.6875 60.796875 21 \nL 68.40625 17.1875 \nQ 64.15625 8.296875 56.46875 3.65625 \nQ 48.78125 -0.984375 38.625 -0.984375 \nQ 28.21875 -0.984375 20.625 3.34375 \nQ 13.03125 7.671875 9.046875 15.703125 \nQ 5.078125 23.734375 5.078125 34.71875 \nQ 5.078125 51.171875 13.96875 60.5 \nQ 22.859375 69.828125 38.578125 69.828125 \nQ 49.5625 69.828125 56.9375 65.53125 \nQ 64.3125 61.234375 67.78125 52.78125 \nL 58.9375 49.859375 \nQ 56.546875 55.859375 51.25 59.03125 \nQ 45.953125 62.203125 38.671875 62.203125 \nz\n\" id=\"LiberationSans-43\"/>\n     <path d=\"M 51.421875 26.46875 \nQ 51.421875 12.59375 45.3125 5.796875 \nQ 39.203125 -0.984375 27.59375 -0.984375 \nQ 16.015625 -0.984375 10.109375 6.078125 \nQ 4.203125 13.140625 4.203125 26.46875 \nQ 4.203125 53.8125 27.875 53.8125 \nQ 39.984375 53.8125 45.703125 47.140625 \nQ 51.421875 40.484375 51.421875 26.46875 \nz\nM 42.1875 26.46875 \nQ 42.1875 37.40625 38.9375 42.359375 \nQ 35.6875 47.3125 28.03125 47.3125 \nQ 20.3125 47.3125 16.859375 42.25 \nQ 13.421875 37.203125 13.421875 26.46875 \nQ 13.421875 16.015625 16.8125 10.765625 \nQ 20.21875 5.515625 27.484375 5.515625 \nQ 35.40625 5.515625 38.796875 10.59375 \nQ 42.1875 15.671875 42.1875 26.46875 \nz\n\" id=\"LiberationSans-6f\"/>\n     <path d=\"M 29.9375 0 \nL 19.53125 0 \nL 0.34375 52.828125 \nL 9.71875 52.828125 \nL 21.34375 18.453125 \nQ 21.96875 16.5 24.703125 6.890625 \nL 26.421875 12.59375 \nL 28.328125 18.359375 \nL 40.328125 52.828125 \nL 49.65625 52.828125 \nz\n\" id=\"LiberationSans-76\"/>\n     <path d=\"M 6.6875 64.0625 \nL 6.6875 72.46875 \nL 15.484375 72.46875 \nL 15.484375 64.0625 \nz\nM 6.6875 0 \nL 6.6875 52.828125 \nL 15.484375 52.828125 \nL 15.484375 0 \nz\n\" id=\"LiberationSans-69\"/>\n     <path d=\"M 40.09375 8.5 \nQ 37.640625 3.421875 33.609375 1.21875 \nQ 29.59375 -0.984375 23.640625 -0.984375 \nQ 13.625 -0.984375 8.90625 5.75 \nQ 4.203125 12.5 4.203125 26.171875 \nQ 4.203125 53.8125 23.640625 53.8125 \nQ 29.640625 53.8125 33.640625 51.609375 \nQ 37.640625 49.421875 40.09375 44.625 \nL 40.1875 44.625 \nL 40.09375 50.53125 \nL 40.09375 72.46875 \nL 48.875 72.46875 \nL 48.875 10.890625 \nQ 48.875 2.640625 49.171875 0 \nL 40.765625 0 \nQ 40.625 0.78125 40.453125 3.609375 \nQ 40.28125 6.453125 40.28125 8.5 \nz\nM 13.421875 26.46875 \nQ 13.421875 15.375 16.34375 10.59375 \nQ 19.28125 5.8125 25.875 5.8125 \nQ 33.34375 5.8125 36.71875 10.984375 \nQ 40.09375 16.15625 40.09375 27.046875 \nQ 40.09375 37.546875 36.71875 42.421875 \nQ 33.34375 47.3125 25.984375 47.3125 \nQ 19.34375 47.3125 16.375 42.40625 \nQ 13.421875 37.5 13.421875 26.46875 \nz\n\" id=\"LiberationSans-64\"/>\n     <path id=\"LiberationSans-20\"/>\n     <path d=\"M 40.28125 0 \nL 40.28125 33.5 \nQ 40.28125 38.71875 39.25 41.59375 \nQ 38.234375 44.484375 35.984375 45.75 \nQ 33.734375 47.015625 29.390625 47.015625 \nQ 23.046875 47.015625 19.375 42.671875 \nQ 15.71875 38.328125 15.71875 30.609375 \nL 15.71875 0 \nL 6.9375 0 \nL 6.9375 41.546875 \nQ 6.9375 50.78125 6.640625 52.828125 \nL 14.9375 52.828125 \nQ 14.984375 52.59375 15.03125 51.515625 \nQ 15.09375 50.4375 15.15625 49.046875 \nQ 15.234375 47.65625 15.328125 43.796875 \nL 15.484375 43.796875 \nQ 18.5 49.265625 22.484375 51.53125 \nQ 26.46875 53.8125 32.375 53.8125 \nQ 41.0625 53.8125 45.09375 49.484375 \nQ 49.125 45.171875 49.125 35.203125 \nL 49.125 0 \nz\n\" id=\"LiberationSans-6e\"/>\n     <path d=\"M 17.625 46.4375 \nL 17.625 0 \nL 8.84375 0 \nL 8.84375 46.4375 \nL 1.421875 46.4375 \nL 1.421875 52.828125 \nL 8.84375 52.828125 \nL 8.84375 58.796875 \nQ 8.84375 66.015625 12.015625 69.1875 \nQ 15.1875 72.359375 21.734375 72.359375 \nQ 25.390625 72.359375 27.9375 71.78125 \nL 27.9375 65.09375 \nQ 25.734375 65.484375 24.03125 65.484375 \nQ 20.65625 65.484375 19.140625 63.765625 \nQ 17.625 62.0625 17.625 57.5625 \nL 17.625 52.828125 \nL 27.9375 52.828125 \nL 27.9375 46.4375 \nz\n\" id=\"LiberationSans-66\"/>\n     <path d=\"M 6.9375 0 \nL 6.9375 40.53125 \nQ 6.9375 46.09375 6.640625 52.828125 \nL 14.9375 52.828125 \nQ 15.328125 43.84375 15.328125 42.046875 \nL 15.53125 42.046875 \nQ 17.625 48.828125 20.359375 51.3125 \nQ 23.09375 53.8125 28.078125 53.8125 \nQ 29.828125 53.8125 31.640625 53.328125 \nL 31.640625 45.265625 \nQ 29.890625 45.75 26.953125 45.75 \nQ 21.484375 45.75 18.59375 41.03125 \nQ 15.71875 36.328125 15.71875 27.546875 \nL 15.71875 0 \nz\n\" id=\"LiberationSans-72\"/>\n     <path d=\"M 37.5 0 \nL 37.5 33.5 \nQ 37.5 41.15625 35.390625 44.078125 \nQ 33.296875 47.015625 27.828125 47.015625 \nQ 22.21875 47.015625 18.9375 42.71875 \nQ 15.671875 38.421875 15.671875 30.609375 \nL 15.671875 0 \nL 6.9375 0 \nL 6.9375 41.546875 \nQ 6.9375 50.78125 6.640625 52.828125 \nL 14.9375 52.828125 \nQ 14.984375 52.59375 15.03125 51.515625 \nQ 15.09375 50.4375 15.15625 49.046875 \nQ 15.234375 47.65625 15.328125 43.796875 \nL 15.484375 43.796875 \nQ 18.3125 49.421875 21.96875 51.609375 \nQ 25.640625 53.8125 30.90625 53.8125 \nQ 36.921875 53.8125 40.40625 51.421875 \nQ 43.890625 49.03125 45.265625 43.796875 \nL 45.40625 43.796875 \nQ 48.140625 49.125 52.015625 51.46875 \nQ 55.90625 53.8125 61.421875 53.8125 \nQ 69.4375 53.8125 73.0625 49.46875 \nQ 76.703125 45.125 76.703125 35.203125 \nL 76.703125 0 \nL 68.015625 0 \nL 68.015625 33.5 \nQ 68.015625 41.15625 65.90625 44.078125 \nQ 63.8125 47.015625 58.34375 47.015625 \nQ 52.59375 47.015625 49.390625 42.75 \nQ 46.1875 38.484375 46.1875 30.609375 \nL 46.1875 0 \nz\n\" id=\"LiberationSans-6d\"/>\n     <path d=\"M 13.484375 24.5625 \nQ 13.484375 15.484375 17.234375 10.546875 \nQ 21 5.609375 28.21875 5.609375 \nQ 33.9375 5.609375 37.375 7.90625 \nQ 40.828125 10.203125 42.046875 13.71875 \nL 49.75 11.53125 \nQ 45.015625 -0.984375 28.21875 -0.984375 \nQ 16.5 -0.984375 10.375 6 \nQ 4.25 12.984375 4.25 26.765625 \nQ 4.25 39.84375 10.375 46.828125 \nQ 16.5 53.8125 27.875 53.8125 \nQ 51.171875 53.8125 51.171875 25.734375 \nL 51.171875 24.5625 \nz\nM 42.09375 31.296875 \nQ 41.359375 39.65625 37.84375 43.484375 \nQ 34.328125 47.3125 27.734375 47.3125 \nQ 21.34375 47.3125 17.609375 43.03125 \nQ 13.875 38.765625 13.578125 31.296875 \nz\n\" id=\"LiberationSans-65\"/>\n     <path d=\"M 20.21875 -0.984375 \nQ 12.25 -0.984375 8.25 3.21875 \nQ 4.25 7.421875 4.25 14.75 \nQ 4.25 22.953125 9.640625 27.34375 \nQ 15.046875 31.734375 27.046875 32.03125 \nL 38.921875 32.234375 \nL 38.921875 35.109375 \nQ 38.921875 41.546875 36.1875 44.328125 \nQ 33.453125 47.125 27.59375 47.125 \nQ 21.6875 47.125 19 45.109375 \nQ 16.3125 43.109375 15.765625 38.71875 \nL 6.59375 39.546875 \nQ 8.84375 53.8125 27.78125 53.8125 \nQ 37.75 53.8125 42.765625 49.234375 \nQ 47.796875 44.671875 47.796875 36.03125 \nL 47.796875 13.28125 \nQ 47.796875 9.375 48.828125 7.390625 \nQ 49.859375 5.421875 52.734375 5.421875 \nQ 54 5.421875 55.609375 5.765625 \nL 55.609375 0.296875 \nQ 52.296875 -0.484375 48.828125 -0.484375 \nQ 43.953125 -0.484375 41.71875 2.078125 \nQ 39.5 4.640625 39.203125 10.109375 \nL 38.921875 10.109375 \nQ 35.546875 4.046875 31.078125 1.53125 \nQ 26.609375 -0.984375 20.21875 -0.984375 \nz\nM 22.21875 5.609375 \nQ 27.046875 5.609375 30.8125 7.8125 \nQ 34.578125 10.015625 36.75 13.84375 \nQ 38.921875 17.671875 38.921875 21.734375 \nL 38.921875 26.078125 \nL 29.296875 25.875 \nQ 23.09375 25.78125 19.890625 24.609375 \nQ 16.703125 23.4375 14.984375 21 \nQ 13.28125 18.5625 13.28125 14.59375 \nQ 13.28125 10.296875 15.59375 7.953125 \nQ 17.921875 5.609375 22.21875 5.609375 \nz\n\" id=\"LiberationSans-61\"/>\n     <path d=\"M 46.390625 14.59375 \nQ 46.390625 7.125 40.75 3.0625 \nQ 35.109375 -0.984375 24.953125 -0.984375 \nQ 15.09375 -0.984375 9.734375 2.265625 \nQ 4.390625 5.515625 2.78125 12.40625 \nL 10.546875 13.921875 \nQ 11.671875 9.671875 15.1875 7.6875 \nQ 18.703125 5.71875 24.953125 5.71875 \nQ 31.640625 5.71875 34.734375 7.765625 \nQ 37.84375 9.8125 37.84375 13.921875 \nQ 37.84375 17.046875 35.6875 19 \nQ 33.546875 20.953125 28.765625 22.21875 \nL 22.46875 23.875 \nQ 14.890625 25.828125 11.6875 27.703125 \nQ 8.5 29.59375 6.6875 32.28125 \nQ 4.890625 34.96875 4.890625 38.875 \nQ 4.890625 46.09375 10.03125 49.875 \nQ 15.1875 53.65625 25.046875 53.65625 \nQ 33.796875 53.65625 38.9375 50.578125 \nQ 44.09375 47.515625 45.453125 40.71875 \nL 37.546875 39.75 \nQ 36.8125 43.265625 33.609375 45.140625 \nQ 30.421875 47.015625 25.046875 47.015625 \nQ 19.09375 47.015625 16.25 45.203125 \nQ 13.421875 43.40625 13.421875 39.75 \nQ 13.421875 37.5 14.59375 36.03125 \nQ 15.765625 34.578125 18.0625 33.546875 \nQ 20.359375 32.515625 27.734375 30.71875 \nQ 34.71875 28.953125 37.796875 27.46875 \nQ 40.875 25.984375 42.65625 24.171875 \nQ 44.4375 22.359375 45.40625 19.984375 \nQ 46.390625 17.625 46.390625 14.59375 \nz\n\" id=\"LiberationSans-73\"/>\n     <path d=\"M 6.203125 25.984375 \nQ 6.203125 40.09375 10.625 51.3125 \nQ 15.046875 62.546875 24.21875 72.46875 \nL 32.71875 72.46875 \nQ 23.578125 62.3125 19.3125 50.875 \nQ 15.046875 39.453125 15.046875 25.875 \nQ 15.046875 12.359375 19.265625 0.96875 \nQ 23.484375 -10.40625 32.71875 -20.703125 \nL 24.21875 -20.703125 \nQ 14.984375 -10.75 10.59375 0.5 \nQ 6.203125 11.765625 6.203125 25.78125 \nz\n\" id=\"LiberationSans-28\"/>\n     <path d=\"M 57.328125 0 \nL 47.125 0 \nL 37.890625 37.359375 \nL 36.140625 45.609375 \nQ 35.6875 43.40625 34.765625 39.28125 \nQ 33.84375 35.15625 24.8125 0 \nL 14.65625 0 \nL -0.140625 52.828125 \nL 8.546875 52.828125 \nL 17.484375 16.9375 \nQ 17.828125 15.765625 19.578125 7.28125 \nL 20.40625 10.890625 \nL 31.453125 52.828125 \nL 40.875 52.828125 \nL 50.09375 16.546875 \nL 52.34375 7.28125 \nL 53.859375 14.0625 \nL 63.875 52.828125 \nL 72.46875 52.828125 \nz\n\" id=\"LiberationSans-77\"/>\n     <path d=\"M 27.046875 0.390625 \nQ 22.703125 -0.78125 18.171875 -0.78125 \nQ 7.625 -0.78125 7.625 11.1875 \nL 7.625 46.4375 \nL 1.515625 46.4375 \nL 1.515625 52.828125 \nL 7.953125 52.828125 \nL 10.546875 64.65625 \nL 16.40625 64.65625 \nL 16.40625 52.828125 \nL 26.171875 52.828125 \nL 26.171875 46.4375 \nL 16.40625 46.4375 \nL 16.40625 13.09375 \nQ 16.40625 9.28125 17.640625 7.734375 \nQ 18.890625 6.203125 21.96875 6.203125 \nQ 23.734375 6.203125 27.046875 6.890625 \nz\n\" id=\"LiberationSans-74\"/>\n     <path d=\"M 15.484375 43.796875 \nQ 18.3125 48.96875 22.28125 51.390625 \nQ 26.265625 53.8125 32.375 53.8125 \nQ 40.96875 53.8125 45.046875 49.53125 \nQ 49.125 45.265625 49.125 35.203125 \nL 49.125 0 \nL 40.28125 0 \nL 40.28125 33.5 \nQ 40.28125 39.0625 39.25 41.765625 \nQ 38.234375 44.484375 35.890625 45.75 \nQ 33.546875 47.015625 29.390625 47.015625 \nQ 23.1875 47.015625 19.453125 42.71875 \nQ 15.71875 38.421875 15.71875 31.15625 \nL 15.71875 0 \nL 6.9375 0 \nL 6.9375 72.46875 \nL 15.71875 72.46875 \nL 15.71875 53.609375 \nQ 15.71875 50.640625 15.546875 47.453125 \nQ 15.375 44.28125 15.328125 43.796875 \nz\n\" id=\"LiberationSans-68\"/>\n     <path d=\"M 15.328125 52.828125 \nL 15.328125 19.34375 \nQ 15.328125 14.109375 16.359375 11.21875 \nQ 17.390625 8.34375 19.625 7.078125 \nQ 21.875 5.8125 26.21875 5.8125 \nQ 32.5625 5.8125 36.21875 10.15625 \nQ 39.890625 14.5 39.890625 22.21875 \nL 39.890625 52.828125 \nL 48.6875 52.828125 \nL 48.6875 11.28125 \nQ 48.6875 2.046875 48.96875 0 \nL 40.671875 0 \nQ 40.625 0.25 40.578125 1.3125 \nQ 40.53125 2.390625 40.453125 3.78125 \nQ 40.375 5.171875 40.28125 9.03125 \nL 40.140625 9.03125 \nQ 37.109375 3.5625 33.125 1.28125 \nQ 29.15625 -0.984375 23.25 -0.984375 \nQ 14.546875 -0.984375 10.515625 3.34375 \nQ 6.5 7.671875 6.5 17.625 \nL 6.5 52.828125 \nz\n\" id=\"LiberationSans-75\"/>\n     <path d=\"M 61.421875 48.09375 \nQ 61.421875 38.328125 55.046875 32.5625 \nQ 48.6875 26.8125 37.75 26.8125 \nL 17.53125 26.8125 \nL 17.53125 0 \nL 8.203125 0 \nL 8.203125 68.796875 \nL 37.15625 68.796875 \nQ 48.734375 68.796875 55.078125 63.375 \nQ 61.421875 57.953125 61.421875 48.09375 \nz\nM 52.046875 48 \nQ 52.046875 61.328125 36.03125 61.328125 \nL 17.53125 61.328125 \nL 17.53125 34.1875 \nL 36.421875 34.1875 \nQ 52.046875 34.1875 52.046875 48 \nz\n\" id=\"LiberationSans-50\"/>\n     <path d=\"M 56.84375 0 \nL 38.96875 28.5625 \nL 17.53125 28.5625 \nL 17.53125 0 \nL 8.203125 0 \nL 8.203125 68.796875 \nL 40.578125 68.796875 \nQ 52.203125 68.796875 58.515625 63.59375 \nQ 64.84375 58.40625 64.84375 49.125 \nQ 64.84375 41.453125 60.375 36.21875 \nQ 55.90625 31 48.046875 29.640625 \nL 67.578125 0 \nz\nM 55.46875 49.03125 \nQ 55.46875 55.03125 51.390625 58.171875 \nQ 47.3125 61.328125 39.65625 61.328125 \nL 17.53125 61.328125 \nL 17.53125 35.9375 \nL 40.046875 35.9375 \nQ 47.40625 35.9375 51.4375 39.375 \nQ 55.46875 42.828125 55.46875 49.03125 \nz\n\" id=\"LiberationSans-52\"/>\n     <path d=\"M 27.09375 25.78125 \nQ 27.09375 11.671875 22.671875 0.4375 \nQ 18.265625 -10.796875 9.078125 -20.703125 \nL 0.59375 -20.703125 \nQ 9.765625 -10.453125 14.015625 0.890625 \nQ 18.265625 12.25 18.265625 25.875 \nQ 18.265625 39.5 13.984375 50.875 \nQ 9.71875 62.25 0.59375 72.46875 \nL 9.078125 72.46875 \nQ 18.3125 62.5 22.703125 51.234375 \nQ 27.09375 39.984375 27.09375 25.984375 \nz\n\" id=\"LiberationSans-29\"/>\n    </defs>\n    <g style=\"fill:#262626;\" transform=\"translate(491.032812 15.89625)scale(0.12 -0.12)\">\n     <use xlink:href=\"#LiberationSans-43\"/>\n     <use x=\"72.216797\" xlink:href=\"#LiberationSans-6f\"/>\n     <use x=\"127.832031\" xlink:href=\"#LiberationSans-76\"/>\n     <use x=\"177.832031\" xlink:href=\"#LiberationSans-69\"/>\n     <use x=\"200.048828\" xlink:href=\"#LiberationSans-64\"/>\n     <use x=\"255.664062\" xlink:href=\"#LiberationSans-2d\"/>\n     <use x=\"288.964844\" xlink:href=\"#LiberationSans-31\"/>\n     <use x=\"344.580078\" xlink:href=\"#LiberationSans-39\"/>\n     <use x=\"400.195312\" xlink:href=\"#LiberationSans-20\"/>\n     <use x=\"427.978516\" xlink:href=\"#LiberationSans-43\"/>\n     <use x=\"500.195312\" xlink:href=\"#LiberationSans-6f\"/>\n     <use x=\"555.810547\" xlink:href=\"#LiberationSans-6e\"/>\n     <use x=\"611.425781\" xlink:href=\"#LiberationSans-66\"/>\n     <use x=\"639.208984\" xlink:href=\"#LiberationSans-69\"/>\n     <use x=\"661.425781\" xlink:href=\"#LiberationSans-72\"/>\n     <use x=\"694.726562\" xlink:href=\"#LiberationSans-6d\"/>\n     <use x=\"778.027344\" xlink:href=\"#LiberationSans-65\"/>\n     <use x=\"833.642578\" xlink:href=\"#LiberationSans-64\"/>\n     <use x=\"889.257812\" xlink:href=\"#LiberationSans-20\"/>\n     <use x=\"917.041016\" xlink:href=\"#LiberationSans-43\"/>\n     <use x=\"989.257812\" xlink:href=\"#LiberationSans-61\"/>\n     <use x=\"1044.873047\" xlink:href=\"#LiberationSans-73\"/>\n     <use x=\"1094.873047\" xlink:href=\"#LiberationSans-65\"/>\n     <use x=\"1150.488281\" xlink:href=\"#LiberationSans-73\"/>\n     <use x=\"1200.488281\" xlink:href=\"#LiberationSans-20\"/>\n     <use x=\"1228.271484\" xlink:href=\"#LiberationSans-28\"/>\n     <use x=\"1261.572266\" xlink:href=\"#LiberationSans-77\"/>\n     <use x=\"1333.789062\" xlink:href=\"#LiberationSans-69\"/>\n     <use x=\"1356.005859\" xlink:href=\"#LiberationSans-74\"/>\n     <use x=\"1383.789062\" xlink:href=\"#LiberationSans-68\"/>\n     <use x=\"1439.404297\" xlink:href=\"#LiberationSans-6f\"/>\n     <use x=\"1495.019531\" xlink:href=\"#LiberationSans-75\"/>\n     <use x=\"1550.634766\" xlink:href=\"#LiberationSans-74\"/>\n     <use x=\"1578.417969\" xlink:href=\"#LiberationSans-20\"/>\n     <use x=\"1606.201172\" xlink:href=\"#LiberationSans-50\"/>\n     <use x=\"1672.900391\" xlink:href=\"#LiberationSans-52\"/>\n     <use x=\"1745.117188\" xlink:href=\"#LiberationSans-43\"/>\n     <use x=\"1817.333984\" xlink:href=\"#LiberationSans-29\"/>\n    </g>\n   </g>\n   <g id=\"legend_1\">\n    <g id=\"line2d_21\">\n     <path d=\"M 53.065625 34.643125 \nL 73.065625 34.643125 \n\" style=\"fill:none;stroke:#1f77b4;stroke-linecap:round;stroke-width:1.5;\"/>\n    </g>\n    <g id=\"line2d_22\"/>\n    <g id=\"text_16\">\n     <!-- Variance: 0.0 -->\n     <defs>\n      <path d=\"M 38.1875 0 \nL 28.515625 0 \nL 0.4375 68.796875 \nL 10.25 68.796875 \nL 29.296875 20.359375 \nL 33.40625 8.203125 \nL 37.5 20.359375 \nL 56.453125 68.796875 \nL 66.265625 68.796875 \nz\n\" id=\"LiberationSans-56\"/>\n      <path d=\"M 13.421875 26.65625 \nQ 13.421875 16.109375 16.734375 11.03125 \nQ 20.0625 5.953125 26.765625 5.953125 \nQ 31.453125 5.953125 34.59375 8.484375 \nQ 37.75 11.03125 38.484375 16.3125 \nL 47.359375 15.71875 \nQ 46.34375 8.109375 40.875 3.5625 \nQ 35.40625 -0.984375 27 -0.984375 \nQ 15.921875 -0.984375 10.078125 6.015625 \nQ 4.25 13.03125 4.25 26.46875 \nQ 4.25 39.796875 10.109375 46.796875 \nQ 15.96875 53.8125 26.90625 53.8125 \nQ 35.015625 53.8125 40.359375 49.609375 \nQ 45.703125 45.40625 47.078125 38.03125 \nL 38.03125 37.359375 \nQ 37.359375 41.75 34.5625 44.328125 \nQ 31.78125 46.921875 26.65625 46.921875 \nQ 19.671875 46.921875 16.546875 42.28125 \nQ 13.421875 37.640625 13.421875 26.65625 \nz\n\" id=\"LiberationSans-63\"/>\n      <path d=\"M 9.125 42.71875 \nL 9.125 52.828125 \nL 18.65625 52.828125 \nL 18.65625 42.71875 \nz\nM 9.125 0 \nL 9.125 10.109375 \nL 18.65625 10.109375 \nL 18.65625 0 \nz\n\" id=\"LiberationSans-3a\"/>\n      <path d=\"M 9.125 0 \nL 9.125 10.6875 \nL 18.65625 10.6875 \nL 18.65625 0 \nz\n\" id=\"LiberationSans-2e\"/>\n     </defs>\n     <g style=\"fill:#262626;\" transform=\"translate(81.065625 38.143125)scale(0.1 -0.1)\">\n      <use xlink:href=\"#LiberationSans-56\"/>\n      <use x=\"66.589844\" xlink:href=\"#LiberationSans-61\"/>\n      <use x=\"122.205078\" xlink:href=\"#LiberationSans-72\"/>\n      <use x=\"155.505859\" xlink:href=\"#LiberationSans-69\"/>\n      <use x=\"177.722656\" xlink:href=\"#LiberationSans-61\"/>\n      <use x=\"233.337891\" xlink:href=\"#LiberationSans-6e\"/>\n      <use x=\"288.953125\" xlink:href=\"#LiberationSans-63\"/>\n      <use x=\"338.953125\" xlink:href=\"#LiberationSans-65\"/>\n      <use x=\"394.568359\" xlink:href=\"#LiberationSans-3a\"/>\n      <use x=\"422.351562\" xlink:href=\"#LiberationSans-20\"/>\n      <use x=\"450.134766\" xlink:href=\"#LiberationSans-30\"/>\n      <use x=\"505.75\" xlink:href=\"#LiberationSans-2e\"/>\n      <use x=\"533.533203\" xlink:href=\"#LiberationSans-30\"/>\n     </g>\n    </g>\n    <g id=\"line2d_23\">\n     <path d=\"M 53.065625 48.965 \nL 73.065625 48.965 \n\" style=\"fill:none;stroke:#ff7f0e;stroke-linecap:round;stroke-width:1.5;\"/>\n    </g>\n    <g id=\"line2d_24\"/>\n    <g id=\"text_17\">\n     <!-- Variance: 0.1 -->\n     <g style=\"fill:#262626;\" transform=\"translate(81.065625 52.465)scale(0.1 -0.1)\">\n      <use xlink:href=\"#LiberationSans-56\"/>\n      <use x=\"66.589844\" xlink:href=\"#LiberationSans-61\"/>\n      <use x=\"122.205078\" xlink:href=\"#LiberationSans-72\"/>\n      <use x=\"155.505859\" xlink:href=\"#LiberationSans-69\"/>\n      <use x=\"177.722656\" xlink:href=\"#LiberationSans-61\"/>\n      <use x=\"233.337891\" xlink:href=\"#LiberationSans-6e\"/>\n      <use x=\"288.953125\" xlink:href=\"#LiberationSans-63\"/>\n      <use x=\"338.953125\" xlink:href=\"#LiberationSans-65\"/>\n      <use x=\"394.568359\" xlink:href=\"#LiberationSans-3a\"/>\n      <use x=\"422.351562\" xlink:href=\"#LiberationSans-20\"/>\n      <use x=\"450.134766\" xlink:href=\"#LiberationSans-30\"/>\n      <use x=\"505.75\" xlink:href=\"#LiberationSans-2e\"/>\n      <use x=\"533.533203\" xlink:href=\"#LiberationSans-31\"/>\n     </g>\n    </g>\n    <g id=\"line2d_25\">\n     <path d=\"M 53.065625 63.286875 \nL 73.065625 63.286875 \n\" style=\"fill:none;stroke:#2ca02c;stroke-linecap:round;stroke-width:1.5;\"/>\n    </g>\n    <g id=\"line2d_26\"/>\n    <g id=\"text_18\">\n     <!-- Variance: 0.2 -->\n     <g style=\"fill:#262626;\" transform=\"translate(81.065625 66.786875)scale(0.1 -0.1)\">\n      <use xlink:href=\"#LiberationSans-56\"/>\n      <use x=\"66.589844\" xlink:href=\"#LiberationSans-61\"/>\n      <use x=\"122.205078\" xlink:href=\"#LiberationSans-72\"/>\n      <use x=\"155.505859\" xlink:href=\"#LiberationSans-69\"/>\n      <use x=\"177.722656\" xlink:href=\"#LiberationSans-61\"/>\n      <use x=\"233.337891\" xlink:href=\"#LiberationSans-6e\"/>\n      <use x=\"288.953125\" xlink:href=\"#LiberationSans-63\"/>\n      <use x=\"338.953125\" xlink:href=\"#LiberationSans-65\"/>\n      <use x=\"394.568359\" xlink:href=\"#LiberationSans-3a\"/>\n      <use x=\"422.351562\" xlink:href=\"#LiberationSans-20\"/>\n      <use x=\"450.134766\" xlink:href=\"#LiberationSans-30\"/>\n      <use x=\"505.75\" xlink:href=\"#LiberationSans-2e\"/>\n      <use x=\"533.533203\" xlink:href=\"#LiberationSans-32\"/>\n     </g>\n    </g>\n    <g id=\"line2d_27\">\n     <path d=\"M 53.065625 77.60875 \nL 73.065625 77.60875 \n\" style=\"fill:none;stroke:#d62728;stroke-linecap:round;stroke-width:1.5;\"/>\n    </g>\n    <g id=\"line2d_28\"/>\n    <g id=\"text_19\">\n     <!-- Variance: 0.3 -->\n     <g style=\"fill:#262626;\" transform=\"translate(81.065625 81.10875)scale(0.1 -0.1)\">\n      <use xlink:href=\"#LiberationSans-56\"/>\n      <use x=\"66.589844\" xlink:href=\"#LiberationSans-61\"/>\n      <use x=\"122.205078\" xlink:href=\"#LiberationSans-72\"/>\n      <use x=\"155.505859\" xlink:href=\"#LiberationSans-69\"/>\n      <use x=\"177.722656\" xlink:href=\"#LiberationSans-61\"/>\n      <use x=\"233.337891\" xlink:href=\"#LiberationSans-6e\"/>\n      <use x=\"288.953125\" xlink:href=\"#LiberationSans-63\"/>\n      <use x=\"338.953125\" xlink:href=\"#LiberationSans-65\"/>\n      <use x=\"394.568359\" xlink:href=\"#LiberationSans-3a\"/>\n      <use x=\"422.351562\" xlink:href=\"#LiberationSans-20\"/>\n      <use x=\"450.134766\" xlink:href=\"#LiberationSans-30\"/>\n      <use x=\"505.75\" xlink:href=\"#LiberationSans-2e\"/>\n      <use x=\"533.533203\" xlink:href=\"#LiberationSans-33\"/>\n     </g>\n    </g>\n    <g id=\"line2d_29\">\n     <path d=\"M 53.065625 91.930625 \nL 73.065625 91.930625 \n\" style=\"fill:none;stroke:#9467bd;stroke-linecap:round;stroke-width:1.5;\"/>\n    </g>\n    <g id=\"line2d_30\"/>\n    <g id=\"text_20\">\n     <!-- Variance: 0.4 -->\n     <g style=\"fill:#262626;\" transform=\"translate(81.065625 95.430625)scale(0.1 -0.1)\">\n      <use xlink:href=\"#LiberationSans-56\"/>\n      <use x=\"66.589844\" xlink:href=\"#LiberationSans-61\"/>\n      <use x=\"122.205078\" xlink:href=\"#LiberationSans-72\"/>\n      <use x=\"155.505859\" xlink:href=\"#LiberationSans-69\"/>\n      <use x=\"177.722656\" xlink:href=\"#LiberationSans-61\"/>\n      <use x=\"233.337891\" xlink:href=\"#LiberationSans-6e\"/>\n      <use x=\"288.953125\" xlink:href=\"#LiberationSans-63\"/>\n      <use x=\"338.953125\" xlink:href=\"#LiberationSans-65\"/>\n      <use x=\"394.568359\" xlink:href=\"#LiberationSans-3a\"/>\n      <use x=\"422.351562\" xlink:href=\"#LiberationSans-20\"/>\n      <use x=\"450.134766\" xlink:href=\"#LiberationSans-30\"/>\n      <use x=\"505.75\" xlink:href=\"#LiberationSans-2e\"/>\n      <use x=\"533.533203\" xlink:href=\"#LiberationSans-34\"/>\n     </g>\n    </g>\n    <g id=\"line2d_31\">\n     <path d=\"M 53.065625 106.2525 \nL 73.065625 106.2525 \n\" style=\"fill:none;stroke:#8c564b;stroke-linecap:round;stroke-width:1.5;\"/>\n    </g>\n    <g id=\"line2d_32\"/>\n    <g id=\"text_21\">\n     <!-- Variance: 0.5 -->\n     <defs>\n      <path d=\"M 51.421875 22.40625 \nQ 51.421875 11.53125 44.953125 5.265625 \nQ 38.484375 -0.984375 27 -0.984375 \nQ 17.390625 -0.984375 11.46875 3.21875 \nQ 5.5625 7.421875 4 15.375 \nL 12.890625 16.40625 \nQ 15.671875 6.203125 27.203125 6.203125 \nQ 34.28125 6.203125 38.28125 10.46875 \nQ 42.28125 14.75 42.28125 22.21875 \nQ 42.28125 28.71875 38.25 32.71875 \nQ 34.234375 36.71875 27.390625 36.71875 \nQ 23.828125 36.71875 20.75 35.59375 \nQ 17.671875 34.46875 14.59375 31.78125 \nL 6 31.78125 \nL 8.296875 68.796875 \nL 47.40625 68.796875 \nL 47.40625 61.328125 \nL 16.3125 61.328125 \nL 14.984375 39.5 \nQ 20.703125 43.890625 29.203125 43.890625 \nQ 39.359375 43.890625 45.390625 37.9375 \nQ 51.421875 31.984375 51.421875 22.40625 \nz\n\" id=\"LiberationSans-35\"/>\n     </defs>\n     <g style=\"fill:#262626;\" transform=\"translate(81.065625 109.7525)scale(0.1 -0.1)\">\n      <use xlink:href=\"#LiberationSans-56\"/>\n      <use x=\"66.589844\" xlink:href=\"#LiberationSans-61\"/>\n      <use x=\"122.205078\" xlink:href=\"#LiberationSans-72\"/>\n      <use x=\"155.505859\" xlink:href=\"#LiberationSans-69\"/>\n      <use x=\"177.722656\" xlink:href=\"#LiberationSans-61\"/>\n      <use x=\"233.337891\" xlink:href=\"#LiberationSans-6e\"/>\n      <use x=\"288.953125\" xlink:href=\"#LiberationSans-63\"/>\n      <use x=\"338.953125\" xlink:href=\"#LiberationSans-65\"/>\n      <use x=\"394.568359\" xlink:href=\"#LiberationSans-3a\"/>\n      <use x=\"422.351562\" xlink:href=\"#LiberationSans-20\"/>\n      <use x=\"450.134766\" xlink:href=\"#LiberationSans-30\"/>\n      <use x=\"505.75\" xlink:href=\"#LiberationSans-2e\"/>\n      <use x=\"533.533203\" xlink:href=\"#LiberationSans-35\"/>\n     </g>\n    </g>\n    <g id=\"PathCollection_2\">\n     <g>\n      <use style=\"fill:#1f77b4;stroke:#1f77b4;\" x=\"63.065625\" xlink:href=\"#mb3da70e574\" y=\"121.449375\"/>\n     </g>\n    </g>\n    <g id=\"text_22\">\n     <!-- Confirmed Cases -->\n     <g style=\"fill:#262626;\" transform=\"translate(81.065625 124.074375)scale(0.1 -0.1)\">\n      <use xlink:href=\"#LiberationSans-43\"/>\n      <use x=\"72.216797\" xlink:href=\"#LiberationSans-6f\"/>\n      <use x=\"127.832031\" xlink:href=\"#LiberationSans-6e\"/>\n      <use x=\"183.447266\" xlink:href=\"#LiberationSans-66\"/>\n      <use x=\"211.230469\" xlink:href=\"#LiberationSans-69\"/>\n      <use x=\"233.447266\" xlink:href=\"#LiberationSans-72\"/>\n      <use x=\"266.748047\" xlink:href=\"#LiberationSans-6d\"/>\n      <use x=\"350.048828\" xlink:href=\"#LiberationSans-65\"/>\n      <use x=\"405.664062\" xlink:href=\"#LiberationSans-64\"/>\n      <use x=\"461.279297\" xlink:href=\"#LiberationSans-20\"/>\n      <use x=\"489.0625\" xlink:href=\"#LiberationSans-43\"/>\n      <use x=\"561.279297\" xlink:href=\"#LiberationSans-61\"/>\n      <use x=\"616.894531\" xlink:href=\"#LiberationSans-73\"/>\n      <use x=\"666.894531\" xlink:href=\"#LiberationSans-65\"/>\n      <use x=\"722.509766\" xlink:href=\"#LiberationSans-73\"/>\n     </g>\n    </g>\n   </g>\n  </g>\n </g>\n <defs>\n  <clipPath id=\"p110d3305f5\">\n   <rect height=\"271.8\" width=\"1116\" x=\"44.065625\" y=\"21.89625\"/>\n  </clipPath>\n </defs>\n</svg>\n",
      "text/plain": "<matplotlib.figure.Figure at 0x7f8a39d9c310>"
     },
     "metadata": {},
     "output_type": "display_data"
    }
   ],
   "source": [
    "rg = np.array(range(60))\n",
    "dr1 = pd.date_range(df.index[0], periods=60)\n",
    "dr2 = pd.date_range(df.index[0], periods=len(df.index))\n",
    "for variance in var_dict.keys():\n",
    "    fit_params = var_dict[variance]\n",
    "    plt.plot(dr1, logistic(rg, *fit_params), label='Variance: {}'.format(round(variance, 3)))\n",
    "plt.scatter(dr2, y_data, label='Confirmed Cases')\n",
    "plt.legend(loc='best')\n",
    "plt.title('Covid-19 Confirmed Cases (without PRC)')\n",
    "plt.xlim(left=df.index[30])"
   ]
  },
  {
   "cell_type": "code",
   "execution_count": 110,
   "metadata": {},
   "outputs": [
    {
     "data": {
      "text/plain": "<matplotlib.text.Text at 0x7f8a3a265a90>"
     },
     "execution_count": 110,
     "metadata": {},
     "output_type": "execute_result"
    },
    {
     "data": {
      "image/png": "[encoded data removed]",
      "image/svg+xml": "<?xml version=\"1.0\" encoding=\"utf-8\" standalone=\"no\"?>\n<!DOCTYPE svg PUBLIC \"-//W3C//DTD SVG 1.1//EN\"\n  \"http://www.w3.org/Graphics/SVG/1.1/DTD/svg11.dtd\">\n<!-- Created with matplotlib (http://matplotlib.org/) -->\n<svg height=\"313pt\" version=\"1.1\" viewBox=\"0 0 1170 313\" width=\"1170pt\" xmlns=\"http://www.w3.org/2000/svg\" xmlns:xlink=\"http://www.w3.org/1999/xlink\">\n <defs>\n  <style type=\"text/css\">\n*{stroke-linecap:butt;stroke-linejoin:round;}\n  </style>\n </defs>\n <g id=\"figure_1\">\n  <g id=\"patch_1\">\n   <path d=\"M 0 313.718125 \nL 1170.081275 313.718125 \nL 1170.081275 0 \nL 0 0 \nz\n\" style=\"fill:#ffffff;\"/>\n  </g>\n  <g id=\"axes_1\">\n   <g id=\"patch_2\">\n    <path d=\"M 44.065625 293.69625 \nL 1160.065625 293.69625 \nL 1160.065625 21.89625 \nL 44.065625 21.89625 \nz\n\" style=\"fill:#eaeaf2;\"/>\n   </g>\n   <g id=\"matplotlib.axis_1\">\n    <g id=\"xtick_1\">\n     <g id=\"line2d_1\"/>\n     <g id=\"text_1\">\n      <!-- 2020-01-12 -->\n      <defs>\n       <path d=\"M 5.03125 0 \nL 5.03125 6.203125 \nQ 7.515625 11.921875 11.109375 16.28125 \nQ 14.703125 20.65625 18.65625 24.1875 \nQ 22.609375 27.734375 26.484375 30.765625 \nQ 30.375 33.796875 33.5 36.8125 \nQ 36.625 39.84375 38.546875 43.15625 \nQ 40.484375 46.484375 40.484375 50.6875 \nQ 40.484375 56.34375 37.15625 59.46875 \nQ 33.84375 62.59375 27.9375 62.59375 \nQ 22.3125 62.59375 18.671875 59.546875 \nQ 15.046875 56.5 14.40625 50.984375 \nL 5.421875 51.8125 \nQ 6.390625 60.0625 12.421875 64.9375 \nQ 18.453125 69.828125 27.9375 69.828125 \nQ 38.328125 69.828125 43.921875 64.921875 \nQ 49.515625 60.015625 49.515625 50.984375 \nQ 49.515625 46.96875 47.671875 43.015625 \nQ 45.84375 39.0625 42.234375 35.109375 \nQ 38.625 31.15625 28.421875 22.859375 \nQ 22.796875 18.265625 19.46875 14.578125 \nQ 16.15625 10.890625 14.703125 7.46875 \nL 50.59375 7.46875 \nL 50.59375 0 \nz\n\" id=\"LiberationSans-32\"/>\n       <path d=\"M 51.703125 34.421875 \nQ 51.703125 17.1875 45.625 8.09375 \nQ 39.546875 -0.984375 27.6875 -0.984375 \nQ 15.828125 -0.984375 9.859375 8.046875 \nQ 3.90625 17.09375 3.90625 34.421875 \nQ 3.90625 52.15625 9.6875 60.984375 \nQ 15.484375 69.828125 27.984375 69.828125 \nQ 40.140625 69.828125 45.921875 60.890625 \nQ 51.703125 51.953125 51.703125 34.421875 \nz\nM 42.78125 34.421875 \nQ 42.78125 49.3125 39.328125 56 \nQ 35.890625 62.703125 27.984375 62.703125 \nQ 19.875 62.703125 16.328125 56.109375 \nQ 12.796875 49.515625 12.796875 34.421875 \nQ 12.796875 19.78125 16.375 12.984375 \nQ 19.96875 6.203125 27.78125 6.203125 \nQ 35.546875 6.203125 39.15625 13.125 \nQ 42.78125 20.0625 42.78125 34.421875 \nz\n\" id=\"LiberationSans-30\"/>\n       <path d=\"M 4.4375 22.65625 \nL 4.4375 30.46875 \nL 28.859375 30.46875 \nL 28.859375 22.65625 \nz\n\" id=\"LiberationSans-2d\"/>\n       <path d=\"M 7.625 0 \nL 7.625 7.46875 \nL 25.140625 7.46875 \nL 25.140625 60.40625 \nL 9.625 49.3125 \nL 9.625 57.625 \nL 25.875 68.796875 \nL 33.984375 68.796875 \nL 33.984375 7.46875 \nL 50.734375 7.46875 \nL 50.734375 0 \nz\n\" id=\"LiberationSans-31\"/>\n      </defs>\n      <g style=\"fill:#262626;\" transform=\"translate(67.540289 304.443125)scale(0.1 -0.1)\">\n       <use xlink:href=\"#LiberationSans-32\"/>\n       <use x=\"55.615234\" xlink:href=\"#LiberationSans-30\"/>\n       <use x=\"111.230469\" xlink:href=\"#LiberationSans-32\"/>\n       <use x=\"166.845703\" xlink:href=\"#LiberationSans-30\"/>\n       <use x=\"222.460938\" xlink:href=\"#LiberationSans-2d\"/>\n       <use x=\"255.761719\" xlink:href=\"#LiberationSans-30\"/>\n       <use x=\"311.376953\" xlink:href=\"#LiberationSans-31\"/>\n       <use x=\"366.992188\" xlink:href=\"#LiberationSans-2d\"/>\n       <use x=\"400.292969\" xlink:href=\"#LiberationSans-31\"/>\n       <use x=\"455.908203\" xlink:href=\"#LiberationSans-32\"/>\n      </g>\n     </g>\n    </g>\n    <g id=\"xtick_2\">\n     <g id=\"line2d_2\"/>\n     <g id=\"text_2\">\n      <!-- 2020-01-26 -->\n      <defs>\n       <path d=\"M 51.21875 22.515625 \nQ 51.21875 11.625 45.3125 5.3125 \nQ 39.40625 -0.984375 29 -0.984375 \nQ 17.390625 -0.984375 11.234375 7.65625 \nQ 5.078125 16.3125 5.078125 32.8125 \nQ 5.078125 50.6875 11.46875 60.25 \nQ 17.875 69.828125 29.6875 69.828125 \nQ 45.265625 69.828125 49.3125 55.8125 \nL 40.921875 54.296875 \nQ 38.328125 62.703125 29.59375 62.703125 \nQ 22.078125 62.703125 17.9375 55.6875 \nQ 13.8125 48.6875 13.8125 35.40625 \nQ 16.21875 39.84375 20.5625 42.15625 \nQ 24.90625 44.484375 30.515625 44.484375 \nQ 40.046875 44.484375 45.625 38.515625 \nQ 51.21875 32.5625 51.21875 22.515625 \nz\nM 42.28125 22.125 \nQ 42.28125 29.59375 38.625 33.640625 \nQ 34.96875 37.703125 28.421875 37.703125 \nQ 22.265625 37.703125 18.484375 34.109375 \nQ 14.703125 30.515625 14.703125 24.21875 \nQ 14.703125 16.265625 18.625 11.1875 \nQ 22.5625 6.109375 28.71875 6.109375 \nQ 35.0625 6.109375 38.671875 10.375 \nQ 42.28125 14.65625 42.28125 22.125 \nz\n\" id=\"LiberationSans-36\"/>\n      </defs>\n      <g style=\"fill:#262626;\" transform=\"translate(198.064553 304.443125)scale(0.1 -0.1)\">\n       <use xlink:href=\"#LiberationSans-32\"/>\n       <use x=\"55.615234\" xlink:href=\"#LiberationSans-30\"/>\n       <use x=\"111.230469\" xlink:href=\"#LiberationSans-32\"/>\n       <use x=\"166.845703\" xlink:href=\"#LiberationSans-30\"/>\n       <use x=\"222.460938\" xlink:href=\"#LiberationSans-2d\"/>\n       <use x=\"255.761719\" xlink:href=\"#LiberationSans-30\"/>\n       <use x=\"311.376953\" xlink:href=\"#LiberationSans-31\"/>\n       <use x=\"366.992188\" xlink:href=\"#LiberationSans-2d\"/>\n       <use x=\"400.292969\" xlink:href=\"#LiberationSans-32\"/>\n       <use x=\"455.908203\" xlink:href=\"#LiberationSans-36\"/>\n      </g>\n     </g>\n    </g>\n    <g id=\"xtick_3\">\n     <g id=\"line2d_3\"/>\n     <g id=\"text_3\">\n      <!-- 2020-02-09 -->\n      <defs>\n       <path d=\"M 50.875 35.796875 \nQ 50.875 18.0625 44.40625 8.53125 \nQ 37.9375 -0.984375 25.984375 -0.984375 \nQ 17.921875 -0.984375 13.0625 2.40625 \nQ 8.203125 5.8125 6.109375 13.375 \nL 14.5 14.703125 \nQ 17.140625 6.109375 26.125 6.109375 \nQ 33.6875 6.109375 37.84375 13.140625 \nQ 42 20.171875 42.1875 33.203125 \nQ 40.234375 28.8125 35.5 26.140625 \nQ 30.765625 23.484375 25.09375 23.484375 \nQ 15.828125 23.484375 10.25 29.828125 \nQ 4.6875 36.1875 4.6875 46.6875 \nQ 4.6875 57.46875 10.734375 63.640625 \nQ 16.796875 69.828125 27.59375 69.828125 \nQ 39.0625 69.828125 44.96875 61.328125 \nQ 50.875 52.828125 50.875 35.796875 \nz\nM 41.3125 44.28125 \nQ 41.3125 52.59375 37.5 57.640625 \nQ 33.6875 62.703125 27.296875 62.703125 \nQ 20.953125 62.703125 17.28125 58.375 \nQ 13.625 54.046875 13.625 46.6875 \nQ 13.625 39.15625 17.28125 34.78125 \nQ 20.953125 30.421875 27.203125 30.421875 \nQ 31 30.421875 34.265625 32.15625 \nQ 37.546875 33.890625 39.421875 37.0625 \nQ 41.3125 40.234375 41.3125 44.28125 \nz\n\" id=\"LiberationSans-39\"/>\n      </defs>\n      <g style=\"fill:#262626;\" transform=\"translate(328.588816 304.443125)scale(0.1 -0.1)\">\n       <use xlink:href=\"#LiberationSans-32\"/>\n       <use x=\"55.615234\" xlink:href=\"#LiberationSans-30\"/>\n       <use x=\"111.230469\" xlink:href=\"#LiberationSans-32\"/>\n       <use x=\"166.845703\" xlink:href=\"#LiberationSans-30\"/>\n       <use x=\"222.460938\" xlink:href=\"#LiberationSans-2d\"/>\n       <use x=\"255.761719\" xlink:href=\"#LiberationSans-30\"/>\n       <use x=\"311.376953\" xlink:href=\"#LiberationSans-32\"/>\n       <use x=\"366.992188\" xlink:href=\"#LiberationSans-2d\"/>\n       <use x=\"400.292969\" xlink:href=\"#LiberationSans-30\"/>\n       <use x=\"455.908203\" xlink:href=\"#LiberationSans-39\"/>\n      </g>\n     </g>\n    </g>\n    <g id=\"xtick_4\">\n     <g id=\"line2d_4\"/>\n     <g id=\"text_4\">\n      <!-- 2020-02-23 -->\n      <defs>\n       <path d=\"M 51.21875 19 \nQ 51.21875 9.46875 45.15625 4.234375 \nQ 39.109375 -0.984375 27.875 -0.984375 \nQ 17.4375 -0.984375 11.203125 3.734375 \nQ 4.984375 8.453125 3.8125 17.671875 \nL 12.890625 18.5 \nQ 14.65625 6.296875 27.875 6.296875 \nQ 34.515625 6.296875 38.296875 9.5625 \nQ 42.09375 12.84375 42.09375 19.28125 \nQ 42.09375 24.90625 37.765625 28.046875 \nQ 33.453125 31.203125 25.296875 31.203125 \nL 20.3125 31.203125 \nL 20.3125 38.8125 \nL 25.09375 38.8125 \nQ 32.328125 38.8125 36.296875 41.96875 \nQ 40.28125 45.125 40.28125 50.6875 \nQ 40.28125 56.203125 37.03125 59.390625 \nQ 33.796875 62.59375 27.390625 62.59375 \nQ 21.578125 62.59375 17.984375 59.609375 \nQ 14.40625 56.640625 13.8125 51.21875 \nL 4.984375 51.90625 \nQ 5.953125 60.359375 11.984375 65.09375 \nQ 18.015625 69.828125 27.484375 69.828125 \nQ 37.84375 69.828125 43.578125 65.015625 \nQ 49.3125 60.203125 49.3125 51.609375 \nQ 49.3125 45.015625 45.625 40.890625 \nQ 41.9375 36.765625 34.90625 35.296875 \nL 34.90625 35.109375 \nQ 42.625 34.28125 46.921875 29.9375 \nQ 51.21875 25.59375 51.21875 19 \nz\n\" id=\"LiberationSans-33\"/>\n      </defs>\n      <g style=\"fill:#262626;\" transform=\"translate(459.11308 304.443125)scale(0.1 -0.1)\">\n       <use xlink:href=\"#LiberationSans-32\"/>\n       <use x=\"55.615234\" xlink:href=\"#LiberationSans-30\"/>\n       <use x=\"111.230469\" xlink:href=\"#LiberationSans-32\"/>\n       <use x=\"166.845703\" xlink:href=\"#LiberationSans-30\"/>\n       <use x=\"222.460938\" xlink:href=\"#LiberationSans-2d\"/>\n       <use x=\"255.761719\" xlink:href=\"#LiberationSans-30\"/>\n       <use x=\"311.376953\" xlink:href=\"#LiberationSans-32\"/>\n       <use x=\"366.992188\" xlink:href=\"#LiberationSans-2d\"/>\n       <use x=\"400.292969\" xlink:href=\"#LiberationSans-32\"/>\n       <use x=\"455.908203\" xlink:href=\"#LiberationSans-33\"/>\n      </g>\n     </g>\n    </g>\n    <g id=\"xtick_5\">\n     <g id=\"line2d_5\"/>\n     <g id=\"text_5\">\n      <!-- 2020-03-08 -->\n      <defs>\n       <path d=\"M 51.265625 19.1875 \nQ 51.265625 9.671875 45.203125 4.34375 \nQ 39.15625 -0.984375 27.828125 -0.984375 \nQ 16.796875 -0.984375 10.5625 4.234375 \nQ 4.34375 9.46875 4.34375 19.09375 \nQ 4.34375 25.828125 8.203125 30.421875 \nQ 12.0625 35.015625 18.0625 35.984375 \nL 18.0625 36.1875 \nQ 12.453125 37.5 9.203125 41.890625 \nQ 5.953125 46.296875 5.953125 52.203125 \nQ 5.953125 60.0625 11.828125 64.9375 \nQ 17.71875 69.828125 27.640625 69.828125 \nQ 37.796875 69.828125 43.671875 65.03125 \nQ 49.5625 60.25 49.5625 52.09375 \nQ 49.5625 46.1875 46.28125 41.796875 \nQ 43.015625 37.40625 37.359375 36.28125 \nL 37.359375 36.078125 \nQ 43.953125 35.015625 47.609375 30.5 \nQ 51.265625 25.984375 51.265625 19.1875 \nz\nM 40.4375 51.609375 \nQ 40.4375 63.28125 27.640625 63.28125 \nQ 21.4375 63.28125 18.1875 60.34375 \nQ 14.9375 57.421875 14.9375 51.609375 \nQ 14.9375 45.703125 18.28125 42.59375 \nQ 21.625 39.5 27.734375 39.5 \nQ 33.9375 39.5 37.1875 42.359375 \nQ 40.4375 45.21875 40.4375 51.609375 \nz\nM 42.140625 20.015625 \nQ 42.140625 26.421875 38.328125 29.65625 \nQ 34.515625 32.90625 27.640625 32.90625 \nQ 20.953125 32.90625 17.1875 29.40625 \nQ 13.421875 25.921875 13.421875 19.828125 \nQ 13.421875 5.609375 27.9375 5.609375 \nQ 35.109375 5.609375 38.625 9.046875 \nQ 42.140625 12.5 42.140625 20.015625 \nz\n\" id=\"LiberationSans-38\"/>\n      </defs>\n      <g style=\"fill:#262626;\" transform=\"translate(589.637344 304.443125)scale(0.1 -0.1)\">\n       <use xlink:href=\"#LiberationSans-32\"/>\n       <use x=\"55.615234\" xlink:href=\"#LiberationSans-30\"/>\n       <use x=\"111.230469\" xlink:href=\"#LiberationSans-32\"/>\n       <use x=\"166.845703\" xlink:href=\"#LiberationSans-30\"/>\n       <use x=\"222.460938\" xlink:href=\"#LiberationSans-2d\"/>\n       <use x=\"255.761719\" xlink:href=\"#LiberationSans-30\"/>\n       <use x=\"311.376953\" xlink:href=\"#LiberationSans-33\"/>\n       <use x=\"366.992188\" xlink:href=\"#LiberationSans-2d\"/>\n       <use x=\"400.292969\" xlink:href=\"#LiberationSans-30\"/>\n       <use x=\"455.908203\" xlink:href=\"#LiberationSans-38\"/>\n      </g>\n     </g>\n    </g>\n    <g id=\"xtick_6\">\n     <g id=\"line2d_6\"/>\n     <g id=\"text_6\">\n      <!-- 2020-03-22 -->\n      <g style=\"fill:#262626;\" transform=\"translate(720.161608 304.443125)scale(0.1 -0.1)\">\n       <use xlink:href=\"#LiberationSans-32\"/>\n       <use x=\"55.615234\" xlink:href=\"#LiberationSans-30\"/>\n       <use x=\"111.230469\" xlink:href=\"#LiberationSans-32\"/>\n       <use x=\"166.845703\" xlink:href=\"#LiberationSans-30\"/>\n       <use x=\"222.460938\" xlink:href=\"#LiberationSans-2d\"/>\n       <use x=\"255.761719\" xlink:href=\"#LiberationSans-30\"/>\n       <use x=\"311.376953\" xlink:href=\"#LiberationSans-33\"/>\n       <use x=\"366.992188\" xlink:href=\"#LiberationSans-2d\"/>\n       <use x=\"400.292969\" xlink:href=\"#LiberationSans-32\"/>\n       <use x=\"455.908203\" xlink:href=\"#LiberationSans-32\"/>\n      </g>\n     </g>\n    </g>\n    <g id=\"xtick_7\">\n     <g id=\"line2d_7\"/>\n     <g id=\"text_7\">\n      <!-- 2020-04-05 -->\n      <defs>\n       <path d=\"M 43.015625 15.578125 \nL 43.015625 0 \nL 34.71875 0 \nL 34.71875 15.578125 \nL 2.296875 15.578125 \nL 2.296875 22.40625 \nL 33.796875 68.796875 \nL 43.015625 68.796875 \nL 43.015625 22.515625 \nL 52.6875 22.515625 \nL 52.6875 15.578125 \nz\nM 34.71875 58.890625 \nQ 34.625 58.59375 33.34375 56.296875 \nQ 32.078125 54 31.453125 53.078125 \nL 13.8125 27.09375 \nL 11.1875 23.484375 \nL 10.40625 22.515625 \nL 34.71875 22.515625 \nz\n\" id=\"LiberationSans-34\"/>\n       <path d=\"M 51.421875 22.40625 \nQ 51.421875 11.53125 44.953125 5.265625 \nQ 38.484375 -0.984375 27 -0.984375 \nQ 17.390625 -0.984375 11.46875 3.21875 \nQ 5.5625 7.421875 4 15.375 \nL 12.890625 16.40625 \nQ 15.671875 6.203125 27.203125 6.203125 \nQ 34.28125 6.203125 38.28125 10.46875 \nQ 42.28125 14.75 42.28125 22.21875 \nQ 42.28125 28.71875 38.25 32.71875 \nQ 34.234375 36.71875 27.390625 36.71875 \nQ 23.828125 36.71875 20.75 35.59375 \nQ 17.671875 34.46875 14.59375 31.78125 \nL 6 31.78125 \nL 8.296875 68.796875 \nL 47.40625 68.796875 \nL 47.40625 61.328125 \nL 16.3125 61.328125 \nL 14.984375 39.5 \nQ 20.703125 43.890625 29.203125 43.890625 \nQ 39.359375 43.890625 45.390625 37.9375 \nQ 51.421875 31.984375 51.421875 22.40625 \nz\n\" id=\"LiberationSans-35\"/>\n      </defs>\n      <g style=\"fill:#262626;\" transform=\"translate(850.685872 304.443125)scale(0.1 -0.1)\">\n       <use xlink:href=\"#LiberationSans-32\"/>\n       <use x=\"55.615234\" xlink:href=\"#LiberationSans-30\"/>\n       <use x=\"111.230469\" xlink:href=\"#LiberationSans-32\"/>\n       <use x=\"166.845703\" xlink:href=\"#LiberationSans-30\"/>\n       <use x=\"222.460938\" xlink:href=\"#LiberationSans-2d\"/>\n       <use x=\"255.761719\" xlink:href=\"#LiberationSans-30\"/>\n       <use x=\"311.376953\" xlink:href=\"#LiberationSans-34\"/>\n       <use x=\"366.992188\" xlink:href=\"#LiberationSans-2d\"/>\n       <use x=\"400.292969\" xlink:href=\"#LiberationSans-30\"/>\n       <use x=\"455.908203\" xlink:href=\"#LiberationSans-35\"/>\n      </g>\n     </g>\n    </g>\n    <g id=\"xtick_8\">\n     <g id=\"line2d_8\"/>\n     <g id=\"text_8\">\n      <!-- 2020-04-19 -->\n      <g style=\"fill:#262626;\" transform=\"translate(981.210136 304.443125)scale(0.1 -0.1)\">\n       <use xlink:href=\"#LiberationSans-32\"/>\n       <use x=\"55.615234\" xlink:href=\"#LiberationSans-30\"/>\n       <use x=\"111.230469\" xlink:href=\"#LiberationSans-32\"/>\n       <use x=\"166.845703\" xlink:href=\"#LiberationSans-30\"/>\n       <use x=\"222.460938\" xlink:href=\"#LiberationSans-2d\"/>\n       <use x=\"255.761719\" xlink:href=\"#LiberationSans-30\"/>\n       <use x=\"311.376953\" xlink:href=\"#LiberationSans-34\"/>\n       <use x=\"366.992188\" xlink:href=\"#LiberationSans-2d\"/>\n       <use x=\"400.292969\" xlink:href=\"#LiberationSans-31\"/>\n       <use x=\"455.908203\" xlink:href=\"#LiberationSans-39\"/>\n      </g>\n     </g>\n    </g>\n    <g id=\"xtick_9\">\n     <g id=\"line2d_9\"/>\n     <g id=\"text_9\">\n      <!-- 2020-05-03 -->\n      <g style=\"fill:#262626;\" transform=\"translate(1111.7344 304.443125)scale(0.1 -0.1)\">\n       <use xlink:href=\"#LiberationSans-32\"/>\n       <use x=\"55.615234\" xlink:href=\"#LiberationSans-30\"/>\n       <use x=\"111.230469\" xlink:href=\"#LiberationSans-32\"/>\n       <use x=\"166.845703\" xlink:href=\"#LiberationSans-30\"/>\n       <use x=\"222.460938\" xlink:href=\"#LiberationSans-2d\"/>\n       <use x=\"255.761719\" xlink:href=\"#LiberationSans-30\"/>\n       <use x=\"311.376953\" xlink:href=\"#LiberationSans-35\"/>\n       <use x=\"366.992188\" xlink:href=\"#LiberationSans-2d\"/>\n       <use x=\"400.292969\" xlink:href=\"#LiberationSans-30\"/>\n       <use x=\"455.908203\" xlink:href=\"#LiberationSans-33\"/>\n      </g>\n     </g>\n    </g>\n   </g>\n   <g id=\"matplotlib.axis_2\">\n    <g id=\"ytick_1\">\n     <g id=\"line2d_10\"/>\n     <g id=\"text_10\">\n      <!-- 0 -->\n      <g style=\"fill:#262626;\" transform=\"translate(35.004688 285.747672)scale(0.1 -0.1)\">\n       <use xlink:href=\"#LiberationSans-30\"/>\n      </g>\n     </g>\n    </g>\n    <g id=\"ytick_2\">\n     <g id=\"line2d_11\"/>\n     <g id=\"text_11\">\n      <!-- 25000 -->\n      <g style=\"fill:#262626;\" transform=\"translate(12.760938 250.497875)scale(0.1 -0.1)\">\n       <use xlink:href=\"#LiberationSans-32\"/>\n       <use x=\"55.615234\" xlink:href=\"#LiberationSans-35\"/>\n       <use x=\"111.230469\" xlink:href=\"#LiberationSans-30\"/>\n       <use x=\"166.845703\" xlink:href=\"#LiberationSans-30\"/>\n       <use x=\"222.460938\" xlink:href=\"#LiberationSans-30\"/>\n      </g>\n     </g>\n    </g>\n    <g id=\"ytick_3\">\n     <g id=\"line2d_12\"/>\n     <g id=\"text_12\">\n      <!-- 50000 -->\n      <g style=\"fill:#262626;\" transform=\"translate(12.760938 215.248078)scale(0.1 -0.1)\">\n       <use xlink:href=\"#LiberationSans-35\"/>\n       <use x=\"55.615234\" xlink:href=\"#LiberationSans-30\"/>\n       <use x=\"111.230469\" xlink:href=\"#LiberationSans-30\"/>\n       <use x=\"166.845703\" xlink:href=\"#LiberationSans-30\"/>\n       <use x=\"222.460938\" xlink:href=\"#LiberationSans-30\"/>\n      </g>\n     </g>\n    </g>\n    <g id=\"ytick_4\">\n     <g id=\"line2d_13\"/>\n     <g id=\"text_13\">\n      <!-- 75000 -->\n      <defs>\n       <path d=\"M 50.59375 61.671875 \nQ 40.046875 45.5625 35.6875 36.421875 \nQ 31.34375 27.296875 29.171875 18.40625 \nQ 27 9.515625 27 0 \nL 17.828125 0 \nQ 17.828125 13.1875 23.40625 27.75 \nQ 29 42.328125 42.09375 61.328125 \nL 5.125 61.328125 \nL 5.125 68.796875 \nL 50.59375 68.796875 \nz\n\" id=\"LiberationSans-37\"/>\n      </defs>\n      <g style=\"fill:#262626;\" transform=\"translate(12.760938 179.998281)scale(0.1 -0.1)\">\n       <use xlink:href=\"#LiberationSans-37\"/>\n       <use x=\"55.615234\" xlink:href=\"#LiberationSans-35\"/>\n       <use x=\"111.230469\" xlink:href=\"#LiberationSans-30\"/>\n       <use x=\"166.845703\" xlink:href=\"#LiberationSans-30\"/>\n       <use x=\"222.460938\" xlink:href=\"#LiberationSans-30\"/>\n      </g>\n     </g>\n    </g>\n    <g id=\"ytick_5\">\n     <g id=\"line2d_14\"/>\n     <g id=\"text_14\">\n      <!-- 100000 -->\n      <g style=\"fill:#262626;\" transform=\"translate(7.2 144.748484)scale(0.1 -0.1)\">\n       <use xlink:href=\"#LiberationSans-31\"/>\n       <use x=\"55.615234\" xlink:href=\"#LiberationSans-30\"/>\n       <use x=\"111.230469\" xlink:href=\"#LiberationSans-30\"/>\n       <use x=\"166.845703\" xlink:href=\"#LiberationSans-30\"/>\n       <use x=\"222.460938\" xlink:href=\"#LiberationSans-30\"/>\n       <use x=\"278.076172\" xlink:href=\"#LiberationSans-30\"/>\n      </g>\n     </g>\n    </g>\n    <g id=\"ytick_6\">\n     <g id=\"line2d_15\"/>\n     <g id=\"text_15\">\n      <!-- 125000 -->\n      <g style=\"fill:#262626;\" transform=\"translate(7.2 109.498687)scale(0.1 -0.1)\">\n       <use xlink:href=\"#LiberationSans-31\"/>\n       <use x=\"55.615234\" xlink:href=\"#LiberationSans-32\"/>\n       <use x=\"111.230469\" xlink:href=\"#LiberationSans-35\"/>\n       <use x=\"166.845703\" xlink:href=\"#LiberationSans-30\"/>\n       <use x=\"222.460938\" xlink:href=\"#LiberationSans-30\"/>\n       <use x=\"278.076172\" xlink:href=\"#LiberationSans-30\"/>\n      </g>\n     </g>\n    </g>\n    <g id=\"ytick_7\">\n     <g id=\"line2d_16\"/>\n     <g id=\"text_16\">\n      <!-- 150000 -->\n      <g style=\"fill:#262626;\" transform=\"translate(7.2 74.24889)scale(0.1 -0.1)\">\n       <use xlink:href=\"#LiberationSans-31\"/>\n       <use x=\"55.615234\" xlink:href=\"#LiberationSans-35\"/>\n       <use x=\"111.230469\" xlink:href=\"#LiberationSans-30\"/>\n       <use x=\"166.845703\" xlink:href=\"#LiberationSans-30\"/>\n       <use x=\"222.460938\" xlink:href=\"#LiberationSans-30\"/>\n       <use x=\"278.076172\" xlink:href=\"#LiberationSans-30\"/>\n      </g>\n     </g>\n    </g>\n    <g id=\"ytick_8\">\n     <g id=\"line2d_17\"/>\n     <g id=\"text_17\">\n      <!-- 175000 -->\n      <g style=\"fill:#262626;\" transform=\"translate(7.2 38.999093)scale(0.1 -0.1)\">\n       <use xlink:href=\"#LiberationSans-31\"/>\n       <use x=\"55.615234\" xlink:href=\"#LiberationSans-37\"/>\n       <use x=\"111.230469\" xlink:href=\"#LiberationSans-35\"/>\n       <use x=\"166.845703\" xlink:href=\"#LiberationSans-30\"/>\n       <use x=\"222.460938\" xlink:href=\"#LiberationSans-30\"/>\n       <use x=\"278.076172\" xlink:href=\"#LiberationSans-30\"/>\n      </g>\n     </g>\n    </g>\n   </g>\n   <g id=\"PathCollection_1\">\n    <defs>\n     <path d=\"M 0 3 \nC 0.795609 3 1.55874 2.683901 2.12132 2.12132 \nC 2.683901 1.55874 3 0.795609 3 0 \nC 3 -0.795609 2.683901 -1.55874 2.12132 -2.12132 \nC 1.55874 -2.683901 0.795609 -3 0 -3 \nC -0.795609 -3 -1.55874 -2.683901 -2.12132 -2.12132 \nC -2.683901 -1.55874 -3 -0.795609 -3 0 \nC -3 0.795609 -2.683901 1.55874 -2.12132 2.12132 \nC -1.55874 2.683901 -0.795609 3 0 3 \nz\n\" id=\"mbbd1408e3a\" style=\"stroke:#1f77b4;\"/>\n    </defs>\n    <g clip-path=\"url(#p0ba9a7f5a8)\">\n     <use style=\"fill:#1f77b4;stroke:#1f77b4;\" x=\"186.345343\" xlink:href=\"#mbbd1408e3a\" y=\"281.341689\"/>\n     <use style=\"fill:#1f77b4;stroke:#1f77b4;\" x=\"195.668505\" xlink:href=\"#mbbd1408e3a\" y=\"281.20351\"/>\n     <use style=\"fill:#1f77b4;stroke:#1f77b4;\" x=\"204.991667\" xlink:href=\"#mbbd1408e3a\" y=\"280.797432\"/>\n     <use style=\"fill:#1f77b4;stroke:#1f77b4;\" x=\"214.314828\" xlink:href=\"#mbbd1408e3a\" y=\"280.102306\"/>\n     <use style=\"fill:#1f77b4;stroke:#1f77b4;\" x=\"223.63799\" xlink:href=\"#mbbd1408e3a\" y=\"279.137872\"/>\n     <use style=\"fill:#1f77b4;stroke:#1f77b4;\" x=\"232.961152\" xlink:href=\"#mbbd1408e3a\" y=\"277.997188\"/>\n     <use style=\"fill:#1f77b4;stroke:#1f77b4;\" x=\"242.284313\" xlink:href=\"#mbbd1408e3a\" y=\"274.2593\"/>\n     <use style=\"fill:#1f77b4;stroke:#1f77b4;\" x=\"251.607475\" xlink:href=\"#mbbd1408e3a\" y=\"273.430225\"/>\n     <use style=\"fill:#1f77b4;stroke:#1f77b4;\" x=\"260.930637\" xlink:href=\"#mbbd1408e3a\" y=\"270.514361\"/>\n     <use style=\"fill:#1f77b4;stroke:#1f77b4;\" x=\"270.253799\" xlink:href=\"#mbbd1408e3a\" y=\"268.127245\"/>\n     <use style=\"fill:#1f77b4;stroke:#1f77b4;\" x=\"279.57696\" xlink:href=\"#mbbd1408e3a\" y=\"265.150752\"/>\n     <use style=\"fill:#1f77b4;stroke:#1f77b4;\" x=\"288.900122\" xlink:href=\"#mbbd1408e3a\" y=\"258.454701\"/>\n     <use style=\"fill:#1f77b4;stroke:#1f77b4;\" x=\"298.223284\" xlink:href=\"#mbbd1408e3a\" y=\"254.092186\"/>\n     <use style=\"fill:#1f77b4;stroke:#1f77b4;\" x=\"307.546445\" xlink:href=\"#mbbd1408e3a\" y=\"248.436708\"/>\n     <use style=\"fill:#1f77b4;stroke:#1f77b4;\" x=\"316.869607\" xlink:href=\"#mbbd1408e3a\" y=\"243.159109\"/>\n     <use style=\"fill:#1f77b4;stroke:#1f77b4;\" x=\"326.192769\" xlink:href=\"#mbbd1408e3a\" y=\"238.672515\"/>\n     <use style=\"fill:#1f77b4;stroke:#1f77b4;\" x=\"335.515931\" xlink:href=\"#mbbd1408e3a\" y=\"233.633204\"/>\n     <use style=\"fill:#1f77b4;stroke:#1f77b4;\" x=\"344.839092\" xlink:href=\"#mbbd1408e3a\" y=\"229.785336\"/>\n     <use style=\"fill:#1f77b4;stroke:#1f77b4;\" x=\"354.162254\" xlink:href=\"#mbbd1408e3a\" y=\"225.51306\"/>\n     <use style=\"fill:#1f77b4;stroke:#1f77b4;\" x=\"363.485416\" xlink:href=\"#mbbd1408e3a\" y=\"221.830162\"/>\n     <use style=\"fill:#1f77b4;stroke:#1f77b4;\" x=\"372.808577\" xlink:href=\"#mbbd1408e3a\" y=\"218.953778\"/>\n     <use style=\"fill:#1f77b4;stroke:#1f77b4;\" x=\"382.131739\" xlink:href=\"#mbbd1408e3a\" y=\"218.362992\"/>\n     <use style=\"fill:#1f77b4;stroke:#1f77b4;\" x=\"391.454901\" xlink:href=\"#mbbd1408e3a\" y=\"197.005845\"/>\n     <use style=\"fill:#1f77b4;stroke:#1f77b4;\" x=\"400.778062\" xlink:href=\"#mbbd1408e3a\" y=\"187.816927\"/>\n     <use style=\"fill:#1f77b4;stroke:#1f77b4;\" x=\"410.101224\" xlink:href=\"#mbbd1408e3a\" y=\"184.792495\"/>\n     <use style=\"fill:#1f77b4;stroke:#1f77b4;\" x=\"419.424386\" xlink:href=\"#mbbd1408e3a\" y=\"181.698973\"/>\n     <use style=\"fill:#1f77b4;stroke:#1f77b4;\" x=\"428.747548\" xlink:href=\"#mbbd1408e3a\" y=\"178.831049\"/>\n     <use style=\"fill:#1f77b4;stroke:#1f77b4;\" x=\"438.070709\" xlink:href=\"#mbbd1408e3a\" y=\"176.183084\"/>\n     <use style=\"fill:#1f77b4;stroke:#1f77b4;\" x=\"447.393871\" xlink:href=\"#mbbd1408e3a\" y=\"175.473859\"/>\n     <use style=\"fill:#1f77b4;stroke:#1f77b4;\" x=\"456.717033\" xlink:href=\"#mbbd1408e3a\" y=\"174.687083\"/>\n     <use style=\"fill:#1f77b4;stroke:#1f77b4;\" x=\"466.040194\" xlink:href=\"#mbbd1408e3a\" y=\"173.804428\"/>\n     <use style=\"fill:#1f77b4;stroke:#1f77b4;\" x=\"475.363356\" xlink:href=\"#mbbd1408e3a\" y=\"171.328482\"/>\n     <use style=\"fill:#1f77b4;stroke:#1f77b4;\" x=\"484.686518\" xlink:href=\"#mbbd1408e3a\" y=\"170.784226\"/>\n     <use style=\"fill:#1f77b4;stroke:#1f77b4;\" x=\"494.00968\" xlink:href=\"#mbbd1408e3a\" y=\"169.934\"/>\n     <use style=\"fill:#1f77b4;stroke:#1f77b4;\" x=\"503.332841\" xlink:href=\"#mbbd1408e3a\" y=\"168.742557\"/>\n     <use style=\"fill:#1f77b4;stroke:#1f77b4;\" x=\"512.656003\" xlink:href=\"#mbbd1408e3a\" y=\"167.357945\"/>\n     <use style=\"fill:#1f77b4;stroke:#1f77b4;\" x=\"521.979165\" xlink:href=\"#mbbd1408e3a\" y=\"165.441766\"/>\n     <use style=\"fill:#1f77b4;stroke:#1f77b4;\" x=\"531.302326\" xlink:href=\"#mbbd1408e3a\" y=\"163.515717\"/>\n     <use style=\"fill:#1f77b4;stroke:#1f77b4;\" x=\"540.625488\" xlink:href=\"#mbbd1408e3a\" y=\"160.849423\"/>\n     <use style=\"fill:#1f77b4;stroke:#1f77b4;\" x=\"549.94865\" xlink:href=\"#mbbd1408e3a\" y=\"157.524662\"/>\n     <use style=\"fill:#1f77b4;stroke:#1f77b4;\" x=\"559.271812\" xlink:href=\"#mbbd1408e3a\" y=\"154.793508\"/>\n     <use style=\"fill:#1f77b4;stroke:#1f77b4;\" x=\"568.594973\" xlink:href=\"#mbbd1408e3a\" y=\"151.220588\"/>\n     <use style=\"fill:#1f77b4;stroke:#1f77b4;\" x=\"577.918135\" xlink:href=\"#mbbd1408e3a\" y=\"148.005807\"/>\n     <use style=\"fill:#1f77b4;stroke:#1f77b4;\" x=\"587.241297\" xlink:href=\"#mbbd1408e3a\" y=\"144.111409\"/>\n     <use style=\"fill:#1f77b4;stroke:#1f77b4;\" x=\"596.564458\" xlink:href=\"#mbbd1408e3a\" y=\"138.609621\"/>\n     <use style=\"fill:#1f77b4;stroke:#1f77b4;\" x=\"605.88762\" xlink:href=\"#mbbd1408e3a\" y=\"132.917484\"/>\n     <use style=\"fill:#1f77b4;stroke:#1f77b4;\" x=\"615.210782\" xlink:href=\"#mbbd1408e3a\" y=\"127.314176\"/>\n     <use style=\"fill:#1f77b4;stroke:#1f77b4;\" x=\"624.533943\" xlink:href=\"#mbbd1408e3a\" y=\"122.004146\"/>\n     <use style=\"fill:#1f77b4;stroke:#1f77b4;\" x=\"633.857105\" xlink:href=\"#mbbd1408e3a\" y=\"114.910477\"/>\n     <use style=\"fill:#1f77b4;stroke:#1f77b4;\" x=\"643.180267\" xlink:href=\"#mbbd1408e3a\" y=\"104.655606\"/>\n     <use style=\"fill:#1f77b4;stroke:#1f77b4;\" x=\"652.503429\" xlink:href=\"#mbbd1408e3a\" y=\"101.161646\"/>\n     <use style=\"fill:#1f77b4;stroke:#1f77b4;\" x=\"661.82659\" xlink:href=\"#mbbd1408e3a\" y=\"77.403283\"/>\n     <use style=\"fill:#1f77b4;stroke:#1f77b4;\" x=\"671.149752\" xlink:href=\"#mbbd1408e3a\" y=\"62.021682\"/>\n    </g>\n   </g>\n   <g id=\"line2d_18\">\n    <path clip-path=\"url(#p0ba9a7f5a8)\" d=\"M 186.345343 266.724881 \nL 195.668505 265.58094 \nL 204.991667 264.358713 \nL 214.314828 263.05386 \nL 223.63799 261.661951 \nL 232.961152 260.178496 \nL 242.284313 258.598968 \nL 251.607475 256.918835 \nL 260.930637 255.133602 \nL 270.253799 253.23885 \nL 279.57696 251.230289 \nL 288.900122 249.103803 \nL 298.223284 246.855517 \nL 307.546445 244.481857 \nL 316.869607 241.979617 \nL 326.192769 239.346033 \nL 335.515931 236.578857 \nL 344.839092 233.676431 \nL 354.162254 230.637767 \nL 363.485416 227.462621 \nL 372.808577 224.151564 \nL 382.131739 220.706051 \nL 391.454901 217.12848 \nL 400.778062 213.422242 \nL 410.101224 209.591758 \nL 419.424386 205.642507 \nL 428.747548 201.581032 \nL 438.070709 197.41493 \nL 447.393871 193.152824 \nL 456.717033 188.804316 \nL 466.040194 184.379921 \nL 475.363356 179.890973 \nL 484.686518 175.349527 \nL 494.00968 170.768232 \nL 503.332841 166.160195 \nL 512.656003 161.538835 \nL 521.979165 156.917728 \nL 531.302326 152.310445 \nL 540.625488 147.730397 \nL 549.94865 143.190676 \nL 559.271812 138.703913 \nL 568.594973 134.282136 \nL 577.918135 129.936653 \nL 587.241297 125.677943 \nL 596.564458 121.515576 \nL 605.88762 117.458136 \nL 615.210782 113.513183 \nL 624.533943 109.687219 \nL 633.857105 105.985682 \nL 643.180267 102.412958 \nL 652.503429 98.972398 \nL 661.82659 95.666364 \nL 671.149752 92.496278 \nL 680.472914 89.462679 \nL 689.796075 86.565295 \nL 699.119237 83.803109 \nL 708.442399 81.174444 \nL 717.765561 78.677028 \nL 727.088722 76.30808 \nL 736.411884 74.06438 \nL 745.735046 71.942341 \nL 755.058207 69.938078 \nL 764.381369 68.047468 \nL 773.704531 66.266215 \nL 783.027693 64.589896 \nL 792.350854 63.014014 \nL 801.674016 61.534037 \nL 810.997178 60.145439 \nL 820.320339 58.843731 \nL 829.643501 57.624486 \nL 838.966663 56.483368 \nL 848.289824 55.416146 \nL 857.612986 54.418715 \nL 866.936148 53.487102 \nL 876.25931 52.617481 \nL 885.582471 51.806177 \nL 894.905633 51.049669 \nL 904.228795 50.344597 \nL 913.551956 49.687759 \nL 922.875118 49.076111 \nL 932.19828 48.506767 \nL 941.521442 47.976992 \nL 950.844603 47.484203 \nL 960.167765 47.025962 \nL 969.490927 46.599971 \nL 978.814088 46.204069 \nL 988.13725 45.836222 \nL 997.460412 45.494522 \nL 1006.783573 45.177181 \nL 1016.106735 44.882521 \nL 1025.429897 44.608973 \nL 1034.753059 44.355068 \nL 1044.07622 44.119434 \nL 1053.399382 43.900789 \nL 1062.722544 43.697936 \nL 1072.045705 43.509759 \nL 1081.368867 43.335218 \nL 1090.692029 43.173341 \nL 1100.015191 43.023227 \nL 1109.338352 42.884032 \n\" style=\"fill:none;stroke:#1f77b4;stroke-linecap:round;stroke-width:1.5;\"/>\n   </g>\n   <g id=\"line2d_19\">\n    <path clip-path=\"url(#p0ba9a7f5a8)\" d=\"M 186.345343 266.64285 \nL 195.668505 265.498984 \nL 204.991667 264.27724 \nL 214.314828 262.973318 \nL 223.63799 261.582832 \nL 232.961152 260.101331 \nL 242.284313 258.52433 \nL 251.607475 256.847337 \nL 260.930637 255.065893 \nL 270.253799 253.175612 \nL 279.57696 251.172228 \nL 288.900122 249.051649 \nL 298.223284 246.810013 \nL 307.546445 244.443746 \nL 316.869607 241.949636 \nL 326.192769 239.324896 \nL 335.515931 236.567243 \nL 344.839092 233.674965 \nL 354.162254 230.647005 \nL 363.485416 227.483028 \nL 372.808577 224.183498 \nL 382.131739 220.749739 \nL 391.454901 217.183998 \nL 400.778062 213.489497 \nL 410.101224 209.670467 \nL 419.424386 205.732182 \nL 428.747548 201.680959 \nL 438.070709 197.524164 \nL 447.393871 193.270176 \nL 456.717033 188.928352 \nL 466.040194 184.508956 \nL 475.363356 180.023085 \nL 484.686518 175.482561 \nL 494.00968 170.899817 \nL 503.332841 166.287768 \nL 512.656003 161.659663 \nL 521.979165 157.028939 \nL 531.302326 152.409062 \nL 540.625488 147.813373 \nL 549.94865 143.254934 \nL 559.271812 138.746381 \nL 568.594973 134.29979 \nL 577.918135 129.926552 \nL 587.241297 125.637264 \nL 596.564458 121.441645 \nL 605.88762 117.348462 \nL 615.210782 113.365476 \nL 624.533943 109.499415 \nL 633.857105 105.755958 \nL 643.180267 102.139738 \nL 652.503429 98.654366 \nL 661.82659 95.302462 \nL 671.149752 92.085703 \nL 680.472914 89.004879 \nL 689.796075 86.059957 \nL 699.119237 83.250152 \nL 708.442399 80.573999 \nL 717.765561 78.029426 \nL 727.088722 75.613834 \nL 736.411884 73.324167 \nL 745.735046 71.156985 \nL 755.058207 69.10853 \nL 764.381369 67.174791 \nL 773.704531 65.351564 \nL 783.027693 63.634504 \nL 792.350854 62.019175 \nL 801.674016 60.501093 \nL 810.997178 59.075766 \nL 820.320339 57.738727 \nL 829.643501 56.485561 \nL 838.966663 55.311933 \nL 848.289824 54.213607 \nL 857.612986 53.18646 \nL 866.936148 52.226502 \nL 876.25931 51.329878 \nL 885.582471 50.492882 \nL 894.905633 49.711962 \nL 904.228795 48.983717 \nL 913.551956 48.304906 \nL 922.875118 47.672444 \nL 932.19828 47.0834 \nL 941.521442 46.534997 \nL 950.844603 46.024608 \nL 960.167765 45.54975 \nL 969.490927 45.108081 \nL 978.814088 44.697396 \nL 988.13725 44.31562 \nL 997.460412 43.960804 \nL 1006.783573 43.631117 \nL 1016.106735 43.324843 \nL 1025.429897 43.040374 \nL 1034.753059 42.776205 \nL 1044.07622 42.530929 \nL 1053.399382 42.303229 \nL 1062.722544 42.091876 \nL 1072.045705 41.895722 \nL 1081.368867 41.713698 \nL 1090.692029 41.544804 \nL 1100.015191 41.388111 \nL 1109.338352 41.24275 \n\" style=\"fill:none;stroke:#ff7f0e;stroke-linecap:round;stroke-width:1.5;\"/>\n   </g>\n   <g id=\"line2d_20\">\n    <path clip-path=\"url(#p0ba9a7f5a8)\" d=\"M 186.345343 266.560376 \nL 195.668505 265.416614 \nL 204.991667 264.195381 \nL 214.314828 262.892418 \nL 223.63799 261.503382 \nL 232.961152 260.023864 \nL 242.284313 258.449418 \nL 251.607475 256.775591 \nL 260.930637 254.99796 \nL 270.253799 253.112171 \nL 279.57696 251.113986 \nL 288.900122 248.999332 \nL 298.223284 246.76436 \nL 307.546445 244.405499 \nL 316.869607 241.919528 \nL 326.192769 239.30364 \nL 335.515931 236.555514 \nL 344.839092 233.673389 \nL 354.162254 230.656136 \nL 363.485416 227.503334 \nL 372.808577 224.215337 \nL 382.131739 220.793341 \nL 391.454901 217.239447 \nL 400.778062 213.556704 \nL 410.101224 209.74916 \nL 419.424386 205.821879 \nL 428.747548 201.780961 \nL 438.070709 197.633537 \nL 447.393871 193.387744 \nL 456.717033 189.052692 \nL 466.040194 184.638399 \nL 475.363356 180.155717 \nL 484.686518 175.616237 \nL 494.00968 171.032174 \nL 503.332841 166.416243 \nL 512.656003 161.781522 \nL 521.979165 157.141303 \nL 531.302326 152.508941 \nL 540.625488 147.897701 \nL 549.94865 143.320608 \nL 559.271812 138.790297 \nL 568.594973 134.318883 \nL 577.918135 129.917832 \nL 587.241297 125.597857 \nL 596.564458 121.36882 \nL 605.88762 117.239662 \nL 615.210782 113.218346 \nL 624.533943 109.31182 \nL 633.857105 105.526001 \nL 643.180267 101.865774 \nL 652.503429 98.335005 \nL 661.82659 94.936574 \nL 671.149752 91.672417 \nL 680.472914 88.543578 \nL 689.796075 85.550267 \nL 699.119237 82.691934 \nL 708.442399 79.967333 \nL 717.765561 77.374598 \nL 727.088722 74.911318 \nL 736.411884 72.574606 \nL 745.735046 70.361174 \nL 755.058207 68.267399 \nL 764.381369 66.289388 \nL 773.704531 64.423034 \nL 783.027693 62.664074 \nL 792.350854 61.008141 \nL 801.674016 59.450803 \nL 810.997178 57.987605 \nL 820.320339 56.614106 \nL 829.643501 55.325907 \nL 838.966663 54.118678 \nL 848.289824 52.988177 \nL 857.612986 51.930272 \nL 866.936148 50.94095 \nL 876.25931 50.016335 \nL 885.582471 49.15269 \nL 894.905633 48.346429 \nL 904.228795 47.594115 \nL 913.551956 46.892467 \nL 922.875118 46.238357 \nL 932.19828 45.628814 \nL 941.521442 45.061015 \nL 950.844603 44.532289 \nL 960.167765 44.040108 \nL 969.490927 43.582087 \nL 978.814088 43.155976 \nL 988.13725 42.759656 \nL 997.460412 42.391137 \nL 1006.783573 42.048545 \nL 1016.106735 41.730126 \nL 1025.429897 41.434231 \nL 1034.753059 41.159318 \nL 1044.07622 40.903944 \nL 1053.399382 40.666756 \nL 1062.722544 40.446492 \nL 1072.045705 40.241973 \nL 1081.368867 40.052097 \nL 1090.692029 39.875837 \nL 1100.015191 39.712234 \nL 1109.338352 39.560395 \n\" style=\"fill:none;stroke:#2ca02c;stroke-linecap:round;stroke-width:1.5;\"/>\n   </g>\n   <g id=\"line2d_21\">\n    <path clip-path=\"url(#p0ba9a7f5a8)\" d=\"M 186.345343 266.477459 \nL 195.668505 265.333827 \nL 204.991667 264.113133 \nL 214.314828 262.811159 \nL 223.63799 261.423602 \nL 232.961152 259.946095 \nL 242.284313 258.374231 \nL 251.607475 256.703596 \nL 260.930637 254.929803 \nL 270.253799 253.048528 \nL 279.57696 251.055562 \nL 288.900122 248.946851 \nL 298.223284 246.718557 \nL 307.546445 244.367114 \nL 316.869607 241.889292 \nL 326.192769 239.282263 \nL 335.515931 236.54367 \nL 344.839092 233.671702 \nL 354.162254 230.66516 \nL 363.485416 227.523537 \nL 372.808577 224.24708 \nL 382.131739 220.836859 \nL 391.454901 217.294825 \nL 400.778062 213.623864 \nL 410.101224 209.827835 \nL 419.424386 205.911599 \nL 428.747548 201.881037 \nL 438.070709 197.743046 \nL 447.393871 193.505525 \nL 456.717033 189.177334 \nL 466.040194 184.768246 \nL 475.363356 180.288867 \nL 484.686518 175.750553 \nL 494.00968 171.1653 \nL 503.332841 166.54562 \nL 512.656003 161.904414 \nL 521.979165 157.254823 \nL 531.302326 152.610088 \nL 540.625488 147.983389 \nL 549.94865 143.387706 \nL 559.271812 138.83567 \nL 568.594973 134.339426 \nL 577.918135 129.91051 \nL 587.241297 125.55974 \nL 596.564458 121.297118 \nL 605.88762 117.131755 \nL 615.210782 113.07181 \nL 624.533943 109.124449 \nL 633.857105 105.295825 \nL 643.180267 101.591072 \nL 652.503429 98.014313 \nL 661.82659 94.56869 \nL 671.149752 91.256398 \nL 680.472914 88.078738 \nL 689.796075 85.03617 \nL 699.119237 82.128381 \nL 708.442399 79.354351 \nL 717.765561 76.712424 \nL 727.088722 74.200381 \nL 736.411884 71.815515 \nL 745.735046 69.554696 \nL 755.058207 67.41444 \nL 764.381369 65.390976 \nL 773.704531 63.480303 \nL 783.027693 61.678248 \nL 792.350854 59.980513 \nL 801.674016 58.382724 \nL 810.997178 56.88047 \nL 820.320339 55.469339 \nL 829.643501 54.144952 \nL 838.966663 52.902985 \nL 848.289824 51.739196 \nL 857.612986 50.649443 \nL 866.936148 49.629698 \nL 876.25931 48.676059 \nL 885.582471 47.784763 \nL 894.905633 46.952191 \nL 904.228795 46.174869 \nL 913.551956 45.449478 \nL 922.875118 44.77285 \nL 932.19828 44.141967 \nL 941.521442 43.553967 \nL 950.844603 43.00613 \nL 960.167765 42.495886 \nL 969.490927 42.020803 \nL 978.814088 41.578588 \nL 988.13725 41.167078 \nL 997.460412 40.784237 \nL 1006.783573 40.428153 \nL 1016.106735 40.097028 \nL 1025.429897 39.789174 \nL 1034.753059 39.503011 \nL 1044.07622 39.237056 \nL 1053.399382 38.989923 \nL 1062.722544 38.760315 \nL 1072.045705 38.547019 \nL 1081.368867 38.348902 \nL 1090.692029 38.164906 \nL 1100.015191 37.994045 \nL 1109.338352 37.835396 \n\" style=\"fill:none;stroke:#d62728;stroke-linecap:round;stroke-width:1.5;\"/>\n   </g>\n   <g id=\"line2d_22\">\n    <path clip-path=\"url(#p0ba9a7f5a8)\" d=\"M 186.345343 266.394095 \nL 195.668505 265.250621 \nL 204.991667 264.030495 \nL 214.314828 262.729538 \nL 223.63799 261.343489 \nL 232.961152 259.868021 \nL 242.284313 258.298767 \nL 251.607475 256.63135 \nL 260.930637 254.861419 \nL 270.253799 252.984682 \nL 279.57696 250.996955 \nL 288.900122 248.894204 \nL 298.223284 246.672604 \nL 307.546445 244.328591 \nL 316.869607 241.858927 \nL 326.192769 239.260764 \nL 335.515931 236.53171 \nL 344.839092 233.669902 \nL 354.162254 230.674076 \nL 363.485416 227.543637 \nL 372.808577 224.278727 \nL 382.131739 220.88029 \nL 391.454901 217.350133 \nL 400.778062 213.690975 \nL 410.101224 209.90649 \nL 419.424386 206.001339 \nL 428.747548 201.981184 \nL 438.070709 197.852691 \nL 447.393871 193.623517 \nL 456.717033 189.302277 \nL 466.040194 184.898494 \nL 475.363356 180.422532 \nL 484.686518 175.885508 \nL 494.00968 171.299194 \nL 503.332841 166.675898 \nL 512.656003 162.028338 \nL 521.979165 157.369502 \nL 531.302326 152.712505 \nL 540.625488 148.070442 \nL 549.94865 143.456238 \nL 559.271812 138.882512 \nL 568.594973 134.361432 \nL 577.918135 129.9046 \nL 587.241297 125.52293 \nL 596.564458 121.226559 \nL 605.88762 117.024761 \nL 615.210782 112.925887 \nL 624.533943 108.937319 \nL 633.857105 105.065443 \nL 643.180267 101.31564 \nL 652.503429 97.692291 \nL 661.82659 94.198799 \nL 671.149752 90.837623 \nL 680.472914 87.610323 \nL 689.796075 84.517612 \nL 699.119237 81.559419 \nL 708.442399 78.734955 \nL 717.765561 76.04278 \nL 727.088722 73.480876 \nL 736.411884 71.046717 \nL 745.735046 68.737337 \nL 755.058207 66.549403 \nL 764.381369 64.47927 \nL 773.704531 62.523048 \nL 783.027693 60.676659 \nL 792.350854 58.935882 \nL 801.674016 57.296404 \nL 810.997178 55.753864 \nL 820.320339 54.303884 \nL 829.643501 52.942106 \nL 838.966663 51.664219 \nL 848.289824 50.465983 \nL 857.612986 49.343248 \nL 866.936148 48.291971 \nL 876.25931 47.308231 \nL 885.582471 46.388237 \nL 894.905633 45.528338 \nL 904.228795 44.725027 \nL 913.551956 43.974944 \nL 922.875118 43.274882 \nL 932.19828 42.62178 \nL 941.521442 42.012731 \nL 950.844603 41.444971 \nL 960.167765 40.915885 \nL 969.490927 40.422995 \nL 978.814088 39.963962 \nL 988.13725 39.53658 \nL 997.460412 39.138769 \nL 1006.783573 38.768572 \nL 1016.106735 38.42415 \nL 1025.429897 38.103774 \nL 1034.753059 37.805825 \nL 1044.07622 37.528781 \nL 1053.399382 37.27122 \nL 1062.722544 37.031809 \nL 1072.045705 36.809301 \nL 1081.368867 36.60253 \nL 1090.692029 36.410408 \nL 1100.015191 36.231917 \nL 1109.338352 36.066108 \n\" style=\"fill:none;stroke:#9467bd;stroke-linecap:round;stroke-width:1.5;\"/>\n   </g>\n   <g id=\"line2d_23\">\n    <path clip-path=\"url(#p0ba9a7f5a8)\" d=\"M 186.345343 266.310281 \nL 195.668505 265.166994 \nL 204.991667 263.947464 \nL 214.314828 262.647554 \nL 223.63799 261.263042 \nL 232.961152 259.789641 \nL 242.284313 258.223024 \nL 251.607475 256.558852 \nL 260.930637 254.792808 \nL 270.253799 252.920631 \nL 279.57696 250.938162 \nL 288.900122 248.841389 \nL 298.223284 246.626498 \nL 307.546445 244.289928 \nL 316.869607 241.828432 \nL 326.192769 239.239143 \nL 335.515931 236.519633 \nL 344.839092 233.66799 \nL 354.162254 230.682884 \nL 363.485416 227.563633 \nL 372.808577 224.310275 \nL 382.131739 220.923633 \nL 391.454901 217.405367 \nL 400.778062 213.758034 \nL 410.101224 209.985125 \nL 419.424386 206.091098 \nL 428.747548 202.0814 \nL 438.070709 197.962467 \nL 447.393871 193.741717 \nL 456.717033 189.427517 \nL 466.040194 185.029143 \nL 475.363356 180.55671 \nL 484.686518 176.021099 \nL 494.00968 171.433854 \nL 503.332841 166.807076 \nL 512.656003 162.153295 \nL 521.979165 157.48534 \nL 531.302326 152.816197 \nL 540.625488 148.158865 \nL 549.94865 143.526211 \nL 559.271812 138.930832 \nL 568.594973 134.384916 \nL 577.918135 129.900117 \nL 587.241297 125.487444 \nL 596.564458 121.157159 \nL 605.88762 116.918697 \nL 615.210782 112.780595 \nL 624.533943 108.750446 \nL 633.857105 104.834867 \nL 643.180267 101.039485 \nL 652.503429 97.368938 \nL 661.82659 93.826892 \nL 671.149752 90.416071 \nL 680.472914 87.138297 \nL 689.796075 83.994538 \nL 699.119237 80.984973 \nL 708.442399 78.109047 \nL 717.765561 75.365541 \nL 727.088722 72.752646 \nL 736.411884 70.268022 \nL 745.735046 67.908878 \nL 755.058207 65.67203 \nL 764.381369 63.553972 \nL 773.704531 61.55093 \nL 783.027693 59.658925 \nL 792.350854 57.873821 \nL 801.674016 56.191373 \nL 810.997178 54.60727 \nL 820.320339 53.117175 \nL 829.643501 51.716756 \nL 838.966663 50.401719 \nL 848.289824 49.167826 \nL 857.612986 48.010925 \nL 866.936148 46.92696 \nL 876.25931 45.911992 \nL 885.582471 44.962205 \nL 894.905633 44.073917 \nL 904.228795 43.243587 \nL 913.551956 42.467819 \nL 922.875118 41.743363 \nL 932.19828 41.067118 \nL 941.521442 40.436131 \nL 950.844603 39.847595 \nL 960.167765 39.298847 \nL 969.490927 38.787365 \nL 978.814088 38.310764 \nL 988.13725 37.866791 \nL 997.460412 37.453323 \nL 1006.783573 37.068359 \nL 1016.106735 36.710017 \nL 1025.429897 36.376526 \nL 1034.753059 36.066225 \nL 1044.07622 35.777555 \nL 1053.399382 35.509055 \nL 1062.722544 35.259355 \nL 1072.045705 35.027174 \nL 1081.368867 34.811312 \nL 1090.692029 34.610649 \nL 1100.015191 34.424136 \nL 1109.338352 34.250795 \n\" style=\"fill:none;stroke:#8c564b;stroke-linecap:round;stroke-width:1.5;\"/>\n   </g>\n   <g id=\"patch_3\">\n    <path d=\"M 44.065625 293.69625 \nL 44.065625 21.89625 \n\" style=\"fill:none;\"/>\n   </g>\n   <g id=\"patch_4\">\n    <path d=\"M 1160.065625 293.69625 \nL 1160.065625 21.89625 \n\" style=\"fill:none;\"/>\n   </g>\n   <g id=\"patch_5\">\n    <path d=\"M 44.065625 293.69625 \nL 1160.065625 293.69625 \n\" style=\"fill:none;\"/>\n   </g>\n   <g id=\"patch_6\">\n    <path d=\"M 44.065625 21.89625 \nL 1160.065625 21.89625 \n\" style=\"fill:none;\"/>\n   </g>\n   <g id=\"text_18\">\n    <!-- Covid-19 Confirmed Cases (without PRC) -->\n    <defs>\n     <path d=\"M 38.671875 62.203125 \nQ 27.25 62.203125 20.890625 54.859375 \nQ 14.546875 47.515625 14.546875 34.71875 \nQ 14.546875 22.078125 21.15625 14.375 \nQ 27.78125 6.6875 39.0625 6.6875 \nQ 53.515625 6.6875 60.796875 21 \nL 68.40625 17.1875 \nQ 64.15625 8.296875 56.46875 3.65625 \nQ 48.78125 -0.984375 38.625 -0.984375 \nQ 28.21875 -0.984375 20.625 3.34375 \nQ 13.03125 7.671875 9.046875 15.703125 \nQ 5.078125 23.734375 5.078125 34.71875 \nQ 5.078125 51.171875 13.96875 60.5 \nQ 22.859375 69.828125 38.578125 69.828125 \nQ 49.5625 69.828125 56.9375 65.53125 \nQ 64.3125 61.234375 67.78125 52.78125 \nL 58.9375 49.859375 \nQ 56.546875 55.859375 51.25 59.03125 \nQ 45.953125 62.203125 38.671875 62.203125 \nz\n\" id=\"LiberationSans-43\"/>\n     <path d=\"M 51.421875 26.46875 \nQ 51.421875 12.59375 45.3125 5.796875 \nQ 39.203125 -0.984375 27.59375 -0.984375 \nQ 16.015625 -0.984375 10.109375 6.078125 \nQ 4.203125 13.140625 4.203125 26.46875 \nQ 4.203125 53.8125 27.875 53.8125 \nQ 39.984375 53.8125 45.703125 47.140625 \nQ 51.421875 40.484375 51.421875 26.46875 \nz\nM 42.1875 26.46875 \nQ 42.1875 37.40625 38.9375 42.359375 \nQ 35.6875 47.3125 28.03125 47.3125 \nQ 20.3125 47.3125 16.859375 42.25 \nQ 13.421875 37.203125 13.421875 26.46875 \nQ 13.421875 16.015625 16.8125 10.765625 \nQ 20.21875 5.515625 27.484375 5.515625 \nQ 35.40625 5.515625 38.796875 10.59375 \nQ 42.1875 15.671875 42.1875 26.46875 \nz\n\" id=\"LiberationSans-6f\"/>\n     <path d=\"M 29.9375 0 \nL 19.53125 0 \nL 0.34375 52.828125 \nL 9.71875 52.828125 \nL 21.34375 18.453125 \nQ 21.96875 16.5 24.703125 6.890625 \nL 26.421875 12.59375 \nL 28.328125 18.359375 \nL 40.328125 52.828125 \nL 49.65625 52.828125 \nz\n\" id=\"LiberationSans-76\"/>\n     <path d=\"M 6.6875 64.0625 \nL 6.6875 72.46875 \nL 15.484375 72.46875 \nL 15.484375 64.0625 \nz\nM 6.6875 0 \nL 6.6875 52.828125 \nL 15.484375 52.828125 \nL 15.484375 0 \nz\n\" id=\"LiberationSans-69\"/>\n     <path d=\"M 40.09375 8.5 \nQ 37.640625 3.421875 33.609375 1.21875 \nQ 29.59375 -0.984375 23.640625 -0.984375 \nQ 13.625 -0.984375 8.90625 5.75 \nQ 4.203125 12.5 4.203125 26.171875 \nQ 4.203125 53.8125 23.640625 53.8125 \nQ 29.640625 53.8125 33.640625 51.609375 \nQ 37.640625 49.421875 40.09375 44.625 \nL 40.1875 44.625 \nL 40.09375 50.53125 \nL 40.09375 72.46875 \nL 48.875 72.46875 \nL 48.875 10.890625 \nQ 48.875 2.640625 49.171875 0 \nL 40.765625 0 \nQ 40.625 0.78125 40.453125 3.609375 \nQ 40.28125 6.453125 40.28125 8.5 \nz\nM 13.421875 26.46875 \nQ 13.421875 15.375 16.34375 10.59375 \nQ 19.28125 5.8125 25.875 5.8125 \nQ 33.34375 5.8125 36.71875 10.984375 \nQ 40.09375 16.15625 40.09375 27.046875 \nQ 40.09375 37.546875 36.71875 42.421875 \nQ 33.34375 47.3125 25.984375 47.3125 \nQ 19.34375 47.3125 16.375 42.40625 \nQ 13.421875 37.5 13.421875 26.46875 \nz\n\" id=\"LiberationSans-64\"/>\n     <path id=\"LiberationSans-20\"/>\n     <path d=\"M 40.28125 0 \nL 40.28125 33.5 \nQ 40.28125 38.71875 39.25 41.59375 \nQ 38.234375 44.484375 35.984375 45.75 \nQ 33.734375 47.015625 29.390625 47.015625 \nQ 23.046875 47.015625 19.375 42.671875 \nQ 15.71875 38.328125 15.71875 30.609375 \nL 15.71875 0 \nL 6.9375 0 \nL 6.9375 41.546875 \nQ 6.9375 50.78125 6.640625 52.828125 \nL 14.9375 52.828125 \nQ 14.984375 52.59375 15.03125 51.515625 \nQ 15.09375 50.4375 15.15625 49.046875 \nQ 15.234375 47.65625 15.328125 43.796875 \nL 15.484375 43.796875 \nQ 18.5 49.265625 22.484375 51.53125 \nQ 26.46875 53.8125 32.375 53.8125 \nQ 41.0625 53.8125 45.09375 49.484375 \nQ 49.125 45.171875 49.125 35.203125 \nL 49.125 0 \nz\n\" id=\"LiberationSans-6e\"/>\n     <path d=\"M 17.625 46.4375 \nL 17.625 0 \nL 8.84375 0 \nL 8.84375 46.4375 \nL 1.421875 46.4375 \nL 1.421875 52.828125 \nL 8.84375 52.828125 \nL 8.84375 58.796875 \nQ 8.84375 66.015625 12.015625 69.1875 \nQ 15.1875 72.359375 21.734375 72.359375 \nQ 25.390625 72.359375 27.9375 71.78125 \nL 27.9375 65.09375 \nQ 25.734375 65.484375 24.03125 65.484375 \nQ 20.65625 65.484375 19.140625 63.765625 \nQ 17.625 62.0625 17.625 57.5625 \nL 17.625 52.828125 \nL 27.9375 52.828125 \nL 27.9375 46.4375 \nz\n\" id=\"LiberationSans-66\"/>\n     <path d=\"M 6.9375 0 \nL 6.9375 40.53125 \nQ 6.9375 46.09375 6.640625 52.828125 \nL 14.9375 52.828125 \nQ 15.328125 43.84375 15.328125 42.046875 \nL 15.53125 42.046875 \nQ 17.625 48.828125 20.359375 51.3125 \nQ 23.09375 53.8125 28.078125 53.8125 \nQ 29.828125 53.8125 31.640625 53.328125 \nL 31.640625 45.265625 \nQ 29.890625 45.75 26.953125 45.75 \nQ 21.484375 45.75 18.59375 41.03125 \nQ 15.71875 36.328125 15.71875 27.546875 \nL 15.71875 0 \nz\n\" id=\"LiberationSans-72\"/>\n     <path d=\"M 37.5 0 \nL 37.5 33.5 \nQ 37.5 41.15625 35.390625 44.078125 \nQ 33.296875 47.015625 27.828125 47.015625 \nQ 22.21875 47.015625 18.9375 42.71875 \nQ 15.671875 38.421875 15.671875 30.609375 \nL 15.671875 0 \nL 6.9375 0 \nL 6.9375 41.546875 \nQ 6.9375 50.78125 6.640625 52.828125 \nL 14.9375 52.828125 \nQ 14.984375 52.59375 15.03125 51.515625 \nQ 15.09375 50.4375 15.15625 49.046875 \nQ 15.234375 47.65625 15.328125 43.796875 \nL 15.484375 43.796875 \nQ 18.3125 49.421875 21.96875 51.609375 \nQ 25.640625 53.8125 30.90625 53.8125 \nQ 36.921875 53.8125 40.40625 51.421875 \nQ 43.890625 49.03125 45.265625 43.796875 \nL 45.40625 43.796875 \nQ 48.140625 49.125 52.015625 51.46875 \nQ 55.90625 53.8125 61.421875 53.8125 \nQ 69.4375 53.8125 73.0625 49.46875 \nQ 76.703125 45.125 76.703125 35.203125 \nL 76.703125 0 \nL 68.015625 0 \nL 68.015625 33.5 \nQ 68.015625 41.15625 65.90625 44.078125 \nQ 63.8125 47.015625 58.34375 47.015625 \nQ 52.59375 47.015625 49.390625 42.75 \nQ 46.1875 38.484375 46.1875 30.609375 \nL 46.1875 0 \nz\n\" id=\"LiberationSans-6d\"/>\n     <path d=\"M 13.484375 24.5625 \nQ 13.484375 15.484375 17.234375 10.546875 \nQ 21 5.609375 28.21875 5.609375 \nQ 33.9375 5.609375 37.375 7.90625 \nQ 40.828125 10.203125 42.046875 13.71875 \nL 49.75 11.53125 \nQ 45.015625 -0.984375 28.21875 -0.984375 \nQ 16.5 -0.984375 10.375 6 \nQ 4.25 12.984375 4.25 26.765625 \nQ 4.25 39.84375 10.375 46.828125 \nQ 16.5 53.8125 27.875 53.8125 \nQ 51.171875 53.8125 51.171875 25.734375 \nL 51.171875 24.5625 \nz\nM 42.09375 31.296875 \nQ 41.359375 39.65625 37.84375 43.484375 \nQ 34.328125 47.3125 27.734375 47.3125 \nQ 21.34375 47.3125 17.609375 43.03125 \nQ 13.875 38.765625 13.578125 31.296875 \nz\n\" id=\"LiberationSans-65\"/>\n     <path d=\"M 20.21875 -0.984375 \nQ 12.25 -0.984375 8.25 3.21875 \nQ 4.25 7.421875 4.25 14.75 \nQ 4.25 22.953125 9.640625 27.34375 \nQ 15.046875 31.734375 27.046875 32.03125 \nL 38.921875 32.234375 \nL 38.921875 35.109375 \nQ 38.921875 41.546875 36.1875 44.328125 \nQ 33.453125 47.125 27.59375 47.125 \nQ 21.6875 47.125 19 45.109375 \nQ 16.3125 43.109375 15.765625 38.71875 \nL 6.59375 39.546875 \nQ 8.84375 53.8125 27.78125 53.8125 \nQ 37.75 53.8125 42.765625 49.234375 \nQ 47.796875 44.671875 47.796875 36.03125 \nL 47.796875 13.28125 \nQ 47.796875 9.375 48.828125 7.390625 \nQ 49.859375 5.421875 52.734375 5.421875 \nQ 54 5.421875 55.609375 5.765625 \nL 55.609375 0.296875 \nQ 52.296875 -0.484375 48.828125 -0.484375 \nQ 43.953125 -0.484375 41.71875 2.078125 \nQ 39.5 4.640625 39.203125 10.109375 \nL 38.921875 10.109375 \nQ 35.546875 4.046875 31.078125 1.53125 \nQ 26.609375 -0.984375 20.21875 -0.984375 \nz\nM 22.21875 5.609375 \nQ 27.046875 5.609375 30.8125 7.8125 \nQ 34.578125 10.015625 36.75 13.84375 \nQ 38.921875 17.671875 38.921875 21.734375 \nL 38.921875 26.078125 \nL 29.296875 25.875 \nQ 23.09375 25.78125 19.890625 24.609375 \nQ 16.703125 23.4375 14.984375 21 \nQ 13.28125 18.5625 13.28125 14.59375 \nQ 13.28125 10.296875 15.59375 7.953125 \nQ 17.921875 5.609375 22.21875 5.609375 \nz\n\" id=\"LiberationSans-61\"/>\n     <path d=\"M 46.390625 14.59375 \nQ 46.390625 7.125 40.75 3.0625 \nQ 35.109375 -0.984375 24.953125 -0.984375 \nQ 15.09375 -0.984375 9.734375 2.265625 \nQ 4.390625 5.515625 2.78125 12.40625 \nL 10.546875 13.921875 \nQ 11.671875 9.671875 15.1875 7.6875 \nQ 18.703125 5.71875 24.953125 5.71875 \nQ 31.640625 5.71875 34.734375 7.765625 \nQ 37.84375 9.8125 37.84375 13.921875 \nQ 37.84375 17.046875 35.6875 19 \nQ 33.546875 20.953125 28.765625 22.21875 \nL 22.46875 23.875 \nQ 14.890625 25.828125 11.6875 27.703125 \nQ 8.5 29.59375 6.6875 32.28125 \nQ 4.890625 34.96875 4.890625 38.875 \nQ 4.890625 46.09375 10.03125 49.875 \nQ 15.1875 53.65625 25.046875 53.65625 \nQ 33.796875 53.65625 38.9375 50.578125 \nQ 44.09375 47.515625 45.453125 40.71875 \nL 37.546875 39.75 \nQ 36.8125 43.265625 33.609375 45.140625 \nQ 30.421875 47.015625 25.046875 47.015625 \nQ 19.09375 47.015625 16.25 45.203125 \nQ 13.421875 43.40625 13.421875 39.75 \nQ 13.421875 37.5 14.59375 36.03125 \nQ 15.765625 34.578125 18.0625 33.546875 \nQ 20.359375 32.515625 27.734375 30.71875 \nQ 34.71875 28.953125 37.796875 27.46875 \nQ 40.875 25.984375 42.65625 24.171875 \nQ 44.4375 22.359375 45.40625 19.984375 \nQ 46.390625 17.625 46.390625 14.59375 \nz\n\" id=\"LiberationSans-73\"/>\n     <path d=\"M 6.203125 25.984375 \nQ 6.203125 40.09375 10.625 51.3125 \nQ 15.046875 62.546875 24.21875 72.46875 \nL 32.71875 72.46875 \nQ 23.578125 62.3125 19.3125 50.875 \nQ 15.046875 39.453125 15.046875 25.875 \nQ 15.046875 12.359375 19.265625 0.96875 \nQ 23.484375 -10.40625 32.71875 -20.703125 \nL 24.21875 -20.703125 \nQ 14.984375 -10.75 10.59375 0.5 \nQ 6.203125 11.765625 6.203125 25.78125 \nz\n\" id=\"LiberationSans-28\"/>\n     <path d=\"M 57.328125 0 \nL 47.125 0 \nL 37.890625 37.359375 \nL 36.140625 45.609375 \nQ 35.6875 43.40625 34.765625 39.28125 \nQ 33.84375 35.15625 24.8125 0 \nL 14.65625 0 \nL -0.140625 52.828125 \nL 8.546875 52.828125 \nL 17.484375 16.9375 \nQ 17.828125 15.765625 19.578125 7.28125 \nL 20.40625 10.890625 \nL 31.453125 52.828125 \nL 40.875 52.828125 \nL 50.09375 16.546875 \nL 52.34375 7.28125 \nL 53.859375 14.0625 \nL 63.875 52.828125 \nL 72.46875 52.828125 \nz\n\" id=\"LiberationSans-77\"/>\n     <path d=\"M 27.046875 0.390625 \nQ 22.703125 -0.78125 18.171875 -0.78125 \nQ 7.625 -0.78125 7.625 11.1875 \nL 7.625 46.4375 \nL 1.515625 46.4375 \nL 1.515625 52.828125 \nL 7.953125 52.828125 \nL 10.546875 64.65625 \nL 16.40625 64.65625 \nL 16.40625 52.828125 \nL 26.171875 52.828125 \nL 26.171875 46.4375 \nL 16.40625 46.4375 \nL 16.40625 13.09375 \nQ 16.40625 9.28125 17.640625 7.734375 \nQ 18.890625 6.203125 21.96875 6.203125 \nQ 23.734375 6.203125 27.046875 6.890625 \nz\n\" id=\"LiberationSans-74\"/>\n     <path d=\"M 15.484375 43.796875 \nQ 18.3125 48.96875 22.28125 51.390625 \nQ 26.265625 53.8125 32.375 53.8125 \nQ 40.96875 53.8125 45.046875 49.53125 \nQ 49.125 45.265625 49.125 35.203125 \nL 49.125 0 \nL 40.28125 0 \nL 40.28125 33.5 \nQ 40.28125 39.0625 39.25 41.765625 \nQ 38.234375 44.484375 35.890625 45.75 \nQ 33.546875 47.015625 29.390625 47.015625 \nQ 23.1875 47.015625 19.453125 42.71875 \nQ 15.71875 38.421875 15.71875 31.15625 \nL 15.71875 0 \nL 6.9375 0 \nL 6.9375 72.46875 \nL 15.71875 72.46875 \nL 15.71875 53.609375 \nQ 15.71875 50.640625 15.546875 47.453125 \nQ 15.375 44.28125 15.328125 43.796875 \nz\n\" id=\"LiberationSans-68\"/>\n     <path d=\"M 15.328125 52.828125 \nL 15.328125 19.34375 \nQ 15.328125 14.109375 16.359375 11.21875 \nQ 17.390625 8.34375 19.625 7.078125 \nQ 21.875 5.8125 26.21875 5.8125 \nQ 32.5625 5.8125 36.21875 10.15625 \nQ 39.890625 14.5 39.890625 22.21875 \nL 39.890625 52.828125 \nL 48.6875 52.828125 \nL 48.6875 11.28125 \nQ 48.6875 2.046875 48.96875 0 \nL 40.671875 0 \nQ 40.625 0.25 40.578125 1.3125 \nQ 40.53125 2.390625 40.453125 3.78125 \nQ 40.375 5.171875 40.28125 9.03125 \nL 40.140625 9.03125 \nQ 37.109375 3.5625 33.125 1.28125 \nQ 29.15625 -0.984375 23.25 -0.984375 \nQ 14.546875 -0.984375 10.515625 3.34375 \nQ 6.5 7.671875 6.5 17.625 \nL 6.5 52.828125 \nz\n\" id=\"LiberationSans-75\"/>\n     <path d=\"M 61.421875 48.09375 \nQ 61.421875 38.328125 55.046875 32.5625 \nQ 48.6875 26.8125 37.75 26.8125 \nL 17.53125 26.8125 \nL 17.53125 0 \nL 8.203125 0 \nL 8.203125 68.796875 \nL 37.15625 68.796875 \nQ 48.734375 68.796875 55.078125 63.375 \nQ 61.421875 57.953125 61.421875 48.09375 \nz\nM 52.046875 48 \nQ 52.046875 61.328125 36.03125 61.328125 \nL 17.53125 61.328125 \nL 17.53125 34.1875 \nL 36.421875 34.1875 \nQ 52.046875 34.1875 52.046875 48 \nz\n\" id=\"LiberationSans-50\"/>\n     <path d=\"M 56.84375 0 \nL 38.96875 28.5625 \nL 17.53125 28.5625 \nL 17.53125 0 \nL 8.203125 0 \nL 8.203125 68.796875 \nL 40.578125 68.796875 \nQ 52.203125 68.796875 58.515625 63.59375 \nQ 64.84375 58.40625 64.84375 49.125 \nQ 64.84375 41.453125 60.375 36.21875 \nQ 55.90625 31 48.046875 29.640625 \nL 67.578125 0 \nz\nM 55.46875 49.03125 \nQ 55.46875 55.03125 51.390625 58.171875 \nQ 47.3125 61.328125 39.65625 61.328125 \nL 17.53125 61.328125 \nL 17.53125 35.9375 \nL 40.046875 35.9375 \nQ 47.40625 35.9375 51.4375 39.375 \nQ 55.46875 42.828125 55.46875 49.03125 \nz\n\" id=\"LiberationSans-52\"/>\n     <path d=\"M 27.09375 25.78125 \nQ 27.09375 11.671875 22.671875 0.4375 \nQ 18.265625 -10.796875 9.078125 -20.703125 \nL 0.59375 -20.703125 \nQ 9.765625 -10.453125 14.015625 0.890625 \nQ 18.265625 12.25 18.265625 25.875 \nQ 18.265625 39.5 13.984375 50.875 \nQ 9.71875 62.25 0.59375 72.46875 \nL 9.078125 72.46875 \nQ 18.3125 62.5 22.703125 51.234375 \nQ 27.09375 39.984375 27.09375 25.984375 \nz\n\" id=\"LiberationSans-29\"/>\n    </defs>\n    <g style=\"fill:#262626;\" transform=\"translate(491.032812 15.89625)scale(0.12 -0.12)\">\n     <use xlink:href=\"#LiberationSans-43\"/>\n     <use x=\"72.216797\" xlink:href=\"#LiberationSans-6f\"/>\n     <use x=\"127.832031\" xlink:href=\"#LiberationSans-76\"/>\n     <use x=\"177.832031\" xlink:href=\"#LiberationSans-69\"/>\n     <use x=\"200.048828\" xlink:href=\"#LiberationSans-64\"/>\n     <use x=\"255.664062\" xlink:href=\"#LiberationSans-2d\"/>\n     <use x=\"288.964844\" xlink:href=\"#LiberationSans-31\"/>\n     <use x=\"344.580078\" xlink:href=\"#LiberationSans-39\"/>\n     <use x=\"400.195312\" xlink:href=\"#LiberationSans-20\"/>\n     <use x=\"427.978516\" xlink:href=\"#LiberationSans-43\"/>\n     <use x=\"500.195312\" xlink:href=\"#LiberationSans-6f\"/>\n     <use x=\"555.810547\" xlink:href=\"#LiberationSans-6e\"/>\n     <use x=\"611.425781\" xlink:href=\"#LiberationSans-66\"/>\n     <use x=\"639.208984\" xlink:href=\"#LiberationSans-69\"/>\n     <use x=\"661.425781\" xlink:href=\"#LiberationSans-72\"/>\n     <use x=\"694.726562\" xlink:href=\"#LiberationSans-6d\"/>\n     <use x=\"778.027344\" xlink:href=\"#LiberationSans-65\"/>\n     <use x=\"833.642578\" xlink:href=\"#LiberationSans-64\"/>\n     <use x=\"889.257812\" xlink:href=\"#LiberationSans-20\"/>\n     <use x=\"917.041016\" xlink:href=\"#LiberationSans-43\"/>\n     <use x=\"989.257812\" xlink:href=\"#LiberationSans-61\"/>\n     <use x=\"1044.873047\" xlink:href=\"#LiberationSans-73\"/>\n     <use x=\"1094.873047\" xlink:href=\"#LiberationSans-65\"/>\n     <use x=\"1150.488281\" xlink:href=\"#LiberationSans-73\"/>\n     <use x=\"1200.488281\" xlink:href=\"#LiberationSans-20\"/>\n     <use x=\"1228.271484\" xlink:href=\"#LiberationSans-28\"/>\n     <use x=\"1261.572266\" xlink:href=\"#LiberationSans-77\"/>\n     <use x=\"1333.789062\" xlink:href=\"#LiberationSans-69\"/>\n     <use x=\"1356.005859\" xlink:href=\"#LiberationSans-74\"/>\n     <use x=\"1383.789062\" xlink:href=\"#LiberationSans-68\"/>\n     <use x=\"1439.404297\" xlink:href=\"#LiberationSans-6f\"/>\n     <use x=\"1495.019531\" xlink:href=\"#LiberationSans-75\"/>\n     <use x=\"1550.634766\" xlink:href=\"#LiberationSans-74\"/>\n     <use x=\"1578.417969\" xlink:href=\"#LiberationSans-20\"/>\n     <use x=\"1606.201172\" xlink:href=\"#LiberationSans-50\"/>\n     <use x=\"1672.900391\" xlink:href=\"#LiberationSans-52\"/>\n     <use x=\"1745.117188\" xlink:href=\"#LiberationSans-43\"/>\n     <use x=\"1817.333984\" xlink:href=\"#LiberationSans-29\"/>\n    </g>\n   </g>\n   <g id=\"legend_1\">\n    <g id=\"line2d_24\">\n     <path d=\"M 53.065625 34.643125 \nL 73.065625 34.643125 \n\" style=\"fill:none;stroke:#1f77b4;stroke-linecap:round;stroke-width:1.5;\"/>\n    </g>\n    <g id=\"line2d_25\"/>\n    <g id=\"text_19\">\n     <!-- Variance: 0.0 -->\n     <defs>\n      <path d=\"M 38.1875 0 \nL 28.515625 0 \nL 0.4375 68.796875 \nL 10.25 68.796875 \nL 29.296875 20.359375 \nL 33.40625 8.203125 \nL 37.5 20.359375 \nL 56.453125 68.796875 \nL 66.265625 68.796875 \nz\n\" id=\"LiberationSans-56\"/>\n      <path d=\"M 13.421875 26.65625 \nQ 13.421875 16.109375 16.734375 11.03125 \nQ 20.0625 5.953125 26.765625 5.953125 \nQ 31.453125 5.953125 34.59375 8.484375 \nQ 37.75 11.03125 38.484375 16.3125 \nL 47.359375 15.71875 \nQ 46.34375 8.109375 40.875 3.5625 \nQ 35.40625 -0.984375 27 -0.984375 \nQ 15.921875 -0.984375 10.078125 6.015625 \nQ 4.25 13.03125 4.25 26.46875 \nQ 4.25 39.796875 10.109375 46.796875 \nQ 15.96875 53.8125 26.90625 53.8125 \nQ 35.015625 53.8125 40.359375 49.609375 \nQ 45.703125 45.40625 47.078125 38.03125 \nL 38.03125 37.359375 \nQ 37.359375 41.75 34.5625 44.328125 \nQ 31.78125 46.921875 26.65625 46.921875 \nQ 19.671875 46.921875 16.546875 42.28125 \nQ 13.421875 37.640625 13.421875 26.65625 \nz\n\" id=\"LiberationSans-63\"/>\n      <path d=\"M 9.125 42.71875 \nL 9.125 52.828125 \nL 18.65625 52.828125 \nL 18.65625 42.71875 \nz\nM 9.125 0 \nL 9.125 10.109375 \nL 18.65625 10.109375 \nL 18.65625 0 \nz\n\" id=\"LiberationSans-3a\"/>\n      <path d=\"M 9.125 0 \nL 9.125 10.6875 \nL 18.65625 10.6875 \nL 18.65625 0 \nz\n\" id=\"LiberationSans-2e\"/>\n     </defs>\n     <g style=\"fill:#262626;\" transform=\"translate(81.065625 38.143125)scale(0.1 -0.1)\">\n      <use xlink:href=\"#LiberationSans-56\"/>\n      <use x=\"66.589844\" xlink:href=\"#LiberationSans-61\"/>\n      <use x=\"122.205078\" xlink:href=\"#LiberationSans-72\"/>\n      <use x=\"155.505859\" xlink:href=\"#LiberationSans-69\"/>\n      <use x=\"177.722656\" xlink:href=\"#LiberationSans-61\"/>\n      <use x=\"233.337891\" xlink:href=\"#LiberationSans-6e\"/>\n      <use x=\"288.953125\" xlink:href=\"#LiberationSans-63\"/>\n      <use x=\"338.953125\" xlink:href=\"#LiberationSans-65\"/>\n      <use x=\"394.568359\" xlink:href=\"#LiberationSans-3a\"/>\n      <use x=\"422.351562\" xlink:href=\"#LiberationSans-20\"/>\n      <use x=\"450.134766\" xlink:href=\"#LiberationSans-30\"/>\n      <use x=\"505.75\" xlink:href=\"#LiberationSans-2e\"/>\n      <use x=\"533.533203\" xlink:href=\"#LiberationSans-30\"/>\n     </g>\n    </g>\n    <g id=\"line2d_26\">\n     <path d=\"M 53.065625 48.965 \nL 73.065625 48.965 \n\" style=\"fill:none;stroke:#ff7f0e;stroke-linecap:round;stroke-width:1.5;\"/>\n    </g>\n    <g id=\"line2d_27\"/>\n    <g id=\"text_20\">\n     <!-- Variance: 0.1 -->\n     <g style=\"fill:#262626;\" transform=\"translate(81.065625 52.465)scale(0.1 -0.1)\">\n      <use xlink:href=\"#LiberationSans-56\"/>\n      <use x=\"66.589844\" xlink:href=\"#LiberationSans-61\"/>\n      <use x=\"122.205078\" xlink:href=\"#LiberationSans-72\"/>\n      <use x=\"155.505859\" xlink:href=\"#LiberationSans-69\"/>\n      <use x=\"177.722656\" xlink:href=\"#LiberationSans-61\"/>\n      <use x=\"233.337891\" xlink:href=\"#LiberationSans-6e\"/>\n      <use x=\"288.953125\" xlink:href=\"#LiberationSans-63\"/>\n      <use x=\"338.953125\" xlink:href=\"#LiberationSans-65\"/>\n      <use x=\"394.568359\" xlink:href=\"#LiberationSans-3a\"/>\n      <use x=\"422.351562\" xlink:href=\"#LiberationSans-20\"/>\n      <use x=\"450.134766\" xlink:href=\"#LiberationSans-30\"/>\n      <use x=\"505.75\" xlink:href=\"#LiberationSans-2e\"/>\n      <use x=\"533.533203\" xlink:href=\"#LiberationSans-31\"/>\n     </g>\n    </g>\n    <g id=\"line2d_28\">\n     <path d=\"M 53.065625 63.286875 \nL 73.065625 63.286875 \n\" style=\"fill:none;stroke:#2ca02c;stroke-linecap:round;stroke-width:1.5;\"/>\n    </g>\n    <g id=\"line2d_29\"/>\n    <g id=\"text_21\">\n     <!-- Variance: 0.2 -->\n     <g style=\"fill:#262626;\" transform=\"translate(81.065625 66.786875)scale(0.1 -0.1)\">\n      <use xlink:href=\"#LiberationSans-56\"/>\n      <use x=\"66.589844\" xlink:href=\"#LiberationSans-61\"/>\n      <use x=\"122.205078\" xlink:href=\"#LiberationSans-72\"/>\n      <use x=\"155.505859\" xlink:href=\"#LiberationSans-69\"/>\n      <use x=\"177.722656\" xlink:href=\"#LiberationSans-61\"/>\n      <use x=\"233.337891\" xlink:href=\"#LiberationSans-6e\"/>\n      <use x=\"288.953125\" xlink:href=\"#LiberationSans-63\"/>\n      <use x=\"338.953125\" xlink:href=\"#LiberationSans-65\"/>\n      <use x=\"394.568359\" xlink:href=\"#LiberationSans-3a\"/>\n      <use x=\"422.351562\" xlink:href=\"#LiberationSans-20\"/>\n      <use x=\"450.134766\" xlink:href=\"#LiberationSans-30\"/>\n      <use x=\"505.75\" xlink:href=\"#LiberationSans-2e\"/>\n      <use x=\"533.533203\" xlink:href=\"#LiberationSans-32\"/>\n     </g>\n    </g>\n    <g id=\"line2d_30\">\n     <path d=\"M 53.065625 77.60875 \nL 73.065625 77.60875 \n\" style=\"fill:none;stroke:#d62728;stroke-linecap:round;stroke-width:1.5;\"/>\n    </g>\n    <g id=\"line2d_31\"/>\n    <g id=\"text_22\">\n     <!-- Variance: 0.3 -->\n     <g style=\"fill:#262626;\" transform=\"translate(81.065625 81.10875)scale(0.1 -0.1)\">\n      <use xlink:href=\"#LiberationSans-56\"/>\n      <use x=\"66.589844\" xlink:href=\"#LiberationSans-61\"/>\n      <use x=\"122.205078\" xlink:href=\"#LiberationSans-72\"/>\n      <use x=\"155.505859\" xlink:href=\"#LiberationSans-69\"/>\n      <use x=\"177.722656\" xlink:href=\"#LiberationSans-61\"/>\n      <use x=\"233.337891\" xlink:href=\"#LiberationSans-6e\"/>\n      <use x=\"288.953125\" xlink:href=\"#LiberationSans-63\"/>\n      <use x=\"338.953125\" xlink:href=\"#LiberationSans-65\"/>\n      <use x=\"394.568359\" xlink:href=\"#LiberationSans-3a\"/>\n      <use x=\"422.351562\" xlink:href=\"#LiberationSans-20\"/>\n      <use x=\"450.134766\" xlink:href=\"#LiberationSans-30\"/>\n      <use x=\"505.75\" xlink:href=\"#LiberationSans-2e\"/>\n      <use x=\"533.533203\" xlink:href=\"#LiberationSans-33\"/>\n     </g>\n    </g>\n    <g id=\"line2d_32\">\n     <path d=\"M 53.065625 91.930625 \nL 73.065625 91.930625 \n\" style=\"fill:none;stroke:#9467bd;stroke-linecap:round;stroke-width:1.5;\"/>\n    </g>\n    <g id=\"line2d_33\"/>\n    <g id=\"text_23\">\n     <!-- Variance: 0.4 -->\n     <g style=\"fill:#262626;\" transform=\"translate(81.065625 95.430625)scale(0.1 -0.1)\">\n      <use xlink:href=\"#LiberationSans-56\"/>\n      <use x=\"66.589844\" xlink:href=\"#LiberationSans-61\"/>\n      <use x=\"122.205078\" xlink:href=\"#LiberationSans-72\"/>\n      <use x=\"155.505859\" xlink:href=\"#LiberationSans-69\"/>\n      <use x=\"177.722656\" xlink:href=\"#LiberationSans-61\"/>\n      <use x=\"233.337891\" xlink:href=\"#LiberationSans-6e\"/>\n      <use x=\"288.953125\" xlink:href=\"#LiberationSans-63\"/>\n      <use x=\"338.953125\" xlink:href=\"#LiberationSans-65\"/>\n      <use x=\"394.568359\" xlink:href=\"#LiberationSans-3a\"/>\n      <use x=\"422.351562\" xlink:href=\"#LiberationSans-20\"/>\n      <use x=\"450.134766\" xlink:href=\"#LiberationSans-30\"/>\n      <use x=\"505.75\" xlink:href=\"#LiberationSans-2e\"/>\n      <use x=\"533.533203\" xlink:href=\"#LiberationSans-34\"/>\n     </g>\n    </g>\n    <g id=\"line2d_34\">\n     <path d=\"M 53.065625 106.2525 \nL 73.065625 106.2525 \n\" style=\"fill:none;stroke:#8c564b;stroke-linecap:round;stroke-width:1.5;\"/>\n    </g>\n    <g id=\"line2d_35\"/>\n    <g id=\"text_24\">\n     <!-- Variance: 0.5 -->\n     <g style=\"fill:#262626;\" transform=\"translate(81.065625 109.7525)scale(0.1 -0.1)\">\n      <use xlink:href=\"#LiberationSans-56\"/>\n      <use x=\"66.589844\" xlink:href=\"#LiberationSans-61\"/>\n      <use x=\"122.205078\" xlink:href=\"#LiberationSans-72\"/>\n      <use x=\"155.505859\" xlink:href=\"#LiberationSans-69\"/>\n      <use x=\"177.722656\" xlink:href=\"#LiberationSans-61\"/>\n      <use x=\"233.337891\" xlink:href=\"#LiberationSans-6e\"/>\n      <use x=\"288.953125\" xlink:href=\"#LiberationSans-63\"/>\n      <use x=\"338.953125\" xlink:href=\"#LiberationSans-65\"/>\n      <use x=\"394.568359\" xlink:href=\"#LiberationSans-3a\"/>\n      <use x=\"422.351562\" xlink:href=\"#LiberationSans-20\"/>\n      <use x=\"450.134766\" xlink:href=\"#LiberationSans-30\"/>\n      <use x=\"505.75\" xlink:href=\"#LiberationSans-2e\"/>\n      <use x=\"533.533203\" xlink:href=\"#LiberationSans-35\"/>\n     </g>\n    </g>\n    <g id=\"PathCollection_2\">\n     <g>\n      <use style=\"fill:#1f77b4;stroke:#1f77b4;\" x=\"63.065625\" xlink:href=\"#mbbd1408e3a\" y=\"121.449375\"/>\n     </g>\n    </g>\n    <g id=\"text_25\">\n     <!-- Confirmed Cases -->\n     <g style=\"fill:#262626;\" transform=\"translate(81.065625 124.074375)scale(0.1 -0.1)\">\n      <use xlink:href=\"#LiberationSans-43\"/>\n      <use x=\"72.216797\" xlink:href=\"#LiberationSans-6f\"/>\n      <use x=\"127.832031\" xlink:href=\"#LiberationSans-6e\"/>\n      <use x=\"183.447266\" xlink:href=\"#LiberationSans-66\"/>\n      <use x=\"211.230469\" xlink:href=\"#LiberationSans-69\"/>\n      <use x=\"233.447266\" xlink:href=\"#LiberationSans-72\"/>\n      <use x=\"266.748047\" xlink:href=\"#LiberationSans-6d\"/>\n      <use x=\"350.048828\" xlink:href=\"#LiberationSans-65\"/>\n      <use x=\"405.664062\" xlink:href=\"#LiberationSans-64\"/>\n      <use x=\"461.279297\" xlink:href=\"#LiberationSans-20\"/>\n      <use x=\"489.0625\" xlink:href=\"#LiberationSans-43\"/>\n      <use x=\"561.279297\" xlink:href=\"#LiberationSans-61\"/>\n      <use x=\"616.894531\" xlink:href=\"#LiberationSans-73\"/>\n      <use x=\"666.894531\" xlink:href=\"#LiberationSans-65\"/>\n      <use x=\"722.509766\" xlink:href=\"#LiberationSans-73\"/>\n     </g>\n    </g>\n   </g>\n  </g>\n </g>\n <defs>\n  <clipPath id=\"p0ba9a7f5a8\">\n   <rect height=\"271.8\" width=\"1116\" x=\"44.065625\" y=\"21.89625\"/>\n  </clipPath>\n </defs>\n</svg>\n",
      "text/plain": "<matplotlib.figure.Figure at 0x7f8a3e1ef090>"
     },
     "metadata": {},
     "output_type": "display_data"
    }
   ],
   "source": [
    "rg = np.array(range(100))\n",
    "dr1 = pd.date_range(df.index[0], periods=100)\n",
    "dr2 = pd.date_range(df.index[0], periods=len(df.index))\n",
    "plt.scatter(dr2, y_data, label='Confirmed Cases')\n",
    "for variance in var_dict.keys():\n",
    "    fit_params = var_dict[variance]\n",
    "    plt.plot(dr1, logistic(rg, *fit_params), label='Variance: {}'.format(round(variance, 2)))\n",
    "plt.legend(loc='best')\n",
    "plt.title('Covid-19 Confirmed Cases (without PRC)')"
   ]
  },
  {
   "cell_type": "code",
   "execution_count": 112,
   "metadata": {},
   "outputs": [],
   "source": [
    "scenarios = [1, 2, 5, 10]"
   ]
  },
  {
   "cell_type": "code",
   "execution_count": 113,
   "metadata": {},
   "outputs": [
    {
     "name": "stdout",
     "output_type": "stream",
     "text": "[2.92512138e+01 9.18347738e-02 1.40253374e+05]\n[2.92513024e+01 9.18343916e-02 2.80507579e+05]\n[2.92509948e+01 9.18351775e-02 7.01262295e+05]\n[2.92497382e+01 9.18402064e-02 1.40246645e+06]\n/home/gcd189/.local/lib/python3.7/site-packages/ipykernel_launcher.py:6: RuntimeWarning:\n\noverflow encountered in exp\n\n"
    }
   ],
   "source": [
    "df = TotalCasesLocaggregated.set_index('Date')\n",
    "x_data = np.array(range(len(df.index)))\n",
    "y_data = df['Total Confirmed Cases'].values\n",
    "\n",
    "def logistic(x, a, b, c):\n",
    "     y = c / (1 + np.exp(-b*(x-a)))\n",
    "     return y\n",
    "\n",
    "var_params = []\n",
    "var_dict = {}\n",
    "for scen in scenarios:\n",
    "    y = y_data.copy() * scen\n",
    "    params, params_covariance = optimize.curve_fit(logistic, x_data, y, p0=[100, 0.1, 400000])\n",
    "    var_dict[scen] = params\n",
    "    var_params.append(params)\n",
    "    print(params)"
   ]
  },
  {
   "cell_type": "code",
   "execution_count": 114,
   "metadata": {},
   "outputs": [
    {
     "data": {
      "text/plain": "<matplotlib.text.Text at 0x7f8a399522d0>"
     },
     "execution_count": 114,
     "metadata": {},
     "output_type": "execute_result"
    },
    {
     "data": {
      "image/png": "[encoded data removed]",
      "image/svg+xml": "<?xml version=\"1.0\" encoding=\"utf-8\" standalone=\"no\"?>\n<!DOCTYPE svg PUBLIC \"-//W3C//DTD SVG 1.1//EN\"\n  \"http://www.w3.org/Graphics/SVG/1.1/DTD/svg11.dtd\">\n<!-- Created with matplotlib (http://matplotlib.org/) -->\n<svg height=\"313pt\" version=\"1.1\" viewBox=\"0 0 1172 313\" width=\"1172pt\" xmlns=\"http://www.w3.org/2000/svg\" xmlns:xlink=\"http://www.w3.org/1999/xlink\">\n <defs>\n  <style type=\"text/css\">\n*{stroke-linecap:butt;stroke-linejoin:round;}\n  </style>\n </defs>\n <g id=\"figure_1\">\n  <g id=\"patch_1\">\n   <path d=\"M 0 313.718125 \nL 1172.826563 313.718125 \nL 1172.826563 0 \nL 0 0 \nz\n\" style=\"fill:#ffffff;\"/>\n  </g>\n  <g id=\"axes_1\">\n   <g id=\"patch_2\">\n    <path d=\"M 49.626563 293.69625 \nL 1165.626563 293.69625 \nL 1165.626563 21.89625 \nL 49.626563 21.89625 \nz\n\" style=\"fill:#eaeaf2;\"/>\n   </g>\n   <g id=\"matplotlib.axis_1\">\n    <g id=\"xtick_1\">\n     <g id=\"line2d_1\"/>\n     <g id=\"text_1\">\n      <!-- 2020-01-19 -->\n      <defs>\n       <path d=\"M 5.03125 0 \nL 5.03125 6.203125 \nQ 7.515625 11.921875 11.109375 16.28125 \nQ 14.703125 20.65625 18.65625 24.1875 \nQ 22.609375 27.734375 26.484375 30.765625 \nQ 30.375 33.796875 33.5 36.8125 \nQ 36.625 39.84375 38.546875 43.15625 \nQ 40.484375 46.484375 40.484375 50.6875 \nQ 40.484375 56.34375 37.15625 59.46875 \nQ 33.84375 62.59375 27.9375 62.59375 \nQ 22.3125 62.59375 18.671875 59.546875 \nQ 15.046875 56.5 14.40625 50.984375 \nL 5.421875 51.8125 \nQ 6.390625 60.0625 12.421875 64.9375 \nQ 18.453125 69.828125 27.9375 69.828125 \nQ 38.328125 69.828125 43.921875 64.921875 \nQ 49.515625 60.015625 49.515625 50.984375 \nQ 49.515625 46.96875 47.671875 43.015625 \nQ 45.84375 39.0625 42.234375 35.109375 \nQ 38.625 31.15625 28.421875 22.859375 \nQ 22.796875 18.265625 19.46875 14.578125 \nQ 16.15625 10.890625 14.703125 7.46875 \nL 50.59375 7.46875 \nL 50.59375 0 \nz\n\" id=\"LiberationSans-32\"/>\n       <path d=\"M 51.703125 34.421875 \nQ 51.703125 17.1875 45.625 8.09375 \nQ 39.546875 -0.984375 27.6875 -0.984375 \nQ 15.828125 -0.984375 9.859375 8.046875 \nQ 3.90625 17.09375 3.90625 34.421875 \nQ 3.90625 52.15625 9.6875 60.984375 \nQ 15.484375 69.828125 27.984375 69.828125 \nQ 40.140625 69.828125 45.921875 60.890625 \nQ 51.703125 51.953125 51.703125 34.421875 \nz\nM 42.78125 34.421875 \nQ 42.78125 49.3125 39.328125 56 \nQ 35.890625 62.703125 27.984375 62.703125 \nQ 19.875 62.703125 16.328125 56.109375 \nQ 12.796875 49.515625 12.796875 34.421875 \nQ 12.796875 19.78125 16.375 12.984375 \nQ 19.96875 6.203125 27.78125 6.203125 \nQ 35.546875 6.203125 39.15625 13.125 \nQ 42.78125 20.0625 42.78125 34.421875 \nz\n\" id=\"LiberationSans-30\"/>\n       <path d=\"M 4.4375 22.65625 \nL 4.4375 30.46875 \nL 28.859375 30.46875 \nL 28.859375 22.65625 \nz\n\" id=\"LiberationSans-2d\"/>\n       <path d=\"M 7.625 0 \nL 7.625 7.46875 \nL 25.140625 7.46875 \nL 25.140625 60.40625 \nL 9.625 49.3125 \nL 9.625 57.625 \nL 25.875 68.796875 \nL 33.984375 68.796875 \nL 33.984375 7.46875 \nL 50.734375 7.46875 \nL 50.734375 0 \nz\n\" id=\"LiberationSans-31\"/>\n       <path d=\"M 50.875 35.796875 \nQ 50.875 18.0625 44.40625 8.53125 \nQ 37.9375 -0.984375 25.984375 -0.984375 \nQ 17.921875 -0.984375 13.0625 2.40625 \nQ 8.203125 5.8125 6.109375 13.375 \nL 14.5 14.703125 \nQ 17.140625 6.109375 26.125 6.109375 \nQ 33.6875 6.109375 37.84375 13.140625 \nQ 42 20.171875 42.1875 33.203125 \nQ 40.234375 28.8125 35.5 26.140625 \nQ 30.765625 23.484375 25.09375 23.484375 \nQ 15.828125 23.484375 10.25 29.828125 \nQ 4.6875 36.1875 4.6875 46.6875 \nQ 4.6875 57.46875 10.734375 63.640625 \nQ 16.796875 69.828125 27.59375 69.828125 \nQ 39.0625 69.828125 44.96875 61.328125 \nQ 50.875 52.828125 50.875 35.796875 \nz\nM 41.3125 44.28125 \nQ 41.3125 52.59375 37.5 57.640625 \nQ 33.6875 62.703125 27.296875 62.703125 \nQ 20.953125 62.703125 17.28125 58.375 \nQ 13.625 54.046875 13.625 46.6875 \nQ 13.625 39.15625 17.28125 34.78125 \nQ 20.953125 30.421875 27.203125 30.421875 \nQ 31 30.421875 34.265625 32.15625 \nQ 37.546875 33.890625 39.421875 37.0625 \nQ 41.3125 40.234375 41.3125 44.28125 \nz\n\" id=\"LiberationSans-39\"/>\n      </defs>\n      <g style=\"fill:#262626;\" transform=\"translate(44.036596 304.443125)scale(0.1 -0.1)\">\n       <use xlink:href=\"#LiberationSans-32\"/>\n       <use x=\"55.615234\" xlink:href=\"#LiberationSans-30\"/>\n       <use x=\"111.230469\" xlink:href=\"#LiberationSans-32\"/>\n       <use x=\"166.845703\" xlink:href=\"#LiberationSans-30\"/>\n       <use x=\"222.460938\" xlink:href=\"#LiberationSans-2d\"/>\n       <use x=\"255.761719\" xlink:href=\"#LiberationSans-30\"/>\n       <use x=\"311.376953\" xlink:href=\"#LiberationSans-31\"/>\n       <use x=\"366.992188\" xlink:href=\"#LiberationSans-2d\"/>\n       <use x=\"400.292969\" xlink:href=\"#LiberationSans-31\"/>\n       <use x=\"455.908203\" xlink:href=\"#LiberationSans-39\"/>\n      </g>\n     </g>\n    </g>\n    <g id=\"xtick_2\">\n     <g id=\"line2d_2\"/>\n     <g id=\"text_2\">\n      <!-- 2020-02-02 -->\n      <g style=\"fill:#262626;\" transform=\"translate(187.50767 304.443125)scale(0.1 -0.1)\">\n       <use xlink:href=\"#LiberationSans-32\"/>\n       <use x=\"55.615234\" xlink:href=\"#LiberationSans-30\"/>\n       <use x=\"111.230469\" xlink:href=\"#LiberationSans-32\"/>\n       <use x=\"166.845703\" xlink:href=\"#LiberationSans-30\"/>\n       <use x=\"222.460938\" xlink:href=\"#LiberationSans-2d\"/>\n       <use x=\"255.761719\" xlink:href=\"#LiberationSans-30\"/>\n       <use x=\"311.376953\" xlink:href=\"#LiberationSans-32\"/>\n       <use x=\"366.992188\" xlink:href=\"#LiberationSans-2d\"/>\n       <use x=\"400.292969\" xlink:href=\"#LiberationSans-30\"/>\n       <use x=\"455.908203\" xlink:href=\"#LiberationSans-32\"/>\n      </g>\n     </g>\n    </g>\n    <g id=\"xtick_3\">\n     <g id=\"line2d_3\"/>\n     <g id=\"text_3\">\n      <!-- 2020-02-16 -->\n      <defs>\n       <path d=\"M 51.21875 22.515625 \nQ 51.21875 11.625 45.3125 5.3125 \nQ 39.40625 -0.984375 29 -0.984375 \nQ 17.390625 -0.984375 11.234375 7.65625 \nQ 5.078125 16.3125 5.078125 32.8125 \nQ 5.078125 50.6875 11.46875 60.25 \nQ 17.875 69.828125 29.6875 69.828125 \nQ 45.265625 69.828125 49.3125 55.8125 \nL 40.921875 54.296875 \nQ 38.328125 62.703125 29.59375 62.703125 \nQ 22.078125 62.703125 17.9375 55.6875 \nQ 13.8125 48.6875 13.8125 35.40625 \nQ 16.21875 39.84375 20.5625 42.15625 \nQ 24.90625 44.484375 30.515625 44.484375 \nQ 40.046875 44.484375 45.625 38.515625 \nQ 51.21875 32.5625 51.21875 22.515625 \nz\nM 42.28125 22.125 \nQ 42.28125 29.59375 38.625 33.640625 \nQ 34.96875 37.703125 28.421875 37.703125 \nQ 22.265625 37.703125 18.484375 34.109375 \nQ 14.703125 30.515625 14.703125 24.21875 \nQ 14.703125 16.265625 18.625 11.1875 \nQ 22.5625 6.109375 28.71875 6.109375 \nQ 35.0625 6.109375 38.671875 10.375 \nQ 42.28125 14.65625 42.28125 22.125 \nz\n\" id=\"LiberationSans-36\"/>\n      </defs>\n      <g style=\"fill:#262626;\" transform=\"translate(330.978745 304.443125)scale(0.1 -0.1)\">\n       <use xlink:href=\"#LiberationSans-32\"/>\n       <use x=\"55.615234\" xlink:href=\"#LiberationSans-30\"/>\n       <use x=\"111.230469\" xlink:href=\"#LiberationSans-32\"/>\n       <use x=\"166.845703\" xlink:href=\"#LiberationSans-30\"/>\n       <use x=\"222.460938\" xlink:href=\"#LiberationSans-2d\"/>\n       <use x=\"255.761719\" xlink:href=\"#LiberationSans-30\"/>\n       <use x=\"311.376953\" xlink:href=\"#LiberationSans-32\"/>\n       <use x=\"366.992188\" xlink:href=\"#LiberationSans-2d\"/>\n       <use x=\"400.292969\" xlink:href=\"#LiberationSans-31\"/>\n       <use x=\"455.908203\" xlink:href=\"#LiberationSans-36\"/>\n      </g>\n     </g>\n    </g>\n    <g id=\"xtick_4\">\n     <g id=\"line2d_4\"/>\n     <g id=\"text_4\">\n      <!-- 2020-03-01 -->\n      <defs>\n       <path d=\"M 51.21875 19 \nQ 51.21875 9.46875 45.15625 4.234375 \nQ 39.109375 -0.984375 27.875 -0.984375 \nQ 17.4375 -0.984375 11.203125 3.734375 \nQ 4.984375 8.453125 3.8125 17.671875 \nL 12.890625 18.5 \nQ 14.65625 6.296875 27.875 6.296875 \nQ 34.515625 6.296875 38.296875 9.5625 \nQ 42.09375 12.84375 42.09375 19.28125 \nQ 42.09375 24.90625 37.765625 28.046875 \nQ 33.453125 31.203125 25.296875 31.203125 \nL 20.3125 31.203125 \nL 20.3125 38.8125 \nL 25.09375 38.8125 \nQ 32.328125 38.8125 36.296875 41.96875 \nQ 40.28125 45.125 40.28125 50.6875 \nQ 40.28125 56.203125 37.03125 59.390625 \nQ 33.796875 62.59375 27.390625 62.59375 \nQ 21.578125 62.59375 17.984375 59.609375 \nQ 14.40625 56.640625 13.8125 51.21875 \nL 4.984375 51.90625 \nQ 5.953125 60.359375 11.984375 65.09375 \nQ 18.015625 69.828125 27.484375 69.828125 \nQ 37.84375 69.828125 43.578125 65.015625 \nQ 49.3125 60.203125 49.3125 51.609375 \nQ 49.3125 45.015625 45.625 40.890625 \nQ 41.9375 36.765625 34.90625 35.296875 \nL 34.90625 35.109375 \nQ 42.625 34.28125 46.921875 29.9375 \nQ 51.21875 25.59375 51.21875 19 \nz\n\" id=\"LiberationSans-33\"/>\n      </defs>\n      <g style=\"fill:#262626;\" transform=\"translate(474.449819 304.443125)scale(0.1 -0.1)\">\n       <use xlink:href=\"#LiberationSans-32\"/>\n       <use x=\"55.615234\" xlink:href=\"#LiberationSans-30\"/>\n       <use x=\"111.230469\" xlink:href=\"#LiberationSans-32\"/>\n       <use x=\"166.845703\" xlink:href=\"#LiberationSans-30\"/>\n       <use x=\"222.460938\" xlink:href=\"#LiberationSans-2d\"/>\n       <use x=\"255.761719\" xlink:href=\"#LiberationSans-30\"/>\n       <use x=\"311.376953\" xlink:href=\"#LiberationSans-33\"/>\n       <use x=\"366.992188\" xlink:href=\"#LiberationSans-2d\"/>\n       <use x=\"400.292969\" xlink:href=\"#LiberationSans-30\"/>\n       <use x=\"455.908203\" xlink:href=\"#LiberationSans-31\"/>\n      </g>\n     </g>\n    </g>\n    <g id=\"xtick_5\">\n     <g id=\"line2d_5\"/>\n     <g id=\"text_5\">\n      <!-- 2020-03-15 -->\n      <defs>\n       <path d=\"M 51.421875 22.40625 \nQ 51.421875 11.53125 44.953125 5.265625 \nQ 38.484375 -0.984375 27 -0.984375 \nQ 17.390625 -0.984375 11.46875 3.21875 \nQ 5.5625 7.421875 4 15.375 \nL 12.890625 16.40625 \nQ 15.671875 6.203125 27.203125 6.203125 \nQ 34.28125 6.203125 38.28125 10.46875 \nQ 42.28125 14.75 42.28125 22.21875 \nQ 42.28125 28.71875 38.25 32.71875 \nQ 34.234375 36.71875 27.390625 36.71875 \nQ 23.828125 36.71875 20.75 35.59375 \nQ 17.671875 34.46875 14.59375 31.78125 \nL 6 31.78125 \nL 8.296875 68.796875 \nL 47.40625 68.796875 \nL 47.40625 61.328125 \nL 16.3125 61.328125 \nL 14.984375 39.5 \nQ 20.703125 43.890625 29.203125 43.890625 \nQ 39.359375 43.890625 45.390625 37.9375 \nQ 51.421875 31.984375 51.421875 22.40625 \nz\n\" id=\"LiberationSans-35\"/>\n      </defs>\n      <g style=\"fill:#262626;\" transform=\"translate(617.920894 304.443125)scale(0.1 -0.1)\">\n       <use xlink:href=\"#LiberationSans-32\"/>\n       <use x=\"55.615234\" xlink:href=\"#LiberationSans-30\"/>\n       <use x=\"111.230469\" xlink:href=\"#LiberationSans-32\"/>\n       <use x=\"166.845703\" xlink:href=\"#LiberationSans-30\"/>\n       <use x=\"222.460938\" xlink:href=\"#LiberationSans-2d\"/>\n       <use x=\"255.761719\" xlink:href=\"#LiberationSans-30\"/>\n       <use x=\"311.376953\" xlink:href=\"#LiberationSans-33\"/>\n       <use x=\"366.992188\" xlink:href=\"#LiberationSans-2d\"/>\n       <use x=\"400.292969\" xlink:href=\"#LiberationSans-31\"/>\n       <use x=\"455.908203\" xlink:href=\"#LiberationSans-35\"/>\n      </g>\n     </g>\n    </g>\n    <g id=\"xtick_6\">\n     <g id=\"line2d_6\"/>\n     <g id=\"text_6\">\n      <!-- 2020-03-29 -->\n      <g style=\"fill:#262626;\" transform=\"translate(761.391968 304.443125)scale(0.1 -0.1)\">\n       <use xlink:href=\"#LiberationSans-32\"/>\n       <use x=\"55.615234\" xlink:href=\"#LiberationSans-30\"/>\n       <use x=\"111.230469\" xlink:href=\"#LiberationSans-32\"/>\n       <use x=\"166.845703\" xlink:href=\"#LiberationSans-30\"/>\n       <use x=\"222.460938\" xlink:href=\"#LiberationSans-2d\"/>\n       <use x=\"255.761719\" xlink:href=\"#LiberationSans-30\"/>\n       <use x=\"311.376953\" xlink:href=\"#LiberationSans-33\"/>\n       <use x=\"366.992188\" xlink:href=\"#LiberationSans-2d\"/>\n       <use x=\"400.292969\" xlink:href=\"#LiberationSans-32\"/>\n       <use x=\"455.908203\" xlink:href=\"#LiberationSans-39\"/>\n      </g>\n     </g>\n    </g>\n    <g id=\"xtick_7\">\n     <g id=\"line2d_7\"/>\n     <g id=\"text_7\">\n      <!-- 2020-04-12 -->\n      <defs>\n       <path d=\"M 43.015625 15.578125 \nL 43.015625 0 \nL 34.71875 0 \nL 34.71875 15.578125 \nL 2.296875 15.578125 \nL 2.296875 22.40625 \nL 33.796875 68.796875 \nL 43.015625 68.796875 \nL 43.015625 22.515625 \nL 52.6875 22.515625 \nL 52.6875 15.578125 \nz\nM 34.71875 58.890625 \nQ 34.625 58.59375 33.34375 56.296875 \nQ 32.078125 54 31.453125 53.078125 \nL 13.8125 27.09375 \nL 11.1875 23.484375 \nL 10.40625 22.515625 \nL 34.71875 22.515625 \nz\n\" id=\"LiberationSans-34\"/>\n      </defs>\n      <g style=\"fill:#262626;\" transform=\"translate(904.863042 304.443125)scale(0.1 -0.1)\">\n       <use xlink:href=\"#LiberationSans-32\"/>\n       <use x=\"55.615234\" xlink:href=\"#LiberationSans-30\"/>\n       <use x=\"111.230469\" xlink:href=\"#LiberationSans-32\"/>\n       <use x=\"166.845703\" xlink:href=\"#LiberationSans-30\"/>\n       <use x=\"222.460938\" xlink:href=\"#LiberationSans-2d\"/>\n       <use x=\"255.761719\" xlink:href=\"#LiberationSans-30\"/>\n       <use x=\"311.376953\" xlink:href=\"#LiberationSans-34\"/>\n       <use x=\"366.992188\" xlink:href=\"#LiberationSans-2d\"/>\n       <use x=\"400.292969\" xlink:href=\"#LiberationSans-31\"/>\n       <use x=\"455.908203\" xlink:href=\"#LiberationSans-32\"/>\n      </g>\n     </g>\n    </g>\n    <g id=\"xtick_8\">\n     <g id=\"line2d_8\"/>\n     <g id=\"text_8\">\n      <!-- 2020-04-26 -->\n      <g style=\"fill:#262626;\" transform=\"translate(1048.334117 304.443125)scale(0.1 -0.1)\">\n       <use xlink:href=\"#LiberationSans-32\"/>\n       <use x=\"55.615234\" xlink:href=\"#LiberationSans-30\"/>\n       <use x=\"111.230469\" xlink:href=\"#LiberationSans-32\"/>\n       <use x=\"166.845703\" xlink:href=\"#LiberationSans-30\"/>\n       <use x=\"222.460938\" xlink:href=\"#LiberationSans-2d\"/>\n       <use x=\"255.761719\" xlink:href=\"#LiberationSans-30\"/>\n       <use x=\"311.376953\" xlink:href=\"#LiberationSans-34\"/>\n       <use x=\"366.992188\" xlink:href=\"#LiberationSans-2d\"/>\n       <use x=\"400.292969\" xlink:href=\"#LiberationSans-32\"/>\n       <use x=\"455.908203\" xlink:href=\"#LiberationSans-36\"/>\n      </g>\n     </g>\n    </g>\n   </g>\n   <g id=\"matplotlib.axis_2\">\n    <g id=\"ytick_1\">\n     <g id=\"line2d_9\"/>\n     <g id=\"text_9\">\n      <!-- 0 -->\n      <g style=\"fill:#262626;\" transform=\"translate(40.565625 286.554115)scale(0.1 -0.1)\">\n       <use xlink:href=\"#LiberationSans-30\"/>\n      </g>\n     </g>\n    </g>\n    <g id=\"ytick_2\">\n     <g id=\"line2d_10\"/>\n     <g id=\"text_10\">\n      <!-- 200000 -->\n      <g style=\"fill:#262626;\" transform=\"translate(12.760938 251.032316)scale(0.1 -0.1)\">\n       <use xlink:href=\"#LiberationSans-32\"/>\n       <use x=\"55.615234\" xlink:href=\"#LiberationSans-30\"/>\n       <use x=\"111.230469\" xlink:href=\"#LiberationSans-30\"/>\n       <use x=\"166.845703\" xlink:href=\"#LiberationSans-30\"/>\n       <use x=\"222.460938\" xlink:href=\"#LiberationSans-30\"/>\n       <use x=\"278.076172\" xlink:href=\"#LiberationSans-30\"/>\n      </g>\n     </g>\n    </g>\n    <g id=\"ytick_3\">\n     <g id=\"line2d_11\"/>\n     <g id=\"text_11\">\n      <!-- 400000 -->\n      <g style=\"fill:#262626;\" transform=\"translate(12.760938 215.510517)scale(0.1 -0.1)\">\n       <use xlink:href=\"#LiberationSans-34\"/>\n       <use x=\"55.615234\" xlink:href=\"#LiberationSans-30\"/>\n       <use x=\"111.230469\" xlink:href=\"#LiberationSans-30\"/>\n       <use x=\"166.845703\" xlink:href=\"#LiberationSans-30\"/>\n       <use x=\"222.460938\" xlink:href=\"#LiberationSans-30\"/>\n       <use x=\"278.076172\" xlink:href=\"#LiberationSans-30\"/>\n      </g>\n     </g>\n    </g>\n    <g id=\"ytick_4\">\n     <g id=\"line2d_12\"/>\n     <g id=\"text_12\">\n      <!-- 600000 -->\n      <g style=\"fill:#262626;\" transform=\"translate(12.760938 179.988719)scale(0.1 -0.1)\">\n       <use xlink:href=\"#LiberationSans-36\"/>\n       <use x=\"55.615234\" xlink:href=\"#LiberationSans-30\"/>\n       <use x=\"111.230469\" xlink:href=\"#LiberationSans-30\"/>\n       <use x=\"166.845703\" xlink:href=\"#LiberationSans-30\"/>\n       <use x=\"222.460938\" xlink:href=\"#LiberationSans-30\"/>\n       <use x=\"278.076172\" xlink:href=\"#LiberationSans-30\"/>\n      </g>\n     </g>\n    </g>\n    <g id=\"ytick_5\">\n     <g id=\"line2d_13\"/>\n     <g id=\"text_13\">\n      <!-- 800000 -->\n      <defs>\n       <path d=\"M 51.265625 19.1875 \nQ 51.265625 9.671875 45.203125 4.34375 \nQ 39.15625 -0.984375 27.828125 -0.984375 \nQ 16.796875 -0.984375 10.5625 4.234375 \nQ 4.34375 9.46875 4.34375 19.09375 \nQ 4.34375 25.828125 8.203125 30.421875 \nQ 12.0625 35.015625 18.0625 35.984375 \nL 18.0625 36.1875 \nQ 12.453125 37.5 9.203125 41.890625 \nQ 5.953125 46.296875 5.953125 52.203125 \nQ 5.953125 60.0625 11.828125 64.9375 \nQ 17.71875 69.828125 27.640625 69.828125 \nQ 37.796875 69.828125 43.671875 65.03125 \nQ 49.5625 60.25 49.5625 52.09375 \nQ 49.5625 46.1875 46.28125 41.796875 \nQ 43.015625 37.40625 37.359375 36.28125 \nL 37.359375 36.078125 \nQ 43.953125 35.015625 47.609375 30.5 \nQ 51.265625 25.984375 51.265625 19.1875 \nz\nM 40.4375 51.609375 \nQ 40.4375 63.28125 27.640625 63.28125 \nQ 21.4375 63.28125 18.1875 60.34375 \nQ 14.9375 57.421875 14.9375 51.609375 \nQ 14.9375 45.703125 18.28125 42.59375 \nQ 21.625 39.5 27.734375 39.5 \nQ 33.9375 39.5 37.1875 42.359375 \nQ 40.4375 45.21875 40.4375 51.609375 \nz\nM 42.140625 20.015625 \nQ 42.140625 26.421875 38.328125 29.65625 \nQ 34.515625 32.90625 27.640625 32.90625 \nQ 20.953125 32.90625 17.1875 29.40625 \nQ 13.421875 25.921875 13.421875 19.828125 \nQ 13.421875 5.609375 27.9375 5.609375 \nQ 35.109375 5.609375 38.625 9.046875 \nQ 42.140625 12.5 42.140625 20.015625 \nz\n\" id=\"LiberationSans-38\"/>\n      </defs>\n      <g style=\"fill:#262626;\" transform=\"translate(12.760938 144.46692)scale(0.1 -0.1)\">\n       <use xlink:href=\"#LiberationSans-38\"/>\n       <use x=\"55.615234\" xlink:href=\"#LiberationSans-30\"/>\n       <use x=\"111.230469\" xlink:href=\"#LiberationSans-30\"/>\n       <use x=\"166.845703\" xlink:href=\"#LiberationSans-30\"/>\n       <use x=\"222.460938\" xlink:href=\"#LiberationSans-30\"/>\n       <use x=\"278.076172\" xlink:href=\"#LiberationSans-30\"/>\n      </g>\n     </g>\n    </g>\n    <g id=\"ytick_6\">\n     <g id=\"line2d_14\"/>\n     <g id=\"text_14\">\n      <!-- 1000000 -->\n      <g style=\"fill:#262626;\" transform=\"translate(7.2 108.945121)scale(0.1 -0.1)\">\n       <use xlink:href=\"#LiberationSans-31\"/>\n       <use x=\"55.615234\" xlink:href=\"#LiberationSans-30\"/>\n       <use x=\"111.230469\" xlink:href=\"#LiberationSans-30\"/>\n       <use x=\"166.845703\" xlink:href=\"#LiberationSans-30\"/>\n       <use x=\"222.460938\" xlink:href=\"#LiberationSans-30\"/>\n       <use x=\"278.076172\" xlink:href=\"#LiberationSans-30\"/>\n       <use x=\"333.691406\" xlink:href=\"#LiberationSans-30\"/>\n      </g>\n     </g>\n    </g>\n    <g id=\"ytick_7\">\n     <g id=\"line2d_15\"/>\n     <g id=\"text_15\">\n      <!-- 1200000 -->\n      <g style=\"fill:#262626;\" transform=\"translate(7.2 73.423322)scale(0.1 -0.1)\">\n       <use xlink:href=\"#LiberationSans-31\"/>\n       <use x=\"55.615234\" xlink:href=\"#LiberationSans-32\"/>\n       <use x=\"111.230469\" xlink:href=\"#LiberationSans-30\"/>\n       <use x=\"166.845703\" xlink:href=\"#LiberationSans-30\"/>\n       <use x=\"222.460938\" xlink:href=\"#LiberationSans-30\"/>\n       <use x=\"278.076172\" xlink:href=\"#LiberationSans-30\"/>\n       <use x=\"333.691406\" xlink:href=\"#LiberationSans-30\"/>\n      </g>\n     </g>\n    </g>\n    <g id=\"ytick_8\">\n     <g id=\"line2d_16\"/>\n     <g id=\"text_16\">\n      <!-- 1400000 -->\n      <g style=\"fill:#262626;\" transform=\"translate(7.2 37.901523)scale(0.1 -0.1)\">\n       <use xlink:href=\"#LiberationSans-31\"/>\n       <use x=\"55.615234\" xlink:href=\"#LiberationSans-34\"/>\n       <use x=\"111.230469\" xlink:href=\"#LiberationSans-30\"/>\n       <use x=\"166.845703\" xlink:href=\"#LiberationSans-30\"/>\n       <use x=\"222.460938\" xlink:href=\"#LiberationSans-30\"/>\n       <use x=\"278.076172\" xlink:href=\"#LiberationSans-30\"/>\n       <use x=\"333.691406\" xlink:href=\"#LiberationSans-30\"/>\n      </g>\n     </g>\n    </g>\n   </g>\n   <g id=\"line2d_17\">\n    <path clip-path=\"url(#p359b9a81fb)\" d=\"M 100.353835 281.341705 \nL 110.601769 281.199493 \nL 120.849703 281.045582 \nL 131.097637 280.879199 \nL 141.345571 280.699553 \nL 151.593505 280.505845 \nL 161.841439 280.297271 \nL 172.089372 280.073037 \nL 182.337306 279.832365 \nL 192.58524 279.574509 \nL 202.833174 279.298766 \nL 213.081108 279.004494 \nL 223.329042 278.69113 \nL 233.576976 278.358205 \nL 243.82491 278.005366 \nL 254.072843 277.632392 \nL 264.320777 277.239218 \nL 274.568711 276.825949 \nL 284.816645 276.39288 \nL 295.064579 275.940509 \nL 305.312513 275.469549 \nL 315.560447 274.980934 \nL 325.808381 274.475825 \nL 336.056315 273.955606 \nL 346.304248 273.421874 \nL 356.552182 272.876429 \nL 366.800116 272.321248 \nL 377.04805 271.758466 \nL 387.295984 271.190339 \nL 397.543918 270.619212 \nL 407.791852 270.04748 \nL 418.039786 269.477548 \nL 428.28772 268.911792 \nL 438.535653 268.352517 \nL 448.783587 267.801923 \nL 459.031521 267.26207 \nL 469.279455 266.734849 \nL 479.527389 266.221961 \nL 489.775323 265.7249 \nL 500.023257 265.244939 \nL 510.271191 264.783125 \nL 520.519124 264.340283 \nL 530.767058 263.917017 \nL 541.014992 263.513722 \nL 551.262926 263.130597 \nL 561.51086 262.767659 \nL 571.758794 262.424765 \nL 582.006728 262.101625 \nL 592.254662 261.797826 \nL 602.502596 261.512849 \nL 612.750529 261.24609 \nL 622.998463 260.996875 \nL 633.246397 260.764478 \nL 643.494331 260.548135 \nL 653.742265 260.347058 \nL 663.990199 260.160447 \nL 674.238133 259.9875 \nL 684.486067 259.827421 \nL 694.734001 259.679426 \nL 704.981934 259.542754 \nL 715.229868 259.416665 \nL 725.477802 259.300448 \nL 735.725736 259.193421 \nL 745.97367 259.094937 \nL 756.221604 259.004378 \nL 766.469538 258.921163 \nL 776.717472 258.844744 \nL 786.965405 258.774604 \nL 797.213339 258.710261 \nL 807.461273 258.651264 \nL 817.709207 258.597192 \nL 827.957141 258.547655 \nL 838.205075 258.502288 \nL 848.453009 258.460754 \nL 858.700943 258.422741 \nL 868.948877 258.38796 \nL 879.19681 258.356145 \nL 889.444744 258.32705 \nL 899.692678 258.300447 \nL 909.940612 258.276128 \nL 920.188546 258.253901 \nL 930.43648 258.23359 \nL 940.684414 258.215031 \nL 950.932348 258.198077 \nL 961.180282 258.18259 \nL 971.428215 258.168444 \nL 981.676149 258.155526 \nL 991.924083 258.14373 \nL 1002.172017 258.132959 \nL 1012.419951 258.123125 \nL 1022.667885 258.114147 \nL 1032.915819 258.105951 \nL 1043.163753 258.098469 \nL 1053.411686 258.09164 \nL 1063.65962 258.085407 \nL 1073.907554 258.079718 \nL 1084.155488 258.074526 \nL 1094.403422 258.069788 \nL 1104.651356 258.065463 \nL 1114.89929 258.061517 \n\" style=\"fill:none;stroke:#1f77b4;stroke-linecap:round;stroke-width:1.5;\"/>\n   </g>\n   <g id=\"line2d_18\">\n    <path clip-path=\"url(#p359b9a81fb)\" d=\"M 100.353835 279.752713 \nL 110.601769 279.468289 \nL 120.849703 279.160467 \nL 131.097637 278.8277 \nL 141.345571 278.468409 \nL 151.593505 278.080992 \nL 161.841439 277.663846 \nL 172.089372 277.215378 \nL 182.337306 276.734035 \nL 192.58524 276.218323 \nL 202.833174 275.666837 \nL 213.081108 275.078295 \nL 223.329042 274.451568 \nL 233.576976 273.78572 \nL 243.82491 273.080042 \nL 254.072843 272.334097 \nL 264.320777 271.547751 \nL 274.568711 270.721216 \nL 284.816645 269.855081 \nL 295.064579 268.950342 \nL 305.312513 268.008423 \nL 315.560447 267.031196 \nL 325.808381 266.020982 \nL 336.056315 264.980546 \nL 346.304248 263.913086 \nL 356.552182 262.822198 \nL 366.800116 261.71184 \nL 377.04805 260.586278 \nL 387.295984 259.450026 \nL 397.543918 258.307773 \nL 407.791852 257.164311 \nL 418.039786 256.024448 \nL 428.28772 254.892936 \nL 438.535653 253.774387 \nL 448.783587 252.673197 \nL 459.031521 251.593489 \nL 469.279455 250.539045 \nL 479.527389 249.513268 \nL 489.775323 248.519143 \nL 500.023257 247.559217 \nL 510.271191 246.635585 \nL 520.519124 245.749896 \nL 530.767058 244.90336 \nL 541.014992 244.096765 \nL 551.262926 243.33051 \nL 561.51086 242.604631 \nL 571.758794 241.918837 \nL 582.006728 241.272551 \nL 592.254662 240.664947 \nL 602.502596 240.094988 \nL 612.750529 239.561464 \nL 622.998463 239.063029 \nL 633.246397 238.598229 \nL 643.494331 238.165538 \nL 653.742265 237.763379 \nL 663.990199 237.390153 \nL 674.238133 237.044253 \nL 684.486067 236.72409 \nL 694.734001 236.428097 \nL 704.981934 236.154748 \nL 715.229868 235.902566 \nL 725.477802 235.670127 \nL 735.725736 235.456071 \nL 745.97367 235.259098 \nL 756.221604 235.077978 \nL 766.469538 234.911545 \nL 776.717472 234.758702 \nL 786.965405 234.61842 \nL 797.213339 234.489731 \nL 807.461273 234.371735 \nL 817.709207 234.26359 \nL 827.957141 234.164513 \nL 838.205075 234.073776 \nL 848.453009 233.990707 \nL 858.700943 233.914679 \nL 868.948877 233.845116 \nL 879.19681 233.781484 \nL 889.444744 233.723292 \nL 899.692678 233.670085 \nL 909.940612 233.621446 \nL 920.188546 233.576991 \nL 930.43648 233.536367 \nL 940.684414 233.499249 \nL 950.932348 233.465339 \nL 961.180282 233.434364 \nL 971.428215 233.406073 \nL 981.676149 233.380236 \nL 991.924083 233.356643 \nL 1002.172017 233.3351 \nL 1012.419951 233.315431 \nL 1022.667885 233.297474 \nL 1032.915819 233.281082 \nL 1043.163753 233.266118 \nL 1053.411686 233.25246 \nL 1063.65962 233.239993 \nL 1073.907554 233.228615 \nL 1084.155488 233.218231 \nL 1094.403422 233.208754 \nL 1104.651356 233.200105 \nL 1114.89929 233.192213 \n\" style=\"fill:none;stroke:#ff7f0e;stroke-linecap:round;stroke-width:1.5;\"/>\n   </g>\n   <g id=\"line2d_19\">\n    <path clip-path=\"url(#p359b9a81fb)\" d=\"M 100.353835 274.985802 \nL 110.601769 274.274739 \nL 120.849703 273.50518 \nL 131.097637 272.673259 \nL 141.345571 271.775026 \nL 151.593505 270.806478 \nL 161.841439 269.763605 \nL 172.089372 268.642428 \nL 182.337306 267.439061 \nL 192.58524 266.149771 \nL 202.833174 264.771045 \nL 213.081108 263.299678 \nL 223.329042 261.732847 \nL 233.576976 260.068211 \nL 243.82491 258.304002 \nL 254.072843 256.439122 \nL 264.320777 254.47324 \nL 274.568711 252.406885 \nL 284.816645 250.241529 \nL 295.064579 247.979662 \nL 305.312513 245.624848 \nL 315.560447 243.181762 \nL 325.808381 240.656209 \nL 336.056315 238.055105 \nL 346.304248 235.38644 \nL 356.552182 232.659209 \nL 366.800116 229.883304 \nL 377.04805 227.069393 \nL 387.295984 224.228759 \nL 397.543918 221.373127 \nL 407.791852 218.514474 \nL 418.039786 215.664826 \nL 428.28772 212.836058 \nL 438.535653 210.039698 \nL 448.783587 207.286745 \nL 459.031521 204.587497 \nL 469.279455 201.951415 \nL 479.527389 199.387002 \nL 489.775323 196.901723 \nL 500.023257 194.501943 \nL 510.271191 192.192903 \nL 520.519124 189.978722 \nL 530.767058 187.862424 \nL 541.014992 185.845982 \nL 551.262926 183.93039 \nL 561.51086 182.115736 \nL 571.758794 180.401297 \nL 582.006728 178.785628 \nL 592.254662 177.266664 \nL 602.502596 175.841812 \nL 612.750529 174.508048 \nL 622.998463 173.262002 \nL 633.246397 172.100045 \nL 643.494331 171.018357 \nL 653.742265 170.012999 \nL 663.990199 169.079971 \nL 674.238133 168.215259 \nL 684.486067 167.414884 \nL 694.734001 166.674934 \nL 704.981934 165.991593 \nL 715.229868 165.361167 \nL 725.477802 164.7801 \nL 735.725736 164.244985 \nL 745.97367 163.752578 \nL 756.221604 163.2998 \nL 766.469538 162.88374 \nL 776.717472 162.501654 \nL 786.965405 162.150966 \nL 797.213339 161.829264 \nL 807.461273 161.53429 \nL 817.709207 161.263943 \nL 827.957141 161.016264 \nL 838.205075 160.789437 \nL 848.453009 160.581775 \nL 858.700943 160.391718 \nL 868.948877 160.217821 \nL 879.19681 160.058752 \nL 889.444744 159.91328 \nL 899.692678 159.780272 \nL 909.940612 159.658683 \nL 920.188546 159.547553 \nL 930.43648 159.446 \nL 940.684414 159.353211 \nL 950.932348 159.268443 \nL 961.180282 159.191011 \nL 971.428215 159.120288 \nL 981.676149 159.0557 \nL 991.924083 158.996721 \nL 1002.172017 158.942868 \nL 1012.419951 158.893699 \nL 1022.667885 158.848811 \nL 1032.915819 158.807833 \nL 1043.163753 158.770427 \nL 1053.411686 158.736283 \nL 1063.65962 158.705119 \nL 1073.907554 158.676676 \nL 1084.155488 158.650717 \nL 1094.403422 158.627027 \nL 1104.651356 158.605407 \nL 1114.89929 158.585678 \n\" style=\"fill:none;stroke:#2ca02c;stroke-linecap:round;stroke-width:1.5;\"/>\n   </g>\n   <g id=\"line2d_20\">\n    <path clip-path=\"url(#p359b9a81fb)\" d=\"M 100.353835 267.042057 \nL 110.601769 265.619948 \nL 120.849703 264.080841 \nL 131.097637 262.417004 \nL 141.345571 260.620533 \nL 151.593505 258.683427 \nL 161.841439 256.597659 \nL 172.089372 254.355275 \nL 182.337306 251.948498 \nL 192.58524 249.369861 \nL 202.833174 246.612341 \nL 213.081108 243.669524 \nL 223.329042 240.535765 \nL 233.576976 237.206383 \nL 243.82491 233.677838 \nL 254.072843 229.947938 \nL 264.320777 226.01602 \nL 274.568711 221.883143 \nL 284.816645 217.552254 \nL 295.064579 213.028333 \nL 305.312513 208.31851 \nL 315.560447 203.432142 \nL 325.808381 198.380836 \nL 336.056315 193.178431 \nL 346.304248 187.840912 \nL 356.552182 182.386269 \nL 366.800116 176.834295 \nL 377.04805 171.206326 \nL 387.295984 165.524934 \nL 397.543918 159.813573 \nL 407.791852 154.096198 \nL 418.039786 148.396866 \nL 428.28772 142.739328 \nL 438.535653 137.146644 \nL 448.783587 131.640809 \nL 459.031521 126.242423 \nL 469.279455 120.970404 \nL 479.527389 115.841761 \nL 489.775323 110.871419 \nL 500.023257 106.072106 \nL 510.271191 101.454302 \nL 520.519124 97.026244 \nL 530.767058 92.793972 \nL 541.014992 88.761433 \nL 551.262926 84.930609 \nL 561.51086 81.301675 \nL 571.758794 77.873179 \nL 582.006728 74.642229 \nL 592.254662 71.604691 \nL 602.502596 68.755377 \nL 612.750529 66.088236 \nL 622.998463 63.596528 \nL 633.246397 61.27299 \nL 643.494331 59.109981 \nL 653.742265 57.099623 \nL 663.990199 55.233912 \nL 674.238133 53.504823 \nL 684.486067 51.904395 \nL 694.734001 50.424803 \nL 704.981934 49.058416 \nL 715.229868 47.797845 \nL 725.477802 46.635977 \nL 735.725736 45.566001 \nL 745.97367 44.581428 \nL 756.221604 43.676098 \nL 766.469538 42.844191 \nL 776.717472 42.080221 \nL 786.965405 41.379036 \nL 797.213339 40.735808 \nL 807.461273 40.146028 \nL 817.709207 39.605489 \nL 827.957141 39.110279 \nL 838.205075 38.656761 \nL 848.453009 38.241565 \nL 858.700943 37.86157 \nL 868.948877 37.513887 \nL 879.19681 37.195852 \nL 889.444744 36.905004 \nL 899.692678 36.639077 \nL 909.940612 36.395983 \nL 920.188546 36.173801 \nL 930.43648 35.970766 \nL 940.684414 35.785255 \nL 950.932348 35.615779 \nL 961.180282 35.460972 \nL 971.428215 35.31958 \nL 981.676149 35.190454 \nL 991.924083 35.072541 \nL 1002.172017 34.964877 \nL 1012.419951 34.866579 \nL 1022.667885 34.776838 \nL 1032.915819 34.694915 \nL 1043.163753 34.620134 \nL 1053.411686 34.551876 \nL 1063.65962 34.489574 \nL 1073.907554 34.432712 \nL 1084.155488 34.380817 \nL 1094.403422 34.333456 \nL 1104.651356 34.290236 \nL 1114.89929 34.250795 \n\" style=\"fill:none;stroke:#d62728;stroke-linecap:round;stroke-width:1.5;\"/>\n   </g>\n   <g id=\"patch_3\">\n    <path d=\"M 49.626563 293.69625 \nL 49.626563 21.89625 \n\" style=\"fill:none;\"/>\n   </g>\n   <g id=\"patch_4\">\n    <path d=\"M 1165.626563 293.69625 \nL 1165.626563 21.89625 \n\" style=\"fill:none;\"/>\n   </g>\n   <g id=\"patch_5\">\n    <path d=\"M 49.626563 293.69625 \nL 1165.626563 293.69625 \n\" style=\"fill:none;\"/>\n   </g>\n   <g id=\"patch_6\">\n    <path d=\"M 49.626563 21.89625 \nL 1165.626563 21.89625 \n\" style=\"fill:none;\"/>\n   </g>\n   <g id=\"text_17\">\n    <!-- Covid-19 Model Infections (without PRC) -->\n    <defs>\n     <path d=\"M 38.671875 62.203125 \nQ 27.25 62.203125 20.890625 54.859375 \nQ 14.546875 47.515625 14.546875 34.71875 \nQ 14.546875 22.078125 21.15625 14.375 \nQ 27.78125 6.6875 39.0625 6.6875 \nQ 53.515625 6.6875 60.796875 21 \nL 68.40625 17.1875 \nQ 64.15625 8.296875 56.46875 3.65625 \nQ 48.78125 -0.984375 38.625 -0.984375 \nQ 28.21875 -0.984375 20.625 3.34375 \nQ 13.03125 7.671875 9.046875 15.703125 \nQ 5.078125 23.734375 5.078125 34.71875 \nQ 5.078125 51.171875 13.96875 60.5 \nQ 22.859375 69.828125 38.578125 69.828125 \nQ 49.5625 69.828125 56.9375 65.53125 \nQ 64.3125 61.234375 67.78125 52.78125 \nL 58.9375 49.859375 \nQ 56.546875 55.859375 51.25 59.03125 \nQ 45.953125 62.203125 38.671875 62.203125 \nz\n\" id=\"LiberationSans-43\"/>\n     <path d=\"M 51.421875 26.46875 \nQ 51.421875 12.59375 45.3125 5.796875 \nQ 39.203125 -0.984375 27.59375 -0.984375 \nQ 16.015625 -0.984375 10.109375 6.078125 \nQ 4.203125 13.140625 4.203125 26.46875 \nQ 4.203125 53.8125 27.875 53.8125 \nQ 39.984375 53.8125 45.703125 47.140625 \nQ 51.421875 40.484375 51.421875 26.46875 \nz\nM 42.1875 26.46875 \nQ 42.1875 37.40625 38.9375 42.359375 \nQ 35.6875 47.3125 28.03125 47.3125 \nQ 20.3125 47.3125 16.859375 42.25 \nQ 13.421875 37.203125 13.421875 26.46875 \nQ 13.421875 16.015625 16.8125 10.765625 \nQ 20.21875 5.515625 27.484375 5.515625 \nQ 35.40625 5.515625 38.796875 10.59375 \nQ 42.1875 15.671875 42.1875 26.46875 \nz\n\" id=\"LiberationSans-6f\"/>\n     <path d=\"M 29.9375 0 \nL 19.53125 0 \nL 0.34375 52.828125 \nL 9.71875 52.828125 \nL 21.34375 18.453125 \nQ 21.96875 16.5 24.703125 6.890625 \nL 26.421875 12.59375 \nL 28.328125 18.359375 \nL 40.328125 52.828125 \nL 49.65625 52.828125 \nz\n\" id=\"LiberationSans-76\"/>\n     <path d=\"M 6.6875 64.0625 \nL 6.6875 72.46875 \nL 15.484375 72.46875 \nL 15.484375 64.0625 \nz\nM 6.6875 0 \nL 6.6875 52.828125 \nL 15.484375 52.828125 \nL 15.484375 0 \nz\n\" id=\"LiberationSans-69\"/>\n     <path d=\"M 40.09375 8.5 \nQ 37.640625 3.421875 33.609375 1.21875 \nQ 29.59375 -0.984375 23.640625 -0.984375 \nQ 13.625 -0.984375 8.90625 5.75 \nQ 4.203125 12.5 4.203125 26.171875 \nQ 4.203125 53.8125 23.640625 53.8125 \nQ 29.640625 53.8125 33.640625 51.609375 \nQ 37.640625 49.421875 40.09375 44.625 \nL 40.1875 44.625 \nL 40.09375 50.53125 \nL 40.09375 72.46875 \nL 48.875 72.46875 \nL 48.875 10.890625 \nQ 48.875 2.640625 49.171875 0 \nL 40.765625 0 \nQ 40.625 0.78125 40.453125 3.609375 \nQ 40.28125 6.453125 40.28125 8.5 \nz\nM 13.421875 26.46875 \nQ 13.421875 15.375 16.34375 10.59375 \nQ 19.28125 5.8125 25.875 5.8125 \nQ 33.34375 5.8125 36.71875 10.984375 \nQ 40.09375 16.15625 40.09375 27.046875 \nQ 40.09375 37.546875 36.71875 42.421875 \nQ 33.34375 47.3125 25.984375 47.3125 \nQ 19.34375 47.3125 16.375 42.40625 \nQ 13.421875 37.5 13.421875 26.46875 \nz\n\" id=\"LiberationSans-64\"/>\n     <path id=\"LiberationSans-20\"/>\n     <path d=\"M 66.703125 0 \nL 66.703125 45.90625 \nQ 66.703125 53.515625 67.140625 60.546875 \nQ 64.75 51.8125 62.84375 46.875 \nL 45.0625 0 \nL 38.53125 0 \nL 20.515625 46.875 \nL 17.78125 55.171875 \nL 16.15625 60.546875 \nL 16.3125 55.125 \nL 16.5 45.90625 \nL 16.5 0 \nL 8.203125 0 \nL 8.203125 68.796875 \nL 20.453125 68.796875 \nL 38.765625 21.09375 \nQ 39.75 18.21875 40.640625 14.921875 \nQ 41.546875 11.625 41.84375 10.15625 \nQ 42.234375 12.109375 43.484375 16.078125 \nQ 44.734375 20.0625 45.171875 21.09375 \nL 63.140625 68.796875 \nL 75.09375 68.796875 \nL 75.09375 0 \nz\n\" id=\"LiberationSans-4d\"/>\n     <path d=\"M 13.484375 24.5625 \nQ 13.484375 15.484375 17.234375 10.546875 \nQ 21 5.609375 28.21875 5.609375 \nQ 33.9375 5.609375 37.375 7.90625 \nQ 40.828125 10.203125 42.046875 13.71875 \nL 49.75 11.53125 \nQ 45.015625 -0.984375 28.21875 -0.984375 \nQ 16.5 -0.984375 10.375 6 \nQ 4.25 12.984375 4.25 26.765625 \nQ 4.25 39.84375 10.375 46.828125 \nQ 16.5 53.8125 27.875 53.8125 \nQ 51.171875 53.8125 51.171875 25.734375 \nL 51.171875 24.5625 \nz\nM 42.09375 31.296875 \nQ 41.359375 39.65625 37.84375 43.484375 \nQ 34.328125 47.3125 27.734375 47.3125 \nQ 21.34375 47.3125 17.609375 43.03125 \nQ 13.875 38.765625 13.578125 31.296875 \nz\n\" id=\"LiberationSans-65\"/>\n     <path d=\"M 6.734375 0 \nL 6.734375 72.46875 \nL 15.53125 72.46875 \nL 15.53125 0 \nz\n\" id=\"LiberationSans-6c\"/>\n     <path d=\"M 9.234375 0 \nL 9.234375 68.796875 \nL 18.5625 68.796875 \nL 18.5625 0 \nz\n\" id=\"LiberationSans-49\"/>\n     <path d=\"M 40.28125 0 \nL 40.28125 33.5 \nQ 40.28125 38.71875 39.25 41.59375 \nQ 38.234375 44.484375 35.984375 45.75 \nQ 33.734375 47.015625 29.390625 47.015625 \nQ 23.046875 47.015625 19.375 42.671875 \nQ 15.71875 38.328125 15.71875 30.609375 \nL 15.71875 0 \nL 6.9375 0 \nL 6.9375 41.546875 \nQ 6.9375 50.78125 6.640625 52.828125 \nL 14.9375 52.828125 \nQ 14.984375 52.59375 15.03125 51.515625 \nQ 15.09375 50.4375 15.15625 49.046875 \nQ 15.234375 47.65625 15.328125 43.796875 \nL 15.484375 43.796875 \nQ 18.5 49.265625 22.484375 51.53125 \nQ 26.46875 53.8125 32.375 53.8125 \nQ 41.0625 53.8125 45.09375 49.484375 \nQ 49.125 45.171875 49.125 35.203125 \nL 49.125 0 \nz\n\" id=\"LiberationSans-6e\"/>\n     <path d=\"M 17.625 46.4375 \nL 17.625 0 \nL 8.84375 0 \nL 8.84375 46.4375 \nL 1.421875 46.4375 \nL 1.421875 52.828125 \nL 8.84375 52.828125 \nL 8.84375 58.796875 \nQ 8.84375 66.015625 12.015625 69.1875 \nQ 15.1875 72.359375 21.734375 72.359375 \nQ 25.390625 72.359375 27.9375 71.78125 \nL 27.9375 65.09375 \nQ 25.734375 65.484375 24.03125 65.484375 \nQ 20.65625 65.484375 19.140625 63.765625 \nQ 17.625 62.0625 17.625 57.5625 \nL 17.625 52.828125 \nL 27.9375 52.828125 \nL 27.9375 46.4375 \nz\n\" id=\"LiberationSans-66\"/>\n     <path d=\"M 13.421875 26.65625 \nQ 13.421875 16.109375 16.734375 11.03125 \nQ 20.0625 5.953125 26.765625 5.953125 \nQ 31.453125 5.953125 34.59375 8.484375 \nQ 37.75 11.03125 38.484375 16.3125 \nL 47.359375 15.71875 \nQ 46.34375 8.109375 40.875 3.5625 \nQ 35.40625 -0.984375 27 -0.984375 \nQ 15.921875 -0.984375 10.078125 6.015625 \nQ 4.25 13.03125 4.25 26.46875 \nQ 4.25 39.796875 10.109375 46.796875 \nQ 15.96875 53.8125 26.90625 53.8125 \nQ 35.015625 53.8125 40.359375 49.609375 \nQ 45.703125 45.40625 47.078125 38.03125 \nL 38.03125 37.359375 \nQ 37.359375 41.75 34.5625 44.328125 \nQ 31.78125 46.921875 26.65625 46.921875 \nQ 19.671875 46.921875 16.546875 42.28125 \nQ 13.421875 37.640625 13.421875 26.65625 \nz\n\" id=\"LiberationSans-63\"/>\n     <path d=\"M 27.046875 0.390625 \nQ 22.703125 -0.78125 18.171875 -0.78125 \nQ 7.625 -0.78125 7.625 11.1875 \nL 7.625 46.4375 \nL 1.515625 46.4375 \nL 1.515625 52.828125 \nL 7.953125 52.828125 \nL 10.546875 64.65625 \nL 16.40625 64.65625 \nL 16.40625 52.828125 \nL 26.171875 52.828125 \nL 26.171875 46.4375 \nL 16.40625 46.4375 \nL 16.40625 13.09375 \nQ 16.40625 9.28125 17.640625 7.734375 \nQ 18.890625 6.203125 21.96875 6.203125 \nQ 23.734375 6.203125 27.046875 6.890625 \nz\n\" id=\"LiberationSans-74\"/>\n     <path d=\"M 46.390625 14.59375 \nQ 46.390625 7.125 40.75 3.0625 \nQ 35.109375 -0.984375 24.953125 -0.984375 \nQ 15.09375 -0.984375 9.734375 2.265625 \nQ 4.390625 5.515625 2.78125 12.40625 \nL 10.546875 13.921875 \nQ 11.671875 9.671875 15.1875 7.6875 \nQ 18.703125 5.71875 24.953125 5.71875 \nQ 31.640625 5.71875 34.734375 7.765625 \nQ 37.84375 9.8125 37.84375 13.921875 \nQ 37.84375 17.046875 35.6875 19 \nQ 33.546875 20.953125 28.765625 22.21875 \nL 22.46875 23.875 \nQ 14.890625 25.828125 11.6875 27.703125 \nQ 8.5 29.59375 6.6875 32.28125 \nQ 4.890625 34.96875 4.890625 38.875 \nQ 4.890625 46.09375 10.03125 49.875 \nQ 15.1875 53.65625 25.046875 53.65625 \nQ 33.796875 53.65625 38.9375 50.578125 \nQ 44.09375 47.515625 45.453125 40.71875 \nL 37.546875 39.75 \nQ 36.8125 43.265625 33.609375 45.140625 \nQ 30.421875 47.015625 25.046875 47.015625 \nQ 19.09375 47.015625 16.25 45.203125 \nQ 13.421875 43.40625 13.421875 39.75 \nQ 13.421875 37.5 14.59375 36.03125 \nQ 15.765625 34.578125 18.0625 33.546875 \nQ 20.359375 32.515625 27.734375 30.71875 \nQ 34.71875 28.953125 37.796875 27.46875 \nQ 40.875 25.984375 42.65625 24.171875 \nQ 44.4375 22.359375 45.40625 19.984375 \nQ 46.390625 17.625 46.390625 14.59375 \nz\n\" id=\"LiberationSans-73\"/>\n     <path d=\"M 6.203125 25.984375 \nQ 6.203125 40.09375 10.625 51.3125 \nQ 15.046875 62.546875 24.21875 72.46875 \nL 32.71875 72.46875 \nQ 23.578125 62.3125 19.3125 50.875 \nQ 15.046875 39.453125 15.046875 25.875 \nQ 15.046875 12.359375 19.265625 0.96875 \nQ 23.484375 -10.40625 32.71875 -20.703125 \nL 24.21875 -20.703125 \nQ 14.984375 -10.75 10.59375 0.5 \nQ 6.203125 11.765625 6.203125 25.78125 \nz\n\" id=\"LiberationSans-28\"/>\n     <path d=\"M 57.328125 0 \nL 47.125 0 \nL 37.890625 37.359375 \nL 36.140625 45.609375 \nQ 35.6875 43.40625 34.765625 39.28125 \nQ 33.84375 35.15625 24.8125 0 \nL 14.65625 0 \nL -0.140625 52.828125 \nL 8.546875 52.828125 \nL 17.484375 16.9375 \nQ 17.828125 15.765625 19.578125 7.28125 \nL 20.40625 10.890625 \nL 31.453125 52.828125 \nL 40.875 52.828125 \nL 50.09375 16.546875 \nL 52.34375 7.28125 \nL 53.859375 14.0625 \nL 63.875 52.828125 \nL 72.46875 52.828125 \nz\n\" id=\"LiberationSans-77\"/>\n     <path d=\"M 15.484375 43.796875 \nQ 18.3125 48.96875 22.28125 51.390625 \nQ 26.265625 53.8125 32.375 53.8125 \nQ 40.96875 53.8125 45.046875 49.53125 \nQ 49.125 45.265625 49.125 35.203125 \nL 49.125 0 \nL 40.28125 0 \nL 40.28125 33.5 \nQ 40.28125 39.0625 39.25 41.765625 \nQ 38.234375 44.484375 35.890625 45.75 \nQ 33.546875 47.015625 29.390625 47.015625 \nQ 23.1875 47.015625 19.453125 42.71875 \nQ 15.71875 38.421875 15.71875 31.15625 \nL 15.71875 0 \nL 6.9375 0 \nL 6.9375 72.46875 \nL 15.71875 72.46875 \nL 15.71875 53.609375 \nQ 15.71875 50.640625 15.546875 47.453125 \nQ 15.375 44.28125 15.328125 43.796875 \nz\n\" id=\"LiberationSans-68\"/>\n     <path d=\"M 15.328125 52.828125 \nL 15.328125 19.34375 \nQ 15.328125 14.109375 16.359375 11.21875 \nQ 17.390625 8.34375 19.625 7.078125 \nQ 21.875 5.8125 26.21875 5.8125 \nQ 32.5625 5.8125 36.21875 10.15625 \nQ 39.890625 14.5 39.890625 22.21875 \nL 39.890625 52.828125 \nL 48.6875 52.828125 \nL 48.6875 11.28125 \nQ 48.6875 2.046875 48.96875 0 \nL 40.671875 0 \nQ 40.625 0.25 40.578125 1.3125 \nQ 40.53125 2.390625 40.453125 3.78125 \nQ 40.375 5.171875 40.28125 9.03125 \nL 40.140625 9.03125 \nQ 37.109375 3.5625 33.125 1.28125 \nQ 29.15625 -0.984375 23.25 -0.984375 \nQ 14.546875 -0.984375 10.515625 3.34375 \nQ 6.5 7.671875 6.5 17.625 \nL 6.5 52.828125 \nz\n\" id=\"LiberationSans-75\"/>\n     <path d=\"M 61.421875 48.09375 \nQ 61.421875 38.328125 55.046875 32.5625 \nQ 48.6875 26.8125 37.75 26.8125 \nL 17.53125 26.8125 \nL 17.53125 0 \nL 8.203125 0 \nL 8.203125 68.796875 \nL 37.15625 68.796875 \nQ 48.734375 68.796875 55.078125 63.375 \nQ 61.421875 57.953125 61.421875 48.09375 \nz\nM 52.046875 48 \nQ 52.046875 61.328125 36.03125 61.328125 \nL 17.53125 61.328125 \nL 17.53125 34.1875 \nL 36.421875 34.1875 \nQ 52.046875 34.1875 52.046875 48 \nz\n\" id=\"LiberationSans-50\"/>\n     <path d=\"M 56.84375 0 \nL 38.96875 28.5625 \nL 17.53125 28.5625 \nL 17.53125 0 \nL 8.203125 0 \nL 8.203125 68.796875 \nL 40.578125 68.796875 \nQ 52.203125 68.796875 58.515625 63.59375 \nQ 64.84375 58.40625 64.84375 49.125 \nQ 64.84375 41.453125 60.375 36.21875 \nQ 55.90625 31 48.046875 29.640625 \nL 67.578125 0 \nz\nM 55.46875 49.03125 \nQ 55.46875 55.03125 51.390625 58.171875 \nQ 47.3125 61.328125 39.65625 61.328125 \nL 17.53125 61.328125 \nL 17.53125 35.9375 \nL 40.046875 35.9375 \nQ 47.40625 35.9375 51.4375 39.375 \nQ 55.46875 42.828125 55.46875 49.03125 \nz\n\" id=\"LiberationSans-52\"/>\n     <path d=\"M 27.09375 25.78125 \nQ 27.09375 11.671875 22.671875 0.4375 \nQ 18.265625 -10.796875 9.078125 -20.703125 \nL 0.59375 -20.703125 \nQ 9.765625 -10.453125 14.015625 0.890625 \nQ 18.265625 12.25 18.265625 25.875 \nQ 18.265625 39.5 13.984375 50.875 \nQ 9.71875 62.25 0.59375 72.46875 \nL 9.078125 72.46875 \nQ 18.3125 62.5 22.703125 51.234375 \nQ 27.09375 39.984375 27.09375 25.984375 \nz\n\" id=\"LiberationSans-29\"/>\n    </defs>\n    <g style=\"fill:#262626;\" transform=\"translate(499.254375 15.89625)scale(0.12 -0.12)\">\n     <use xlink:href=\"#LiberationSans-43\"/>\n     <use x=\"72.216797\" xlink:href=\"#LiberationSans-6f\"/>\n     <use x=\"127.832031\" xlink:href=\"#LiberationSans-76\"/>\n     <use x=\"177.832031\" xlink:href=\"#LiberationSans-69\"/>\n     <use x=\"200.048828\" xlink:href=\"#LiberationSans-64\"/>\n     <use x=\"255.664062\" xlink:href=\"#LiberationSans-2d\"/>\n     <use x=\"288.964844\" xlink:href=\"#LiberationSans-31\"/>\n     <use x=\"344.580078\" xlink:href=\"#LiberationSans-39\"/>\n     <use x=\"400.195312\" xlink:href=\"#LiberationSans-20\"/>\n     <use x=\"427.978516\" xlink:href=\"#LiberationSans-4d\"/>\n     <use x=\"511.279297\" xlink:href=\"#LiberationSans-6f\"/>\n     <use x=\"566.894531\" xlink:href=\"#LiberationSans-64\"/>\n     <use x=\"622.509766\" xlink:href=\"#LiberationSans-65\"/>\n     <use x=\"678.125\" xlink:href=\"#LiberationSans-6c\"/>\n     <use x=\"700.341797\" xlink:href=\"#LiberationSans-20\"/>\n     <use x=\"728.125\" xlink:href=\"#LiberationSans-49\"/>\n     <use x=\"755.908203\" xlink:href=\"#LiberationSans-6e\"/>\n     <use x=\"811.523438\" xlink:href=\"#LiberationSans-66\"/>\n     <use x=\"839.306641\" xlink:href=\"#LiberationSans-65\"/>\n     <use x=\"894.921875\" xlink:href=\"#LiberationSans-63\"/>\n     <use x=\"944.921875\" xlink:href=\"#LiberationSans-74\"/>\n     <use x=\"972.705078\" xlink:href=\"#LiberationSans-69\"/>\n     <use x=\"994.921875\" xlink:href=\"#LiberationSans-6f\"/>\n     <use x=\"1050.537109\" xlink:href=\"#LiberationSans-6e\"/>\n     <use x=\"1106.152344\" xlink:href=\"#LiberationSans-73\"/>\n     <use x=\"1156.152344\" xlink:href=\"#LiberationSans-20\"/>\n     <use x=\"1183.935547\" xlink:href=\"#LiberationSans-28\"/>\n     <use x=\"1217.236328\" xlink:href=\"#LiberationSans-77\"/>\n     <use x=\"1289.453125\" xlink:href=\"#LiberationSans-69\"/>\n     <use x=\"1311.669922\" xlink:href=\"#LiberationSans-74\"/>\n     <use x=\"1339.453125\" xlink:href=\"#LiberationSans-68\"/>\n     <use x=\"1395.068359\" xlink:href=\"#LiberationSans-6f\"/>\n     <use x=\"1450.683594\" xlink:href=\"#LiberationSans-75\"/>\n     <use x=\"1506.298828\" xlink:href=\"#LiberationSans-74\"/>\n     <use x=\"1534.082031\" xlink:href=\"#LiberationSans-20\"/>\n     <use x=\"1561.865234\" xlink:href=\"#LiberationSans-50\"/>\n     <use x=\"1628.564453\" xlink:href=\"#LiberationSans-52\"/>\n     <use x=\"1700.78125\" xlink:href=\"#LiberationSans-43\"/>\n     <use x=\"1772.998047\" xlink:href=\"#LiberationSans-29\"/>\n    </g>\n   </g>\n   <g id=\"legend_1\">\n    <g id=\"line2d_21\">\n     <path d=\"M 58.626563 34.643125 \nL 78.626563 34.643125 \n\" style=\"fill:none;stroke:#1f77b4;stroke-linecap:round;stroke-width:1.5;\"/>\n    </g>\n    <g id=\"line2d_22\"/>\n    <g id=\"text_18\">\n     <!-- Multiplicator: 1 -->\n     <defs>\n      <path d=\"M 51.421875 26.65625 \nQ 51.421875 -0.984375 31.984375 -0.984375 \nQ 19.78125 -0.984375 15.578125 8.203125 \nL 15.328125 8.203125 \nQ 15.53125 7.8125 15.53125 -0.09375 \nL 15.53125 -20.75 \nL 6.734375 -20.75 \nL 6.734375 42.046875 \nQ 6.734375 50.203125 6.453125 52.828125 \nL 14.9375 52.828125 \nQ 14.984375 52.640625 15.078125 51.4375 \nQ 15.1875 50.25 15.3125 47.75 \nQ 15.4375 45.265625 15.4375 44.34375 \nL 15.625 44.34375 \nQ 17.96875 49.21875 21.828125 51.484375 \nQ 25.6875 53.765625 31.984375 53.765625 \nQ 41.75 53.765625 46.578125 47.21875 \nQ 51.421875 40.671875 51.421875 26.65625 \nz\nM 42.1875 26.46875 \nQ 42.1875 37.5 39.203125 42.234375 \nQ 36.234375 46.96875 29.734375 46.96875 \nQ 24.515625 46.96875 21.5625 44.765625 \nQ 18.609375 42.578125 17.0625 37.90625 \nQ 15.53125 33.25 15.53125 25.78125 \nQ 15.53125 15.375 18.84375 10.4375 \nQ 22.171875 5.515625 29.640625 5.515625 \nQ 36.1875 5.515625 39.1875 10.328125 \nQ 42.1875 15.140625 42.1875 26.46875 \nz\n\" id=\"LiberationSans-70\"/>\n      <path d=\"M 20.21875 -0.984375 \nQ 12.25 -0.984375 8.25 3.21875 \nQ 4.25 7.421875 4.25 14.75 \nQ 4.25 22.953125 9.640625 27.34375 \nQ 15.046875 31.734375 27.046875 32.03125 \nL 38.921875 32.234375 \nL 38.921875 35.109375 \nQ 38.921875 41.546875 36.1875 44.328125 \nQ 33.453125 47.125 27.59375 47.125 \nQ 21.6875 47.125 19 45.109375 \nQ 16.3125 43.109375 15.765625 38.71875 \nL 6.59375 39.546875 \nQ 8.84375 53.8125 27.78125 53.8125 \nQ 37.75 53.8125 42.765625 49.234375 \nQ 47.796875 44.671875 47.796875 36.03125 \nL 47.796875 13.28125 \nQ 47.796875 9.375 48.828125 7.390625 \nQ 49.859375 5.421875 52.734375 5.421875 \nQ 54 5.421875 55.609375 5.765625 \nL 55.609375 0.296875 \nQ 52.296875 -0.484375 48.828125 -0.484375 \nQ 43.953125 -0.484375 41.71875 2.078125 \nQ 39.5 4.640625 39.203125 10.109375 \nL 38.921875 10.109375 \nQ 35.546875 4.046875 31.078125 1.53125 \nQ 26.609375 -0.984375 20.21875 -0.984375 \nz\nM 22.21875 5.609375 \nQ 27.046875 5.609375 30.8125 7.8125 \nQ 34.578125 10.015625 36.75 13.84375 \nQ 38.921875 17.671875 38.921875 21.734375 \nL 38.921875 26.078125 \nL 29.296875 25.875 \nQ 23.09375 25.78125 19.890625 24.609375 \nQ 16.703125 23.4375 14.984375 21 \nQ 13.28125 18.5625 13.28125 14.59375 \nQ 13.28125 10.296875 15.59375 7.953125 \nQ 17.921875 5.609375 22.21875 5.609375 \nz\n\" id=\"LiberationSans-61\"/>\n      <path d=\"M 6.9375 0 \nL 6.9375 40.53125 \nQ 6.9375 46.09375 6.640625 52.828125 \nL 14.9375 52.828125 \nQ 15.328125 43.84375 15.328125 42.046875 \nL 15.53125 42.046875 \nQ 17.625 48.828125 20.359375 51.3125 \nQ 23.09375 53.8125 28.078125 53.8125 \nQ 29.828125 53.8125 31.640625 53.328125 \nL 31.640625 45.265625 \nQ 29.890625 45.75 26.953125 45.75 \nQ 21.484375 45.75 18.59375 41.03125 \nQ 15.71875 36.328125 15.71875 27.546875 \nL 15.71875 0 \nz\n\" id=\"LiberationSans-72\"/>\n      <path d=\"M 9.125 42.71875 \nL 9.125 52.828125 \nL 18.65625 52.828125 \nL 18.65625 42.71875 \nz\nM 9.125 0 \nL 9.125 10.109375 \nL 18.65625 10.109375 \nL 18.65625 0 \nz\n\" id=\"LiberationSans-3a\"/>\n     </defs>\n     <g style=\"fill:#262626;\" transform=\"translate(86.626563 38.143125)scale(0.1 -0.1)\">\n      <use xlink:href=\"#LiberationSans-4d\"/>\n      <use x=\"83.300781\" xlink:href=\"#LiberationSans-75\"/>\n      <use x=\"138.916016\" xlink:href=\"#LiberationSans-6c\"/>\n      <use x=\"161.132812\" xlink:href=\"#LiberationSans-74\"/>\n      <use x=\"188.916016\" xlink:href=\"#LiberationSans-69\"/>\n      <use x=\"211.132812\" xlink:href=\"#LiberationSans-70\"/>\n      <use x=\"266.748047\" xlink:href=\"#LiberationSans-6c\"/>\n      <use x=\"288.964844\" xlink:href=\"#LiberationSans-69\"/>\n      <use x=\"311.181641\" xlink:href=\"#LiberationSans-63\"/>\n      <use x=\"361.181641\" xlink:href=\"#LiberationSans-61\"/>\n      <use x=\"416.796875\" xlink:href=\"#LiberationSans-74\"/>\n      <use x=\"444.580078\" xlink:href=\"#LiberationSans-6f\"/>\n      <use x=\"500.195312\" xlink:href=\"#LiberationSans-72\"/>\n      <use x=\"533.496094\" xlink:href=\"#LiberationSans-3a\"/>\n      <use x=\"561.279297\" xlink:href=\"#LiberationSans-20\"/>\n      <use x=\"589.0625\" xlink:href=\"#LiberationSans-31\"/>\n     </g>\n    </g>\n    <g id=\"line2d_23\">\n     <path d=\"M 58.626563 48.965 \nL 78.626563 48.965 \n\" style=\"fill:none;stroke:#ff7f0e;stroke-linecap:round;stroke-width:1.5;\"/>\n    </g>\n    <g id=\"line2d_24\"/>\n    <g id=\"text_19\">\n     <!-- Multiplicator: 2 -->\n     <g style=\"fill:#262626;\" transform=\"translate(86.626563 52.465)scale(0.1 -0.1)\">\n      <use xlink:href=\"#LiberationSans-4d\"/>\n      <use x=\"83.300781\" xlink:href=\"#LiberationSans-75\"/>\n      <use x=\"138.916016\" xlink:href=\"#LiberationSans-6c\"/>\n      <use x=\"161.132812\" xlink:href=\"#LiberationSans-74\"/>\n      <use x=\"188.916016\" xlink:href=\"#LiberationSans-69\"/>\n      <use x=\"211.132812\" xlink:href=\"#LiberationSans-70\"/>\n      <use x=\"266.748047\" xlink:href=\"#LiberationSans-6c\"/>\n      <use x=\"288.964844\" xlink:href=\"#LiberationSans-69\"/>\n      <use x=\"311.181641\" xlink:href=\"#LiberationSans-63\"/>\n      <use x=\"361.181641\" xlink:href=\"#LiberationSans-61\"/>\n      <use x=\"416.796875\" xlink:href=\"#LiberationSans-74\"/>\n      <use x=\"444.580078\" xlink:href=\"#LiberationSans-6f\"/>\n      <use x=\"500.195312\" xlink:href=\"#LiberationSans-72\"/>\n      <use x=\"533.496094\" xlink:href=\"#LiberationSans-3a\"/>\n      <use x=\"561.279297\" xlink:href=\"#LiberationSans-20\"/>\n      <use x=\"589.0625\" xlink:href=\"#LiberationSans-32\"/>\n     </g>\n    </g>\n    <g id=\"line2d_25\">\n     <path d=\"M 58.626563 63.286875 \nL 78.626563 63.286875 \n\" style=\"fill:none;stroke:#2ca02c;stroke-linecap:round;stroke-width:1.5;\"/>\n    </g>\n    <g id=\"line2d_26\"/>\n    <g id=\"text_20\">\n     <!-- Multiplicator: 5 -->\n     <g style=\"fill:#262626;\" transform=\"translate(86.626563 66.786875)scale(0.1 -0.1)\">\n      <use xlink:href=\"#LiberationSans-4d\"/>\n      <use x=\"83.300781\" xlink:href=\"#LiberationSans-75\"/>\n      <use x=\"138.916016\" xlink:href=\"#LiberationSans-6c\"/>\n      <use x=\"161.132812\" xlink:href=\"#LiberationSans-74\"/>\n      <use x=\"188.916016\" xlink:href=\"#LiberationSans-69\"/>\n      <use x=\"211.132812\" xlink:href=\"#LiberationSans-70\"/>\n      <use x=\"266.748047\" xlink:href=\"#LiberationSans-6c\"/>\n      <use x=\"288.964844\" xlink:href=\"#LiberationSans-69\"/>\n      <use x=\"311.181641\" xlink:href=\"#LiberationSans-63\"/>\n      <use x=\"361.181641\" xlink:href=\"#LiberationSans-61\"/>\n      <use x=\"416.796875\" xlink:href=\"#LiberationSans-74\"/>\n      <use x=\"444.580078\" xlink:href=\"#LiberationSans-6f\"/>\n      <use x=\"500.195312\" xlink:href=\"#LiberationSans-72\"/>\n      <use x=\"533.496094\" xlink:href=\"#LiberationSans-3a\"/>\n      <use x=\"561.279297\" xlink:href=\"#LiberationSans-20\"/>\n      <use x=\"589.0625\" xlink:href=\"#LiberationSans-35\"/>\n     </g>\n    </g>\n    <g id=\"line2d_27\">\n     <path d=\"M 58.626563 77.60875 \nL 78.626563 77.60875 \n\" style=\"fill:none;stroke:#d62728;stroke-linecap:round;stroke-width:1.5;\"/>\n    </g>\n    <g id=\"line2d_28\"/>\n    <g id=\"text_21\">\n     <!-- Multiplicator: 10 -->\n     <g style=\"fill:#262626;\" transform=\"translate(86.626563 81.10875)scale(0.1 -0.1)\">\n      <use xlink:href=\"#LiberationSans-4d\"/>\n      <use x=\"83.300781\" xlink:href=\"#LiberationSans-75\"/>\n      <use x=\"138.916016\" xlink:href=\"#LiberationSans-6c\"/>\n      <use x=\"161.132812\" xlink:href=\"#LiberationSans-74\"/>\n      <use x=\"188.916016\" xlink:href=\"#LiberationSans-69\"/>\n      <use x=\"211.132812\" xlink:href=\"#LiberationSans-70\"/>\n      <use x=\"266.748047\" xlink:href=\"#LiberationSans-6c\"/>\n      <use x=\"288.964844\" xlink:href=\"#LiberationSans-69\"/>\n      <use x=\"311.181641\" xlink:href=\"#LiberationSans-63\"/>\n      <use x=\"361.181641\" xlink:href=\"#LiberationSans-61\"/>\n      <use x=\"416.796875\" xlink:href=\"#LiberationSans-74\"/>\n      <use x=\"444.580078\" xlink:href=\"#LiberationSans-6f\"/>\n      <use x=\"500.195312\" xlink:href=\"#LiberationSans-72\"/>\n      <use x=\"533.496094\" xlink:href=\"#LiberationSans-3a\"/>\n      <use x=\"561.279297\" xlink:href=\"#LiberationSans-20\"/>\n      <use x=\"589.0625\" xlink:href=\"#LiberationSans-31\"/>\n      <use x=\"644.677734\" xlink:href=\"#LiberationSans-30\"/>\n     </g>\n    </g>\n   </g>\n  </g>\n </g>\n <defs>\n  <clipPath id=\"p359b9a81fb\">\n   <rect height=\"271.8\" width=\"1116\" x=\"49.626563\" y=\"21.89625\"/>\n  </clipPath>\n </defs>\n</svg>\n",
      "text/plain": "<matplotlib.figure.Figure at 0x7f8a3a19f810>"
     },
     "metadata": {},
     "output_type": "display_data"
    }
   ],
   "source": [
    "rg = np.array(range(100))\n",
    "dr1 = pd.date_range(df.index[0], periods=100)\n",
    "dr2 = pd.date_range(df.index[0], periods=len(df.index))\n",
    "#plt.scatter(dr2, y_data, label='Confirmed Cases')\n",
    "for variance in var_dict.keys():\n",
    "    fit_params = var_dict[variance]\n",
    "    plt.plot(dr1, logistic(rg, *fit_params), label='Multiplicator: {}'.format(round(variance, 2)))\n",
    "plt.legend(loc='best')\n",
    "plt.title('Covid-19 Model Infections (without PRC)')"
   ]
  },
  {
   "cell_type": "code",
   "execution_count": 115,
   "metadata": {},
   "outputs": [
    {
     "data": {
      "text/plain": "<matplotlib.text.Text at 0x7f8a398f7b50>"
     },
     "execution_count": 115,
     "metadata": {},
     "output_type": "execute_result"
    },
    {
     "data": {
      "image/png": "[encoded data removed]",
      "image/svg+xml": "<?xml version=\"1.0\" encoding=\"utf-8\" standalone=\"no\"?>\n<!DOCTYPE svg PUBLIC \"-//W3C//DTD SVG 1.1//EN\"\n  \"http://www.w3.org/Graphics/SVG/1.1/DTD/svg11.dtd\">\n<!-- Created with matplotlib (http://matplotlib.org/) -->\n<svg height=\"313pt\" version=\"1.1\" viewBox=\"0 0 1175 313\" width=\"1175pt\" xmlns=\"http://www.w3.org/2000/svg\" xmlns:xlink=\"http://www.w3.org/1999/xlink\">\n <defs>\n  <style type=\"text/css\">\n*{stroke-linecap:butt;stroke-linejoin:round;}\n  </style>\n </defs>\n <g id=\"figure_1\">\n  <g id=\"patch_1\">\n   <path d=\"M 0 313.718125 \nL 1175.642212 313.718125 \nL 1175.642212 0 \nL 0 0 \nz\n\" style=\"fill:#ffffff;\"/>\n  </g>\n  <g id=\"axes_1\">\n   <g id=\"patch_2\">\n    <path d=\"M 49.626563 293.69625 \nL 1165.626563 293.69625 \nL 1165.626563 21.89625 \nL 49.626563 21.89625 \nz\n\" style=\"fill:#eaeaf2;\"/>\n   </g>\n   <g id=\"matplotlib.axis_1\">\n    <g id=\"xtick_1\">\n     <g id=\"line2d_1\"/>\n     <g id=\"text_1\">\n      <!-- 2020-01-12 -->\n      <defs>\n       <path d=\"M 5.03125 0 \nL 5.03125 6.203125 \nQ 7.515625 11.921875 11.109375 16.28125 \nQ 14.703125 20.65625 18.65625 24.1875 \nQ 22.609375 27.734375 26.484375 30.765625 \nQ 30.375 33.796875 33.5 36.8125 \nQ 36.625 39.84375 38.546875 43.15625 \nQ 40.484375 46.484375 40.484375 50.6875 \nQ 40.484375 56.34375 37.15625 59.46875 \nQ 33.84375 62.59375 27.9375 62.59375 \nQ 22.3125 62.59375 18.671875 59.546875 \nQ 15.046875 56.5 14.40625 50.984375 \nL 5.421875 51.8125 \nQ 6.390625 60.0625 12.421875 64.9375 \nQ 18.453125 69.828125 27.9375 69.828125 \nQ 38.328125 69.828125 43.921875 64.921875 \nQ 49.515625 60.015625 49.515625 50.984375 \nQ 49.515625 46.96875 47.671875 43.015625 \nQ 45.84375 39.0625 42.234375 35.109375 \nQ 38.625 31.15625 28.421875 22.859375 \nQ 22.796875 18.265625 19.46875 14.578125 \nQ 16.15625 10.890625 14.703125 7.46875 \nL 50.59375 7.46875 \nL 50.59375 0 \nz\n\" id=\"LiberationSans-32\"/>\n       <path d=\"M 51.703125 34.421875 \nQ 51.703125 17.1875 45.625 8.09375 \nQ 39.546875 -0.984375 27.6875 -0.984375 \nQ 15.828125 -0.984375 9.859375 8.046875 \nQ 3.90625 17.09375 3.90625 34.421875 \nQ 3.90625 52.15625 9.6875 60.984375 \nQ 15.484375 69.828125 27.984375 69.828125 \nQ 40.140625 69.828125 45.921875 60.890625 \nQ 51.703125 51.953125 51.703125 34.421875 \nz\nM 42.78125 34.421875 \nQ 42.78125 49.3125 39.328125 56 \nQ 35.890625 62.703125 27.984375 62.703125 \nQ 19.875 62.703125 16.328125 56.109375 \nQ 12.796875 49.515625 12.796875 34.421875 \nQ 12.796875 19.78125 16.375 12.984375 \nQ 19.96875 6.203125 27.78125 6.203125 \nQ 35.546875 6.203125 39.15625 13.125 \nQ 42.78125 20.0625 42.78125 34.421875 \nz\n\" id=\"LiberationSans-30\"/>\n       <path d=\"M 4.4375 22.65625 \nL 4.4375 30.46875 \nL 28.859375 30.46875 \nL 28.859375 22.65625 \nz\n\" id=\"LiberationSans-2d\"/>\n       <path d=\"M 7.625 0 \nL 7.625 7.46875 \nL 25.140625 7.46875 \nL 25.140625 60.40625 \nL 9.625 49.3125 \nL 9.625 57.625 \nL 25.875 68.796875 \nL 33.984375 68.796875 \nL 33.984375 7.46875 \nL 50.734375 7.46875 \nL 50.734375 0 \nz\n\" id=\"LiberationSans-31\"/>\n      </defs>\n      <g style=\"fill:#262626;\" transform=\"translate(73.101226 304.443125)scale(0.1 -0.1)\">\n       <use xlink:href=\"#LiberationSans-32\"/>\n       <use x=\"55.615234\" xlink:href=\"#LiberationSans-30\"/>\n       <use x=\"111.230469\" xlink:href=\"#LiberationSans-32\"/>\n       <use x=\"166.845703\" xlink:href=\"#LiberationSans-30\"/>\n       <use x=\"222.460938\" xlink:href=\"#LiberationSans-2d\"/>\n       <use x=\"255.761719\" xlink:href=\"#LiberationSans-30\"/>\n       <use x=\"311.376953\" xlink:href=\"#LiberationSans-31\"/>\n       <use x=\"366.992188\" xlink:href=\"#LiberationSans-2d\"/>\n       <use x=\"400.292969\" xlink:href=\"#LiberationSans-31\"/>\n       <use x=\"455.908203\" xlink:href=\"#LiberationSans-32\"/>\n      </g>\n     </g>\n    </g>\n    <g id=\"xtick_2\">\n     <g id=\"line2d_2\"/>\n     <g id=\"text_2\">\n      <!-- 2020-01-26 -->\n      <defs>\n       <path d=\"M 51.21875 22.515625 \nQ 51.21875 11.625 45.3125 5.3125 \nQ 39.40625 -0.984375 29 -0.984375 \nQ 17.390625 -0.984375 11.234375 7.65625 \nQ 5.078125 16.3125 5.078125 32.8125 \nQ 5.078125 50.6875 11.46875 60.25 \nQ 17.875 69.828125 29.6875 69.828125 \nQ 45.265625 69.828125 49.3125 55.8125 \nL 40.921875 54.296875 \nQ 38.328125 62.703125 29.59375 62.703125 \nQ 22.078125 62.703125 17.9375 55.6875 \nQ 13.8125 48.6875 13.8125 35.40625 \nQ 16.21875 39.84375 20.5625 42.15625 \nQ 24.90625 44.484375 30.515625 44.484375 \nQ 40.046875 44.484375 45.625 38.515625 \nQ 51.21875 32.5625 51.21875 22.515625 \nz\nM 42.28125 22.125 \nQ 42.28125 29.59375 38.625 33.640625 \nQ 34.96875 37.703125 28.421875 37.703125 \nQ 22.265625 37.703125 18.484375 34.109375 \nQ 14.703125 30.515625 14.703125 24.21875 \nQ 14.703125 16.265625 18.625 11.1875 \nQ 22.5625 6.109375 28.71875 6.109375 \nQ 35.0625 6.109375 38.671875 10.375 \nQ 42.28125 14.65625 42.28125 22.125 \nz\n\" id=\"LiberationSans-36\"/>\n      </defs>\n      <g style=\"fill:#262626;\" transform=\"translate(203.62549 304.443125)scale(0.1 -0.1)\">\n       <use xlink:href=\"#LiberationSans-32\"/>\n       <use x=\"55.615234\" xlink:href=\"#LiberationSans-30\"/>\n       <use x=\"111.230469\" xlink:href=\"#LiberationSans-32\"/>\n       <use x=\"166.845703\" xlink:href=\"#LiberationSans-30\"/>\n       <use x=\"222.460938\" xlink:href=\"#LiberationSans-2d\"/>\n       <use x=\"255.761719\" xlink:href=\"#LiberationSans-30\"/>\n       <use x=\"311.376953\" xlink:href=\"#LiberationSans-31\"/>\n       <use x=\"366.992188\" xlink:href=\"#LiberationSans-2d\"/>\n       <use x=\"400.292969\" xlink:href=\"#LiberationSans-32\"/>\n       <use x=\"455.908203\" xlink:href=\"#LiberationSans-36\"/>\n      </g>\n     </g>\n    </g>\n    <g id=\"xtick_3\">\n     <g id=\"line2d_3\"/>\n     <g id=\"text_3\">\n      <!-- 2020-02-09 -->\n      <defs>\n       <path d=\"M 50.875 35.796875 \nQ 50.875 18.0625 44.40625 8.53125 \nQ 37.9375 -0.984375 25.984375 -0.984375 \nQ 17.921875 -0.984375 13.0625 2.40625 \nQ 8.203125 5.8125 6.109375 13.375 \nL 14.5 14.703125 \nQ 17.140625 6.109375 26.125 6.109375 \nQ 33.6875 6.109375 37.84375 13.140625 \nQ 42 20.171875 42.1875 33.203125 \nQ 40.234375 28.8125 35.5 26.140625 \nQ 30.765625 23.484375 25.09375 23.484375 \nQ 15.828125 23.484375 10.25 29.828125 \nQ 4.6875 36.1875 4.6875 46.6875 \nQ 4.6875 57.46875 10.734375 63.640625 \nQ 16.796875 69.828125 27.59375 69.828125 \nQ 39.0625 69.828125 44.96875 61.328125 \nQ 50.875 52.828125 50.875 35.796875 \nz\nM 41.3125 44.28125 \nQ 41.3125 52.59375 37.5 57.640625 \nQ 33.6875 62.703125 27.296875 62.703125 \nQ 20.953125 62.703125 17.28125 58.375 \nQ 13.625 54.046875 13.625 46.6875 \nQ 13.625 39.15625 17.28125 34.78125 \nQ 20.953125 30.421875 27.203125 30.421875 \nQ 31 30.421875 34.265625 32.15625 \nQ 37.546875 33.890625 39.421875 37.0625 \nQ 41.3125 40.234375 41.3125 44.28125 \nz\n\" id=\"LiberationSans-39\"/>\n      </defs>\n      <g style=\"fill:#262626;\" transform=\"translate(334.149754 304.443125)scale(0.1 -0.1)\">\n       <use xlink:href=\"#LiberationSans-32\"/>\n       <use x=\"55.615234\" xlink:href=\"#LiberationSans-30\"/>\n       <use x=\"111.230469\" xlink:href=\"#LiberationSans-32\"/>\n       <use x=\"166.845703\" xlink:href=\"#LiberationSans-30\"/>\n       <use x=\"222.460938\" xlink:href=\"#LiberationSans-2d\"/>\n       <use x=\"255.761719\" xlink:href=\"#LiberationSans-30\"/>\n       <use x=\"311.376953\" xlink:href=\"#LiberationSans-32\"/>\n       <use x=\"366.992188\" xlink:href=\"#LiberationSans-2d\"/>\n       <use x=\"400.292969\" xlink:href=\"#LiberationSans-30\"/>\n       <use x=\"455.908203\" xlink:href=\"#LiberationSans-39\"/>\n      </g>\n     </g>\n    </g>\n    <g id=\"xtick_4\">\n     <g id=\"line2d_4\"/>\n     <g id=\"text_4\">\n      <!-- 2020-02-23 -->\n      <defs>\n       <path d=\"M 51.21875 19 \nQ 51.21875 9.46875 45.15625 4.234375 \nQ 39.109375 -0.984375 27.875 -0.984375 \nQ 17.4375 -0.984375 11.203125 3.734375 \nQ 4.984375 8.453125 3.8125 17.671875 \nL 12.890625 18.5 \nQ 14.65625 6.296875 27.875 6.296875 \nQ 34.515625 6.296875 38.296875 9.5625 \nQ 42.09375 12.84375 42.09375 19.28125 \nQ 42.09375 24.90625 37.765625 28.046875 \nQ 33.453125 31.203125 25.296875 31.203125 \nL 20.3125 31.203125 \nL 20.3125 38.8125 \nL 25.09375 38.8125 \nQ 32.328125 38.8125 36.296875 41.96875 \nQ 40.28125 45.125 40.28125 50.6875 \nQ 40.28125 56.203125 37.03125 59.390625 \nQ 33.796875 62.59375 27.390625 62.59375 \nQ 21.578125 62.59375 17.984375 59.609375 \nQ 14.40625 56.640625 13.8125 51.21875 \nL 4.984375 51.90625 \nQ 5.953125 60.359375 11.984375 65.09375 \nQ 18.015625 69.828125 27.484375 69.828125 \nQ 37.84375 69.828125 43.578125 65.015625 \nQ 49.3125 60.203125 49.3125 51.609375 \nQ 49.3125 45.015625 45.625 40.890625 \nQ 41.9375 36.765625 34.90625 35.296875 \nL 34.90625 35.109375 \nQ 42.625 34.28125 46.921875 29.9375 \nQ 51.21875 25.59375 51.21875 19 \nz\n\" id=\"LiberationSans-33\"/>\n      </defs>\n      <g style=\"fill:#262626;\" transform=\"translate(464.674018 304.443125)scale(0.1 -0.1)\">\n       <use xlink:href=\"#LiberationSans-32\"/>\n       <use x=\"55.615234\" xlink:href=\"#LiberationSans-30\"/>\n       <use x=\"111.230469\" xlink:href=\"#LiberationSans-32\"/>\n       <use x=\"166.845703\" xlink:href=\"#LiberationSans-30\"/>\n       <use x=\"222.460938\" xlink:href=\"#LiberationSans-2d\"/>\n       <use x=\"255.761719\" xlink:href=\"#LiberationSans-30\"/>\n       <use x=\"311.376953\" xlink:href=\"#LiberationSans-32\"/>\n       <use x=\"366.992188\" xlink:href=\"#LiberationSans-2d\"/>\n       <use x=\"400.292969\" xlink:href=\"#LiberationSans-32\"/>\n       <use x=\"455.908203\" xlink:href=\"#LiberationSans-33\"/>\n      </g>\n     </g>\n    </g>\n    <g id=\"xtick_5\">\n     <g id=\"line2d_5\"/>\n     <g id=\"text_5\">\n      <!-- 2020-03-08 -->\n      <defs>\n       <path d=\"M 51.265625 19.1875 \nQ 51.265625 9.671875 45.203125 4.34375 \nQ 39.15625 -0.984375 27.828125 -0.984375 \nQ 16.796875 -0.984375 10.5625 4.234375 \nQ 4.34375 9.46875 4.34375 19.09375 \nQ 4.34375 25.828125 8.203125 30.421875 \nQ 12.0625 35.015625 18.0625 35.984375 \nL 18.0625 36.1875 \nQ 12.453125 37.5 9.203125 41.890625 \nQ 5.953125 46.296875 5.953125 52.203125 \nQ 5.953125 60.0625 11.828125 64.9375 \nQ 17.71875 69.828125 27.640625 69.828125 \nQ 37.796875 69.828125 43.671875 65.03125 \nQ 49.5625 60.25 49.5625 52.09375 \nQ 49.5625 46.1875 46.28125 41.796875 \nQ 43.015625 37.40625 37.359375 36.28125 \nL 37.359375 36.078125 \nQ 43.953125 35.015625 47.609375 30.5 \nQ 51.265625 25.984375 51.265625 19.1875 \nz\nM 40.4375 51.609375 \nQ 40.4375 63.28125 27.640625 63.28125 \nQ 21.4375 63.28125 18.1875 60.34375 \nQ 14.9375 57.421875 14.9375 51.609375 \nQ 14.9375 45.703125 18.28125 42.59375 \nQ 21.625 39.5 27.734375 39.5 \nQ 33.9375 39.5 37.1875 42.359375 \nQ 40.4375 45.21875 40.4375 51.609375 \nz\nM 42.140625 20.015625 \nQ 42.140625 26.421875 38.328125 29.65625 \nQ 34.515625 32.90625 27.640625 32.90625 \nQ 20.953125 32.90625 17.1875 29.40625 \nQ 13.421875 25.921875 13.421875 19.828125 \nQ 13.421875 5.609375 27.9375 5.609375 \nQ 35.109375 5.609375 38.625 9.046875 \nQ 42.140625 12.5 42.140625 20.015625 \nz\n\" id=\"LiberationSans-38\"/>\n      </defs>\n      <g style=\"fill:#262626;\" transform=\"translate(595.198282 304.443125)scale(0.1 -0.1)\">\n       <use xlink:href=\"#LiberationSans-32\"/>\n       <use x=\"55.615234\" xlink:href=\"#LiberationSans-30\"/>\n       <use x=\"111.230469\" xlink:href=\"#LiberationSans-32\"/>\n       <use x=\"166.845703\" xlink:href=\"#LiberationSans-30\"/>\n       <use x=\"222.460938\" xlink:href=\"#LiberationSans-2d\"/>\n       <use x=\"255.761719\" xlink:href=\"#LiberationSans-30\"/>\n       <use x=\"311.376953\" xlink:href=\"#LiberationSans-33\"/>\n       <use x=\"366.992188\" xlink:href=\"#LiberationSans-2d\"/>\n       <use x=\"400.292969\" xlink:href=\"#LiberationSans-30\"/>\n       <use x=\"455.908203\" xlink:href=\"#LiberationSans-38\"/>\n      </g>\n     </g>\n    </g>\n    <g id=\"xtick_6\">\n     <g id=\"line2d_6\"/>\n     <g id=\"text_6\">\n      <!-- 2020-03-22 -->\n      <g style=\"fill:#262626;\" transform=\"translate(725.722546 304.443125)scale(0.1 -0.1)\">\n       <use xlink:href=\"#LiberationSans-32\"/>\n       <use x=\"55.615234\" xlink:href=\"#LiberationSans-30\"/>\n       <use x=\"111.230469\" xlink:href=\"#LiberationSans-32\"/>\n       <use x=\"166.845703\" xlink:href=\"#LiberationSans-30\"/>\n       <use x=\"222.460938\" xlink:href=\"#LiberationSans-2d\"/>\n       <use x=\"255.761719\" xlink:href=\"#LiberationSans-30\"/>\n       <use x=\"311.376953\" xlink:href=\"#LiberationSans-33\"/>\n       <use x=\"366.992188\" xlink:href=\"#LiberationSans-2d\"/>\n       <use x=\"400.292969\" xlink:href=\"#LiberationSans-32\"/>\n       <use x=\"455.908203\" xlink:href=\"#LiberationSans-32\"/>\n      </g>\n     </g>\n    </g>\n    <g id=\"xtick_7\">\n     <g id=\"line2d_7\"/>\n     <g id=\"text_7\">\n      <!-- 2020-04-05 -->\n      <defs>\n       <path d=\"M 43.015625 15.578125 \nL 43.015625 0 \nL 34.71875 0 \nL 34.71875 15.578125 \nL 2.296875 15.578125 \nL 2.296875 22.40625 \nL 33.796875 68.796875 \nL 43.015625 68.796875 \nL 43.015625 22.515625 \nL 52.6875 22.515625 \nL 52.6875 15.578125 \nz\nM 34.71875 58.890625 \nQ 34.625 58.59375 33.34375 56.296875 \nQ 32.078125 54 31.453125 53.078125 \nL 13.8125 27.09375 \nL 11.1875 23.484375 \nL 10.40625 22.515625 \nL 34.71875 22.515625 \nz\n\" id=\"LiberationSans-34\"/>\n       <path d=\"M 51.421875 22.40625 \nQ 51.421875 11.53125 44.953125 5.265625 \nQ 38.484375 -0.984375 27 -0.984375 \nQ 17.390625 -0.984375 11.46875 3.21875 \nQ 5.5625 7.421875 4 15.375 \nL 12.890625 16.40625 \nQ 15.671875 6.203125 27.203125 6.203125 \nQ 34.28125 6.203125 38.28125 10.46875 \nQ 42.28125 14.75 42.28125 22.21875 \nQ 42.28125 28.71875 38.25 32.71875 \nQ 34.234375 36.71875 27.390625 36.71875 \nQ 23.828125 36.71875 20.75 35.59375 \nQ 17.671875 34.46875 14.59375 31.78125 \nL 6 31.78125 \nL 8.296875 68.796875 \nL 47.40625 68.796875 \nL 47.40625 61.328125 \nL 16.3125 61.328125 \nL 14.984375 39.5 \nQ 20.703125 43.890625 29.203125 43.890625 \nQ 39.359375 43.890625 45.390625 37.9375 \nQ 51.421875 31.984375 51.421875 22.40625 \nz\n\" id=\"LiberationSans-35\"/>\n      </defs>\n      <g style=\"fill:#262626;\" transform=\"translate(856.24681 304.443125)scale(0.1 -0.1)\">\n       <use xlink:href=\"#LiberationSans-32\"/>\n       <use x=\"55.615234\" xlink:href=\"#LiberationSans-30\"/>\n       <use x=\"111.230469\" xlink:href=\"#LiberationSans-32\"/>\n       <use x=\"166.845703\" xlink:href=\"#LiberationSans-30\"/>\n       <use x=\"222.460938\" xlink:href=\"#LiberationSans-2d\"/>\n       <use x=\"255.761719\" xlink:href=\"#LiberationSans-30\"/>\n       <use x=\"311.376953\" xlink:href=\"#LiberationSans-34\"/>\n       <use x=\"366.992188\" xlink:href=\"#LiberationSans-2d\"/>\n       <use x=\"400.292969\" xlink:href=\"#LiberationSans-30\"/>\n       <use x=\"455.908203\" xlink:href=\"#LiberationSans-35\"/>\n      </g>\n     </g>\n    </g>\n    <g id=\"xtick_8\">\n     <g id=\"line2d_8\"/>\n     <g id=\"text_8\">\n      <!-- 2020-04-19 -->\n      <g style=\"fill:#262626;\" transform=\"translate(986.771073 304.443125)scale(0.1 -0.1)\">\n       <use xlink:href=\"#LiberationSans-32\"/>\n       <use x=\"55.615234\" xlink:href=\"#LiberationSans-30\"/>\n       <use x=\"111.230469\" xlink:href=\"#LiberationSans-32\"/>\n       <use x=\"166.845703\" xlink:href=\"#LiberationSans-30\"/>\n       <use x=\"222.460938\" xlink:href=\"#LiberationSans-2d\"/>\n       <use x=\"255.761719\" xlink:href=\"#LiberationSans-30\"/>\n       <use x=\"311.376953\" xlink:href=\"#LiberationSans-34\"/>\n       <use x=\"366.992188\" xlink:href=\"#LiberationSans-2d\"/>\n       <use x=\"400.292969\" xlink:href=\"#LiberationSans-31\"/>\n       <use x=\"455.908203\" xlink:href=\"#LiberationSans-39\"/>\n      </g>\n     </g>\n    </g>\n    <g id=\"xtick_9\">\n     <g id=\"line2d_9\"/>\n     <g id=\"text_9\">\n      <!-- 2020-05-03 -->\n      <g style=\"fill:#262626;\" transform=\"translate(1117.295337 304.443125)scale(0.1 -0.1)\">\n       <use xlink:href=\"#LiberationSans-32\"/>\n       <use x=\"55.615234\" xlink:href=\"#LiberationSans-30\"/>\n       <use x=\"111.230469\" xlink:href=\"#LiberationSans-32\"/>\n       <use x=\"166.845703\" xlink:href=\"#LiberationSans-30\"/>\n       <use x=\"222.460938\" xlink:href=\"#LiberationSans-2d\"/>\n       <use x=\"255.761719\" xlink:href=\"#LiberationSans-30\"/>\n       <use x=\"311.376953\" xlink:href=\"#LiberationSans-35\"/>\n       <use x=\"366.992188\" xlink:href=\"#LiberationSans-2d\"/>\n       <use x=\"400.292969\" xlink:href=\"#LiberationSans-30\"/>\n       <use x=\"455.908203\" xlink:href=\"#LiberationSans-33\"/>\n      </g>\n     </g>\n    </g>\n   </g>\n   <g id=\"matplotlib.axis_2\">\n    <g id=\"ytick_1\">\n     <g id=\"line2d_10\"/>\n     <g id=\"text_10\">\n      <!-- 0 -->\n      <g style=\"fill:#262626;\" transform=\"translate(40.565625 285.846774)scale(0.1 -0.1)\">\n       <use xlink:href=\"#LiberationSans-30\"/>\n      </g>\n     </g>\n    </g>\n    <g id=\"ytick_2\">\n     <g id=\"line2d_11\"/>\n     <g id=\"text_11\">\n      <!-- 200000 -->\n      <g style=\"fill:#262626;\" transform=\"translate(12.760938 254.076196)scale(0.1 -0.1)\">\n       <use xlink:href=\"#LiberationSans-32\"/>\n       <use x=\"55.615234\" xlink:href=\"#LiberationSans-30\"/>\n       <use x=\"111.230469\" xlink:href=\"#LiberationSans-30\"/>\n       <use x=\"166.845703\" xlink:href=\"#LiberationSans-30\"/>\n       <use x=\"222.460938\" xlink:href=\"#LiberationSans-30\"/>\n       <use x=\"278.076172\" xlink:href=\"#LiberationSans-30\"/>\n      </g>\n     </g>\n    </g>\n    <g id=\"ytick_3\">\n     <g id=\"line2d_12\"/>\n     <g id=\"text_12\">\n      <!-- 400000 -->\n      <g style=\"fill:#262626;\" transform=\"translate(12.760938 222.305618)scale(0.1 -0.1)\">\n       <use xlink:href=\"#LiberationSans-34\"/>\n       <use x=\"55.615234\" xlink:href=\"#LiberationSans-30\"/>\n       <use x=\"111.230469\" xlink:href=\"#LiberationSans-30\"/>\n       <use x=\"166.845703\" xlink:href=\"#LiberationSans-30\"/>\n       <use x=\"222.460938\" xlink:href=\"#LiberationSans-30\"/>\n       <use x=\"278.076172\" xlink:href=\"#LiberationSans-30\"/>\n      </g>\n     </g>\n    </g>\n    <g id=\"ytick_4\">\n     <g id=\"line2d_13\"/>\n     <g id=\"text_13\">\n      <!-- 600000 -->\n      <g style=\"fill:#262626;\" transform=\"translate(12.760938 190.53504)scale(0.1 -0.1)\">\n       <use xlink:href=\"#LiberationSans-36\"/>\n       <use x=\"55.615234\" xlink:href=\"#LiberationSans-30\"/>\n       <use x=\"111.230469\" xlink:href=\"#LiberationSans-30\"/>\n       <use x=\"166.845703\" xlink:href=\"#LiberationSans-30\"/>\n       <use x=\"222.460938\" xlink:href=\"#LiberationSans-30\"/>\n       <use x=\"278.076172\" xlink:href=\"#LiberationSans-30\"/>\n      </g>\n     </g>\n    </g>\n    <g id=\"ytick_5\">\n     <g id=\"line2d_14\"/>\n     <g id=\"text_14\">\n      <!-- 800000 -->\n      <g style=\"fill:#262626;\" transform=\"translate(12.760938 158.764461)scale(0.1 -0.1)\">\n       <use xlink:href=\"#LiberationSans-38\"/>\n       <use x=\"55.615234\" xlink:href=\"#LiberationSans-30\"/>\n       <use x=\"111.230469\" xlink:href=\"#LiberationSans-30\"/>\n       <use x=\"166.845703\" xlink:href=\"#LiberationSans-30\"/>\n       <use x=\"222.460938\" xlink:href=\"#LiberationSans-30\"/>\n       <use x=\"278.076172\" xlink:href=\"#LiberationSans-30\"/>\n      </g>\n     </g>\n    </g>\n    <g id=\"ytick_6\">\n     <g id=\"line2d_15\"/>\n     <g id=\"text_15\">\n      <!-- 1000000 -->\n      <g style=\"fill:#262626;\" transform=\"translate(7.2 126.993883)scale(0.1 -0.1)\">\n       <use xlink:href=\"#LiberationSans-31\"/>\n       <use x=\"55.615234\" xlink:href=\"#LiberationSans-30\"/>\n       <use x=\"111.230469\" xlink:href=\"#LiberationSans-30\"/>\n       <use x=\"166.845703\" xlink:href=\"#LiberationSans-30\"/>\n       <use x=\"222.460938\" xlink:href=\"#LiberationSans-30\"/>\n       <use x=\"278.076172\" xlink:href=\"#LiberationSans-30\"/>\n       <use x=\"333.691406\" xlink:href=\"#LiberationSans-30\"/>\n      </g>\n     </g>\n    </g>\n    <g id=\"ytick_7\">\n     <g id=\"line2d_16\"/>\n     <g id=\"text_16\">\n      <!-- 1200000 -->\n      <g style=\"fill:#262626;\" transform=\"translate(7.2 95.223305)scale(0.1 -0.1)\">\n       <use xlink:href=\"#LiberationSans-31\"/>\n       <use x=\"55.615234\" xlink:href=\"#LiberationSans-32\"/>\n       <use x=\"111.230469\" xlink:href=\"#LiberationSans-30\"/>\n       <use x=\"166.845703\" xlink:href=\"#LiberationSans-30\"/>\n       <use x=\"222.460938\" xlink:href=\"#LiberationSans-30\"/>\n       <use x=\"278.076172\" xlink:href=\"#LiberationSans-30\"/>\n       <use x=\"333.691406\" xlink:href=\"#LiberationSans-30\"/>\n      </g>\n     </g>\n    </g>\n    <g id=\"ytick_8\">\n     <g id=\"line2d_17\"/>\n     <g id=\"text_17\">\n      <!-- 1400000 -->\n      <g style=\"fill:#262626;\" transform=\"translate(7.2 63.452727)scale(0.1 -0.1)\">\n       <use xlink:href=\"#LiberationSans-31\"/>\n       <use x=\"55.615234\" xlink:href=\"#LiberationSans-34\"/>\n       <use x=\"111.230469\" xlink:href=\"#LiberationSans-30\"/>\n       <use x=\"166.845703\" xlink:href=\"#LiberationSans-30\"/>\n       <use x=\"222.460938\" xlink:href=\"#LiberationSans-30\"/>\n       <use x=\"278.076172\" xlink:href=\"#LiberationSans-30\"/>\n       <use x=\"333.691406\" xlink:href=\"#LiberationSans-30\"/>\n      </g>\n     </g>\n    </g>\n    <g id=\"ytick_9\">\n     <g id=\"line2d_18\"/>\n     <g id=\"text_18\">\n      <!-- 1600000 -->\n      <g style=\"fill:#262626;\" transform=\"translate(7.2 31.682149)scale(0.1 -0.1)\">\n       <use xlink:href=\"#LiberationSans-31\"/>\n       <use x=\"55.615234\" xlink:href=\"#LiberationSans-36\"/>\n       <use x=\"111.230469\" xlink:href=\"#LiberationSans-30\"/>\n       <use x=\"166.845703\" xlink:href=\"#LiberationSans-30\"/>\n       <use x=\"222.460938\" xlink:href=\"#LiberationSans-30\"/>\n       <use x=\"278.076172\" xlink:href=\"#LiberationSans-30\"/>\n       <use x=\"333.691406\" xlink:href=\"#LiberationSans-30\"/>\n      </g>\n     </g>\n    </g>\n   </g>\n   <g id=\"PathCollection_1\">\n    <defs>\n     <path d=\"M 0 3 \nC 0.795609 3 1.55874 2.683901 2.12132 2.12132 \nC 2.683901 1.55874 3 0.795609 3 0 \nC 3 -0.795609 2.683901 -1.55874 2.12132 -2.12132 \nC 1.55874 -2.683901 0.795609 -3 0 -3 \nC -0.795609 -3 -1.55874 -2.683901 -2.12132 -2.12132 \nC -2.683901 -1.55874 -3 -0.795609 -3 0 \nC -3 0.795609 -2.683901 1.55874 -2.12132 2.12132 \nC -1.55874 2.683901 -0.795609 3 0 3 \nz\n\" id=\"m1b9f40f5ff\" style=\"stroke:#1f77b4;\"/>\n    </defs>\n    <g clip-path=\"url(#p42ece6c985)\">\n     <use style=\"fill:#1f77b4;stroke:#1f77b4;\" x=\"191.906281\" xlink:href=\"#m1b9f40f5ff\" y=\"281.341703\"/>\n     <use style=\"fill:#1f77b4;stroke:#1f77b4;\" x=\"201.229442\" xlink:href=\"#m1b9f40f5ff\" y=\"281.186027\"/>\n     <use style=\"fill:#1f77b4;stroke:#1f77b4;\" x=\"210.552604\" xlink:href=\"#m1b9f40f5ff\" y=\"280.728531\"/>\n     <use style=\"fill:#1f77b4;stroke:#1f77b4;\" x=\"219.875766\" xlink:href=\"#m1b9f40f5ff\" y=\"279.945386\"/>\n     <use style=\"fill:#1f77b4;stroke:#1f77b4;\" x=\"229.198928\" xlink:href=\"#m1b9f40f5ff\" y=\"278.858832\"/>\n     <use style=\"fill:#1f77b4;stroke:#1f77b4;\" x=\"238.522089\" xlink:href=\"#m1b9f40f5ff\" y=\"277.573712\"/>\n     <use style=\"fill:#1f77b4;stroke:#1f77b4;\" x=\"247.845251\" xlink:href=\"#m1b9f40f5ff\" y=\"273.362522\"/>\n     <use style=\"fill:#1f77b4;stroke:#1f77b4;\" x=\"257.168413\" xlink:href=\"#m1b9f40f5ff\" y=\"272.428467\"/>\n     <use style=\"fill:#1f77b4;stroke:#1f77b4;\" x=\"266.491574\" xlink:href=\"#m1b9f40f5ff\" y=\"269.143389\"/>\n     <use style=\"fill:#1f77b4;stroke:#1f77b4;\" x=\"275.814736\" xlink:href=\"#m1b9f40f5ff\" y=\"266.45401\"/>\n     <use style=\"fill:#1f77b4;stroke:#1f77b4;\" x=\"285.137898\" xlink:href=\"#m1b9f40f5ff\" y=\"263.100625\"/>\n     <use style=\"fill:#1f77b4;stroke:#1f77b4;\" x=\"294.461059\" xlink:href=\"#m1b9f40f5ff\" y=\"255.556702\"/>\n     <use style=\"fill:#1f77b4;stroke:#1f77b4;\" x=\"303.784221\" xlink:href=\"#m1b9f40f5ff\" y=\"250.641793\"/>\n     <use style=\"fill:#1f77b4;stroke:#1f77b4;\" x=\"313.107383\" xlink:href=\"#m1b9f40f5ff\" y=\"244.270204\"/>\n     <use style=\"fill:#1f77b4;stroke:#1f77b4;\" x=\"322.430545\" xlink:href=\"#m1b9f40f5ff\" y=\"238.32434\"/>\n     <use style=\"fill:#1f77b4;stroke:#1f77b4;\" x=\"331.753706\" xlink:href=\"#m1b9f40f5ff\" y=\"233.269641\"/>\n     <use style=\"fill:#1f77b4;stroke:#1f77b4;\" x=\"341.076868\" xlink:href=\"#m1b9f40f5ff\" y=\"227.592239\"/>\n     <use style=\"fill:#1f77b4;stroke:#1f77b4;\" x=\"350.40003\" xlink:href=\"#m1b9f40f5ff\" y=\"223.257143\"/>\n     <use style=\"fill:#1f77b4;stroke:#1f77b4;\" x=\"359.723191\" xlink:href=\"#m1b9f40f5ff\" y=\"218.443901\"/>\n     <use style=\"fill:#1f77b4;stroke:#1f77b4;\" x=\"369.046353\" xlink:href=\"#m1b9f40f5ff\" y=\"214.294663\"/>\n     <use style=\"fill:#1f77b4;stroke:#1f77b4;\" x=\"378.369515\" xlink:href=\"#m1b9f40f5ff\" y=\"211.054064\"/>\n     <use style=\"fill:#1f77b4;stroke:#1f77b4;\" x=\"387.692677\" xlink:href=\"#m1b9f40f5ff\" y=\"210.388471\"/>\n     <use style=\"fill:#1f77b4;stroke:#1f77b4;\" x=\"397.015838\" xlink:href=\"#m1b9f40f5ff\" y=\"186.327023\"/>\n     <use style=\"fill:#1f77b4;stroke:#1f77b4;\" x=\"406.339\" xlink:href=\"#m1b9f40f5ff\" y=\"175.974581\"/>\n     <use style=\"fill:#1f77b4;stroke:#1f77b4;\" x=\"415.662162\" xlink:href=\"#m1b9f40f5ff\" y=\"172.567186\"/>\n     <use style=\"fill:#1f77b4;stroke:#1f77b4;\" x=\"424.985323\" xlink:href=\"#m1b9f40f5ff\" y=\"169.081954\"/>\n     <use style=\"fill:#1f77b4;stroke:#1f77b4;\" x=\"434.308485\" xlink:href=\"#m1b9f40f5ff\" y=\"165.850886\"/>\n     <use style=\"fill:#1f77b4;stroke:#1f77b4;\" x=\"443.631647\" xlink:href=\"#m1b9f40f5ff\" y=\"162.867629\"/>\n     <use style=\"fill:#1f77b4;stroke:#1f77b4;\" x=\"452.954809\" xlink:href=\"#m1b9f40f5ff\" y=\"162.068598\"/>\n     <use style=\"fill:#1f77b4;stroke:#1f77b4;\" x=\"462.27797\" xlink:href=\"#m1b9f40f5ff\" y=\"161.182199\"/>\n     <use style=\"fill:#1f77b4;stroke:#1f77b4;\" x=\"471.601132\" xlink:href=\"#m1b9f40f5ff\" y=\"160.18778\"/>\n     <use style=\"fill:#1f77b4;stroke:#1f77b4;\" x=\"480.924294\" xlink:href=\"#m1b9f40f5ff\" y=\"157.398324\"/>\n     <use style=\"fill:#1f77b4;stroke:#1f77b4;\" x=\"490.247455\" xlink:href=\"#m1b9f40f5ff\" y=\"156.785151\"/>\n     <use style=\"fill:#1f77b4;stroke:#1f77b4;\" x=\"499.570617\" xlink:href=\"#m1b9f40f5ff\" y=\"155.827268\"/>\n     <use style=\"fill:#1f77b4;stroke:#1f77b4;\" x=\"508.893779\" xlink:href=\"#m1b9f40f5ff\" y=\"154.484961\"/>\n     <use style=\"fill:#1f77b4;stroke:#1f77b4;\" x=\"518.21694\" xlink:href=\"#m1b9f40f5ff\" y=\"152.925026\"/>\n     <use style=\"fill:#1f77b4;stroke:#1f77b4;\" x=\"527.540102\" xlink:href=\"#m1b9f40f5ff\" y=\"150.766215\"/>\n     <use style=\"fill:#1f77b4;stroke:#1f77b4;\" x=\"536.863264\" xlink:href=\"#m1b9f40f5ff\" y=\"148.596285\"/>\n     <use style=\"fill:#1f77b4;stroke:#1f77b4;\" x=\"546.186426\" xlink:href=\"#m1b9f40f5ff\" y=\"145.592377\"/>\n     <use style=\"fill:#1f77b4;stroke:#1f77b4;\" x=\"555.509587\" xlink:href=\"#m1b9f40f5ff\" y=\"141.846626\"/>\n     <use style=\"fill:#1f77b4;stroke:#1f77b4;\" x=\"564.832749\" xlink:href=\"#m1b9f40f5ff\" y=\"138.769645\"/>\n     <use style=\"fill:#1f77b4;stroke:#1f77b4;\" x=\"574.155911\" xlink:href=\"#m1b9f40f5ff\" y=\"134.744313\"/>\n     <use style=\"fill:#1f77b4;stroke:#1f77b4;\" x=\"583.479072\" xlink:href=\"#m1b9f40f5ff\" y=\"131.122467\"/>\n     <use style=\"fill:#1f77b4;stroke:#1f77b4;\" x=\"592.802234\" xlink:href=\"#m1b9f40f5ff\" y=\"126.73495\"/>\n     <use style=\"fill:#1f77b4;stroke:#1f77b4;\" x=\"602.125396\" xlink:href=\"#m1b9f40f5ff\" y=\"120.53651\"/>\n     <use style=\"fill:#1f77b4;stroke:#1f77b4;\" x=\"611.448558\" xlink:href=\"#m1b9f40f5ff\" y=\"114.123619\"/>\n     <use style=\"fill:#1f77b4;stroke:#1f77b4;\" x=\"620.771719\" xlink:href=\"#m1b9f40f5ff\" y=\"107.810805\"/>\n     <use style=\"fill:#1f77b4;stroke:#1f77b4;\" x=\"630.094881\" xlink:href=\"#m1b9f40f5ff\" y=\"101.828405\"/>\n     <use style=\"fill:#1f77b4;stroke:#1f77b4;\" x=\"639.418043\" xlink:href=\"#m1b9f40f5ff\" y=\"93.836516\"/>\n     <use style=\"fill:#1f77b4;stroke:#1f77b4;\" x=\"648.741204\" xlink:href=\"#m1b9f40f5ff\" y=\"82.283146\"/>\n     <use style=\"fill:#1f77b4;stroke:#1f77b4;\" x=\"658.064366\" xlink:href=\"#m1b9f40f5ff\" y=\"78.346771\"/>\n     <use style=\"fill:#1f77b4;stroke:#1f77b4;\" x=\"667.387528\" xlink:href=\"#m1b9f40f5ff\" y=\"51.580059\"/>\n     <use style=\"fill:#1f77b4;stroke:#1f77b4;\" x=\"676.71069\" xlink:href=\"#m1b9f40f5ff\" y=\"34.250797\"/>\n    </g>\n   </g>\n   <g id=\"line2d_19\">\n    <path clip-path=\"url(#p42ece6c985)\" d=\"M 191.906281 268.012607 \nL 201.229442 266.740677 \nL 210.552604 265.364106 \nL 219.875766 263.875975 \nL 229.198928 262.269218 \nL 238.522089 260.536677 \nL 247.845251 258.671173 \nL 257.168413 256.665591 \nL 266.491574 254.512978 \nL 275.814736 252.206654 \nL 285.137898 249.740338 \nL 294.461059 247.108291 \nL 303.784221 244.305469 \nL 313.107383 241.32768 \nL 322.430545 238.171762 \nL 331.753706 234.835751 \nL 341.076868 231.319057 \nL 350.40003 227.622625 \nL 359.723191 223.749092 \nL 369.046353 219.702913 \nL 378.369515 215.490463 \nL 387.692677 211.120112 \nL 397.015838 206.602241 \nL 406.339 201.949227 \nL 415.662162 197.175368 \nL 424.985323 192.296753 \nL 434.308485 187.331086 \nL 443.631647 182.29745 \nL 452.954809 177.216032 \nL 462.27797 172.10781 \nL 471.601132 166.994209 \nL 480.924294 161.896745 \nL 490.247455 156.836662 \nL 499.570617 151.834584 \nL 508.893779 146.910184 \nL 518.21694 142.081885 \nL 527.540102 137.366609 \nL 536.863264 132.779568 \nL 546.186426 128.334111 \nL 555.509587 124.041621 \nL 564.832749 119.911473 \nL 574.155911 115.951032 \nL 583.479072 112.165703 \nL 592.802234 108.559014 \nL 602.125396 105.132737 \nL 611.448558 101.887031 \nL 620.771719 98.820595 \nL 630.094881 95.930844 \nL 639.418043 93.21408 \nL 648.741204 90.665664 \nL 658.064366 88.280182 \nL 667.387528 86.051607 \nL 676.71069 83.973441 \nL 686.033851 82.038854 \nL 695.357013 80.240796 \nL 704.680175 78.572111 \nL 714.003336 77.025619 \nL 723.326498 75.594202 \nL 732.64966 74.27086 \nL 741.972821 73.048768 \nL 751.295983 71.921317 \nL 760.619145 70.882146 \nL 769.942307 69.925163 \nL 779.265468 69.044564 \nL 788.58863 68.234841 \nL 797.911792 67.490786 \nL 807.234953 66.807493 \nL 816.558115 66.180356 \nL 825.881277 65.605055 \nL 835.204439 65.077557 \nL 844.5276 64.594102 \nL 853.850762 64.151187 \nL 863.173924 63.745562 \nL 872.497085 63.374213 \nL 881.820247 63.034346 \nL 891.143409 62.72338 \nL 900.46657 62.43893 \nL 909.789732 62.178797 \nL 919.112894 61.940952 \nL 928.436056 61.72353 \nL 937.759217 61.524811 \nL 947.082379 61.343217 \nL 956.405541 61.177297 \nL 965.728702 61.025718 \nL 975.051864 60.887259 \nL 984.375026 60.760799 \nL 993.698188 60.645309 \nL 1003.021349 60.539848 \nL 1012.344511 60.443553 \nL 1021.667673 60.355636 \nL 1030.990834 60.275372 \nL 1040.313996 60.202101 \nL 1049.637158 60.135216 \nL 1058.96032 60.074166 \nL 1068.283481 60.018444 \nL 1077.606643 59.967587 \nL 1086.929805 59.921172 \nL 1096.252966 59.878813 \nL 1105.576128 59.840157 \nL 1114.89929 59.804881 \n\" style=\"fill:none;stroke:#1f77b4;stroke-linecap:round;stroke-width:1.5;\"/>\n   </g>\n   <g id=\"patch_3\">\n    <path d=\"M 49.626563 293.69625 \nL 49.626563 21.89625 \n\" style=\"fill:none;\"/>\n   </g>\n   <g id=\"patch_4\">\n    <path d=\"M 1165.626563 293.69625 \nL 1165.626563 21.89625 \n\" style=\"fill:none;\"/>\n   </g>\n   <g id=\"patch_5\">\n    <path d=\"M 49.626562 293.69625 \nL 1165.626562 293.69625 \n\" style=\"fill:none;\"/>\n   </g>\n   <g id=\"patch_6\">\n    <path d=\"M 49.626562 21.89625 \nL 1165.626562 21.89625 \n\" style=\"fill:none;\"/>\n   </g>\n   <g id=\"text_19\">\n    <!-- Covid-19 Model Infections (without PRC) -->\n    <defs>\n     <path d=\"M 38.671875 62.203125 \nQ 27.25 62.203125 20.890625 54.859375 \nQ 14.546875 47.515625 14.546875 34.71875 \nQ 14.546875 22.078125 21.15625 14.375 \nQ 27.78125 6.6875 39.0625 6.6875 \nQ 53.515625 6.6875 60.796875 21 \nL 68.40625 17.1875 \nQ 64.15625 8.296875 56.46875 3.65625 \nQ 48.78125 -0.984375 38.625 -0.984375 \nQ 28.21875 -0.984375 20.625 3.34375 \nQ 13.03125 7.671875 9.046875 15.703125 \nQ 5.078125 23.734375 5.078125 34.71875 \nQ 5.078125 51.171875 13.96875 60.5 \nQ 22.859375 69.828125 38.578125 69.828125 \nQ 49.5625 69.828125 56.9375 65.53125 \nQ 64.3125 61.234375 67.78125 52.78125 \nL 58.9375 49.859375 \nQ 56.546875 55.859375 51.25 59.03125 \nQ 45.953125 62.203125 38.671875 62.203125 \nz\n\" id=\"LiberationSans-43\"/>\n     <path d=\"M 51.421875 26.46875 \nQ 51.421875 12.59375 45.3125 5.796875 \nQ 39.203125 -0.984375 27.59375 -0.984375 \nQ 16.015625 -0.984375 10.109375 6.078125 \nQ 4.203125 13.140625 4.203125 26.46875 \nQ 4.203125 53.8125 27.875 53.8125 \nQ 39.984375 53.8125 45.703125 47.140625 \nQ 51.421875 40.484375 51.421875 26.46875 \nz\nM 42.1875 26.46875 \nQ 42.1875 37.40625 38.9375 42.359375 \nQ 35.6875 47.3125 28.03125 47.3125 \nQ 20.3125 47.3125 16.859375 42.25 \nQ 13.421875 37.203125 13.421875 26.46875 \nQ 13.421875 16.015625 16.8125 10.765625 \nQ 20.21875 5.515625 27.484375 5.515625 \nQ 35.40625 5.515625 38.796875 10.59375 \nQ 42.1875 15.671875 42.1875 26.46875 \nz\n\" id=\"LiberationSans-6f\"/>\n     <path d=\"M 29.9375 0 \nL 19.53125 0 \nL 0.34375 52.828125 \nL 9.71875 52.828125 \nL 21.34375 18.453125 \nQ 21.96875 16.5 24.703125 6.890625 \nL 26.421875 12.59375 \nL 28.328125 18.359375 \nL 40.328125 52.828125 \nL 49.65625 52.828125 \nz\n\" id=\"LiberationSans-76\"/>\n     <path d=\"M 6.6875 64.0625 \nL 6.6875 72.46875 \nL 15.484375 72.46875 \nL 15.484375 64.0625 \nz\nM 6.6875 0 \nL 6.6875 52.828125 \nL 15.484375 52.828125 \nL 15.484375 0 \nz\n\" id=\"LiberationSans-69\"/>\n     <path d=\"M 40.09375 8.5 \nQ 37.640625 3.421875 33.609375 1.21875 \nQ 29.59375 -0.984375 23.640625 -0.984375 \nQ 13.625 -0.984375 8.90625 5.75 \nQ 4.203125 12.5 4.203125 26.171875 \nQ 4.203125 53.8125 23.640625 53.8125 \nQ 29.640625 53.8125 33.640625 51.609375 \nQ 37.640625 49.421875 40.09375 44.625 \nL 40.1875 44.625 \nL 40.09375 50.53125 \nL 40.09375 72.46875 \nL 48.875 72.46875 \nL 48.875 10.890625 \nQ 48.875 2.640625 49.171875 0 \nL 40.765625 0 \nQ 40.625 0.78125 40.453125 3.609375 \nQ 40.28125 6.453125 40.28125 8.5 \nz\nM 13.421875 26.46875 \nQ 13.421875 15.375 16.34375 10.59375 \nQ 19.28125 5.8125 25.875 5.8125 \nQ 33.34375 5.8125 36.71875 10.984375 \nQ 40.09375 16.15625 40.09375 27.046875 \nQ 40.09375 37.546875 36.71875 42.421875 \nQ 33.34375 47.3125 25.984375 47.3125 \nQ 19.34375 47.3125 16.375 42.40625 \nQ 13.421875 37.5 13.421875 26.46875 \nz\n\" id=\"LiberationSans-64\"/>\n     <path id=\"LiberationSans-20\"/>\n     <path d=\"M 66.703125 0 \nL 66.703125 45.90625 \nQ 66.703125 53.515625 67.140625 60.546875 \nQ 64.75 51.8125 62.84375 46.875 \nL 45.0625 0 \nL 38.53125 0 \nL 20.515625 46.875 \nL 17.78125 55.171875 \nL 16.15625 60.546875 \nL 16.3125 55.125 \nL 16.5 45.90625 \nL 16.5 0 \nL 8.203125 0 \nL 8.203125 68.796875 \nL 20.453125 68.796875 \nL 38.765625 21.09375 \nQ 39.75 18.21875 40.640625 14.921875 \nQ 41.546875 11.625 41.84375 10.15625 \nQ 42.234375 12.109375 43.484375 16.078125 \nQ 44.734375 20.0625 45.171875 21.09375 \nL 63.140625 68.796875 \nL 75.09375 68.796875 \nL 75.09375 0 \nz\n\" id=\"LiberationSans-4d\"/>\n     <path d=\"M 13.484375 24.5625 \nQ 13.484375 15.484375 17.234375 10.546875 \nQ 21 5.609375 28.21875 5.609375 \nQ 33.9375 5.609375 37.375 7.90625 \nQ 40.828125 10.203125 42.046875 13.71875 \nL 49.75 11.53125 \nQ 45.015625 -0.984375 28.21875 -0.984375 \nQ 16.5 -0.984375 10.375 6 \nQ 4.25 12.984375 4.25 26.765625 \nQ 4.25 39.84375 10.375 46.828125 \nQ 16.5 53.8125 27.875 53.8125 \nQ 51.171875 53.8125 51.171875 25.734375 \nL 51.171875 24.5625 \nz\nM 42.09375 31.296875 \nQ 41.359375 39.65625 37.84375 43.484375 \nQ 34.328125 47.3125 27.734375 47.3125 \nQ 21.34375 47.3125 17.609375 43.03125 \nQ 13.875 38.765625 13.578125 31.296875 \nz\n\" id=\"LiberationSans-65\"/>\n     <path d=\"M 6.734375 0 \nL 6.734375 72.46875 \nL 15.53125 72.46875 \nL 15.53125 0 \nz\n\" id=\"LiberationSans-6c\"/>\n     <path d=\"M 9.234375 0 \nL 9.234375 68.796875 \nL 18.5625 68.796875 \nL 18.5625 0 \nz\n\" id=\"LiberationSans-49\"/>\n     <path d=\"M 40.28125 0 \nL 40.28125 33.5 \nQ 40.28125 38.71875 39.25 41.59375 \nQ 38.234375 44.484375 35.984375 45.75 \nQ 33.734375 47.015625 29.390625 47.015625 \nQ 23.046875 47.015625 19.375 42.671875 \nQ 15.71875 38.328125 15.71875 30.609375 \nL 15.71875 0 \nL 6.9375 0 \nL 6.9375 41.546875 \nQ 6.9375 50.78125 6.640625 52.828125 \nL 14.9375 52.828125 \nQ 14.984375 52.59375 15.03125 51.515625 \nQ 15.09375 50.4375 15.15625 49.046875 \nQ 15.234375 47.65625 15.328125 43.796875 \nL 15.484375 43.796875 \nQ 18.5 49.265625 22.484375 51.53125 \nQ 26.46875 53.8125 32.375 53.8125 \nQ 41.0625 53.8125 45.09375 49.484375 \nQ 49.125 45.171875 49.125 35.203125 \nL 49.125 0 \nz\n\" id=\"LiberationSans-6e\"/>\n     <path d=\"M 17.625 46.4375 \nL 17.625 0 \nL 8.84375 0 \nL 8.84375 46.4375 \nL 1.421875 46.4375 \nL 1.421875 52.828125 \nL 8.84375 52.828125 \nL 8.84375 58.796875 \nQ 8.84375 66.015625 12.015625 69.1875 \nQ 15.1875 72.359375 21.734375 72.359375 \nQ 25.390625 72.359375 27.9375 71.78125 \nL 27.9375 65.09375 \nQ 25.734375 65.484375 24.03125 65.484375 \nQ 20.65625 65.484375 19.140625 63.765625 \nQ 17.625 62.0625 17.625 57.5625 \nL 17.625 52.828125 \nL 27.9375 52.828125 \nL 27.9375 46.4375 \nz\n\" id=\"LiberationSans-66\"/>\n     <path d=\"M 13.421875 26.65625 \nQ 13.421875 16.109375 16.734375 11.03125 \nQ 20.0625 5.953125 26.765625 5.953125 \nQ 31.453125 5.953125 34.59375 8.484375 \nQ 37.75 11.03125 38.484375 16.3125 \nL 47.359375 15.71875 \nQ 46.34375 8.109375 40.875 3.5625 \nQ 35.40625 -0.984375 27 -0.984375 \nQ 15.921875 -0.984375 10.078125 6.015625 \nQ 4.25 13.03125 4.25 26.46875 \nQ 4.25 39.796875 10.109375 46.796875 \nQ 15.96875 53.8125 26.90625 53.8125 \nQ 35.015625 53.8125 40.359375 49.609375 \nQ 45.703125 45.40625 47.078125 38.03125 \nL 38.03125 37.359375 \nQ 37.359375 41.75 34.5625 44.328125 \nQ 31.78125 46.921875 26.65625 46.921875 \nQ 19.671875 46.921875 16.546875 42.28125 \nQ 13.421875 37.640625 13.421875 26.65625 \nz\n\" id=\"LiberationSans-63\"/>\n     <path d=\"M 27.046875 0.390625 \nQ 22.703125 -0.78125 18.171875 -0.78125 \nQ 7.625 -0.78125 7.625 11.1875 \nL 7.625 46.4375 \nL 1.515625 46.4375 \nL 1.515625 52.828125 \nL 7.953125 52.828125 \nL 10.546875 64.65625 \nL 16.40625 64.65625 \nL 16.40625 52.828125 \nL 26.171875 52.828125 \nL 26.171875 46.4375 \nL 16.40625 46.4375 \nL 16.40625 13.09375 \nQ 16.40625 9.28125 17.640625 7.734375 \nQ 18.890625 6.203125 21.96875 6.203125 \nQ 23.734375 6.203125 27.046875 6.890625 \nz\n\" id=\"LiberationSans-74\"/>\n     <path d=\"M 46.390625 14.59375 \nQ 46.390625 7.125 40.75 3.0625 \nQ 35.109375 -0.984375 24.953125 -0.984375 \nQ 15.09375 -0.984375 9.734375 2.265625 \nQ 4.390625 5.515625 2.78125 12.40625 \nL 10.546875 13.921875 \nQ 11.671875 9.671875 15.1875 7.6875 \nQ 18.703125 5.71875 24.953125 5.71875 \nQ 31.640625 5.71875 34.734375 7.765625 \nQ 37.84375 9.8125 37.84375 13.921875 \nQ 37.84375 17.046875 35.6875 19 \nQ 33.546875 20.953125 28.765625 22.21875 \nL 22.46875 23.875 \nQ 14.890625 25.828125 11.6875 27.703125 \nQ 8.5 29.59375 6.6875 32.28125 \nQ 4.890625 34.96875 4.890625 38.875 \nQ 4.890625 46.09375 10.03125 49.875 \nQ 15.1875 53.65625 25.046875 53.65625 \nQ 33.796875 53.65625 38.9375 50.578125 \nQ 44.09375 47.515625 45.453125 40.71875 \nL 37.546875 39.75 \nQ 36.8125 43.265625 33.609375 45.140625 \nQ 30.421875 47.015625 25.046875 47.015625 \nQ 19.09375 47.015625 16.25 45.203125 \nQ 13.421875 43.40625 13.421875 39.75 \nQ 13.421875 37.5 14.59375 36.03125 \nQ 15.765625 34.578125 18.0625 33.546875 \nQ 20.359375 32.515625 27.734375 30.71875 \nQ 34.71875 28.953125 37.796875 27.46875 \nQ 40.875 25.984375 42.65625 24.171875 \nQ 44.4375 22.359375 45.40625 19.984375 \nQ 46.390625 17.625 46.390625 14.59375 \nz\n\" id=\"LiberationSans-73\"/>\n     <path d=\"M 6.203125 25.984375 \nQ 6.203125 40.09375 10.625 51.3125 \nQ 15.046875 62.546875 24.21875 72.46875 \nL 32.71875 72.46875 \nQ 23.578125 62.3125 19.3125 50.875 \nQ 15.046875 39.453125 15.046875 25.875 \nQ 15.046875 12.359375 19.265625 0.96875 \nQ 23.484375 -10.40625 32.71875 -20.703125 \nL 24.21875 -20.703125 \nQ 14.984375 -10.75 10.59375 0.5 \nQ 6.203125 11.765625 6.203125 25.78125 \nz\n\" id=\"LiberationSans-28\"/>\n     <path d=\"M 57.328125 0 \nL 47.125 0 \nL 37.890625 37.359375 \nL 36.140625 45.609375 \nQ 35.6875 43.40625 34.765625 39.28125 \nQ 33.84375 35.15625 24.8125 0 \nL 14.65625 0 \nL -0.140625 52.828125 \nL 8.546875 52.828125 \nL 17.484375 16.9375 \nQ 17.828125 15.765625 19.578125 7.28125 \nL 20.40625 10.890625 \nL 31.453125 52.828125 \nL 40.875 52.828125 \nL 50.09375 16.546875 \nL 52.34375 7.28125 \nL 53.859375 14.0625 \nL 63.875 52.828125 \nL 72.46875 52.828125 \nz\n\" id=\"LiberationSans-77\"/>\n     <path d=\"M 15.484375 43.796875 \nQ 18.3125 48.96875 22.28125 51.390625 \nQ 26.265625 53.8125 32.375 53.8125 \nQ 40.96875 53.8125 45.046875 49.53125 \nQ 49.125 45.265625 49.125 35.203125 \nL 49.125 0 \nL 40.28125 0 \nL 40.28125 33.5 \nQ 40.28125 39.0625 39.25 41.765625 \nQ 38.234375 44.484375 35.890625 45.75 \nQ 33.546875 47.015625 29.390625 47.015625 \nQ 23.1875 47.015625 19.453125 42.71875 \nQ 15.71875 38.421875 15.71875 31.15625 \nL 15.71875 0 \nL 6.9375 0 \nL 6.9375 72.46875 \nL 15.71875 72.46875 \nL 15.71875 53.609375 \nQ 15.71875 50.640625 15.546875 47.453125 \nQ 15.375 44.28125 15.328125 43.796875 \nz\n\" id=\"LiberationSans-68\"/>\n     <path d=\"M 15.328125 52.828125 \nL 15.328125 19.34375 \nQ 15.328125 14.109375 16.359375 11.21875 \nQ 17.390625 8.34375 19.625 7.078125 \nQ 21.875 5.8125 26.21875 5.8125 \nQ 32.5625 5.8125 36.21875 10.15625 \nQ 39.890625 14.5 39.890625 22.21875 \nL 39.890625 52.828125 \nL 48.6875 52.828125 \nL 48.6875 11.28125 \nQ 48.6875 2.046875 48.96875 0 \nL 40.671875 0 \nQ 40.625 0.25 40.578125 1.3125 \nQ 40.53125 2.390625 40.453125 3.78125 \nQ 40.375 5.171875 40.28125 9.03125 \nL 40.140625 9.03125 \nQ 37.109375 3.5625 33.125 1.28125 \nQ 29.15625 -0.984375 23.25 -0.984375 \nQ 14.546875 -0.984375 10.515625 3.34375 \nQ 6.5 7.671875 6.5 17.625 \nL 6.5 52.828125 \nz\n\" id=\"LiberationSans-75\"/>\n     <path d=\"M 61.421875 48.09375 \nQ 61.421875 38.328125 55.046875 32.5625 \nQ 48.6875 26.8125 37.75 26.8125 \nL 17.53125 26.8125 \nL 17.53125 0 \nL 8.203125 0 \nL 8.203125 68.796875 \nL 37.15625 68.796875 \nQ 48.734375 68.796875 55.078125 63.375 \nQ 61.421875 57.953125 61.421875 48.09375 \nz\nM 52.046875 48 \nQ 52.046875 61.328125 36.03125 61.328125 \nL 17.53125 61.328125 \nL 17.53125 34.1875 \nL 36.421875 34.1875 \nQ 52.046875 34.1875 52.046875 48 \nz\n\" id=\"LiberationSans-50\"/>\n     <path d=\"M 56.84375 0 \nL 38.96875 28.5625 \nL 17.53125 28.5625 \nL 17.53125 0 \nL 8.203125 0 \nL 8.203125 68.796875 \nL 40.578125 68.796875 \nQ 52.203125 68.796875 58.515625 63.59375 \nQ 64.84375 58.40625 64.84375 49.125 \nQ 64.84375 41.453125 60.375 36.21875 \nQ 55.90625 31 48.046875 29.640625 \nL 67.578125 0 \nz\nM 55.46875 49.03125 \nQ 55.46875 55.03125 51.390625 58.171875 \nQ 47.3125 61.328125 39.65625 61.328125 \nL 17.53125 61.328125 \nL 17.53125 35.9375 \nL 40.046875 35.9375 \nQ 47.40625 35.9375 51.4375 39.375 \nQ 55.46875 42.828125 55.46875 49.03125 \nz\n\" id=\"LiberationSans-52\"/>\n     <path d=\"M 27.09375 25.78125 \nQ 27.09375 11.671875 22.671875 0.4375 \nQ 18.265625 -10.796875 9.078125 -20.703125 \nL 0.59375 -20.703125 \nQ 9.765625 -10.453125 14.015625 0.890625 \nQ 18.265625 12.25 18.265625 25.875 \nQ 18.265625 39.5 13.984375 50.875 \nQ 9.71875 62.25 0.59375 72.46875 \nL 9.078125 72.46875 \nQ 18.3125 62.5 22.703125 51.234375 \nQ 27.09375 39.984375 27.09375 25.984375 \nz\n\" id=\"LiberationSans-29\"/>\n    </defs>\n    <g style=\"fill:#262626;\" transform=\"translate(499.254375 15.89625)scale(0.12 -0.12)\">\n     <use xlink:href=\"#LiberationSans-43\"/>\n     <use x=\"72.216797\" xlink:href=\"#LiberationSans-6f\"/>\n     <use x=\"127.832031\" xlink:href=\"#LiberationSans-76\"/>\n     <use x=\"177.832031\" xlink:href=\"#LiberationSans-69\"/>\n     <use x=\"200.048828\" xlink:href=\"#LiberationSans-64\"/>\n     <use x=\"255.664062\" xlink:href=\"#LiberationSans-2d\"/>\n     <use x=\"288.964844\" xlink:href=\"#LiberationSans-31\"/>\n     <use x=\"344.580078\" xlink:href=\"#LiberationSans-39\"/>\n     <use x=\"400.195312\" xlink:href=\"#LiberationSans-20\"/>\n     <use x=\"427.978516\" xlink:href=\"#LiberationSans-4d\"/>\n     <use x=\"511.279297\" xlink:href=\"#LiberationSans-6f\"/>\n     <use x=\"566.894531\" xlink:href=\"#LiberationSans-64\"/>\n     <use x=\"622.509766\" xlink:href=\"#LiberationSans-65\"/>\n     <use x=\"678.125\" xlink:href=\"#LiberationSans-6c\"/>\n     <use x=\"700.341797\" xlink:href=\"#LiberationSans-20\"/>\n     <use x=\"728.125\" xlink:href=\"#LiberationSans-49\"/>\n     <use x=\"755.908203\" xlink:href=\"#LiberationSans-6e\"/>\n     <use x=\"811.523438\" xlink:href=\"#LiberationSans-66\"/>\n     <use x=\"839.306641\" xlink:href=\"#LiberationSans-65\"/>\n     <use x=\"894.921875\" xlink:href=\"#LiberationSans-63\"/>\n     <use x=\"944.921875\" xlink:href=\"#LiberationSans-74\"/>\n     <use x=\"972.705078\" xlink:href=\"#LiberationSans-69\"/>\n     <use x=\"994.921875\" xlink:href=\"#LiberationSans-6f\"/>\n     <use x=\"1050.537109\" xlink:href=\"#LiberationSans-6e\"/>\n     <use x=\"1106.152344\" xlink:href=\"#LiberationSans-73\"/>\n     <use x=\"1156.152344\" xlink:href=\"#LiberationSans-20\"/>\n     <use x=\"1183.935547\" xlink:href=\"#LiberationSans-28\"/>\n     <use x=\"1217.236328\" xlink:href=\"#LiberationSans-77\"/>\n     <use x=\"1289.453125\" xlink:href=\"#LiberationSans-69\"/>\n     <use x=\"1311.669922\" xlink:href=\"#LiberationSans-74\"/>\n     <use x=\"1339.453125\" xlink:href=\"#LiberationSans-68\"/>\n     <use x=\"1395.068359\" xlink:href=\"#LiberationSans-6f\"/>\n     <use x=\"1450.683594\" xlink:href=\"#LiberationSans-75\"/>\n     <use x=\"1506.298828\" xlink:href=\"#LiberationSans-74\"/>\n     <use x=\"1534.082031\" xlink:href=\"#LiberationSans-20\"/>\n     <use x=\"1561.865234\" xlink:href=\"#LiberationSans-50\"/>\n     <use x=\"1628.564453\" xlink:href=\"#LiberationSans-52\"/>\n     <use x=\"1700.78125\" xlink:href=\"#LiberationSans-43\"/>\n     <use x=\"1772.998047\" xlink:href=\"#LiberationSans-29\"/>\n    </g>\n   </g>\n   <g id=\"legend_1\">\n    <g id=\"line2d_20\">\n     <path d=\"M 1029.701563 34.643125 \nL 1049.701563 34.643125 \n\" style=\"fill:none;stroke:#1f77b4;stroke-linecap:round;stroke-width:1.5;\"/>\n    </g>\n    <g id=\"line2d_21\"/>\n    <g id=\"text_20\">\n     <!-- Fitted Function -->\n     <defs>\n      <path d=\"M 17.53125 61.1875 \nL 17.53125 35.59375 \nL 55.90625 35.59375 \nL 55.90625 27.875 \nL 17.53125 27.875 \nL 17.53125 0 \nL 8.203125 0 \nL 8.203125 68.796875 \nL 57.078125 68.796875 \nL 57.078125 61.1875 \nz\n\" id=\"LiberationSans-46\"/>\n     </defs>\n     <g style=\"fill:#262626;\" transform=\"translate(1057.701563 38.143125)scale(0.1 -0.1)\">\n      <use xlink:href=\"#LiberationSans-46\"/>\n      <use x=\"61.083984\" xlink:href=\"#LiberationSans-69\"/>\n      <use x=\"83.300781\" xlink:href=\"#LiberationSans-74\"/>\n      <use x=\"111.083984\" xlink:href=\"#LiberationSans-74\"/>\n      <use x=\"138.867188\" xlink:href=\"#LiberationSans-65\"/>\n      <use x=\"194.482422\" xlink:href=\"#LiberationSans-64\"/>\n      <use x=\"250.097656\" xlink:href=\"#LiberationSans-20\"/>\n      <use x=\"277.880859\" xlink:href=\"#LiberationSans-46\"/>\n      <use x=\"338.964844\" xlink:href=\"#LiberationSans-75\"/>\n      <use x=\"394.580078\" xlink:href=\"#LiberationSans-6e\"/>\n      <use x=\"450.195312\" xlink:href=\"#LiberationSans-63\"/>\n      <use x=\"500.195312\" xlink:href=\"#LiberationSans-74\"/>\n      <use x=\"527.978516\" xlink:href=\"#LiberationSans-69\"/>\n      <use x=\"550.195312\" xlink:href=\"#LiberationSans-6f\"/>\n      <use x=\"605.810547\" xlink:href=\"#LiberationSans-6e\"/>\n     </g>\n    </g>\n    <g id=\"PathCollection_2\">\n     <g>\n      <use style=\"fill:#1f77b4;stroke:#1f77b4;\" x=\"1039.701563\" xlink:href=\"#m1b9f40f5ff\" y=\"49.84\"/>\n     </g>\n    </g>\n    <g id=\"text_21\">\n     <!-- Confirmed Cases x 10 -->\n     <defs>\n      <path d=\"M 6.9375 0 \nL 6.9375 40.53125 \nQ 6.9375 46.09375 6.640625 52.828125 \nL 14.9375 52.828125 \nQ 15.328125 43.84375 15.328125 42.046875 \nL 15.53125 42.046875 \nQ 17.625 48.828125 20.359375 51.3125 \nQ 23.09375 53.8125 28.078125 53.8125 \nQ 29.828125 53.8125 31.640625 53.328125 \nL 31.640625 45.265625 \nQ 29.890625 45.75 26.953125 45.75 \nQ 21.484375 45.75 18.59375 41.03125 \nQ 15.71875 36.328125 15.71875 27.546875 \nL 15.71875 0 \nz\n\" id=\"LiberationSans-72\"/>\n      <path d=\"M 37.5 0 \nL 37.5 33.5 \nQ 37.5 41.15625 35.390625 44.078125 \nQ 33.296875 47.015625 27.828125 47.015625 \nQ 22.21875 47.015625 18.9375 42.71875 \nQ 15.671875 38.421875 15.671875 30.609375 \nL 15.671875 0 \nL 6.9375 0 \nL 6.9375 41.546875 \nQ 6.9375 50.78125 6.640625 52.828125 \nL 14.9375 52.828125 \nQ 14.984375 52.59375 15.03125 51.515625 \nQ 15.09375 50.4375 15.15625 49.046875 \nQ 15.234375 47.65625 15.328125 43.796875 \nL 15.484375 43.796875 \nQ 18.3125 49.421875 21.96875 51.609375 \nQ 25.640625 53.8125 30.90625 53.8125 \nQ 36.921875 53.8125 40.40625 51.421875 \nQ 43.890625 49.03125 45.265625 43.796875 \nL 45.40625 43.796875 \nQ 48.140625 49.125 52.015625 51.46875 \nQ 55.90625 53.8125 61.421875 53.8125 \nQ 69.4375 53.8125 73.0625 49.46875 \nQ 76.703125 45.125 76.703125 35.203125 \nL 76.703125 0 \nL 68.015625 0 \nL 68.015625 33.5 \nQ 68.015625 41.15625 65.90625 44.078125 \nQ 63.8125 47.015625 58.34375 47.015625 \nQ 52.59375 47.015625 49.390625 42.75 \nQ 46.1875 38.484375 46.1875 30.609375 \nL 46.1875 0 \nz\n\" id=\"LiberationSans-6d\"/>\n      <path d=\"M 20.21875 -0.984375 \nQ 12.25 -0.984375 8.25 3.21875 \nQ 4.25 7.421875 4.25 14.75 \nQ 4.25 22.953125 9.640625 27.34375 \nQ 15.046875 31.734375 27.046875 32.03125 \nL 38.921875 32.234375 \nL 38.921875 35.109375 \nQ 38.921875 41.546875 36.1875 44.328125 \nQ 33.453125 47.125 27.59375 47.125 \nQ 21.6875 47.125 19 45.109375 \nQ 16.3125 43.109375 15.765625 38.71875 \nL 6.59375 39.546875 \nQ 8.84375 53.8125 27.78125 53.8125 \nQ 37.75 53.8125 42.765625 49.234375 \nQ 47.796875 44.671875 47.796875 36.03125 \nL 47.796875 13.28125 \nQ 47.796875 9.375 48.828125 7.390625 \nQ 49.859375 5.421875 52.734375 5.421875 \nQ 54 5.421875 55.609375 5.765625 \nL 55.609375 0.296875 \nQ 52.296875 -0.484375 48.828125 -0.484375 \nQ 43.953125 -0.484375 41.71875 2.078125 \nQ 39.5 4.640625 39.203125 10.109375 \nL 38.921875 10.109375 \nQ 35.546875 4.046875 31.078125 1.53125 \nQ 26.609375 -0.984375 20.21875 -0.984375 \nz\nM 22.21875 5.609375 \nQ 27.046875 5.609375 30.8125 7.8125 \nQ 34.578125 10.015625 36.75 13.84375 \nQ 38.921875 17.671875 38.921875 21.734375 \nL 38.921875 26.078125 \nL 29.296875 25.875 \nQ 23.09375 25.78125 19.890625 24.609375 \nQ 16.703125 23.4375 14.984375 21 \nQ 13.28125 18.5625 13.28125 14.59375 \nQ 13.28125 10.296875 15.59375 7.953125 \nQ 17.921875 5.609375 22.21875 5.609375 \nz\n\" id=\"LiberationSans-61\"/>\n      <path d=\"M 39.109375 0 \nL 24.90625 21.6875 \nL 10.59375 0 \nL 1.125 0 \nL 19.921875 27.15625 \nL 2 52.828125 \nL 11.71875 52.828125 \nL 24.90625 32.28125 \nL 37.984375 52.828125 \nL 47.796875 52.828125 \nL 29.890625 27.25 \nL 48.921875 0 \nz\n\" id=\"LiberationSans-78\"/>\n     </defs>\n     <g style=\"fill:#262626;\" transform=\"translate(1057.701563 52.465)scale(0.1 -0.1)\">\n      <use xlink:href=\"#LiberationSans-43\"/>\n      <use x=\"72.216797\" xlink:href=\"#LiberationSans-6f\"/>\n      <use x=\"127.832031\" xlink:href=\"#LiberationSans-6e\"/>\n      <use x=\"183.447266\" xlink:href=\"#LiberationSans-66\"/>\n      <use x=\"211.230469\" xlink:href=\"#LiberationSans-69\"/>\n      <use x=\"233.447266\" xlink:href=\"#LiberationSans-72\"/>\n      <use x=\"266.748047\" xlink:href=\"#LiberationSans-6d\"/>\n      <use x=\"350.048828\" xlink:href=\"#LiberationSans-65\"/>\n      <use x=\"405.664062\" xlink:href=\"#LiberationSans-64\"/>\n      <use x=\"461.279297\" xlink:href=\"#LiberationSans-20\"/>\n      <use x=\"489.0625\" xlink:href=\"#LiberationSans-43\"/>\n      <use x=\"561.279297\" xlink:href=\"#LiberationSans-61\"/>\n      <use x=\"616.894531\" xlink:href=\"#LiberationSans-73\"/>\n      <use x=\"666.894531\" xlink:href=\"#LiberationSans-65\"/>\n      <use x=\"722.509766\" xlink:href=\"#LiberationSans-73\"/>\n      <use x=\"772.509766\" xlink:href=\"#LiberationSans-20\"/>\n      <use x=\"800.292969\" xlink:href=\"#LiberationSans-78\"/>\n      <use x=\"850.292969\" xlink:href=\"#LiberationSans-20\"/>\n      <use x=\"878.076172\" xlink:href=\"#LiberationSans-31\"/>\n      <use x=\"933.691406\" xlink:href=\"#LiberationSans-30\"/>\n     </g>\n    </g>\n   </g>\n  </g>\n </g>\n <defs>\n  <clipPath id=\"p42ece6c985\">\n   <rect height=\"271.8\" width=\"1116\" x=\"49.626563\" y=\"21.89625\"/>\n  </clipPath>\n </defs>\n</svg>\n",
      "text/plain": "<matplotlib.figure.Figure at 0x7f8a3a1ac4d0>"
     },
     "metadata": {},
     "output_type": "display_data"
    }
   ],
   "source": [
    "rg = np.array(range(100))\n",
    "dr1 = pd.date_range(df.index[0], periods=100)\n",
    "dr2 = pd.date_range(df.index[0], periods=len(df.index))\n",
    "plt.scatter(dr2, y_data*10, label='Confirmed Cases x 10')\n",
    "fit_params = var_dict[10]\n",
    "plt.plot(dr1, logistic(rg, *fit_params), label='Fitted Function')\n",
    "plt.legend(loc='best')\n",
    "plt.title('Covid-19 Model Infections (without PRC)')"
   ]
  },
  {
   "cell_type": "code",
   "execution_count": null,
   "metadata": {},
   "outputs": [],
   "source": []
  }
 ],
 "metadata": {
  "kernelspec": {
   "display_name": "Python 3",
   "language": "python",
   "name": "python3"
  },
  "language_info": {
   "codemirror_mode": {
    "name": "ipython",
    "version": 3
   },
   "file_extension": ".py",
   "mimetype": "text/x-python",
   "name": "python",
   "nbconvert_exporter": "python",
   "pygments_lexer": "ipython3",
   "version": "3.7.5-final"
  }
 },
 "nbformat": 4,
 "nbformat_minor": 2
}