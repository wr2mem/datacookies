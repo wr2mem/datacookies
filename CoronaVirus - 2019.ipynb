{
 "cells": [
  {
   "cell_type": "markdown",
   "metadata": {},
   "source": [
    "### Import Libraries and Read Data"
   ]
  },
  {
   "cell_type": "code",
   "execution_count": 1,
   "metadata": {},
   "outputs": [],
   "source": [
    "## Import Libraries\n",
    "import numpy as np\n",
    "import pandas as pd\n",
    "import matplotlib.pyplot as plt\n",
    "from pandas.plotting import register_matplotlib_converters\n",
    "register_matplotlib_converters()\n",
    "#%matplotlib inline\n",
    "import plotly.express as px\n",
    "import plotly.graph_objects as go\n",
    "from plotly.subplots import make_subplots\n",
    "plt.rcParams['figure.figsize'] = [20, 5]\n",
    "from IPython import display\n",
    "from ipywidgets import interact, widgets\n",
    "from scipy import optimize\n",
    "\n",
    "\n",
    "## Read Data for Cases, Deaths and Recoveries\n",
    "ConfirmedCases_raw=pd.read_csv('https://raw.githubusercontent.com/CSSEGISandData/COVID-19/master/csse_covid_19_data/csse_covid_19_time_series/time_series_19-covid-Confirmed.csv')\n",
    "Deaths_raw=pd.read_csv('https://raw.githubusercontent.com/CSSEGISandData/COVID-19/master/csse_covid_19_data/csse_covid_19_time_series/time_series_19-covid-Deaths.csv')\n",
    "Recoveries_raw=pd.read_csv('https://raw.githubusercontent.com/CSSEGISandData/COVID-19/master/csse_covid_19_data/csse_covid_19_time_series/time_series_19-covid-Recovered.csv')"
   ]
  },
  {
   "cell_type": "code",
   "execution_count": 2,
   "metadata": {},
   "outputs": [
    {
     "data": {
      "text/html": "<div>\n<style scoped>\n    .dataframe tbody tr th:only-of-type {\n        vertical-align: middle;\n    }\n\n    .dataframe tbody tr th {\n        vertical-align: top;\n    }\n\n    .dataframe thead th {\n        text-align: right;\n    }\n</style>\n<table border=\"1\" class=\"dataframe\">\n  <thead>\n    <tr style=\"text-align: right;\">\n      <th></th>\n      <th>Province/State</th>\n      <th>Country/Region</th>\n      <th>Lat</th>\n      <th>Long</th>\n      <th>1/22/20</th>\n      <th>1/23/20</th>\n      <th>1/24/20</th>\n      <th>1/25/20</th>\n      <th>1/26/20</th>\n      <th>1/27/20</th>\n      <th>...</th>\n      <th>3/5/20</th>\n      <th>3/6/20</th>\n      <th>3/7/20</th>\n      <th>3/8/20</th>\n      <th>3/9/20</th>\n      <th>3/10/20</th>\n      <th>3/11/20</th>\n      <th>3/12/20</th>\n      <th>3/13/20</th>\n      <th>3/14/20</th>\n    </tr>\n  </thead>\n  <tbody>\n    <tr>\n      <th>0</th>\n      <td>NaN</td>\n      <td>Thailand</td>\n      <td>15.0000</td>\n      <td>101.0000</td>\n      <td>2</td>\n      <td>3</td>\n      <td>5</td>\n      <td>7</td>\n      <td>8</td>\n      <td>8</td>\n      <td>...</td>\n      <td>47</td>\n      <td>48</td>\n      <td>50</td>\n      <td>50</td>\n      <td>50</td>\n      <td>53</td>\n      <td>59</td>\n      <td>70</td>\n      <td>75</td>\n      <td>82</td>\n    </tr>\n    <tr>\n      <th>1</th>\n      <td>NaN</td>\n      <td>Japan</td>\n      <td>36.0000</td>\n      <td>138.0000</td>\n      <td>2</td>\n      <td>1</td>\n      <td>2</td>\n      <td>2</td>\n      <td>4</td>\n      <td>4</td>\n      <td>...</td>\n      <td>360</td>\n      <td>420</td>\n      <td>461</td>\n      <td>502</td>\n      <td>511</td>\n      <td>581</td>\n      <td>639</td>\n      <td>639</td>\n      <td>701</td>\n      <td>773</td>\n    </tr>\n    <tr>\n      <th>2</th>\n      <td>NaN</td>\n      <td>Singapore</td>\n      <td>1.2833</td>\n      <td>103.8333</td>\n      <td>0</td>\n      <td>1</td>\n      <td>3</td>\n      <td>3</td>\n      <td>4</td>\n      <td>5</td>\n      <td>...</td>\n      <td>117</td>\n      <td>130</td>\n      <td>138</td>\n      <td>150</td>\n      <td>150</td>\n      <td>160</td>\n      <td>178</td>\n      <td>178</td>\n      <td>200</td>\n      <td>212</td>\n    </tr>\n    <tr>\n      <th>3</th>\n      <td>NaN</td>\n      <td>Nepal</td>\n      <td>28.1667</td>\n      <td>84.2500</td>\n      <td>0</td>\n      <td>0</td>\n      <td>0</td>\n      <td>1</td>\n      <td>1</td>\n      <td>1</td>\n      <td>...</td>\n      <td>1</td>\n      <td>1</td>\n      <td>1</td>\n      <td>1</td>\n      <td>1</td>\n      <td>1</td>\n      <td>1</td>\n      <td>1</td>\n      <td>1</td>\n      <td>1</td>\n    </tr>\n    <tr>\n      <th>4</th>\n      <td>NaN</td>\n      <td>Malaysia</td>\n      <td>2.5000</td>\n      <td>112.5000</td>\n      <td>0</td>\n      <td>0</td>\n      <td>0</td>\n      <td>3</td>\n      <td>4</td>\n      <td>4</td>\n      <td>...</td>\n      <td>50</td>\n      <td>83</td>\n      <td>93</td>\n      <td>99</td>\n      <td>117</td>\n      <td>129</td>\n      <td>149</td>\n      <td>149</td>\n      <td>197</td>\n      <td>238</td>\n    </tr>\n  </tbody>\n</table>\n<p>5 rows × 57 columns</p>\n</div>",
      "text/plain": "  Province/State Country/Region      Lat      Long  1/22/20  1/23/20  1/24/20  \\\n0            NaN       Thailand  15.0000  101.0000        2        3        5   \n1            NaN          Japan  36.0000  138.0000        2        1        2   \n2            NaN      Singapore   1.2833  103.8333        0        1        3   \n3            NaN          Nepal  28.1667   84.2500        0        0        0   \n4            NaN       Malaysia   2.5000  112.5000        0        0        0   \n\n   1/25/20  1/26/20  1/27/20  ...  3/5/20  3/6/20  3/7/20  3/8/20  3/9/20  \\\n0        7        8        8  ...      47      48      50      50      50   \n1        2        4        4  ...     360     420     461     502     511   \n2        3        4        5  ...     117     130     138     150     150   \n3        1        1        1  ...       1       1       1       1       1   \n4        3        4        4  ...      50      83      93      99     117   \n\n   3/10/20  3/11/20  3/12/20  3/13/20  3/14/20  \n0       53       59       70       75       82  \n1      581      639      639      701      773  \n2      160      178      178      200      212  \n3        1        1        1        1        1  \n4      129      149      149      197      238  \n\n[5 rows x 57 columns]"
     },
     "execution_count": 2,
     "metadata": {},
     "output_type": "execute_result"
    }
   ],
   "source": [
    "ConfirmedCases_raw.head()"
   ]
  },
  {
   "cell_type": "code",
   "execution_count": 3,
   "metadata": {},
   "outputs": [],
   "source": [
    "### Melt the dateframe into the right shape and set index\n",
    "def cleandata(df_raw):\n",
    "    df_cleaned=df_raw.melt(id_vars=['Province/State','Country/Region','Lat','Long'],value_name='Cases',var_name='Date')\n",
    "    df_cleaned=df_cleaned.set_index(['Country/Region','Province/State','Date'])\n",
    "    return df_cleaned \n",
    "\n",
    "### Get Countrywise Data\n",
    "def countrydata(df_cleaned,oldname,newname):\n",
    "    df_country=df_cleaned.groupby(['Country/Region','Date'])['Cases'].sum().reset_index()\n",
    "    df_country=df_country.set_index(['Country/Region','Date'])\n",
    "    df_country.index=df_country.index.set_levels([df_country.index.levels[0], pd.to_datetime(df_country.index.levels[1])])\n",
    "    df_country=df_country.sort_values(['Country/Region','Date'],ascending=True)\n",
    "    df_country=df_country.rename(columns={oldname:newname})\n",
    "    return df_country\n",
    "\n",
    "### Get DailyData from Cumulative sum\n",
    "def dailydata(dfcountry,oldname,newname):\n",
    "    dfcountrydaily=dfcountry.groupby(level=0).diff().fillna(0)\n",
    "    dfcountrydaily=dfcountrydaily.rename(columns={oldname:newname})\n",
    "    return dfcountrydaily"
   ]
  },
  {
   "cell_type": "code",
   "execution_count": 4,
   "metadata": {},
   "outputs": [],
   "source": [
    "# Clean all datasets\n",
    "ConfirmedCases=cleandata(ConfirmedCases_raw)\n",
    "Deaths=cleandata(Deaths_raw)\n",
    "Recoveries=cleandata(Recoveries_raw)"
   ]
  },
  {
   "cell_type": "code",
   "execution_count": 5,
   "metadata": {},
   "outputs": [
    {
     "data": {
      "text/html": "<div>\n<style scoped>\n    .dataframe tbody tr th:only-of-type {\n        vertical-align: middle;\n    }\n\n    .dataframe tbody tr th {\n        vertical-align: top;\n    }\n\n    .dataframe thead th {\n        text-align: right;\n    }\n</style>\n<table border=\"1\" class=\"dataframe\">\n  <thead>\n    <tr style=\"text-align: right;\">\n      <th></th>\n      <th></th>\n      <th></th>\n      <th>Lat</th>\n      <th>Long</th>\n      <th>Cases</th>\n    </tr>\n    <tr>\n      <th>Country/Region</th>\n      <th>Province/State</th>\n      <th>Date</th>\n      <th></th>\n      <th></th>\n      <th></th>\n    </tr>\n  </thead>\n  <tbody>\n    <tr>\n      <th>Thailand</th>\n      <th>NaN</th>\n      <th>1/22/20</th>\n      <td>15.0000</td>\n      <td>101.0000</td>\n      <td>2</td>\n    </tr>\n    <tr>\n      <th>Japan</th>\n      <th>NaN</th>\n      <th>1/22/20</th>\n      <td>36.0000</td>\n      <td>138.0000</td>\n      <td>2</td>\n    </tr>\n    <tr>\n      <th>Singapore</th>\n      <th>NaN</th>\n      <th>1/22/20</th>\n      <td>1.2833</td>\n      <td>103.8333</td>\n      <td>0</td>\n    </tr>\n    <tr>\n      <th>Nepal</th>\n      <th>NaN</th>\n      <th>1/22/20</th>\n      <td>28.1667</td>\n      <td>84.2500</td>\n      <td>0</td>\n    </tr>\n    <tr>\n      <th>Malaysia</th>\n      <th>NaN</th>\n      <th>1/22/20</th>\n      <td>2.5000</td>\n      <td>112.5000</td>\n      <td>0</td>\n    </tr>\n  </tbody>\n</table>\n</div>",
      "text/plain": "                                           Lat      Long  Cases\nCountry/Region Province/State Date                             \nThailand       NaN            1/22/20  15.0000  101.0000      2\nJapan          NaN            1/22/20  36.0000  138.0000      2\nSingapore      NaN            1/22/20   1.2833  103.8333      0\nNepal          NaN            1/22/20  28.1667   84.2500      0\nMalaysia       NaN            1/22/20   2.5000  112.5000      0"
     },
     "execution_count": 5,
     "metadata": {},
     "output_type": "execute_result"
    }
   ],
   "source": [
    "ConfirmedCases.head()"
   ]
  },
  {
   "cell_type": "code",
   "execution_count": 6,
   "metadata": {},
   "outputs": [],
   "source": [
    "# Get countrywise data\n",
    "ConfirmedCasesCountry=countrydata(ConfirmedCases,'Cases','Total Confirmed Cases')\n",
    "DeathsCountry=countrydata(Deaths,'Cases','Total Deaths')\n",
    "RecoveriesCountry=countrydata(Recoveries,'Cases','Total Recoveries')"
   ]
  },
  {
   "cell_type": "code",
   "execution_count": 7,
   "metadata": {},
   "outputs": [],
   "source": [
    "# Get Daily Data\n",
    "NewCasesCountry=dailydata(ConfirmedCasesCountry,'Total Confirmed Cases','Daily New Cases')\n",
    "NewDeathsCountry=dailydata(DeathsCountry,'Total Deaths','Daily New Deaths')\n",
    "NewRecoveriesCountry=dailydata(RecoveriesCountry,'Total Recoveries','Daily New Recoveries')"
   ]
  },
  {
   "cell_type": "code",
   "execution_count": 8,
   "metadata": {},
   "outputs": [],
   "source": [
    "CountryConsolidated=pd.merge(ConfirmedCasesCountry,NewCasesCountry,how='left',left_index=True,right_index=True)\n",
    "CountryConsolidated=pd.merge(CountryConsolidated,NewDeathsCountry,how='left',left_index=True,right_index=True)\n",
    "CountryConsolidated=pd.merge(CountryConsolidated,DeathsCountry,how='left',left_index=True,right_index=True)\n",
    "CountryConsolidated=pd.merge(CountryConsolidated,RecoveriesCountry,how='left',left_index=True,right_index=True)\n",
    "CountryConsolidated=pd.merge(CountryConsolidated,NewRecoveriesCountry,how='left',left_index=True,right_index=True)\n",
    "CountryConsolidated['Active Cases']=CountryConsolidated['Total Confirmed Cases']-CountryConsolidated['Total Deaths']-CountryConsolidated['Total Recoveries']\n",
    "CountryConsolidated['Share of Recoveries - Closed Cases']=np.round(CountryConsolidated['Total Recoveries']/(CountryConsolidated['Total Recoveries']+CountryConsolidated['Total Deaths']),2)\n",
    "CountryConsolidated['Death to Cases Ratio']=np.round(CountryConsolidated['Total Deaths']/CountryConsolidated['Total Confirmed Cases'],3)\n"
   ]
  },
  {
   "cell_type": "code",
   "execution_count": 9,
   "metadata": {},
   "outputs": [
    {
     "data": {
      "text/html": "<div>\n<style scoped>\n    .dataframe tbody tr th:only-of-type {\n        vertical-align: middle;\n    }\n\n    .dataframe tbody tr th {\n        vertical-align: top;\n    }\n\n    .dataframe thead th {\n        text-align: right;\n    }\n</style>\n<table border=\"1\" class=\"dataframe\">\n  <thead>\n    <tr style=\"text-align: right;\">\n      <th></th>\n      <th>Total Confirmed Cases</th>\n      <th>Daily New Cases</th>\n      <th>Daily New Deaths</th>\n      <th>Total Deaths</th>\n      <th>Total Recoveries</th>\n      <th>Daily New Recoveries</th>\n      <th>Active Cases</th>\n      <th>Share of Recoveries - Closed Cases</th>\n      <th>Death to Cases Ratio</th>\n    </tr>\n    <tr>\n      <th>Date</th>\n      <th></th>\n      <th></th>\n      <th></th>\n      <th></th>\n      <th></th>\n      <th></th>\n      <th></th>\n      <th></th>\n      <th></th>\n    </tr>\n  </thead>\n  <tbody>\n    <tr>\n      <th>2020-01-22</th>\n      <td>555</td>\n      <td>0.0</td>\n      <td>0.0</td>\n      <td>17</td>\n      <td>28</td>\n      <td>0.0</td>\n      <td>510</td>\n      <td>0.62</td>\n      <td>0.031</td>\n    </tr>\n    <tr>\n      <th>2020-01-23</th>\n      <td>653</td>\n      <td>98.0</td>\n      <td>1.0</td>\n      <td>18</td>\n      <td>30</td>\n      <td>2.0</td>\n      <td>605</td>\n      <td>0.62</td>\n      <td>0.028</td>\n    </tr>\n    <tr>\n      <th>2020-01-24</th>\n      <td>941</td>\n      <td>288.0</td>\n      <td>8.0</td>\n      <td>26</td>\n      <td>36</td>\n      <td>6.0</td>\n      <td>879</td>\n      <td>0.58</td>\n      <td>0.028</td>\n    </tr>\n    <tr>\n      <th>2020-01-25</th>\n      <td>1434</td>\n      <td>493.0</td>\n      <td>16.0</td>\n      <td>42</td>\n      <td>39</td>\n      <td>3.0</td>\n      <td>1353</td>\n      <td>0.48</td>\n      <td>0.030</td>\n    </tr>\n    <tr>\n      <th>2020-01-26</th>\n      <td>2118</td>\n      <td>684.0</td>\n      <td>14.0</td>\n      <td>56</td>\n      <td>52</td>\n      <td>13.0</td>\n      <td>2010</td>\n      <td>2.47</td>\n      <td>0.027</td>\n    </tr>\n    <tr>\n      <th>2020-01-27</th>\n      <td>2927</td>\n      <td>809.0</td>\n      <td>26.0</td>\n      <td>82</td>\n      <td>61</td>\n      <td>9.0</td>\n      <td>2784</td>\n      <td>2.41</td>\n      <td>0.029</td>\n    </tr>\n    <tr>\n      <th>2020-01-28</th>\n      <td>5578</td>\n      <td>2651.0</td>\n      <td>49.0</td>\n      <td>131</td>\n      <td>107</td>\n      <td>46.0</td>\n      <td>5340</td>\n      <td>2.44</td>\n      <td>0.024</td>\n    </tr>\n    <tr>\n      <th>2020-01-29</th>\n      <td>6166</td>\n      <td>588.0</td>\n      <td>2.0</td>\n      <td>133</td>\n      <td>126</td>\n      <td>19.0</td>\n      <td>5907</td>\n      <td>2.47</td>\n      <td>0.022</td>\n    </tr>\n    <tr>\n      <th>2020-01-30</th>\n      <td>8234</td>\n      <td>2068.0</td>\n      <td>38.0</td>\n      <td>171</td>\n      <td>143</td>\n      <td>17.0</td>\n      <td>7920</td>\n      <td>3.44</td>\n      <td>0.021</td>\n    </tr>\n    <tr>\n      <th>2020-01-31</th>\n      <td>9927</td>\n      <td>1693.0</td>\n      <td>42.0</td>\n      <td>213</td>\n      <td>222</td>\n      <td>79.0</td>\n      <td>9492</td>\n      <td>3.50</td>\n      <td>0.022</td>\n    </tr>\n    <tr>\n      <th>2020-02-01</th>\n      <td>12038</td>\n      <td>2111.0</td>\n      <td>46.0</td>\n      <td>259</td>\n      <td>284</td>\n      <td>62.0</td>\n      <td>11495</td>\n      <td>4.51</td>\n      <td>0.022</td>\n    </tr>\n    <tr>\n      <th>2020-02-02</th>\n      <td>16787</td>\n      <td>4749.0</td>\n      <td>103.0</td>\n      <td>362</td>\n      <td>472</td>\n      <td>188.0</td>\n      <td>15953</td>\n      <td>4.56</td>\n      <td>0.522</td>\n    </tr>\n    <tr>\n      <th>2020-02-03</th>\n      <td>19881</td>\n      <td>3094.0</td>\n      <td>64.0</td>\n      <td>426</td>\n      <td>623</td>\n      <td>151.0</td>\n      <td>18832</td>\n      <td>4.59</td>\n      <td>0.522</td>\n    </tr>\n    <tr>\n      <th>2020-02-04</th>\n      <td>23892</td>\n      <td>4011.0</td>\n      <td>66.0</td>\n      <td>492</td>\n      <td>852</td>\n      <td>229.0</td>\n      <td>22548</td>\n      <td>4.63</td>\n      <td>0.521</td>\n    </tr>\n    <tr>\n      <th>2020-02-05</th>\n      <td>27635</td>\n      <td>3743.0</td>\n      <td>72.0</td>\n      <td>564</td>\n      <td>1124</td>\n      <td>272.0</td>\n      <td>25947</td>\n      <td>4.66</td>\n      <td>0.521</td>\n    </tr>\n    <tr>\n      <th>2020-02-06</th>\n      <td>30817</td>\n      <td>3182.0</td>\n      <td>70.0</td>\n      <td>634</td>\n      <td>1487</td>\n      <td>363.0</td>\n      <td>28696</td>\n      <td>5.70</td>\n      <td>0.521</td>\n    </tr>\n    <tr>\n      <th>2020-02-07</th>\n      <td>34391</td>\n      <td>3574.0</td>\n      <td>85.0</td>\n      <td>719</td>\n      <td>2011</td>\n      <td>524.0</td>\n      <td>31661</td>\n      <td>7.74</td>\n      <td>0.354</td>\n    </tr>\n    <tr>\n      <th>2020-02-08</th>\n      <td>37120</td>\n      <td>2729.0</td>\n      <td>87.0</td>\n      <td>806</td>\n      <td>2616</td>\n      <td>605.0</td>\n      <td>33698</td>\n      <td>9.76</td>\n      <td>0.355</td>\n    </tr>\n    <tr>\n      <th>2020-02-09</th>\n      <td>40150</td>\n      <td>3030.0</td>\n      <td>100.0</td>\n      <td>906</td>\n      <td>3244</td>\n      <td>628.0</td>\n      <td>36000</td>\n      <td>10.78</td>\n      <td>0.356</td>\n    </tr>\n    <tr>\n      <th>2020-02-10</th>\n      <td>42762</td>\n      <td>2612.0</td>\n      <td>107.0</td>\n      <td>1013</td>\n      <td>3946</td>\n      <td>702.0</td>\n      <td>37803</td>\n      <td>10.79</td>\n      <td>0.357</td>\n    </tr>\n    <tr>\n      <th>2020-02-11</th>\n      <td>44802</td>\n      <td>2040.0</td>\n      <td>100.0</td>\n      <td>1113</td>\n      <td>4683</td>\n      <td>737.0</td>\n      <td>39006</td>\n      <td>10.81</td>\n      <td>0.358</td>\n    </tr>\n    <tr>\n      <th>2020-02-12</th>\n      <td>45221</td>\n      <td>419.0</td>\n      <td>5.0</td>\n      <td>1118</td>\n      <td>5150</td>\n      <td>467.0</td>\n      <td>38953</td>\n      <td>19.32</td>\n      <td>0.358</td>\n    </tr>\n    <tr>\n      <th>2020-02-13</th>\n      <td>60368</td>\n      <td>15147.0</td>\n      <td>253.0</td>\n      <td>1371</td>\n      <td>6295</td>\n      <td>1145.0</td>\n      <td>52702</td>\n      <td>20.22</td>\n      <td>0.392</td>\n    </tr>\n    <tr>\n      <th>2020-02-14</th>\n      <td>66885</td>\n      <td>6517.0</td>\n      <td>152.0</td>\n      <td>1523</td>\n      <td>8058</td>\n      <td>1763.0</td>\n      <td>57304</td>\n      <td>20.24</td>\n      <td>0.390</td>\n    </tr>\n    <tr>\n      <th>2020-02-15</th>\n      <td>69030</td>\n      <td>2145.0</td>\n      <td>143.0</td>\n      <td>1666</td>\n      <td>9395</td>\n      <td>1337.0</td>\n      <td>57969</td>\n      <td>21.07</td>\n      <td>0.463</td>\n    </tr>\n    <tr>\n      <th>2020-02-16</th>\n      <td>71224</td>\n      <td>2194.0</td>\n      <td>104.0</td>\n      <td>1770</td>\n      <td>10865</td>\n      <td>1470.0</td>\n      <td>58589</td>\n      <td>21.75</td>\n      <td>0.508</td>\n    </tr>\n    <tr>\n      <th>2020-02-17</th>\n      <td>73258</td>\n      <td>2034.0</td>\n      <td>98.0</td>\n      <td>1868</td>\n      <td>12583</td>\n      <td>1718.0</td>\n      <td>58807</td>\n      <td>22.76</td>\n      <td>0.502</td>\n    </tr>\n    <tr>\n      <th>2020-02-18</th>\n      <td>75136</td>\n      <td>1878.0</td>\n      <td>139.0</td>\n      <td>2007</td>\n      <td>14352</td>\n      <td>1769.0</td>\n      <td>58777</td>\n      <td>22.78</td>\n      <td>0.502</td>\n    </tr>\n    <tr>\n      <th>2020-02-19</th>\n      <td>75639</td>\n      <td>503.0</td>\n      <td>115.0</td>\n      <td>2122</td>\n      <td>16121</td>\n      <td>1769.0</td>\n      <td>57396</td>\n      <td>23.80</td>\n      <td>1.499</td>\n    </tr>\n    <tr>\n      <th>2020-02-20</th>\n      <td>76197</td>\n      <td>558.0</td>\n      <td>125.0</td>\n      <td>2247</td>\n      <td>18177</td>\n      <td>2056.0</td>\n      <td>55773</td>\n      <td>23.08</td>\n      <td>0.912</td>\n    </tr>\n    <tr>\n      <th>2020-02-21</th>\n      <td>76823</td>\n      <td>626.0</td>\n      <td>4.0</td>\n      <td>2251</td>\n      <td>18890</td>\n      <td>713.0</td>\n      <td>55682</td>\n      <td>23.04</td>\n      <td>0.779</td>\n    </tr>\n    <tr>\n      <th>2020-02-22</th>\n      <td>78579</td>\n      <td>1756.0</td>\n      <td>207.0</td>\n      <td>2458</td>\n      <td>22886</td>\n      <td>3996.0</td>\n      <td>53235</td>\n      <td>23.38</td>\n      <td>0.713</td>\n    </tr>\n    <tr>\n      <th>2020-02-23</th>\n      <td>78965</td>\n      <td>386.0</td>\n      <td>11.0</td>\n      <td>2469</td>\n      <td>23394</td>\n      <td>508.0</td>\n      <td>53102</td>\n      <td>22.98</td>\n      <td>0.710</td>\n    </tr>\n    <tr>\n      <th>2020-02-24</th>\n      <td>79568</td>\n      <td>603.0</td>\n      <td>160.0</td>\n      <td>2629</td>\n      <td>25227</td>\n      <td>1833.0</td>\n      <td>51712</td>\n      <td>22.81</td>\n      <td>0.731</td>\n    </tr>\n    <tr>\n      <th>2020-02-25</th>\n      <td>80413</td>\n      <td>845.0</td>\n      <td>79.0</td>\n      <td>2708</td>\n      <td>27905</td>\n      <td>2678.0</td>\n      <td>49800</td>\n      <td>22.90</td>\n      <td>0.689</td>\n    </tr>\n    <tr>\n      <th>2020-02-26</th>\n      <td>81395</td>\n      <td>982.0</td>\n      <td>62.0</td>\n      <td>2770</td>\n      <td>30384</td>\n      <td>2479.0</td>\n      <td>48241</td>\n      <td>24.30</td>\n      <td>0.700</td>\n    </tr>\n    <tr>\n      <th>2020-02-27</th>\n      <td>82754</td>\n      <td>1359.0</td>\n      <td>44.0</td>\n      <td>2814</td>\n      <td>33277</td>\n      <td>2893.0</td>\n      <td>46663</td>\n      <td>25.67</td>\n      <td>0.616</td>\n    </tr>\n    <tr>\n      <th>2020-02-28</th>\n      <td>84120</td>\n      <td>1366.0</td>\n      <td>58.0</td>\n      <td>2872</td>\n      <td>36711</td>\n      <td>3434.0</td>\n      <td>44537</td>\n      <td>26.61</td>\n      <td>0.577</td>\n    </tr>\n    <tr>\n      <th>2020-02-29</th>\n      <td>86011</td>\n      <td>1891.0</td>\n      <td>69.0</td>\n      <td>2941</td>\n      <td>39782</td>\n      <td>3071.0</td>\n      <td>43288</td>\n      <td>27.53</td>\n      <td>0.564</td>\n    </tr>\n    <tr>\n      <th>2020-03-01</th>\n      <td>88369</td>\n      <td>2358.0</td>\n      <td>55.0</td>\n      <td>2996</td>\n      <td>42716</td>\n      <td>2934.0</td>\n      <td>42657</td>\n      <td>27.54</td>\n      <td>0.596</td>\n    </tr>\n    <tr>\n      <th>2020-03-02</th>\n      <td>90306</td>\n      <td>1937.0</td>\n      <td>89.0</td>\n      <td>3085</td>\n      <td>45602</td>\n      <td>2886.0</td>\n      <td>41619</td>\n      <td>27.13</td>\n      <td>0.633</td>\n    </tr>\n    <tr>\n      <th>2020-03-03</th>\n      <td>92840</td>\n      <td>2534.0</td>\n      <td>75.0</td>\n      <td>3160</td>\n      <td>48228</td>\n      <td>2626.0</td>\n      <td>41452</td>\n      <td>28.65</td>\n      <td>0.726</td>\n    </tr>\n    <tr>\n      <th>2020-03-04</th>\n      <td>95120</td>\n      <td>2280.0</td>\n      <td>94.0</td>\n      <td>3254</td>\n      <td>51170</td>\n      <td>2942.0</td>\n      <td>40696</td>\n      <td>30.44</td>\n      <td>0.769</td>\n    </tr>\n    <tr>\n      <th>2020-03-05</th>\n      <td>97882</td>\n      <td>2762.0</td>\n      <td>94.0</td>\n      <td>3348</td>\n      <td>53796</td>\n      <td>2626.0</td>\n      <td>40738</td>\n      <td>29.98</td>\n      <td>0.755</td>\n    </tr>\n    <tr>\n      <th>2020-03-06</th>\n      <td>101784</td>\n      <td>3902.0</td>\n      <td>112.0</td>\n      <td>3460</td>\n      <td>55865</td>\n      <td>2069.0</td>\n      <td>42459</td>\n      <td>32.11</td>\n      <td>0.638</td>\n    </tr>\n    <tr>\n      <th>2020-03-07</th>\n      <td>105821</td>\n      <td>4037.0</td>\n      <td>98.0</td>\n      <td>3558</td>\n      <td>58358</td>\n      <td>2493.0</td>\n      <td>43905</td>\n      <td>32.65</td>\n      <td>0.582</td>\n    </tr>\n    <tr>\n      <th>2020-03-08</th>\n      <td>109795</td>\n      <td>3974.0</td>\n      <td>244.0</td>\n      <td>3802</td>\n      <td>60694</td>\n      <td>2336.0</td>\n      <td>45299</td>\n      <td>34.52</td>\n      <td>0.669</td>\n    </tr>\n    <tr>\n      <th>2020-03-09</th>\n      <td>113561</td>\n      <td>3766.0</td>\n      <td>186.0</td>\n      <td>3988</td>\n      <td>62494</td>\n      <td>1800.0</td>\n      <td>47079</td>\n      <td>38.40</td>\n      <td>0.633</td>\n    </tr>\n    <tr>\n      <th>2020-03-10</th>\n      <td>118592</td>\n      <td>5031.0</td>\n      <td>274.0</td>\n      <td>4262</td>\n      <td>64404</td>\n      <td>1910.0</td>\n      <td>49926</td>\n      <td>41.76</td>\n      <td>0.953</td>\n    </tr>\n    <tr>\n      <th>2020-03-11</th>\n      <td>125865</td>\n      <td>7273.0</td>\n      <td>353.0</td>\n      <td>4615</td>\n      <td>67003</td>\n      <td>2599.0</td>\n      <td>54247</td>\n      <td>41.80</td>\n      <td>1.274</td>\n    </tr>\n    <tr>\n      <th>2020-03-12</th>\n      <td>128343</td>\n      <td>2478.0</td>\n      <td>105.0</td>\n      <td>4720</td>\n      <td>68324</td>\n      <td>1321.0</td>\n      <td>55299</td>\n      <td>43.32</td>\n      <td>2.268</td>\n    </tr>\n    <tr>\n      <th>2020-03-13</th>\n      <td>145193</td>\n      <td>16850.0</td>\n      <td>684.0</td>\n      <td>5404</td>\n      <td>70251</td>\n      <td>1927.0</td>\n      <td>69538</td>\n      <td>46.37</td>\n      <td>3.580</td>\n    </tr>\n    <tr>\n      <th>2020-03-14</th>\n      <td>156102</td>\n      <td>10909.0</td>\n      <td>415.0</td>\n      <td>5819</td>\n      <td>72624</td>\n      <td>2373.0</td>\n      <td>77659</td>\n      <td>49.56</td>\n      <td>3.582</td>\n    </tr>\n  </tbody>\n</table>\n</div>",
      "text/plain": "            Total Confirmed Cases  Daily New Cases  Daily New Deaths  \\\nDate                                                                   \n2020-01-22                    555              0.0               0.0   \n2020-01-23                    653             98.0               1.0   \n2020-01-24                    941            288.0               8.0   \n2020-01-25                   1434            493.0              16.0   \n2020-01-26                   2118            684.0              14.0   \n2020-01-27                   2927            809.0              26.0   \n2020-01-28                   5578           2651.0              49.0   \n2020-01-29                   6166            588.0               2.0   \n2020-01-30                   8234           2068.0              38.0   \n2020-01-31                   9927           1693.0              42.0   \n2020-02-01                  12038           2111.0              46.0   \n2020-02-02                  16787           4749.0             103.0   \n2020-02-03                  19881           3094.0              64.0   \n2020-02-04                  23892           4011.0              66.0   \n2020-02-05                  27635           3743.0              72.0   \n2020-02-06                  30817           3182.0              70.0   \n2020-02-07                  34391           3574.0              85.0   \n2020-02-08                  37120           2729.0              87.0   \n2020-02-09                  40150           3030.0             100.0   \n2020-02-10                  42762           2612.0             107.0   \n2020-02-11                  44802           2040.0             100.0   \n2020-02-12                  45221            419.0               5.0   \n2020-02-13                  60368          15147.0             253.0   \n2020-02-14                  66885           6517.0             152.0   \n2020-02-15                  69030           2145.0             143.0   \n2020-02-16                  71224           2194.0             104.0   \n2020-02-17                  73258           2034.0              98.0   \n2020-02-18                  75136           1878.0             139.0   \n2020-02-19                  75639            503.0             115.0   \n2020-02-20                  76197            558.0             125.0   \n2020-02-21                  76823            626.0               4.0   \n2020-02-22                  78579           1756.0             207.0   \n2020-02-23                  78965            386.0              11.0   \n2020-02-24                  79568            603.0             160.0   \n2020-02-25                  80413            845.0              79.0   \n2020-02-26                  81395            982.0              62.0   \n2020-02-27                  82754           1359.0              44.0   \n2020-02-28                  84120           1366.0              58.0   \n2020-02-29                  86011           1891.0              69.0   \n2020-03-01                  88369           2358.0              55.0   \n2020-03-02                  90306           1937.0              89.0   \n2020-03-03                  92840           2534.0              75.0   \n2020-03-04                  95120           2280.0              94.0   \n2020-03-05                  97882           2762.0              94.0   \n2020-03-06                 101784           3902.0             112.0   \n2020-03-07                 105821           4037.0              98.0   \n2020-03-08                 109795           3974.0             244.0   \n2020-03-09                 113561           3766.0             186.0   \n2020-03-10                 118592           5031.0             274.0   \n2020-03-11                 125865           7273.0             353.0   \n2020-03-12                 128343           2478.0             105.0   \n2020-03-13                 145193          16850.0             684.0   \n2020-03-14                 156102          10909.0             415.0   \n\n            Total Deaths  Total Recoveries  Daily New Recoveries  \\\nDate                                                               \n2020-01-22            17                28                   0.0   \n2020-01-23            18                30                   2.0   \n2020-01-24            26                36                   6.0   \n2020-01-25            42                39                   3.0   \n2020-01-26            56                52                  13.0   \n2020-01-27            82                61                   9.0   \n2020-01-28           131               107                  46.0   \n2020-01-29           133               126                  19.0   \n2020-01-30           171               143                  17.0   \n2020-01-31           213               222                  79.0   \n2020-02-01           259               284                  62.0   \n2020-02-02           362               472                 188.0   \n2020-02-03           426               623                 151.0   \n2020-02-04           492               852                 229.0   \n2020-02-05           564              1124                 272.0   \n2020-02-06           634              1487                 363.0   \n2020-02-07           719              2011                 524.0   \n2020-02-08           806              2616                 605.0   \n2020-02-09           906              3244                 628.0   \n2020-02-10          1013              3946                 702.0   \n2020-02-11          1113              4683                 737.0   \n2020-02-12          1118              5150                 467.0   \n2020-02-13          1371              6295                1145.0   \n2020-02-14          1523              8058                1763.0   \n2020-02-15          1666              9395                1337.0   \n2020-02-16          1770             10865                1470.0   \n2020-02-17          1868             12583                1718.0   \n2020-02-18          2007             14352                1769.0   \n2020-02-19          2122             16121                1769.0   \n2020-02-20          2247             18177                2056.0   \n2020-02-21          2251             18890                 713.0   \n2020-02-22          2458             22886                3996.0   \n2020-02-23          2469             23394                 508.0   \n2020-02-24          2629             25227                1833.0   \n2020-02-25          2708             27905                2678.0   \n2020-02-26          2770             30384                2479.0   \n2020-02-27          2814             33277                2893.0   \n2020-02-28          2872             36711                3434.0   \n2020-02-29          2941             39782                3071.0   \n2020-03-01          2996             42716                2934.0   \n2020-03-02          3085             45602                2886.0   \n2020-03-03          3160             48228                2626.0   \n2020-03-04          3254             51170                2942.0   \n2020-03-05          3348             53796                2626.0   \n2020-03-06          3460             55865                2069.0   \n2020-03-07          3558             58358                2493.0   \n2020-03-08          3802             60694                2336.0   \n2020-03-09          3988             62494                1800.0   \n2020-03-10          4262             64404                1910.0   \n2020-03-11          4615             67003                2599.0   \n2020-03-12          4720             68324                1321.0   \n2020-03-13          5404             70251                1927.0   \n2020-03-14          5819             72624                2373.0   \n\n            Active Cases  Share of Recoveries - Closed Cases  \\\nDate                                                           \n2020-01-22           510                                0.62   \n2020-01-23           605                                0.62   \n2020-01-24           879                                0.58   \n2020-01-25          1353                                0.48   \n2020-01-26          2010                                2.47   \n2020-01-27          2784                                2.41   \n2020-01-28          5340                                2.44   \n2020-01-29          5907                                2.47   \n2020-01-30          7920                                3.44   \n2020-01-31          9492                                3.50   \n2020-02-01         11495                                4.51   \n2020-02-02         15953                                4.56   \n2020-02-03         18832                                4.59   \n2020-02-04         22548                                4.63   \n2020-02-05         25947                                4.66   \n2020-02-06         28696                                5.70   \n2020-02-07         31661                                7.74   \n2020-02-08         33698                                9.76   \n2020-02-09         36000                               10.78   \n2020-02-10         37803                               10.79   \n2020-02-11         39006                               10.81   \n2020-02-12         38953                               19.32   \n2020-02-13         52702                               20.22   \n2020-02-14         57304                               20.24   \n2020-02-15         57969                               21.07   \n2020-02-16         58589                               21.75   \n2020-02-17         58807                               22.76   \n2020-02-18         58777                               22.78   \n2020-02-19         57396                               23.80   \n2020-02-20         55773                               23.08   \n2020-02-21         55682                               23.04   \n2020-02-22         53235                               23.38   \n2020-02-23         53102                               22.98   \n2020-02-24         51712                               22.81   \n2020-02-25         49800                               22.90   \n2020-02-26         48241                               24.30   \n2020-02-27         46663                               25.67   \n2020-02-28         44537                               26.61   \n2020-02-29         43288                               27.53   \n2020-03-01         42657                               27.54   \n2020-03-02         41619                               27.13   \n2020-03-03         41452                               28.65   \n2020-03-04         40696                               30.44   \n2020-03-05         40738                               29.98   \n2020-03-06         42459                               32.11   \n2020-03-07         43905                               32.65   \n2020-03-08         45299                               34.52   \n2020-03-09         47079                               38.40   \n2020-03-10         49926                               41.76   \n2020-03-11         54247                               41.80   \n2020-03-12         55299                               43.32   \n2020-03-13         69538                               46.37   \n2020-03-14         77659                               49.56   \n\n            Death to Cases Ratio  \nDate                              \n2020-01-22                 0.031  \n2020-01-23                 0.028  \n2020-01-24                 0.028  \n2020-01-25                 0.030  \n2020-01-26                 0.027  \n2020-01-27                 0.029  \n2020-01-28                 0.024  \n2020-01-29                 0.022  \n2020-01-30                 0.021  \n2020-01-31                 0.022  \n2020-02-01                 0.022  \n2020-02-02                 0.522  \n2020-02-03                 0.522  \n2020-02-04                 0.521  \n2020-02-05                 0.521  \n2020-02-06                 0.521  \n2020-02-07                 0.354  \n2020-02-08                 0.355  \n2020-02-09                 0.356  \n2020-02-10                 0.357  \n2020-02-11                 0.358  \n2020-02-12                 0.358  \n2020-02-13                 0.392  \n2020-02-14                 0.390  \n2020-02-15                 0.463  \n2020-02-16                 0.508  \n2020-02-17                 0.502  \n2020-02-18                 0.502  \n2020-02-19                 1.499  \n2020-02-20                 0.912  \n2020-02-21                 0.779  \n2020-02-22                 0.713  \n2020-02-23                 0.710  \n2020-02-24                 0.731  \n2020-02-25                 0.689  \n2020-02-26                 0.700  \n2020-02-27                 0.616  \n2020-02-28                 0.577  \n2020-02-29                 0.564  \n2020-03-01                 0.596  \n2020-03-02                 0.633  \n2020-03-03                 0.726  \n2020-03-04                 0.769  \n2020-03-05                 0.755  \n2020-03-06                 0.638  \n2020-03-07                 0.582  \n2020-03-08                 0.669  \n2020-03-09                 0.633  \n2020-03-10                 0.953  \n2020-03-11                 1.274  \n2020-03-12                 2.268  \n2020-03-13                 3.580  \n2020-03-14                 3.582  "
     },
     "execution_count": 9,
     "metadata": {},
     "output_type": "execute_result"
    }
   ],
   "source": [
    "CountryConsolidated.reset_index().groupby('Date').sum()"
   ]
  },
  {
   "cell_type": "code",
   "execution_count": 10,
   "metadata": {},
   "outputs": [
    {
     "data": {
      "text/html": "<div>\n<style scoped>\n    .dataframe tbody tr th:only-of-type {\n        vertical-align: middle;\n    }\n\n    .dataframe tbody tr th {\n        vertical-align: top;\n    }\n\n    .dataframe thead th {\n        text-align: right;\n    }\n</style>\n<table border=\"1\" class=\"dataframe\">\n  <thead>\n    <tr style=\"text-align: right;\">\n      <th></th>\n      <th>Total Confirmed Cases</th>\n      <th>Daily New Cases</th>\n      <th>Daily New Deaths</th>\n      <th>Total Deaths</th>\n      <th>Total Recoveries</th>\n      <th>Daily New Recoveries</th>\n      <th>Active Cases</th>\n      <th>Share of Recoveries - Closed Cases</th>\n      <th>Death to Cases Ratio</th>\n    </tr>\n    <tr>\n      <th>Date</th>\n      <th></th>\n      <th></th>\n      <th></th>\n      <th></th>\n      <th></th>\n      <th></th>\n      <th></th>\n      <th></th>\n      <th></th>\n    </tr>\n  </thead>\n  <tbody>\n    <tr>\n      <th>2020-03-13</th>\n      <td>145193</td>\n      <td>16850.0</td>\n      <td>684.0</td>\n      <td>5404</td>\n      <td>70251</td>\n      <td>1927.0</td>\n      <td>69538</td>\n      <td>0.93</td>\n      <td>0.037</td>\n    </tr>\n    <tr>\n      <th>2020-03-14</th>\n      <td>156102</td>\n      <td>10909.0</td>\n      <td>415.0</td>\n      <td>5819</td>\n      <td>72624</td>\n      <td>2373.0</td>\n      <td>77659</td>\n      <td>0.93</td>\n      <td>0.037</td>\n    </tr>\n  </tbody>\n</table>\n</div>",
      "text/plain": "            Total Confirmed Cases  Daily New Cases  Daily New Deaths  \\\nDate                                                                   \n2020-03-13                 145193          16850.0             684.0   \n2020-03-14                 156102          10909.0             415.0   \n\n            Total Deaths  Total Recoveries  Daily New Recoveries  \\\nDate                                                               \n2020-03-13          5404             70251                1927.0   \n2020-03-14          5819             72624                2373.0   \n\n            Active Cases  Share of Recoveries - Closed Cases  \\\nDate                                                           \n2020-03-13         69538                                0.93   \n2020-03-14         77659                                0.93   \n\n            Death to Cases Ratio  \nDate                              \n2020-03-13                 0.037  \n2020-03-14                 0.037  "
     },
     "execution_count": 10,
     "metadata": {},
     "output_type": "execute_result"
    }
   ],
   "source": [
    "GlobalTotals=CountryConsolidated.reset_index().groupby('Date').sum()\n",
    "GlobalTotals['Share of Recoveries - Closed Cases']=np.round(GlobalTotals['Total Recoveries']/(GlobalTotals['Total Recoveries']+GlobalTotals['Total Deaths']),2)\n",
    "GlobalTotals['Death to Cases Ratio']=np.round(GlobalTotals['Total Deaths']/GlobalTotals['Total Confirmed Cases'],3)\n",
    "GlobalTotals.tail(2)"
   ]
  },
  {
   "cell_type": "markdown",
   "metadata": {},
   "source": [
    "###  Cases Worldwide by Status: Total Confirmed, Active, Deaths, Recoveries"
   ]
  },
  {
   "cell_type": "code",
   "execution_count": 11,
   "metadata": {},
   "outputs": [
    {
     "data": {
      "text/plain": "Total Confirmed Cases                 156102.000\nDaily New Cases                        10909.000\nDaily New Deaths                         415.000\nTotal Deaths                            5819.000\nTotal Recoveries                       72624.000\nDaily New Recoveries                    2373.000\nActive Cases                           77659.000\nShare of Recoveries - Closed Cases         0.930\nDeath to Cases Ratio                       0.037\nName: 2020-03-14 00:00:00, dtype: float64"
     },
     "execution_count": 11,
     "metadata": {},
     "output_type": "execute_result"
    }
   ],
   "source": [
    "GlobalTotals.iloc[-1]"
   ]
  },
  {
   "cell_type": "code",
   "execution_count": 12,
   "metadata": {},
   "outputs": [],
   "source": [
    "total_death = GlobalTotals.iloc[-1]['Total Deaths']\n",
    "total_recoveries = GlobalTotals.iloc[-1]['Total Recoveries']\n",
    "total_closed = total_death + total_recoveries"
   ]
  },
  {
   "cell_type": "code",
   "execution_count": 13,
   "metadata": {},
   "outputs": [
    {
     "data": {
      "text/plain": "0.0741812526292977"
     },
     "execution_count": 13,
     "metadata": {},
     "output_type": "execute_result"
    }
   ],
   "source": [
    "total_death / total_closed"
   ]
  },
  {
   "cell_type": "code",
   "execution_count": 14,
   "metadata": {},
   "outputs": [],
   "source": [
    "plt.style.use('seaborn-dark')"
   ]
  },
  {
   "cell_type": "code",
   "execution_count": 15,
   "metadata": {},
   "outputs": [
    {
     "data": {
      "application/vnd.plotly.v1+json": {
       "config": {
        "plotlyServerURL": "https://plot.ly"
       },
       "data": [
        {
         "line": {
          "color": "red",
          "width": 2
         },
         "mode": "lines+markers",
         "name": "Confirmed Cases",
         "type": "scatter",
         "x": [
          "2020-01-22T00:00:00",
          "2020-01-23T00:00:00",
          "2020-01-24T00:00:00",
          "2020-01-25T00:00:00",
          "2020-01-26T00:00:00",
          "2020-01-27T00:00:00",
          "2020-01-28T00:00:00",
          "2020-01-29T00:00:00",
          "2020-01-30T00:00:00",
          "2020-01-31T00:00:00",
          "2020-02-01T00:00:00",
          "2020-02-02T00:00:00",
          "2020-02-03T00:00:00",
          "2020-02-04T00:00:00",
          "2020-02-05T00:00:00",
          "2020-02-06T00:00:00",
          "2020-02-07T00:00:00",
          "2020-02-08T00:00:00",
          "2020-02-09T00:00:00",
          "2020-02-10T00:00:00",
          "2020-02-11T00:00:00",
          "2020-02-12T00:00:00",
          "2020-02-13T00:00:00",
          "2020-02-14T00:00:00",
          "2020-02-15T00:00:00",
          "2020-02-16T00:00:00",
          "2020-02-17T00:00:00",
          "2020-02-18T00:00:00",
          "2020-02-19T00:00:00",
          "2020-02-20T00:00:00",
          "2020-02-21T00:00:00",
          "2020-02-22T00:00:00",
          "2020-02-23T00:00:00",
          "2020-02-24T00:00:00",
          "2020-02-25T00:00:00",
          "2020-02-26T00:00:00",
          "2020-02-27T00:00:00",
          "2020-02-28T00:00:00",
          "2020-02-29T00:00:00",
          "2020-03-01T00:00:00",
          "2020-03-02T00:00:00",
          "2020-03-03T00:00:00",
          "2020-03-04T00:00:00",
          "2020-03-05T00:00:00",
          "2020-03-06T00:00:00",
          "2020-03-07T00:00:00",
          "2020-03-08T00:00:00",
          "2020-03-09T00:00:00",
          "2020-03-10T00:00:00",
          "2020-03-11T00:00:00",
          "2020-03-12T00:00:00",
          "2020-03-13T00:00:00",
          "2020-03-14T00:00:00"
         ],
         "xaxis": "x",
         "y": [
          555,
          653,
          941,
          1434,
          2118,
          2927,
          5578,
          6166,
          8234,
          9927,
          12038,
          16787,
          19881,
          23892,
          27635,
          30817,
          34391,
          37120,
          40150,
          42762,
          44802,
          45221,
          60368,
          66885,
          69030,
          71224,
          73258,
          75136,
          75639,
          76197,
          76823,
          78579,
          78965,
          79568,
          80413,
          81395,
          82754,
          84120,
          86011,
          88369,
          90306,
          92840,
          95120,
          97882,
          101784,
          105821,
          109795,
          113561,
          118592,
          125865,
          128343,
          145193,
          156102
         ],
         "yaxis": "y"
        },
        {
         "line": {
          "color": "red",
          "width": 2
         },
         "mode": "lines+markers",
         "name": "Active Cases",
         "type": "scatter",
         "x": [
          "2020-01-22T00:00:00",
          "2020-01-23T00:00:00",
          "2020-01-24T00:00:00",
          "2020-01-25T00:00:00",
          "2020-01-26T00:00:00",
          "2020-01-27T00:00:00",
          "2020-01-28T00:00:00",
          "2020-01-29T00:00:00",
          "2020-01-30T00:00:00",
          "2020-01-31T00:00:00",
          "2020-02-01T00:00:00",
          "2020-02-02T00:00:00",
          "2020-02-03T00:00:00",
          "2020-02-04T00:00:00",
          "2020-02-05T00:00:00",
          "2020-02-06T00:00:00",
          "2020-02-07T00:00:00",
          "2020-02-08T00:00:00",
          "2020-02-09T00:00:00",
          "2020-02-10T00:00:00",
          "2020-02-11T00:00:00",
          "2020-02-12T00:00:00",
          "2020-02-13T00:00:00",
          "2020-02-14T00:00:00",
          "2020-02-15T00:00:00",
          "2020-02-16T00:00:00",
          "2020-02-17T00:00:00",
          "2020-02-18T00:00:00",
          "2020-02-19T00:00:00",
          "2020-02-20T00:00:00",
          "2020-02-21T00:00:00",
          "2020-02-22T00:00:00",
          "2020-02-23T00:00:00",
          "2020-02-24T00:00:00",
          "2020-02-25T00:00:00",
          "2020-02-26T00:00:00",
          "2020-02-27T00:00:00",
          "2020-02-28T00:00:00",
          "2020-02-29T00:00:00",
          "2020-03-01T00:00:00",
          "2020-03-02T00:00:00",
          "2020-03-03T00:00:00",
          "2020-03-04T00:00:00",
          "2020-03-05T00:00:00",
          "2020-03-06T00:00:00",
          "2020-03-07T00:00:00",
          "2020-03-08T00:00:00",
          "2020-03-09T00:00:00",
          "2020-03-10T00:00:00",
          "2020-03-11T00:00:00",
          "2020-03-12T00:00:00",
          "2020-03-13T00:00:00",
          "2020-03-14T00:00:00"
         ],
         "xaxis": "x2",
         "y": [
          510,
          605,
          879,
          1353,
          2010,
          2784,
          5340,
          5907,
          7920,
          9492,
          11495,
          15953,
          18832,
          22548,
          25947,
          28696,
          31661,
          33698,
          36000,
          37803,
          39006,
          38953,
          52702,
          57304,
          57969,
          58589,
          58807,
          58777,
          57396,
          55773,
          55682,
          53235,
          53102,
          51712,
          49800,
          48241,
          46663,
          44537,
          43288,
          42657,
          41619,
          41452,
          40696,
          40738,
          42459,
          43905,
          45299,
          47079,
          49926,
          54247,
          55299,
          69538,
          77659
         ],
         "yaxis": "y2"
        },
        {
         "line": {
          "color": "red",
          "width": 2
         },
         "mode": "lines+markers",
         "name": "Deaths",
         "type": "scatter",
         "x": [
          "2020-01-22T00:00:00",
          "2020-01-23T00:00:00",
          "2020-01-24T00:00:00",
          "2020-01-25T00:00:00",
          "2020-01-26T00:00:00",
          "2020-01-27T00:00:00",
          "2020-01-28T00:00:00",
          "2020-01-29T00:00:00",
          "2020-01-30T00:00:00",
          "2020-01-31T00:00:00",
          "2020-02-01T00:00:00",
          "2020-02-02T00:00:00",
          "2020-02-03T00:00:00",
          "2020-02-04T00:00:00",
          "2020-02-05T00:00:00",
          "2020-02-06T00:00:00",
          "2020-02-07T00:00:00",
          "2020-02-08T00:00:00",
          "2020-02-09T00:00:00",
          "2020-02-10T00:00:00",
          "2020-02-11T00:00:00",
          "2020-02-12T00:00:00",
          "2020-02-13T00:00:00",
          "2020-02-14T00:00:00",
          "2020-02-15T00:00:00",
          "2020-02-16T00:00:00",
          "2020-02-17T00:00:00",
          "2020-02-18T00:00:00",
          "2020-02-19T00:00:00",
          "2020-02-20T00:00:00",
          "2020-02-21T00:00:00",
          "2020-02-22T00:00:00",
          "2020-02-23T00:00:00",
          "2020-02-24T00:00:00",
          "2020-02-25T00:00:00",
          "2020-02-26T00:00:00",
          "2020-02-27T00:00:00",
          "2020-02-28T00:00:00",
          "2020-02-29T00:00:00",
          "2020-03-01T00:00:00",
          "2020-03-02T00:00:00",
          "2020-03-03T00:00:00",
          "2020-03-04T00:00:00",
          "2020-03-05T00:00:00",
          "2020-03-06T00:00:00",
          "2020-03-07T00:00:00",
          "2020-03-08T00:00:00",
          "2020-03-09T00:00:00",
          "2020-03-10T00:00:00",
          "2020-03-11T00:00:00",
          "2020-03-12T00:00:00",
          "2020-03-13T00:00:00",
          "2020-03-14T00:00:00"
         ],
         "xaxis": "x3",
         "y": [
          17,
          18,
          26,
          42,
          56,
          82,
          131,
          133,
          171,
          213,
          259,
          362,
          426,
          492,
          564,
          634,
          719,
          806,
          906,
          1013,
          1113,
          1118,
          1371,
          1523,
          1666,
          1770,
          1868,
          2007,
          2122,
          2247,
          2251,
          2458,
          2469,
          2629,
          2708,
          2770,
          2814,
          2872,
          2941,
          2996,
          3085,
          3160,
          3254,
          3348,
          3460,
          3558,
          3802,
          3988,
          4262,
          4615,
          4720,
          5404,
          5819
         ],
         "yaxis": "y3"
        },
        {
         "line": {
          "color": "red",
          "width": 2
         },
         "mode": "lines+markers",
         "name": "Recoveries",
         "type": "scatter",
         "x": [
          "2020-01-22T00:00:00",
          "2020-01-23T00:00:00",
          "2020-01-24T00:00:00",
          "2020-01-25T00:00:00",
          "2020-01-26T00:00:00",
          "2020-01-27T00:00:00",
          "2020-01-28T00:00:00",
          "2020-01-29T00:00:00",
          "2020-01-30T00:00:00",
          "2020-01-31T00:00:00",
          "2020-02-01T00:00:00",
          "2020-02-02T00:00:00",
          "2020-02-03T00:00:00",
          "2020-02-04T00:00:00",
          "2020-02-05T00:00:00",
          "2020-02-06T00:00:00",
          "2020-02-07T00:00:00",
          "2020-02-08T00:00:00",
          "2020-02-09T00:00:00",
          "2020-02-10T00:00:00",
          "2020-02-11T00:00:00",
          "2020-02-12T00:00:00",
          "2020-02-13T00:00:00",
          "2020-02-14T00:00:00",
          "2020-02-15T00:00:00",
          "2020-02-16T00:00:00",
          "2020-02-17T00:00:00",
          "2020-02-18T00:00:00",
          "2020-02-19T00:00:00",
          "2020-02-20T00:00:00",
          "2020-02-21T00:00:00",
          "2020-02-22T00:00:00",
          "2020-02-23T00:00:00",
          "2020-02-24T00:00:00",
          "2020-02-25T00:00:00",
          "2020-02-26T00:00:00",
          "2020-02-27T00:00:00",
          "2020-02-28T00:00:00",
          "2020-02-29T00:00:00",
          "2020-03-01T00:00:00",
          "2020-03-02T00:00:00",
          "2020-03-03T00:00:00",
          "2020-03-04T00:00:00",
          "2020-03-05T00:00:00",
          "2020-03-06T00:00:00",
          "2020-03-07T00:00:00",
          "2020-03-08T00:00:00",
          "2020-03-09T00:00:00",
          "2020-03-10T00:00:00",
          "2020-03-11T00:00:00",
          "2020-03-12T00:00:00",
          "2020-03-13T00:00:00",
          "2020-03-14T00:00:00"
         ],
         "xaxis": "x4",
         "y": [
          28,
          30,
          36,
          39,
          52,
          61,
          107,
          126,
          143,
          222,
          284,
          472,
          623,
          852,
          1124,
          1487,
          2011,
          2616,
          3244,
          3946,
          4683,
          5150,
          6295,
          8058,
          9395,
          10865,
          12583,
          14352,
          16121,
          18177,
          18890,
          22886,
          23394,
          25227,
          27905,
          30384,
          33277,
          36711,
          39782,
          42716,
          45602,
          48228,
          51170,
          53796,
          55865,
          58358,
          60694,
          62494,
          64404,
          67003,
          68324,
          70251,
          72624
         ],
         "yaxis": "y4"
        },
        {
         "line": {
          "color": "red",
          "width": 2
         },
         "mode": "lines+markers",
         "type": "scatter",
         "x": [
          "2020-01-22T00:00:00",
          "2020-01-23T00:00:00",
          "2020-01-24T00:00:00",
          "2020-01-25T00:00:00",
          "2020-01-26T00:00:00",
          "2020-01-27T00:00:00",
          "2020-01-28T00:00:00",
          "2020-01-29T00:00:00",
          "2020-01-30T00:00:00",
          "2020-01-31T00:00:00",
          "2020-02-01T00:00:00",
          "2020-02-02T00:00:00",
          "2020-02-03T00:00:00",
          "2020-02-04T00:00:00",
          "2020-02-05T00:00:00",
          "2020-02-06T00:00:00",
          "2020-02-07T00:00:00",
          "2020-02-08T00:00:00",
          "2020-02-09T00:00:00",
          "2020-02-10T00:00:00",
          "2020-02-11T00:00:00",
          "2020-02-12T00:00:00",
          "2020-02-13T00:00:00",
          "2020-02-14T00:00:00",
          "2020-02-15T00:00:00",
          "2020-02-16T00:00:00",
          "2020-02-17T00:00:00",
          "2020-02-18T00:00:00",
          "2020-02-19T00:00:00",
          "2020-02-20T00:00:00",
          "2020-02-21T00:00:00",
          "2020-02-22T00:00:00",
          "2020-02-23T00:00:00",
          "2020-02-24T00:00:00",
          "2020-02-25T00:00:00",
          "2020-02-26T00:00:00",
          "2020-02-27T00:00:00",
          "2020-02-28T00:00:00",
          "2020-02-29T00:00:00",
          "2020-03-01T00:00:00",
          "2020-03-02T00:00:00",
          "2020-03-03T00:00:00",
          "2020-03-04T00:00:00",
          "2020-03-05T00:00:00",
          "2020-03-06T00:00:00",
          "2020-03-07T00:00:00",
          "2020-03-08T00:00:00",
          "2020-03-09T00:00:00",
          "2020-03-10T00:00:00",
          "2020-03-11T00:00:00",
          "2020-03-12T00:00:00",
          "2020-03-13T00:00:00",
          "2020-03-14T00:00:00"
         ],
         "xaxis": "x5",
         "y": [
          0.031,
          0.028,
          0.028,
          0.029,
          0.026,
          0.028,
          0.023,
          0.022,
          0.021,
          0.021,
          0.022,
          0.022,
          0.021,
          0.021,
          0.02,
          0.021,
          0.021,
          0.022,
          0.023,
          0.024,
          0.025,
          0.025,
          0.023,
          0.023,
          0.024,
          0.025,
          0.025,
          0.027,
          0.028,
          0.029,
          0.029,
          0.031,
          0.031,
          0.033,
          0.034,
          0.034,
          0.034,
          0.034,
          0.034,
          0.034,
          0.034,
          0.034,
          0.034,
          0.034,
          0.034,
          0.034,
          0.035,
          0.035,
          0.036,
          0.037,
          0.037,
          0.037,
          0.037
         ],
         "yaxis": "y5"
        }
       ],
       "layout": {
        "annotations": [
         {
          "font": {
           "size": 16
          },
          "showarrow": false,
          "text": "Total Confirmed Cases",
          "x": 0.225,
          "xanchor": "center",
          "xref": "paper",
          "y": 1,
          "yanchor": "bottom",
          "yref": "paper"
         },
         {
          "font": {
           "size": 16
          },
          "showarrow": false,
          "text": "Active Cases",
          "x": 0.775,
          "xanchor": "center",
          "xref": "paper",
          "y": 1,
          "yanchor": "bottom",
          "yref": "paper"
         },
         {
          "font": {
           "size": 16
          },
          "showarrow": false,
          "text": "Deaths",
          "x": 0.225,
          "xanchor": "center",
          "xref": "paper",
          "y": 0.6111111111111112,
          "yanchor": "bottom",
          "yref": "paper"
         },
         {
          "font": {
           "size": 16
          },
          "showarrow": false,
          "text": "Recoveries",
          "x": 0.775,
          "xanchor": "center",
          "xref": "paper",
          "y": 0.6111111111111112,
          "yanchor": "bottom",
          "yref": "paper"
         },
         {
          "font": {
           "size": 16
          },
          "showarrow": false,
          "text": "Death to Cases Ratio",
          "x": 0.5,
          "xanchor": "center",
          "xref": "paper",
          "y": 0.22222222222222224,
          "yanchor": "bottom",
          "yref": "paper"
         }
        ],
        "showlegend": false,
        "template": {
         "data": {
          "bar": [
           {
            "error_x": {
             "color": "#2a3f5f"
            },
            "error_y": {
             "color": "#2a3f5f"
            },
            "marker": {
             "line": {
              "color": "#E5ECF6",
              "width": 0.5
             }
            },
            "type": "bar"
           }
          ],
          "barpolar": [
           {
            "marker": {
             "line": {
              "color": "#E5ECF6",
              "width": 0.5
             }
            },
            "type": "barpolar"
           }
          ],
          "carpet": [
           {
            "aaxis": {
             "endlinecolor": "#2a3f5f",
             "gridcolor": "white",
             "linecolor": "white",
             "minorgridcolor": "white",
             "startlinecolor": "#2a3f5f"
            },
            "baxis": {
             "endlinecolor": "#2a3f5f",
             "gridcolor": "white",
             "linecolor": "white",
             "minorgridcolor": "white",
             "startlinecolor": "#2a3f5f"
            },
            "type": "carpet"
           }
          ],
          "choropleth": [
           {
            "colorbar": {
             "outlinewidth": 0,
             "ticks": ""
            },
            "type": "choropleth"
           }
          ],
          "contour": [
           {
            "colorbar": {
             "outlinewidth": 0,
             "ticks": ""
            },
            "colorscale": [
             [
              0,
              "#0d0887"
             ],
             [
              0.1111111111111111,
              "#46039f"
             ],
             [
              0.2222222222222222,
              "#7201a8"
             ],
             [
              0.3333333333333333,
              "#9c179e"
             ],
             [
              0.4444444444444444,
              "#bd3786"
             ],
             [
              0.5555555555555556,
              "#d8576b"
             ],
             [
              0.6666666666666666,
              "#ed7953"
             ],
             [
              0.7777777777777778,
              "#fb9f3a"
             ],
             [
              0.8888888888888888,
              "#fdca26"
             ],
             [
              1,
              "#f0f921"
             ]
            ],
            "type": "contour"
           }
          ],
          "contourcarpet": [
           {
            "colorbar": {
             "outlinewidth": 0,
             "ticks": ""
            },
            "type": "contourcarpet"
           }
          ],
          "heatmap": [
           {
            "colorbar": {
             "outlinewidth": 0,
             "ticks": ""
            },
            "colorscale": [
             [
              0,
              "#0d0887"
             ],
             [
              0.1111111111111111,
              "#46039f"
             ],
             [
              0.2222222222222222,
              "#7201a8"
             ],
             [
              0.3333333333333333,
              "#9c179e"
             ],
             [
              0.4444444444444444,
              "#bd3786"
             ],
             [
              0.5555555555555556,
              "#d8576b"
             ],
             [
              0.6666666666666666,
              "#ed7953"
             ],
             [
              0.7777777777777778,
              "#fb9f3a"
             ],
             [
              0.8888888888888888,
              "#fdca26"
             ],
             [
              1,
              "#f0f921"
             ]
            ],
            "type": "heatmap"
           }
          ],
          "heatmapgl": [
           {
            "colorbar": {
             "outlinewidth": 0,
             "ticks": ""
            },
            "colorscale": [
             [
              0,
              "#0d0887"
             ],
             [
              0.1111111111111111,
              "#46039f"
             ],
             [
              0.2222222222222222,
              "#7201a8"
             ],
             [
              0.3333333333333333,
              "#9c179e"
             ],
             [
              0.4444444444444444,
              "#bd3786"
             ],
             [
              0.5555555555555556,
              "#d8576b"
             ],
             [
              0.6666666666666666,
              "#ed7953"
             ],
             [
              0.7777777777777778,
              "#fb9f3a"
             ],
             [
              0.8888888888888888,
              "#fdca26"
             ],
             [
              1,
              "#f0f921"
             ]
            ],
            "type": "heatmapgl"
           }
          ],
          "histogram": [
           {
            "marker": {
             "colorbar": {
              "outlinewidth": 0,
              "ticks": ""
             }
            },
            "type": "histogram"
           }
          ],
          "histogram2d": [
           {
            "colorbar": {
             "outlinewidth": 0,
             "ticks": ""
            },
            "colorscale": [
             [
              0,
              "#0d0887"
             ],
             [
              0.1111111111111111,
              "#46039f"
             ],
             [
              0.2222222222222222,
              "#7201a8"
             ],
             [
              0.3333333333333333,
              "#9c179e"
             ],
             [
              0.4444444444444444,
              "#bd3786"
             ],
             [
              0.5555555555555556,
              "#d8576b"
             ],
             [
              0.6666666666666666,
              "#ed7953"
             ],
             [
              0.7777777777777778,
              "#fb9f3a"
             ],
             [
              0.8888888888888888,
              "#fdca26"
             ],
             [
              1,
              "#f0f921"
             ]
            ],
            "type": "histogram2d"
           }
          ],
          "histogram2dcontour": [
           {
            "colorbar": {
             "outlinewidth": 0,
             "ticks": ""
            },
            "colorscale": [
             [
              0,
              "#0d0887"
             ],
             [
              0.1111111111111111,
              "#46039f"
             ],
             [
              0.2222222222222222,
              "#7201a8"
             ],
             [
              0.3333333333333333,
              "#9c179e"
             ],
             [
              0.4444444444444444,
              "#bd3786"
             ],
             [
              0.5555555555555556,
              "#d8576b"
             ],
             [
              0.6666666666666666,
              "#ed7953"
             ],
             [
              0.7777777777777778,
              "#fb9f3a"
             ],
             [
              0.8888888888888888,
              "#fdca26"
             ],
             [
              1,
              "#f0f921"
             ]
            ],
            "type": "histogram2dcontour"
           }
          ],
          "mesh3d": [
           {
            "colorbar": {
             "outlinewidth": 0,
             "ticks": ""
            },
            "type": "mesh3d"
           }
          ],
          "parcoords": [
           {
            "line": {
             "colorbar": {
              "outlinewidth": 0,
              "ticks": ""
             }
            },
            "type": "parcoords"
           }
          ],
          "pie": [
           {
            "automargin": true,
            "type": "pie"
           }
          ],
          "scatter": [
           {
            "marker": {
             "colorbar": {
              "outlinewidth": 0,
              "ticks": ""
             }
            },
            "type": "scatter"
           }
          ],
          "scatter3d": [
           {
            "line": {
             "colorbar": {
              "outlinewidth": 0,
              "ticks": ""
             }
            },
            "marker": {
             "colorbar": {
              "outlinewidth": 0,
              "ticks": ""
             }
            },
            "type": "scatter3d"
           }
          ],
          "scattercarpet": [
           {
            "marker": {
             "colorbar": {
              "outlinewidth": 0,
              "ticks": ""
             }
            },
            "type": "scattercarpet"
           }
          ],
          "scattergeo": [
           {
            "marker": {
             "colorbar": {
              "outlinewidth": 0,
              "ticks": ""
             }
            },
            "type": "scattergeo"
           }
          ],
          "scattergl": [
           {
            "marker": {
             "colorbar": {
              "outlinewidth": 0,
              "ticks": ""
             }
            },
            "type": "scattergl"
           }
          ],
          "scattermapbox": [
           {
            "marker": {
             "colorbar": {
              "outlinewidth": 0,
              "ticks": ""
             }
            },
            "type": "scattermapbox"
           }
          ],
          "scatterpolar": [
           {
            "marker": {
             "colorbar": {
              "outlinewidth": 0,
              "ticks": ""
             }
            },
            "type": "scatterpolar"
           }
          ],
          "scatterpolargl": [
           {
            "marker": {
             "colorbar": {
              "outlinewidth": 0,
              "ticks": ""
             }
            },
            "type": "scatterpolargl"
           }
          ],
          "scatterternary": [
           {
            "marker": {
             "colorbar": {
              "outlinewidth": 0,
              "ticks": ""
             }
            },
            "type": "scatterternary"
           }
          ],
          "surface": [
           {
            "colorbar": {
             "outlinewidth": 0,
             "ticks": ""
            },
            "colorscale": [
             [
              0,
              "#0d0887"
             ],
             [
              0.1111111111111111,
              "#46039f"
             ],
             [
              0.2222222222222222,
              "#7201a8"
             ],
             [
              0.3333333333333333,
              "#9c179e"
             ],
             [
              0.4444444444444444,
              "#bd3786"
             ],
             [
              0.5555555555555556,
              "#d8576b"
             ],
             [
              0.6666666666666666,
              "#ed7953"
             ],
             [
              0.7777777777777778,
              "#fb9f3a"
             ],
             [
              0.8888888888888888,
              "#fdca26"
             ],
             [
              1,
              "#f0f921"
             ]
            ],
            "type": "surface"
           }
          ],
          "table": [
           {
            "cells": {
             "fill": {
              "color": "#EBF0F8"
             },
             "line": {
              "color": "white"
             }
            },
            "header": {
             "fill": {
              "color": "#C8D4E3"
             },
             "line": {
              "color": "white"
             }
            },
            "type": "table"
           }
          ]
         },
         "layout": {
          "annotationdefaults": {
           "arrowcolor": "#2a3f5f",
           "arrowhead": 0,
           "arrowwidth": 1
          },
          "coloraxis": {
           "colorbar": {
            "outlinewidth": 0,
            "ticks": ""
           }
          },
          "colorscale": {
           "diverging": [
            [
             0,
             "#8e0152"
            ],
            [
             0.1,
             "#c51b7d"
            ],
            [
             0.2,
             "#de77ae"
            ],
            [
             0.3,
             "#f1b6da"
            ],
            [
             0.4,
             "#fde0ef"
            ],
            [
             0.5,
             "#f7f7f7"
            ],
            [
             0.6,
             "#e6f5d0"
            ],
            [
             0.7,
             "#b8e186"
            ],
            [
             0.8,
             "#7fbc41"
            ],
            [
             0.9,
             "#4d9221"
            ],
            [
             1,
             "#276419"
            ]
           ],
           "sequential": [
            [
             0,
             "#0d0887"
            ],
            [
             0.1111111111111111,
             "#46039f"
            ],
            [
             0.2222222222222222,
             "#7201a8"
            ],
            [
             0.3333333333333333,
             "#9c179e"
            ],
            [
             0.4444444444444444,
             "#bd3786"
            ],
            [
             0.5555555555555556,
             "#d8576b"
            ],
            [
             0.6666666666666666,
             "#ed7953"
            ],
            [
             0.7777777777777778,
             "#fb9f3a"
            ],
            [
             0.8888888888888888,
             "#fdca26"
            ],
            [
             1,
             "#f0f921"
            ]
           ],
           "sequentialminus": [
            [
             0,
             "#0d0887"
            ],
            [
             0.1111111111111111,
             "#46039f"
            ],
            [
             0.2222222222222222,
             "#7201a8"
            ],
            [
             0.3333333333333333,
             "#9c179e"
            ],
            [
             0.4444444444444444,
             "#bd3786"
            ],
            [
             0.5555555555555556,
             "#d8576b"
            ],
            [
             0.6666666666666666,
             "#ed7953"
            ],
            [
             0.7777777777777778,
             "#fb9f3a"
            ],
            [
             0.8888888888888888,
             "#fdca26"
            ],
            [
             1,
             "#f0f921"
            ]
           ]
          },
          "colorway": [
           "#636efa",
           "#EF553B",
           "#00cc96",
           "#ab63fa",
           "#FFA15A",
           "#19d3f3",
           "#FF6692",
           "#B6E880",
           "#FF97FF",
           "#FECB52"
          ],
          "font": {
           "color": "#2a3f5f"
          },
          "geo": {
           "bgcolor": "white",
           "lakecolor": "white",
           "landcolor": "#E5ECF6",
           "showlakes": true,
           "showland": true,
           "subunitcolor": "white"
          },
          "hoverlabel": {
           "align": "left"
          },
          "hovermode": "closest",
          "mapbox": {
           "style": "light"
          },
          "paper_bgcolor": "white",
          "plot_bgcolor": "#E5ECF6",
          "polar": {
           "angularaxis": {
            "gridcolor": "white",
            "linecolor": "white",
            "ticks": ""
           },
           "bgcolor": "#E5ECF6",
           "radialaxis": {
            "gridcolor": "white",
            "linecolor": "white",
            "ticks": ""
           }
          },
          "scene": {
           "xaxis": {
            "backgroundcolor": "#E5ECF6",
            "gridcolor": "white",
            "gridwidth": 2,
            "linecolor": "white",
            "showbackground": true,
            "ticks": "",
            "zerolinecolor": "white"
           },
           "yaxis": {
            "backgroundcolor": "#E5ECF6",
            "gridcolor": "white",
            "gridwidth": 2,
            "linecolor": "white",
            "showbackground": true,
            "ticks": "",
            "zerolinecolor": "white"
           },
           "zaxis": {
            "backgroundcolor": "#E5ECF6",
            "gridcolor": "white",
            "gridwidth": 2,
            "linecolor": "white",
            "showbackground": true,
            "ticks": "",
            "zerolinecolor": "white"
           }
          },
          "shapedefaults": {
           "line": {
            "color": "#2a3f5f"
           }
          },
          "ternary": {
           "aaxis": {
            "gridcolor": "white",
            "linecolor": "white",
            "ticks": ""
           },
           "baxis": {
            "gridcolor": "white",
            "linecolor": "white",
            "ticks": ""
           },
           "bgcolor": "#E5ECF6",
           "caxis": {
            "gridcolor": "white",
            "linecolor": "white",
            "ticks": ""
           }
          },
          "title": {
           "x": 0.05
          },
          "xaxis": {
           "automargin": true,
           "gridcolor": "white",
           "linecolor": "white",
           "ticks": "",
           "title": {
            "standoff": 15
           },
           "zerolinecolor": "white",
           "zerolinewidth": 2
          },
          "yaxis": {
           "automargin": true,
           "gridcolor": "white",
           "linecolor": "white",
           "ticks": "",
           "title": {
            "standoff": 15
           },
           "zerolinecolor": "white",
           "zerolinewidth": 2
          }
         }
        },
        "xaxis": {
         "anchor": "y",
         "domain": [
          0,
          0.45
         ],
         "matches": "x3",
         "showticklabels": false
        },
        "xaxis2": {
         "anchor": "y2",
         "domain": [
          0.55,
          1
         ],
         "matches": "x4",
         "showticklabels": false
        },
        "xaxis3": {
         "anchor": "y3",
         "domain": [
          0,
          0.45
         ]
        },
        "xaxis4": {
         "anchor": "y4",
         "domain": [
          0.55,
          1
         ]
        },
        "xaxis5": {
         "anchor": "y5",
         "domain": [
          0,
          1
         ]
        },
        "yaxis": {
         "anchor": "x",
         "domain": [
          0.7777777777777778,
          1
         ]
        },
        "yaxis2": {
         "anchor": "x2",
         "domain": [
          0.7777777777777778,
          1
         ]
        },
        "yaxis3": {
         "anchor": "x3",
         "domain": [
          0.3888888888888889,
          0.6111111111111112
         ]
        },
        "yaxis4": {
         "anchor": "x4",
         "domain": [
          0.3888888888888889,
          0.6111111111111112
         ]
        },
        "yaxis5": {
         "anchor": "x5",
         "domain": [
          0,
          0.22222222222222224
         ]
        }
       }
      }
     },
     "metadata": {},
     "output_type": "display_data"
    }
   ],
   "source": [
    "chartcol='red'\n",
    "fig = make_subplots(rows=3, cols=2,shared_xaxes=True,\n",
    "                    specs=[[{}, {}],[{},{}],\n",
    "                       [{\"colspan\": 2}, None]],\n",
    "                    subplot_titles=('Total Confirmed Cases','Active Cases','Deaths','Recoveries','Death to Cases Ratio'))\n",
    "fig.add_trace(go.Scatter(x=GlobalTotals.index,y=GlobalTotals['Total Confirmed Cases'],\n",
    "                         mode='lines+markers',\n",
    "                         name='Confirmed Cases',\n",
    "                         line=dict(color=chartcol,width=2)),\n",
    "                         row=1,col=1)\n",
    "fig.add_trace(go.Scatter(x=GlobalTotals.index,y=GlobalTotals['Active Cases'],\n",
    "                         mode='lines+markers',\n",
    "                         name='Active Cases',\n",
    "                         line=dict(color=chartcol,width=2)),\n",
    "                         row=1,col=2)\n",
    "fig.add_trace(go.Scatter(x=GlobalTotals.index,y=GlobalTotals['Total Deaths'],\n",
    "                         mode='lines+markers',\n",
    "                         name='Deaths',\n",
    "                         line=dict(color=chartcol,width=2)),\n",
    "                         row=2,col=1)\n",
    "fig.add_trace(go.Scatter(x=GlobalTotals.index,y=GlobalTotals['Total Recoveries'],\n",
    "                         mode='lines+markers',\n",
    "                         name='Recoveries',\n",
    "                         line=dict(color=chartcol,width=2)),\n",
    "                         row=2,col=2)\n",
    "fig.add_trace(go.Scatter(x=GlobalTotals.index,y=GlobalTotals['Death to Cases Ratio'],\n",
    "                         mode='lines+markers',\n",
    "                         line=dict(color=chartcol,width=2)),\n",
    "                         row=3,col=1)\n",
    "fig.update_layout(showlegend=False)"
   ]
  },
  {
   "cell_type": "markdown",
   "metadata": {},
   "source": [
    "### Cases by Region (Inside or Outside China)"
   ]
  },
  {
   "cell_type": "code",
   "execution_count": 16,
   "metadata": {},
   "outputs": [
    {
     "data": {
      "text/html": "<div>\n<style scoped>\n    .dataframe tbody tr th:only-of-type {\n        vertical-align: middle;\n    }\n\n    .dataframe tbody tr th {\n        vertical-align: top;\n    }\n\n    .dataframe thead th {\n        text-align: right;\n    }\n</style>\n<table border=\"1\" class=\"dataframe\">\n  <thead>\n    <tr style=\"text-align: right;\">\n      <th></th>\n      <th>Country/Region</th>\n      <th>Date</th>\n      <th>Total Confirmed Cases</th>\n      <th>Daily New Cases</th>\n      <th>Daily New Deaths</th>\n      <th>Total Deaths</th>\n      <th>Total Recoveries</th>\n      <th>Daily New Recoveries</th>\n      <th>Active Cases</th>\n      <th>Share of Recoveries - Closed Cases</th>\n      <th>Death to Cases Ratio</th>\n      <th>location</th>\n    </tr>\n  </thead>\n  <tbody>\n    <tr>\n      <th>0</th>\n      <td>Afghanistan</td>\n      <td>2020-01-22</td>\n      <td>0</td>\n      <td>0.0</td>\n      <td>0.0</td>\n      <td>0</td>\n      <td>0</td>\n      <td>0.0</td>\n      <td>0</td>\n      <td>NaN</td>\n      <td>NaN</td>\n      <td>Outside China</td>\n    </tr>\n    <tr>\n      <th>1</th>\n      <td>Afghanistan</td>\n      <td>2020-01-23</td>\n      <td>0</td>\n      <td>0.0</td>\n      <td>0.0</td>\n      <td>0</td>\n      <td>0</td>\n      <td>0.0</td>\n      <td>0</td>\n      <td>NaN</td>\n      <td>NaN</td>\n      <td>Outside China</td>\n    </tr>\n    <tr>\n      <th>2</th>\n      <td>Afghanistan</td>\n      <td>2020-01-24</td>\n      <td>0</td>\n      <td>0.0</td>\n      <td>0.0</td>\n      <td>0</td>\n      <td>0</td>\n      <td>0.0</td>\n      <td>0</td>\n      <td>NaN</td>\n      <td>NaN</td>\n      <td>Outside China</td>\n    </tr>\n    <tr>\n      <th>3</th>\n      <td>Afghanistan</td>\n      <td>2020-01-25</td>\n      <td>0</td>\n      <td>0.0</td>\n      <td>0.0</td>\n      <td>0</td>\n      <td>0</td>\n      <td>0.0</td>\n      <td>0</td>\n      <td>NaN</td>\n      <td>NaN</td>\n      <td>Outside China</td>\n    </tr>\n    <tr>\n      <th>4</th>\n      <td>Afghanistan</td>\n      <td>2020-01-26</td>\n      <td>0</td>\n      <td>0.0</td>\n      <td>0.0</td>\n      <td>0</td>\n      <td>0</td>\n      <td>0.0</td>\n      <td>0</td>\n      <td>NaN</td>\n      <td>NaN</td>\n      <td>Outside China</td>\n    </tr>\n  </tbody>\n</table>\n</div>",
      "text/plain": "  Country/Region       Date  Total Confirmed Cases  Daily New Cases  \\\n0    Afghanistan 2020-01-22                      0              0.0   \n1    Afghanistan 2020-01-23                      0              0.0   \n2    Afghanistan 2020-01-24                      0              0.0   \n3    Afghanistan 2020-01-25                      0              0.0   \n4    Afghanistan 2020-01-26                      0              0.0   \n\n   Daily New Deaths  Total Deaths  Total Recoveries  Daily New Recoveries  \\\n0               0.0             0                 0                   0.0   \n1               0.0             0                 0                   0.0   \n2               0.0             0                 0                   0.0   \n3               0.0             0                 0                   0.0   \n4               0.0             0                 0                   0.0   \n\n   Active Cases  Share of Recoveries - Closed Cases  Death to Cases Ratio  \\\n0             0                                 NaN                   NaN   \n1             0                                 NaN                   NaN   \n2             0                                 NaN                   NaN   \n3             0                                 NaN                   NaN   \n4             0                                 NaN                   NaN   \n\n        location  \n0  Outside China  \n1  Outside China  \n2  Outside China  \n3  Outside China  \n4  Outside China  "
     },
     "execution_count": 16,
     "metadata": {},
     "output_type": "execute_result"
    }
   ],
   "source": [
    "#CountryConsolidated['location']=np.where(CountryConsolidated['Country/Region']=='Mainland China','Mainland China','Outside China')\n",
    "locdata=CountryConsolidated.reset_index()\n",
    "locdata['location']=np.where(locdata['Country/Region']=='China','China','Outside China')\n",
    "locdata.head()"
   ]
  },
  {
   "cell_type": "code",
   "execution_count": 17,
   "metadata": {},
   "outputs": [
    {
     "data": {
      "text/html": "<div>\n<style scoped>\n    .dataframe tbody tr th:only-of-type {\n        vertical-align: middle;\n    }\n\n    .dataframe tbody tr th {\n        vertical-align: top;\n    }\n\n    .dataframe thead th {\n        text-align: right;\n    }\n</style>\n<table border=\"1\" class=\"dataframe\">\n  <thead>\n    <tr style=\"text-align: right;\">\n      <th></th>\n      <th>Location</th>\n      <th>Date</th>\n      <th>Active Cases</th>\n    </tr>\n  </thead>\n  <tbody>\n    <tr>\n      <th>91</th>\n      <td>Outside China</td>\n      <td>2020-02-29</td>\n      <td>6089</td>\n    </tr>\n    <tr>\n      <th>92</th>\n      <td>Outside China</td>\n      <td>2020-03-01</td>\n      <td>7759</td>\n    </tr>\n    <tr>\n      <th>93</th>\n      <td>Outside China</td>\n      <td>2020-03-02</td>\n      <td>9251</td>\n    </tr>\n    <tr>\n      <th>94</th>\n      <td>Outside China</td>\n      <td>2020-03-03</td>\n      <td>11588</td>\n    </tr>\n    <tr>\n      <th>95</th>\n      <td>Outside China</td>\n      <td>2020-03-04</td>\n      <td>13294</td>\n    </tr>\n    <tr>\n      <th>96</th>\n      <td>Outside China</td>\n      <td>2020-03-05</td>\n      <td>15508</td>\n    </tr>\n    <tr>\n      <th>97</th>\n      <td>Outside China</td>\n      <td>2020-03-06</td>\n      <td>18757</td>\n    </tr>\n    <tr>\n      <th>98</th>\n      <td>Outside China</td>\n      <td>2020-03-07</td>\n      <td>21746</td>\n    </tr>\n    <tr>\n      <th>99</th>\n      <td>Outside China</td>\n      <td>2020-03-08</td>\n      <td>24964</td>\n    </tr>\n    <tr>\n      <th>100</th>\n      <td>Outside China</td>\n      <td>2020-03-09</td>\n      <td>28146</td>\n    </tr>\n    <tr>\n      <th>101</th>\n      <td>Outside China</td>\n      <td>2020-03-10</td>\n      <td>32359</td>\n    </tr>\n    <tr>\n      <th>102</th>\n      <td>Outside China</td>\n      <td>2020-03-11</td>\n      <td>38131</td>\n    </tr>\n    <tr>\n      <th>103</th>\n      <td>Outside China</td>\n      <td>2020-03-12</td>\n      <td>40440</td>\n    </tr>\n    <tr>\n      <th>104</th>\n      <td>Outside China</td>\n      <td>2020-03-13</td>\n      <td>55969</td>\n    </tr>\n    <tr>\n      <th>105</th>\n      <td>Outside China</td>\n      <td>2020-03-14</td>\n      <td>65535</td>\n    </tr>\n  </tbody>\n</table>\n</div>",
      "text/plain": "          Location       Date  Active Cases\n91   Outside China 2020-02-29          6089\n92   Outside China 2020-03-01          7759\n93   Outside China 2020-03-02          9251\n94   Outside China 2020-03-03         11588\n95   Outside China 2020-03-04         13294\n96   Outside China 2020-03-05         15508\n97   Outside China 2020-03-06         18757\n98   Outside China 2020-03-07         21746\n99   Outside China 2020-03-08         24964\n100  Outside China 2020-03-09         28146\n101  Outside China 2020-03-10         32359\n102  Outside China 2020-03-11         38131\n103  Outside China 2020-03-12         40440\n104  Outside China 2020-03-13         55969\n105  Outside China 2020-03-14         65535"
     },
     "execution_count": 17,
     "metadata": {},
     "output_type": "execute_result"
    }
   ],
   "source": [
    "# Cases by Region (inside or Outside China)\n",
    "TotalCasesLoc=CountryConsolidated.reset_index()\n",
    "TotalCasesLoc.head()\n",
    "TotalCasesLoc['Location']=np.where(TotalCasesLoc['Country/Region']=='China','China','Outside China')\n",
    "TotalCasesLocaggregated=TotalCasesLoc.groupby(['Location','Date'])['Active Cases'].sum().reset_index()\n",
    "ActiveCasesChina=TotalCasesLocaggregated[TotalCasesLocaggregated.loc[:,'Location']=='China']\n",
    "ActiveCasesExcludingChina=TotalCasesLocaggregated[TotalCasesLocaggregated.loc[:,'Location']!='China']\n",
    "ActiveCasesUS=TotalCasesLocaggregated[TotalCasesLocaggregated.loc[:,'Location']=='US']\n",
    "ActiveCasesColombia=TotalCasesLocaggregated[TotalCasesLocaggregated.loc[:,'Location']=='Colombia']\n",
    "ActiveCasesExcludingChina.tail(15)"
   ]
  },
  {
   "cell_type": "code",
   "execution_count": 18,
   "metadata": {},
   "outputs": [
    {
     "data": {
      "application/vnd.plotly.v1+json": {
       "config": {
        "plotlyServerURL": "https://plot.ly"
       },
       "data": [
        {
         "line": {
          "color": "red",
          "width": 2
         },
         "mode": "lines+markers",
         "name": "New Cases",
         "type": "scatter",
         "x": [
          "2020-01-22T00:00:00",
          "2020-01-23T00:00:00",
          "2020-01-24T00:00:00",
          "2020-01-25T00:00:00",
          "2020-01-26T00:00:00",
          "2020-01-27T00:00:00",
          "2020-01-28T00:00:00",
          "2020-01-29T00:00:00",
          "2020-01-30T00:00:00",
          "2020-01-31T00:00:00",
          "2020-02-01T00:00:00",
          "2020-02-02T00:00:00",
          "2020-02-03T00:00:00",
          "2020-02-04T00:00:00",
          "2020-02-05T00:00:00",
          "2020-02-06T00:00:00",
          "2020-02-07T00:00:00",
          "2020-02-08T00:00:00",
          "2020-02-09T00:00:00",
          "2020-02-10T00:00:00",
          "2020-02-11T00:00:00",
          "2020-02-12T00:00:00",
          "2020-02-13T00:00:00",
          "2020-02-14T00:00:00",
          "2020-02-15T00:00:00",
          "2020-02-16T00:00:00",
          "2020-02-17T00:00:00",
          "2020-02-18T00:00:00",
          "2020-02-19T00:00:00",
          "2020-02-20T00:00:00",
          "2020-02-21T00:00:00",
          "2020-02-22T00:00:00",
          "2020-02-23T00:00:00",
          "2020-02-24T00:00:00",
          "2020-02-25T00:00:00",
          "2020-02-26T00:00:00",
          "2020-02-27T00:00:00",
          "2020-02-28T00:00:00",
          "2020-02-29T00:00:00",
          "2020-03-01T00:00:00",
          "2020-03-02T00:00:00",
          "2020-03-03T00:00:00",
          "2020-03-04T00:00:00",
          "2020-03-05T00:00:00",
          "2020-03-06T00:00:00",
          "2020-03-07T00:00:00",
          "2020-03-08T00:00:00",
          "2020-03-09T00:00:00",
          "2020-03-10T00:00:00",
          "2020-03-11T00:00:00",
          "2020-03-12T00:00:00",
          "2020-03-13T00:00:00",
          "2020-03-14T00:00:00"
         ],
         "xaxis": "x",
         "y": [
          503,
          595,
          858,
          1325,
          1970,
          2737,
          5277,
          5834,
          7835,
          9375,
          11357,
          15806,
          18677,
          22373,
          25762,
          28477,
          31393,
          33413,
          35705,
          37424,
          38638,
          38560,
          52309,
          56860,
          57452,
          57992,
          58108,
          58002,
          56541,
          54825,
          54608,
          51859,
          51390,
          49631,
          47413,
          45365,
          42924,
          39809,
          37199,
          34898,
          32368,
          29864,
          27402,
          25230,
          23702,
          22159,
          20335,
          18933,
          17567,
          16116,
          14859,
          13569,
          12124
         ],
         "yaxis": "y"
        },
        {
         "line": {
          "color": "red",
          "width": 2
         },
         "mode": "lines+markers",
         "name": "Active Cases",
         "type": "scatter",
         "x": [
          "2020-01-22T00:00:00",
          "2020-01-23T00:00:00",
          "2020-01-24T00:00:00",
          "2020-01-25T00:00:00",
          "2020-01-26T00:00:00",
          "2020-01-27T00:00:00",
          "2020-01-28T00:00:00",
          "2020-01-29T00:00:00",
          "2020-01-30T00:00:00",
          "2020-01-31T00:00:00",
          "2020-02-01T00:00:00",
          "2020-02-02T00:00:00",
          "2020-02-03T00:00:00",
          "2020-02-04T00:00:00",
          "2020-02-05T00:00:00",
          "2020-02-06T00:00:00",
          "2020-02-07T00:00:00",
          "2020-02-08T00:00:00",
          "2020-02-09T00:00:00",
          "2020-02-10T00:00:00",
          "2020-02-11T00:00:00",
          "2020-02-12T00:00:00",
          "2020-02-13T00:00:00",
          "2020-02-14T00:00:00",
          "2020-02-15T00:00:00",
          "2020-02-16T00:00:00",
          "2020-02-17T00:00:00",
          "2020-02-18T00:00:00",
          "2020-02-19T00:00:00",
          "2020-02-20T00:00:00",
          "2020-02-21T00:00:00",
          "2020-02-22T00:00:00",
          "2020-02-23T00:00:00",
          "2020-02-24T00:00:00",
          "2020-02-25T00:00:00",
          "2020-02-26T00:00:00",
          "2020-02-27T00:00:00",
          "2020-02-28T00:00:00",
          "2020-02-29T00:00:00",
          "2020-03-01T00:00:00",
          "2020-03-02T00:00:00",
          "2020-03-03T00:00:00",
          "2020-03-04T00:00:00",
          "2020-03-05T00:00:00",
          "2020-03-06T00:00:00",
          "2020-03-07T00:00:00",
          "2020-03-08T00:00:00",
          "2020-03-09T00:00:00",
          "2020-03-10T00:00:00",
          "2020-03-11T00:00:00",
          "2020-03-12T00:00:00",
          "2020-03-13T00:00:00",
          "2020-03-14T00:00:00"
         ],
         "xaxis": "x2",
         "y": [
          7,
          10,
          21,
          28,
          40,
          47,
          63,
          73,
          85,
          117,
          138,
          147,
          155,
          175,
          185,
          219,
          268,
          285,
          295,
          379,
          368,
          393,
          393,
          444,
          517,
          597,
          699,
          775,
          855,
          948,
          1074,
          1376,
          1712,
          2081,
          2387,
          2876,
          3739,
          4728,
          6089,
          7759,
          9251,
          11588,
          13294,
          15508,
          18757,
          21746,
          24964,
          28146,
          32359,
          38131,
          40440,
          55969,
          65535
         ],
         "yaxis": "y2"
        }
       ],
       "layout": {
        "annotations": [
         {
          "font": {
           "size": 16
          },
          "showarrow": false,
          "text": "Active Cases in China",
          "x": 0.225,
          "xanchor": "center",
          "xref": "paper",
          "y": 1,
          "yanchor": "bottom",
          "yref": "paper"
         },
         {
          "font": {
           "size": 16
          },
          "showarrow": false,
          "text": "Active Cases Excluding China",
          "x": 0.775,
          "xanchor": "center",
          "xref": "paper",
          "y": 1,
          "yanchor": "bottom",
          "yref": "paper"
         }
        ],
        "showlegend": false,
        "template": {
         "data": {
          "bar": [
           {
            "error_x": {
             "color": "#2a3f5f"
            },
            "error_y": {
             "color": "#2a3f5f"
            },
            "marker": {
             "line": {
              "color": "#E5ECF6",
              "width": 0.5
             }
            },
            "type": "bar"
           }
          ],
          "barpolar": [
           {
            "marker": {
             "line": {
              "color": "#E5ECF6",
              "width": 0.5
             }
            },
            "type": "barpolar"
           }
          ],
          "carpet": [
           {
            "aaxis": {
             "endlinecolor": "#2a3f5f",
             "gridcolor": "white",
             "linecolor": "white",
             "minorgridcolor": "white",
             "startlinecolor": "#2a3f5f"
            },
            "baxis": {
             "endlinecolor": "#2a3f5f",
             "gridcolor": "white",
             "linecolor": "white",
             "minorgridcolor": "white",
             "startlinecolor": "#2a3f5f"
            },
            "type": "carpet"
           }
          ],
          "choropleth": [
           {
            "colorbar": {
             "outlinewidth": 0,
             "ticks": ""
            },
            "type": "choropleth"
           }
          ],
          "contour": [
           {
            "colorbar": {
             "outlinewidth": 0,
             "ticks": ""
            },
            "colorscale": [
             [
              0,
              "#0d0887"
             ],
             [
              0.1111111111111111,
              "#46039f"
             ],
             [
              0.2222222222222222,
              "#7201a8"
             ],
             [
              0.3333333333333333,
              "#9c179e"
             ],
             [
              0.4444444444444444,
              "#bd3786"
             ],
             [
              0.5555555555555556,
              "#d8576b"
             ],
             [
              0.6666666666666666,
              "#ed7953"
             ],
             [
              0.7777777777777778,
              "#fb9f3a"
             ],
             [
              0.8888888888888888,
              "#fdca26"
             ],
             [
              1,
              "#f0f921"
             ]
            ],
            "type": "contour"
           }
          ],
          "contourcarpet": [
           {
            "colorbar": {
             "outlinewidth": 0,
             "ticks": ""
            },
            "type": "contourcarpet"
           }
          ],
          "heatmap": [
           {
            "colorbar": {
             "outlinewidth": 0,
             "ticks": ""
            },
            "colorscale": [
             [
              0,
              "#0d0887"
             ],
             [
              0.1111111111111111,
              "#46039f"
             ],
             [
              0.2222222222222222,
              "#7201a8"
             ],
             [
              0.3333333333333333,
              "#9c179e"
             ],
             [
              0.4444444444444444,
              "#bd3786"
             ],
             [
              0.5555555555555556,
              "#d8576b"
             ],
             [
              0.6666666666666666,
              "#ed7953"
             ],
             [
              0.7777777777777778,
              "#fb9f3a"
             ],
             [
              0.8888888888888888,
              "#fdca26"
             ],
             [
              1,
              "#f0f921"
             ]
            ],
            "type": "heatmap"
           }
          ],
          "heatmapgl": [
           {
            "colorbar": {
             "outlinewidth": 0,
             "ticks": ""
            },
            "colorscale": [
             [
              0,
              "#0d0887"
             ],
             [
              0.1111111111111111,
              "#46039f"
             ],
             [
              0.2222222222222222,
              "#7201a8"
             ],
             [
              0.3333333333333333,
              "#9c179e"
             ],
             [
              0.4444444444444444,
              "#bd3786"
             ],
             [
              0.5555555555555556,
              "#d8576b"
             ],
             [
              0.6666666666666666,
              "#ed7953"
             ],
             [
              0.7777777777777778,
              "#fb9f3a"
             ],
             [
              0.8888888888888888,
              "#fdca26"
             ],
             [
              1,
              "#f0f921"
             ]
            ],
            "type": "heatmapgl"
           }
          ],
          "histogram": [
           {
            "marker": {
             "colorbar": {
              "outlinewidth": 0,
              "ticks": ""
             }
            },
            "type": "histogram"
           }
          ],
          "histogram2d": [
           {
            "colorbar": {
             "outlinewidth": 0,
             "ticks": ""
            },
            "colorscale": [
             [
              0,
              "#0d0887"
             ],
             [
              0.1111111111111111,
              "#46039f"
             ],
             [
              0.2222222222222222,
              "#7201a8"
             ],
             [
              0.3333333333333333,
              "#9c179e"
             ],
             [
              0.4444444444444444,
              "#bd3786"
             ],
             [
              0.5555555555555556,
              "#d8576b"
             ],
             [
              0.6666666666666666,
              "#ed7953"
             ],
             [
              0.7777777777777778,
              "#fb9f3a"
             ],
             [
              0.8888888888888888,
              "#fdca26"
             ],
             [
              1,
              "#f0f921"
             ]
            ],
            "type": "histogram2d"
           }
          ],
          "histogram2dcontour": [
           {
            "colorbar": {
             "outlinewidth": 0,
             "ticks": ""
            },
            "colorscale": [
             [
              0,
              "#0d0887"
             ],
             [
              0.1111111111111111,
              "#46039f"
             ],
             [
              0.2222222222222222,
              "#7201a8"
             ],
             [
              0.3333333333333333,
              "#9c179e"
             ],
             [
              0.4444444444444444,
              "#bd3786"
             ],
             [
              0.5555555555555556,
              "#d8576b"
             ],
             [
              0.6666666666666666,
              "#ed7953"
             ],
             [
              0.7777777777777778,
              "#fb9f3a"
             ],
             [
              0.8888888888888888,
              "#fdca26"
             ],
             [
              1,
              "#f0f921"
             ]
            ],
            "type": "histogram2dcontour"
           }
          ],
          "mesh3d": [
           {
            "colorbar": {
             "outlinewidth": 0,
             "ticks": ""
            },
            "type": "mesh3d"
           }
          ],
          "parcoords": [
           {
            "line": {
             "colorbar": {
              "outlinewidth": 0,
              "ticks": ""
             }
            },
            "type": "parcoords"
           }
          ],
          "pie": [
           {
            "automargin": true,
            "type": "pie"
           }
          ],
          "scatter": [
           {
            "marker": {
             "colorbar": {
              "outlinewidth": 0,
              "ticks": ""
             }
            },
            "type": "scatter"
           }
          ],
          "scatter3d": [
           {
            "line": {
             "colorbar": {
              "outlinewidth": 0,
              "ticks": ""
             }
            },
            "marker": {
             "colorbar": {
              "outlinewidth": 0,
              "ticks": ""
             }
            },
            "type": "scatter3d"
           }
          ],
          "scattercarpet": [
           {
            "marker": {
             "colorbar": {
              "outlinewidth": 0,
              "ticks": ""
             }
            },
            "type": "scattercarpet"
           }
          ],
          "scattergeo": [
           {
            "marker": {
             "colorbar": {
              "outlinewidth": 0,
              "ticks": ""
             }
            },
            "type": "scattergeo"
           }
          ],
          "scattergl": [
           {
            "marker": {
             "colorbar": {
              "outlinewidth": 0,
              "ticks": ""
             }
            },
            "type": "scattergl"
           }
          ],
          "scattermapbox": [
           {
            "marker": {
             "colorbar": {
              "outlinewidth": 0,
              "ticks": ""
             }
            },
            "type": "scattermapbox"
           }
          ],
          "scatterpolar": [
           {
            "marker": {
             "colorbar": {
              "outlinewidth": 0,
              "ticks": ""
             }
            },
            "type": "scatterpolar"
           }
          ],
          "scatterpolargl": [
           {
            "marker": {
             "colorbar": {
              "outlinewidth": 0,
              "ticks": ""
             }
            },
            "type": "scatterpolargl"
           }
          ],
          "scatterternary": [
           {
            "marker": {
             "colorbar": {
              "outlinewidth": 0,
              "ticks": ""
             }
            },
            "type": "scatterternary"
           }
          ],
          "surface": [
           {
            "colorbar": {
             "outlinewidth": 0,
             "ticks": ""
            },
            "colorscale": [
             [
              0,
              "#0d0887"
             ],
             [
              0.1111111111111111,
              "#46039f"
             ],
             [
              0.2222222222222222,
              "#7201a8"
             ],
             [
              0.3333333333333333,
              "#9c179e"
             ],
             [
              0.4444444444444444,
              "#bd3786"
             ],
             [
              0.5555555555555556,
              "#d8576b"
             ],
             [
              0.6666666666666666,
              "#ed7953"
             ],
             [
              0.7777777777777778,
              "#fb9f3a"
             ],
             [
              0.8888888888888888,
              "#fdca26"
             ],
             [
              1,
              "#f0f921"
             ]
            ],
            "type": "surface"
           }
          ],
          "table": [
           {
            "cells": {
             "fill": {
              "color": "#EBF0F8"
             },
             "line": {
              "color": "white"
             }
            },
            "header": {
             "fill": {
              "color": "#C8D4E3"
             },
             "line": {
              "color": "white"
             }
            },
            "type": "table"
           }
          ]
         },
         "layout": {
          "annotationdefaults": {
           "arrowcolor": "#2a3f5f",
           "arrowhead": 0,
           "arrowwidth": 1
          },
          "coloraxis": {
           "colorbar": {
            "outlinewidth": 0,
            "ticks": ""
           }
          },
          "colorscale": {
           "diverging": [
            [
             0,
             "#8e0152"
            ],
            [
             0.1,
             "#c51b7d"
            ],
            [
             0.2,
             "#de77ae"
            ],
            [
             0.3,
             "#f1b6da"
            ],
            [
             0.4,
             "#fde0ef"
            ],
            [
             0.5,
             "#f7f7f7"
            ],
            [
             0.6,
             "#e6f5d0"
            ],
            [
             0.7,
             "#b8e186"
            ],
            [
             0.8,
             "#7fbc41"
            ],
            [
             0.9,
             "#4d9221"
            ],
            [
             1,
             "#276419"
            ]
           ],
           "sequential": [
            [
             0,
             "#0d0887"
            ],
            [
             0.1111111111111111,
             "#46039f"
            ],
            [
             0.2222222222222222,
             "#7201a8"
            ],
            [
             0.3333333333333333,
             "#9c179e"
            ],
            [
             0.4444444444444444,
             "#bd3786"
            ],
            [
             0.5555555555555556,
             "#d8576b"
            ],
            [
             0.6666666666666666,
             "#ed7953"
            ],
            [
             0.7777777777777778,
             "#fb9f3a"
            ],
            [
             0.8888888888888888,
             "#fdca26"
            ],
            [
             1,
             "#f0f921"
            ]
           ],
           "sequentialminus": [
            [
             0,
             "#0d0887"
            ],
            [
             0.1111111111111111,
             "#46039f"
            ],
            [
             0.2222222222222222,
             "#7201a8"
            ],
            [
             0.3333333333333333,
             "#9c179e"
            ],
            [
             0.4444444444444444,
             "#bd3786"
            ],
            [
             0.5555555555555556,
             "#d8576b"
            ],
            [
             0.6666666666666666,
             "#ed7953"
            ],
            [
             0.7777777777777778,
             "#fb9f3a"
            ],
            [
             0.8888888888888888,
             "#fdca26"
            ],
            [
             1,
             "#f0f921"
            ]
           ]
          },
          "colorway": [
           "#636efa",
           "#EF553B",
           "#00cc96",
           "#ab63fa",
           "#FFA15A",
           "#19d3f3",
           "#FF6692",
           "#B6E880",
           "#FF97FF",
           "#FECB52"
          ],
          "font": {
           "color": "#2a3f5f"
          },
          "geo": {
           "bgcolor": "white",
           "lakecolor": "white",
           "landcolor": "#E5ECF6",
           "showlakes": true,
           "showland": true,
           "subunitcolor": "white"
          },
          "hoverlabel": {
           "align": "left"
          },
          "hovermode": "closest",
          "mapbox": {
           "style": "light"
          },
          "paper_bgcolor": "white",
          "plot_bgcolor": "#E5ECF6",
          "polar": {
           "angularaxis": {
            "gridcolor": "white",
            "linecolor": "white",
            "ticks": ""
           },
           "bgcolor": "#E5ECF6",
           "radialaxis": {
            "gridcolor": "white",
            "linecolor": "white",
            "ticks": ""
           }
          },
          "scene": {
           "xaxis": {
            "backgroundcolor": "#E5ECF6",
            "gridcolor": "white",
            "gridwidth": 2,
            "linecolor": "white",
            "showbackground": true,
            "ticks": "",
            "zerolinecolor": "white"
           },
           "yaxis": {
            "backgroundcolor": "#E5ECF6",
            "gridcolor": "white",
            "gridwidth": 2,
            "linecolor": "white",
            "showbackground": true,
            "ticks": "",
            "zerolinecolor": "white"
           },
           "zaxis": {
            "backgroundcolor": "#E5ECF6",
            "gridcolor": "white",
            "gridwidth": 2,
            "linecolor": "white",
            "showbackground": true,
            "ticks": "",
            "zerolinecolor": "white"
           }
          },
          "shapedefaults": {
           "line": {
            "color": "#2a3f5f"
           }
          },
          "ternary": {
           "aaxis": {
            "gridcolor": "white",
            "linecolor": "white",
            "ticks": ""
           },
           "baxis": {
            "gridcolor": "white",
            "linecolor": "white",
            "ticks": ""
           },
           "bgcolor": "#E5ECF6",
           "caxis": {
            "gridcolor": "white",
            "linecolor": "white",
            "ticks": ""
           }
          },
          "title": {
           "x": 0.05
          },
          "xaxis": {
           "automargin": true,
           "gridcolor": "white",
           "linecolor": "white",
           "ticks": "",
           "title": {
            "standoff": 15
           },
           "zerolinecolor": "white",
           "zerolinewidth": 2
          },
          "yaxis": {
           "automargin": true,
           "gridcolor": "white",
           "linecolor": "white",
           "ticks": "",
           "title": {
            "standoff": 15
           },
           "zerolinecolor": "white",
           "zerolinewidth": 2
          }
         }
        },
        "xaxis": {
         "anchor": "y",
         "domain": [
          0,
          0.45
         ]
        },
        "xaxis2": {
         "anchor": "y2",
         "domain": [
          0.55,
          1
         ]
        },
        "yaxis": {
         "anchor": "x",
         "domain": [
          0,
          1
         ]
        },
        "yaxis2": {
         "anchor": "x2",
         "domain": [
          0,
          1
         ]
        }
       }
      }
     },
     "metadata": {},
     "output_type": "display_data"
    }
   ],
   "source": [
    "fig = make_subplots(rows=1, cols=2,shared_xaxes=True,\n",
    "                   subplot_titles=('Active Cases in China','Active Cases Excluding China'))\n",
    "fig.add_trace(go.Scatter(x=ActiveCasesChina['Date'],y=ActiveCasesChina['Active Cases'],\n",
    "                         mode='lines+markers',\n",
    "                         name='New Cases',\n",
    "                         line=dict(color=chartcol,width=2)),\n",
    "                         row=1,col=1)\n",
    "fig.add_trace(go.Scatter(x=ActiveCasesExcludingChina['Date'],y=ActiveCasesExcludingChina['Active Cases'],\n",
    "                         mode='lines+markers',\n",
    "                         name='Active Cases',\n",
    "                         line=dict(color=chartcol,width=2)),\n",
    "                         row=1,col=2)\n",
    "fig.update_layout(showlegend=False)"
   ]
  },
  {
   "cell_type": "markdown",
   "metadata": {},
   "source": [
    "### Cases by Country"
   ]
  },
  {
   "cell_type": "code",
   "execution_count": 20,
   "metadata": {},
   "outputs": [
    {
     "data": {
      "application/vnd.plotly.v1+json": {
       "config": {
        "plotlyServerURL": "https://plot.ly"
       },
       "data": [
        {
         "line": {
          "color": "red",
          "width": 2
         },
         "mode": "lines+markers",
         "name": "Confirmed Cases",
         "type": "scatter",
         "x": [
          "2020-01-22T00:00:00",
          "2020-01-23T00:00:00",
          "2020-01-24T00:00:00",
          "2020-01-25T00:00:00",
          "2020-01-26T00:00:00",
          "2020-01-27T00:00:00",
          "2020-01-28T00:00:00",
          "2020-01-29T00:00:00",
          "2020-01-30T00:00:00",
          "2020-01-31T00:00:00",
          "2020-02-01T00:00:00",
          "2020-02-02T00:00:00",
          "2020-02-03T00:00:00",
          "2020-02-04T00:00:00",
          "2020-02-05T00:00:00",
          "2020-02-06T00:00:00",
          "2020-02-07T00:00:00",
          "2020-02-08T00:00:00",
          "2020-02-09T00:00:00",
          "2020-02-10T00:00:00",
          "2020-02-11T00:00:00",
          "2020-02-12T00:00:00",
          "2020-02-13T00:00:00",
          "2020-02-14T00:00:00",
          "2020-02-15T00:00:00",
          "2020-02-16T00:00:00",
          "2020-02-17T00:00:00",
          "2020-02-18T00:00:00",
          "2020-02-19T00:00:00",
          "2020-02-20T00:00:00",
          "2020-02-21T00:00:00",
          "2020-02-22T00:00:00",
          "2020-02-23T00:00:00",
          "2020-02-24T00:00:00",
          "2020-02-25T00:00:00",
          "2020-02-26T00:00:00",
          "2020-02-27T00:00:00",
          "2020-02-28T00:00:00",
          "2020-02-29T00:00:00",
          "2020-03-01T00:00:00",
          "2020-03-02T00:00:00",
          "2020-03-03T00:00:00",
          "2020-03-04T00:00:00",
          "2020-03-05T00:00:00",
          "2020-03-06T00:00:00",
          "2020-03-07T00:00:00",
          "2020-03-08T00:00:00",
          "2020-03-09T00:00:00",
          "2020-03-10T00:00:00",
          "2020-03-11T00:00:00",
          "2020-03-12T00:00:00",
          "2020-03-13T00:00:00",
          "2020-03-14T00:00:00"
         ],
         "xaxis": "x",
         "y": [
          0,
          0,
          0,
          0,
          0,
          1,
          4,
          4,
          4,
          5,
          8,
          10,
          12,
          12,
          12,
          12,
          13,
          13,
          14,
          14,
          16,
          16,
          16,
          16,
          16,
          16,
          16,
          16,
          16,
          16,
          16,
          16,
          16,
          16,
          17,
          27,
          46,
          48,
          79,
          130,
          159,
          196,
          262,
          482,
          670,
          799,
          1040,
          1176,
          1457,
          1908,
          2078,
          3675,
          4585
         ],
         "yaxis": "y"
        },
        {
         "line": {
          "color": "red",
          "width": 2
         },
         "mode": "lines+markers",
         "name": "Active Cases",
         "type": "scatter",
         "x": [
          "2020-01-22T00:00:00",
          "2020-01-23T00:00:00",
          "2020-01-24T00:00:00",
          "2020-01-25T00:00:00",
          "2020-01-26T00:00:00",
          "2020-01-27T00:00:00",
          "2020-01-28T00:00:00",
          "2020-01-29T00:00:00",
          "2020-01-30T00:00:00",
          "2020-01-31T00:00:00",
          "2020-02-01T00:00:00",
          "2020-02-02T00:00:00",
          "2020-02-03T00:00:00",
          "2020-02-04T00:00:00",
          "2020-02-05T00:00:00",
          "2020-02-06T00:00:00",
          "2020-02-07T00:00:00",
          "2020-02-08T00:00:00",
          "2020-02-09T00:00:00",
          "2020-02-10T00:00:00",
          "2020-02-11T00:00:00",
          "2020-02-12T00:00:00",
          "2020-02-13T00:00:00",
          "2020-02-14T00:00:00",
          "2020-02-15T00:00:00",
          "2020-02-16T00:00:00",
          "2020-02-17T00:00:00",
          "2020-02-18T00:00:00",
          "2020-02-19T00:00:00",
          "2020-02-20T00:00:00",
          "2020-02-21T00:00:00",
          "2020-02-22T00:00:00",
          "2020-02-23T00:00:00",
          "2020-02-24T00:00:00",
          "2020-02-25T00:00:00",
          "2020-02-26T00:00:00",
          "2020-02-27T00:00:00",
          "2020-02-28T00:00:00",
          "2020-02-29T00:00:00",
          "2020-03-01T00:00:00",
          "2020-03-02T00:00:00",
          "2020-03-03T00:00:00",
          "2020-03-04T00:00:00",
          "2020-03-05T00:00:00",
          "2020-03-06T00:00:00",
          "2020-03-07T00:00:00",
          "2020-03-08T00:00:00",
          "2020-03-09T00:00:00",
          "2020-03-10T00:00:00",
          "2020-03-11T00:00:00",
          "2020-03-12T00:00:00",
          "2020-03-13T00:00:00",
          "2020-03-14T00:00:00"
         ],
         "xaxis": "x2",
         "y": [
          0,
          0,
          0,
          0,
          0,
          1,
          4,
          4,
          4,
          5,
          8,
          10,
          12,
          12,
          12,
          12,
          13,
          13,
          14,
          14,
          16,
          16,
          15,
          15,
          15,
          15,
          15,
          4,
          4,
          4,
          2,
          2,
          2,
          2,
          3,
          12,
          30,
          32,
          63,
          114,
          143,
          180,
          246,
          466,
          653,
          781,
          1022,
          1156,
          1437,
          1880,
          2050,
          3622,
          4530
         ],
         "yaxis": "y2"
        },
        {
         "line": {
          "color": "red",
          "width": 2
         },
         "mode": "lines+markers",
         "name": "Total Deaths",
         "type": "scatter",
         "x": [
          "2020-01-22T00:00:00",
          "2020-01-23T00:00:00",
          "2020-01-24T00:00:00",
          "2020-01-25T00:00:00",
          "2020-01-26T00:00:00",
          "2020-01-27T00:00:00",
          "2020-01-28T00:00:00",
          "2020-01-29T00:00:00",
          "2020-01-30T00:00:00",
          "2020-01-31T00:00:00",
          "2020-02-01T00:00:00",
          "2020-02-02T00:00:00",
          "2020-02-03T00:00:00",
          "2020-02-04T00:00:00",
          "2020-02-05T00:00:00",
          "2020-02-06T00:00:00",
          "2020-02-07T00:00:00",
          "2020-02-08T00:00:00",
          "2020-02-09T00:00:00",
          "2020-02-10T00:00:00",
          "2020-02-11T00:00:00",
          "2020-02-12T00:00:00",
          "2020-02-13T00:00:00",
          "2020-02-14T00:00:00",
          "2020-02-15T00:00:00",
          "2020-02-16T00:00:00",
          "2020-02-17T00:00:00",
          "2020-02-18T00:00:00",
          "2020-02-19T00:00:00",
          "2020-02-20T00:00:00",
          "2020-02-21T00:00:00",
          "2020-02-22T00:00:00",
          "2020-02-23T00:00:00",
          "2020-02-24T00:00:00",
          "2020-02-25T00:00:00",
          "2020-02-26T00:00:00",
          "2020-02-27T00:00:00",
          "2020-02-28T00:00:00",
          "2020-02-29T00:00:00",
          "2020-03-01T00:00:00",
          "2020-03-02T00:00:00",
          "2020-03-03T00:00:00",
          "2020-03-04T00:00:00",
          "2020-03-05T00:00:00",
          "2020-03-06T00:00:00",
          "2020-03-07T00:00:00",
          "2020-03-08T00:00:00",
          "2020-03-09T00:00:00",
          "2020-03-10T00:00:00",
          "2020-03-11T00:00:00",
          "2020-03-12T00:00:00",
          "2020-03-13T00:00:00",
          "2020-03-14T00:00:00"
         ],
         "xaxis": "x3",
         "y": [
          0,
          0,
          0,
          0,
          0,
          0,
          0,
          0,
          0,
          0,
          0,
          0,
          0,
          0,
          0,
          0,
          0,
          0,
          0,
          0,
          0,
          0,
          0,
          0,
          0,
          0,
          0,
          0,
          0,
          0,
          0,
          0,
          0,
          0,
          0,
          0,
          0,
          0,
          0,
          0,
          0,
          0,
          0,
          0,
          0,
          0,
          0,
          2,
          2,
          3,
          3,
          7,
          9
         ],
         "yaxis": "y3"
        },
        {
         "line": {
          "color": "red",
          "width": 2
         },
         "mode": "lines+markers",
         "name": "Total Recoveries",
         "type": "scatter",
         "x": [
          "2020-01-22T00:00:00",
          "2020-01-23T00:00:00",
          "2020-01-24T00:00:00",
          "2020-01-25T00:00:00",
          "2020-01-26T00:00:00",
          "2020-01-27T00:00:00",
          "2020-01-28T00:00:00",
          "2020-01-29T00:00:00",
          "2020-01-30T00:00:00",
          "2020-01-31T00:00:00",
          "2020-02-01T00:00:00",
          "2020-02-02T00:00:00",
          "2020-02-03T00:00:00",
          "2020-02-04T00:00:00",
          "2020-02-05T00:00:00",
          "2020-02-06T00:00:00",
          "2020-02-07T00:00:00",
          "2020-02-08T00:00:00",
          "2020-02-09T00:00:00",
          "2020-02-10T00:00:00",
          "2020-02-11T00:00:00",
          "2020-02-12T00:00:00",
          "2020-02-13T00:00:00",
          "2020-02-14T00:00:00",
          "2020-02-15T00:00:00",
          "2020-02-16T00:00:00",
          "2020-02-17T00:00:00",
          "2020-02-18T00:00:00",
          "2020-02-19T00:00:00",
          "2020-02-20T00:00:00",
          "2020-02-21T00:00:00",
          "2020-02-22T00:00:00",
          "2020-02-23T00:00:00",
          "2020-02-24T00:00:00",
          "2020-02-25T00:00:00",
          "2020-02-26T00:00:00",
          "2020-02-27T00:00:00",
          "2020-02-28T00:00:00",
          "2020-02-29T00:00:00",
          "2020-03-01T00:00:00",
          "2020-03-02T00:00:00",
          "2020-03-03T00:00:00",
          "2020-03-04T00:00:00",
          "2020-03-05T00:00:00",
          "2020-03-06T00:00:00",
          "2020-03-07T00:00:00",
          "2020-03-08T00:00:00",
          "2020-03-09T00:00:00",
          "2020-03-10T00:00:00",
          "2020-03-11T00:00:00",
          "2020-03-12T00:00:00",
          "2020-03-13T00:00:00",
          "2020-03-14T00:00:00"
         ],
         "xaxis": "x4",
         "y": [
          0,
          0,
          0,
          0,
          0,
          0,
          0,
          0,
          0,
          0,
          0,
          0,
          0,
          0,
          0,
          0,
          0,
          0,
          0,
          0,
          0,
          0,
          1,
          1,
          1,
          1,
          1,
          12,
          12,
          12,
          14,
          14,
          14,
          14,
          14,
          15,
          16,
          16,
          16,
          16,
          16,
          16,
          16,
          16,
          17,
          18,
          18,
          18,
          18,
          25,
          25,
          46,
          46
         ],
         "yaxis": "y4"
        },
        {
         "line": {
          "color": "red",
          "width": 2
         },
         "mode": "lines+markers",
         "name": "Death to Cases Ratio",
         "type": "scatter",
         "x": [
          "2020-01-22T00:00:00",
          "2020-01-23T00:00:00",
          "2020-01-24T00:00:00",
          "2020-01-25T00:00:00",
          "2020-01-26T00:00:00",
          "2020-01-27T00:00:00",
          "2020-01-28T00:00:00",
          "2020-01-29T00:00:00",
          "2020-01-30T00:00:00",
          "2020-01-31T00:00:00",
          "2020-02-01T00:00:00",
          "2020-02-02T00:00:00",
          "2020-02-03T00:00:00",
          "2020-02-04T00:00:00",
          "2020-02-05T00:00:00",
          "2020-02-06T00:00:00",
          "2020-02-07T00:00:00",
          "2020-02-08T00:00:00",
          "2020-02-09T00:00:00",
          "2020-02-10T00:00:00",
          "2020-02-11T00:00:00",
          "2020-02-12T00:00:00",
          "2020-02-13T00:00:00",
          "2020-02-14T00:00:00",
          "2020-02-15T00:00:00",
          "2020-02-16T00:00:00",
          "2020-02-17T00:00:00",
          "2020-02-18T00:00:00",
          "2020-02-19T00:00:00",
          "2020-02-20T00:00:00",
          "2020-02-21T00:00:00",
          "2020-02-22T00:00:00",
          "2020-02-23T00:00:00",
          "2020-02-24T00:00:00",
          "2020-02-25T00:00:00",
          "2020-02-26T00:00:00",
          "2020-02-27T00:00:00",
          "2020-02-28T00:00:00",
          "2020-02-29T00:00:00",
          "2020-03-01T00:00:00",
          "2020-03-02T00:00:00",
          "2020-03-03T00:00:00",
          "2020-03-04T00:00:00",
          "2020-03-05T00:00:00",
          "2020-03-06T00:00:00",
          "2020-03-07T00:00:00",
          "2020-03-08T00:00:00",
          "2020-03-09T00:00:00",
          "2020-03-10T00:00:00",
          "2020-03-11T00:00:00",
          "2020-03-12T00:00:00",
          "2020-03-13T00:00:00",
          "2020-03-14T00:00:00"
         ],
         "xaxis": "x5",
         "y": [
          null,
          null,
          null,
          null,
          null,
          0,
          0,
          0,
          0,
          0,
          0,
          0,
          0,
          0,
          0,
          0,
          0,
          0,
          0,
          0,
          0,
          0,
          0,
          0,
          0,
          0,
          0,
          0,
          0,
          0,
          0,
          0,
          0,
          0,
          0,
          0,
          0,
          0,
          0,
          0,
          0,
          0,
          0,
          0,
          0,
          0,
          0,
          0.002,
          0.001,
          0.002,
          0.001,
          0.002,
          0.002
         ],
         "yaxis": "y5"
        }
       ],
       "layout": {
        "annotations": [
         {
          "font": {
           "size": 16
          },
          "showarrow": false,
          "text": "Total Confirmed Cases",
          "x": 0.225,
          "xanchor": "center",
          "xref": "paper",
          "y": 1,
          "yanchor": "bottom",
          "yref": "paper"
         },
         {
          "font": {
           "size": 16
          },
          "showarrow": false,
          "text": "Active Cases",
          "x": 0.775,
          "xanchor": "center",
          "xref": "paper",
          "y": 1,
          "yanchor": "bottom",
          "yref": "paper"
         },
         {
          "font": {
           "size": 16
          },
          "showarrow": false,
          "text": "Deaths",
          "x": 0.225,
          "xanchor": "center",
          "xref": "paper",
          "y": 0.6111111111111112,
          "yanchor": "bottom",
          "yref": "paper"
         },
         {
          "font": {
           "size": 16
          },
          "showarrow": false,
          "text": "Recoveries",
          "x": 0.775,
          "xanchor": "center",
          "xref": "paper",
          "y": 0.6111111111111112,
          "yanchor": "bottom",
          "yref": "paper"
         },
         {
          "font": {
           "size": 16
          },
          "showarrow": false,
          "text": "Death to Cases Ratio",
          "x": 0.5,
          "xanchor": "center",
          "xref": "paper",
          "y": 0.22222222222222224,
          "yanchor": "bottom",
          "yref": "paper"
         }
        ],
        "showlegend": false,
        "template": {
         "data": {
          "bar": [
           {
            "error_x": {
             "color": "#2a3f5f"
            },
            "error_y": {
             "color": "#2a3f5f"
            },
            "marker": {
             "line": {
              "color": "#E5ECF6",
              "width": 0.5
             }
            },
            "type": "bar"
           }
          ],
          "barpolar": [
           {
            "marker": {
             "line": {
              "color": "#E5ECF6",
              "width": 0.5
             }
            },
            "type": "barpolar"
           }
          ],
          "carpet": [
           {
            "aaxis": {
             "endlinecolor": "#2a3f5f",
             "gridcolor": "white",
             "linecolor": "white",
             "minorgridcolor": "white",
             "startlinecolor": "#2a3f5f"
            },
            "baxis": {
             "endlinecolor": "#2a3f5f",
             "gridcolor": "white",
             "linecolor": "white",
             "minorgridcolor": "white",
             "startlinecolor": "#2a3f5f"
            },
            "type": "carpet"
           }
          ],
          "choropleth": [
           {
            "colorbar": {
             "outlinewidth": 0,
             "ticks": ""
            },
            "type": "choropleth"
           }
          ],
          "contour": [
           {
            "colorbar": {
             "outlinewidth": 0,
             "ticks": ""
            },
            "colorscale": [
             [
              0,
              "#0d0887"
             ],
             [
              0.1111111111111111,
              "#46039f"
             ],
             [
              0.2222222222222222,
              "#7201a8"
             ],
             [
              0.3333333333333333,
              "#9c179e"
             ],
             [
              0.4444444444444444,
              "#bd3786"
             ],
             [
              0.5555555555555556,
              "#d8576b"
             ],
             [
              0.6666666666666666,
              "#ed7953"
             ],
             [
              0.7777777777777778,
              "#fb9f3a"
             ],
             [
              0.8888888888888888,
              "#fdca26"
             ],
             [
              1,
              "#f0f921"
             ]
            ],
            "type": "contour"
           }
          ],
          "contourcarpet": [
           {
            "colorbar": {
             "outlinewidth": 0,
             "ticks": ""
            },
            "type": "contourcarpet"
           }
          ],
          "heatmap": [
           {
            "colorbar": {
             "outlinewidth": 0,
             "ticks": ""
            },
            "colorscale": [
             [
              0,
              "#0d0887"
             ],
             [
              0.1111111111111111,
              "#46039f"
             ],
             [
              0.2222222222222222,
              "#7201a8"
             ],
             [
              0.3333333333333333,
              "#9c179e"
             ],
             [
              0.4444444444444444,
              "#bd3786"
             ],
             [
              0.5555555555555556,
              "#d8576b"
             ],
             [
              0.6666666666666666,
              "#ed7953"
             ],
             [
              0.7777777777777778,
              "#fb9f3a"
             ],
             [
              0.8888888888888888,
              "#fdca26"
             ],
             [
              1,
              "#f0f921"
             ]
            ],
            "type": "heatmap"
           }
          ],
          "heatmapgl": [
           {
            "colorbar": {
             "outlinewidth": 0,
             "ticks": ""
            },
            "colorscale": [
             [
              0,
              "#0d0887"
             ],
             [
              0.1111111111111111,
              "#46039f"
             ],
             [
              0.2222222222222222,
              "#7201a8"
             ],
             [
              0.3333333333333333,
              "#9c179e"
             ],
             [
              0.4444444444444444,
              "#bd3786"
             ],
             [
              0.5555555555555556,
              "#d8576b"
             ],
             [
              0.6666666666666666,
              "#ed7953"
             ],
             [
              0.7777777777777778,
              "#fb9f3a"
             ],
             [
              0.8888888888888888,
              "#fdca26"
             ],
             [
              1,
              "#f0f921"
             ]
            ],
            "type": "heatmapgl"
           }
          ],
          "histogram": [
           {
            "marker": {
             "colorbar": {
              "outlinewidth": 0,
              "ticks": ""
             }
            },
            "type": "histogram"
           }
          ],
          "histogram2d": [
           {
            "colorbar": {
             "outlinewidth": 0,
             "ticks": ""
            },
            "colorscale": [
             [
              0,
              "#0d0887"
             ],
             [
              0.1111111111111111,
              "#46039f"
             ],
             [
              0.2222222222222222,
              "#7201a8"
             ],
             [
              0.3333333333333333,
              "#9c179e"
             ],
             [
              0.4444444444444444,
              "#bd3786"
             ],
             [
              0.5555555555555556,
              "#d8576b"
             ],
             [
              0.6666666666666666,
              "#ed7953"
             ],
             [
              0.7777777777777778,
              "#fb9f3a"
             ],
             [
              0.8888888888888888,
              "#fdca26"
             ],
             [
              1,
              "#f0f921"
             ]
            ],
            "type": "histogram2d"
           }
          ],
          "histogram2dcontour": [
           {
            "colorbar": {
             "outlinewidth": 0,
             "ticks": ""
            },
            "colorscale": [
             [
              0,
              "#0d0887"
             ],
             [
              0.1111111111111111,
              "#46039f"
             ],
             [
              0.2222222222222222,
              "#7201a8"
             ],
             [
              0.3333333333333333,
              "#9c179e"
             ],
             [
              0.4444444444444444,
              "#bd3786"
             ],
             [
              0.5555555555555556,
              "#d8576b"
             ],
             [
              0.6666666666666666,
              "#ed7953"
             ],
             [
              0.7777777777777778,
              "#fb9f3a"
             ],
             [
              0.8888888888888888,
              "#fdca26"
             ],
             [
              1,
              "#f0f921"
             ]
            ],
            "type": "histogram2dcontour"
           }
          ],
          "mesh3d": [
           {
            "colorbar": {
             "outlinewidth": 0,
             "ticks": ""
            },
            "type": "mesh3d"
           }
          ],
          "parcoords": [
           {
            "line": {
             "colorbar": {
              "outlinewidth": 0,
              "ticks": ""
             }
            },
            "type": "parcoords"
           }
          ],
          "pie": [
           {
            "automargin": true,
            "type": "pie"
           }
          ],
          "scatter": [
           {
            "marker": {
             "colorbar": {
              "outlinewidth": 0,
              "ticks": ""
             }
            },
            "type": "scatter"
           }
          ],
          "scatter3d": [
           {
            "line": {
             "colorbar": {
              "outlinewidth": 0,
              "ticks": ""
             }
            },
            "marker": {
             "colorbar": {
              "outlinewidth": 0,
              "ticks": ""
             }
            },
            "type": "scatter3d"
           }
          ],
          "scattercarpet": [
           {
            "marker": {
             "colorbar": {
              "outlinewidth": 0,
              "ticks": ""
             }
            },
            "type": "scattercarpet"
           }
          ],
          "scattergeo": [
           {
            "marker": {
             "colorbar": {
              "outlinewidth": 0,
              "ticks": ""
             }
            },
            "type": "scattergeo"
           }
          ],
          "scattergl": [
           {
            "marker": {
             "colorbar": {
              "outlinewidth": 0,
              "ticks": ""
             }
            },
            "type": "scattergl"
           }
          ],
          "scattermapbox": [
           {
            "marker": {
             "colorbar": {
              "outlinewidth": 0,
              "ticks": ""
             }
            },
            "type": "scattermapbox"
           }
          ],
          "scatterpolar": [
           {
            "marker": {
             "colorbar": {
              "outlinewidth": 0,
              "ticks": ""
             }
            },
            "type": "scatterpolar"
           }
          ],
          "scatterpolargl": [
           {
            "marker": {
             "colorbar": {
              "outlinewidth": 0,
              "ticks": ""
             }
            },
            "type": "scatterpolargl"
           }
          ],
          "scatterternary": [
           {
            "marker": {
             "colorbar": {
              "outlinewidth": 0,
              "ticks": ""
             }
            },
            "type": "scatterternary"
           }
          ],
          "surface": [
           {
            "colorbar": {
             "outlinewidth": 0,
             "ticks": ""
            },
            "colorscale": [
             [
              0,
              "#0d0887"
             ],
             [
              0.1111111111111111,
              "#46039f"
             ],
             [
              0.2222222222222222,
              "#7201a8"
             ],
             [
              0.3333333333333333,
              "#9c179e"
             ],
             [
              0.4444444444444444,
              "#bd3786"
             ],
             [
              0.5555555555555556,
              "#d8576b"
             ],
             [
              0.6666666666666666,
              "#ed7953"
             ],
             [
              0.7777777777777778,
              "#fb9f3a"
             ],
             [
              0.8888888888888888,
              "#fdca26"
             ],
             [
              1,
              "#f0f921"
             ]
            ],
            "type": "surface"
           }
          ],
          "table": [
           {
            "cells": {
             "fill": {
              "color": "#EBF0F8"
             },
             "line": {
              "color": "white"
             }
            },
            "header": {
             "fill": {
              "color": "#C8D4E3"
             },
             "line": {
              "color": "white"
             }
            },
            "type": "table"
           }
          ]
         },
         "layout": {
          "annotationdefaults": {
           "arrowcolor": "#2a3f5f",
           "arrowhead": 0,
           "arrowwidth": 1
          },
          "coloraxis": {
           "colorbar": {
            "outlinewidth": 0,
            "ticks": ""
           }
          },
          "colorscale": {
           "diverging": [
            [
             0,
             "#8e0152"
            ],
            [
             0.1,
             "#c51b7d"
            ],
            [
             0.2,
             "#de77ae"
            ],
            [
             0.3,
             "#f1b6da"
            ],
            [
             0.4,
             "#fde0ef"
            ],
            [
             0.5,
             "#f7f7f7"
            ],
            [
             0.6,
             "#e6f5d0"
            ],
            [
             0.7,
             "#b8e186"
            ],
            [
             0.8,
             "#7fbc41"
            ],
            [
             0.9,
             "#4d9221"
            ],
            [
             1,
             "#276419"
            ]
           ],
           "sequential": [
            [
             0,
             "#0d0887"
            ],
            [
             0.1111111111111111,
             "#46039f"
            ],
            [
             0.2222222222222222,
             "#7201a8"
            ],
            [
             0.3333333333333333,
             "#9c179e"
            ],
            [
             0.4444444444444444,
             "#bd3786"
            ],
            [
             0.5555555555555556,
             "#d8576b"
            ],
            [
             0.6666666666666666,
             "#ed7953"
            ],
            [
             0.7777777777777778,
             "#fb9f3a"
            ],
            [
             0.8888888888888888,
             "#fdca26"
            ],
            [
             1,
             "#f0f921"
            ]
           ],
           "sequentialminus": [
            [
             0,
             "#0d0887"
            ],
            [
             0.1111111111111111,
             "#46039f"
            ],
            [
             0.2222222222222222,
             "#7201a8"
            ],
            [
             0.3333333333333333,
             "#9c179e"
            ],
            [
             0.4444444444444444,
             "#bd3786"
            ],
            [
             0.5555555555555556,
             "#d8576b"
            ],
            [
             0.6666666666666666,
             "#ed7953"
            ],
            [
             0.7777777777777778,
             "#fb9f3a"
            ],
            [
             0.8888888888888888,
             "#fdca26"
            ],
            [
             1,
             "#f0f921"
            ]
           ]
          },
          "colorway": [
           "#636efa",
           "#EF553B",
           "#00cc96",
           "#ab63fa",
           "#FFA15A",
           "#19d3f3",
           "#FF6692",
           "#B6E880",
           "#FF97FF",
           "#FECB52"
          ],
          "font": {
           "color": "#2a3f5f"
          },
          "geo": {
           "bgcolor": "white",
           "lakecolor": "white",
           "landcolor": "#E5ECF6",
           "showlakes": true,
           "showland": true,
           "subunitcolor": "white"
          },
          "hoverlabel": {
           "align": "left"
          },
          "hovermode": "closest",
          "mapbox": {
           "style": "light"
          },
          "paper_bgcolor": "white",
          "plot_bgcolor": "#E5ECF6",
          "polar": {
           "angularaxis": {
            "gridcolor": "white",
            "linecolor": "white",
            "ticks": ""
           },
           "bgcolor": "#E5ECF6",
           "radialaxis": {
            "gridcolor": "white",
            "linecolor": "white",
            "ticks": ""
           }
          },
          "scene": {
           "xaxis": {
            "backgroundcolor": "#E5ECF6",
            "gridcolor": "white",
            "gridwidth": 2,
            "linecolor": "white",
            "showbackground": true,
            "ticks": "",
            "zerolinecolor": "white"
           },
           "yaxis": {
            "backgroundcolor": "#E5ECF6",
            "gridcolor": "white",
            "gridwidth": 2,
            "linecolor": "white",
            "showbackground": true,
            "ticks": "",
            "zerolinecolor": "white"
           },
           "zaxis": {
            "backgroundcolor": "#E5ECF6",
            "gridcolor": "white",
            "gridwidth": 2,
            "linecolor": "white",
            "showbackground": true,
            "ticks": "",
            "zerolinecolor": "white"
           }
          },
          "shapedefaults": {
           "line": {
            "color": "#2a3f5f"
           }
          },
          "ternary": {
           "aaxis": {
            "gridcolor": "white",
            "linecolor": "white",
            "ticks": ""
           },
           "baxis": {
            "gridcolor": "white",
            "linecolor": "white",
            "ticks": ""
           },
           "bgcolor": "#E5ECF6",
           "caxis": {
            "gridcolor": "white",
            "linecolor": "white",
            "ticks": ""
           }
          },
          "title": {
           "x": 0.05
          },
          "xaxis": {
           "automargin": true,
           "gridcolor": "white",
           "linecolor": "white",
           "ticks": "",
           "title": {
            "standoff": 15
           },
           "zerolinecolor": "white",
           "zerolinewidth": 2
          },
          "yaxis": {
           "automargin": true,
           "gridcolor": "white",
           "linecolor": "white",
           "ticks": "",
           "title": {
            "standoff": 15
           },
           "zerolinecolor": "white",
           "zerolinewidth": 2
          }
         }
        },
        "xaxis": {
         "anchor": "y",
         "domain": [
          0,
          0.45
         ],
         "matches": "x3",
         "showticklabels": false
        },
        "xaxis2": {
         "anchor": "y2",
         "domain": [
          0.55,
          1
         ],
         "matches": "x4",
         "showticklabels": false
        },
        "xaxis3": {
         "anchor": "y3",
         "domain": [
          0,
          0.45
         ]
        },
        "xaxis4": {
         "anchor": "y4",
         "domain": [
          0.55,
          1
         ]
        },
        "xaxis5": {
         "anchor": "y5",
         "domain": [
          0,
          1
         ]
        },
        "yaxis": {
         "anchor": "x",
         "domain": [
          0.7777777777777778,
          1
         ]
        },
        "yaxis2": {
         "anchor": "x2",
         "domain": [
          0.7777777777777778,
          1
         ]
        },
        "yaxis3": {
         "anchor": "x3",
         "domain": [
          0.3888888888888889,
          0.6111111111111112
         ]
        },
        "yaxis4": {
         "anchor": "x4",
         "domain": [
          0.3888888888888889,
          0.6111111111111112
         ]
        },
        "yaxis5": {
         "anchor": "x5",
         "domain": [
          0,
          0.22222222222222224
         ]
        }
       }
      }
     },
     "metadata": {},
     "output_type": "display_data"
    },
    {
     "data": {
      "text/plain": "<function __main__.plotcountry(Country)>"
     },
     "execution_count": 20,
     "metadata": {},
     "output_type": "execute_result"
    }
   ],
   "source": [
    "def plotcountry(Country):\n",
    "    fig = make_subplots(rows=3, cols=2,shared_xaxes=True,\n",
    "                    specs=[[{}, {}],[{},{}],\n",
    "                       [{\"colspan\": 2}, None]],\n",
    "                    subplot_titles=('Total Confirmed Cases','Active Cases','Deaths','Recoveries','Death to Cases Ratio'))\n",
    "    fig.add_trace(go.Scatter(x=CountryConsolidated.loc[Country].index,y=CountryConsolidated.loc[Country,'Total Confirmed Cases'],\n",
    "                         mode='lines+markers',\n",
    "                         name='Confirmed Cases',\n",
    "                         line=dict(color=chartcol,width=2)),\n",
    "                         row=1,col=1)\n",
    "    fig.add_trace(go.Scatter(x=CountryConsolidated.loc[Country].index,y=CountryConsolidated.loc[Country,'Active Cases'],\n",
    "                         mode='lines+markers',\n",
    "                         name='Active Cases',\n",
    "                         line=dict(color=chartcol,width=2)),\n",
    "                         row=1,col=2)\n",
    "    fig.add_trace(go.Scatter(x=CountryConsolidated.loc[Country].index,y=CountryConsolidated.loc[Country,'Total Deaths'],\n",
    "                         mode='lines+markers',\n",
    "                         name='Total Deaths',\n",
    "                         line=dict(color=chartcol,width=2)),\n",
    "                         row=2,col=1)\n",
    "    fig.add_trace(go.Scatter(x=CountryConsolidated.loc[Country].index,y=CountryConsolidated.loc[Country,'Total Recoveries'],\n",
    "                         mode='lines+markers',\n",
    "                         name='Total Recoveries',\n",
    "                         line=dict(color=chartcol,width=2)),\n",
    "                         row=2,col=2)\n",
    "    fig.add_trace(go.Scatter(x=CountryConsolidated.loc[Country].index,y=CountryConsolidated.loc[Country,'Death to Cases Ratio'],\n",
    "                         mode='lines+markers',\n",
    "                         name='Death to Cases Ratio',\n",
    "                         line=dict(color=chartcol,width=2)),\n",
    "                         row=3,col=1)\n",
    "    fig.update_layout(showlegend=False)\n",
    "    \n",
    "    return fig\n",
    "CountriesList=['Germany','Italy','US','Australia','Pakistan','Iran','South Korea','Japan','Netherlands','US', 'Colombia']\n",
    "interact(plotcountry, Country=widgets.Dropdown(options=CountriesList))"
   ]
  },
  {
   "cell_type": "markdown",
   "metadata": {},
   "source": [
    "### Cumulative Data by Country"
   ]
  },
  {
   "cell_type": "code",
   "execution_count": 19,
   "metadata": {},
   "outputs": [],
   "source": [
    "max_index=CountryConsolidated.reset_index()['Date'].max()\n",
    "CumulativeCountryData=CountryConsolidated.reset_index().set_index('Date').loc[max_index].set_index('Country/Region')\n",
    "top10countriesbycases=CumulativeCountryData['Total Confirmed Cases'].sort_values(ascending=False).head(10).index.tolist()\n",
    "top10countriesbycasesexclChina=CumulativeCountryData[~CumulativeCountryData.index.isin(['China','Others'])]['Total Confirmed Cases'].sort_values(ascending=False).head(10).index.tolist()\n",
    "top10countriescumulative=CumulativeCountryData.loc[top10countriesbycases]\n",
    "top10countriescumulativexclChina=CumulativeCountryData.loc[top10countriesbycasesexclChina]"
   ]
  },
  {
   "cell_type": "code",
   "execution_count": 21,
   "metadata": {},
   "outputs": [
    {
     "data": {
      "text/html": "<div>\n<style scoped>\n    .dataframe tbody tr th:only-of-type {\n        vertical-align: middle;\n    }\n\n    .dataframe tbody tr th {\n        vertical-align: top;\n    }\n\n    .dataframe thead th {\n        text-align: right;\n    }\n</style>\n<table border=\"1\" class=\"dataframe\">\n  <thead>\n    <tr style=\"text-align: right;\">\n      <th></th>\n      <th>Total Confirmed Cases</th>\n      <th>Daily New Cases</th>\n      <th>Daily New Deaths</th>\n      <th>Total Deaths</th>\n      <th>Total Recoveries</th>\n      <th>Daily New Recoveries</th>\n      <th>Active Cases</th>\n      <th>Share of Recoveries - Closed Cases</th>\n      <th>Death to Cases Ratio</th>\n    </tr>\n    <tr>\n      <th>Country/Region</th>\n      <th></th>\n      <th></th>\n      <th></th>\n      <th></th>\n      <th></th>\n      <th></th>\n      <th></th>\n      <th></th>\n      <th></th>\n    </tr>\n  </thead>\n  <tbody>\n    <tr>\n      <th>Afghanistan</th>\n      <td>11</td>\n      <td>4.0</td>\n      <td>0.0</td>\n      <td>0</td>\n      <td>0</td>\n      <td>0.0</td>\n      <td>11</td>\n      <td>NaN</td>\n      <td>0.000</td>\n    </tr>\n    <tr>\n      <th>Albania</th>\n      <td>38</td>\n      <td>5.0</td>\n      <td>0.0</td>\n      <td>1</td>\n      <td>0</td>\n      <td>0.0</td>\n      <td>37</td>\n      <td>0.00</td>\n      <td>0.026</td>\n    </tr>\n    <tr>\n      <th>Algeria</th>\n      <td>37</td>\n      <td>11.0</td>\n      <td>1.0</td>\n      <td>3</td>\n      <td>12</td>\n      <td>4.0</td>\n      <td>22</td>\n      <td>0.80</td>\n      <td>0.081</td>\n    </tr>\n    <tr>\n      <th>Andorra</th>\n      <td>1</td>\n      <td>0.0</td>\n      <td>0.0</td>\n      <td>0</td>\n      <td>1</td>\n      <td>1.0</td>\n      <td>0</td>\n      <td>1.00</td>\n      <td>0.000</td>\n    </tr>\n    <tr>\n      <th>Antigua and Barbuda</th>\n      <td>1</td>\n      <td>0.0</td>\n      <td>0.0</td>\n      <td>0</td>\n      <td>0</td>\n      <td>0.0</td>\n      <td>1</td>\n      <td>NaN</td>\n      <td>0.000</td>\n    </tr>\n    <tr>\n      <th>...</th>\n      <td>...</td>\n      <td>...</td>\n      <td>...</td>\n      <td>...</td>\n      <td>...</td>\n      <td>...</td>\n      <td>...</td>\n      <td>...</td>\n      <td>...</td>\n    </tr>\n    <tr>\n      <th>United Kingdom</th>\n      <td>1143</td>\n      <td>342.0</td>\n      <td>13.0</td>\n      <td>21</td>\n      <td>19</td>\n      <td>0.0</td>\n      <td>1103</td>\n      <td>0.48</td>\n      <td>0.018</td>\n    </tr>\n    <tr>\n      <th>Uruguay</th>\n      <td>4</td>\n      <td>4.0</td>\n      <td>0.0</td>\n      <td>0</td>\n      <td>0</td>\n      <td>0.0</td>\n      <td>4</td>\n      <td>NaN</td>\n      <td>0.000</td>\n    </tr>\n    <tr>\n      <th>Venezuela</th>\n      <td>2</td>\n      <td>2.0</td>\n      <td>0.0</td>\n      <td>0</td>\n      <td>0</td>\n      <td>0.0</td>\n      <td>2</td>\n      <td>NaN</td>\n      <td>0.000</td>\n    </tr>\n    <tr>\n      <th>Vietnam</th>\n      <td>53</td>\n      <td>6.0</td>\n      <td>0.0</td>\n      <td>0</td>\n      <td>16</td>\n      <td>0.0</td>\n      <td>37</td>\n      <td>1.00</td>\n      <td>0.000</td>\n    </tr>\n    <tr>\n      <th>occupied Palestinian territory</th>\n      <td>0</td>\n      <td>0.0</td>\n      <td>0.0</td>\n      <td>0</td>\n      <td>0</td>\n      <td>0.0</td>\n      <td>0</td>\n      <td>NaN</td>\n      <td>NaN</td>\n    </tr>\n  </tbody>\n</table>\n<p>143 rows × 9 columns</p>\n</div>",
      "text/plain": "                                Total Confirmed Cases  Daily New Cases  \\\nCountry/Region                                                           \nAfghanistan                                        11              4.0   \nAlbania                                            38              5.0   \nAlgeria                                            37             11.0   \nAndorra                                             1              0.0   \nAntigua and Barbuda                                 1              0.0   \n...                                               ...              ...   \nUnited Kingdom                                   1143            342.0   \nUruguay                                             4              4.0   \nVenezuela                                           2              2.0   \nVietnam                                            53              6.0   \noccupied Palestinian territory                      0              0.0   \n\n                                Daily New Deaths  Total Deaths  \\\nCountry/Region                                                   \nAfghanistan                                  0.0             0   \nAlbania                                      0.0             1   \nAlgeria                                      1.0             3   \nAndorra                                      0.0             0   \nAntigua and Barbuda                          0.0             0   \n...                                          ...           ...   \nUnited Kingdom                              13.0            21   \nUruguay                                      0.0             0   \nVenezuela                                    0.0             0   \nVietnam                                      0.0             0   \noccupied Palestinian territory               0.0             0   \n\n                                Total Recoveries  Daily New Recoveries  \\\nCountry/Region                                                           \nAfghanistan                                    0                   0.0   \nAlbania                                        0                   0.0   \nAlgeria                                       12                   4.0   \nAndorra                                        1                   1.0   \nAntigua and Barbuda                            0                   0.0   \n...                                          ...                   ...   \nUnited Kingdom                                19                   0.0   \nUruguay                                        0                   0.0   \nVenezuela                                      0                   0.0   \nVietnam                                       16                   0.0   \noccupied Palestinian territory                 0                   0.0   \n\n                                Active Cases  \\\nCountry/Region                                 \nAfghanistan                               11   \nAlbania                                   37   \nAlgeria                                   22   \nAndorra                                    0   \nAntigua and Barbuda                        1   \n...                                      ...   \nUnited Kingdom                          1103   \nUruguay                                    4   \nVenezuela                                  2   \nVietnam                                   37   \noccupied Palestinian territory             0   \n\n                                Share of Recoveries - Closed Cases  \\\nCountry/Region                                                       \nAfghanistan                                                    NaN   \nAlbania                                                       0.00   \nAlgeria                                                       0.80   \nAndorra                                                       1.00   \nAntigua and Barbuda                                            NaN   \n...                                                            ...   \nUnited Kingdom                                                0.48   \nUruguay                                                        NaN   \nVenezuela                                                      NaN   \nVietnam                                                       1.00   \noccupied Palestinian territory                                 NaN   \n\n                                Death to Cases Ratio  \nCountry/Region                                        \nAfghanistan                                    0.000  \nAlbania                                        0.026  \nAlgeria                                        0.081  \nAndorra                                        0.000  \nAntigua and Barbuda                            0.000  \n...                                              ...  \nUnited Kingdom                                 0.018  \nUruguay                                        0.000  \nVenezuela                                      0.000  \nVietnam                                        0.000  \noccupied Palestinian territory                   NaN  \n\n[143 rows x 9 columns]"
     },
     "execution_count": 21,
     "metadata": {},
     "output_type": "execute_result"
    }
   ],
   "source": [
    "CumulativeCountryData"
   ]
  },
  {
   "cell_type": "code",
   "execution_count": 22,
   "metadata": {},
   "outputs": [
    {
     "data": {
      "application/vnd.plotly.v1+json": {
       "config": {
        "plotlyServerURL": "https://plot.ly"
       },
       "data": [
        {
         "text": [
          0.068,
          0.048,
          0.009,
          0.031,
          0.002,
          0.02,
          0.02,
          0.01,
          0.018,
          0.003
         ],
         "textposition": "outside",
         "type": "bar",
         "x": [
          "Italy",
          "Iran",
          "Korea, South",
          "Spain",
          "Germany",
          "France",
          "US",
          "Switzerland",
          "United Kingdom",
          "Norway"
         ],
         "y": [
          21157,
          12729,
          8086,
          6391,
          4585,
          4480,
          2727,
          1359,
          1143,
          1090
         ]
        }
       ],
       "layout": {
        "template": {
         "data": {
          "bar": [
           {
            "error_x": {
             "color": "#2a3f5f"
            },
            "error_y": {
             "color": "#2a3f5f"
            },
            "marker": {
             "line": {
              "color": "#E5ECF6",
              "width": 0.5
             }
            },
            "type": "bar"
           }
          ],
          "barpolar": [
           {
            "marker": {
             "line": {
              "color": "#E5ECF6",
              "width": 0.5
             }
            },
            "type": "barpolar"
           }
          ],
          "carpet": [
           {
            "aaxis": {
             "endlinecolor": "#2a3f5f",
             "gridcolor": "white",
             "linecolor": "white",
             "minorgridcolor": "white",
             "startlinecolor": "#2a3f5f"
            },
            "baxis": {
             "endlinecolor": "#2a3f5f",
             "gridcolor": "white",
             "linecolor": "white",
             "minorgridcolor": "white",
             "startlinecolor": "#2a3f5f"
            },
            "type": "carpet"
           }
          ],
          "choropleth": [
           {
            "colorbar": {
             "outlinewidth": 0,
             "ticks": ""
            },
            "type": "choropleth"
           }
          ],
          "contour": [
           {
            "colorbar": {
             "outlinewidth": 0,
             "ticks": ""
            },
            "colorscale": [
             [
              0,
              "#0d0887"
             ],
             [
              0.1111111111111111,
              "#46039f"
             ],
             [
              0.2222222222222222,
              "#7201a8"
             ],
             [
              0.3333333333333333,
              "#9c179e"
             ],
             [
              0.4444444444444444,
              "#bd3786"
             ],
             [
              0.5555555555555556,
              "#d8576b"
             ],
             [
              0.6666666666666666,
              "#ed7953"
             ],
             [
              0.7777777777777778,
              "#fb9f3a"
             ],
             [
              0.8888888888888888,
              "#fdca26"
             ],
             [
              1,
              "#f0f921"
             ]
            ],
            "type": "contour"
           }
          ],
          "contourcarpet": [
           {
            "colorbar": {
             "outlinewidth": 0,
             "ticks": ""
            },
            "type": "contourcarpet"
           }
          ],
          "heatmap": [
           {
            "colorbar": {
             "outlinewidth": 0,
             "ticks": ""
            },
            "colorscale": [
             [
              0,
              "#0d0887"
             ],
             [
              0.1111111111111111,
              "#46039f"
             ],
             [
              0.2222222222222222,
              "#7201a8"
             ],
             [
              0.3333333333333333,
              "#9c179e"
             ],
             [
              0.4444444444444444,
              "#bd3786"
             ],
             [
              0.5555555555555556,
              "#d8576b"
             ],
             [
              0.6666666666666666,
              "#ed7953"
             ],
             [
              0.7777777777777778,
              "#fb9f3a"
             ],
             [
              0.8888888888888888,
              "#fdca26"
             ],
             [
              1,
              "#f0f921"
             ]
            ],
            "type": "heatmap"
           }
          ],
          "heatmapgl": [
           {
            "colorbar": {
             "outlinewidth": 0,
             "ticks": ""
            },
            "colorscale": [
             [
              0,
              "#0d0887"
             ],
             [
              0.1111111111111111,
              "#46039f"
             ],
             [
              0.2222222222222222,
              "#7201a8"
             ],
             [
              0.3333333333333333,
              "#9c179e"
             ],
             [
              0.4444444444444444,
              "#bd3786"
             ],
             [
              0.5555555555555556,
              "#d8576b"
             ],
             [
              0.6666666666666666,
              "#ed7953"
             ],
             [
              0.7777777777777778,
              "#fb9f3a"
             ],
             [
              0.8888888888888888,
              "#fdca26"
             ],
             [
              1,
              "#f0f921"
             ]
            ],
            "type": "heatmapgl"
           }
          ],
          "histogram": [
           {
            "marker": {
             "colorbar": {
              "outlinewidth": 0,
              "ticks": ""
             }
            },
            "type": "histogram"
           }
          ],
          "histogram2d": [
           {
            "colorbar": {
             "outlinewidth": 0,
             "ticks": ""
            },
            "colorscale": [
             [
              0,
              "#0d0887"
             ],
             [
              0.1111111111111111,
              "#46039f"
             ],
             [
              0.2222222222222222,
              "#7201a8"
             ],
             [
              0.3333333333333333,
              "#9c179e"
             ],
             [
              0.4444444444444444,
              "#bd3786"
             ],
             [
              0.5555555555555556,
              "#d8576b"
             ],
             [
              0.6666666666666666,
              "#ed7953"
             ],
             [
              0.7777777777777778,
              "#fb9f3a"
             ],
             [
              0.8888888888888888,
              "#fdca26"
             ],
             [
              1,
              "#f0f921"
             ]
            ],
            "type": "histogram2d"
           }
          ],
          "histogram2dcontour": [
           {
            "colorbar": {
             "outlinewidth": 0,
             "ticks": ""
            },
            "colorscale": [
             [
              0,
              "#0d0887"
             ],
             [
              0.1111111111111111,
              "#46039f"
             ],
             [
              0.2222222222222222,
              "#7201a8"
             ],
             [
              0.3333333333333333,
              "#9c179e"
             ],
             [
              0.4444444444444444,
              "#bd3786"
             ],
             [
              0.5555555555555556,
              "#d8576b"
             ],
             [
              0.6666666666666666,
              "#ed7953"
             ],
             [
              0.7777777777777778,
              "#fb9f3a"
             ],
             [
              0.8888888888888888,
              "#fdca26"
             ],
             [
              1,
              "#f0f921"
             ]
            ],
            "type": "histogram2dcontour"
           }
          ],
          "mesh3d": [
           {
            "colorbar": {
             "outlinewidth": 0,
             "ticks": ""
            },
            "type": "mesh3d"
           }
          ],
          "parcoords": [
           {
            "line": {
             "colorbar": {
              "outlinewidth": 0,
              "ticks": ""
             }
            },
            "type": "parcoords"
           }
          ],
          "pie": [
           {
            "automargin": true,
            "type": "pie"
           }
          ],
          "scatter": [
           {
            "marker": {
             "colorbar": {
              "outlinewidth": 0,
              "ticks": ""
             }
            },
            "type": "scatter"
           }
          ],
          "scatter3d": [
           {
            "line": {
             "colorbar": {
              "outlinewidth": 0,
              "ticks": ""
             }
            },
            "marker": {
             "colorbar": {
              "outlinewidth": 0,
              "ticks": ""
             }
            },
            "type": "scatter3d"
           }
          ],
          "scattercarpet": [
           {
            "marker": {
             "colorbar": {
              "outlinewidth": 0,
              "ticks": ""
             }
            },
            "type": "scattercarpet"
           }
          ],
          "scattergeo": [
           {
            "marker": {
             "colorbar": {
              "outlinewidth": 0,
              "ticks": ""
             }
            },
            "type": "scattergeo"
           }
          ],
          "scattergl": [
           {
            "marker": {
             "colorbar": {
              "outlinewidth": 0,
              "ticks": ""
             }
            },
            "type": "scattergl"
           }
          ],
          "scattermapbox": [
           {
            "marker": {
             "colorbar": {
              "outlinewidth": 0,
              "ticks": ""
             }
            },
            "type": "scattermapbox"
           }
          ],
          "scatterpolar": [
           {
            "marker": {
             "colorbar": {
              "outlinewidth": 0,
              "ticks": ""
             }
            },
            "type": "scatterpolar"
           }
          ],
          "scatterpolargl": [
           {
            "marker": {
             "colorbar": {
              "outlinewidth": 0,
              "ticks": ""
             }
            },
            "type": "scatterpolargl"
           }
          ],
          "scatterternary": [
           {
            "marker": {
             "colorbar": {
              "outlinewidth": 0,
              "ticks": ""
             }
            },
            "type": "scatterternary"
           }
          ],
          "surface": [
           {
            "colorbar": {
             "outlinewidth": 0,
             "ticks": ""
            },
            "colorscale": [
             [
              0,
              "#0d0887"
             ],
             [
              0.1111111111111111,
              "#46039f"
             ],
             [
              0.2222222222222222,
              "#7201a8"
             ],
             [
              0.3333333333333333,
              "#9c179e"
             ],
             [
              0.4444444444444444,
              "#bd3786"
             ],
             [
              0.5555555555555556,
              "#d8576b"
             ],
             [
              0.6666666666666666,
              "#ed7953"
             ],
             [
              0.7777777777777778,
              "#fb9f3a"
             ],
             [
              0.8888888888888888,
              "#fdca26"
             ],
             [
              1,
              "#f0f921"
             ]
            ],
            "type": "surface"
           }
          ],
          "table": [
           {
            "cells": {
             "fill": {
              "color": "#EBF0F8"
             },
             "line": {
              "color": "white"
             }
            },
            "header": {
             "fill": {
              "color": "#C8D4E3"
             },
             "line": {
              "color": "white"
             }
            },
            "type": "table"
           }
          ]
         },
         "layout": {
          "annotationdefaults": {
           "arrowcolor": "#2a3f5f",
           "arrowhead": 0,
           "arrowwidth": 1
          },
          "coloraxis": {
           "colorbar": {
            "outlinewidth": 0,
            "ticks": ""
           }
          },
          "colorscale": {
           "diverging": [
            [
             0,
             "#8e0152"
            ],
            [
             0.1,
             "#c51b7d"
            ],
            [
             0.2,
             "#de77ae"
            ],
            [
             0.3,
             "#f1b6da"
            ],
            [
             0.4,
             "#fde0ef"
            ],
            [
             0.5,
             "#f7f7f7"
            ],
            [
             0.6,
             "#e6f5d0"
            ],
            [
             0.7,
             "#b8e186"
            ],
            [
             0.8,
             "#7fbc41"
            ],
            [
             0.9,
             "#4d9221"
            ],
            [
             1,
             "#276419"
            ]
           ],
           "sequential": [
            [
             0,
             "#0d0887"
            ],
            [
             0.1111111111111111,
             "#46039f"
            ],
            [
             0.2222222222222222,
             "#7201a8"
            ],
            [
             0.3333333333333333,
             "#9c179e"
            ],
            [
             0.4444444444444444,
             "#bd3786"
            ],
            [
             0.5555555555555556,
             "#d8576b"
            ],
            [
             0.6666666666666666,
             "#ed7953"
            ],
            [
             0.7777777777777778,
             "#fb9f3a"
            ],
            [
             0.8888888888888888,
             "#fdca26"
            ],
            [
             1,
             "#f0f921"
            ]
           ],
           "sequentialminus": [
            [
             0,
             "#0d0887"
            ],
            [
             0.1111111111111111,
             "#46039f"
            ],
            [
             0.2222222222222222,
             "#7201a8"
            ],
            [
             0.3333333333333333,
             "#9c179e"
            ],
            [
             0.4444444444444444,
             "#bd3786"
            ],
            [
             0.5555555555555556,
             "#d8576b"
            ],
            [
             0.6666666666666666,
             "#ed7953"
            ],
            [
             0.7777777777777778,
             "#fb9f3a"
            ],
            [
             0.8888888888888888,
             "#fdca26"
            ],
            [
             1,
             "#f0f921"
            ]
           ]
          },
          "colorway": [
           "#636efa",
           "#EF553B",
           "#00cc96",
           "#ab63fa",
           "#FFA15A",
           "#19d3f3",
           "#FF6692",
           "#B6E880",
           "#FF97FF",
           "#FECB52"
          ],
          "font": {
           "color": "#2a3f5f"
          },
          "geo": {
           "bgcolor": "white",
           "lakecolor": "white",
           "landcolor": "#E5ECF6",
           "showlakes": true,
           "showland": true,
           "subunitcolor": "white"
          },
          "hoverlabel": {
           "align": "left"
          },
          "hovermode": "closest",
          "mapbox": {
           "style": "light"
          },
          "paper_bgcolor": "white",
          "plot_bgcolor": "#E5ECF6",
          "polar": {
           "angularaxis": {
            "gridcolor": "white",
            "linecolor": "white",
            "ticks": ""
           },
           "bgcolor": "#E5ECF6",
           "radialaxis": {
            "gridcolor": "white",
            "linecolor": "white",
            "ticks": ""
           }
          },
          "scene": {
           "xaxis": {
            "backgroundcolor": "#E5ECF6",
            "gridcolor": "white",
            "gridwidth": 2,
            "linecolor": "white",
            "showbackground": true,
            "ticks": "",
            "zerolinecolor": "white"
           },
           "yaxis": {
            "backgroundcolor": "#E5ECF6",
            "gridcolor": "white",
            "gridwidth": 2,
            "linecolor": "white",
            "showbackground": true,
            "ticks": "",
            "zerolinecolor": "white"
           },
           "zaxis": {
            "backgroundcolor": "#E5ECF6",
            "gridcolor": "white",
            "gridwidth": 2,
            "linecolor": "white",
            "showbackground": true,
            "ticks": "",
            "zerolinecolor": "white"
           }
          },
          "shapedefaults": {
           "line": {
            "color": "#2a3f5f"
           }
          },
          "ternary": {
           "aaxis": {
            "gridcolor": "white",
            "linecolor": "white",
            "ticks": ""
           },
           "baxis": {
            "gridcolor": "white",
            "linecolor": "white",
            "ticks": ""
           },
           "bgcolor": "#E5ECF6",
           "caxis": {
            "gridcolor": "white",
            "linecolor": "white",
            "ticks": ""
           }
          },
          "title": {
           "x": 0.05
          },
          "xaxis": {
           "automargin": true,
           "gridcolor": "white",
           "linecolor": "white",
           "ticks": "",
           "title": {
            "standoff": 15
           },
           "zerolinecolor": "white",
           "zerolinewidth": 2
          },
          "yaxis": {
           "automargin": true,
           "gridcolor": "white",
           "linecolor": "white",
           "ticks": "",
           "title": {
            "standoff": 15
           },
           "zerolinecolor": "white",
           "zerolinewidth": 2
          }
         }
        },
        "title": {
         "text": "Top countries by Cases and their Death Rates - Excluding China"
        },
        "yaxis": {
         "title": {
          "text": "Total Cases"
         }
        }
       }
      }
     },
     "metadata": {},
     "output_type": "display_data"
    }
   ],
   "source": [
    "fig = go.Figure(go.Bar(x=top10countriescumulativexclChina.index, y=top10countriescumulativexclChina['Total Confirmed Cases'],\n",
    "                      text=top10countriescumulativexclChina['Death to Cases Ratio'],\n",
    "            textposition='outside'))\n",
    "fig.update_layout(title_text='Top countries by Cases and their Death Rates - Excluding China',yaxis_title='Total Cases')"
   ]
  },
  {
   "cell_type": "markdown",
   "metadata": {},
   "source": [
    "### Total Cases by number of days since 'Outbreak'"
   ]
  },
  {
   "cell_type": "code",
   "execution_count": 23,
   "metadata": {},
   "outputs": [],
   "source": [
    "### First Cases\n",
    "ItalyFirstCase=CountryConsolidated.loc['Italy']['Total Confirmed Cases'].reset_index().set_index('Date')\n",
    "SKFirstCase=CountryConsolidated.loc['Korea, South']['Total Confirmed Cases'].reset_index().set_index('Date')\n",
    "IranFirstCase=CountryConsolidated.loc['Iran']['Total Confirmed Cases'].reset_index().set_index('Date')\n",
    "GermanyFirstCase=CountryConsolidated.loc['Germany']['Total Confirmed Cases'].reset_index().set_index('Date')\n",
    "SingaporeFirstCase=CountryConsolidated.loc['Singapore']['Total Confirmed Cases'].reset_index().set_index('Date')\n",
    "USFirstCase=CountryConsolidated.loc['US']['Total Confirmed Cases'].reset_index().set_index('Date')\n",
    "ColombiaFirstCase=CountryConsolidated.loc['Colombia']['Total Confirmed Cases'].reset_index().set_index('Date')\n",
    "\n",
    "### Growth\n",
    "ItalyGrowth=ItalyFirstCase[ItalyFirstCase.ne(0)].dropna().reset_index()\n",
    "SKGrowth=SKFirstCase[SKFirstCase.ne(0)].dropna().reset_index()\n",
    "IranGrowth=IranFirstCase[IranFirstCase.ne(0)].dropna().reset_index()\n",
    "GermanyGrowth=GermanyFirstCase[GermanyFirstCase.ne(0)].dropna().reset_index()\n",
    "SingaporeGrowth=SingaporeFirstCase[SingaporeFirstCase.ne(0)].dropna().reset_index()\n",
    "USGrowth=USFirstCase[USFirstCase.ne(0)].dropna().reset_index()\n",
    "ColombiaGrowth=ColombiaFirstCase[ColombiaFirstCase.ne(0)].dropna().reset_index()"
   ]
  },
  {
   "cell_type": "markdown",
   "metadata": {},
   "source": [
    "### Italy Growth Last 30 days\n"
   ]
  },
  {
   "cell_type": "code",
   "execution_count": 24,
   "metadata": {},
   "outputs": [
    {
     "data": {
      "text/html": "<div>\n<style scoped>\n    .dataframe tbody tr th:only-of-type {\n        vertical-align: middle;\n    }\n\n    .dataframe tbody tr th {\n        vertical-align: top;\n    }\n\n    .dataframe thead th {\n        text-align: right;\n    }\n</style>\n<table border=\"1\" class=\"dataframe\">\n  <thead>\n    <tr style=\"text-align: right;\">\n      <th></th>\n      <th>Date</th>\n      <th>Total Confirmed Cases</th>\n    </tr>\n  </thead>\n  <tbody>\n    <tr>\n      <th>14</th>\n      <td>2020-02-14</td>\n      <td>3.0</td>\n    </tr>\n    <tr>\n      <th>15</th>\n      <td>2020-02-15</td>\n      <td>3.0</td>\n    </tr>\n    <tr>\n      <th>16</th>\n      <td>2020-02-16</td>\n      <td>3.0</td>\n    </tr>\n    <tr>\n      <th>17</th>\n      <td>2020-02-17</td>\n      <td>3.0</td>\n    </tr>\n    <tr>\n      <th>18</th>\n      <td>2020-02-18</td>\n      <td>3.0</td>\n    </tr>\n    <tr>\n      <th>19</th>\n      <td>2020-02-19</td>\n      <td>3.0</td>\n    </tr>\n    <tr>\n      <th>20</th>\n      <td>2020-02-20</td>\n      <td>3.0</td>\n    </tr>\n    <tr>\n      <th>21</th>\n      <td>2020-02-21</td>\n      <td>20.0</td>\n    </tr>\n    <tr>\n      <th>22</th>\n      <td>2020-02-22</td>\n      <td>62.0</td>\n    </tr>\n    <tr>\n      <th>23</th>\n      <td>2020-02-23</td>\n      <td>155.0</td>\n    </tr>\n    <tr>\n      <th>24</th>\n      <td>2020-02-24</td>\n      <td>229.0</td>\n    </tr>\n    <tr>\n      <th>25</th>\n      <td>2020-02-25</td>\n      <td>322.0</td>\n    </tr>\n    <tr>\n      <th>26</th>\n      <td>2020-02-26</td>\n      <td>453.0</td>\n    </tr>\n    <tr>\n      <th>27</th>\n      <td>2020-02-27</td>\n      <td>655.0</td>\n    </tr>\n    <tr>\n      <th>28</th>\n      <td>2020-02-28</td>\n      <td>888.0</td>\n    </tr>\n    <tr>\n      <th>29</th>\n      <td>2020-02-29</td>\n      <td>1128.0</td>\n    </tr>\n    <tr>\n      <th>30</th>\n      <td>2020-03-01</td>\n      <td>1694.0</td>\n    </tr>\n    <tr>\n      <th>31</th>\n      <td>2020-03-02</td>\n      <td>2036.0</td>\n    </tr>\n    <tr>\n      <th>32</th>\n      <td>2020-03-03</td>\n      <td>2502.0</td>\n    </tr>\n    <tr>\n      <th>33</th>\n      <td>2020-03-04</td>\n      <td>3089.0</td>\n    </tr>\n    <tr>\n      <th>34</th>\n      <td>2020-03-05</td>\n      <td>3858.0</td>\n    </tr>\n    <tr>\n      <th>35</th>\n      <td>2020-03-06</td>\n      <td>4636.0</td>\n    </tr>\n    <tr>\n      <th>36</th>\n      <td>2020-03-07</td>\n      <td>5883.0</td>\n    </tr>\n    <tr>\n      <th>37</th>\n      <td>2020-03-08</td>\n      <td>7375.0</td>\n    </tr>\n    <tr>\n      <th>38</th>\n      <td>2020-03-09</td>\n      <td>9172.0</td>\n    </tr>\n    <tr>\n      <th>39</th>\n      <td>2020-03-10</td>\n      <td>10149.0</td>\n    </tr>\n    <tr>\n      <th>40</th>\n      <td>2020-03-11</td>\n      <td>12462.0</td>\n    </tr>\n    <tr>\n      <th>41</th>\n      <td>2020-03-12</td>\n      <td>12462.0</td>\n    </tr>\n    <tr>\n      <th>42</th>\n      <td>2020-03-13</td>\n      <td>17660.0</td>\n    </tr>\n    <tr>\n      <th>43</th>\n      <td>2020-03-14</td>\n      <td>21157.0</td>\n    </tr>\n  </tbody>\n</table>\n</div>",
      "text/plain": "         Date  Total Confirmed Cases\n14 2020-02-14                    3.0\n15 2020-02-15                    3.0\n16 2020-02-16                    3.0\n17 2020-02-17                    3.0\n18 2020-02-18                    3.0\n19 2020-02-19                    3.0\n20 2020-02-20                    3.0\n21 2020-02-21                   20.0\n22 2020-02-22                   62.0\n23 2020-02-23                  155.0\n24 2020-02-24                  229.0\n25 2020-02-25                  322.0\n26 2020-02-26                  453.0\n27 2020-02-27                  655.0\n28 2020-02-28                  888.0\n29 2020-02-29                 1128.0\n30 2020-03-01                 1694.0\n31 2020-03-02                 2036.0\n32 2020-03-03                 2502.0\n33 2020-03-04                 3089.0\n34 2020-03-05                 3858.0\n35 2020-03-06                 4636.0\n36 2020-03-07                 5883.0\n37 2020-03-08                 7375.0\n38 2020-03-09                 9172.0\n39 2020-03-10                10149.0\n40 2020-03-11                12462.0\n41 2020-03-12                12462.0\n42 2020-03-13                17660.0\n43 2020-03-14                21157.0"
     },
     "execution_count": 24,
     "metadata": {},
     "output_type": "execute_result"
    }
   ],
   "source": [
    "ItalyGrowth.tail(30)"
   ]
  },
  {
   "cell_type": "markdown",
   "metadata": {},
   "source": [
    "### US Growth Last 30 days\n"
   ]
  },
  {
   "cell_type": "code",
   "execution_count": 25,
   "metadata": {},
   "outputs": [
    {
     "data": {
      "text/html": "<div>\n<style scoped>\n    .dataframe tbody tr th:only-of-type {\n        vertical-align: middle;\n    }\n\n    .dataframe tbody tr th {\n        vertical-align: top;\n    }\n\n    .dataframe thead th {\n        text-align: right;\n    }\n</style>\n<table border=\"1\" class=\"dataframe\">\n  <thead>\n    <tr style=\"text-align: right;\">\n      <th></th>\n      <th>Date</th>\n      <th>Total Confirmed Cases</th>\n    </tr>\n  </thead>\n  <tbody>\n    <tr>\n      <th>23</th>\n      <td>2020-02-14</td>\n      <td>13</td>\n    </tr>\n    <tr>\n      <th>24</th>\n      <td>2020-02-15</td>\n      <td>13</td>\n    </tr>\n    <tr>\n      <th>25</th>\n      <td>2020-02-16</td>\n      <td>13</td>\n    </tr>\n    <tr>\n      <th>26</th>\n      <td>2020-02-17</td>\n      <td>13</td>\n    </tr>\n    <tr>\n      <th>27</th>\n      <td>2020-02-18</td>\n      <td>13</td>\n    </tr>\n    <tr>\n      <th>28</th>\n      <td>2020-02-19</td>\n      <td>13</td>\n    </tr>\n    <tr>\n      <th>29</th>\n      <td>2020-02-20</td>\n      <td>13</td>\n    </tr>\n    <tr>\n      <th>30</th>\n      <td>2020-02-21</td>\n      <td>15</td>\n    </tr>\n    <tr>\n      <th>31</th>\n      <td>2020-02-22</td>\n      <td>15</td>\n    </tr>\n    <tr>\n      <th>32</th>\n      <td>2020-02-23</td>\n      <td>15</td>\n    </tr>\n    <tr>\n      <th>33</th>\n      <td>2020-02-24</td>\n      <td>51</td>\n    </tr>\n    <tr>\n      <th>34</th>\n      <td>2020-02-25</td>\n      <td>51</td>\n    </tr>\n    <tr>\n      <th>35</th>\n      <td>2020-02-26</td>\n      <td>57</td>\n    </tr>\n    <tr>\n      <th>36</th>\n      <td>2020-02-27</td>\n      <td>58</td>\n    </tr>\n    <tr>\n      <th>37</th>\n      <td>2020-02-28</td>\n      <td>60</td>\n    </tr>\n    <tr>\n      <th>38</th>\n      <td>2020-02-29</td>\n      <td>68</td>\n    </tr>\n    <tr>\n      <th>39</th>\n      <td>2020-03-01</td>\n      <td>74</td>\n    </tr>\n    <tr>\n      <th>40</th>\n      <td>2020-03-02</td>\n      <td>98</td>\n    </tr>\n    <tr>\n      <th>41</th>\n      <td>2020-03-03</td>\n      <td>118</td>\n    </tr>\n    <tr>\n      <th>42</th>\n      <td>2020-03-04</td>\n      <td>149</td>\n    </tr>\n    <tr>\n      <th>43</th>\n      <td>2020-03-05</td>\n      <td>217</td>\n    </tr>\n    <tr>\n      <th>44</th>\n      <td>2020-03-06</td>\n      <td>262</td>\n    </tr>\n    <tr>\n      <th>45</th>\n      <td>2020-03-07</td>\n      <td>402</td>\n    </tr>\n    <tr>\n      <th>46</th>\n      <td>2020-03-08</td>\n      <td>518</td>\n    </tr>\n    <tr>\n      <th>47</th>\n      <td>2020-03-09</td>\n      <td>583</td>\n    </tr>\n    <tr>\n      <th>48</th>\n      <td>2020-03-10</td>\n      <td>959</td>\n    </tr>\n    <tr>\n      <th>49</th>\n      <td>2020-03-11</td>\n      <td>1281</td>\n    </tr>\n    <tr>\n      <th>50</th>\n      <td>2020-03-12</td>\n      <td>1663</td>\n    </tr>\n    <tr>\n      <th>51</th>\n      <td>2020-03-13</td>\n      <td>2179</td>\n    </tr>\n    <tr>\n      <th>52</th>\n      <td>2020-03-14</td>\n      <td>2727</td>\n    </tr>\n  </tbody>\n</table>\n</div>",
      "text/plain": "         Date  Total Confirmed Cases\n23 2020-02-14                     13\n24 2020-02-15                     13\n25 2020-02-16                     13\n26 2020-02-17                     13\n27 2020-02-18                     13\n28 2020-02-19                     13\n29 2020-02-20                     13\n30 2020-02-21                     15\n31 2020-02-22                     15\n32 2020-02-23                     15\n33 2020-02-24                     51\n34 2020-02-25                     51\n35 2020-02-26                     57\n36 2020-02-27                     58\n37 2020-02-28                     60\n38 2020-02-29                     68\n39 2020-03-01                     74\n40 2020-03-02                     98\n41 2020-03-03                    118\n42 2020-03-04                    149\n43 2020-03-05                    217\n44 2020-03-06                    262\n45 2020-03-07                    402\n46 2020-03-08                    518\n47 2020-03-09                    583\n48 2020-03-10                    959\n49 2020-03-11                   1281\n50 2020-03-12                   1663\n51 2020-03-13                   2179\n52 2020-03-14                   2727"
     },
     "execution_count": 25,
     "metadata": {},
     "output_type": "execute_result"
    }
   ],
   "source": [
    "USGrowth.tail(30)"
   ]
  },
  {
   "cell_type": "code",
   "execution_count": 26,
   "metadata": {},
   "outputs": [
    {
     "data": {
      "text/html": "<div>\n<style scoped>\n    .dataframe tbody tr th:only-of-type {\n        vertical-align: middle;\n    }\n\n    .dataframe tbody tr th {\n        vertical-align: top;\n    }\n\n    .dataframe thead th {\n        text-align: right;\n    }\n</style>\n<table border=\"1\" class=\"dataframe\">\n  <thead>\n    <tr style=\"text-align: right;\">\n      <th></th>\n      <th>Date</th>\n      <th>Total Confirmed Cases</th>\n    </tr>\n  </thead>\n  <tbody>\n    <tr>\n      <th>0</th>\n      <td>2020-03-06</td>\n      <td>1.0</td>\n    </tr>\n    <tr>\n      <th>1</th>\n      <td>2020-03-07</td>\n      <td>1.0</td>\n    </tr>\n    <tr>\n      <th>2</th>\n      <td>2020-03-08</td>\n      <td>1.0</td>\n    </tr>\n    <tr>\n      <th>3</th>\n      <td>2020-03-09</td>\n      <td>1.0</td>\n    </tr>\n    <tr>\n      <th>4</th>\n      <td>2020-03-10</td>\n      <td>3.0</td>\n    </tr>\n    <tr>\n      <th>5</th>\n      <td>2020-03-11</td>\n      <td>9.0</td>\n    </tr>\n    <tr>\n      <th>6</th>\n      <td>2020-03-12</td>\n      <td>9.0</td>\n    </tr>\n    <tr>\n      <th>7</th>\n      <td>2020-03-13</td>\n      <td>13.0</td>\n    </tr>\n    <tr>\n      <th>8</th>\n      <td>2020-03-14</td>\n      <td>22.0</td>\n    </tr>\n  </tbody>\n</table>\n</div>",
      "text/plain": "        Date  Total Confirmed Cases\n0 2020-03-06                    1.0\n1 2020-03-07                    1.0\n2 2020-03-08                    1.0\n3 2020-03-09                    1.0\n4 2020-03-10                    3.0\n5 2020-03-11                    9.0\n6 2020-03-12                    9.0\n7 2020-03-13                   13.0\n8 2020-03-14                   22.0"
     },
     "execution_count": 26,
     "metadata": {},
     "output_type": "execute_result"
    }
   ],
   "source": [
    "ColombiaGrowth.tail(30)"
   ]
  },
  {
   "cell_type": "code",
   "execution_count": 27,
   "metadata": {},
   "outputs": [
    {
     "data": {
      "application/vnd.plotly.v1+json": {
       "config": {
        "plotlyServerURL": "https://plot.ly"
       },
       "data": [
        {
         "line": {
          "color": "red",
          "width": 2
         },
         "mode": "lines+markers",
         "name": "Active Cases",
         "type": "scatter",
         "x": [
          0,
          1,
          2,
          3,
          4,
          5,
          6,
          7,
          8,
          9,
          10,
          11,
          12,
          13,
          14,
          15,
          16,
          17,
          18,
          19,
          20,
          21,
          22,
          23,
          24,
          25,
          26,
          27,
          28,
          29,
          30,
          31,
          32,
          33,
          34,
          35,
          36,
          37,
          38,
          39,
          40,
          41,
          42,
          43
         ],
         "xaxis": "x",
         "y": [
          2,
          2,
          2,
          2,
          2,
          2,
          2,
          3,
          3,
          3,
          3,
          3,
          3,
          3,
          3,
          3,
          3,
          3,
          3,
          3,
          3,
          20,
          62,
          155,
          229,
          322,
          453,
          655,
          888,
          1128,
          1694,
          2036,
          2502,
          3089,
          3858,
          4636,
          5883,
          7375,
          9172,
          10149,
          12462,
          12462,
          17660,
          21157
         ],
         "yaxis": "y"
        },
        {
         "line": {
          "color": "red",
          "width": 2
         },
         "mode": "lines+markers",
         "name": "Active Cases",
         "type": "scatter",
         "x": [
          0,
          1,
          2,
          3,
          4,
          5,
          6,
          7,
          8,
          9,
          10,
          11,
          12,
          13,
          14,
          15,
          16,
          17,
          18,
          19,
          20,
          21,
          22,
          23,
          24
         ],
         "xaxis": "x2",
         "y": [
          2,
          5,
          18,
          28,
          43,
          61,
          95,
          139,
          245,
          388,
          593,
          978,
          1501,
          2336,
          2922,
          3513,
          4747,
          5823,
          6566,
          7161,
          8042,
          9000,
          10075,
          11364,
          12729
         ],
         "yaxis": "y2"
        },
        {
         "line": {
          "color": "red",
          "width": 2
         },
         "mode": "lines+markers",
         "name": "Active Cases",
         "type": "scatter",
         "x": [
          0,
          1,
          2,
          3,
          4,
          5,
          6,
          7,
          8,
          9,
          10,
          11,
          12,
          13,
          14,
          15,
          16,
          17,
          18,
          19,
          20,
          21,
          22,
          23,
          24,
          25,
          26,
          27,
          28,
          29,
          30,
          31,
          32,
          33,
          34,
          35,
          36,
          37,
          38,
          39,
          40,
          41,
          42,
          43,
          44,
          45,
          46,
          47,
          48,
          49,
          50,
          51,
          52
         ],
         "xaxis": "x3",
         "y": [
          1,
          1,
          2,
          2,
          3,
          4,
          4,
          4,
          4,
          11,
          12,
          15,
          15,
          16,
          19,
          23,
          24,
          24,
          25,
          27,
          28,
          28,
          28,
          28,
          28,
          29,
          30,
          31,
          31,
          104,
          204,
          433,
          602,
          833,
          977,
          1261,
          1766,
          2337,
          3150,
          3736,
          4335,
          5186,
          5621,
          6088,
          6593,
          7041,
          7314,
          7478,
          7513,
          7755,
          7869,
          7979,
          8086
         ],
         "yaxis": "y3"
        },
        {
         "line": {
          "color": "red",
          "width": 2
         },
         "mode": "lines+markers",
         "name": "Active Cases",
         "type": "scatter",
         "x": [
          0,
          1,
          2,
          3,
          4,
          5,
          6,
          7,
          8,
          9,
          10,
          11,
          12,
          13,
          14,
          15,
          16,
          17,
          18,
          19,
          20,
          21,
          22,
          23,
          24,
          25,
          26,
          27,
          28,
          29,
          30,
          31,
          32,
          33,
          34,
          35,
          36,
          37,
          38,
          39,
          40,
          41,
          42,
          43,
          44,
          45,
          46,
          47
         ],
         "xaxis": "x4",
         "y": [
          1,
          4,
          4,
          4,
          5,
          8,
          10,
          12,
          12,
          12,
          12,
          13,
          13,
          14,
          14,
          16,
          16,
          16,
          16,
          16,
          16,
          16,
          16,
          16,
          16,
          16,
          16,
          16,
          16,
          17,
          27,
          46,
          48,
          79,
          130,
          159,
          196,
          262,
          482,
          670,
          799,
          1040,
          1176,
          1457,
          1908,
          2078,
          3675,
          4585
         ],
         "yaxis": "y4"
        },
        {
         "line": {
          "color": "red",
          "width": 2
         },
         "mode": "lines+markers",
         "name": "Active Cases",
         "type": "scatter",
         "x": [
          0,
          1,
          2,
          3,
          4,
          5,
          6,
          7,
          8,
          9,
          10,
          11,
          12,
          13,
          14,
          15,
          16,
          17,
          18,
          19,
          20,
          21,
          22,
          23,
          24,
          25,
          26,
          27,
          28,
          29,
          30,
          31,
          32,
          33,
          34,
          35,
          36,
          37,
          38,
          39,
          40,
          41,
          42,
          43,
          44,
          45,
          46,
          47,
          48,
          49,
          50,
          51,
          52
         ],
         "xaxis": "x5",
         "y": [
          1,
          1,
          2,
          2,
          5,
          5,
          5,
          5,
          5,
          7,
          8,
          8,
          11,
          11,
          11,
          11,
          11,
          11,
          11,
          11,
          12,
          12,
          13,
          13,
          13,
          13,
          13,
          13,
          13,
          13,
          15,
          15,
          15,
          51,
          51,
          57,
          58,
          60,
          68,
          74,
          98,
          118,
          149,
          217,
          262,
          402,
          518,
          583,
          959,
          1281,
          1663,
          2179,
          2727
         ],
         "yaxis": "y5"
        },
        {
         "line": {
          "color": "red",
          "width": 2
         },
         "mode": "lines+markers",
         "name": "Active Cases",
         "type": "scatter",
         "x": [
          0,
          1,
          2,
          3,
          4,
          5,
          6,
          7,
          8
         ],
         "xaxis": "x6",
         "y": [
          1,
          1,
          1,
          1,
          3,
          9,
          9,
          13,
          22
         ],
         "yaxis": "y6"
        }
       ],
       "layout": {
        "annotations": [
         {
          "font": {
           "size": 16
          },
          "showarrow": false,
          "text": "Italy",
          "x": 0.225,
          "xanchor": "center",
          "xref": "paper",
          "y": 1,
          "yanchor": "bottom",
          "yref": "paper"
         },
         {
          "font": {
           "size": 16
          },
          "showarrow": false,
          "text": "Iran",
          "x": 0.775,
          "xanchor": "center",
          "xref": "paper",
          "y": 1,
          "yanchor": "bottom",
          "yref": "paper"
         },
         {
          "font": {
           "size": 16
          },
          "showarrow": false,
          "text": "Korea, South",
          "x": 0.225,
          "xanchor": "center",
          "xref": "paper",
          "y": 0.6111111111111112,
          "yanchor": "bottom",
          "yref": "paper"
         },
         {
          "font": {
           "size": 16
          },
          "showarrow": false,
          "text": "Germany",
          "x": 0.775,
          "xanchor": "center",
          "xref": "paper",
          "y": 0.6111111111111112,
          "yanchor": "bottom",
          "yref": "paper"
         },
         {
          "font": {
           "size": 16
          },
          "showarrow": false,
          "text": "US",
          "x": 0.225,
          "xanchor": "center",
          "xref": "paper",
          "y": 0.22222222222222224,
          "yanchor": "bottom",
          "yref": "paper"
         },
         {
          "font": {
           "size": 16
          },
          "showarrow": false,
          "text": "Colombia",
          "x": 0.775,
          "xanchor": "center",
          "xref": "paper",
          "y": 0.22222222222222224,
          "yanchor": "bottom",
          "yref": "paper"
         }
        ],
        "showlegend": false,
        "template": {
         "data": {
          "bar": [
           {
            "error_x": {
             "color": "#2a3f5f"
            },
            "error_y": {
             "color": "#2a3f5f"
            },
            "marker": {
             "line": {
              "color": "#E5ECF6",
              "width": 0.5
             }
            },
            "type": "bar"
           }
          ],
          "barpolar": [
           {
            "marker": {
             "line": {
              "color": "#E5ECF6",
              "width": 0.5
             }
            },
            "type": "barpolar"
           }
          ],
          "carpet": [
           {
            "aaxis": {
             "endlinecolor": "#2a3f5f",
             "gridcolor": "white",
             "linecolor": "white",
             "minorgridcolor": "white",
             "startlinecolor": "#2a3f5f"
            },
            "baxis": {
             "endlinecolor": "#2a3f5f",
             "gridcolor": "white",
             "linecolor": "white",
             "minorgridcolor": "white",
             "startlinecolor": "#2a3f5f"
            },
            "type": "carpet"
           }
          ],
          "choropleth": [
           {
            "colorbar": {
             "outlinewidth": 0,
             "ticks": ""
            },
            "type": "choropleth"
           }
          ],
          "contour": [
           {
            "colorbar": {
             "outlinewidth": 0,
             "ticks": ""
            },
            "colorscale": [
             [
              0,
              "#0d0887"
             ],
             [
              0.1111111111111111,
              "#46039f"
             ],
             [
              0.2222222222222222,
              "#7201a8"
             ],
             [
              0.3333333333333333,
              "#9c179e"
             ],
             [
              0.4444444444444444,
              "#bd3786"
             ],
             [
              0.5555555555555556,
              "#d8576b"
             ],
             [
              0.6666666666666666,
              "#ed7953"
             ],
             [
              0.7777777777777778,
              "#fb9f3a"
             ],
             [
              0.8888888888888888,
              "#fdca26"
             ],
             [
              1,
              "#f0f921"
             ]
            ],
            "type": "contour"
           }
          ],
          "contourcarpet": [
           {
            "colorbar": {
             "outlinewidth": 0,
             "ticks": ""
            },
            "type": "contourcarpet"
           }
          ],
          "heatmap": [
           {
            "colorbar": {
             "outlinewidth": 0,
             "ticks": ""
            },
            "colorscale": [
             [
              0,
              "#0d0887"
             ],
             [
              0.1111111111111111,
              "#46039f"
             ],
             [
              0.2222222222222222,
              "#7201a8"
             ],
             [
              0.3333333333333333,
              "#9c179e"
             ],
             [
              0.4444444444444444,
              "#bd3786"
             ],
             [
              0.5555555555555556,
              "#d8576b"
             ],
             [
              0.6666666666666666,
              "#ed7953"
             ],
             [
              0.7777777777777778,
              "#fb9f3a"
             ],
             [
              0.8888888888888888,
              "#fdca26"
             ],
             [
              1,
              "#f0f921"
             ]
            ],
            "type": "heatmap"
           }
          ],
          "heatmapgl": [
           {
            "colorbar": {
             "outlinewidth": 0,
             "ticks": ""
            },
            "colorscale": [
             [
              0,
              "#0d0887"
             ],
             [
              0.1111111111111111,
              "#46039f"
             ],
             [
              0.2222222222222222,
              "#7201a8"
             ],
             [
              0.3333333333333333,
              "#9c179e"
             ],
             [
              0.4444444444444444,
              "#bd3786"
             ],
             [
              0.5555555555555556,
              "#d8576b"
             ],
             [
              0.6666666666666666,
              "#ed7953"
             ],
             [
              0.7777777777777778,
              "#fb9f3a"
             ],
             [
              0.8888888888888888,
              "#fdca26"
             ],
             [
              1,
              "#f0f921"
             ]
            ],
            "type": "heatmapgl"
           }
          ],
          "histogram": [
           {
            "marker": {
             "colorbar": {
              "outlinewidth": 0,
              "ticks": ""
             }
            },
            "type": "histogram"
           }
          ],
          "histogram2d": [
           {
            "colorbar": {
             "outlinewidth": 0,
             "ticks": ""
            },
            "colorscale": [
             [
              0,
              "#0d0887"
             ],
             [
              0.1111111111111111,
              "#46039f"
             ],
             [
              0.2222222222222222,
              "#7201a8"
             ],
             [
              0.3333333333333333,
              "#9c179e"
             ],
             [
              0.4444444444444444,
              "#bd3786"
             ],
             [
              0.5555555555555556,
              "#d8576b"
             ],
             [
              0.6666666666666666,
              "#ed7953"
             ],
             [
              0.7777777777777778,
              "#fb9f3a"
             ],
             [
              0.8888888888888888,
              "#fdca26"
             ],
             [
              1,
              "#f0f921"
             ]
            ],
            "type": "histogram2d"
           }
          ],
          "histogram2dcontour": [
           {
            "colorbar": {
             "outlinewidth": 0,
             "ticks": ""
            },
            "colorscale": [
             [
              0,
              "#0d0887"
             ],
             [
              0.1111111111111111,
              "#46039f"
             ],
             [
              0.2222222222222222,
              "#7201a8"
             ],
             [
              0.3333333333333333,
              "#9c179e"
             ],
             [
              0.4444444444444444,
              "#bd3786"
             ],
             [
              0.5555555555555556,
              "#d8576b"
             ],
             [
              0.6666666666666666,
              "#ed7953"
             ],
             [
              0.7777777777777778,
              "#fb9f3a"
             ],
             [
              0.8888888888888888,
              "#fdca26"
             ],
             [
              1,
              "#f0f921"
             ]
            ],
            "type": "histogram2dcontour"
           }
          ],
          "mesh3d": [
           {
            "colorbar": {
             "outlinewidth": 0,
             "ticks": ""
            },
            "type": "mesh3d"
           }
          ],
          "parcoords": [
           {
            "line": {
             "colorbar": {
              "outlinewidth": 0,
              "ticks": ""
             }
            },
            "type": "parcoords"
           }
          ],
          "pie": [
           {
            "automargin": true,
            "type": "pie"
           }
          ],
          "scatter": [
           {
            "marker": {
             "colorbar": {
              "outlinewidth": 0,
              "ticks": ""
             }
            },
            "type": "scatter"
           }
          ],
          "scatter3d": [
           {
            "line": {
             "colorbar": {
              "outlinewidth": 0,
              "ticks": ""
             }
            },
            "marker": {
             "colorbar": {
              "outlinewidth": 0,
              "ticks": ""
             }
            },
            "type": "scatter3d"
           }
          ],
          "scattercarpet": [
           {
            "marker": {
             "colorbar": {
              "outlinewidth": 0,
              "ticks": ""
             }
            },
            "type": "scattercarpet"
           }
          ],
          "scattergeo": [
           {
            "marker": {
             "colorbar": {
              "outlinewidth": 0,
              "ticks": ""
             }
            },
            "type": "scattergeo"
           }
          ],
          "scattergl": [
           {
            "marker": {
             "colorbar": {
              "outlinewidth": 0,
              "ticks": ""
             }
            },
            "type": "scattergl"
           }
          ],
          "scattermapbox": [
           {
            "marker": {
             "colorbar": {
              "outlinewidth": 0,
              "ticks": ""
             }
            },
            "type": "scattermapbox"
           }
          ],
          "scatterpolar": [
           {
            "marker": {
             "colorbar": {
              "outlinewidth": 0,
              "ticks": ""
             }
            },
            "type": "scatterpolar"
           }
          ],
          "scatterpolargl": [
           {
            "marker": {
             "colorbar": {
              "outlinewidth": 0,
              "ticks": ""
             }
            },
            "type": "scatterpolargl"
           }
          ],
          "scatterternary": [
           {
            "marker": {
             "colorbar": {
              "outlinewidth": 0,
              "ticks": ""
             }
            },
            "type": "scatterternary"
           }
          ],
          "surface": [
           {
            "colorbar": {
             "outlinewidth": 0,
             "ticks": ""
            },
            "colorscale": [
             [
              0,
              "#0d0887"
             ],
             [
              0.1111111111111111,
              "#46039f"
             ],
             [
              0.2222222222222222,
              "#7201a8"
             ],
             [
              0.3333333333333333,
              "#9c179e"
             ],
             [
              0.4444444444444444,
              "#bd3786"
             ],
             [
              0.5555555555555556,
              "#d8576b"
             ],
             [
              0.6666666666666666,
              "#ed7953"
             ],
             [
              0.7777777777777778,
              "#fb9f3a"
             ],
             [
              0.8888888888888888,
              "#fdca26"
             ],
             [
              1,
              "#f0f921"
             ]
            ],
            "type": "surface"
           }
          ],
          "table": [
           {
            "cells": {
             "fill": {
              "color": "#EBF0F8"
             },
             "line": {
              "color": "white"
             }
            },
            "header": {
             "fill": {
              "color": "#C8D4E3"
             },
             "line": {
              "color": "white"
             }
            },
            "type": "table"
           }
          ]
         },
         "layout": {
          "annotationdefaults": {
           "arrowcolor": "#2a3f5f",
           "arrowhead": 0,
           "arrowwidth": 1
          },
          "coloraxis": {
           "colorbar": {
            "outlinewidth": 0,
            "ticks": ""
           }
          },
          "colorscale": {
           "diverging": [
            [
             0,
             "#8e0152"
            ],
            [
             0.1,
             "#c51b7d"
            ],
            [
             0.2,
             "#de77ae"
            ],
            [
             0.3,
             "#f1b6da"
            ],
            [
             0.4,
             "#fde0ef"
            ],
            [
             0.5,
             "#f7f7f7"
            ],
            [
             0.6,
             "#e6f5d0"
            ],
            [
             0.7,
             "#b8e186"
            ],
            [
             0.8,
             "#7fbc41"
            ],
            [
             0.9,
             "#4d9221"
            ],
            [
             1,
             "#276419"
            ]
           ],
           "sequential": [
            [
             0,
             "#0d0887"
            ],
            [
             0.1111111111111111,
             "#46039f"
            ],
            [
             0.2222222222222222,
             "#7201a8"
            ],
            [
             0.3333333333333333,
             "#9c179e"
            ],
            [
             0.4444444444444444,
             "#bd3786"
            ],
            [
             0.5555555555555556,
             "#d8576b"
            ],
            [
             0.6666666666666666,
             "#ed7953"
            ],
            [
             0.7777777777777778,
             "#fb9f3a"
            ],
            [
             0.8888888888888888,
             "#fdca26"
            ],
            [
             1,
             "#f0f921"
            ]
           ],
           "sequentialminus": [
            [
             0,
             "#0d0887"
            ],
            [
             0.1111111111111111,
             "#46039f"
            ],
            [
             0.2222222222222222,
             "#7201a8"
            ],
            [
             0.3333333333333333,
             "#9c179e"
            ],
            [
             0.4444444444444444,
             "#bd3786"
            ],
            [
             0.5555555555555556,
             "#d8576b"
            ],
            [
             0.6666666666666666,
             "#ed7953"
            ],
            [
             0.7777777777777778,
             "#fb9f3a"
            ],
            [
             0.8888888888888888,
             "#fdca26"
            ],
            [
             1,
             "#f0f921"
            ]
           ]
          },
          "colorway": [
           "#636efa",
           "#EF553B",
           "#00cc96",
           "#ab63fa",
           "#FFA15A",
           "#19d3f3",
           "#FF6692",
           "#B6E880",
           "#FF97FF",
           "#FECB52"
          ],
          "font": {
           "color": "#2a3f5f"
          },
          "geo": {
           "bgcolor": "white",
           "lakecolor": "white",
           "landcolor": "#E5ECF6",
           "showlakes": true,
           "showland": true,
           "subunitcolor": "white"
          },
          "hoverlabel": {
           "align": "left"
          },
          "hovermode": "closest",
          "mapbox": {
           "style": "light"
          },
          "paper_bgcolor": "white",
          "plot_bgcolor": "#E5ECF6",
          "polar": {
           "angularaxis": {
            "gridcolor": "white",
            "linecolor": "white",
            "ticks": ""
           },
           "bgcolor": "#E5ECF6",
           "radialaxis": {
            "gridcolor": "white",
            "linecolor": "white",
            "ticks": ""
           }
          },
          "scene": {
           "xaxis": {
            "backgroundcolor": "#E5ECF6",
            "gridcolor": "white",
            "gridwidth": 2,
            "linecolor": "white",
            "showbackground": true,
            "ticks": "",
            "zerolinecolor": "white"
           },
           "yaxis": {
            "backgroundcolor": "#E5ECF6",
            "gridcolor": "white",
            "gridwidth": 2,
            "linecolor": "white",
            "showbackground": true,
            "ticks": "",
            "zerolinecolor": "white"
           },
           "zaxis": {
            "backgroundcolor": "#E5ECF6",
            "gridcolor": "white",
            "gridwidth": 2,
            "linecolor": "white",
            "showbackground": true,
            "ticks": "",
            "zerolinecolor": "white"
           }
          },
          "shapedefaults": {
           "line": {
            "color": "#2a3f5f"
           }
          },
          "ternary": {
           "aaxis": {
            "gridcolor": "white",
            "linecolor": "white",
            "ticks": ""
           },
           "baxis": {
            "gridcolor": "white",
            "linecolor": "white",
            "ticks": ""
           },
           "bgcolor": "#E5ECF6",
           "caxis": {
            "gridcolor": "white",
            "linecolor": "white",
            "ticks": ""
           }
          },
          "title": {
           "x": 0.05
          },
          "xaxis": {
           "automargin": true,
           "gridcolor": "white",
           "linecolor": "white",
           "ticks": "",
           "title": {
            "standoff": 15
           },
           "zerolinecolor": "white",
           "zerolinewidth": 2
          },
          "yaxis": {
           "automargin": true,
           "gridcolor": "white",
           "linecolor": "white",
           "ticks": "",
           "title": {
            "standoff": 15
           },
           "zerolinecolor": "white",
           "zerolinewidth": 2
          }
         }
        },
        "title": {
         "text": "Active Cases"
        },
        "xaxis": {
         "anchor": "y",
         "domain": [
          0,
          0.45
         ],
         "matches": "x5",
         "showticklabels": false
        },
        "xaxis2": {
         "anchor": "y2",
         "domain": [
          0.55,
          1
         ],
         "matches": "x6",
         "showticklabels": false
        },
        "xaxis3": {
         "anchor": "y3",
         "domain": [
          0,
          0.45
         ],
         "matches": "x5",
         "showticklabels": false,
         "title": {
          "text": "Number of Days since Outbreak"
         }
        },
        "xaxis4": {
         "anchor": "y4",
         "domain": [
          0.55,
          1
         ],
         "matches": "x6",
         "showticklabels": false,
         "title": {
          "text": "Number of Days since Outbreak"
         }
        },
        "xaxis5": {
         "anchor": "y5",
         "domain": [
          0,
          0.45
         ]
        },
        "xaxis6": {
         "anchor": "y6",
         "domain": [
          0.55,
          1
         ]
        },
        "yaxis": {
         "anchor": "x",
         "domain": [
          0.7777777777777778,
          1
         ]
        },
        "yaxis2": {
         "anchor": "x2",
         "domain": [
          0.7777777777777778,
          1
         ]
        },
        "yaxis3": {
         "anchor": "x3",
         "domain": [
          0.3888888888888889,
          0.6111111111111112
         ]
        },
        "yaxis4": {
         "anchor": "x4",
         "domain": [
          0.3888888888888889,
          0.6111111111111112
         ]
        },
        "yaxis5": {
         "anchor": "x5",
         "domain": [
          0,
          0.22222222222222224
         ]
        },
        "yaxis6": {
         "anchor": "x6",
         "domain": [
          0,
          0.22222222222222224
         ]
        }
       }
      }
     },
     "metadata": {},
     "output_type": "display_data"
    }
   ],
   "source": [
    "fig = make_subplots(rows=3, cols=2,shared_xaxes=True,\n",
    "                   subplot_titles=('Italy','Iran','Korea, South','Germany', 'US', 'Colombia'))\n",
    "\n",
    "fig.update_xaxes(title_text=\"Number of Days since Outbreak\", row=2, col=1)\n",
    "\n",
    "fig.update_xaxes(title_text=\"Number of Days since Outbreak\", row=2, col=2)\n",
    "\n",
    "fig.add_trace(go.Scatter(x=ItalyGrowth.index,y=ItalyGrowth['Total Confirmed Cases'],\n",
    "                         mode='lines+markers',\n",
    "                         name='Active Cases',\n",
    "                         line=dict(color=chartcol,width=2)),\n",
    "                          row=1,col=1)\n",
    "fig.add_trace(go.Scatter(x=IranGrowth.index,y=IranGrowth['Total Confirmed Cases'],\n",
    "                         mode='lines+markers',\n",
    "                         name='Active Cases',\n",
    "                         line=dict(color=chartcol,width=2)),\n",
    "                          row=1,col=2)\n",
    "                           \n",
    "fig.add_trace(go.Scatter(x=SKGrowth.index,y=SKGrowth['Total Confirmed Cases'],\n",
    "                         mode='lines+markers',\n",
    "                         name='Active Cases',\n",
    "                         line=dict(color=chartcol,width=2)),\n",
    "                          row=2,col=1)    \n",
    "                           \n",
    "fig.add_trace(go.Scatter(x=GermanyGrowth.index,y=GermanyGrowth['Total Confirmed Cases'],\n",
    "                         mode='lines+markers',\n",
    "                         name='Active Cases',\n",
    "                         line=dict(color=chartcol,width=2)),\n",
    "                          row=2,col=2)  \n",
    "fig.add_trace(go.Scatter(x=USGrowth.index,y=USGrowth['Total Confirmed Cases'],\n",
    "                         mode='lines+markers',\n",
    "                         name='Active Cases',\n",
    "                         line=dict(color=chartcol,width=2)),\n",
    "                          row=3,col=1)  \n",
    "fig.add_trace(go.Scatter(x=ColombiaGrowth.index,y=ColombiaGrowth['Total Confirmed Cases'],\n",
    "                         mode='lines+markers',\n",
    "                         name='Active Cases',\n",
    "                         line=dict(color=chartcol,width=2)),\n",
    "                          row=3,col=2)  \n",
    "fig.update_layout(showlegend=False,title = 'Active Cases')"
   ]
  },
  {
   "cell_type": "code",
   "execution_count": 28,
   "metadata": {},
   "outputs": [
    {
     "data": {
      "text/html": "<div>\n<style scoped>\n    .dataframe tbody tr th:only-of-type {\n        vertical-align: middle;\n    }\n\n    .dataframe tbody tr th {\n        vertical-align: top;\n    }\n\n    .dataframe thead th {\n        text-align: right;\n    }\n</style>\n<table border=\"1\" class=\"dataframe\">\n  <thead>\n    <tr style=\"text-align: right;\">\n      <th></th>\n      <th>Location</th>\n      <th>Date</th>\n      <th>Total Confirmed Cases</th>\n      <th>Projected Infections</th>\n    </tr>\n  </thead>\n  <tbody>\n    <tr>\n      <th>48</th>\n      <td>Outside China</td>\n      <td>2020-03-10</td>\n      <td>118592</td>\n      <td>1185920</td>\n    </tr>\n    <tr>\n      <th>49</th>\n      <td>Outside China</td>\n      <td>2020-03-11</td>\n      <td>125865</td>\n      <td>1258650</td>\n    </tr>\n    <tr>\n      <th>50</th>\n      <td>Outside China</td>\n      <td>2020-03-12</td>\n      <td>128343</td>\n      <td>1283430</td>\n    </tr>\n    <tr>\n      <th>51</th>\n      <td>Outside China</td>\n      <td>2020-03-13</td>\n      <td>145193</td>\n      <td>1451930</td>\n    </tr>\n    <tr>\n      <th>52</th>\n      <td>Outside China</td>\n      <td>2020-03-14</td>\n      <td>156102</td>\n      <td>1561020</td>\n    </tr>\n  </tbody>\n</table>\n</div>",
      "text/plain": "         Location       Date  Total Confirmed Cases  Projected Infections\n48  Outside China 2020-03-10                 118592               1185920\n49  Outside China 2020-03-11                 125865               1258650\n50  Outside China 2020-03-12                 128343               1283430\n51  Outside China 2020-03-13                 145193               1451930\n52  Outside China 2020-03-14                 156102               1561020"
     },
     "execution_count": 28,
     "metadata": {},
     "output_type": "execute_result"
    }
   ],
   "source": [
    "# Cases by Region (inside or Outside China)\n",
    "TotalCasesLoc=CountryConsolidated.reset_index()\n",
    "TotalCasesLoc.head()\n",
    "TotalCasesLoc['Location']=np.where(TotalCasesLoc['Country/Region']=='Mainland China','Mainland China','Outside China')\n",
    "TotalCasesLocaggregated=TotalCasesLoc.groupby(['Location','Date'])['Total Confirmed Cases'].sum().reset_index()\n",
    "TotalCasesLocaggregated['Projected Infections'] = TotalCasesLocaggregated['Total Confirmed Cases'] * 10\n",
    "TotalCasesLocaggregated.tail(5)"
   ]
  },
  {
   "cell_type": "markdown",
   "metadata": {},
   "source": [
    "## Some Experimenting"
   ]
  },
  {
   "cell_type": "code",
   "execution_count": 29,
   "metadata": {},
   "outputs": [
    {
     "data": {
      "text/html": "<div>\n<style scoped>\n    .dataframe tbody tr th:only-of-type {\n        vertical-align: middle;\n    }\n\n    .dataframe tbody tr th {\n        vertical-align: top;\n    }\n\n    .dataframe thead th {\n        text-align: right;\n    }\n</style>\n<table border=\"1\" class=\"dataframe\">\n  <thead>\n    <tr style=\"text-align: right;\">\n      <th></th>\n      <th>Location</th>\n      <th>Date</th>\n      <th>Total Confirmed Cases</th>\n      <th>Projected Infections</th>\n    </tr>\n  </thead>\n  <tbody>\n    <tr>\n      <th>38</th>\n      <td>Outside China</td>\n      <td>2020-02-29</td>\n      <td>86011</td>\n      <td>860110</td>\n    </tr>\n    <tr>\n      <th>39</th>\n      <td>Outside China</td>\n      <td>2020-03-01</td>\n      <td>88369</td>\n      <td>883690</td>\n    </tr>\n    <tr>\n      <th>40</th>\n      <td>Outside China</td>\n      <td>2020-03-02</td>\n      <td>90306</td>\n      <td>903060</td>\n    </tr>\n    <tr>\n      <th>41</th>\n      <td>Outside China</td>\n      <td>2020-03-03</td>\n      <td>92840</td>\n      <td>928400</td>\n    </tr>\n    <tr>\n      <th>42</th>\n      <td>Outside China</td>\n      <td>2020-03-04</td>\n      <td>95120</td>\n      <td>951200</td>\n    </tr>\n    <tr>\n      <th>43</th>\n      <td>Outside China</td>\n      <td>2020-03-05</td>\n      <td>97882</td>\n      <td>978820</td>\n    </tr>\n    <tr>\n      <th>44</th>\n      <td>Outside China</td>\n      <td>2020-03-06</td>\n      <td>101784</td>\n      <td>1017840</td>\n    </tr>\n    <tr>\n      <th>45</th>\n      <td>Outside China</td>\n      <td>2020-03-07</td>\n      <td>105821</td>\n      <td>1058210</td>\n    </tr>\n    <tr>\n      <th>46</th>\n      <td>Outside China</td>\n      <td>2020-03-08</td>\n      <td>109795</td>\n      <td>1097950</td>\n    </tr>\n    <tr>\n      <th>47</th>\n      <td>Outside China</td>\n      <td>2020-03-09</td>\n      <td>113561</td>\n      <td>1135610</td>\n    </tr>\n    <tr>\n      <th>48</th>\n      <td>Outside China</td>\n      <td>2020-03-10</td>\n      <td>118592</td>\n      <td>1185920</td>\n    </tr>\n    <tr>\n      <th>49</th>\n      <td>Outside China</td>\n      <td>2020-03-11</td>\n      <td>125865</td>\n      <td>1258650</td>\n    </tr>\n    <tr>\n      <th>50</th>\n      <td>Outside China</td>\n      <td>2020-03-12</td>\n      <td>128343</td>\n      <td>1283430</td>\n    </tr>\n    <tr>\n      <th>51</th>\n      <td>Outside China</td>\n      <td>2020-03-13</td>\n      <td>145193</td>\n      <td>1451930</td>\n    </tr>\n    <tr>\n      <th>52</th>\n      <td>Outside China</td>\n      <td>2020-03-14</td>\n      <td>156102</td>\n      <td>1561020</td>\n    </tr>\n  </tbody>\n</table>\n</div>",
      "text/plain": "         Location       Date  Total Confirmed Cases  Projected Infections\n38  Outside China 2020-02-29                  86011                860110\n39  Outside China 2020-03-01                  88369                883690\n40  Outside China 2020-03-02                  90306                903060\n41  Outside China 2020-03-03                  92840                928400\n42  Outside China 2020-03-04                  95120                951200\n43  Outside China 2020-03-05                  97882                978820\n44  Outside China 2020-03-06                 101784               1017840\n45  Outside China 2020-03-07                 105821               1058210\n46  Outside China 2020-03-08                 109795               1097950\n47  Outside China 2020-03-09                 113561               1135610\n48  Outside China 2020-03-10                 118592               1185920\n49  Outside China 2020-03-11                 125865               1258650\n50  Outside China 2020-03-12                 128343               1283430\n51  Outside China 2020-03-13                 145193               1451930\n52  Outside China 2020-03-14                 156102               1561020"
     },
     "execution_count": 29,
     "metadata": {},
     "output_type": "execute_result"
    }
   ],
   "source": [
    "# Cases by Region (inside or Outside China)\n",
    "TotalCasesLoc=CountryConsolidated.reset_index()\n",
    "TotalCasesLoc.head()\n",
    "TotalCasesLoc['Location']=np.where(TotalCasesLoc['Country/Region']=='Mainland China','Mainland China','Outside China')\n",
    "TotalCasesLocaggregated=TotalCasesLoc.groupby(['Location','Date'])['Total Confirmed Cases'].sum().reset_index()\n",
    "TotalCasesLocaggregated['Projected Infections'] = TotalCasesLocaggregated['Total Confirmed Cases'] * 10\n",
    "TotalCasesLocaggregated.tail(15)"
   ]
  },
  {
   "cell_type": "code",
   "execution_count": 30,
   "metadata": {},
   "outputs": [
    {
     "data": {
      "text/plain": "Total Confirmed Cases                 156102.000\nDaily New Cases                        10909.000\nDaily New Deaths                         415.000\nTotal Deaths                            5819.000\nTotal Recoveries                       72624.000\nDaily New Recoveries                    2373.000\nActive Cases                           77659.000\nShare of Recoveries - Closed Cases         0.930\nDeath to Cases Ratio                       0.037\nName: 2020-03-14 00:00:00, dtype: float64"
     },
     "execution_count": 30,
     "metadata": {},
     "output_type": "execute_result"
    }
   ],
   "source": [
    "GlobalTotals.iloc[-1]"
   ]
  },
  {
   "cell_type": "code",
   "execution_count": 31,
   "metadata": {},
   "outputs": [
    {
     "data": {
      "text/plain": "[<matplotlib.lines.Line2D at 0x7f8698447490>]"
     },
     "execution_count": 31,
     "metadata": {},
     "output_type": "execute_result"
    },
    {
     "data": {
      "image/png": "[encoded data removed]",
      "image/svg+xml": "<?xml version=\"1.0\" encoding=\"utf-8\" standalone=\"no\"?>\n<!DOCTYPE svg PUBLIC \"-//W3C//DTD SVG 1.1//EN\"\n  \"http://www.w3.org/Graphics/SVG/1.1/DTD/svg11.dtd\">\n<!-- Created with matplotlib (http://matplotlib.org/) -->\n<svg height=\"244pt\" version=\"1.1\" viewBox=\"0 0 380 244\" width=\"380pt\" xmlns=\"http://www.w3.org/2000/svg\" xmlns:xlink=\"http://www.w3.org/1999/xlink\">\n <defs>\n  <style type=\"text/css\">\n*{stroke-linecap:butt;stroke-linejoin:round;}\n  </style>\n </defs>\n <g id=\"figure_1\">\n  <g id=\"patch_1\">\n   <path d=\"M 0 244.661875 \nL 380.504688 244.661875 \nL 380.504688 0 \nL 0 0 \nz\n\" style=\"fill:#ffffff;\"/>\n  </g>\n  <g id=\"axes_1\">\n   <g id=\"patch_2\">\n    <path d=\"M 38.504688 224.64 \nL 373.304688 224.64 \nL 373.304688 7.2 \nL 38.504688 7.2 \nz\n\" style=\"fill:#eaeaf2;\"/>\n   </g>\n   <g id=\"matplotlib.axis_1\">\n    <g id=\"xtick_1\">\n     <g id=\"line2d_1\"/>\n     <g id=\"text_1\">\n      <!-- 2020-02-24 -->\n      <defs>\n       <path d=\"M 5.03125 0 \nL 5.03125 6.203125 \nQ 7.515625 11.921875 11.109375 16.28125 \nQ 14.703125 20.65625 18.65625 24.1875 \nQ 22.609375 27.734375 26.484375 30.765625 \nQ 30.375 33.796875 33.5 36.8125 \nQ 36.625 39.84375 38.546875 43.15625 \nQ 40.484375 46.484375 40.484375 50.6875 \nQ 40.484375 56.34375 37.15625 59.46875 \nQ 33.84375 62.59375 27.9375 62.59375 \nQ 22.3125 62.59375 18.671875 59.546875 \nQ 15.046875 56.5 14.40625 50.984375 \nL 5.421875 51.8125 \nQ 6.390625 60.0625 12.421875 64.9375 \nQ 18.453125 69.828125 27.9375 69.828125 \nQ 38.328125 69.828125 43.921875 64.921875 \nQ 49.515625 60.015625 49.515625 50.984375 \nQ 49.515625 46.96875 47.671875 43.015625 \nQ 45.84375 39.0625 42.234375 35.109375 \nQ 38.625 31.15625 28.421875 22.859375 \nQ 22.796875 18.265625 19.46875 14.578125 \nQ 16.15625 10.890625 14.703125 7.46875 \nL 50.59375 7.46875 \nL 50.59375 0 \nz\n\" id=\"LiberationSans-32\"/>\n       <path d=\"M 51.703125 34.421875 \nQ 51.703125 17.1875 45.625 8.09375 \nQ 39.546875 -0.984375 27.6875 -0.984375 \nQ 15.828125 -0.984375 9.859375 8.046875 \nQ 3.90625 17.09375 3.90625 34.421875 \nQ 3.90625 52.15625 9.6875 60.984375 \nQ 15.484375 69.828125 27.984375 69.828125 \nQ 40.140625 69.828125 45.921875 60.890625 \nQ 51.703125 51.953125 51.703125 34.421875 \nz\nM 42.78125 34.421875 \nQ 42.78125 49.3125 39.328125 56 \nQ 35.890625 62.703125 27.984375 62.703125 \nQ 19.875 62.703125 16.328125 56.109375 \nQ 12.796875 49.515625 12.796875 34.421875 \nQ 12.796875 19.78125 16.375 12.984375 \nQ 19.96875 6.203125 27.78125 6.203125 \nQ 35.546875 6.203125 39.15625 13.125 \nQ 42.78125 20.0625 42.78125 34.421875 \nz\n\" id=\"LiberationSans-30\"/>\n       <path d=\"M 4.4375 22.65625 \nL 4.4375 30.46875 \nL 28.859375 30.46875 \nL 28.859375 22.65625 \nz\n\" id=\"LiberationSans-2d\"/>\n       <path d=\"M 43.015625 15.578125 \nL 43.015625 0 \nL 34.71875 0 \nL 34.71875 15.578125 \nL 2.296875 15.578125 \nL 2.296875 22.40625 \nL 33.796875 68.796875 \nL 43.015625 68.796875 \nL 43.015625 22.515625 \nL 52.6875 22.515625 \nL 52.6875 15.578125 \nz\nM 34.71875 58.890625 \nQ 34.625 58.59375 33.34375 56.296875 \nQ 32.078125 54 31.453125 53.078125 \nL 13.8125 27.09375 \nL 11.1875 23.484375 \nL 10.40625 22.515625 \nL 34.71875 22.515625 \nz\n\" id=\"LiberationSans-34\"/>\n      </defs>\n      <g style=\"fill:#262626;\" transform=\"translate(28.149432 235.386875)scale(0.1 -0.1)\">\n       <use xlink:href=\"#LiberationSans-32\"/>\n       <use x=\"55.615234\" xlink:href=\"#LiberationSans-30\"/>\n       <use x=\"111.230469\" xlink:href=\"#LiberationSans-32\"/>\n       <use x=\"166.845703\" xlink:href=\"#LiberationSans-30\"/>\n       <use x=\"222.460938\" xlink:href=\"#LiberationSans-2d\"/>\n       <use x=\"255.761719\" xlink:href=\"#LiberationSans-30\"/>\n       <use x=\"311.376953\" xlink:href=\"#LiberationSans-32\"/>\n       <use x=\"366.992188\" xlink:href=\"#LiberationSans-2d\"/>\n       <use x=\"400.292969\" xlink:href=\"#LiberationSans-32\"/>\n       <use x=\"455.908203\" xlink:href=\"#LiberationSans-34\"/>\n      </g>\n     </g>\n    </g>\n    <g id=\"xtick_2\">\n     <g id=\"line2d_2\"/>\n     <g id=\"text_2\">\n      <!-- 2020-02-26 -->\n      <defs>\n       <path d=\"M 51.21875 22.515625 \nQ 51.21875 11.625 45.3125 5.3125 \nQ 39.40625 -0.984375 29 -0.984375 \nQ 17.390625 -0.984375 11.234375 7.65625 \nQ 5.078125 16.3125 5.078125 32.8125 \nQ 5.078125 50.6875 11.46875 60.25 \nQ 17.875 69.828125 29.6875 69.828125 \nQ 45.265625 69.828125 49.3125 55.8125 \nL 40.921875 54.296875 \nQ 38.328125 62.703125 29.59375 62.703125 \nQ 22.078125 62.703125 17.9375 55.6875 \nQ 13.8125 48.6875 13.8125 35.40625 \nQ 16.21875 39.84375 20.5625 42.15625 \nQ 24.90625 44.484375 30.515625 44.484375 \nQ 40.046875 44.484375 45.625 38.515625 \nQ 51.21875 32.5625 51.21875 22.515625 \nz\nM 42.28125 22.125 \nQ 42.28125 29.59375 38.625 33.640625 \nQ 34.96875 37.703125 28.421875 37.703125 \nQ 22.265625 37.703125 18.484375 34.109375 \nQ 14.703125 30.515625 14.703125 24.21875 \nQ 14.703125 16.265625 18.625 11.1875 \nQ 22.5625 6.109375 28.71875 6.109375 \nQ 35.0625 6.109375 38.671875 10.375 \nQ 42.28125 14.65625 42.28125 22.125 \nz\n\" id=\"LiberationSans-36\"/>\n      </defs>\n      <g style=\"fill:#262626;\" transform=\"translate(60.187709 235.386875)scale(0.1 -0.1)\">\n       <use xlink:href=\"#LiberationSans-32\"/>\n       <use x=\"55.615234\" xlink:href=\"#LiberationSans-30\"/>\n       <use x=\"111.230469\" xlink:href=\"#LiberationSans-32\"/>\n       <use x=\"166.845703\" xlink:href=\"#LiberationSans-30\"/>\n       <use x=\"222.460938\" xlink:href=\"#LiberationSans-2d\"/>\n       <use x=\"255.761719\" xlink:href=\"#LiberationSans-30\"/>\n       <use x=\"311.376953\" xlink:href=\"#LiberationSans-32\"/>\n       <use x=\"366.992188\" xlink:href=\"#LiberationSans-2d\"/>\n       <use x=\"400.292969\" xlink:href=\"#LiberationSans-32\"/>\n       <use x=\"455.908203\" xlink:href=\"#LiberationSans-36\"/>\n      </g>\n     </g>\n    </g>\n    <g id=\"xtick_3\">\n     <g id=\"line2d_3\"/>\n     <g id=\"text_3\">\n      <!-- 2020-02-28 -->\n      <defs>\n       <path d=\"M 51.265625 19.1875 \nQ 51.265625 9.671875 45.203125 4.34375 \nQ 39.15625 -0.984375 27.828125 -0.984375 \nQ 16.796875 -0.984375 10.5625 4.234375 \nQ 4.34375 9.46875 4.34375 19.09375 \nQ 4.34375 25.828125 8.203125 30.421875 \nQ 12.0625 35.015625 18.0625 35.984375 \nL 18.0625 36.1875 \nQ 12.453125 37.5 9.203125 41.890625 \nQ 5.953125 46.296875 5.953125 52.203125 \nQ 5.953125 60.0625 11.828125 64.9375 \nQ 17.71875 69.828125 27.640625 69.828125 \nQ 37.796875 69.828125 43.671875 65.03125 \nQ 49.5625 60.25 49.5625 52.09375 \nQ 49.5625 46.1875 46.28125 41.796875 \nQ 43.015625 37.40625 37.359375 36.28125 \nL 37.359375 36.078125 \nQ 43.953125 35.015625 47.609375 30.5 \nQ 51.265625 25.984375 51.265625 19.1875 \nz\nM 40.4375 51.609375 \nQ 40.4375 63.28125 27.640625 63.28125 \nQ 21.4375 63.28125 18.1875 60.34375 \nQ 14.9375 57.421875 14.9375 51.609375 \nQ 14.9375 45.703125 18.28125 42.59375 \nQ 21.625 39.5 27.734375 39.5 \nQ 33.9375 39.5 37.1875 42.359375 \nQ 40.4375 45.21875 40.4375 51.609375 \nz\nM 42.140625 20.015625 \nQ 42.140625 26.421875 38.328125 29.65625 \nQ 34.515625 32.90625 27.640625 32.90625 \nQ 20.953125 32.90625 17.1875 29.40625 \nQ 13.421875 25.921875 13.421875 19.828125 \nQ 13.421875 5.609375 27.9375 5.609375 \nQ 35.109375 5.609375 38.625 9.046875 \nQ 42.140625 12.5 42.140625 20.015625 \nz\n\" id=\"LiberationSans-38\"/>\n      </defs>\n      <g style=\"fill:#262626;\" transform=\"translate(92.225987 235.386875)scale(0.1 -0.1)\">\n       <use xlink:href=\"#LiberationSans-32\"/>\n       <use x=\"55.615234\" xlink:href=\"#LiberationSans-30\"/>\n       <use x=\"111.230469\" xlink:href=\"#LiberationSans-32\"/>\n       <use x=\"166.845703\" xlink:href=\"#LiberationSans-30\"/>\n       <use x=\"222.460938\" xlink:href=\"#LiberationSans-2d\"/>\n       <use x=\"255.761719\" xlink:href=\"#LiberationSans-30\"/>\n       <use x=\"311.376953\" xlink:href=\"#LiberationSans-32\"/>\n       <use x=\"366.992188\" xlink:href=\"#LiberationSans-2d\"/>\n       <use x=\"400.292969\" xlink:href=\"#LiberationSans-32\"/>\n       <use x=\"455.908203\" xlink:href=\"#LiberationSans-38\"/>\n      </g>\n     </g>\n    </g>\n    <g id=\"xtick_4\">\n     <g id=\"line2d_4\"/>\n     <g id=\"text_4\">\n      <!-- 2020-03-01 -->\n      <defs>\n       <path d=\"M 51.21875 19 \nQ 51.21875 9.46875 45.15625 4.234375 \nQ 39.109375 -0.984375 27.875 -0.984375 \nQ 17.4375 -0.984375 11.203125 3.734375 \nQ 4.984375 8.453125 3.8125 17.671875 \nL 12.890625 18.5 \nQ 14.65625 6.296875 27.875 6.296875 \nQ 34.515625 6.296875 38.296875 9.5625 \nQ 42.09375 12.84375 42.09375 19.28125 \nQ 42.09375 24.90625 37.765625 28.046875 \nQ 33.453125 31.203125 25.296875 31.203125 \nL 20.3125 31.203125 \nL 20.3125 38.8125 \nL 25.09375 38.8125 \nQ 32.328125 38.8125 36.296875 41.96875 \nQ 40.28125 45.125 40.28125 50.6875 \nQ 40.28125 56.203125 37.03125 59.390625 \nQ 33.796875 62.59375 27.390625 62.59375 \nQ 21.578125 62.59375 17.984375 59.609375 \nQ 14.40625 56.640625 13.8125 51.21875 \nL 4.984375 51.90625 \nQ 5.953125 60.359375 11.984375 65.09375 \nQ 18.015625 69.828125 27.484375 69.828125 \nQ 37.84375 69.828125 43.578125 65.015625 \nQ 49.3125 60.203125 49.3125 51.609375 \nQ 49.3125 45.015625 45.625 40.890625 \nQ 41.9375 36.765625 34.90625 35.296875 \nL 34.90625 35.109375 \nQ 42.625 34.28125 46.921875 29.9375 \nQ 51.21875 25.59375 51.21875 19 \nz\n\" id=\"LiberationSans-33\"/>\n       <path d=\"M 7.625 0 \nL 7.625 7.46875 \nL 25.140625 7.46875 \nL 25.140625 60.40625 \nL 9.625 49.3125 \nL 9.625 57.625 \nL 25.875 68.796875 \nL 33.984375 68.796875 \nL 33.984375 7.46875 \nL 50.734375 7.46875 \nL 50.734375 0 \nz\n\" id=\"LiberationSans-31\"/>\n      </defs>\n      <g style=\"fill:#262626;\" transform=\"translate(124.264264 235.386875)scale(0.1 -0.1)\">\n       <use xlink:href=\"#LiberationSans-32\"/>\n       <use x=\"55.615234\" xlink:href=\"#LiberationSans-30\"/>\n       <use x=\"111.230469\" xlink:href=\"#LiberationSans-32\"/>\n       <use x=\"166.845703\" xlink:href=\"#LiberationSans-30\"/>\n       <use x=\"222.460938\" xlink:href=\"#LiberationSans-2d\"/>\n       <use x=\"255.761719\" xlink:href=\"#LiberationSans-30\"/>\n       <use x=\"311.376953\" xlink:href=\"#LiberationSans-33\"/>\n       <use x=\"366.992188\" xlink:href=\"#LiberationSans-2d\"/>\n       <use x=\"400.292969\" xlink:href=\"#LiberationSans-30\"/>\n       <use x=\"455.908203\" xlink:href=\"#LiberationSans-31\"/>\n      </g>\n     </g>\n    </g>\n    <g id=\"xtick_5\">\n     <g id=\"line2d_5\"/>\n     <g id=\"text_5\">\n      <!-- 2020-03-03 -->\n      <g style=\"fill:#262626;\" transform=\"translate(156.302542 235.386875)scale(0.1 -0.1)\">\n       <use xlink:href=\"#LiberationSans-32\"/>\n       <use x=\"55.615234\" xlink:href=\"#LiberationSans-30\"/>\n       <use x=\"111.230469\" xlink:href=\"#LiberationSans-32\"/>\n       <use x=\"166.845703\" xlink:href=\"#LiberationSans-30\"/>\n       <use x=\"222.460938\" xlink:href=\"#LiberationSans-2d\"/>\n       <use x=\"255.761719\" xlink:href=\"#LiberationSans-30\"/>\n       <use x=\"311.376953\" xlink:href=\"#LiberationSans-33\"/>\n       <use x=\"366.992188\" xlink:href=\"#LiberationSans-2d\"/>\n       <use x=\"400.292969\" xlink:href=\"#LiberationSans-30\"/>\n       <use x=\"455.908203\" xlink:href=\"#LiberationSans-33\"/>\n      </g>\n     </g>\n    </g>\n    <g id=\"xtick_6\">\n     <g id=\"line2d_6\"/>\n     <g id=\"text_6\">\n      <!-- 2020-03-05 -->\n      <defs>\n       <path d=\"M 51.421875 22.40625 \nQ 51.421875 11.53125 44.953125 5.265625 \nQ 38.484375 -0.984375 27 -0.984375 \nQ 17.390625 -0.984375 11.46875 3.21875 \nQ 5.5625 7.421875 4 15.375 \nL 12.890625 16.40625 \nQ 15.671875 6.203125 27.203125 6.203125 \nQ 34.28125 6.203125 38.28125 10.46875 \nQ 42.28125 14.75 42.28125 22.21875 \nQ 42.28125 28.71875 38.25 32.71875 \nQ 34.234375 36.71875 27.390625 36.71875 \nQ 23.828125 36.71875 20.75 35.59375 \nQ 17.671875 34.46875 14.59375 31.78125 \nL 6 31.78125 \nL 8.296875 68.796875 \nL 47.40625 68.796875 \nL 47.40625 61.328125 \nL 16.3125 61.328125 \nL 14.984375 39.5 \nQ 20.703125 43.890625 29.203125 43.890625 \nQ 39.359375 43.890625 45.390625 37.9375 \nQ 51.421875 31.984375 51.421875 22.40625 \nz\n\" id=\"LiberationSans-35\"/>\n      </defs>\n      <g style=\"fill:#262626;\" transform=\"translate(188.340819 235.386875)scale(0.1 -0.1)\">\n       <use xlink:href=\"#LiberationSans-32\"/>\n       <use x=\"55.615234\" xlink:href=\"#LiberationSans-30\"/>\n       <use x=\"111.230469\" xlink:href=\"#LiberationSans-32\"/>\n       <use x=\"166.845703\" xlink:href=\"#LiberationSans-30\"/>\n       <use x=\"222.460938\" xlink:href=\"#LiberationSans-2d\"/>\n       <use x=\"255.761719\" xlink:href=\"#LiberationSans-30\"/>\n       <use x=\"311.376953\" xlink:href=\"#LiberationSans-33\"/>\n       <use x=\"366.992188\" xlink:href=\"#LiberationSans-2d\"/>\n       <use x=\"400.292969\" xlink:href=\"#LiberationSans-30\"/>\n       <use x=\"455.908203\" xlink:href=\"#LiberationSans-35\"/>\n      </g>\n     </g>\n    </g>\n    <g id=\"xtick_7\">\n     <g id=\"line2d_7\"/>\n     <g id=\"text_7\">\n      <!-- 2020-03-07 -->\n      <defs>\n       <path d=\"M 50.59375 61.671875 \nQ 40.046875 45.5625 35.6875 36.421875 \nQ 31.34375 27.296875 29.171875 18.40625 \nQ 27 9.515625 27 0 \nL 17.828125 0 \nQ 17.828125 13.1875 23.40625 27.75 \nQ 29 42.328125 42.09375 61.328125 \nL 5.125 61.328125 \nL 5.125 68.796875 \nL 50.59375 68.796875 \nz\n\" id=\"LiberationSans-37\"/>\n      </defs>\n      <g style=\"fill:#262626;\" transform=\"translate(220.379097 235.386875)scale(0.1 -0.1)\">\n       <use xlink:href=\"#LiberationSans-32\"/>\n       <use x=\"55.615234\" xlink:href=\"#LiberationSans-30\"/>\n       <use x=\"111.230469\" xlink:href=\"#LiberationSans-32\"/>\n       <use x=\"166.845703\" xlink:href=\"#LiberationSans-30\"/>\n       <use x=\"222.460938\" xlink:href=\"#LiberationSans-2d\"/>\n       <use x=\"255.761719\" xlink:href=\"#LiberationSans-30\"/>\n       <use x=\"311.376953\" xlink:href=\"#LiberationSans-33\"/>\n       <use x=\"366.992188\" xlink:href=\"#LiberationSans-2d\"/>\n       <use x=\"400.292969\" xlink:href=\"#LiberationSans-30\"/>\n       <use x=\"455.908203\" xlink:href=\"#LiberationSans-37\"/>\n      </g>\n     </g>\n    </g>\n    <g id=\"xtick_8\">\n     <g id=\"line2d_8\"/>\n     <g id=\"text_8\">\n      <!-- 2020-03-09 -->\n      <defs>\n       <path d=\"M 50.875 35.796875 \nQ 50.875 18.0625 44.40625 8.53125 \nQ 37.9375 -0.984375 25.984375 -0.984375 \nQ 17.921875 -0.984375 13.0625 2.40625 \nQ 8.203125 5.8125 6.109375 13.375 \nL 14.5 14.703125 \nQ 17.140625 6.109375 26.125 6.109375 \nQ 33.6875 6.109375 37.84375 13.140625 \nQ 42 20.171875 42.1875 33.203125 \nQ 40.234375 28.8125 35.5 26.140625 \nQ 30.765625 23.484375 25.09375 23.484375 \nQ 15.828125 23.484375 10.25 29.828125 \nQ 4.6875 36.1875 4.6875 46.6875 \nQ 4.6875 57.46875 10.734375 63.640625 \nQ 16.796875 69.828125 27.59375 69.828125 \nQ 39.0625 69.828125 44.96875 61.328125 \nQ 50.875 52.828125 50.875 35.796875 \nz\nM 41.3125 44.28125 \nQ 41.3125 52.59375 37.5 57.640625 \nQ 33.6875 62.703125 27.296875 62.703125 \nQ 20.953125 62.703125 17.28125 58.375 \nQ 13.625 54.046875 13.625 46.6875 \nQ 13.625 39.15625 17.28125 34.78125 \nQ 20.953125 30.421875 27.203125 30.421875 \nQ 31 30.421875 34.265625 32.15625 \nQ 37.546875 33.890625 39.421875 37.0625 \nQ 41.3125 40.234375 41.3125 44.28125 \nz\n\" id=\"LiberationSans-39\"/>\n      </defs>\n      <g style=\"fill:#262626;\" transform=\"translate(252.417374 235.386875)scale(0.1 -0.1)\">\n       <use xlink:href=\"#LiberationSans-32\"/>\n       <use x=\"55.615234\" xlink:href=\"#LiberationSans-30\"/>\n       <use x=\"111.230469\" xlink:href=\"#LiberationSans-32\"/>\n       <use x=\"166.845703\" xlink:href=\"#LiberationSans-30\"/>\n       <use x=\"222.460938\" xlink:href=\"#LiberationSans-2d\"/>\n       <use x=\"255.761719\" xlink:href=\"#LiberationSans-30\"/>\n       <use x=\"311.376953\" xlink:href=\"#LiberationSans-33\"/>\n       <use x=\"366.992188\" xlink:href=\"#LiberationSans-2d\"/>\n       <use x=\"400.292969\" xlink:href=\"#LiberationSans-30\"/>\n       <use x=\"455.908203\" xlink:href=\"#LiberationSans-39\"/>\n      </g>\n     </g>\n    </g>\n    <g id=\"xtick_9\">\n     <g id=\"line2d_9\"/>\n     <g id=\"text_9\">\n      <!-- 2020-03-11 -->\n      <g style=\"fill:#262626;\" transform=\"translate(284.461121 235.386875)scale(0.1 -0.1)\">\n       <use xlink:href=\"#LiberationSans-32\"/>\n       <use x=\"55.615234\" xlink:href=\"#LiberationSans-30\"/>\n       <use x=\"111.230469\" xlink:href=\"#LiberationSans-32\"/>\n       <use x=\"166.845703\" xlink:href=\"#LiberationSans-30\"/>\n       <use x=\"222.460938\" xlink:href=\"#LiberationSans-2d\"/>\n       <use x=\"255.761719\" xlink:href=\"#LiberationSans-30\"/>\n       <use x=\"311.376953\" xlink:href=\"#LiberationSans-33\"/>\n       <use x=\"366.992188\" xlink:href=\"#LiberationSans-2d\"/>\n       <use x=\"400.292969\" xlink:href=\"#LiberationSans-31\"/>\n       <use x=\"455.798828\" xlink:href=\"#LiberationSans-31\"/>\n      </g>\n     </g>\n    </g>\n    <g id=\"xtick_10\">\n     <g id=\"line2d_10\"/>\n     <g id=\"text_10\">\n      <!-- 2020-03-13 -->\n      <g style=\"fill:#262626;\" transform=\"translate(316.493929 235.386875)scale(0.1 -0.1)\">\n       <use xlink:href=\"#LiberationSans-32\"/>\n       <use x=\"55.615234\" xlink:href=\"#LiberationSans-30\"/>\n       <use x=\"111.230469\" xlink:href=\"#LiberationSans-32\"/>\n       <use x=\"166.845703\" xlink:href=\"#LiberationSans-30\"/>\n       <use x=\"222.460938\" xlink:href=\"#LiberationSans-2d\"/>\n       <use x=\"255.761719\" xlink:href=\"#LiberationSans-30\"/>\n       <use x=\"311.376953\" xlink:href=\"#LiberationSans-33\"/>\n       <use x=\"366.992188\" xlink:href=\"#LiberationSans-2d\"/>\n       <use x=\"400.292969\" xlink:href=\"#LiberationSans-31\"/>\n       <use x=\"455.908203\" xlink:href=\"#LiberationSans-33\"/>\n      </g>\n     </g>\n    </g>\n   </g>\n   <g id=\"matplotlib.axis_2\">\n    <g id=\"ytick_1\">\n     <g id=\"line2d_11\"/>\n     <g id=\"text_11\">\n      <!-- 0 -->\n      <g style=\"fill:#262626;\" transform=\"translate(29.44375 225.716334)scale(0.1 -0.1)\">\n       <use xlink:href=\"#LiberationSans-30\"/>\n      </g>\n     </g>\n    </g>\n    <g id=\"ytick_2\">\n     <g id=\"line2d_12\"/>\n     <g id=\"text_12\">\n      <!-- 2000 -->\n      <g style=\"fill:#262626;\" transform=\"translate(12.760938 201.382891)scale(0.1 -0.1)\">\n       <use xlink:href=\"#LiberationSans-32\"/>\n       <use x=\"55.615234\" xlink:href=\"#LiberationSans-30\"/>\n       <use x=\"111.230469\" xlink:href=\"#LiberationSans-30\"/>\n       <use x=\"166.845703\" xlink:href=\"#LiberationSans-30\"/>\n      </g>\n     </g>\n    </g>\n    <g id=\"ytick_3\">\n     <g id=\"line2d_13\"/>\n     <g id=\"text_13\">\n      <!-- 4000 -->\n      <g style=\"fill:#262626;\" transform=\"translate(12.760938 177.049448)scale(0.1 -0.1)\">\n       <use xlink:href=\"#LiberationSans-34\"/>\n       <use x=\"55.615234\" xlink:href=\"#LiberationSans-30\"/>\n       <use x=\"111.230469\" xlink:href=\"#LiberationSans-30\"/>\n       <use x=\"166.845703\" xlink:href=\"#LiberationSans-30\"/>\n      </g>\n     </g>\n    </g>\n    <g id=\"ytick_4\">\n     <g id=\"line2d_14\"/>\n     <g id=\"text_14\">\n      <!-- 6000 -->\n      <g style=\"fill:#262626;\" transform=\"translate(12.760938 152.716004)scale(0.1 -0.1)\">\n       <use xlink:href=\"#LiberationSans-36\"/>\n       <use x=\"55.615234\" xlink:href=\"#LiberationSans-30\"/>\n       <use x=\"111.230469\" xlink:href=\"#LiberationSans-30\"/>\n       <use x=\"166.845703\" xlink:href=\"#LiberationSans-30\"/>\n      </g>\n     </g>\n    </g>\n    <g id=\"ytick_5\">\n     <g id=\"line2d_15\"/>\n     <g id=\"text_15\">\n      <!-- 8000 -->\n      <g style=\"fill:#262626;\" transform=\"translate(12.760938 128.382561)scale(0.1 -0.1)\">\n       <use xlink:href=\"#LiberationSans-38\"/>\n       <use x=\"55.615234\" xlink:href=\"#LiberationSans-30\"/>\n       <use x=\"111.230469\" xlink:href=\"#LiberationSans-30\"/>\n       <use x=\"166.845703\" xlink:href=\"#LiberationSans-30\"/>\n      </g>\n     </g>\n    </g>\n    <g id=\"ytick_6\">\n     <g id=\"line2d_16\"/>\n     <g id=\"text_16\">\n      <!-- 10000 -->\n      <g style=\"fill:#262626;\" transform=\"translate(7.2 104.049117)scale(0.1 -0.1)\">\n       <use xlink:href=\"#LiberationSans-31\"/>\n       <use x=\"55.615234\" xlink:href=\"#LiberationSans-30\"/>\n       <use x=\"111.230469\" xlink:href=\"#LiberationSans-30\"/>\n       <use x=\"166.845703\" xlink:href=\"#LiberationSans-30\"/>\n       <use x=\"222.460938\" xlink:href=\"#LiberationSans-30\"/>\n      </g>\n     </g>\n    </g>\n    <g id=\"ytick_7\">\n     <g id=\"line2d_17\"/>\n     <g id=\"text_17\">\n      <!-- 12000 -->\n      <g style=\"fill:#262626;\" transform=\"translate(7.2 79.715674)scale(0.1 -0.1)\">\n       <use xlink:href=\"#LiberationSans-31\"/>\n       <use x=\"55.615234\" xlink:href=\"#LiberationSans-32\"/>\n       <use x=\"111.230469\" xlink:href=\"#LiberationSans-30\"/>\n       <use x=\"166.845703\" xlink:href=\"#LiberationSans-30\"/>\n       <use x=\"222.460938\" xlink:href=\"#LiberationSans-30\"/>\n      </g>\n     </g>\n    </g>\n    <g id=\"ytick_8\">\n     <g id=\"line2d_18\"/>\n     <g id=\"text_18\">\n      <!-- 14000 -->\n      <g style=\"fill:#262626;\" transform=\"translate(7.2 55.382231)scale(0.1 -0.1)\">\n       <use xlink:href=\"#LiberationSans-31\"/>\n       <use x=\"55.615234\" xlink:href=\"#LiberationSans-34\"/>\n       <use x=\"111.230469\" xlink:href=\"#LiberationSans-30\"/>\n       <use x=\"166.845703\" xlink:href=\"#LiberationSans-30\"/>\n       <use x=\"222.460938\" xlink:href=\"#LiberationSans-30\"/>\n      </g>\n     </g>\n    </g>\n    <g id=\"ytick_9\">\n     <g id=\"line2d_19\"/>\n     <g id=\"text_19\">\n      <!-- 16000 -->\n      <g style=\"fill:#262626;\" transform=\"translate(7.2 31.048787)scale(0.1 -0.1)\">\n       <use xlink:href=\"#LiberationSans-31\"/>\n       <use x=\"55.615234\" xlink:href=\"#LiberationSans-36\"/>\n       <use x=\"111.230469\" xlink:href=\"#LiberationSans-30\"/>\n       <use x=\"166.845703\" xlink:href=\"#LiberationSans-30\"/>\n       <use x=\"222.460938\" xlink:href=\"#LiberationSans-30\"/>\n      </g>\n     </g>\n    </g>\n   </g>\n   <g id=\"line2d_20\">\n    <path clip-path=\"url(#p7329460eb8)\" d=\"M 53.722869 214.756364 \nL 69.742008 211.812017 \nL 85.761147 210.145176 \nL 101.780286 205.558322 \nL 117.799424 205.473155 \nL 133.818563 199.085626 \nL 149.837702 193.403767 \nL 165.856841 198.525957 \nL 181.875979 191.262424 \nL 197.895118 194.352771 \nL 213.914257 188.488412 \nL 229.933396 174.618349 \nL 245.952534 172.975841 \nL 261.971673 173.742345 \nL 277.990812 176.273023 \nL 294.009951 160.88212 \nL 310.029089 133.60433 \nL 326.048228 191.94376 \nL 342.067367 17.083636 \nL 358.086506 89.36613 \n\" style=\"fill:none;stroke:#1f77b4;stroke-linecap:round;stroke-width:1.5;\"/>\n   </g>\n   <g id=\"patch_3\">\n    <path d=\"M 38.504688 224.64 \nL 38.504688 7.2 \n\" style=\"fill:none;\"/>\n   </g>\n   <g id=\"patch_4\">\n    <path d=\"M 373.304688 224.64 \nL 373.304688 7.2 \n\" style=\"fill:none;\"/>\n   </g>\n   <g id=\"patch_5\">\n    <path d=\"M 38.504688 224.64 \nL 373.304688 224.64 \n\" style=\"fill:none;\"/>\n   </g>\n   <g id=\"patch_6\">\n    <path d=\"M 38.504688 7.2 \nL 373.304688 7.2 \n\" style=\"fill:none;\"/>\n   </g>\n  </g>\n </g>\n <defs>\n  <clipPath id=\"p7329460eb8\">\n   <rect height=\"217.44\" width=\"334.8\" x=\"38.504688\" y=\"7.2\"/>\n  </clipPath>\n </defs>\n</svg>\n",
      "text/plain": "<matplotlib.figure.Figure at 0x7f869837bb10>"
     },
     "metadata": {},
     "output_type": "display_data"
    }
   ],
   "source": [
    "plt.plot(GlobalTotals.iloc[-20:]['Daily New Cases'])"
   ]
  },
  {
   "cell_type": "code",
   "execution_count": null,
   "metadata": {},
   "outputs": [],
   "source": [
    "var_range = np.arange(0.0,0.6,0.1)\n",
    "var_range"
   ]
  },
  {
   "cell_type": "code",
   "execution_count": 32,
   "metadata": {},
   "outputs": [
    {
     "ename": "NameError",
     "evalue": "name 'var_range' is not defined",
     "output_type": "error",
     "traceback": [
      "\u001b[0;31m---------------------------------------------------------------------------\u001b[0m",
      "\u001b[0;31mNameError\u001b[0m                                 Traceback (most recent call last)",
      "\u001b[0;32m<ipython-input-32-d26aaef3d546>\u001b[0m in \u001b[0;36m<module>\u001b[0;34m\u001b[0m\n\u001b[1;32m      9\u001b[0m \u001b[0mvar_params\u001b[0m \u001b[0;34m=\u001b[0m \u001b[0;34m[\u001b[0m\u001b[0;34m]\u001b[0m\u001b[0;34m\u001b[0m\u001b[0;34m\u001b[0m\u001b[0m\n\u001b[1;32m     10\u001b[0m \u001b[0mvar_dict\u001b[0m \u001b[0;34m=\u001b[0m \u001b[0;34m{\u001b[0m\u001b[0;34m}\u001b[0m\u001b[0;34m\u001b[0m\u001b[0;34m\u001b[0m\u001b[0m\n\u001b[0;32m---> 11\u001b[0;31m \u001b[0;32mfor\u001b[0m \u001b[0mvariance\u001b[0m \u001b[0;32min\u001b[0m \u001b[0mvar_range\u001b[0m\u001b[0;34m:\u001b[0m\u001b[0;34m\u001b[0m\u001b[0;34m\u001b[0m\u001b[0m\n\u001b[0m\u001b[1;32m     12\u001b[0m     \u001b[0my\u001b[0m \u001b[0;34m=\u001b[0m \u001b[0my_data\u001b[0m\u001b[0;34m.\u001b[0m\u001b[0mcopy\u001b[0m\u001b[0;34m(\u001b[0m\u001b[0;34m)\u001b[0m\u001b[0;34m\u001b[0m\u001b[0;34m\u001b[0m\u001b[0m\n\u001b[1;32m     13\u001b[0m     \u001b[0;31m#y[-1] = y[-1] * (1 + variance)\u001b[0m\u001b[0;34m\u001b[0m\u001b[0;34m\u001b[0m\u001b[0;34m\u001b[0m\u001b[0m\n",
      "\u001b[0;31mNameError\u001b[0m: name 'var_range' is not defined"
     ]
    }
   ],
   "source": [
    "df = TotalCasesLocaggregated.set_index('Date')\n",
    "y_data = df['Total Confirmed Cases'].values\n",
    "daily_new_cases = GlobalTotals.iloc[-1]['Daily New Cases']\n",
    "\n",
    "def logistic(x, a, b, c):\n",
    "     y = c / (1 + np.exp(-b*(x-a)))\n",
    "     return y\n",
    "\n",
    "var_params = []\n",
    "var_dict = {}\n",
    "for variance in var_range:\n",
    "    y = y_data.copy()\n",
    "    #y[-1] = y[-1] * (1 + variance)\n",
    "    y = np.append(y, y[-1] + daily_new_cases * (1 + variance))\n",
    "    x = np.array(range(len(y)))\n",
    "    params, params_covariance = optimize.curve_fit(logistic, x, y, p0=[50, 0.1, 1000000])\n",
    "    var_dict[variance] = params\n",
    "    var_params.append(params)\n",
    "    print(params)"
   ]
  },
  {
   "cell_type": "code",
   "execution_count": null,
   "metadata": {},
   "outputs": [],
   "source": [
    "rg = np.array(range(60))\n",
    "dr1 = pd.date_range(df.index[0], periods=60)\n",
    "dr2 = pd.date_range(df.index[0], periods=len(df.index))\n",
    "for variance in var_dict.keys():\n",
    "    fit_params = var_dict[variance]\n",
    "    plt.plot(dr1, logistic(rg, *fit_params), label='Variance: {}'.format(round(variance, 3)))\n",
    "plt.scatter(dr2, y_data, label='Confirmed Cases')\n",
    "plt.legend(loc='best')\n",
    "plt.title('Covid-19 Confirmed Cases (without PRC)')\n",
    "plt.xlim(left=df.index[30])"
   ]
  },
  {
   "cell_type": "code",
   "execution_count": null,
   "metadata": {},
   "outputs": [],
   "source": [
    "rg = np.array(range(100))\n",
    "dr1 = pd.date_range(df.index[0], periods=100)\n",
    "dr2 = pd.date_range(df.index[0], periods=len(df.index))\n",
    "plt.scatter(dr2, y_data, label='Confirmed Cases')\n",
    "for variance in var_dict.keys():\n",
    "    fit_params = var_dict[variance]\n",
    "    plt.plot(dr1, logistic(rg, *fit_params), label='Variance: {}'.format(round(variance, 2)))\n",
    "plt.legend(loc='best')\n",
    "plt.title('Covid-19 Confirmed Cases (without PRC)')"
   ]
  },
  {
   "cell_type": "code",
   "execution_count": null,
   "metadata": {},
   "outputs": [],
   "source": [
    "scenarios = [1, 2, 5, 10]"
   ]
  },
  {
   "cell_type": "code",
   "execution_count": null,
   "metadata": {},
   "outputs": [],
   "source": [
    "df = TotalCasesLocaggregated.set_index('Date')\n",
    "x_data = np.array(range(len(df.index)))\n",
    "y_data = df['Total Confirmed Cases'].values\n",
    "\n",
    "def logistic(x, a, b, c):\n",
    "     y = c / (1 + np.exp(-b*(x-a)))\n",
    "     return y\n",
    "\n",
    "var_params = []\n",
    "var_dict = {}\n",
    "for scen in scenarios:\n",
    "    y = y_data.copy() * scen\n",
    "    params, params_covariance = optimize.curve_fit(logistic, x_data, y, p0=[100, 0.1, 400000])\n",
    "    var_dict[scen] = params\n",
    "    var_params.append(params)\n",
    "    print(params)"
   ]
  },
  {
   "cell_type": "code",
   "execution_count": null,
   "metadata": {},
   "outputs": [],
   "source": [
    "rg = np.array(range(100))\n",
    "dr1 = pd.date_range(df.index[0], periods=100)\n",
    "dr2 = pd.date_range(df.index[0], periods=len(df.index))\n",
    "#plt.scatter(dr2, y_data, label='Confirmed Cases')\n",
    "for variance in var_dict.keys():\n",
    "    fit_params = var_dict[variance]\n",
    "    plt.plot(dr1, logistic(rg, *fit_params), label='Multiplicator: {}'.format(round(variance, 2)))\n",
    "plt.legend(loc='best')\n",
    "plt.title('Covid-19 Model Infections (without PRC)')"
   ]
  },
  {
   "cell_type": "code",
   "execution_count": null,
   "metadata": {},
   "outputs": [],
   "source": [
    "rg = np.array(range(100))\n",
    "dr1 = pd.date_range(df.index[0], periods=100)\n",
    "dr2 = pd.date_range(df.index[0], periods=len(df.index))\n",
    "plt.scatter(dr2, y_data*10, label='Confirmed Cases x 10')\n",
    "fit_params = var_dict[10]\n",
    "plt.plot(dr1, logistic(rg, *fit_params), label='Fitted Function')\n",
    "plt.legend(loc='best')\n",
    "plt.title('Covid-19 Model Infections (without PRC)')"
   ]
  },
  {
   "cell_type": "code",
   "execution_count": null,
   "metadata": {},
   "outputs": [],
   "source": []
  }
 ],
 "metadata": {
  "kernelspec": {
   "display_name": "Python 3",
   "language": "python",
   "name": "python3"
  },
  "language_info": {
   "codemirror_mode": {
    "name": "ipython",
    "version": 3
   },
   "file_extension": ".py",
   "mimetype": "text/x-python",
   "name": "python",
   "nbconvert_exporter": "python",
   "pygments_lexer": "ipython3",
   "version": "3.7.5-final"
  }
 },
 "nbformat": 4,
 "nbformat_minor": 2
}